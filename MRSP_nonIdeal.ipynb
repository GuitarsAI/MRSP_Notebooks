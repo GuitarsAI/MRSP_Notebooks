{
 "cells": [
  {
   "cell_type": "markdown",
   "metadata": {
    "slideshow": {
     "slide_type": "slide"
    }
   },
   "source": [
    "<center>\n",
    "    <img src=\"./images/msp_header.png\">\n",
    "</center>\n",
    "\n",
    "#### Prof. Dr. -Ing. Gerald Schuller <br> Jupyter Notebook: Renato Profeta"
   ]
  },
  {
   "cell_type": "markdown",
   "metadata": {
    "slideshow": {
     "slide_type": "-"
    }
   },
   "source": [
    "# Non-Ideal Filters"
   ]
  },
  {
   "cell_type": "code",
   "execution_count": 1,
   "metadata": {
    "hide_input": true
   },
   "outputs": [
    {
     "data": {
      "text/html": [
       "<center>\n",
       "<iframe width=\"560\" height=\"315\" src=\"https://www.youtube.com/embed/wdFrdt3m0BU\" frameborder=\"0\" allow=\"accelerometer; encrypted-media; gyroscope; picture-in-picture\" allowfullscreen></iframe>\n",
       "</center>\n"
      ],
      "text/plain": [
       "<IPython.core.display.HTML object>"
      ]
     },
     "metadata": {},
     "output_type": "display_data"
    }
   ],
   "source": [
    "%%html\n",
    "<center>\n",
    "<iframe width=\"560\" height=\"315\" src=\"https://www.youtube.com/embed/wdFrdt3m0BU\" frameborder=\"0\" allow=\"accelerometer; encrypted-media; gyroscope; picture-in-picture\" allowfullscreen></iframe>\n",
    "</center>"
   ]
  },
  {
   "cell_type": "markdown",
   "metadata": {},
   "source": [
    "We saw that we can get perfect reconstruction in a filter bank, using ideal filters (ideally we remove all aliasing components). But in practice, we don't have ideal filters, they are not realizable, because their impulse response stretches from minus infinity to infinity.\n",
    "\n",
    "How can we obtain **perfect reconstruction** using realizable **non-ideal filters**, and still \"**critical sampling**\" (meaning the down sampling rate N is equal to the number of sub bands, as in the case of ideal filters)? Let's first take a look at the resulting spectrum when we use non-ideal filters. We start with the spectrum at the output of a non-ideal high-pass,\n",
    "\n",
    "<center>\n",
    "    <img src=\"./images/Lecture9-1.png\" width=600>\n",
    "</center>"
   ]
  },
  {
   "cell_type": "code",
   "execution_count": 2,
   "metadata": {
    "hide_input": true
   },
   "outputs": [
    {
     "data": {
      "text/html": [
       "<center>\n",
       "<iframe width=\"560\" height=\"315\" src=\"https://www.youtube.com/embed/0E0vttSUhDU\" frameborder=\"0\" allow=\"accelerometer; encrypted-media; gyroscope; picture-in-picture\" allowfullscreen></iframe>\n",
       "</center>\n"
      ],
      "text/plain": [
       "<IPython.core.display.HTML object>"
      ]
     },
     "metadata": {},
     "output_type": "display_data"
    }
   ],
   "source": [
    "%%html\n",
    "<center>\n",
    "<iframe width=\"560\" height=\"315\" src=\"https://www.youtube.com/embed/0E0vttSUhDU\" frameborder=\"0\" allow=\"accelerometer; encrypted-media; gyroscope; picture-in-picture\" allowfullscreen></iframe>\n",
    "</center>"
   ]
  },
  {
   "cell_type": "markdown",
   "metadata": {
    "hide_input": true
   },
   "source": [
    "Observe that the slope at $\\dfrac{\\pi}{2}$ and $\\dfrac{-\\pi}{2}$ is not infinite, but we get a more or less slow transition into higher attenuation towards lower frequencies. Hence we also get frequencies below $\\dfrac{\\pi}{2}$ (or above $\\dfrac{-\\pi}{2}$) in our signal. This will become a problem after downsampling by a factor of 2 (for now just the multiplication with the delta impulse train), as can be seen in the next pictures. Remember that for the multiplication with the delta train we get aliasing components at frequency shifts of $\\dfrac{2\\pi}{N}$, hence in this case $\\pi$,\n",
    "\n",
    "<center>\n",
    "    <img src=\"./images/Lecture9-2.png\" width=600>\n",
    "</center>\n",
    "\n",
    "Observe, even if we now used ideal filters for the synthesis for the high-pass part, we would still have the **overlapped aliasing component**, and hence no perfect reconstruction."
   ]
  },
  {
   "cell_type": "markdown",
   "metadata": {
    "hide_input": true,
    "slideshow": {
     "slide_type": "slide"
    }
   },
   "source": [
    "## Filter Banks"
   ]
  },
  {
   "cell_type": "code",
   "execution_count": 3,
   "metadata": {
    "hide_input": true
   },
   "outputs": [
    {
     "data": {
      "text/html": [
       "<center>\n",
       "<iframe width=\"560\" height=\"315\" src=\"https://www.youtube.com/embed/OON4olsZxbk\" frameborder=\"0\" allow=\"accelerometer; encrypted-media; gyroscope; picture-in-picture\" allowfullscreen></iframe>\n",
       "</center>\n"
      ],
      "text/plain": [
       "<IPython.core.display.HTML object>"
      ]
     },
     "metadata": {},
     "output_type": "display_data"
    }
   ],
   "source": [
    "%%html\n",
    "<center>\n",
    "<iframe width=\"560\" height=\"315\" src=\"https://www.youtube.com/embed/OON4olsZxbk\" frameborder=\"0\" allow=\"accelerometer; encrypted-media; gyroscope; picture-in-picture\" allowfullscreen></iframe>\n",
    "</center>"
   ]
  },
  {
   "cell_type": "markdown",
   "metadata": {
    "hide_input": true,
    "slideshow": {
     "slide_type": "-"
    }
   },
   "source": [
    "Filter banks consist of a bank of subbband filters which cover the entire frequency band of our signal, followed by downsampling in the analysis filter bank, and preceded by upsampling in the synthesis filter bank. This can be seen in the following pictures,\n",
    "\n",
    "<center>\n",
    "    <img src=\"./images/Lecture9-3.png\" width=600>\n",
    "</center>\n",
    "\n",
    "<center>\n",
    "    <img src=\"./images/Lecture9-4.png\" width=600>\n",
    "</center>\n",
    "\n",
    "In the picture, $x(n)$ is the input signal (for instance our audio signal), $y_k(m)$ are the downsampled subband signals (with k the subband index and m the index at the lower sampling rate), and $\\hat{x}(n)$ is the reconstructed signal.\n",
    "\n",
    "As described in lecture 2, $\\downarrow N$ Symbolizes downsampling by a factor of N (including removal of the zeros). If $x(n)$ is the signal we downsample, then we also write the downsampled signal as\n",
    "\n",
    "$$\\large\n",
    "x^{\\downarrow N}_{n_0}(m) :=x( mN+n_0 )\n",
    "$$\n",
    "\n",
    "where $n_0$ is the index of the first sample we keep in the downsampling, or the “**phase**”, with $0\\leq n_0\\leq N-1$.\n",
    "\n",
    "$\\uparrow N$symbolizes upsampling by a factor of N, including insertion of the zeros. If $y(m)$ is the signal we upsample, then we also write the upsampled signal as\n",
    "\n",
    "$$\\large\n",
    "y^{ \\uparrow N }_{ n_0 }(n) = \\begin{cases}\n",
    "        \\begin{split}\n",
    "            y(m),          & n=mN+n_0 \\\\\n",
    "              0, & else \\\\\n",
    "         \\end{split}\n",
    "    \\end{cases}\n",
    "$$\n",
    "\n",
    "where $n_0$ is the index of the first non-zero sample in the upsampled signal, or the phase, with\n",
    "$0\\leq n_0 \\leq N-1$."
   ]
  },
  {
   "cell_type": "markdown",
   "metadata": {
    "hide_input": false,
    "slideshow": {
     "slide_type": "-"
    }
   },
   "source": [
    "So the only hope we have to **obtain perfect reconstruction** with non-ideal filters (and still critical sampling) in filter banks, is that somehow the aliasing from different subbands cancels out during the synthesis process, when we add up all the subbands (if we add e.g. the low pass signal and the high pass signal for the reconstruction); or in other words, we would like the sum of all aliasing components at the output of the synthesis filters to become zero. The question now is: how do we obtain this goal?"
   ]
  },
  {
   "cell_type": "code",
   "execution_count": 4,
   "metadata": {
    "hide_input": true
   },
   "outputs": [
    {
     "data": {
      "text/html": [
       "<center>\n",
       "<iframe width=\"560\" height=\"315\" src=\"https://www.youtube.com/embed/q-H7xff6fcI\" frameborder=\"0\" allow=\"accelerometer; encrypted-media; gyroscope; picture-in-picture\" allowfullscreen></iframe>\n",
       "</center>\n"
      ],
      "text/plain": [
       "<IPython.core.display.HTML object>"
      ]
     },
     "metadata": {},
     "output_type": "display_data"
    }
   ],
   "source": [
    "%%html\n",
    "<center>\n",
    "<iframe width=\"560\" height=\"315\" src=\"https://www.youtube.com/embed/q-H7xff6fcI\" frameborder=\"0\" allow=\"accelerometer; encrypted-media; gyroscope; picture-in-picture\" allowfullscreen></iframe>\n",
    "</center>"
   ]
  },
  {
   "cell_type": "markdown",
   "metadata": {
    "slideshow": {
     "slide_type": "-"
    }
   },
   "source": [
    "We could now analyse all the aliasing components, to find out when they cancel each other. This is how researchers actually approached this problem first, for instance in the first derivation of the so-called Time-Domain Aliasing Cancellation (TDAC) filter banks by Princen and Bradley <cite>( J. P. Princen, A. W. Johnson und A. B. Bradley: Subband/transform coding using filter bank designs based on time domain aliasing cancellation, IEEE Proc. Intl. Conference on Acoustics, Speech, and Signal Processing (ICASSP))</cite>,\n",
    "\n",
    "or using the aliasing component matrices by Vetterli et al.\n",
    "But it turned out that a simpler mathematical approach is possible by just using the goal of overall perfect reconstruction of our filter bank, regardless of all aliasing components. This is now the goal of the following derivation. Here we need to analyse in more detail what happens in the filtering and downsampling process in our filter bank.\n",
    "\n",
    "To come to a solution, we need to **apply the z-transform** to our filter bank with non-ideal filters. "
   ]
  },
  {
   "cell_type": "markdown",
   "metadata": {
    "slideshow": {
     "slide_type": "slide"
    }
   },
   "source": [
    "### Analysis Filter Bank"
   ]
  },
  {
   "cell_type": "code",
   "execution_count": 5,
   "metadata": {
    "hide_input": true
   },
   "outputs": [
    {
     "data": {
      "text/html": [
       "<center>\n",
       "<iframe width=\"560\" height=\"315\" src=\"https://www.youtube.com/embed/j90eowFD2l4\" frameborder=\"0\" allow=\"accelerometer; encrypted-media; gyroscope; picture-in-picture\" allowfullscreen></iframe>\n",
       "</center>\n"
      ],
      "text/plain": [
       "<IPython.core.display.HTML object>"
      ]
     },
     "metadata": {},
     "output_type": "display_data"
    }
   ],
   "source": [
    "%%html\n",
    "<center>\n",
    "<iframe width=\"560\" height=\"315\" src=\"https://www.youtube.com/embed/j90eowFD2l4\" frameborder=\"0\" allow=\"accelerometer; encrypted-media; gyroscope; picture-in-picture\" allowfullscreen></iframe>\n",
    "</center>"
   ]
  },
  {
   "cell_type": "markdown",
   "metadata": {
    "hide_input": true,
    "slideshow": {
     "slide_type": "-"
    }
   },
   "source": [
    "<center>\n",
    "    <img src=\"./images/Lecture9-5.png\" width=600>\n",
    "</center>\n",
    "\n",
    "Just the filtering can be written with the convolution equation,\n",
    "\n",
    "$$\\large\n",
    "y(n')= \\sum _{n=0} ^ {L-1} x(n'-n) h_k(n)\n",
    "$$\n",
    "\n",
    "The filtering and subsequent **downsampling** by N of the k'th analysis filter $h_k(n)$ of impulse response length L can be written as a downsampled convolution sum with phase offset $n_0$, simply with the substitution $mN+n_0 \\rightarrow n'$ (and have the new argument $m$ of y)\n",
    "          $y^{\\downarrow N}_{n_0}(m)= \\sum _ {n=0 }^ {L-1} x(mN+n_0-n) h_k(n)$ (2)\n",
    "          \n",
    "          \n",
    "(see also lecture 1) where m is again the downsampled index (at the lower sampling rate). $n_0$ Is our **phase index** for the downsampling. Often we assume $n_0=0$, which means we start downsampling at the first sample (keeping the first sample). \n",
    "\n",
    "In this way the sum only computes the values which the donwsampler keeps. The downsampling in this equation is now the hurdle to simply applying the z-transform to turn the convolution into a multiplication, for easy invertibility. "
   ]
  },
  {
   "cell_type": "markdown",
   "metadata": {
    "slideshow": {
     "slide_type": "slide"
    }
   },
   "source": [
    "### Block Transforms"
   ]
  },
  {
   "cell_type": "markdown",
   "metadata": {
    "slideshow": {
     "slide_type": "-"
    }
   },
   "source": [
    "To look for a solution for invertibility, perfect reconstruction and alias cancellation, we now take a detour to fast implementations, using transforms, like the **DFT** and its fast implementation, the FFT. This is also the approached used by the Short Time Fourier Transform (**STFT**). If we **divide our signal** into **blocks** of length N, \n",
    "\n",
    "$$\\large\n",
    "\\boldsymbol x (m)=[x(mN),x(mN+1), ..., x(mN+N-1)]\n",
    "$$\n",
    "\n",
    "$$\\large\n",
    "=[ x^{\\downarrow N}_{0}(m),...,x^{\\downarrow N}_{N-1}(m) ]\n",
    "$$\n",
    "\n",
    "where m is the block index or index at the lower sampling rate. You can imagine the signal as a long horizontal sequence of samples, which we subdivide into small blocks of length N. We then stack those blocks on top of each other. Then going vertically down, we obtain downsampled versions of our signal at different phase lags,\n",
    "\n",
    "<center>\n",
    "    <img src=\"./images/Lecture9-6.png\" width=500>\n",
    "</center>\n",
    "\n",
    "The DFT computes a block with N frequency or subband values for each **signal block** $\\boldsymbol{x}(m)$.\n",
    "\n",
    "If $\\boldsymbol{T}$ is the DFT transform matrix, then the DFT of each signal block is\n",
    "\n",
    "$$\\large\n",
    "\\boldsymbol y(m)=\\boldsymbol x(m)\\cdot \\boldsymbol T$$\n",
    "\n",
    "where $\\boldsymbol y(m)$ contains the DFT coefficients,\n",
    "\n",
    "$$\\large\n",
    "\\boldsymbol y (m) :=[y_0(m), y_1(m),...,y_{N-1}(m)]\n",
    "$$\n",
    "\n",
    "Here, $y_k$(m) is the $k$'th DFT coefficient for block $m$. Hence index $k$ denotes the subband or frequency, and index $m$ is the block index or time at the lower sampling rate.\n",
    "\n",
    "Hence, if we keep $k$ fixed we obtain a time signal, for the $k'th$ subband. If we keep m fixed, we obtain a spectrum for block m.\n",
    "\n",
    "That is why this is also called a “time/frequency” representation, since we have both, time (m)  and frequency (k) indices in it.\n",
    "\n",
    "This shows that the DFT is simply a special case of an analsys filter bank with critical sampling (and perfect reconstruction through the inverse DFT)."
   ]
  },
  {
   "cell_type": "markdown",
   "metadata": {
    "slideshow": {
     "slide_type": "slide"
    }
   },
   "source": [
    "#### Python Example:"
   ]
  },
  {
   "cell_type": "code",
   "execution_count": 6,
   "metadata": {
    "hide_input": true
   },
   "outputs": [
    {
     "data": {
      "text/html": [
       "<center>\n",
       "<iframe width=\"560\" height=\"315\" src=\"https://www.youtube.com/embed/A4Ik_Io2JrA\" frameborder=\"0\" allow=\"accelerometer; encrypted-media; gyroscope; picture-in-picture\" allowfullscreen></iframe>\n",
       "</center>\n"
      ],
      "text/plain": [
       "<IPython.core.display.HTML object>"
      ]
     },
     "metadata": {},
     "output_type": "display_data"
    }
   ],
   "source": [
    "%%html\n",
    "<center>\n",
    "<iframe width=\"560\" height=\"315\" src=\"https://www.youtube.com/embed/A4Ik_Io2JrA\" frameborder=\"0\" allow=\"accelerometer; encrypted-media; gyroscope; picture-in-picture\" allowfullscreen></iframe>\n",
    "</center>"
   ]
  },
  {
   "cell_type": "code",
   "execution_count": 7,
   "metadata": {
    "slideshow": {
     "slide_type": "-"
    }
   },
   "outputs": [],
   "source": [
    "# Imports and Configuration\n",
    "\n",
    "%matplotlib notebook\n",
    "import pyaudio\n",
    "import numpy as np\n",
    "import scipy.signal as signal\n",
    "import struct\n",
    "import matplotlib.pyplot as plt\n",
    "from matplotlib.mlab import window_hanning,specgram\n",
    "from matplotlib.colors import LogNorm\n",
    "from matplotlib.ticker import FuncFormatter, MultipleLocator\n",
    "from ipywidgets import ToggleButton, Checkbox, Button\n",
    "from ipywidgets import HBox, interact\n",
    "import threading"
   ]
  },
  {
   "cell_type": "code",
   "execution_count": 8,
   "metadata": {
    "slideshow": {
     "slide_type": "-"
    }
   },
   "outputs": [],
   "source": [
    "# Parameters\n",
    "CHUNK_SIZE = 2048 #Blocksize\n",
    "CHANNELS = 1 # Audio Channes\n",
    "RATE = 32000  #Sampling Rate in Hz\n",
    "N=8.0     #Downsampling/Upsampling Rate\n",
    "FORMAT = pyaudio.paInt16 #conversion format for PyAudio stream\n",
    "NFFT = 1024 #NFFT value for spectrogram\n",
    "OVERLAP = 512 #overlap value for spectrogram"
   ]
  },
  {
   "cell_type": "code",
   "execution_count": 9,
   "metadata": {
    "slideshow": {
     "slide_type": "-"
    }
   },
   "outputs": [],
   "source": [
    "# LP Filter\n",
    "[b,a]=signal.iirfilter(8, 1900.0/16000,rp=60,btype='lowpass')\n",
    "#Memory for the filter:\n",
    "zd=np.zeros(8)\n",
    "zu=np.zeros(8)\n",
    "LPFilterOn=False\n",
    "\n",
    "# LP Filter Frequency Response\n",
    "w, h = signal.freqz(b,a)\n",
    "f = w*16000/(np.pi)"
   ]
  },
  {
   "cell_type": "code",
   "execution_count": 10,
   "metadata": {
    "slideshow": {
     "slide_type": "-"
    }
   },
   "outputs": [],
   "source": [
    "# Function to Plot Spetrogram\n",
    "SamplingOn=False # Turn Donwsampling/Upsampling On/Off\n",
    "ctr=0 # Control for plotting\n",
    "def run_spectrogram(toggle_run):\n",
    "    global zd, zu, ctr, SamplingOn, LPFilterOn\n",
    "    while(True):\n",
    "        if toggle_run.value==True:\n",
    "            break\n",
    "            \n",
    "        #Reading from audio input stream into data with block length \"CHUNK\":\n",
    "        data_stream = stream.read(CHUNK_SIZE)\n",
    "        shorts = (struct.unpack( 'h' * CHUNK_SIZE, data_stream ));\n",
    "        samples=np.array(list(shorts),dtype=float);\n",
    "\n",
    "        #start block-wise signal processing:\n",
    "        #Low pass filter *before downsampling*:\n",
    "        if LPFilterOn==True:\n",
    "            [samples,zd]=signal.lfilter(b, a, samples, zi=zd)\n",
    "\n",
    "        #Compute a block/an array of a unit pulse train corresponding a downsampling rate of N:\n",
    "        #make unit pulse train with modulus function \"%\": \n",
    "        s=(np.arange(0,CHUNK_SIZE)%N)==0\n",
    "        #The sampling:\n",
    "        #multiply the signal with the unit pulse train:\n",
    "        if SamplingOn == True:\n",
    "            samples=samples*s;\n",
    "\n",
    "\n",
    "        #Lowpass filtering *after upsampling*:\n",
    "        #filter function:\n",
    "        if LPFilterOn==True:\n",
    "            [samples,zu]=signal.lfilter(b, a, samples, zi=zu)\n",
    "\n",
    "        #end signal processing\n",
    "\n",
    "        #play out samples:\n",
    "        samples=np.clip(samples, -32000,32000)\n",
    "        samples=samples.astype(int)\n",
    "        #converting from short integers to a stream of bytes in \"data\":\n",
    "        data=struct.pack('h' * len(samples), *samples);\n",
    "        #Writing data back to audio output stream: \n",
    "        stream.write(data, CHUNK_SIZE)\n",
    "\n",
    "        # Update Plot\n",
    "        if (ctr%4 ==0):\n",
    "            arr2D,freqs,bins = specgram(samples,window=window_hanning,\n",
    "                                        Fs = RATE,NFFT=NFFT,noverlap=OVERLAP)\n",
    "            im_data = im.get_array()\n",
    "            if ctr < 16:\n",
    "                im_data = np.hstack((im_data,arr2D))\n",
    "                im.set_array(im_data)\n",
    "            else:\n",
    "                keep_block = arr2D.shape[1]*(16 - 1)\n",
    "                im_data = np.delete(im_data,np.s_[:-keep_block],1)\n",
    "                im_data = np.hstack((im_data,arr2D))\n",
    "                im.set_array(im_data)\n",
    "            fig.canvas.draw()\n",
    "        ctr+=1"
   ]
  },
  {
   "cell_type": "code",
   "execution_count": 11,
   "metadata": {
    "slideshow": {
     "slide_type": "-"
    }
   },
   "outputs": [],
   "source": [
    "# GUI\n",
    "toggle_run = ToggleButton(description='Stop')\n",
    "button_start= Button(description='Start')\n",
    "box_sampling = Checkbox(False, description='Downsampling/Upsampling')\n",
    "box_LPFilter = Checkbox(False, description='LP Filters')\n",
    "\n",
    "def start_button(button_start):\n",
    "    thread.start()\n",
    "    button_start.disabled=True\n",
    "button_start.on_click(start_button)\n",
    "\n",
    "\n",
    "def on_click_toggle_run(change):\n",
    "    if change['new']==False:\n",
    "        stream.stop_stream()\n",
    "        stream.close()\n",
    "        p.terminate()\n",
    "        plt.close()\n",
    "toggle_run.observe(on_click_toggle_run, 'value')\n",
    "\n",
    "def box_samping_changed(box_sampling):\n",
    "    global SamplingOn\n",
    "    if box_sampling['new']: \n",
    "        SamplingOn=True\n",
    "    else:\n",
    "        SamplingOn=False       \n",
    "box_sampling.observe(box_samping_changed, names='value')\n",
    "\n",
    "def box_LPFilter_changed(box_LPFilter):\n",
    "    global LPFilterOn\n",
    "    if box_LPFilter['new']: \n",
    "        LPFilterOn=True\n",
    "    else:\n",
    "        LPFilterOn=False       \n",
    "box_LPFilter.observe(box_LPFilter_changed, names='value')\n",
    "\n",
    "box_buttons = HBox([button_start,toggle_run])\n",
    "box_checkbox = HBox([box_sampling,box_LPFilter])"
   ]
  },
  {
   "cell_type": "code",
   "execution_count": 12,
   "metadata": {
    "slideshow": {
     "slide_type": "-"
    }
   },
   "outputs": [],
   "source": [
    "# Create a Thread for run_spectrogram function\n",
    "thread = threading.Thread(target=run_spectrogram, args=(toggle_run,))"
   ]
  },
  {
   "cell_type": "code",
   "execution_count": 13,
   "metadata": {
    "slideshow": {
     "slide_type": "-"
    }
   },
   "outputs": [],
   "source": [
    "# Start Audio Stream\n",
    "# Create \n",
    "p = pyaudio.PyAudio()\n",
    "    \n",
    "stream = p.open(format=FORMAT,\n",
    "                channels=CHANNELS,\n",
    "                rate=RATE,\n",
    "                input=True,\n",
    "                output=True,\n",
    "                frames_per_buffer=CHUNK_SIZE)\n",
    "\n",
    "\n",
    "\n",
    "input_data = stream.read(CHUNK_SIZE)\n",
    "samples = np.frombuffer(input_data,np.int16)"
   ]
  },
  {
   "cell_type": "code",
   "execution_count": 14,
   "metadata": {
    "slideshow": {
     "slide_type": "-"
    }
   },
   "outputs": [
    {
     "data": {
      "application/vnd.jupyter.widget-view+json": {
       "model_id": "658ef67e01de4cb1835b095b74b99c95",
       "version_major": 2,
       "version_minor": 0
      },
      "text/plain": [
       "HBox(children=(Button(description='Start', style=ButtonStyle()), ToggleButton(value=False, description='Stop')…"
      ]
     },
     "metadata": {},
     "output_type": "display_data"
    },
    {
     "data": {
      "application/vnd.jupyter.widget-view+json": {
       "model_id": "99cc854ccc8b4c568a240ec63660c227",
       "version_major": 2,
       "version_minor": 0
      },
      "text/plain": [
       "HBox(children=(Checkbox(value=False, description='Downsampling/Upsampling'), Checkbox(value=False, description…"
      ]
     },
     "metadata": {},
     "output_type": "display_data"
    },
    {
     "data": {
      "application/javascript": [
       "/* Put everything inside the global mpl namespace */\n",
       "window.mpl = {};\n",
       "\n",
       "\n",
       "mpl.get_websocket_type = function() {\n",
       "    if (typeof(WebSocket) !== 'undefined') {\n",
       "        return WebSocket;\n",
       "    } else if (typeof(MozWebSocket) !== 'undefined') {\n",
       "        return MozWebSocket;\n",
       "    } else {\n",
       "        alert('Your browser does not have WebSocket support. ' +\n",
       "              'Please try Chrome, Safari or Firefox ≥ 6. ' +\n",
       "              'Firefox 4 and 5 are also supported but you ' +\n",
       "              'have to enable WebSockets in about:config.');\n",
       "    };\n",
       "}\n",
       "\n",
       "mpl.figure = function(figure_id, websocket, ondownload, parent_element) {\n",
       "    this.id = figure_id;\n",
       "\n",
       "    this.ws = websocket;\n",
       "\n",
       "    this.supports_binary = (this.ws.binaryType != undefined);\n",
       "\n",
       "    if (!this.supports_binary) {\n",
       "        var warnings = document.getElementById(\"mpl-warnings\");\n",
       "        if (warnings) {\n",
       "            warnings.style.display = 'block';\n",
       "            warnings.textContent = (\n",
       "                \"This browser does not support binary websocket messages. \" +\n",
       "                    \"Performance may be slow.\");\n",
       "        }\n",
       "    }\n",
       "\n",
       "    this.imageObj = new Image();\n",
       "\n",
       "    this.context = undefined;\n",
       "    this.message = undefined;\n",
       "    this.canvas = undefined;\n",
       "    this.rubberband_canvas = undefined;\n",
       "    this.rubberband_context = undefined;\n",
       "    this.format_dropdown = undefined;\n",
       "\n",
       "    this.image_mode = 'full';\n",
       "\n",
       "    this.root = $('<div/>');\n",
       "    this._root_extra_style(this.root)\n",
       "    this.root.attr('style', 'display: inline-block');\n",
       "\n",
       "    $(parent_element).append(this.root);\n",
       "\n",
       "    this._init_header(this);\n",
       "    this._init_canvas(this);\n",
       "    this._init_toolbar(this);\n",
       "\n",
       "    var fig = this;\n",
       "\n",
       "    this.waiting = false;\n",
       "\n",
       "    this.ws.onopen =  function () {\n",
       "            fig.send_message(\"supports_binary\", {value: fig.supports_binary});\n",
       "            fig.send_message(\"send_image_mode\", {});\n",
       "            if (mpl.ratio != 1) {\n",
       "                fig.send_message(\"set_dpi_ratio\", {'dpi_ratio': mpl.ratio});\n",
       "            }\n",
       "            fig.send_message(\"refresh\", {});\n",
       "        }\n",
       "\n",
       "    this.imageObj.onload = function() {\n",
       "            if (fig.image_mode == 'full') {\n",
       "                // Full images could contain transparency (where diff images\n",
       "                // almost always do), so we need to clear the canvas so that\n",
       "                // there is no ghosting.\n",
       "                fig.context.clearRect(0, 0, fig.canvas.width, fig.canvas.height);\n",
       "            }\n",
       "            fig.context.drawImage(fig.imageObj, 0, 0);\n",
       "        };\n",
       "\n",
       "    this.imageObj.onunload = function() {\n",
       "        fig.ws.close();\n",
       "    }\n",
       "\n",
       "    this.ws.onmessage = this._make_on_message_function(this);\n",
       "\n",
       "    this.ondownload = ondownload;\n",
       "}\n",
       "\n",
       "mpl.figure.prototype._init_header = function() {\n",
       "    var titlebar = $(\n",
       "        '<div class=\"ui-dialog-titlebar ui-widget-header ui-corner-all ' +\n",
       "        'ui-helper-clearfix\"/>');\n",
       "    var titletext = $(\n",
       "        '<div class=\"ui-dialog-title\" style=\"width: 100%; ' +\n",
       "        'text-align: center; padding: 3px;\"/>');\n",
       "    titlebar.append(titletext)\n",
       "    this.root.append(titlebar);\n",
       "    this.header = titletext[0];\n",
       "}\n",
       "\n",
       "\n",
       "\n",
       "mpl.figure.prototype._canvas_extra_style = function(canvas_div) {\n",
       "\n",
       "}\n",
       "\n",
       "\n",
       "mpl.figure.prototype._root_extra_style = function(canvas_div) {\n",
       "\n",
       "}\n",
       "\n",
       "mpl.figure.prototype._init_canvas = function() {\n",
       "    var fig = this;\n",
       "\n",
       "    var canvas_div = $('<div/>');\n",
       "\n",
       "    canvas_div.attr('style', 'position: relative; clear: both; outline: 0');\n",
       "\n",
       "    function canvas_keyboard_event(event) {\n",
       "        return fig.key_event(event, event['data']);\n",
       "    }\n",
       "\n",
       "    canvas_div.keydown('key_press', canvas_keyboard_event);\n",
       "    canvas_div.keyup('key_release', canvas_keyboard_event);\n",
       "    this.canvas_div = canvas_div\n",
       "    this._canvas_extra_style(canvas_div)\n",
       "    this.root.append(canvas_div);\n",
       "\n",
       "    var canvas = $('<canvas/>');\n",
       "    canvas.addClass('mpl-canvas');\n",
       "    canvas.attr('style', \"left: 0; top: 0; z-index: 0; outline: 0\")\n",
       "\n",
       "    this.canvas = canvas[0];\n",
       "    this.context = canvas[0].getContext(\"2d\");\n",
       "\n",
       "    var backingStore = this.context.backingStorePixelRatio ||\n",
       "\tthis.context.webkitBackingStorePixelRatio ||\n",
       "\tthis.context.mozBackingStorePixelRatio ||\n",
       "\tthis.context.msBackingStorePixelRatio ||\n",
       "\tthis.context.oBackingStorePixelRatio ||\n",
       "\tthis.context.backingStorePixelRatio || 1;\n",
       "\n",
       "    mpl.ratio = (window.devicePixelRatio || 1) / backingStore;\n",
       "\n",
       "    var rubberband = $('<canvas/>');\n",
       "    rubberband.attr('style', \"position: absolute; left: 0; top: 0; z-index: 1;\")\n",
       "\n",
       "    var pass_mouse_events = true;\n",
       "\n",
       "    canvas_div.resizable({\n",
       "        start: function(event, ui) {\n",
       "            pass_mouse_events = false;\n",
       "        },\n",
       "        resize: function(event, ui) {\n",
       "            fig.request_resize(ui.size.width, ui.size.height);\n",
       "        },\n",
       "        stop: function(event, ui) {\n",
       "            pass_mouse_events = true;\n",
       "            fig.request_resize(ui.size.width, ui.size.height);\n",
       "        },\n",
       "    });\n",
       "\n",
       "    function mouse_event_fn(event) {\n",
       "        if (pass_mouse_events)\n",
       "            return fig.mouse_event(event, event['data']);\n",
       "    }\n",
       "\n",
       "    rubberband.mousedown('button_press', mouse_event_fn);\n",
       "    rubberband.mouseup('button_release', mouse_event_fn);\n",
       "    // Throttle sequential mouse events to 1 every 20ms.\n",
       "    rubberband.mousemove('motion_notify', mouse_event_fn);\n",
       "\n",
       "    rubberband.mouseenter('figure_enter', mouse_event_fn);\n",
       "    rubberband.mouseleave('figure_leave', mouse_event_fn);\n",
       "\n",
       "    canvas_div.on(\"wheel\", function (event) {\n",
       "        event = event.originalEvent;\n",
       "        event['data'] = 'scroll'\n",
       "        if (event.deltaY < 0) {\n",
       "            event.step = 1;\n",
       "        } else {\n",
       "            event.step = -1;\n",
       "        }\n",
       "        mouse_event_fn(event);\n",
       "    });\n",
       "\n",
       "    canvas_div.append(canvas);\n",
       "    canvas_div.append(rubberband);\n",
       "\n",
       "    this.rubberband = rubberband;\n",
       "    this.rubberband_canvas = rubberband[0];\n",
       "    this.rubberband_context = rubberband[0].getContext(\"2d\");\n",
       "    this.rubberband_context.strokeStyle = \"#000000\";\n",
       "\n",
       "    this._resize_canvas = function(width, height) {\n",
       "        // Keep the size of the canvas, canvas container, and rubber band\n",
       "        // canvas in synch.\n",
       "        canvas_div.css('width', width)\n",
       "        canvas_div.css('height', height)\n",
       "\n",
       "        canvas.attr('width', width * mpl.ratio);\n",
       "        canvas.attr('height', height * mpl.ratio);\n",
       "        canvas.attr('style', 'width: ' + width + 'px; height: ' + height + 'px;');\n",
       "\n",
       "        rubberband.attr('width', width);\n",
       "        rubberband.attr('height', height);\n",
       "    }\n",
       "\n",
       "    // Set the figure to an initial 600x600px, this will subsequently be updated\n",
       "    // upon first draw.\n",
       "    this._resize_canvas(600, 600);\n",
       "\n",
       "    // Disable right mouse context menu.\n",
       "    $(this.rubberband_canvas).bind(\"contextmenu\",function(e){\n",
       "        return false;\n",
       "    });\n",
       "\n",
       "    function set_focus () {\n",
       "        canvas.focus();\n",
       "        canvas_div.focus();\n",
       "    }\n",
       "\n",
       "    window.setTimeout(set_focus, 100);\n",
       "}\n",
       "\n",
       "mpl.figure.prototype._init_toolbar = function() {\n",
       "    var fig = this;\n",
       "\n",
       "    var nav_element = $('<div/>');\n",
       "    nav_element.attr('style', 'width: 100%');\n",
       "    this.root.append(nav_element);\n",
       "\n",
       "    // Define a callback function for later on.\n",
       "    function toolbar_event(event) {\n",
       "        return fig.toolbar_button_onclick(event['data']);\n",
       "    }\n",
       "    function toolbar_mouse_event(event) {\n",
       "        return fig.toolbar_button_onmouseover(event['data']);\n",
       "    }\n",
       "\n",
       "    for(var toolbar_ind in mpl.toolbar_items) {\n",
       "        var name = mpl.toolbar_items[toolbar_ind][0];\n",
       "        var tooltip = mpl.toolbar_items[toolbar_ind][1];\n",
       "        var image = mpl.toolbar_items[toolbar_ind][2];\n",
       "        var method_name = mpl.toolbar_items[toolbar_ind][3];\n",
       "\n",
       "        if (!name) {\n",
       "            // put a spacer in here.\n",
       "            continue;\n",
       "        }\n",
       "        var button = $('<button/>');\n",
       "        button.addClass('ui-button ui-widget ui-state-default ui-corner-all ' +\n",
       "                        'ui-button-icon-only');\n",
       "        button.attr('role', 'button');\n",
       "        button.attr('aria-disabled', 'false');\n",
       "        button.click(method_name, toolbar_event);\n",
       "        button.mouseover(tooltip, toolbar_mouse_event);\n",
       "\n",
       "        var icon_img = $('<span/>');\n",
       "        icon_img.addClass('ui-button-icon-primary ui-icon');\n",
       "        icon_img.addClass(image);\n",
       "        icon_img.addClass('ui-corner-all');\n",
       "\n",
       "        var tooltip_span = $('<span/>');\n",
       "        tooltip_span.addClass('ui-button-text');\n",
       "        tooltip_span.html(tooltip);\n",
       "\n",
       "        button.append(icon_img);\n",
       "        button.append(tooltip_span);\n",
       "\n",
       "        nav_element.append(button);\n",
       "    }\n",
       "\n",
       "    var fmt_picker_span = $('<span/>');\n",
       "\n",
       "    var fmt_picker = $('<select/>');\n",
       "    fmt_picker.addClass('mpl-toolbar-option ui-widget ui-widget-content');\n",
       "    fmt_picker_span.append(fmt_picker);\n",
       "    nav_element.append(fmt_picker_span);\n",
       "    this.format_dropdown = fmt_picker[0];\n",
       "\n",
       "    for (var ind in mpl.extensions) {\n",
       "        var fmt = mpl.extensions[ind];\n",
       "        var option = $(\n",
       "            '<option/>', {selected: fmt === mpl.default_extension}).html(fmt);\n",
       "        fmt_picker.append(option);\n",
       "    }\n",
       "\n",
       "    // Add hover states to the ui-buttons\n",
       "    $( \".ui-button\" ).hover(\n",
       "        function() { $(this).addClass(\"ui-state-hover\");},\n",
       "        function() { $(this).removeClass(\"ui-state-hover\");}\n",
       "    );\n",
       "\n",
       "    var status_bar = $('<span class=\"mpl-message\"/>');\n",
       "    nav_element.append(status_bar);\n",
       "    this.message = status_bar[0];\n",
       "}\n",
       "\n",
       "mpl.figure.prototype.request_resize = function(x_pixels, y_pixels) {\n",
       "    // Request matplotlib to resize the figure. Matplotlib will then trigger a resize in the client,\n",
       "    // which will in turn request a refresh of the image.\n",
       "    this.send_message('resize', {'width': x_pixels, 'height': y_pixels});\n",
       "}\n",
       "\n",
       "mpl.figure.prototype.send_message = function(type, properties) {\n",
       "    properties['type'] = type;\n",
       "    properties['figure_id'] = this.id;\n",
       "    this.ws.send(JSON.stringify(properties));\n",
       "}\n",
       "\n",
       "mpl.figure.prototype.send_draw_message = function() {\n",
       "    if (!this.waiting) {\n",
       "        this.waiting = true;\n",
       "        this.ws.send(JSON.stringify({type: \"draw\", figure_id: this.id}));\n",
       "    }\n",
       "}\n",
       "\n",
       "\n",
       "mpl.figure.prototype.handle_save = function(fig, msg) {\n",
       "    var format_dropdown = fig.format_dropdown;\n",
       "    var format = format_dropdown.options[format_dropdown.selectedIndex].value;\n",
       "    fig.ondownload(fig, format);\n",
       "}\n",
       "\n",
       "\n",
       "mpl.figure.prototype.handle_resize = function(fig, msg) {\n",
       "    var size = msg['size'];\n",
       "    if (size[0] != fig.canvas.width || size[1] != fig.canvas.height) {\n",
       "        fig._resize_canvas(size[0], size[1]);\n",
       "        fig.send_message(\"refresh\", {});\n",
       "    };\n",
       "}\n",
       "\n",
       "mpl.figure.prototype.handle_rubberband = function(fig, msg) {\n",
       "    var x0 = msg['x0'] / mpl.ratio;\n",
       "    var y0 = (fig.canvas.height - msg['y0']) / mpl.ratio;\n",
       "    var x1 = msg['x1'] / mpl.ratio;\n",
       "    var y1 = (fig.canvas.height - msg['y1']) / mpl.ratio;\n",
       "    x0 = Math.floor(x0) + 0.5;\n",
       "    y0 = Math.floor(y0) + 0.5;\n",
       "    x1 = Math.floor(x1) + 0.5;\n",
       "    y1 = Math.floor(y1) + 0.5;\n",
       "    var min_x = Math.min(x0, x1);\n",
       "    var min_y = Math.min(y0, y1);\n",
       "    var width = Math.abs(x1 - x0);\n",
       "    var height = Math.abs(y1 - y0);\n",
       "\n",
       "    fig.rubberband_context.clearRect(\n",
       "        0, 0, fig.canvas.width / mpl.ratio, fig.canvas.height / mpl.ratio);\n",
       "\n",
       "    fig.rubberband_context.strokeRect(min_x, min_y, width, height);\n",
       "}\n",
       "\n",
       "mpl.figure.prototype.handle_figure_label = function(fig, msg) {\n",
       "    // Updates the figure title.\n",
       "    fig.header.textContent = msg['label'];\n",
       "}\n",
       "\n",
       "mpl.figure.prototype.handle_cursor = function(fig, msg) {\n",
       "    var cursor = msg['cursor'];\n",
       "    switch(cursor)\n",
       "    {\n",
       "    case 0:\n",
       "        cursor = 'pointer';\n",
       "        break;\n",
       "    case 1:\n",
       "        cursor = 'default';\n",
       "        break;\n",
       "    case 2:\n",
       "        cursor = 'crosshair';\n",
       "        break;\n",
       "    case 3:\n",
       "        cursor = 'move';\n",
       "        break;\n",
       "    }\n",
       "    fig.rubberband_canvas.style.cursor = cursor;\n",
       "}\n",
       "\n",
       "mpl.figure.prototype.handle_message = function(fig, msg) {\n",
       "    fig.message.textContent = msg['message'];\n",
       "}\n",
       "\n",
       "mpl.figure.prototype.handle_draw = function(fig, msg) {\n",
       "    // Request the server to send over a new figure.\n",
       "    fig.send_draw_message();\n",
       "}\n",
       "\n",
       "mpl.figure.prototype.handle_image_mode = function(fig, msg) {\n",
       "    fig.image_mode = msg['mode'];\n",
       "}\n",
       "\n",
       "mpl.figure.prototype.updated_canvas_event = function() {\n",
       "    // Called whenever the canvas gets updated.\n",
       "    this.send_message(\"ack\", {});\n",
       "}\n",
       "\n",
       "// A function to construct a web socket function for onmessage handling.\n",
       "// Called in the figure constructor.\n",
       "mpl.figure.prototype._make_on_message_function = function(fig) {\n",
       "    return function socket_on_message(evt) {\n",
       "        if (evt.data instanceof Blob) {\n",
       "            /* FIXME: We get \"Resource interpreted as Image but\n",
       "             * transferred with MIME type text/plain:\" errors on\n",
       "             * Chrome.  But how to set the MIME type?  It doesn't seem\n",
       "             * to be part of the websocket stream */\n",
       "            evt.data.type = \"image/png\";\n",
       "\n",
       "            /* Free the memory for the previous frames */\n",
       "            if (fig.imageObj.src) {\n",
       "                (window.URL || window.webkitURL).revokeObjectURL(\n",
       "                    fig.imageObj.src);\n",
       "            }\n",
       "\n",
       "            fig.imageObj.src = (window.URL || window.webkitURL).createObjectURL(\n",
       "                evt.data);\n",
       "            fig.updated_canvas_event();\n",
       "            fig.waiting = false;\n",
       "            return;\n",
       "        }\n",
       "        else if (typeof evt.data === 'string' && evt.data.slice(0, 21) == \"data:image/png;base64\") {\n",
       "            fig.imageObj.src = evt.data;\n",
       "            fig.updated_canvas_event();\n",
       "            fig.waiting = false;\n",
       "            return;\n",
       "        }\n",
       "\n",
       "        var msg = JSON.parse(evt.data);\n",
       "        var msg_type = msg['type'];\n",
       "\n",
       "        // Call the  \"handle_{type}\" callback, which takes\n",
       "        // the figure and JSON message as its only arguments.\n",
       "        try {\n",
       "            var callback = fig[\"handle_\" + msg_type];\n",
       "        } catch (e) {\n",
       "            console.log(\"No handler for the '\" + msg_type + \"' message type: \", msg);\n",
       "            return;\n",
       "        }\n",
       "\n",
       "        if (callback) {\n",
       "            try {\n",
       "                // console.log(\"Handling '\" + msg_type + \"' message: \", msg);\n",
       "                callback(fig, msg);\n",
       "            } catch (e) {\n",
       "                console.log(\"Exception inside the 'handler_\" + msg_type + \"' callback:\", e, e.stack, msg);\n",
       "            }\n",
       "        }\n",
       "    };\n",
       "}\n",
       "\n",
       "// from http://stackoverflow.com/questions/1114465/getting-mouse-location-in-canvas\n",
       "mpl.findpos = function(e) {\n",
       "    //this section is from http://www.quirksmode.org/js/events_properties.html\n",
       "    var targ;\n",
       "    if (!e)\n",
       "        e = window.event;\n",
       "    if (e.target)\n",
       "        targ = e.target;\n",
       "    else if (e.srcElement)\n",
       "        targ = e.srcElement;\n",
       "    if (targ.nodeType == 3) // defeat Safari bug\n",
       "        targ = targ.parentNode;\n",
       "\n",
       "    // jQuery normalizes the pageX and pageY\n",
       "    // pageX,Y are the mouse positions relative to the document\n",
       "    // offset() returns the position of the element relative to the document\n",
       "    var x = e.pageX - $(targ).offset().left;\n",
       "    var y = e.pageY - $(targ).offset().top;\n",
       "\n",
       "    return {\"x\": x, \"y\": y};\n",
       "};\n",
       "\n",
       "/*\n",
       " * return a copy of an object with only non-object keys\n",
       " * we need this to avoid circular references\n",
       " * http://stackoverflow.com/a/24161582/3208463\n",
       " */\n",
       "function simpleKeys (original) {\n",
       "  return Object.keys(original).reduce(function (obj, key) {\n",
       "    if (typeof original[key] !== 'object')\n",
       "        obj[key] = original[key]\n",
       "    return obj;\n",
       "  }, {});\n",
       "}\n",
       "\n",
       "mpl.figure.prototype.mouse_event = function(event, name) {\n",
       "    var canvas_pos = mpl.findpos(event)\n",
       "\n",
       "    if (name === 'button_press')\n",
       "    {\n",
       "        this.canvas.focus();\n",
       "        this.canvas_div.focus();\n",
       "    }\n",
       "\n",
       "    var x = canvas_pos.x * mpl.ratio;\n",
       "    var y = canvas_pos.y * mpl.ratio;\n",
       "\n",
       "    this.send_message(name, {x: x, y: y, button: event.button,\n",
       "                             step: event.step,\n",
       "                             guiEvent: simpleKeys(event)});\n",
       "\n",
       "    /* This prevents the web browser from automatically changing to\n",
       "     * the text insertion cursor when the button is pressed.  We want\n",
       "     * to control all of the cursor setting manually through the\n",
       "     * 'cursor' event from matplotlib */\n",
       "    event.preventDefault();\n",
       "    return false;\n",
       "}\n",
       "\n",
       "mpl.figure.prototype._key_event_extra = function(event, name) {\n",
       "    // Handle any extra behaviour associated with a key event\n",
       "}\n",
       "\n",
       "mpl.figure.prototype.key_event = function(event, name) {\n",
       "\n",
       "    // Prevent repeat events\n",
       "    if (name == 'key_press')\n",
       "    {\n",
       "        if (event.which === this._key)\n",
       "            return;\n",
       "        else\n",
       "            this._key = event.which;\n",
       "    }\n",
       "    if (name == 'key_release')\n",
       "        this._key = null;\n",
       "\n",
       "    var value = '';\n",
       "    if (event.ctrlKey && event.which != 17)\n",
       "        value += \"ctrl+\";\n",
       "    if (event.altKey && event.which != 18)\n",
       "        value += \"alt+\";\n",
       "    if (event.shiftKey && event.which != 16)\n",
       "        value += \"shift+\";\n",
       "\n",
       "    value += 'k';\n",
       "    value += event.which.toString();\n",
       "\n",
       "    this._key_event_extra(event, name);\n",
       "\n",
       "    this.send_message(name, {key: value,\n",
       "                             guiEvent: simpleKeys(event)});\n",
       "    return false;\n",
       "}\n",
       "\n",
       "mpl.figure.prototype.toolbar_button_onclick = function(name) {\n",
       "    if (name == 'download') {\n",
       "        this.handle_save(this, null);\n",
       "    } else {\n",
       "        this.send_message(\"toolbar_button\", {name: name});\n",
       "    }\n",
       "};\n",
       "\n",
       "mpl.figure.prototype.toolbar_button_onmouseover = function(tooltip) {\n",
       "    this.message.textContent = tooltip;\n",
       "};\n",
       "mpl.toolbar_items = [[\"Home\", \"Reset original view\", \"fa fa-home icon-home\", \"home\"], [\"Back\", \"Back to previous view\", \"fa fa-arrow-left icon-arrow-left\", \"back\"], [\"Forward\", \"Forward to next view\", \"fa fa-arrow-right icon-arrow-right\", \"forward\"], [\"\", \"\", \"\", \"\"], [\"Pan\", \"Pan axes with left mouse, zoom with right\", \"fa fa-arrows icon-move\", \"pan\"], [\"Zoom\", \"Zoom to rectangle\", \"fa fa-square-o icon-check-empty\", \"zoom\"], [\"\", \"\", \"\", \"\"], [\"Download\", \"Download plot\", \"fa fa-floppy-o icon-save\", \"download\"]];\n",
       "\n",
       "mpl.extensions = [\"eps\", \"jpeg\", \"pdf\", \"png\", \"ps\", \"raw\", \"svg\", \"tif\"];\n",
       "\n",
       "mpl.default_extension = \"png\";var comm_websocket_adapter = function(comm) {\n",
       "    // Create a \"websocket\"-like object which calls the given IPython comm\n",
       "    // object with the appropriate methods. Currently this is a non binary\n",
       "    // socket, so there is still some room for performance tuning.\n",
       "    var ws = {};\n",
       "\n",
       "    ws.close = function() {\n",
       "        comm.close()\n",
       "    };\n",
       "    ws.send = function(m) {\n",
       "        //console.log('sending', m);\n",
       "        comm.send(m);\n",
       "    };\n",
       "    // Register the callback with on_msg.\n",
       "    comm.on_msg(function(msg) {\n",
       "        //console.log('receiving', msg['content']['data'], msg);\n",
       "        // Pass the mpl event to the overridden (by mpl) onmessage function.\n",
       "        ws.onmessage(msg['content']['data'])\n",
       "    });\n",
       "    return ws;\n",
       "}\n",
       "\n",
       "mpl.mpl_figure_comm = function(comm, msg) {\n",
       "    // This is the function which gets called when the mpl process\n",
       "    // starts-up an IPython Comm through the \"matplotlib\" channel.\n",
       "\n",
       "    var id = msg.content.data.id;\n",
       "    // Get hold of the div created by the display call when the Comm\n",
       "    // socket was opened in Python.\n",
       "    var element = $(\"#\" + id);\n",
       "    var ws_proxy = comm_websocket_adapter(comm)\n",
       "\n",
       "    function ondownload(figure, format) {\n",
       "        window.open(figure.imageObj.src);\n",
       "    }\n",
       "\n",
       "    var fig = new mpl.figure(id, ws_proxy,\n",
       "                           ondownload,\n",
       "                           element.get(0));\n",
       "\n",
       "    // Call onopen now - mpl needs it, as it is assuming we've passed it a real\n",
       "    // web socket which is closed, not our websocket->open comm proxy.\n",
       "    ws_proxy.onopen();\n",
       "\n",
       "    fig.parent_element = element.get(0);\n",
       "    fig.cell_info = mpl.find_output_cell(\"<div id='\" + id + \"'></div>\");\n",
       "    if (!fig.cell_info) {\n",
       "        console.error(\"Failed to find cell for figure\", id, fig);\n",
       "        return;\n",
       "    }\n",
       "\n",
       "    var output_index = fig.cell_info[2]\n",
       "    var cell = fig.cell_info[0];\n",
       "\n",
       "};\n",
       "\n",
       "mpl.figure.prototype.handle_close = function(fig, msg) {\n",
       "    var width = fig.canvas.width/mpl.ratio\n",
       "    fig.root.unbind('remove')\n",
       "\n",
       "    // Update the output cell to use the data from the current canvas.\n",
       "    fig.push_to_output();\n",
       "    var dataURL = fig.canvas.toDataURL();\n",
       "    // Re-enable the keyboard manager in IPython - without this line, in FF,\n",
       "    // the notebook keyboard shortcuts fail.\n",
       "    IPython.keyboard_manager.enable()\n",
       "    $(fig.parent_element).html('<img src=\"' + dataURL + '\" width=\"' + width + '\">');\n",
       "    fig.close_ws(fig, msg);\n",
       "}\n",
       "\n",
       "mpl.figure.prototype.close_ws = function(fig, msg){\n",
       "    fig.send_message('closing', msg);\n",
       "    // fig.ws.close()\n",
       "}\n",
       "\n",
       "mpl.figure.prototype.push_to_output = function(remove_interactive) {\n",
       "    // Turn the data on the canvas into data in the output cell.\n",
       "    var width = this.canvas.width/mpl.ratio\n",
       "    var dataURL = this.canvas.toDataURL();\n",
       "    this.cell_info[1]['text/html'] = '<img src=\"' + dataURL + '\" width=\"' + width + '\">';\n",
       "}\n",
       "\n",
       "mpl.figure.prototype.updated_canvas_event = function() {\n",
       "    // Tell IPython that the notebook contents must change.\n",
       "    IPython.notebook.set_dirty(true);\n",
       "    this.send_message(\"ack\", {});\n",
       "    var fig = this;\n",
       "    // Wait a second, then push the new image to the DOM so\n",
       "    // that it is saved nicely (might be nice to debounce this).\n",
       "    setTimeout(function () { fig.push_to_output() }, 1000);\n",
       "}\n",
       "\n",
       "mpl.figure.prototype._init_toolbar = function() {\n",
       "    var fig = this;\n",
       "\n",
       "    var nav_element = $('<div/>');\n",
       "    nav_element.attr('style', 'width: 100%');\n",
       "    this.root.append(nav_element);\n",
       "\n",
       "    // Define a callback function for later on.\n",
       "    function toolbar_event(event) {\n",
       "        return fig.toolbar_button_onclick(event['data']);\n",
       "    }\n",
       "    function toolbar_mouse_event(event) {\n",
       "        return fig.toolbar_button_onmouseover(event['data']);\n",
       "    }\n",
       "\n",
       "    for(var toolbar_ind in mpl.toolbar_items){\n",
       "        var name = mpl.toolbar_items[toolbar_ind][0];\n",
       "        var tooltip = mpl.toolbar_items[toolbar_ind][1];\n",
       "        var image = mpl.toolbar_items[toolbar_ind][2];\n",
       "        var method_name = mpl.toolbar_items[toolbar_ind][3];\n",
       "\n",
       "        if (!name) { continue; };\n",
       "\n",
       "        var button = $('<button class=\"btn btn-default\" href=\"#\" title=\"' + name + '\"><i class=\"fa ' + image + ' fa-lg\"></i></button>');\n",
       "        button.click(method_name, toolbar_event);\n",
       "        button.mouseover(tooltip, toolbar_mouse_event);\n",
       "        nav_element.append(button);\n",
       "    }\n",
       "\n",
       "    // Add the status bar.\n",
       "    var status_bar = $('<span class=\"mpl-message\" style=\"text-align:right; float: right;\"/>');\n",
       "    nav_element.append(status_bar);\n",
       "    this.message = status_bar[0];\n",
       "\n",
       "    // Add the close button to the window.\n",
       "    var buttongrp = $('<div class=\"btn-group inline pull-right\"></div>');\n",
       "    var button = $('<button class=\"btn btn-mini btn-primary\" href=\"#\" title=\"Stop Interaction\"><i class=\"fa fa-power-off icon-remove icon-large\"></i></button>');\n",
       "    button.click(function (evt) { fig.handle_close(fig, {}); } );\n",
       "    button.mouseover('Stop Interaction', toolbar_mouse_event);\n",
       "    buttongrp.append(button);\n",
       "    var titlebar = this.root.find($('.ui-dialog-titlebar'));\n",
       "    titlebar.prepend(buttongrp);\n",
       "}\n",
       "\n",
       "mpl.figure.prototype._root_extra_style = function(el){\n",
       "    var fig = this\n",
       "    el.on(\"remove\", function(){\n",
       "\tfig.close_ws(fig, {});\n",
       "    });\n",
       "}\n",
       "\n",
       "mpl.figure.prototype._canvas_extra_style = function(el){\n",
       "    // this is important to make the div 'focusable\n",
       "    el.attr('tabindex', 0)\n",
       "    // reach out to IPython and tell the keyboard manager to turn it's self\n",
       "    // off when our div gets focus\n",
       "\n",
       "    // location in version 3\n",
       "    if (IPython.notebook.keyboard_manager) {\n",
       "        IPython.notebook.keyboard_manager.register_events(el);\n",
       "    }\n",
       "    else {\n",
       "        // location in version 2\n",
       "        IPython.keyboard_manager.register_events(el);\n",
       "    }\n",
       "\n",
       "}\n",
       "\n",
       "mpl.figure.prototype._key_event_extra = function(event, name) {\n",
       "    var manager = IPython.notebook.keyboard_manager;\n",
       "    if (!manager)\n",
       "        manager = IPython.keyboard_manager;\n",
       "\n",
       "    // Check for shift+enter\n",
       "    if (event.shiftKey && event.which == 13) {\n",
       "        this.canvas_div.blur();\n",
       "        event.shiftKey = false;\n",
       "        // Send a \"J\" for go to next cell\n",
       "        event.which = 74;\n",
       "        event.keyCode = 74;\n",
       "        manager.command_mode();\n",
       "        manager.handle_keydown(event);\n",
       "    }\n",
       "}\n",
       "\n",
       "mpl.figure.prototype.handle_save = function(fig, msg) {\n",
       "    fig.ondownload(fig, null);\n",
       "}\n",
       "\n",
       "\n",
       "mpl.find_output_cell = function(html_output) {\n",
       "    // Return the cell and output element which can be found *uniquely* in the notebook.\n",
       "    // Note - this is a bit hacky, but it is done because the \"notebook_saving.Notebook\"\n",
       "    // IPython event is triggered only after the cells have been serialised, which for\n",
       "    // our purposes (turning an active figure into a static one), is too late.\n",
       "    var cells = IPython.notebook.get_cells();\n",
       "    var ncells = cells.length;\n",
       "    for (var i=0; i<ncells; i++) {\n",
       "        var cell = cells[i];\n",
       "        if (cell.cell_type === 'code'){\n",
       "            for (var j=0; j<cell.output_area.outputs.length; j++) {\n",
       "                var data = cell.output_area.outputs[j];\n",
       "                if (data.data) {\n",
       "                    // IPython >= 3 moved mimebundle to data attribute of output\n",
       "                    data = data.data;\n",
       "                }\n",
       "                if (data['text/html'] == html_output) {\n",
       "                    return [cell, data, j];\n",
       "                }\n",
       "            }\n",
       "        }\n",
       "    }\n",
       "}\n",
       "\n",
       "// Register the function which deals with the matplotlib target/channel.\n",
       "// The kernel may be null if the page has been refreshed.\n",
       "if (IPython.notebook.kernel != null) {\n",
       "    IPython.notebook.kernel.comm_manager.register_target('matplotlib', mpl.mpl_figure_comm);\n",
       "}\n"
      ],
      "text/plain": [
       "<IPython.core.display.Javascript object>"
      ]
     },
     "metadata": {},
     "output_type": "display_data"
    },
    {
     "data": {
      "text/html": [
       "<img src=\"data:image/png;base64,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\" width=\"640\">"
      ],
      "text/plain": [
       "<IPython.core.display.HTML object>"
      ]
     },
     "metadata": {},
     "output_type": "display_data"
    }
   ],
   "source": [
    "# Initialize Plot and Display GUI\n",
    "\n",
    "display(box_buttons)\n",
    "display(box_checkbox)\n",
    "\n",
    "fig, ax = plt.subplots()\n",
    "arr2D,freqs,bins = specgram(samples,window=window_hanning,\n",
    "                                Fs = RATE,NFFT=NFFT,noverlap=OVERLAP)\n",
    "\n",
    "\n",
    "extent = (bins[0],bins[-1]*32,freqs[-1],freqs[0])\n",
    "im = plt.imshow(arr2D,aspect='auto',extent = extent,interpolation=\"none\",\n",
    "                     norm = LogNorm(vmin=.01,vmax=1))\n",
    "plt.xlabel('Time')\n",
    "plt.ylabel('Frequency (Hz)')\n",
    "plt.title('Live Spectogram')\n",
    "plt.gca().invert_yaxis()\n",
    "plt.xticks([])\n",
    "\n",
    "def handle_close(evt):\n",
    "    # When everything done, release the capture\n",
    "    stream.stop_stream()\n",
    "    stream.close()\n",
    "    p.terminate()\n",
    "    plt.close()\n",
    "plt.connect('close_event', handle_close);"
   ]
  },
  {
   "cell_type": "markdown",
   "metadata": {
    "hide_input": true,
    "slideshow": {
     "slide_type": "slide"
    }
   },
   "source": [
    "### Fast Implementation"
   ]
  },
  {
   "cell_type": "code",
   "execution_count": 16,
   "metadata": {
    "hide_input": true,
    "slideshow": {
     "slide_type": "-"
    }
   },
   "outputs": [
    {
     "data": {
      "text/html": [
       "<center>\n",
       "<iframe width=\"560\" height=\"315\" src=\"https://www.youtube.com/embed/eGXhSd0UorA\" frameborder=\"0\" allow=\"accelerometer; encrypted-media; gyroscope; picture-in-picture\" allowfullscreen></iframe>\n",
       "</center>\n"
      ],
      "text/plain": [
       "<IPython.core.display.HTML object>"
      ]
     },
     "metadata": {},
     "output_type": "display_data"
    }
   ],
   "source": [
    "%%html\n",
    "<center>\n",
    "<iframe width=\"560\" height=\"315\" src=\"https://www.youtube.com/embed/eGXhSd0UorA\" frameborder=\"0\" allow=\"accelerometer; encrypted-media; gyroscope; picture-in-picture\" allowfullscreen></iframe>\n",
    "</center>"
   ]
  },
  {
   "cell_type": "markdown",
   "metadata": {
    "slideshow": {
     "slide_type": "-"
    }
   },
   "source": [
    "As the name says, the FFT has a fast implementation. Compare it to our filter bank: per subband we need to calculate the convolution sum. If we have filters of length L, that means we have L multiplications per output sample (we neglect the sum operations) for each sub band. Without down samplers, we get LN multiplications for each block of N input samples for each subband, leading to $LN^2$ multiplications for all subbands for the block of N input samples. \n",
    "\n",
    "Now we can reduce this amount by only computing the output samples which the downsampler keeps. This reduces the computational complexity by a factor of N, resulting in LN multiplications for each input block of length N, to obtain N output values (1 value in each subband). In other words: each sample in a subband is computed by a filter of length L which needs L multiplications in the convolution sum. We need L multiplications per sample.\n",
    "\n",
    "If we compare it with an FFT, it only needs on the order of $Nlog_2(N)$ multiplications (“order” meaning: up to a fixed factor) for each block. Hence for each subband sample we need log(N) multiplications. Compare this with the L multiplications per sample for the critically sampled filter bank.\n",
    "\n",
    "Since usually we have $L>log_2(N)$, this is **more efficient**.\n",
    "\n",
    "**Example:** If N=1024 subbands, then we need filters which are longer than L=1024, and $L>>log_2( 1024 )=10$\n",
    ". Hence in this case, we save more than an order of a factor of 100 in complexity using the FFT!\n",
    "\n",
    "Another interesting effect is, that we obtain **perfect reconstruction** using the **inverse FFT** for the synthesis process, even though the equivalent FFT filter bank has no perfect filters. So this might give us a hint on how to obtain perfect reconstruction without ideal filters.\n",
    "\n",
    "The question is, what is the **equivalent FFT filter bank**?"
   ]
  }
 ],
 "metadata": {
  "kernelspec": {
   "display_name": "Python 3",
   "language": "python",
   "name": "python3"
  },
  "language_info": {
   "codemirror_mode": {
    "name": "ipython",
    "version": 3
   },
   "file_extension": ".py",
   "mimetype": "text/x-python",
   "name": "python",
   "nbconvert_exporter": "python",
   "pygments_lexer": "ipython3",
   "version": "3.7.4"
  },
  "widgets": {
   "application/vnd.jupyter.widget-state+json": {
    "state": {
     "0029500d285347cea960cae032e0a9d8": {
      "model_module": "@jupyter-widgets/base",
      "model_module_version": "1.2.0",
      "model_name": "LayoutModel",
      "state": {}
     },
     "0356272802724c91961a212e00758da4": {
      "model_module": "@jupyter-widgets/base",
      "model_module_version": "1.2.0",
      "model_name": "LayoutModel",
      "state": {}
     },
     "03f7d15dabf94028be0ce784a72870dc": {
      "model_module": "@jupyter-widgets/base",
      "model_module_version": "1.2.0",
      "model_name": "LayoutModel",
      "state": {}
     },
     "05be72cf936d4ea5b04d7a79c8f036df": {
      "model_module": "@jupyter-widgets/controls",
      "model_module_version": "1.5.0",
      "model_name": "VBoxModel",
      "state": {
       "_dom_classes": [
        "widget-interact"
       ],
       "children": [
        "IPY_MODEL_f3d7a398669e492d93d7ed9abc2ea757",
        "IPY_MODEL_916401e8db3c4c09b58fae8d1fe823c3",
        "IPY_MODEL_48bae7a82391411f9d6d12791d8610b6",
        "IPY_MODEL_6a8662949af54cabbdf270f5bc9b950b"
       ],
       "layout": "IPY_MODEL_a6481be1425d46e5b5abf1b52e73ce97"
      }
     },
     "064f2f7787e9431eacad4e8a0060dc20": {
      "model_module": "@jupyter-widgets/controls",
      "model_module_version": "1.5.0",
      "model_name": "ButtonModel",
      "state": {
       "description": "Start",
       "layout": "IPY_MODEL_207291ad53c44ca893f5f382f2484362",
       "style": "IPY_MODEL_1b7d29881fb846c3a33f9fba49d4bbb9"
      }
     },
     "08e5a1586b1641a9961eebd6d3d85b60": {
      "model_module": "@jupyter-widgets/controls",
      "model_module_version": "1.5.0",
      "model_name": "VBoxModel",
      "state": {
       "_dom_classes": [
        "widget-interact"
       ],
       "children": [
        "IPY_MODEL_0ce78217e62243d9afa7d902e0b4c566",
        "IPY_MODEL_2bb6471882fa41a19900178bf91012e8",
        "IPY_MODEL_5dcf8c760acf4659a1da7dec20448e2e",
        "IPY_MODEL_0b304f0b5b6548329a5089a517d6a612"
       ],
       "layout": "IPY_MODEL_d63802a277e14da09213d828cb80963f"
      }
     },
     "0970a48ffe54495d9cbd42c3f3ab4d6c": {
      "model_module": "@jupyter-widgets/controls",
      "model_module_version": "1.5.0",
      "model_name": "IntSliderModel",
      "state": {
       "description": "L",
       "layout": "IPY_MODEL_5ff41e6d45694fb8812178d014ceeb97",
       "max": 128,
       "min": 2,
       "style": "IPY_MODEL_d946add282394b1d94bd524837c96b45",
       "value": 31
      }
     },
     "0b304f0b5b6548329a5089a517d6a612": {
      "model_module": "@jupyter-widgets/output",
      "model_module_version": "1.0.0",
      "model_name": "OutputModel",
      "state": {
       "layout": "IPY_MODEL_8727619714e3420ebb4d6e54edd75c9d",
       "outputs": [
        {
         "name": "stdout",
         "output_type": "stream",
         "text": "-2.986324857901867\n-3.0322753864458294\n"
        },
        {
         "ename": "TypeError",
         "evalue": "angle() got an unexpected keyword argument 'degree'",
         "output_type": "error",
         "traceback": [
          "\u001b[1;31m---------------------------------------------------------------------------\u001b[0m",
          "\u001b[1;31mTypeError\u001b[0m                                 Traceback (most recent call last)",
          "\u001b[1;32mD:\\Anaconda3\\envs\\TU_Tutorials\\lib\\site-packages\\ipywidgets\\widgets\\interaction.py\u001b[0m in \u001b[0;36mupdate\u001b[1;34m(self, *args)\u001b[0m\n\u001b[0;32m    254\u001b[0m                     \u001b[0mvalue\u001b[0m \u001b[1;33m=\u001b[0m \u001b[0mwidget\u001b[0m\u001b[1;33m.\u001b[0m\u001b[0mget_interact_value\u001b[0m\u001b[1;33m(\u001b[0m\u001b[1;33m)\u001b[0m\u001b[1;33m\u001b[0m\u001b[1;33m\u001b[0m\u001b[0m\n\u001b[0;32m    255\u001b[0m                     \u001b[0mself\u001b[0m\u001b[1;33m.\u001b[0m\u001b[0mkwargs\u001b[0m\u001b[1;33m[\u001b[0m\u001b[0mwidget\u001b[0m\u001b[1;33m.\u001b[0m\u001b[0m_kwarg\u001b[0m\u001b[1;33m]\u001b[0m \u001b[1;33m=\u001b[0m \u001b[0mvalue\u001b[0m\u001b[1;33m\u001b[0m\u001b[1;33m\u001b[0m\u001b[0m\n\u001b[1;32m--> 256\u001b[1;33m                 \u001b[0mself\u001b[0m\u001b[1;33m.\u001b[0m\u001b[0mresult\u001b[0m \u001b[1;33m=\u001b[0m \u001b[0mself\u001b[0m\u001b[1;33m.\u001b[0m\u001b[0mf\u001b[0m\u001b[1;33m(\u001b[0m\u001b[1;33m**\u001b[0m\u001b[0mself\u001b[0m\u001b[1;33m.\u001b[0m\u001b[0mkwargs\u001b[0m\u001b[1;33m)\u001b[0m\u001b[1;33m\u001b[0m\u001b[1;33m\u001b[0m\u001b[0m\n\u001b[0m\u001b[0;32m    257\u001b[0m                 \u001b[0mshow_inline_matplotlib_plots\u001b[0m\u001b[1;33m(\u001b[0m\u001b[1;33m)\u001b[0m\u001b[1;33m\u001b[0m\u001b[1;33m\u001b[0m\u001b[0m\n\u001b[0;32m    258\u001b[0m                 \u001b[1;32mif\u001b[0m \u001b[0mself\u001b[0m\u001b[1;33m.\u001b[0m\u001b[0mauto_display\u001b[0m \u001b[1;32mand\u001b[0m \u001b[0mself\u001b[0m\u001b[1;33m.\u001b[0m\u001b[0mresult\u001b[0m \u001b[1;32mis\u001b[0m \u001b[1;32mnot\u001b[0m \u001b[1;32mNone\u001b[0m\u001b[1;33m:\u001b[0m\u001b[1;33m\u001b[0m\u001b[1;33m\u001b[0m\u001b[0m\n",
          "\u001b[1;32m<ipython-input-7-59ac1ab402f1>\u001b[0m in \u001b[0;36mplot_h\u001b[1;34m(L, wc, unwrap)\u001b[0m\n\u001b[0;32m     68\u001b[0m \u001b[1;33m\u001b[0m\u001b[0m\n\u001b[0;32m     69\u001b[0m     \u001b[0max3\u001b[0m\u001b[1;33m.\u001b[0m\u001b[0mclear\u001b[0m\u001b[1;33m(\u001b[0m\u001b[1;33m)\u001b[0m\u001b[1;33m\u001b[0m\u001b[1;33m\u001b[0m\u001b[0m\n\u001b[1;32m---> 70\u001b[1;33m     \u001b[0mphase\u001b[0m\u001b[1;33m=\u001b[0m\u001b[0mnp\u001b[0m\u001b[1;33m.\u001b[0m\u001b[0mangle\u001b[0m\u001b[1;33m(\u001b[0m\u001b[0mH\u001b[0m\u001b[1;33m,\u001b[0m \u001b[0mdegree\u001b[0m\u001b[1;33m=\u001b[0m\u001b[1;32mTrue\u001b[0m\u001b[1;33m)\u001b[0m\u001b[1;33m\u001b[0m\u001b[1;33m\u001b[0m\u001b[0m\n\u001b[0m\u001b[0;32m     71\u001b[0m     \u001b[1;32mif\u001b[0m \u001b[0munwrap\u001b[0m\u001b[1;33m:\u001b[0m\u001b[1;33m\u001b[0m\u001b[1;33m\u001b[0m\u001b[0m\n\u001b[0;32m     72\u001b[0m         \u001b[0mphase\u001b[0m\u001b[1;33m=\u001b[0m\u001b[0mnp\u001b[0m\u001b[1;33m.\u001b[0m\u001b[0munwrap\u001b[0m\u001b[1;33m(\u001b[0m\u001b[0mphase\u001b[0m\u001b[1;33m)\u001b[0m\u001b[1;33m\u001b[0m\u001b[1;33m\u001b[0m\u001b[0m\n",
          "\u001b[1;31mTypeError\u001b[0m: angle() got an unexpected keyword argument 'degree'"
         ]
        }
       ]
      }
     },
     "0ce78217e62243d9afa7d902e0b4c566": {
      "model_module": "@jupyter-widgets/controls",
      "model_module_version": "1.5.0",
      "model_name": "IntSliderModel",
      "state": {
       "description": "L",
       "layout": "IPY_MODEL_5d9e6bb9b35741ae8dd8822c7c2ec827",
       "max": 128,
       "min": 2,
       "style": "IPY_MODEL_b8ea2825e9104823ba3338439df90b21",
       "value": 16
      }
     },
     "0ebf19ba64a2445182602e0fe7a7ee0e": {
      "model_module": "@jupyter-widgets/controls",
      "model_module_version": "1.5.0",
      "model_name": "DescriptionStyleModel",
      "state": {
       "description_width": ""
      }
     },
     "10858c30ff644b75bedb13c9aaa8e86a": {
      "model_module": "@jupyter-widgets/base",
      "model_module_version": "1.2.0",
      "model_name": "LayoutModel",
      "state": {}
     },
     "144e9bb694ff4c2b974520c7b8a3a9c6": {
      "model_module": "@jupyter-widgets/controls",
      "model_module_version": "1.5.0",
      "model_name": "SliderStyleModel",
      "state": {
       "description_width": ""
      }
     },
     "14e90ac533cd49cdaaaeb62cbd0fa9bc": {
      "model_module": "@jupyter-widgets/base",
      "model_module_version": "1.2.0",
      "model_name": "LayoutModel",
      "state": {}
     },
     "17fa56dfb7db4e159a57ca64a75fb7fb": {
      "model_module": "@jupyter-widgets/controls",
      "model_module_version": "1.5.0",
      "model_name": "SliderStyleModel",
      "state": {
       "description_width": ""
      }
     },
     "1834df36879940888884860cb2c266af": {
      "model_module": "@jupyter-widgets/base",
      "model_module_version": "1.2.0",
      "model_name": "LayoutModel",
      "state": {}
     },
     "1af02d515cf44f19aaca78877f88661c": {
      "model_module": "@jupyter-widgets/controls",
      "model_module_version": "1.5.0",
      "model_name": "VBoxModel",
      "state": {
       "_dom_classes": [
        "widget-interact"
       ],
       "children": [
        "IPY_MODEL_2f5f2ecd932f4fcebb1b8931495c81e1",
        "IPY_MODEL_990358533027449aac97876b636eea58",
        "IPY_MODEL_de54a3d6a83746bdbdf977b33454204a"
       ],
       "layout": "IPY_MODEL_49f349a9156a445da42980546de95da9"
      }
     },
     "1b20b14c69214d0dac0decfe18d1e152": {
      "model_module": "@jupyter-widgets/output",
      "model_module_version": "1.0.0",
      "model_name": "OutputModel",
      "state": {
       "layout": "IPY_MODEL_6ce5ebf11b33486b9d9f803cfea5dfea"
      }
     },
     "1b7d29881fb846c3a33f9fba49d4bbb9": {
      "model_module": "@jupyter-widgets/controls",
      "model_module_version": "1.5.0",
      "model_name": "ButtonStyleModel",
      "state": {}
     },
     "1d210e98870d415c8d819016e2ec1501": {
      "model_module": "@jupyter-widgets/base",
      "model_module_version": "1.2.0",
      "model_name": "LayoutModel",
      "state": {}
     },
     "207291ad53c44ca893f5f382f2484362": {
      "model_module": "@jupyter-widgets/base",
      "model_module_version": "1.2.0",
      "model_name": "LayoutModel",
      "state": {}
     },
     "2160fccd15774970af84802719367788": {
      "model_module": "@jupyter-widgets/base",
      "model_module_version": "1.2.0",
      "model_name": "LayoutModel",
      "state": {}
     },
     "229f46dbb5594226bb80908d9bd97617": {
      "model_module": "@jupyter-widgets/base",
      "model_module_version": "1.2.0",
      "model_name": "LayoutModel",
      "state": {}
     },
     "2488a7b125004931a8f11c877d698119": {
      "model_module": "@jupyter-widgets/base",
      "model_module_version": "1.2.0",
      "model_name": "LayoutModel",
      "state": {}
     },
     "2803a907927946ea9895b008c55df0e9": {
      "model_module": "@jupyter-widgets/base",
      "model_module_version": "1.2.0",
      "model_name": "LayoutModel",
      "state": {}
     },
     "290a6bc604c84cc1abc5a41f065893a0": {
      "model_module": "@jupyter-widgets/controls",
      "model_module_version": "1.5.0",
      "model_name": "IntSliderModel",
      "state": {
       "description": "L",
       "layout": "IPY_MODEL_ae855c0eeb374b7eaad889676d4bae73",
       "max": 128,
       "min": 2,
       "style": "IPY_MODEL_9c1f955f51234fee85275b0b893da03d",
       "value": 11
      }
     },
     "2bb6471882fa41a19900178bf91012e8": {
      "model_module": "@jupyter-widgets/controls",
      "model_module_version": "1.5.0",
      "model_name": "FloatSliderModel",
      "state": {
       "description": "wc",
       "layout": "IPY_MODEL_989bb64f31964c63a6d4ac801d86de78",
       "max": 1,
       "min": 0.1,
       "step": 0.01,
       "style": "IPY_MODEL_39a7ac1f32ca4e1cb39558cd5b79c9e1",
       "value": 0.5
      }
     },
     "2c1afa2493344b229273a2ebf60a13c9": {
      "model_module": "@jupyter-widgets/controls",
      "model_module_version": "1.5.0",
      "model_name": "IntSliderModel",
      "state": {
       "description": "L",
       "layout": "IPY_MODEL_bd9b55a8090b45f490ec8d380750bff0",
       "max": 128,
       "min": 2,
       "style": "IPY_MODEL_f0a49ec366964223a43cd3860ff0edb7",
       "value": 12
      }
     },
     "2d11c90e4251463696f4cdad65b21587": {
      "model_module": "@jupyter-widgets/controls",
      "model_module_version": "1.5.0",
      "model_name": "SliderStyleModel",
      "state": {
       "description_width": ""
      }
     },
     "2d549e2206e04707a18d302c4febb071": {
      "model_module": "@jupyter-widgets/base",
      "model_module_version": "1.2.0",
      "model_name": "LayoutModel",
      "state": {}
     },
     "2ea14d3e1de84e0caf561890c4169c4a": {
      "model_module": "@jupyter-widgets/base",
      "model_module_version": "1.2.0",
      "model_name": "LayoutModel",
      "state": {}
     },
     "2f5f2ecd932f4fcebb1b8931495c81e1": {
      "model_module": "@jupyter-widgets/controls",
      "model_module_version": "1.5.0",
      "model_name": "IntSliderModel",
      "state": {
       "description": "L",
       "layout": "IPY_MODEL_2803a907927946ea9895b008c55df0e9",
       "max": 128,
       "min": 2,
       "style": "IPY_MODEL_e0d4012b568a4384bc37137136d53216",
       "value": 16
      }
     },
     "3369d2c45c0446dfbcc568a1d7840af9": {
      "model_module": "@jupyter-widgets/controls",
      "model_module_version": "1.5.0",
      "model_name": "CheckboxModel",
      "state": {
       "description": "Downsampling/Upsampling",
       "disabled": false,
       "layout": "IPY_MODEL_8c29b482d2a442e096a87aed677840c3",
       "style": "IPY_MODEL_8003fb58845c4a2485d21dc72b379f61",
       "value": false
      }
     },
     "3570bdbed31c4fec9395f337a28c7c41": {
      "model_module": "@jupyter-widgets/controls",
      "model_module_version": "1.5.0",
      "model_name": "DescriptionStyleModel",
      "state": {
       "description_width": ""
      }
     },
     "3636c26e49fb47789baae2f238ef1ef7": {
      "model_module": "@jupyter-widgets/controls",
      "model_module_version": "1.5.0",
      "model_name": "DescriptionStyleModel",
      "state": {
       "description_width": ""
      }
     },
     "37909931df1c47e4948a530f7963f1e0": {
      "model_module": "@jupyter-widgets/controls",
      "model_module_version": "1.5.0",
      "model_name": "VBoxModel",
      "state": {
       "_dom_classes": [
        "widget-interact"
       ],
       "children": [
        "IPY_MODEL_7d67995d29be4477b74511527f4a7364",
        "IPY_MODEL_e40821b543a64eb998fdbf0a5d83eb79",
        "IPY_MODEL_a177ee2609364bec90f6db3a4f5cf21f",
        "IPY_MODEL_6bf8bef585f14e87b4ac18b8c20fccf9"
       ],
       "layout": "IPY_MODEL_2160fccd15774970af84802719367788"
      }
     },
     "38431e6d3cd2491384084e0d4886a11c": {
      "model_module": "@jupyter-widgets/base",
      "model_module_version": "1.2.0",
      "model_name": "LayoutModel",
      "state": {}
     },
     "391678a09ded4245b0b8279ee079347b": {
      "model_module": "@jupyter-widgets/controls",
      "model_module_version": "1.5.0",
      "model_name": "DescriptionStyleModel",
      "state": {
       "description_width": ""
      }
     },
     "39a7ac1f32ca4e1cb39558cd5b79c9e1": {
      "model_module": "@jupyter-widgets/controls",
      "model_module_version": "1.5.0",
      "model_name": "SliderStyleModel",
      "state": {
       "description_width": ""
      }
     },
     "3ea876db91d84f32997f07d1d42bf507": {
      "model_module": "@jupyter-widgets/base",
      "model_module_version": "1.2.0",
      "model_name": "LayoutModel",
      "state": {}
     },
     "408a375449bc4879bc7cfd0b6e1a1858": {
      "model_module": "@jupyter-widgets/base",
      "model_module_version": "1.2.0",
      "model_name": "LayoutModel",
      "state": {}
     },
     "40c8afaa44bf482193aafcf33beef555": {
      "model_module": "@jupyter-widgets/controls",
      "model_module_version": "1.5.0",
      "model_name": "DescriptionStyleModel",
      "state": {
       "description_width": ""
      }
     },
     "40db9cfe2782441bb5c91a1f8c033456": {
      "model_module": "@jupyter-widgets/controls",
      "model_module_version": "1.5.0",
      "model_name": "VBoxModel",
      "state": {
       "_dom_classes": [
        "widget-interact"
       ],
       "children": [
        "IPY_MODEL_6d2f3cedfbbd4c91a5a5fc3ab1d7a4d3",
        "IPY_MODEL_fbf926e4350749bab98b4227561f26da",
        "IPY_MODEL_50f8238d579f472e9dccae2d7e393675",
        "IPY_MODEL_8b813eacd35f4288b3ad6121fc1747c5"
       ],
       "layout": "IPY_MODEL_63c30ff14cb846fda36062c8de3f597e"
      }
     },
     "421ae1d80f2640c5b6056ed15fcb603d": {
      "model_module": "@jupyter-widgets/output",
      "model_module_version": "1.0.0",
      "model_name": "OutputModel",
      "state": {
       "layout": "IPY_MODEL_ee76e1c879ff4e4bb1e7caf54f04343d",
       "outputs": [
        {
         "name": "stdout",
         "output_type": "stream",
         "text": "-2.986324857901867\n-3.0322753864458294\n"
        }
       ]
      }
     },
     "434afc611c034f29bd77a4c13c9a3290": {
      "model_module": "@jupyter-widgets/controls",
      "model_module_version": "1.5.0",
      "model_name": "SliderStyleModel",
      "state": {
       "description_width": ""
      }
     },
     "45896b8ab76a4cb3b7e1595c4c811cfe": {
      "model_module": "@jupyter-widgets/controls",
      "model_module_version": "1.5.0",
      "model_name": "DescriptionStyleModel",
      "state": {
       "description_width": ""
      }
     },
     "461859f1b14c42e69ed6603245134b40": {
      "model_module": "@jupyter-widgets/output",
      "model_module_version": "1.0.0",
      "model_name": "OutputModel",
      "state": {
       "layout": "IPY_MODEL_fa972079af324291b5a19ba80bcdfc98",
       "outputs": [
        {
         "ename": "IndexError",
         "evalue": "index 0 is out of bounds for axis 0 with size 0",
         "output_type": "error",
         "traceback": [
          "\u001b[1;31m---------------------------------------------------------------------------\u001b[0m",
          "\u001b[1;31mIndexError\u001b[0m                                Traceback (most recent call last)",
          "\u001b[1;32mD:\\Anaconda3\\envs\\TU_Tutorials\\lib\\site-packages\\ipywidgets\\widgets\\interaction.py\u001b[0m in \u001b[0;36mupdate\u001b[1;34m(self, *args)\u001b[0m\n\u001b[0;32m    254\u001b[0m                     \u001b[0mvalue\u001b[0m \u001b[1;33m=\u001b[0m \u001b[0mwidget\u001b[0m\u001b[1;33m.\u001b[0m\u001b[0mget_interact_value\u001b[0m\u001b[1;33m(\u001b[0m\u001b[1;33m)\u001b[0m\u001b[1;33m\u001b[0m\u001b[1;33m\u001b[0m\u001b[0m\n\u001b[0;32m    255\u001b[0m                     \u001b[0mself\u001b[0m\u001b[1;33m.\u001b[0m\u001b[0mkwargs\u001b[0m\u001b[1;33m[\u001b[0m\u001b[0mwidget\u001b[0m\u001b[1;33m.\u001b[0m\u001b[0m_kwarg\u001b[0m\u001b[1;33m]\u001b[0m \u001b[1;33m=\u001b[0m \u001b[0mvalue\u001b[0m\u001b[1;33m\u001b[0m\u001b[1;33m\u001b[0m\u001b[0m\n\u001b[1;32m--> 256\u001b[1;33m                 \u001b[0mself\u001b[0m\u001b[1;33m.\u001b[0m\u001b[0mresult\u001b[0m \u001b[1;33m=\u001b[0m \u001b[0mself\u001b[0m\u001b[1;33m.\u001b[0m\u001b[0mf\u001b[0m\u001b[1;33m(\u001b[0m\u001b[1;33m**\u001b[0m\u001b[0mself\u001b[0m\u001b[1;33m.\u001b[0m\u001b[0mkwargs\u001b[0m\u001b[1;33m)\u001b[0m\u001b[1;33m\u001b[0m\u001b[1;33m\u001b[0m\u001b[0m\n\u001b[0m\u001b[0;32m    257\u001b[0m                 \u001b[0mshow_inline_matplotlib_plots\u001b[0m\u001b[1;33m(\u001b[0m\u001b[1;33m)\u001b[0m\u001b[1;33m\u001b[0m\u001b[1;33m\u001b[0m\u001b[0m\n\u001b[0;32m    258\u001b[0m                 \u001b[1;32mif\u001b[0m \u001b[0mself\u001b[0m\u001b[1;33m.\u001b[0m\u001b[0mauto_display\u001b[0m \u001b[1;32mand\u001b[0m \u001b[0mself\u001b[0m\u001b[1;33m.\u001b[0m\u001b[0mresult\u001b[0m \u001b[1;32mis\u001b[0m \u001b[1;32mnot\u001b[0m \u001b[1;32mNone\u001b[0m\u001b[1;33m:\u001b[0m\u001b[1;33m\u001b[0m\u001b[1;33m\u001b[0m\u001b[0m\n",
          "\u001b[1;32m<ipython-input-9-d396d6d205ab>\u001b[0m in \u001b[0;36mplot_recWindow_H\u001b[1;34m(L, unwrap)\u001b[0m\n\u001b[0;32m     27\u001b[0m             arrowprops=dict(facecolor='black', shrink=0.02, width=1, headwidth=4),)\n\u001b[0;32m     28\u001b[0m     \u001b[1;32mif\u001b[0m \u001b[0mL\u001b[0m\u001b[1;33m!=\u001b[0m\u001b[1;36m2\u001b[0m\u001b[1;33m:\u001b[0m\u001b[1;33m\u001b[0m\u001b[1;33m\u001b[0m\u001b[0m\n\u001b[1;32m---> 29\u001b[1;33m         \u001b[0mside_lobe\u001b[0m\u001b[1;33m=\u001b[0m\u001b[0margrelextrema\u001b[0m\u001b[1;33m(\u001b[0m\u001b[0mnp\u001b[0m\u001b[1;33m.\u001b[0m\u001b[0mabs\u001b[0m\u001b[1;33m(\u001b[0m\u001b[0mH\u001b[0m\u001b[1;33m)\u001b[0m\u001b[1;33m,\u001b[0m \u001b[0mnp\u001b[0m\u001b[1;33m.\u001b[0m\u001b[0mgreater\u001b[0m\u001b[1;33m)\u001b[0m\u001b[1;33m[\u001b[0m\u001b[1;36m0\u001b[0m\u001b[1;33m]\u001b[0m\u001b[1;33m[\u001b[0m\u001b[1;36m0\u001b[0m\u001b[1;33m]\u001b[0m\u001b[1;33m\u001b[0m\u001b[1;33m\u001b[0m\u001b[0m\n\u001b[0m\u001b[0;32m     30\u001b[0m         \u001b[0max1\u001b[0m\u001b[1;33m.\u001b[0m\u001b[0mplot\u001b[0m\u001b[1;33m(\u001b[0m\u001b[1;33m(\u001b[0m\u001b[1;36m0\u001b[0m\u001b[1;33m,\u001b[0m \u001b[0momega\u001b[0m\u001b[1;33m[\u001b[0m\u001b[1;33m-\u001b[0m\u001b[1;36m1\u001b[0m\u001b[1;33m]\u001b[0m\u001b[1;33m)\u001b[0m\u001b[1;33m,\u001b[0m\u001b[1;33m(\u001b[0m\u001b[0mH_dB\u001b[0m\u001b[1;33m[\u001b[0m\u001b[0mside_lobe\u001b[0m\u001b[1;33m]\u001b[0m\u001b[1;33m,\u001b[0m\u001b[0mH_dB\u001b[0m\u001b[1;33m[\u001b[0m\u001b[0mside_lobe\u001b[0m\u001b[1;33m]\u001b[0m\u001b[1;33m)\u001b[0m\u001b[1;33m,\u001b[0m \u001b[1;34m'k--'\u001b[0m\u001b[1;33m)\u001b[0m\u001b[1;33m\u001b[0m\u001b[1;33m\u001b[0m\u001b[0m\n\u001b[0;32m     31\u001b[0m         ax1.annotate(r'$\\omega$={:.2f}$\\pi$, {:.2f}dB'.format(omega[side_lobe]/np.pi,H_dB[side_lobe]), \n",
          "\u001b[1;31mIndexError\u001b[0m: index 0 is out of bounds for axis 0 with size 0"
         ]
        }
       ]
      }
     },
     "462f98cc95bc4bf7bf5047325c59b199": {
      "model_module": "@jupyter-widgets/base",
      "model_module_version": "1.2.0",
      "model_name": "LayoutModel",
      "state": {}
     },
     "4652fb03c19a42a38b0ac59632d900d6": {
      "model_module": "@jupyter-widgets/controls",
      "model_module_version": "1.5.0",
      "model_name": "CheckboxModel",
      "state": {
       "description": "unwrap",
       "disabled": false,
       "layout": "IPY_MODEL_2488a7b125004931a8f11c877d698119",
       "style": "IPY_MODEL_0ebf19ba64a2445182602e0fe7a7ee0e",
       "value": false
      }
     },
     "48bae7a82391411f9d6d12791d8610b6": {
      "model_module": "@jupyter-widgets/controls",
      "model_module_version": "1.5.0",
      "model_name": "CheckboxModel",
      "state": {
       "description": "unwrap",
       "disabled": false,
       "layout": "IPY_MODEL_73bf02f4a77e4d5bbd7310e249650de3",
       "style": "IPY_MODEL_c1e65404e25c4c369995cf3f8b5e49de",
       "value": false
      }
     },
     "49a4ea69c58744889ec0f85cce628555": {
      "model_module": "@jupyter-widgets/controls",
      "model_module_version": "1.5.0",
      "model_name": "VBoxModel",
      "state": {
       "_dom_classes": [
        "widget-interact"
       ],
       "children": [
        "IPY_MODEL_2c1afa2493344b229273a2ebf60a13c9",
        "IPY_MODEL_6de2a3f0ff2c404f9febb9090726954f",
        "IPY_MODEL_f8c1d8517c6c4b8a96c0754f923ad0c5",
        "IPY_MODEL_cdce04c2d7714651b30c7400eb81f6cd"
       ],
       "layout": "IPY_MODEL_ac2116cb465a4454bc7db17e926da183"
      }
     },
     "49f349a9156a445da42980546de95da9": {
      "model_module": "@jupyter-widgets/base",
      "model_module_version": "1.2.0",
      "model_name": "LayoutModel",
      "state": {}
     },
     "4a2eb9fa6a0d4f9d892947bf6d5a15b3": {
      "model_module": "@jupyter-widgets/controls",
      "model_module_version": "1.5.0",
      "model_name": "DescriptionStyleModel",
      "state": {
       "description_width": ""
      }
     },
     "4a4f1eae1c3e48fa99aacac33c3573d0": {
      "model_module": "@jupyter-widgets/base",
      "model_module_version": "1.2.0",
      "model_name": "LayoutModel",
      "state": {}
     },
     "4c11135dea5149e18c9b78253e6d6783": {
      "model_module": "@jupyter-widgets/base",
      "model_module_version": "1.2.0",
      "model_name": "LayoutModel",
      "state": {}
     },
     "50f8238d579f472e9dccae2d7e393675": {
      "model_module": "@jupyter-widgets/controls",
      "model_module_version": "1.5.0",
      "model_name": "CheckboxModel",
      "state": {
       "description": "unwrap",
       "disabled": false,
       "layout": "IPY_MODEL_f208057bbc724df483350d415317e9a2",
       "style": "IPY_MODEL_4a2eb9fa6a0d4f9d892947bf6d5a15b3",
       "value": false
      }
     },
     "512f981be60f46ffac62a79d481e0dbe": {
      "model_module": "@jupyter-widgets/base",
      "model_module_version": "1.2.0",
      "model_name": "LayoutModel",
      "state": {}
     },
     "51353157d67046b6b5e27022c45632d6": {
      "model_module": "@jupyter-widgets/base",
      "model_module_version": "1.2.0",
      "model_name": "LayoutModel",
      "state": {}
     },
     "5312e52c60324e4ca6b9fae5d2dccab1": {
      "model_module": "@jupyter-widgets/controls",
      "model_module_version": "1.5.0",
      "model_name": "CheckboxModel",
      "state": {
       "description": "unwrap",
       "disabled": false,
       "layout": "IPY_MODEL_462f98cc95bc4bf7bf5047325c59b199",
       "style": "IPY_MODEL_40c8afaa44bf482193aafcf33beef555",
       "value": false
      }
     },
     "5965ecd22fd94ac9b8834a09cbfc6576": {
      "model_module": "@jupyter-widgets/output",
      "model_module_version": "1.0.0",
      "model_name": "OutputModel",
      "state": {
       "layout": "IPY_MODEL_2d549e2206e04707a18d302c4febb071",
       "outputs": [
        {
         "name": "stdout",
         "output_type": "stream",
         "text": "-2.9368379843876866\n-3.02540945072563\n"
        }
       ]
      }
     },
     "59c3521486594f78a98d393e207f3898": {
      "model_module": "@jupyter-widgets/controls",
      "model_module_version": "1.5.0",
      "model_name": "CheckboxModel",
      "state": {
       "description": "unwrap",
       "disabled": false,
       "layout": "IPY_MODEL_faf5451fe23d45c6b99edbc0a800faf2",
       "style": "IPY_MODEL_3570bdbed31c4fec9395f337a28c7c41",
       "value": false
      }
     },
     "5d0bc1776fa34a7a810917fc5d8a64f5": {
      "model_module": "@jupyter-widgets/base",
      "model_module_version": "1.2.0",
      "model_name": "LayoutModel",
      "state": {}
     },
     "5d9e6bb9b35741ae8dd8822c7c2ec827": {
      "model_module": "@jupyter-widgets/base",
      "model_module_version": "1.2.0",
      "model_name": "LayoutModel",
      "state": {}
     },
     "5dcf8c760acf4659a1da7dec20448e2e": {
      "model_module": "@jupyter-widgets/controls",
      "model_module_version": "1.5.0",
      "model_name": "CheckboxModel",
      "state": {
       "description": "unwrap",
       "disabled": false,
       "layout": "IPY_MODEL_ae631cde68664f3c9cfeb8ec252d267a",
       "style": "IPY_MODEL_999bcd2a6bfb4dfc873caaf70ab149a9",
       "value": false
      }
     },
     "5ff41e6d45694fb8812178d014ceeb97": {
      "model_module": "@jupyter-widgets/base",
      "model_module_version": "1.2.0",
      "model_name": "LayoutModel",
      "state": {}
     },
     "63c30ff14cb846fda36062c8de3f597e": {
      "model_module": "@jupyter-widgets/base",
      "model_module_version": "1.2.0",
      "model_name": "LayoutModel",
      "state": {}
     },
     "641d559f5f02481b8f6403754fc5dae7": {
      "model_module": "@jupyter-widgets/base",
      "model_module_version": "1.2.0",
      "model_name": "LayoutModel",
      "state": {}
     },
     "658ef67e01de4cb1835b095b74b99c95": {
      "model_module": "@jupyter-widgets/controls",
      "model_module_version": "1.5.0",
      "model_name": "HBoxModel",
      "state": {
       "children": [
        "IPY_MODEL_064f2f7787e9431eacad4e8a0060dc20",
        "IPY_MODEL_db9961c1570d425daab9e76bb9c90e3a"
       ],
       "layout": "IPY_MODEL_7f774f29763449e1b2899653978af4fb"
      }
     },
     "67b4f0ce8fe44a18bdfe96c060d953d7": {
      "model_module": "@jupyter-widgets/base",
      "model_module_version": "1.2.0",
      "model_name": "LayoutModel",
      "state": {}
     },
     "67b52ebdfbf649afb5377c28bdb25524": {
      "model_module": "@jupyter-widgets/controls",
      "model_module_version": "1.5.0",
      "model_name": "DescriptionStyleModel",
      "state": {
       "description_width": ""
      }
     },
     "68703f06b1e84db3b5e84738e3322544": {
      "model_module": "@jupyter-widgets/controls",
      "model_module_version": "1.5.0",
      "model_name": "DescriptionStyleModel",
      "state": {
       "description_width": ""
      }
     },
     "6879f5e10b054a03bdb85075dfc7b8ed": {
      "model_module": "@jupyter-widgets/controls",
      "model_module_version": "1.5.0",
      "model_name": "CheckboxModel",
      "state": {
       "description": "LP Filters",
       "disabled": false,
       "layout": "IPY_MODEL_b0894fdffe0c4bc69048db2f40f7ad03",
       "style": "IPY_MODEL_68703f06b1e84db3b5e84738e3322544",
       "value": false
      }
     },
     "6a2b162d0ea94caf8e89db7a72689234": {
      "model_module": "@jupyter-widgets/base",
      "model_module_version": "1.2.0",
      "model_name": "LayoutModel",
      "state": {}
     },
     "6a8662949af54cabbdf270f5bc9b950b": {
      "model_module": "@jupyter-widgets/output",
      "model_module_version": "1.0.0",
      "model_name": "OutputModel",
      "state": {
       "layout": "IPY_MODEL_aa3d7a39440b441ba7d3e504aef27620",
       "outputs": [
        {
         "name": "stdout",
         "output_type": "stream",
         "text": "-2.996721970266943\n-3.039797343863033\n"
        }
       ]
      }
     },
     "6bf8bef585f14e87b4ac18b8c20fccf9": {
      "model_module": "@jupyter-widgets/output",
      "model_module_version": "1.0.0",
      "model_name": "OutputModel",
      "state": {
       "layout": "IPY_MODEL_b778e10f526a49a5b32f39cbe25a5540",
       "outputs": [
        {
         "name": "stdout",
         "output_type": "stream",
         "text": "-2.986324857901867\n-3.0322753864458294\n"
        }
       ]
      }
     },
     "6c63f52423284d8685b0ff11cd2af69e": {
      "model_module": "@jupyter-widgets/controls",
      "model_module_version": "1.5.0",
      "model_name": "SliderStyleModel",
      "state": {
       "description_width": ""
      }
     },
     "6ce5ebf11b33486b9d9f803cfea5dfea": {
      "model_module": "@jupyter-widgets/base",
      "model_module_version": "1.2.0",
      "model_name": "LayoutModel",
      "state": {}
     },
     "6d2f3cedfbbd4c91a5a5fc3ab1d7a4d3": {
      "model_module": "@jupyter-widgets/controls",
      "model_module_version": "1.5.0",
      "model_name": "IntSliderModel",
      "state": {
       "description": "L",
       "layout": "IPY_MODEL_5d0bc1776fa34a7a810917fc5d8a64f5",
       "max": 128,
       "min": 2,
       "style": "IPY_MODEL_6c63f52423284d8685b0ff11cd2af69e",
       "value": 16
      }
     },
     "6de2a3f0ff2c404f9febb9090726954f": {
      "model_module": "@jupyter-widgets/controls",
      "model_module_version": "1.5.0",
      "model_name": "FloatSliderModel",
      "state": {
       "description": "wc",
       "layout": "IPY_MODEL_830ce93075504bbfaed6022b42e906df",
       "max": 1,
       "min": 0.1,
       "step": 0.01,
       "style": "IPY_MODEL_aaa7ed12f4d447dd9c8c2386b5e39a8b",
       "value": 0.5
      }
     },
     "70870ccc363540e3ab392bbac4ab7ab9": {
      "model_module": "@jupyter-widgets/controls",
      "model_module_version": "1.5.0",
      "model_name": "DescriptionStyleModel",
      "state": {
       "description_width": ""
      }
     },
     "7095ca2e9b9047018a8364cd2d53a81a": {
      "model_module": "@jupyter-widgets/base",
      "model_module_version": "1.2.0",
      "model_name": "LayoutModel",
      "state": {}
     },
     "72db892a1a7945bd943e2de1a1ae66b6": {
      "model_module": "@jupyter-widgets/base",
      "model_module_version": "1.2.0",
      "model_name": "LayoutModel",
      "state": {}
     },
     "73bf02f4a77e4d5bbd7310e249650de3": {
      "model_module": "@jupyter-widgets/base",
      "model_module_version": "1.2.0",
      "model_name": "LayoutModel",
      "state": {}
     },
     "77423bd7deb1434b8a8da5b6322bb4ed": {
      "model_module": "@jupyter-widgets/controls",
      "model_module_version": "1.5.0",
      "model_name": "VBoxModel",
      "state": {
       "_dom_classes": [
        "widget-interact"
       ],
       "children": [
        "IPY_MODEL_853fd06dba4d47d0a51e31ab281c5052",
        "IPY_MODEL_c17a02a7210147f6ae41a5bd279f9c26",
        "IPY_MODEL_1b20b14c69214d0dac0decfe18d1e152"
       ],
       "layout": "IPY_MODEL_df4729fceeb94eaabeda1fa181749d70"
      }
     },
     "79681f8c847f4f7aba372e8fb62b99ff": {
      "model_module": "@jupyter-widgets/controls",
      "model_module_version": "1.5.0",
      "model_name": "VBoxModel",
      "state": {
       "_dom_classes": [
        "widget-interact"
       ],
       "children": [
        "IPY_MODEL_290a6bc604c84cc1abc5a41f065893a0",
        "IPY_MODEL_f2f9fb3606934317b63f622c781d03bb",
        "IPY_MODEL_b1cb2576c5b449059a2a0756ccb395c3"
       ],
       "layout": "IPY_MODEL_0029500d285347cea960cae032e0a9d8"
      }
     },
     "7d67995d29be4477b74511527f4a7364": {
      "model_module": "@jupyter-widgets/controls",
      "model_module_version": "1.5.0",
      "model_name": "IntSliderModel",
      "state": {
       "description": "L",
       "layout": "IPY_MODEL_aa20a95f3cd34cb1b3a664491dd4782e",
       "max": 128,
       "min": 2,
       "style": "IPY_MODEL_434afc611c034f29bd77a4c13c9a3290",
       "value": 16
      }
     },
     "7f774f29763449e1b2899653978af4fb": {
      "model_module": "@jupyter-widgets/base",
      "model_module_version": "1.2.0",
      "model_name": "LayoutModel",
      "state": {}
     },
     "8003fb58845c4a2485d21dc72b379f61": {
      "model_module": "@jupyter-widgets/controls",
      "model_module_version": "1.5.0",
      "model_name": "DescriptionStyleModel",
      "state": {
       "description_width": ""
      }
     },
     "80cd5ce2ebbd46b4b221e22241415478": {
      "model_module": "@jupyter-widgets/controls",
      "model_module_version": "1.5.0",
      "model_name": "IntSliderModel",
      "state": {
       "description": "L",
       "layout": "IPY_MODEL_cb2128e116c840bf88ac2a370f8abc89",
       "max": 128,
       "min": 2,
       "style": "IPY_MODEL_feb0b85abc124c77a0c76f542518de47",
       "value": 16
      }
     },
     "830ce93075504bbfaed6022b42e906df": {
      "model_module": "@jupyter-widgets/base",
      "model_module_version": "1.2.0",
      "model_name": "LayoutModel",
      "state": {}
     },
     "83d79b7454f547a191c07a11107cdec6": {
      "model_module": "@jupyter-widgets/controls",
      "model_module_version": "1.5.0",
      "model_name": "SliderStyleModel",
      "state": {
       "description_width": ""
      }
     },
     "8493bdbfb3a247d397887cff2c6feeb6": {
      "model_module": "@jupyter-widgets/controls",
      "model_module_version": "1.5.0",
      "model_name": "HBoxModel",
      "state": {
       "children": [
        "IPY_MODEL_c94c1500aff447028c8e01b3cb8f3d7b",
        "IPY_MODEL_ec64ee9af6be4c3e9b839f891d5d2679"
       ],
       "layout": "IPY_MODEL_7095ca2e9b9047018a8364cd2d53a81a"
      }
     },
     "853fd06dba4d47d0a51e31ab281c5052": {
      "model_module": "@jupyter-widgets/controls",
      "model_module_version": "1.5.0",
      "model_name": "IntSliderModel",
      "state": {
       "description": "L",
       "layout": "IPY_MODEL_de60d3f2621b4ba78d77b40921c32b48",
       "max": 128,
       "min": 2,
       "style": "IPY_MODEL_bb767f871d504e4e840f274dc4c2cc94",
       "value": 16
      }
     },
     "8727619714e3420ebb4d6e54edd75c9d": {
      "model_module": "@jupyter-widgets/base",
      "model_module_version": "1.2.0",
      "model_name": "LayoutModel",
      "state": {}
     },
     "891e1ab2ab444ef89c9f6a2236b62484": {
      "model_module": "@jupyter-widgets/base",
      "model_module_version": "1.2.0",
      "model_name": "LayoutModel",
      "state": {}
     },
     "8b813eacd35f4288b3ad6121fc1747c5": {
      "model_module": "@jupyter-widgets/output",
      "model_module_version": "1.0.0",
      "model_name": "OutputModel",
      "state": {
       "layout": "IPY_MODEL_a5d3d5fb2c4a45f98a030f58188cee53",
       "outputs": [
        {
         "name": "stdout",
         "output_type": "stream",
         "text": "-2.986324857901867\n-3.0322753864458294\n"
        }
       ]
      }
     },
     "8c29b482d2a442e096a87aed677840c3": {
      "model_module": "@jupyter-widgets/base",
      "model_module_version": "1.2.0",
      "model_name": "LayoutModel",
      "state": {}
     },
     "8d94cbc1692a4b60b342926780c4c034": {
      "model_module": "@jupyter-widgets/controls",
      "model_module_version": "1.5.0",
      "model_name": "DescriptionStyleModel",
      "state": {
       "description_width": ""
      }
     },
     "916401e8db3c4c09b58fae8d1fe823c3": {
      "model_module": "@jupyter-widgets/controls",
      "model_module_version": "1.5.0",
      "model_name": "FloatSliderModel",
      "state": {
       "description": "wc",
       "layout": "IPY_MODEL_408a375449bc4879bc7cfd0b6e1a1858",
       "max": 1,
       "min": 0.1,
       "step": 0.01,
       "style": "IPY_MODEL_2d11c90e4251463696f4cdad65b21587",
       "value": 0.52
      }
     },
     "97eec8abfdf442fba1dfd9631100361e": {
      "model_module": "@jupyter-widgets/base",
      "model_module_version": "1.2.0",
      "model_name": "LayoutModel",
      "state": {}
     },
     "989bb64f31964c63a6d4ac801d86de78": {
      "model_module": "@jupyter-widgets/base",
      "model_module_version": "1.2.0",
      "model_name": "LayoutModel",
      "state": {}
     },
     "990358533027449aac97876b636eea58": {
      "model_module": "@jupyter-widgets/controls",
      "model_module_version": "1.5.0",
      "model_name": "CheckboxModel",
      "state": {
       "description": "unwrap",
       "disabled": false,
       "layout": "IPY_MODEL_3ea876db91d84f32997f07d1d42bf507",
       "style": "IPY_MODEL_67b52ebdfbf649afb5377c28bdb25524",
       "value": true
      }
     },
     "999bcd2a6bfb4dfc873caaf70ab149a9": {
      "model_module": "@jupyter-widgets/controls",
      "model_module_version": "1.5.0",
      "model_name": "DescriptionStyleModel",
      "state": {
       "description_width": ""
      }
     },
     "99cc854ccc8b4c568a240ec63660c227": {
      "model_module": "@jupyter-widgets/controls",
      "model_module_version": "1.5.0",
      "model_name": "HBoxModel",
      "state": {
       "children": [
        "IPY_MODEL_3369d2c45c0446dfbcc568a1d7840af9",
        "IPY_MODEL_6879f5e10b054a03bdb85075dfc7b8ed"
       ],
       "layout": "IPY_MODEL_72db892a1a7945bd943e2de1a1ae66b6"
      }
     },
     "9b4bde59989a4870929416fbff16b06a": {
      "model_module": "@jupyter-widgets/controls",
      "model_module_version": "1.5.0",
      "model_name": "VBoxModel",
      "state": {
       "_dom_classes": [
        "widget-interact"
       ],
       "children": [
        "IPY_MODEL_80cd5ce2ebbd46b4b221e22241415478",
        "IPY_MODEL_f89886aba4c34d449ce8cbf9c45ea4cc",
        "IPY_MODEL_5312e52c60324e4ca6b9fae5d2dccab1",
        "IPY_MODEL_9c189a7f479140019f84910d766a5a9f"
       ],
       "layout": "IPY_MODEL_0356272802724c91961a212e00758da4"
      }
     },
     "9c189a7f479140019f84910d766a5a9f": {
      "model_module": "@jupyter-widgets/output",
      "model_module_version": "1.0.0",
      "model_name": "OutputModel",
      "state": {
       "layout": "IPY_MODEL_03f7d15dabf94028be0ce784a72870dc",
       "outputs": [
        {
         "name": "stdout",
         "output_type": "stream",
         "text": "-2.986324857901867\n-3.0322753864458294\n"
        }
       ]
      }
     },
     "9c1f955f51234fee85275b0b893da03d": {
      "model_module": "@jupyter-widgets/controls",
      "model_module_version": "1.5.0",
      "model_name": "SliderStyleModel",
      "state": {
       "description_width": ""
      }
     },
     "9f0596c34e90474dac5af9250c84f3c8": {
      "model_module": "@jupyter-widgets/base",
      "model_module_version": "1.2.0",
      "model_name": "LayoutModel",
      "state": {}
     },
     "a177ee2609364bec90f6db3a4f5cf21f": {
      "model_module": "@jupyter-widgets/controls",
      "model_module_version": "1.5.0",
      "model_name": "CheckboxModel",
      "state": {
       "description": "unwrap",
       "disabled": false,
       "layout": "IPY_MODEL_4c11135dea5149e18c9b78253e6d6783",
       "style": "IPY_MODEL_acd3a9b819e54e4b989c60ebf086540b",
       "value": false
      }
     },
     "a5d3d5fb2c4a45f98a030f58188cee53": {
      "model_module": "@jupyter-widgets/base",
      "model_module_version": "1.2.0",
      "model_name": "LayoutModel",
      "state": {}
     },
     "a6481be1425d46e5b5abf1b52e73ce97": {
      "model_module": "@jupyter-widgets/base",
      "model_module_version": "1.2.0",
      "model_name": "LayoutModel",
      "state": {}
     },
     "a66936b45e2847589ec22cc1c13221b1": {
      "model_module": "@jupyter-widgets/controls",
      "model_module_version": "1.5.0",
      "model_name": "FloatSliderModel",
      "state": {
       "description": "wc",
       "layout": "IPY_MODEL_6a2b162d0ea94caf8e89db7a72689234",
       "max": 1,
       "min": 0.1,
       "step": 0.01,
       "style": "IPY_MODEL_beae5d607a0f44dd84a4b9da23403ccb",
       "value": 0.5
      }
     },
     "aa20a95f3cd34cb1b3a664491dd4782e": {
      "model_module": "@jupyter-widgets/base",
      "model_module_version": "1.2.0",
      "model_name": "LayoutModel",
      "state": {}
     },
     "aa3d7a39440b441ba7d3e504aef27620": {
      "model_module": "@jupyter-widgets/base",
      "model_module_version": "1.2.0",
      "model_name": "LayoutModel",
      "state": {}
     },
     "aaa7ed12f4d447dd9c8c2386b5e39a8b": {
      "model_module": "@jupyter-widgets/controls",
      "model_module_version": "1.5.0",
      "model_name": "SliderStyleModel",
      "state": {
       "description_width": ""
      }
     },
     "ac2116cb465a4454bc7db17e926da183": {
      "model_module": "@jupyter-widgets/base",
      "model_module_version": "1.2.0",
      "model_name": "LayoutModel",
      "state": {}
     },
     "acd3a9b819e54e4b989c60ebf086540b": {
      "model_module": "@jupyter-widgets/controls",
      "model_module_version": "1.5.0",
      "model_name": "DescriptionStyleModel",
      "state": {
       "description_width": ""
      }
     },
     "ae631cde68664f3c9cfeb8ec252d267a": {
      "model_module": "@jupyter-widgets/base",
      "model_module_version": "1.2.0",
      "model_name": "LayoutModel",
      "state": {}
     },
     "ae855c0eeb374b7eaad889676d4bae73": {
      "model_module": "@jupyter-widgets/base",
      "model_module_version": "1.2.0",
      "model_name": "LayoutModel",
      "state": {}
     },
     "b0894fdffe0c4bc69048db2f40f7ad03": {
      "model_module": "@jupyter-widgets/base",
      "model_module_version": "1.2.0",
      "model_name": "LayoutModel",
      "state": {}
     },
     "b1cb2576c5b449059a2a0756ccb395c3": {
      "model_module": "@jupyter-widgets/output",
      "model_module_version": "1.0.0",
      "model_name": "OutputModel",
      "state": {
       "layout": "IPY_MODEL_2ea14d3e1de84e0caf561890c4169c4a"
      }
     },
     "b2cfe76ca355471bb804ea7585acc3af": {
      "model_module": "@jupyter-widgets/base",
      "model_module_version": "1.2.0",
      "model_name": "LayoutModel",
      "state": {}
     },
     "b30c4b4b9af44ac09993b27262b0259e": {
      "model_module": "@jupyter-widgets/controls",
      "model_module_version": "1.5.0",
      "model_name": "SliderStyleModel",
      "state": {
       "description_width": ""
      }
     },
     "b581b802bc124912882cfd27ffeed1e3": {
      "model_module": "@jupyter-widgets/controls",
      "model_module_version": "1.5.0",
      "model_name": "SliderStyleModel",
      "state": {
       "description_width": ""
      }
     },
     "b778e10f526a49a5b32f39cbe25a5540": {
      "model_module": "@jupyter-widgets/base",
      "model_module_version": "1.2.0",
      "model_name": "LayoutModel",
      "state": {}
     },
     "b7b9d255903749769f20286f768abb14": {
      "model_module": "@jupyter-widgets/controls",
      "model_module_version": "1.5.0",
      "model_name": "IntSliderModel",
      "state": {
       "description": "L",
       "layout": "IPY_MODEL_1834df36879940888884860cb2c266af",
       "max": 128,
       "min": 2,
       "style": "IPY_MODEL_b581b802bc124912882cfd27ffeed1e3",
       "value": 4
      }
     },
     "b8ea2825e9104823ba3338439df90b21": {
      "model_module": "@jupyter-widgets/controls",
      "model_module_version": "1.5.0",
      "model_name": "SliderStyleModel",
      "state": {
       "description_width": ""
      }
     },
     "ba576b35bf974cb4ad03159ba695c61a": {
      "model_module": "@jupyter-widgets/controls",
      "model_module_version": "1.5.0",
      "model_name": "IntSliderModel",
      "state": {
       "description": "L",
       "layout": "IPY_MODEL_fad6558ca7b4421a872e9c48c0fd5db3",
       "max": 128,
       "min": 2,
       "style": "IPY_MODEL_144e9bb694ff4c2b974520c7b8a3a9c6",
       "value": 16
      }
     },
     "bb767f871d504e4e840f274dc4c2cc94": {
      "model_module": "@jupyter-widgets/controls",
      "model_module_version": "1.5.0",
      "model_name": "SliderStyleModel",
      "state": {
       "description_width": ""
      }
     },
     "bd68e24af2b94ae18c2429165cac2e92": {
      "model_module": "@jupyter-widgets/base",
      "model_module_version": "1.2.0",
      "model_name": "LayoutModel",
      "state": {}
     },
     "bd9b55a8090b45f490ec8d380750bff0": {
      "model_module": "@jupyter-widgets/base",
      "model_module_version": "1.2.0",
      "model_name": "LayoutModel",
      "state": {}
     },
     "beae5d607a0f44dd84a4b9da23403ccb": {
      "model_module": "@jupyter-widgets/controls",
      "model_module_version": "1.5.0",
      "model_name": "SliderStyleModel",
      "state": {
       "description_width": ""
      }
     },
     "c17a02a7210147f6ae41a5bd279f9c26": {
      "model_module": "@jupyter-widgets/controls",
      "model_module_version": "1.5.0",
      "model_name": "CheckboxModel",
      "state": {
       "description": "unwrap",
       "disabled": false,
       "layout": "IPY_MODEL_97eec8abfdf442fba1dfd9631100361e",
       "style": "IPY_MODEL_3636c26e49fb47789baae2f238ef1ef7",
       "value": false
      }
     },
     "c1e65404e25c4c369995cf3f8b5e49de": {
      "model_module": "@jupyter-widgets/controls",
      "model_module_version": "1.5.0",
      "model_name": "DescriptionStyleModel",
      "state": {
       "description_width": ""
      }
     },
     "c43b34dd82084145aa138a7caf48c05e": {
      "model_module": "@jupyter-widgets/controls",
      "model_module_version": "1.5.0",
      "model_name": "SliderStyleModel",
      "state": {
       "description_width": ""
      }
     },
     "c44cca5695e54ff19f7412e7d08d1902": {
      "model_module": "@jupyter-widgets/controls",
      "model_module_version": "1.5.0",
      "model_name": "DescriptionStyleModel",
      "state": {
       "description_width": ""
      }
     },
     "c54eec13b5e84a9cac70cf837d879d85": {
      "model_module": "@jupyter-widgets/base",
      "model_module_version": "1.2.0",
      "model_name": "LayoutModel",
      "state": {}
     },
     "c5e24727146a4f1c95b5e55e85a66533": {
      "model_module": "@jupyter-widgets/base",
      "model_module_version": "1.2.0",
      "model_name": "LayoutModel",
      "state": {}
     },
     "c6746cb27eda404c8ae8d026c8157dcf": {
      "model_module": "@jupyter-widgets/controls",
      "model_module_version": "1.5.0",
      "model_name": "VBoxModel",
      "state": {
       "_dom_classes": [
        "widget-interact"
       ],
       "children": [
        "IPY_MODEL_ba576b35bf974cb4ad03159ba695c61a",
        "IPY_MODEL_ca41edb2f61f42b89de5c27c8cf853c5",
        "IPY_MODEL_4652fb03c19a42a38b0ac59632d900d6",
        "IPY_MODEL_421ae1d80f2640c5b6056ed15fcb603d"
       ],
       "layout": "IPY_MODEL_10858c30ff644b75bedb13c9aaa8e86a"
      }
     },
     "c94c1500aff447028c8e01b3cb8f3d7b": {
      "model_module": "@jupyter-widgets/controls",
      "model_module_version": "1.5.0",
      "model_name": "ButtonModel",
      "state": {
       "description": "Start",
       "layout": "IPY_MODEL_67b4f0ce8fe44a18bdfe96c060d953d7",
       "style": "IPY_MODEL_eb7880855b654087a714e63c2a0f5967"
      }
     },
     "ca41edb2f61f42b89de5c27c8cf853c5": {
      "model_module": "@jupyter-widgets/controls",
      "model_module_version": "1.5.0",
      "model_name": "FloatSliderModel",
      "state": {
       "description": "wc",
       "layout": "IPY_MODEL_229f46dbb5594226bb80908d9bd97617",
       "max": 1,
       "min": 0.1,
       "step": 0.01,
       "style": "IPY_MODEL_83d79b7454f547a191c07a11107cdec6",
       "value": 0.5
      }
     },
     "cb2128e116c840bf88ac2a370f8abc89": {
      "model_module": "@jupyter-widgets/base",
      "model_module_version": "1.2.0",
      "model_name": "LayoutModel",
      "state": {}
     },
     "cdce04c2d7714651b30c7400eb81f6cd": {
      "model_module": "@jupyter-widgets/output",
      "model_module_version": "1.0.0",
      "model_name": "OutputModel",
      "state": {
       "layout": "IPY_MODEL_38431e6d3cd2491384084e0d4886a11c",
       "outputs": [
        {
         "name": "stdout",
         "output_type": "stream",
         "text": "-2.9992585283794986\n-3.034173095206789\n"
        }
       ]
      }
     },
     "d63802a277e14da09213d828cb80963f": {
      "model_module": "@jupyter-widgets/base",
      "model_module_version": "1.2.0",
      "model_name": "LayoutModel",
      "state": {}
     },
     "d653ea8d8d274f7584b238048f2fcc35": {
      "model_module": "@jupyter-widgets/controls",
      "model_module_version": "1.5.0",
      "model_name": "VBoxModel",
      "state": {
       "_dom_classes": [
        "widget-interact"
       ],
       "children": [
        "IPY_MODEL_b7b9d255903749769f20286f768abb14",
        "IPY_MODEL_e9e4b0d9f08542d2be2684f57ed67373",
        "IPY_MODEL_461859f1b14c42e69ed6603245134b40"
       ],
       "layout": "IPY_MODEL_9f0596c34e90474dac5af9250c84f3c8"
      }
     },
     "d946add282394b1d94bd524837c96b45": {
      "model_module": "@jupyter-widgets/controls",
      "model_module_version": "1.5.0",
      "model_name": "SliderStyleModel",
      "state": {
       "description_width": ""
      }
     },
     "db9961c1570d425daab9e76bb9c90e3a": {
      "model_module": "@jupyter-widgets/controls",
      "model_module_version": "1.5.0",
      "model_name": "ToggleButtonModel",
      "state": {
       "description": "Stop",
       "layout": "IPY_MODEL_891e1ab2ab444ef89c9f6a2236b62484",
       "style": "IPY_MODEL_8d94cbc1692a4b60b342926780c4c034"
      }
     },
     "de54a3d6a83746bdbdf977b33454204a": {
      "model_module": "@jupyter-widgets/output",
      "model_module_version": "1.0.0",
      "model_name": "OutputModel",
      "state": {
       "layout": "IPY_MODEL_14e90ac533cd49cdaaaeb62cbd0fa9bc"
      }
     },
     "de60d3f2621b4ba78d77b40921c32b48": {
      "model_module": "@jupyter-widgets/base",
      "model_module_version": "1.2.0",
      "model_name": "LayoutModel",
      "state": {}
     },
     "df4729fceeb94eaabeda1fa181749d70": {
      "model_module": "@jupyter-widgets/base",
      "model_module_version": "1.2.0",
      "model_name": "LayoutModel",
      "state": {}
     },
     "e0d4012b568a4384bc37137136d53216": {
      "model_module": "@jupyter-widgets/controls",
      "model_module_version": "1.5.0",
      "model_name": "SliderStyleModel",
      "state": {
       "description_width": ""
      }
     },
     "e40821b543a64eb998fdbf0a5d83eb79": {
      "model_module": "@jupyter-widgets/controls",
      "model_module_version": "1.5.0",
      "model_name": "FloatSliderModel",
      "state": {
       "description": "wc",
       "layout": "IPY_MODEL_512f981be60f46ffac62a79d481e0dbe",
       "max": 1,
       "min": 0.1,
       "step": 0.01,
       "style": "IPY_MODEL_17fa56dfb7db4e159a57ca64a75fb7fb",
       "value": 0.5
      }
     },
     "e56f8108108c42988af66578da95c803": {
      "model_module": "@jupyter-widgets/controls",
      "model_module_version": "1.5.0",
      "model_name": "VBoxModel",
      "state": {
       "_dom_classes": [
        "widget-interact"
       ],
       "children": [
        "IPY_MODEL_0970a48ffe54495d9cbd42c3f3ab4d6c",
        "IPY_MODEL_a66936b45e2847589ec22cc1c13221b1",
        "IPY_MODEL_59c3521486594f78a98d393e207f3898",
        "IPY_MODEL_5965ecd22fd94ac9b8834a09cbfc6576"
       ],
       "layout": "IPY_MODEL_51353157d67046b6b5e27022c45632d6"
      }
     },
     "e9e4b0d9f08542d2be2684f57ed67373": {
      "model_module": "@jupyter-widgets/controls",
      "model_module_version": "1.5.0",
      "model_name": "CheckboxModel",
      "state": {
       "description": "unwrap",
       "disabled": false,
       "layout": "IPY_MODEL_1d210e98870d415c8d819016e2ec1501",
       "style": "IPY_MODEL_70870ccc363540e3ab392bbac4ab7ab9",
       "value": true
      }
     },
     "eb7880855b654087a714e63c2a0f5967": {
      "model_module": "@jupyter-widgets/controls",
      "model_module_version": "1.5.0",
      "model_name": "ButtonStyleModel",
      "state": {}
     },
     "ec64ee9af6be4c3e9b839f891d5d2679": {
      "model_module": "@jupyter-widgets/controls",
      "model_module_version": "1.5.0",
      "model_name": "ToggleButtonModel",
      "state": {
       "description": "Stop",
       "layout": "IPY_MODEL_b2cfe76ca355471bb804ea7585acc3af",
       "style": "IPY_MODEL_391678a09ded4245b0b8279ee079347b"
      }
     },
     "ee76e1c879ff4e4bb1e7caf54f04343d": {
      "model_module": "@jupyter-widgets/base",
      "model_module_version": "1.2.0",
      "model_name": "LayoutModel",
      "state": {}
     },
     "ef67b947ab784b888bc258307e748284": {
      "model_module": "@jupyter-widgets/controls",
      "model_module_version": "1.5.0",
      "model_name": "SliderStyleModel",
      "state": {
       "description_width": ""
      }
     },
     "f0a49ec366964223a43cd3860ff0edb7": {
      "model_module": "@jupyter-widgets/controls",
      "model_module_version": "1.5.0",
      "model_name": "SliderStyleModel",
      "state": {
       "description_width": ""
      }
     },
     "f208057bbc724df483350d415317e9a2": {
      "model_module": "@jupyter-widgets/base",
      "model_module_version": "1.2.0",
      "model_name": "LayoutModel",
      "state": {}
     },
     "f2f9fb3606934317b63f622c781d03bb": {
      "model_module": "@jupyter-widgets/controls",
      "model_module_version": "1.5.0",
      "model_name": "CheckboxModel",
      "state": {
       "description": "unwrap",
       "disabled": false,
       "layout": "IPY_MODEL_4a4f1eae1c3e48fa99aacac33c3573d0",
       "style": "IPY_MODEL_c44cca5695e54ff19f7412e7d08d1902",
       "value": true
      }
     },
     "f3d7a398669e492d93d7ed9abc2ea757": {
      "model_module": "@jupyter-widgets/controls",
      "model_module_version": "1.5.0",
      "model_name": "IntSliderModel",
      "state": {
       "description": "L",
       "layout": "IPY_MODEL_c5e24727146a4f1c95b5e55e85a66533",
       "max": 128,
       "min": 2,
       "style": "IPY_MODEL_b30c4b4b9af44ac09993b27262b0259e",
       "value": 16
      }
     },
     "f89886aba4c34d449ce8cbf9c45ea4cc": {
      "model_module": "@jupyter-widgets/controls",
      "model_module_version": "1.5.0",
      "model_name": "FloatSliderModel",
      "state": {
       "description": "wc",
       "layout": "IPY_MODEL_bd68e24af2b94ae18c2429165cac2e92",
       "max": 1,
       "min": 0.1,
       "step": 0.01,
       "style": "IPY_MODEL_c43b34dd82084145aa138a7caf48c05e",
       "value": 0.5
      }
     },
     "f8c1d8517c6c4b8a96c0754f923ad0c5": {
      "model_module": "@jupyter-widgets/controls",
      "model_module_version": "1.5.0",
      "model_name": "CheckboxModel",
      "state": {
       "description": "unwrap",
       "disabled": false,
       "layout": "IPY_MODEL_c54eec13b5e84a9cac70cf837d879d85",
       "style": "IPY_MODEL_45896b8ab76a4cb3b7e1595c4c811cfe",
       "value": false
      }
     },
     "fa972079af324291b5a19ba80bcdfc98": {
      "model_module": "@jupyter-widgets/base",
      "model_module_version": "1.2.0",
      "model_name": "LayoutModel",
      "state": {}
     },
     "fad6558ca7b4421a872e9c48c0fd5db3": {
      "model_module": "@jupyter-widgets/base",
      "model_module_version": "1.2.0",
      "model_name": "LayoutModel",
      "state": {}
     },
     "faf5451fe23d45c6b99edbc0a800faf2": {
      "model_module": "@jupyter-widgets/base",
      "model_module_version": "1.2.0",
      "model_name": "LayoutModel",
      "state": {}
     },
     "fbf926e4350749bab98b4227561f26da": {
      "model_module": "@jupyter-widgets/controls",
      "model_module_version": "1.5.0",
      "model_name": "FloatSliderModel",
      "state": {
       "description": "wc",
       "layout": "IPY_MODEL_641d559f5f02481b8f6403754fc5dae7",
       "max": 1,
       "min": 0.1,
       "step": 0.01,
       "style": "IPY_MODEL_ef67b947ab784b888bc258307e748284",
       "value": 0.5
      }
     },
     "feb0b85abc124c77a0c76f542518de47": {
      "model_module": "@jupyter-widgets/controls",
      "model_module_version": "1.5.0",
      "model_name": "SliderStyleModel",
      "state": {
       "description_width": ""
      }
     }
    },
    "version_major": 2,
    "version_minor": 0
   }
  }
 },
 "nbformat": 4,
 "nbformat_minor": 2
}
