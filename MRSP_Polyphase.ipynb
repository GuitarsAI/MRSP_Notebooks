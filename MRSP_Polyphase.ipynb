{
 "cells": [
  {
   "cell_type": "markdown",
   "metadata": {
    "slideshow": {
     "slide_type": "slide"
    }
   },
   "source": [
    "<center>\n",
    "    <img src=\"./images/msp_header.png\">\n",
    "</center>\n",
    "\n",
    "#### Prof. Dr. -Ing. Gerald Schuller <br> Jupyter Notebook: Renato Profeta"
   ]
  },
  {
   "cell_type": "markdown",
   "metadata": {
    "slideshow": {
     "slide_type": "-"
    }
   },
   "source": [
    "# Polyphase Representation"
   ]
  },
  {
   "cell_type": "code",
   "execution_count": 1,
   "metadata": {
    "hide_input": true
   },
   "outputs": [
    {
     "data": {
      "text/html": [
       "<center>\n",
       "<iframe width=\"560\" height=\"315\" src=\"https://www.youtube.com/embed/oGT5GcOIvFo\" frameborder=\"0\" allow=\"accelerometer; encrypted-media; gyroscope; picture-in-picture\" allowfullscreen></iframe>\n",
       "</center>\n"
      ],
      "text/plain": [
       "<IPython.core.display.HTML object>"
      ]
     },
     "metadata": {},
     "output_type": "display_data"
    }
   ],
   "source": [
    "%%html\n",
    "<center>\n",
    "<iframe width=\"560\" height=\"315\" src=\"https://www.youtube.com/embed/oGT5GcOIvFo\" frameborder=\"0\" allow=\"accelerometer; encrypted-media; gyroscope; picture-in-picture\" allowfullscreen></iframe>\n",
    "</center>"
   ]
  },
  {
   "cell_type": "markdown",
   "metadata": {
    "slideshow": {
     "slide_type": "-"
    }
   },
   "source": [
    "Last time we saw how to obtain the polyphase representation for the fitering and downsampling operation of **1 fiter**. We now extend this formulation for a **bank of N fiters**.\n",
    "\n",
    "Here we not only have 1 fiter, but N fiters in our **analysis fiter bank**, and hence can assemble the N fiter outputs or N subbands into a vector of N elements, \n",
    "\n",
    "$$\\large\n",
    "Y(z):=[Y_0(z),Y_1(z),...,Y_\\text{N-1}(z)]$$\n",
    "\n",
    "We also now have **N fiters** instead of 1 fiter, and we assemble the polyphase vectors of our fiters into a matrix, in which each column corresponds to an anlalysis filter, \n",
    "\n",
    "$$\\large\n",
    "H(z):=[H_0^T(z),H_1^T(z),...,H_\\text{N-1}^T(z)]=$$\n",
    "\n",
    "$$\\large\n",
    "=\\left[ \n",
    "        \\begin{array}{ccc} \n",
    "            H_{N-1,0}(z) & H_{N-1,1}(z) & \\dots & H_{N-1,N-1}(z) \\\\ \n",
    "            H_{N-2,0}(z) & \\dots & \\dots & \\vdots \\\\\n",
    "            \\vdots & \\dots & \\ddots & \\vdots \\\\ \n",
    "            H_{0,0}(z) & \\dots & \\dots & H_{0,N-1}(z) \n",
    "        \\end{array}\n",
    "    \\right]\n",
    "$$,\n",
    "with\n",
    "$$\\large\n",
    "H_\\text{n,k}(z)=\\sum_{m=0}^{\\infty}(m \\cdot N+n) \\cdot z^{-m}$$"
   ]
  },
  {
   "cell_type": "code",
   "execution_count": 2,
   "metadata": {
    "hide_input": true
   },
   "outputs": [
    {
     "data": {
      "text/html": [
       "<center>\n",
       "<iframe width=\"560\" height=\"315\" src=\"https://www.youtube.com/embed/pOYWmJrjtxw\" frameborder=\"0\" allow=\"accelerometer; encrypted-media; gyroscope; picture-in-picture\" allowfullscreen></iframe>\n",
       "</center>\n"
      ],
      "text/plain": [
       "<IPython.core.display.HTML object>"
      ]
     },
     "metadata": {},
     "output_type": "display_data"
    }
   ],
   "source": [
    "%%html\n",
    "<center>\n",
    "<iframe width=\"560\" height=\"315\" src=\"https://www.youtube.com/embed/pOYWmJrjtxw\" frameborder=\"0\" allow=\"accelerometer; encrypted-media; gyroscope; picture-in-picture\" allowfullscreen></iframe>\n",
    "</center>"
   ]
  },
  {
   "cell_type": "markdown",
   "metadata": {
    "slideshow": {
     "slide_type": "-"
    }
   },
   "source": [
    "This **matrix of polynomials** now contains all our N impulse responses of our analysis filter bank, just like in our block transform case, but with **arbitrary long filters**. Unlike our transform case, here we now have z-transforms (polynomials in z) as our matrix entries. This now enables us to write the filtering and downsampling operations of our entire analysis filter bank as a simple multiplication using the above **polyphase matrix!** This is a very important result:\n",
    "\n",
    "$$\\large\n",
    "Y(z)=X(z) \\cdot H(z)$$\n",
    "\n",
    "Mathematically this looks similar to the block transform case, but with z-transforms! Observe that this equation now contains **all the samples** of our **input signal** and also of our **subband signals** and our impulse responses, because we use the z-transformed signals. \n",
    "\n",
    "The z-transform converts a potentially **infinite sequence** into just a scalar or an element (its z-transform), which can be seen as a 1x1 matrix (the z-transform of that sequence is one big polynomial). All the input samples are in vector X(z). This is important because it allows us to use longer filters than just 1 block, longer than with the block transforms.\n",
    "\n",
    "**Observe:** For an implementation, we can write the polyphase matrix as a polynomial of matrices H(m) ,\n",
    "\n",
    "\n",
    "$$\\large\n",
    "H(z)=\\sum_{m=0}^{\\infty}H(m) \\cdot z^{-m}$$\n",
    "\n",
    "Where the elements of the n’th row and k’th column of **H(m)** are:\n",
    "\n",
    "$$\\large\n",
    "H_\\text{n,k}(z)=h_k(m \\cdot N+n)$$\n",
    "\n",
    "In Python the exponent *m* would appear as the third dimension, as “slices” of matrices,\n",
    "\n",
    "$$\\large\n",
    "Hp[n,k,m] = h_k(mN+n)\n",
    "$$\n",
    "\n",
    "**In conclusion:** We can write the entire analysis filter bank with its N filters and downsamplers by N with a size NxN polyphase matrix H (z) , which is multiplied by the polyphase vector of the signal X (z) ."
   ]
  },
  {
   "cell_type": "markdown",
   "metadata": {
    "hide_input": false,
    "slideshow": {
     "slide_type": "slide"
    }
   },
   "source": [
    "## Synthesis Filter Bank"
   ]
  },
  {
   "cell_type": "code",
   "execution_count": 3,
   "metadata": {
    "hide_input": true
   },
   "outputs": [
    {
     "data": {
      "text/html": [
       "<Center>\n",
       "<iframe width=\"560\" height=\"315\" src=\"https://www.youtube.com/embed/XSZSsrVKZAs\" frameborder=\"0\" allow=\"accelerometer; encrypted-media; gyroscope; picture-in-picture\" allowfullscreen></iframe>\n",
       "</center>\n"
      ],
      "text/plain": [
       "<IPython.core.display.HTML object>"
      ]
     },
     "metadata": {},
     "output_type": "display_data"
    }
   ],
   "source": [
    "%%html\n",
    "<Center>\n",
    "<iframe width=\"560\" height=\"315\" src=\"https://www.youtube.com/embed/XSZSsrVKZAs\" frameborder=\"0\" allow=\"accelerometer; encrypted-media; gyroscope; picture-in-picture\" allowfullscreen></iframe>\n",
    "</center>"
   ]
  },
  {
   "cell_type": "markdown",
   "metadata": {
    "hide_input": false,
    "slideshow": {
     "slide_type": "-"
    }
   },
   "source": [
    "Just as for the block transform case, we can also get a corresponding formulation for the synthesis filter bank. For the synthesis filter bank, we can now also write the reconstructed sequence $\\hat x(n)$ in terms of blocks with index *m*\n",
    "and phases *n*, and obtain the synthesis upsampling and convolution as (see also eq. (8) of lecture (11)):\n",
    "\n",
    "$$\\large\n",
    "\\hat x(mN+n) = \\sum_{k=0}^{N-1} \\sum_{m'=0}^{\\frac{L}{N-1}} y_k(m-m') \\cdot g_k(m'N+n)\n",
    "$$\n",
    "(with some still to be determined $g_k$)\n",
    "\n",
    "We can now also use vectors for our sequences of blocks to simplify this equation, using a vector for our reconstructed signal and for our k'th synthesis filter (we start again with looking at just 1 filter),\n",
    "\n",
    "$$\\large\n",
    "\\hat x(m)=[\\hat x(mN),\\hat x(mN+1),...,\\hat x(mN+N-1)]\n",
    "$$\n",
    "\n",
    "$$\\large\n",
    "g_k(m)=[g_k(mN),g_k(mN+1),...,g_k(mN+N-1)]\n",
    "$$\n",
    "\n",
    "Now we can re-write our synthesis equation as (with L the length of the synthesis filters):\n",
    "\n",
    "$$\\large\n",
    "\\hat x(m) = \\sum_{k=0}^{N-1} \\sum_{m'=0}^{\\frac{L}{N-1}} y_k(m-m') \\cdot g_k(m')\n",
    "$$\n",
    "\n",
    "The inner sum is a convolution,\n",
    "\n",
    "$$\\large\n",
    "\\hat x(m) = \\sum_{k=0}^{N-1} y_k(m) * g_k(m)\n",
    "$$\n",
    "\n",
    "where we now no longer have our phase index *n*, because we now have output blocks instead of samples.\n",
    "\n",
    "The inner sum is again a convolution, which turns into a multiplication using the z-transform,\n",
    "\n",
    "$$\\large\n",
    "\\hat X(z) = \\sum_{k=0}^{N-1} Y_k(z)\\cdot G_k(z)\n",
    "$$"
   ]
  },
  {
   "cell_type": "markdown",
   "metadata": {
    "slideshow": {
     "slide_type": "-"
    }
   },
   "source": [
    "Now we can extend this notation to our bank of N synthesis filters using our subband vector Y(z), and the synthesis polyphase matrix.\n",
    "\n",
    "Since the output is the sum of all subbands, we obtain our polyphase matrix by collecting all our polyphase (row) vectors of our synthesis filters $G_k(z)$ into a matrix, such that the **outer sum** of the above equation **turns into a matrix multiplication**,\n",
    "\n",
    "$$\\large\n",
    "\\hat X(z) = [Y_0(z), Y_1(z),...Y_{N-1}(z)] \\cdot G(z)\n",
    "$$\n",
    "\n",
    "where each row of G( z) now contains one synthesis filter, or\n",
    "\n",
    "$$\\large\n",
    "=\\left[\n",
    "\\begin{array}{c}\n",
    "G_0(z) \\\\\n",
    "G_1(z) \\\\\n",
    "\\vdots \\\\\n",
    "G_{N-1}(z)\n",
    "\\end{array} \\right] \n",
    "=\\left[ \n",
    "        \\begin{array}{ccc} \n",
    "            G_{0,0}(z) & G_{0,1}(z) & \\dots & G_{0,N-1}(z) \\\\ \n",
    "            G_{1,0}(z) & \\dots & \\dots & \\vdots \\\\\n",
    "            \\vdots & \\dots & \\ddots & \\vdots \\\\ \n",
    "            G_{N-1,0}(z) & \\dots & \\dots & G_{N-1,N-1}(z) \n",
    "        \\end{array}\n",
    "    \\right]\n",
    "$$\n",
    "\n",
    "This is the **synthesis polyphase matrix.**\n",
    "\n",
    "**Observe** that for this polyphase matrix, the indices for the subbands *k* and for the phase *n* are in reversed order compared to the analysis polyphase matrix.\n",
    "\n",
    "**In Conclusion:** Again we turned the mathematically very complex operation of upsampling and synthesis filtering into a mathematically very simple operation with the multiplication of the subband vector with the polyphase matrix!\n",
    "\n",
    "$$\\large\n",
    "\\hat X(z) = Y(z) \\cdot G(z)\n",
    "$$"
   ]
  },
  {
   "cell_type": "markdown",
   "metadata": {
    "slideshow": {
     "slide_type": "slide"
    }
   },
   "source": [
    "## Perfect Reconstruction"
   ]
  },
  {
   "cell_type": "code",
   "execution_count": 4,
   "metadata": {
    "hide_input": true
   },
   "outputs": [
    {
     "data": {
      "text/html": [
       "<center>\n",
       "<iframe width=\"560\" height=\"315\" src=\"https://www.youtube.com/embed/YsizTX_9X4E\" frameborder=\"0\" allow=\"accelerometer; encrypted-media; gyroscope; picture-in-picture\" allowfullscreen></iframe>\n",
       "</center>\n"
      ],
      "text/plain": [
       "<IPython.core.display.HTML object>"
      ]
     },
     "metadata": {},
     "output_type": "display_data"
    }
   ],
   "source": [
    "%%html\n",
    "<center>\n",
    "<iframe width=\"560\" height=\"315\" src=\"https://www.youtube.com/embed/YsizTX_9X4E\" frameborder=\"0\" allow=\"accelerometer; encrypted-media; gyroscope; picture-in-picture\" allowfullscreen></iframe>\n",
    "</center>"
   ]
  },
  {
   "cell_type": "markdown",
   "metadata": {
    "slideshow": {
     "slide_type": "-"
    }
   },
   "source": [
    "Perfect reconstruction (PR) is defned as a reconstructed signal which is identical to the original signal except for a delay,\n",
    "\n",
    "$$\\large\n",
    "\\hat x(n) = x(n-n_d)\n",
    "$$\n",
    "\n",
    "with some delay $n_d$ at the original sampling rate.\n",
    "\n",
    "This delay usually results from our filtering and the downsampling and upsampling operations. To obtain PR we can simply take a look at the output of our synthesis filter bank,\n",
    "\n",
    "$$\\large\n",
    "\\hat X(z) = Y(z) \\cdot G(z) = X(z) \\cdot H(z) \\cdot G(z)\n",
    "$$\n",
    "\n",
    "The structure of the polyphase analysis and synthesis filter bank can be seen also in the following picture,\n",
    "\n",
    "<center>\n",
    "    <img src=\"./images/msp_12_01_polyphase.jpg\" width=\"800\">\n",
    "</center>\n",
    "\n",
    "The structure with the delays and downsamplers on the left of the analysis polyphase matrix converts a sequence of samples at the high sampling rate into a sequence of blocks at the low sampling rate (“blocking”), which is what our Python function\n",
    "“x2polyphase\" is doing. \n",
    "\n",
    "Conversely, the structure to the right of the synthesis polyphase matrix converts a sequence of blocks at the low sampling rate into a sequence of samples at the high sampling rate (“deblocking”, with polyphase2x)\n",
    "\n",
    "Here we can see that we obtain perfect reconstruction if we have the synthesis polyphase matrix as the inverse of the analysis polyphase times a delay by *d* blocks,\n",
    "\n",
    "$$\\large\n",
    "G(z) = z^{-d} \\cdot H^{-1}(z)\n",
    "$$\n",
    "\n",
    "(where *d* here is the delay at the downsampled rate.)\n",
    "\n",
    "This is basically again like in our block transform case. This is now the constraint for obtaining PR. \n",
    "\n",
    "The question is, how do we obtain filters for PR? How do we invert a polyphase matrix, containing the polynomials? How do we get \"good\" synthesis filters?"
   ]
  },
  {
   "cell_type": "markdown",
   "metadata": {
    "slideshow": {
     "slide_type": "-"
    }
   },
   "source": [
    "A simple approach is analog to **orthogonal** block transform matrices, where the inverse is simply the transpose matrix. There the analysis and synthesis filters are identical, except for the time reversal for the analysis filters.\n",
    "\n",
    "The corresponding property of polyphase matrices is called **\"para-unitary\"** (see also: Vaidyanathan: Multirate Systems and Filter Banks). It is defned as,\n",
    "\n",
    "$$\\large\n",
    "\\begin{equation}\n",
    "H^{-1}(z) = H^T(z^{-1})\n",
    "\\end{equation}\n",
    "$$\n",
    "\n",
    "(The transposition is the case for real valued coefficients in the polyphase matrix. Otherwise we need conjugate transposition for the coeffients).\n",
    "\n",
    "This definition is very similar to the definition for orthonormal matrices, except that we have the “ $z^{−1}$ “ on the right hand side (which corresponds to a time-reversal).\n",
    "\n",
    "The advantage (or rather: one of its advantages) of a polyphase matrix with this property is, that we don't need to explicitly compute its inverse, we just need to transpose it and replace all z's by $z^{-1}$\n",
    "\n",
    "**Observe**: if our polynomials in the polyphase matrix **only have zero'th order** (only a constant, no z, only $z^0=1$ ), then the polyphase matrix is identical to a transform matrix (for instance our DCT4). We obtain this simple case if our filters are no longer than N, they fit into one block."
   ]
  }
 ],
 "metadata": {
  "kernelspec": {
   "display_name": "Python 3",
   "language": "python",
   "name": "python3"
  },
  "language_info": {
   "codemirror_mode": {
    "name": "ipython",
    "version": 3
   },
   "file_extension": ".py",
   "mimetype": "text/x-python",
   "name": "python",
   "nbconvert_exporter": "python",
   "pygments_lexer": "ipython3",
   "version": "3.7.4"
  },
  "widgets": {
   "application/vnd.jupyter.widget-state+json": {
    "state": {
     "0029500d285347cea960cae032e0a9d8": {
      "model_module": "@jupyter-widgets/base",
      "model_module_version": "1.2.0",
      "model_name": "LayoutModel",
      "state": {}
     },
     "0356272802724c91961a212e00758da4": {
      "model_module": "@jupyter-widgets/base",
      "model_module_version": "1.2.0",
      "model_name": "LayoutModel",
      "state": {}
     },
     "03f7d15dabf94028be0ce784a72870dc": {
      "model_module": "@jupyter-widgets/base",
      "model_module_version": "1.2.0",
      "model_name": "LayoutModel",
      "state": {}
     },
     "05be72cf936d4ea5b04d7a79c8f036df": {
      "model_module": "@jupyter-widgets/controls",
      "model_module_version": "1.5.0",
      "model_name": "VBoxModel",
      "state": {
       "_dom_classes": [
        "widget-interact"
       ],
       "children": [
        "IPY_MODEL_f3d7a398669e492d93d7ed9abc2ea757",
        "IPY_MODEL_916401e8db3c4c09b58fae8d1fe823c3",
        "IPY_MODEL_48bae7a82391411f9d6d12791d8610b6",
        "IPY_MODEL_6a8662949af54cabbdf270f5bc9b950b"
       ],
       "layout": "IPY_MODEL_a6481be1425d46e5b5abf1b52e73ce97"
      }
     },
     "068b562a3083493d8a7a4aa20dac51d6": {
      "model_module": "@jupyter-widgets/base",
      "model_module_version": "1.2.0",
      "model_name": "LayoutModel",
      "state": {}
     },
     "08e5a1586b1641a9961eebd6d3d85b60": {
      "model_module": "@jupyter-widgets/controls",
      "model_module_version": "1.5.0",
      "model_name": "VBoxModel",
      "state": {
       "_dom_classes": [
        "widget-interact"
       ],
       "children": [
        "IPY_MODEL_0ce78217e62243d9afa7d902e0b4c566",
        "IPY_MODEL_2bb6471882fa41a19900178bf91012e8",
        "IPY_MODEL_5dcf8c760acf4659a1da7dec20448e2e",
        "IPY_MODEL_0b304f0b5b6548329a5089a517d6a612"
       ],
       "layout": "IPY_MODEL_d63802a277e14da09213d828cb80963f"
      }
     },
     "0970a48ffe54495d9cbd42c3f3ab4d6c": {
      "model_module": "@jupyter-widgets/controls",
      "model_module_version": "1.5.0",
      "model_name": "IntSliderModel",
      "state": {
       "description": "L",
       "layout": "IPY_MODEL_5ff41e6d45694fb8812178d014ceeb97",
       "max": 128,
       "min": 2,
       "style": "IPY_MODEL_d946add282394b1d94bd524837c96b45",
       "value": 31
      }
     },
     "0b304f0b5b6548329a5089a517d6a612": {
      "model_module": "@jupyter-widgets/output",
      "model_module_version": "1.0.0",
      "model_name": "OutputModel",
      "state": {
       "layout": "IPY_MODEL_8727619714e3420ebb4d6e54edd75c9d",
       "outputs": [
        {
         "name": "stdout",
         "output_type": "stream",
         "text": "-2.986324857901867\n-3.0322753864458294\n"
        },
        {
         "ename": "TypeError",
         "evalue": "angle() got an unexpected keyword argument 'degree'",
         "output_type": "error",
         "traceback": [
          "\u001b[1;31m---------------------------------------------------------------------------\u001b[0m",
          "\u001b[1;31mTypeError\u001b[0m                                 Traceback (most recent call last)",
          "\u001b[1;32mD:\\Anaconda3\\envs\\TU_Tutorials\\lib\\site-packages\\ipywidgets\\widgets\\interaction.py\u001b[0m in \u001b[0;36mupdate\u001b[1;34m(self, *args)\u001b[0m\n\u001b[0;32m    254\u001b[0m                     \u001b[0mvalue\u001b[0m \u001b[1;33m=\u001b[0m \u001b[0mwidget\u001b[0m\u001b[1;33m.\u001b[0m\u001b[0mget_interact_value\u001b[0m\u001b[1;33m(\u001b[0m\u001b[1;33m)\u001b[0m\u001b[1;33m\u001b[0m\u001b[1;33m\u001b[0m\u001b[0m\n\u001b[0;32m    255\u001b[0m                     \u001b[0mself\u001b[0m\u001b[1;33m.\u001b[0m\u001b[0mkwargs\u001b[0m\u001b[1;33m[\u001b[0m\u001b[0mwidget\u001b[0m\u001b[1;33m.\u001b[0m\u001b[0m_kwarg\u001b[0m\u001b[1;33m]\u001b[0m \u001b[1;33m=\u001b[0m \u001b[0mvalue\u001b[0m\u001b[1;33m\u001b[0m\u001b[1;33m\u001b[0m\u001b[0m\n\u001b[1;32m--> 256\u001b[1;33m                 \u001b[0mself\u001b[0m\u001b[1;33m.\u001b[0m\u001b[0mresult\u001b[0m \u001b[1;33m=\u001b[0m \u001b[0mself\u001b[0m\u001b[1;33m.\u001b[0m\u001b[0mf\u001b[0m\u001b[1;33m(\u001b[0m\u001b[1;33m**\u001b[0m\u001b[0mself\u001b[0m\u001b[1;33m.\u001b[0m\u001b[0mkwargs\u001b[0m\u001b[1;33m)\u001b[0m\u001b[1;33m\u001b[0m\u001b[1;33m\u001b[0m\u001b[0m\n\u001b[0m\u001b[0;32m    257\u001b[0m                 \u001b[0mshow_inline_matplotlib_plots\u001b[0m\u001b[1;33m(\u001b[0m\u001b[1;33m)\u001b[0m\u001b[1;33m\u001b[0m\u001b[1;33m\u001b[0m\u001b[0m\n\u001b[0;32m    258\u001b[0m                 \u001b[1;32mif\u001b[0m \u001b[0mself\u001b[0m\u001b[1;33m.\u001b[0m\u001b[0mauto_display\u001b[0m \u001b[1;32mand\u001b[0m \u001b[0mself\u001b[0m\u001b[1;33m.\u001b[0m\u001b[0mresult\u001b[0m \u001b[1;32mis\u001b[0m \u001b[1;32mnot\u001b[0m \u001b[1;32mNone\u001b[0m\u001b[1;33m:\u001b[0m\u001b[1;33m\u001b[0m\u001b[1;33m\u001b[0m\u001b[0m\n",
          "\u001b[1;32m<ipython-input-7-59ac1ab402f1>\u001b[0m in \u001b[0;36mplot_h\u001b[1;34m(L, wc, unwrap)\u001b[0m\n\u001b[0;32m     68\u001b[0m \u001b[1;33m\u001b[0m\u001b[0m\n\u001b[0;32m     69\u001b[0m     \u001b[0max3\u001b[0m\u001b[1;33m.\u001b[0m\u001b[0mclear\u001b[0m\u001b[1;33m(\u001b[0m\u001b[1;33m)\u001b[0m\u001b[1;33m\u001b[0m\u001b[1;33m\u001b[0m\u001b[0m\n\u001b[1;32m---> 70\u001b[1;33m     \u001b[0mphase\u001b[0m\u001b[1;33m=\u001b[0m\u001b[0mnp\u001b[0m\u001b[1;33m.\u001b[0m\u001b[0mangle\u001b[0m\u001b[1;33m(\u001b[0m\u001b[0mH\u001b[0m\u001b[1;33m,\u001b[0m \u001b[0mdegree\u001b[0m\u001b[1;33m=\u001b[0m\u001b[1;32mTrue\u001b[0m\u001b[1;33m)\u001b[0m\u001b[1;33m\u001b[0m\u001b[1;33m\u001b[0m\u001b[0m\n\u001b[0m\u001b[0;32m     71\u001b[0m     \u001b[1;32mif\u001b[0m \u001b[0munwrap\u001b[0m\u001b[1;33m:\u001b[0m\u001b[1;33m\u001b[0m\u001b[1;33m\u001b[0m\u001b[0m\n\u001b[0;32m     72\u001b[0m         \u001b[0mphase\u001b[0m\u001b[1;33m=\u001b[0m\u001b[0mnp\u001b[0m\u001b[1;33m.\u001b[0m\u001b[0munwrap\u001b[0m\u001b[1;33m(\u001b[0m\u001b[0mphase\u001b[0m\u001b[1;33m)\u001b[0m\u001b[1;33m\u001b[0m\u001b[1;33m\u001b[0m\u001b[0m\n",
          "\u001b[1;31mTypeError\u001b[0m: angle() got an unexpected keyword argument 'degree'"
         ]
        }
       ]
      }
     },
     "0ce78217e62243d9afa7d902e0b4c566": {
      "model_module": "@jupyter-widgets/controls",
      "model_module_version": "1.5.0",
      "model_name": "IntSliderModel",
      "state": {
       "description": "L",
       "layout": "IPY_MODEL_5d9e6bb9b35741ae8dd8822c7c2ec827",
       "max": 128,
       "min": 2,
       "style": "IPY_MODEL_b8ea2825e9104823ba3338439df90b21",
       "value": 16
      }
     },
     "0ebf19ba64a2445182602e0fe7a7ee0e": {
      "model_module": "@jupyter-widgets/controls",
      "model_module_version": "1.5.0",
      "model_name": "DescriptionStyleModel",
      "state": {
       "description_width": ""
      }
     },
     "10858c30ff644b75bedb13c9aaa8e86a": {
      "model_module": "@jupyter-widgets/base",
      "model_module_version": "1.2.0",
      "model_name": "LayoutModel",
      "state": {}
     },
     "144e9bb694ff4c2b974520c7b8a3a9c6": {
      "model_module": "@jupyter-widgets/controls",
      "model_module_version": "1.5.0",
      "model_name": "SliderStyleModel",
      "state": {
       "description_width": ""
      }
     },
     "14e90ac533cd49cdaaaeb62cbd0fa9bc": {
      "model_module": "@jupyter-widgets/base",
      "model_module_version": "1.2.0",
      "model_name": "LayoutModel",
      "state": {}
     },
     "1565d880ece4426a8e5b6f9d3e5c116f": {
      "model_module": "@jupyter-widgets/base",
      "model_module_version": "1.2.0",
      "model_name": "LayoutModel",
      "state": {}
     },
     "17fa56dfb7db4e159a57ca64a75fb7fb": {
      "model_module": "@jupyter-widgets/controls",
      "model_module_version": "1.5.0",
      "model_name": "SliderStyleModel",
      "state": {
       "description_width": ""
      }
     },
     "1834df36879940888884860cb2c266af": {
      "model_module": "@jupyter-widgets/base",
      "model_module_version": "1.2.0",
      "model_name": "LayoutModel",
      "state": {}
     },
     "19fccd5352e943878cba95d3b2995ed1": {
      "model_module": "@jupyter-widgets/base",
      "model_module_version": "1.2.0",
      "model_name": "LayoutModel",
      "state": {}
     },
     "1a2ecf6949374a25a9565e84d7999caf": {
      "model_module": "@jupyter-widgets/base",
      "model_module_version": "1.2.0",
      "model_name": "LayoutModel",
      "state": {}
     },
     "1af02d515cf44f19aaca78877f88661c": {
      "model_module": "@jupyter-widgets/controls",
      "model_module_version": "1.5.0",
      "model_name": "VBoxModel",
      "state": {
       "_dom_classes": [
        "widget-interact"
       ],
       "children": [
        "IPY_MODEL_2f5f2ecd932f4fcebb1b8931495c81e1",
        "IPY_MODEL_990358533027449aac97876b636eea58",
        "IPY_MODEL_de54a3d6a83746bdbdf977b33454204a"
       ],
       "layout": "IPY_MODEL_49f349a9156a445da42980546de95da9"
      }
     },
     "1b20b14c69214d0dac0decfe18d1e152": {
      "model_module": "@jupyter-widgets/output",
      "model_module_version": "1.0.0",
      "model_name": "OutputModel",
      "state": {
       "layout": "IPY_MODEL_6ce5ebf11b33486b9d9f803cfea5dfea"
      }
     },
     "1c233488a05d481a89739a93beead8b6": {
      "model_module": "@jupyter-widgets/base",
      "model_module_version": "1.2.0",
      "model_name": "LayoutModel",
      "state": {}
     },
     "1d210e98870d415c8d819016e2ec1501": {
      "model_module": "@jupyter-widgets/base",
      "model_module_version": "1.2.0",
      "model_name": "LayoutModel",
      "state": {}
     },
     "2160fccd15774970af84802719367788": {
      "model_module": "@jupyter-widgets/base",
      "model_module_version": "1.2.0",
      "model_name": "LayoutModel",
      "state": {}
     },
     "229f46dbb5594226bb80908d9bd97617": {
      "model_module": "@jupyter-widgets/base",
      "model_module_version": "1.2.0",
      "model_name": "LayoutModel",
      "state": {}
     },
     "2488a7b125004931a8f11c877d698119": {
      "model_module": "@jupyter-widgets/base",
      "model_module_version": "1.2.0",
      "model_name": "LayoutModel",
      "state": {}
     },
     "2803a907927946ea9895b008c55df0e9": {
      "model_module": "@jupyter-widgets/base",
      "model_module_version": "1.2.0",
      "model_name": "LayoutModel",
      "state": {}
     },
     "290a6bc604c84cc1abc5a41f065893a0": {
      "model_module": "@jupyter-widgets/controls",
      "model_module_version": "1.5.0",
      "model_name": "IntSliderModel",
      "state": {
       "description": "L",
       "layout": "IPY_MODEL_ae855c0eeb374b7eaad889676d4bae73",
       "max": 128,
       "min": 2,
       "style": "IPY_MODEL_9c1f955f51234fee85275b0b893da03d",
       "value": 11
      }
     },
     "2bb6471882fa41a19900178bf91012e8": {
      "model_module": "@jupyter-widgets/controls",
      "model_module_version": "1.5.0",
      "model_name": "FloatSliderModel",
      "state": {
       "description": "wc",
       "layout": "IPY_MODEL_989bb64f31964c63a6d4ac801d86de78",
       "max": 1,
       "min": 0.1,
       "step": 0.01,
       "style": "IPY_MODEL_39a7ac1f32ca4e1cb39558cd5b79c9e1",
       "value": 0.5
      }
     },
     "2c1afa2493344b229273a2ebf60a13c9": {
      "model_module": "@jupyter-widgets/controls",
      "model_module_version": "1.5.0",
      "model_name": "IntSliderModel",
      "state": {
       "description": "L",
       "layout": "IPY_MODEL_bd9b55a8090b45f490ec8d380750bff0",
       "max": 128,
       "min": 2,
       "style": "IPY_MODEL_f0a49ec366964223a43cd3860ff0edb7",
       "value": 12
      }
     },
     "2d11c90e4251463696f4cdad65b21587": {
      "model_module": "@jupyter-widgets/controls",
      "model_module_version": "1.5.0",
      "model_name": "SliderStyleModel",
      "state": {
       "description_width": ""
      }
     },
     "2d549e2206e04707a18d302c4febb071": {
      "model_module": "@jupyter-widgets/base",
      "model_module_version": "1.2.0",
      "model_name": "LayoutModel",
      "state": {}
     },
     "2ea14d3e1de84e0caf561890c4169c4a": {
      "model_module": "@jupyter-widgets/base",
      "model_module_version": "1.2.0",
      "model_name": "LayoutModel",
      "state": {}
     },
     "2f5f2ecd932f4fcebb1b8931495c81e1": {
      "model_module": "@jupyter-widgets/controls",
      "model_module_version": "1.5.0",
      "model_name": "IntSliderModel",
      "state": {
       "description": "L",
       "layout": "IPY_MODEL_2803a907927946ea9895b008c55df0e9",
       "max": 128,
       "min": 2,
       "style": "IPY_MODEL_e0d4012b568a4384bc37137136d53216",
       "value": 16
      }
     },
     "3570bdbed31c4fec9395f337a28c7c41": {
      "model_module": "@jupyter-widgets/controls",
      "model_module_version": "1.5.0",
      "model_name": "DescriptionStyleModel",
      "state": {
       "description_width": ""
      }
     },
     "3636c26e49fb47789baae2f238ef1ef7": {
      "model_module": "@jupyter-widgets/controls",
      "model_module_version": "1.5.0",
      "model_name": "DescriptionStyleModel",
      "state": {
       "description_width": ""
      }
     },
     "37909931df1c47e4948a530f7963f1e0": {
      "model_module": "@jupyter-widgets/controls",
      "model_module_version": "1.5.0",
      "model_name": "VBoxModel",
      "state": {
       "_dom_classes": [
        "widget-interact"
       ],
       "children": [
        "IPY_MODEL_7d67995d29be4477b74511527f4a7364",
        "IPY_MODEL_e40821b543a64eb998fdbf0a5d83eb79",
        "IPY_MODEL_a177ee2609364bec90f6db3a4f5cf21f",
        "IPY_MODEL_6bf8bef585f14e87b4ac18b8c20fccf9"
       ],
       "layout": "IPY_MODEL_2160fccd15774970af84802719367788"
      }
     },
     "38431e6d3cd2491384084e0d4886a11c": {
      "model_module": "@jupyter-widgets/base",
      "model_module_version": "1.2.0",
      "model_name": "LayoutModel",
      "state": {}
     },
     "391678a09ded4245b0b8279ee079347b": {
      "model_module": "@jupyter-widgets/controls",
      "model_module_version": "1.5.0",
      "model_name": "DescriptionStyleModel",
      "state": {
       "description_width": ""
      }
     },
     "39a7ac1f32ca4e1cb39558cd5b79c9e1": {
      "model_module": "@jupyter-widgets/controls",
      "model_module_version": "1.5.0",
      "model_name": "SliderStyleModel",
      "state": {
       "description_width": ""
      }
     },
     "3bec1d062a4c4d2ebfa1786527f1b5e5": {
      "model_module": "@jupyter-widgets/controls",
      "model_module_version": "1.5.0",
      "model_name": "ToggleButtonModel",
      "state": {
       "description": "Stop",
       "layout": "IPY_MODEL_1565d880ece4426a8e5b6f9d3e5c116f",
       "style": "IPY_MODEL_f037ad039ab04806b30e50a860313dbf"
      }
     },
     "3dcc42ce2f4b4de3aa3ce8969c492081": {
      "model_module": "@jupyter-widgets/base",
      "model_module_version": "1.2.0",
      "model_name": "LayoutModel",
      "state": {}
     },
     "3ea876db91d84f32997f07d1d42bf507": {
      "model_module": "@jupyter-widgets/base",
      "model_module_version": "1.2.0",
      "model_name": "LayoutModel",
      "state": {}
     },
     "408a375449bc4879bc7cfd0b6e1a1858": {
      "model_module": "@jupyter-widgets/base",
      "model_module_version": "1.2.0",
      "model_name": "LayoutModel",
      "state": {}
     },
     "40c8afaa44bf482193aafcf33beef555": {
      "model_module": "@jupyter-widgets/controls",
      "model_module_version": "1.5.0",
      "model_name": "DescriptionStyleModel",
      "state": {
       "description_width": ""
      }
     },
     "40db9cfe2782441bb5c91a1f8c033456": {
      "model_module": "@jupyter-widgets/controls",
      "model_module_version": "1.5.0",
      "model_name": "VBoxModel",
      "state": {
       "_dom_classes": [
        "widget-interact"
       ],
       "children": [
        "IPY_MODEL_6d2f3cedfbbd4c91a5a5fc3ab1d7a4d3",
        "IPY_MODEL_fbf926e4350749bab98b4227561f26da",
        "IPY_MODEL_50f8238d579f472e9dccae2d7e393675",
        "IPY_MODEL_8b813eacd35f4288b3ad6121fc1747c5"
       ],
       "layout": "IPY_MODEL_63c30ff14cb846fda36062c8de3f597e"
      }
     },
     "421ae1d80f2640c5b6056ed15fcb603d": {
      "model_module": "@jupyter-widgets/output",
      "model_module_version": "1.0.0",
      "model_name": "OutputModel",
      "state": {
       "layout": "IPY_MODEL_ee76e1c879ff4e4bb1e7caf54f04343d",
       "outputs": [
        {
         "name": "stdout",
         "output_type": "stream",
         "text": "-2.986324857901867\n-3.0322753864458294\n"
        }
       ]
      }
     },
     "434afc611c034f29bd77a4c13c9a3290": {
      "model_module": "@jupyter-widgets/controls",
      "model_module_version": "1.5.0",
      "model_name": "SliderStyleModel",
      "state": {
       "description_width": ""
      }
     },
     "45896b8ab76a4cb3b7e1595c4c811cfe": {
      "model_module": "@jupyter-widgets/controls",
      "model_module_version": "1.5.0",
      "model_name": "DescriptionStyleModel",
      "state": {
       "description_width": ""
      }
     },
     "461859f1b14c42e69ed6603245134b40": {
      "model_module": "@jupyter-widgets/output",
      "model_module_version": "1.0.0",
      "model_name": "OutputModel",
      "state": {
       "layout": "IPY_MODEL_fa972079af324291b5a19ba80bcdfc98",
       "outputs": [
        {
         "ename": "IndexError",
         "evalue": "index 0 is out of bounds for axis 0 with size 0",
         "output_type": "error",
         "traceback": [
          "\u001b[1;31m---------------------------------------------------------------------------\u001b[0m",
          "\u001b[1;31mIndexError\u001b[0m                                Traceback (most recent call last)",
          "\u001b[1;32mD:\\Anaconda3\\envs\\TU_Tutorials\\lib\\site-packages\\ipywidgets\\widgets\\interaction.py\u001b[0m in \u001b[0;36mupdate\u001b[1;34m(self, *args)\u001b[0m\n\u001b[0;32m    254\u001b[0m                     \u001b[0mvalue\u001b[0m \u001b[1;33m=\u001b[0m \u001b[0mwidget\u001b[0m\u001b[1;33m.\u001b[0m\u001b[0mget_interact_value\u001b[0m\u001b[1;33m(\u001b[0m\u001b[1;33m)\u001b[0m\u001b[1;33m\u001b[0m\u001b[1;33m\u001b[0m\u001b[0m\n\u001b[0;32m    255\u001b[0m                     \u001b[0mself\u001b[0m\u001b[1;33m.\u001b[0m\u001b[0mkwargs\u001b[0m\u001b[1;33m[\u001b[0m\u001b[0mwidget\u001b[0m\u001b[1;33m.\u001b[0m\u001b[0m_kwarg\u001b[0m\u001b[1;33m]\u001b[0m \u001b[1;33m=\u001b[0m \u001b[0mvalue\u001b[0m\u001b[1;33m\u001b[0m\u001b[1;33m\u001b[0m\u001b[0m\n\u001b[1;32m--> 256\u001b[1;33m                 \u001b[0mself\u001b[0m\u001b[1;33m.\u001b[0m\u001b[0mresult\u001b[0m \u001b[1;33m=\u001b[0m \u001b[0mself\u001b[0m\u001b[1;33m.\u001b[0m\u001b[0mf\u001b[0m\u001b[1;33m(\u001b[0m\u001b[1;33m**\u001b[0m\u001b[0mself\u001b[0m\u001b[1;33m.\u001b[0m\u001b[0mkwargs\u001b[0m\u001b[1;33m)\u001b[0m\u001b[1;33m\u001b[0m\u001b[1;33m\u001b[0m\u001b[0m\n\u001b[0m\u001b[0;32m    257\u001b[0m                 \u001b[0mshow_inline_matplotlib_plots\u001b[0m\u001b[1;33m(\u001b[0m\u001b[1;33m)\u001b[0m\u001b[1;33m\u001b[0m\u001b[1;33m\u001b[0m\u001b[0m\n\u001b[0;32m    258\u001b[0m                 \u001b[1;32mif\u001b[0m \u001b[0mself\u001b[0m\u001b[1;33m.\u001b[0m\u001b[0mauto_display\u001b[0m \u001b[1;32mand\u001b[0m \u001b[0mself\u001b[0m\u001b[1;33m.\u001b[0m\u001b[0mresult\u001b[0m \u001b[1;32mis\u001b[0m \u001b[1;32mnot\u001b[0m \u001b[1;32mNone\u001b[0m\u001b[1;33m:\u001b[0m\u001b[1;33m\u001b[0m\u001b[1;33m\u001b[0m\u001b[0m\n",
          "\u001b[1;32m<ipython-input-9-d396d6d205ab>\u001b[0m in \u001b[0;36mplot_recWindow_H\u001b[1;34m(L, unwrap)\u001b[0m\n\u001b[0;32m     27\u001b[0m             arrowprops=dict(facecolor='black', shrink=0.02, width=1, headwidth=4),)\n\u001b[0;32m     28\u001b[0m     \u001b[1;32mif\u001b[0m \u001b[0mL\u001b[0m\u001b[1;33m!=\u001b[0m\u001b[1;36m2\u001b[0m\u001b[1;33m:\u001b[0m\u001b[1;33m\u001b[0m\u001b[1;33m\u001b[0m\u001b[0m\n\u001b[1;32m---> 29\u001b[1;33m         \u001b[0mside_lobe\u001b[0m\u001b[1;33m=\u001b[0m\u001b[0margrelextrema\u001b[0m\u001b[1;33m(\u001b[0m\u001b[0mnp\u001b[0m\u001b[1;33m.\u001b[0m\u001b[0mabs\u001b[0m\u001b[1;33m(\u001b[0m\u001b[0mH\u001b[0m\u001b[1;33m)\u001b[0m\u001b[1;33m,\u001b[0m \u001b[0mnp\u001b[0m\u001b[1;33m.\u001b[0m\u001b[0mgreater\u001b[0m\u001b[1;33m)\u001b[0m\u001b[1;33m[\u001b[0m\u001b[1;36m0\u001b[0m\u001b[1;33m]\u001b[0m\u001b[1;33m[\u001b[0m\u001b[1;36m0\u001b[0m\u001b[1;33m]\u001b[0m\u001b[1;33m\u001b[0m\u001b[1;33m\u001b[0m\u001b[0m\n\u001b[0m\u001b[0;32m     30\u001b[0m         \u001b[0max1\u001b[0m\u001b[1;33m.\u001b[0m\u001b[0mplot\u001b[0m\u001b[1;33m(\u001b[0m\u001b[1;33m(\u001b[0m\u001b[1;36m0\u001b[0m\u001b[1;33m,\u001b[0m \u001b[0momega\u001b[0m\u001b[1;33m[\u001b[0m\u001b[1;33m-\u001b[0m\u001b[1;36m1\u001b[0m\u001b[1;33m]\u001b[0m\u001b[1;33m)\u001b[0m\u001b[1;33m,\u001b[0m\u001b[1;33m(\u001b[0m\u001b[0mH_dB\u001b[0m\u001b[1;33m[\u001b[0m\u001b[0mside_lobe\u001b[0m\u001b[1;33m]\u001b[0m\u001b[1;33m,\u001b[0m\u001b[0mH_dB\u001b[0m\u001b[1;33m[\u001b[0m\u001b[0mside_lobe\u001b[0m\u001b[1;33m]\u001b[0m\u001b[1;33m)\u001b[0m\u001b[1;33m,\u001b[0m \u001b[1;34m'k--'\u001b[0m\u001b[1;33m)\u001b[0m\u001b[1;33m\u001b[0m\u001b[1;33m\u001b[0m\u001b[0m\n\u001b[0;32m     31\u001b[0m         ax1.annotate(r'$\\omega$={:.2f}$\\pi$, {:.2f}dB'.format(omega[side_lobe]/np.pi,H_dB[side_lobe]), \n",
          "\u001b[1;31mIndexError\u001b[0m: index 0 is out of bounds for axis 0 with size 0"
         ]
        }
       ]
      }
     },
     "462f98cc95bc4bf7bf5047325c59b199": {
      "model_module": "@jupyter-widgets/base",
      "model_module_version": "1.2.0",
      "model_name": "LayoutModel",
      "state": {}
     },
     "4652fb03c19a42a38b0ac59632d900d6": {
      "model_module": "@jupyter-widgets/controls",
      "model_module_version": "1.5.0",
      "model_name": "CheckboxModel",
      "state": {
       "description": "unwrap",
       "disabled": false,
       "layout": "IPY_MODEL_2488a7b125004931a8f11c877d698119",
       "style": "IPY_MODEL_0ebf19ba64a2445182602e0fe7a7ee0e",
       "value": false
      }
     },
     "48bae7a82391411f9d6d12791d8610b6": {
      "model_module": "@jupyter-widgets/controls",
      "model_module_version": "1.5.0",
      "model_name": "CheckboxModel",
      "state": {
       "description": "unwrap",
       "disabled": false,
       "layout": "IPY_MODEL_73bf02f4a77e4d5bbd7310e249650de3",
       "style": "IPY_MODEL_c1e65404e25c4c369995cf3f8b5e49de",
       "value": false
      }
     },
     "49a4ea69c58744889ec0f85cce628555": {
      "model_module": "@jupyter-widgets/controls",
      "model_module_version": "1.5.0",
      "model_name": "VBoxModel",
      "state": {
       "_dom_classes": [
        "widget-interact"
       ],
       "children": [
        "IPY_MODEL_2c1afa2493344b229273a2ebf60a13c9",
        "IPY_MODEL_6de2a3f0ff2c404f9febb9090726954f",
        "IPY_MODEL_f8c1d8517c6c4b8a96c0754f923ad0c5",
        "IPY_MODEL_cdce04c2d7714651b30c7400eb81f6cd"
       ],
       "layout": "IPY_MODEL_ac2116cb465a4454bc7db17e926da183"
      }
     },
     "49f349a9156a445da42980546de95da9": {
      "model_module": "@jupyter-widgets/base",
      "model_module_version": "1.2.0",
      "model_name": "LayoutModel",
      "state": {}
     },
     "4a2eb9fa6a0d4f9d892947bf6d5a15b3": {
      "model_module": "@jupyter-widgets/controls",
      "model_module_version": "1.5.0",
      "model_name": "DescriptionStyleModel",
      "state": {
       "description_width": ""
      }
     },
     "4a4f1eae1c3e48fa99aacac33c3573d0": {
      "model_module": "@jupyter-widgets/base",
      "model_module_version": "1.2.0",
      "model_name": "LayoutModel",
      "state": {}
     },
     "4a9a26db52de4f78b6e0f8db7e48b527": {
      "model_module": "@jupyter-widgets/controls",
      "model_module_version": "1.5.0",
      "model_name": "ButtonStyleModel",
      "state": {}
     },
     "4c11135dea5149e18c9b78253e6d6783": {
      "model_module": "@jupyter-widgets/base",
      "model_module_version": "1.2.0",
      "model_name": "LayoutModel",
      "state": {}
     },
     "50f8238d579f472e9dccae2d7e393675": {
      "model_module": "@jupyter-widgets/controls",
      "model_module_version": "1.5.0",
      "model_name": "CheckboxModel",
      "state": {
       "description": "unwrap",
       "disabled": false,
       "layout": "IPY_MODEL_f208057bbc724df483350d415317e9a2",
       "style": "IPY_MODEL_4a2eb9fa6a0d4f9d892947bf6d5a15b3",
       "value": false
      }
     },
     "512f981be60f46ffac62a79d481e0dbe": {
      "model_module": "@jupyter-widgets/base",
      "model_module_version": "1.2.0",
      "model_name": "LayoutModel",
      "state": {}
     },
     "51353157d67046b6b5e27022c45632d6": {
      "model_module": "@jupyter-widgets/base",
      "model_module_version": "1.2.0",
      "model_name": "LayoutModel",
      "state": {}
     },
     "5312e52c60324e4ca6b9fae5d2dccab1": {
      "model_module": "@jupyter-widgets/controls",
      "model_module_version": "1.5.0",
      "model_name": "CheckboxModel",
      "state": {
       "description": "unwrap",
       "disabled": false,
       "layout": "IPY_MODEL_462f98cc95bc4bf7bf5047325c59b199",
       "style": "IPY_MODEL_40c8afaa44bf482193aafcf33beef555",
       "value": false
      }
     },
     "5965ecd22fd94ac9b8834a09cbfc6576": {
      "model_module": "@jupyter-widgets/output",
      "model_module_version": "1.0.0",
      "model_name": "OutputModel",
      "state": {
       "layout": "IPY_MODEL_2d549e2206e04707a18d302c4febb071",
       "outputs": [
        {
         "name": "stdout",
         "output_type": "stream",
         "text": "-2.9368379843876866\n-3.02540945072563\n"
        }
       ]
      }
     },
     "59c3521486594f78a98d393e207f3898": {
      "model_module": "@jupyter-widgets/controls",
      "model_module_version": "1.5.0",
      "model_name": "CheckboxModel",
      "state": {
       "description": "unwrap",
       "disabled": false,
       "layout": "IPY_MODEL_faf5451fe23d45c6b99edbc0a800faf2",
       "style": "IPY_MODEL_3570bdbed31c4fec9395f337a28c7c41",
       "value": false
      }
     },
     "5d0bc1776fa34a7a810917fc5d8a64f5": {
      "model_module": "@jupyter-widgets/base",
      "model_module_version": "1.2.0",
      "model_name": "LayoutModel",
      "state": {}
     },
     "5d9e6bb9b35741ae8dd8822c7c2ec827": {
      "model_module": "@jupyter-widgets/base",
      "model_module_version": "1.2.0",
      "model_name": "LayoutModel",
      "state": {}
     },
     "5dcf8c760acf4659a1da7dec20448e2e": {
      "model_module": "@jupyter-widgets/controls",
      "model_module_version": "1.5.0",
      "model_name": "CheckboxModel",
      "state": {
       "description": "unwrap",
       "disabled": false,
       "layout": "IPY_MODEL_ae631cde68664f3c9cfeb8ec252d267a",
       "style": "IPY_MODEL_999bcd2a6bfb4dfc873caaf70ab149a9",
       "value": false
      }
     },
     "5ff41e6d45694fb8812178d014ceeb97": {
      "model_module": "@jupyter-widgets/base",
      "model_module_version": "1.2.0",
      "model_name": "LayoutModel",
      "state": {}
     },
     "63c30ff14cb846fda36062c8de3f597e": {
      "model_module": "@jupyter-widgets/base",
      "model_module_version": "1.2.0",
      "model_name": "LayoutModel",
      "state": {}
     },
     "641d559f5f02481b8f6403754fc5dae7": {
      "model_module": "@jupyter-widgets/base",
      "model_module_version": "1.2.0",
      "model_name": "LayoutModel",
      "state": {}
     },
     "67b4f0ce8fe44a18bdfe96c060d953d7": {
      "model_module": "@jupyter-widgets/base",
      "model_module_version": "1.2.0",
      "model_name": "LayoutModel",
      "state": {}
     },
     "67b52ebdfbf649afb5377c28bdb25524": {
      "model_module": "@jupyter-widgets/controls",
      "model_module_version": "1.5.0",
      "model_name": "DescriptionStyleModel",
      "state": {
       "description_width": ""
      }
     },
     "6a2b162d0ea94caf8e89db7a72689234": {
      "model_module": "@jupyter-widgets/base",
      "model_module_version": "1.2.0",
      "model_name": "LayoutModel",
      "state": {}
     },
     "6a8662949af54cabbdf270f5bc9b950b": {
      "model_module": "@jupyter-widgets/output",
      "model_module_version": "1.0.0",
      "model_name": "OutputModel",
      "state": {
       "layout": "IPY_MODEL_aa3d7a39440b441ba7d3e504aef27620",
       "outputs": [
        {
         "name": "stdout",
         "output_type": "stream",
         "text": "-2.996721970266943\n-3.039797343863033\n"
        }
       ]
      }
     },
     "6bf8bef585f14e87b4ac18b8c20fccf9": {
      "model_module": "@jupyter-widgets/output",
      "model_module_version": "1.0.0",
      "model_name": "OutputModel",
      "state": {
       "layout": "IPY_MODEL_b778e10f526a49a5b32f39cbe25a5540",
       "outputs": [
        {
         "name": "stdout",
         "output_type": "stream",
         "text": "-2.986324857901867\n-3.0322753864458294\n"
        }
       ]
      }
     },
     "6c63f52423284d8685b0ff11cd2af69e": {
      "model_module": "@jupyter-widgets/controls",
      "model_module_version": "1.5.0",
      "model_name": "SliderStyleModel",
      "state": {
       "description_width": ""
      }
     },
     "6ce5ebf11b33486b9d9f803cfea5dfea": {
      "model_module": "@jupyter-widgets/base",
      "model_module_version": "1.2.0",
      "model_name": "LayoutModel",
      "state": {}
     },
     "6d2f3cedfbbd4c91a5a5fc3ab1d7a4d3": {
      "model_module": "@jupyter-widgets/controls",
      "model_module_version": "1.5.0",
      "model_name": "IntSliderModel",
      "state": {
       "description": "L",
       "layout": "IPY_MODEL_5d0bc1776fa34a7a810917fc5d8a64f5",
       "max": 128,
       "min": 2,
       "style": "IPY_MODEL_6c63f52423284d8685b0ff11cd2af69e",
       "value": 16
      }
     },
     "6de2a3f0ff2c404f9febb9090726954f": {
      "model_module": "@jupyter-widgets/controls",
      "model_module_version": "1.5.0",
      "model_name": "FloatSliderModel",
      "state": {
       "description": "wc",
       "layout": "IPY_MODEL_830ce93075504bbfaed6022b42e906df",
       "max": 1,
       "min": 0.1,
       "step": 0.01,
       "style": "IPY_MODEL_aaa7ed12f4d447dd9c8c2386b5e39a8b",
       "value": 0.5
      }
     },
     "70870ccc363540e3ab392bbac4ab7ab9": {
      "model_module": "@jupyter-widgets/controls",
      "model_module_version": "1.5.0",
      "model_name": "DescriptionStyleModel",
      "state": {
       "description_width": ""
      }
     },
     "7095ca2e9b9047018a8364cd2d53a81a": {
      "model_module": "@jupyter-widgets/base",
      "model_module_version": "1.2.0",
      "model_name": "LayoutModel",
      "state": {}
     },
     "73bf02f4a77e4d5bbd7310e249650de3": {
      "model_module": "@jupyter-widgets/base",
      "model_module_version": "1.2.0",
      "model_name": "LayoutModel",
      "state": {}
     },
     "7432da72e42649bda63bf19128aa6f5a": {
      "model_module": "@jupyter-widgets/controls",
      "model_module_version": "1.5.0",
      "model_name": "DescriptionStyleModel",
      "state": {
       "description_width": ""
      }
     },
     "77423bd7deb1434b8a8da5b6322bb4ed": {
      "model_module": "@jupyter-widgets/controls",
      "model_module_version": "1.5.0",
      "model_name": "VBoxModel",
      "state": {
       "_dom_classes": [
        "widget-interact"
       ],
       "children": [
        "IPY_MODEL_853fd06dba4d47d0a51e31ab281c5052",
        "IPY_MODEL_c17a02a7210147f6ae41a5bd279f9c26",
        "IPY_MODEL_1b20b14c69214d0dac0decfe18d1e152"
       ],
       "layout": "IPY_MODEL_df4729fceeb94eaabeda1fa181749d70"
      }
     },
     "79681f8c847f4f7aba372e8fb62b99ff": {
      "model_module": "@jupyter-widgets/controls",
      "model_module_version": "1.5.0",
      "model_name": "VBoxModel",
      "state": {
       "_dom_classes": [
        "widget-interact"
       ],
       "children": [
        "IPY_MODEL_290a6bc604c84cc1abc5a41f065893a0",
        "IPY_MODEL_f2f9fb3606934317b63f622c781d03bb",
        "IPY_MODEL_b1cb2576c5b449059a2a0756ccb395c3"
       ],
       "layout": "IPY_MODEL_0029500d285347cea960cae032e0a9d8"
      }
     },
     "7d67995d29be4477b74511527f4a7364": {
      "model_module": "@jupyter-widgets/controls",
      "model_module_version": "1.5.0",
      "model_name": "IntSliderModel",
      "state": {
       "description": "L",
       "layout": "IPY_MODEL_aa20a95f3cd34cb1b3a664491dd4782e",
       "max": 128,
       "min": 2,
       "style": "IPY_MODEL_434afc611c034f29bd77a4c13c9a3290",
       "value": 16
      }
     },
     "80cd5ce2ebbd46b4b221e22241415478": {
      "model_module": "@jupyter-widgets/controls",
      "model_module_version": "1.5.0",
      "model_name": "IntSliderModel",
      "state": {
       "description": "L",
       "layout": "IPY_MODEL_cb2128e116c840bf88ac2a370f8abc89",
       "max": 128,
       "min": 2,
       "style": "IPY_MODEL_feb0b85abc124c77a0c76f542518de47",
       "value": 16
      }
     },
     "830ce93075504bbfaed6022b42e906df": {
      "model_module": "@jupyter-widgets/base",
      "model_module_version": "1.2.0",
      "model_name": "LayoutModel",
      "state": {}
     },
     "83d79b7454f547a191c07a11107cdec6": {
      "model_module": "@jupyter-widgets/controls",
      "model_module_version": "1.5.0",
      "model_name": "SliderStyleModel",
      "state": {
       "description_width": ""
      }
     },
     "8493bdbfb3a247d397887cff2c6feeb6": {
      "model_module": "@jupyter-widgets/controls",
      "model_module_version": "1.5.0",
      "model_name": "HBoxModel",
      "state": {
       "children": [
        "IPY_MODEL_c94c1500aff447028c8e01b3cb8f3d7b",
        "IPY_MODEL_ec64ee9af6be4c3e9b839f891d5d2679"
       ],
       "layout": "IPY_MODEL_7095ca2e9b9047018a8364cd2d53a81a"
      }
     },
     "853fd06dba4d47d0a51e31ab281c5052": {
      "model_module": "@jupyter-widgets/controls",
      "model_module_version": "1.5.0",
      "model_name": "IntSliderModel",
      "state": {
       "description": "L",
       "layout": "IPY_MODEL_de60d3f2621b4ba78d77b40921c32b48",
       "max": 128,
       "min": 2,
       "style": "IPY_MODEL_bb767f871d504e4e840f274dc4c2cc94",
       "value": 16
      }
     },
     "8727619714e3420ebb4d6e54edd75c9d": {
      "model_module": "@jupyter-widgets/base",
      "model_module_version": "1.2.0",
      "model_name": "LayoutModel",
      "state": {}
     },
     "8b813eacd35f4288b3ad6121fc1747c5": {
      "model_module": "@jupyter-widgets/output",
      "model_module_version": "1.0.0",
      "model_name": "OutputModel",
      "state": {
       "layout": "IPY_MODEL_a5d3d5fb2c4a45f98a030f58188cee53",
       "outputs": [
        {
         "name": "stdout",
         "output_type": "stream",
         "text": "-2.986324857901867\n-3.0322753864458294\n"
        }
       ]
      }
     },
     "906a94d9c69f472f964bba8ea954eef9": {
      "model_module": "@jupyter-widgets/controls",
      "model_module_version": "1.5.0",
      "model_name": "DescriptionStyleModel",
      "state": {
       "description_width": ""
      }
     },
     "916401e8db3c4c09b58fae8d1fe823c3": {
      "model_module": "@jupyter-widgets/controls",
      "model_module_version": "1.5.0",
      "model_name": "FloatSliderModel",
      "state": {
       "description": "wc",
       "layout": "IPY_MODEL_408a375449bc4879bc7cfd0b6e1a1858",
       "max": 1,
       "min": 0.1,
       "step": 0.01,
       "style": "IPY_MODEL_2d11c90e4251463696f4cdad65b21587",
       "value": 0.52
      }
     },
     "92e470ab14c44fc9821a85abc68d0c9d": {
      "model_module": "@jupyter-widgets/controls",
      "model_module_version": "1.5.0",
      "model_name": "CheckboxModel",
      "state": {
       "description": "Downsampling/Upsampling",
       "disabled": false,
       "layout": "IPY_MODEL_3dcc42ce2f4b4de3aa3ce8969c492081",
       "style": "IPY_MODEL_7432da72e42649bda63bf19128aa6f5a",
       "value": false
      }
     },
     "96187897280443f3938da54a6f0dde4d": {
      "model_module": "@jupyter-widgets/controls",
      "model_module_version": "1.5.0",
      "model_name": "CheckboxModel",
      "state": {
       "description": "LP Filters",
       "disabled": false,
       "layout": "IPY_MODEL_19fccd5352e943878cba95d3b2995ed1",
       "style": "IPY_MODEL_906a94d9c69f472f964bba8ea954eef9",
       "value": false
      }
     },
     "97eec8abfdf442fba1dfd9631100361e": {
      "model_module": "@jupyter-widgets/base",
      "model_module_version": "1.2.0",
      "model_name": "LayoutModel",
      "state": {}
     },
     "989bb64f31964c63a6d4ac801d86de78": {
      "model_module": "@jupyter-widgets/base",
      "model_module_version": "1.2.0",
      "model_name": "LayoutModel",
      "state": {}
     },
     "990358533027449aac97876b636eea58": {
      "model_module": "@jupyter-widgets/controls",
      "model_module_version": "1.5.0",
      "model_name": "CheckboxModel",
      "state": {
       "description": "unwrap",
       "disabled": false,
       "layout": "IPY_MODEL_3ea876db91d84f32997f07d1d42bf507",
       "style": "IPY_MODEL_67b52ebdfbf649afb5377c28bdb25524",
       "value": true
      }
     },
     "999bcd2a6bfb4dfc873caaf70ab149a9": {
      "model_module": "@jupyter-widgets/controls",
      "model_module_version": "1.5.0",
      "model_name": "DescriptionStyleModel",
      "state": {
       "description_width": ""
      }
     },
     "9b4bde59989a4870929416fbff16b06a": {
      "model_module": "@jupyter-widgets/controls",
      "model_module_version": "1.5.0",
      "model_name": "VBoxModel",
      "state": {
       "_dom_classes": [
        "widget-interact"
       ],
       "children": [
        "IPY_MODEL_80cd5ce2ebbd46b4b221e22241415478",
        "IPY_MODEL_f89886aba4c34d449ce8cbf9c45ea4cc",
        "IPY_MODEL_5312e52c60324e4ca6b9fae5d2dccab1",
        "IPY_MODEL_9c189a7f479140019f84910d766a5a9f"
       ],
       "layout": "IPY_MODEL_0356272802724c91961a212e00758da4"
      }
     },
     "9c189a7f479140019f84910d766a5a9f": {
      "model_module": "@jupyter-widgets/output",
      "model_module_version": "1.0.0",
      "model_name": "OutputModel",
      "state": {
       "layout": "IPY_MODEL_03f7d15dabf94028be0ce784a72870dc",
       "outputs": [
        {
         "name": "stdout",
         "output_type": "stream",
         "text": "-2.986324857901867\n-3.0322753864458294\n"
        }
       ]
      }
     },
     "9c1f955f51234fee85275b0b893da03d": {
      "model_module": "@jupyter-widgets/controls",
      "model_module_version": "1.5.0",
      "model_name": "SliderStyleModel",
      "state": {
       "description_width": ""
      }
     },
     "9ce81d89947745cd9bd675066c296e75": {
      "model_module": "@jupyter-widgets/controls",
      "model_module_version": "1.5.0",
      "model_name": "HBoxModel",
      "state": {
       "children": [
        "IPY_MODEL_92e470ab14c44fc9821a85abc68d0c9d",
        "IPY_MODEL_96187897280443f3938da54a6f0dde4d"
       ],
       "layout": "IPY_MODEL_1c233488a05d481a89739a93beead8b6"
      }
     },
     "9f0596c34e90474dac5af9250c84f3c8": {
      "model_module": "@jupyter-widgets/base",
      "model_module_version": "1.2.0",
      "model_name": "LayoutModel",
      "state": {}
     },
     "a177ee2609364bec90f6db3a4f5cf21f": {
      "model_module": "@jupyter-widgets/controls",
      "model_module_version": "1.5.0",
      "model_name": "CheckboxModel",
      "state": {
       "description": "unwrap",
       "disabled": false,
       "layout": "IPY_MODEL_4c11135dea5149e18c9b78253e6d6783",
       "style": "IPY_MODEL_acd3a9b819e54e4b989c60ebf086540b",
       "value": false
      }
     },
     "a5d3d5fb2c4a45f98a030f58188cee53": {
      "model_module": "@jupyter-widgets/base",
      "model_module_version": "1.2.0",
      "model_name": "LayoutModel",
      "state": {}
     },
     "a6481be1425d46e5b5abf1b52e73ce97": {
      "model_module": "@jupyter-widgets/base",
      "model_module_version": "1.2.0",
      "model_name": "LayoutModel",
      "state": {}
     },
     "a66936b45e2847589ec22cc1c13221b1": {
      "model_module": "@jupyter-widgets/controls",
      "model_module_version": "1.5.0",
      "model_name": "FloatSliderModel",
      "state": {
       "description": "wc",
       "layout": "IPY_MODEL_6a2b162d0ea94caf8e89db7a72689234",
       "max": 1,
       "min": 0.1,
       "step": 0.01,
       "style": "IPY_MODEL_beae5d607a0f44dd84a4b9da23403ccb",
       "value": 0.5
      }
     },
     "aa20a95f3cd34cb1b3a664491dd4782e": {
      "model_module": "@jupyter-widgets/base",
      "model_module_version": "1.2.0",
      "model_name": "LayoutModel",
      "state": {}
     },
     "aa3d7a39440b441ba7d3e504aef27620": {
      "model_module": "@jupyter-widgets/base",
      "model_module_version": "1.2.0",
      "model_name": "LayoutModel",
      "state": {}
     },
     "aaa7ed12f4d447dd9c8c2386b5e39a8b": {
      "model_module": "@jupyter-widgets/controls",
      "model_module_version": "1.5.0",
      "model_name": "SliderStyleModel",
      "state": {
       "description_width": ""
      }
     },
     "ac2116cb465a4454bc7db17e926da183": {
      "model_module": "@jupyter-widgets/base",
      "model_module_version": "1.2.0",
      "model_name": "LayoutModel",
      "state": {}
     },
     "acd3a9b819e54e4b989c60ebf086540b": {
      "model_module": "@jupyter-widgets/controls",
      "model_module_version": "1.5.0",
      "model_name": "DescriptionStyleModel",
      "state": {
       "description_width": ""
      }
     },
     "adf370c1ff384749bdb1058a63f8c145": {
      "model_module": "@jupyter-widgets/controls",
      "model_module_version": "1.5.0",
      "model_name": "HBoxModel",
      "state": {
       "children": [
        "IPY_MODEL_f379c079478a43eda0e0470d13a831ce",
        "IPY_MODEL_3bec1d062a4c4d2ebfa1786527f1b5e5"
       ],
       "layout": "IPY_MODEL_1a2ecf6949374a25a9565e84d7999caf"
      }
     },
     "ae631cde68664f3c9cfeb8ec252d267a": {
      "model_module": "@jupyter-widgets/base",
      "model_module_version": "1.2.0",
      "model_name": "LayoutModel",
      "state": {}
     },
     "ae855c0eeb374b7eaad889676d4bae73": {
      "model_module": "@jupyter-widgets/base",
      "model_module_version": "1.2.0",
      "model_name": "LayoutModel",
      "state": {}
     },
     "b1cb2576c5b449059a2a0756ccb395c3": {
      "model_module": "@jupyter-widgets/output",
      "model_module_version": "1.0.0",
      "model_name": "OutputModel",
      "state": {
       "layout": "IPY_MODEL_2ea14d3e1de84e0caf561890c4169c4a"
      }
     },
     "b2cfe76ca355471bb804ea7585acc3af": {
      "model_module": "@jupyter-widgets/base",
      "model_module_version": "1.2.0",
      "model_name": "LayoutModel",
      "state": {}
     },
     "b30c4b4b9af44ac09993b27262b0259e": {
      "model_module": "@jupyter-widgets/controls",
      "model_module_version": "1.5.0",
      "model_name": "SliderStyleModel",
      "state": {
       "description_width": ""
      }
     },
     "b581b802bc124912882cfd27ffeed1e3": {
      "model_module": "@jupyter-widgets/controls",
      "model_module_version": "1.5.0",
      "model_name": "SliderStyleModel",
      "state": {
       "description_width": ""
      }
     },
     "b778e10f526a49a5b32f39cbe25a5540": {
      "model_module": "@jupyter-widgets/base",
      "model_module_version": "1.2.0",
      "model_name": "LayoutModel",
      "state": {}
     },
     "b7b9d255903749769f20286f768abb14": {
      "model_module": "@jupyter-widgets/controls",
      "model_module_version": "1.5.0",
      "model_name": "IntSliderModel",
      "state": {
       "description": "L",
       "layout": "IPY_MODEL_1834df36879940888884860cb2c266af",
       "max": 128,
       "min": 2,
       "style": "IPY_MODEL_b581b802bc124912882cfd27ffeed1e3",
       "value": 4
      }
     },
     "b8ea2825e9104823ba3338439df90b21": {
      "model_module": "@jupyter-widgets/controls",
      "model_module_version": "1.5.0",
      "model_name": "SliderStyleModel",
      "state": {
       "description_width": ""
      }
     },
     "ba576b35bf974cb4ad03159ba695c61a": {
      "model_module": "@jupyter-widgets/controls",
      "model_module_version": "1.5.0",
      "model_name": "IntSliderModel",
      "state": {
       "description": "L",
       "layout": "IPY_MODEL_fad6558ca7b4421a872e9c48c0fd5db3",
       "max": 128,
       "min": 2,
       "style": "IPY_MODEL_144e9bb694ff4c2b974520c7b8a3a9c6",
       "value": 16
      }
     },
     "bb767f871d504e4e840f274dc4c2cc94": {
      "model_module": "@jupyter-widgets/controls",
      "model_module_version": "1.5.0",
      "model_name": "SliderStyleModel",
      "state": {
       "description_width": ""
      }
     },
     "bd68e24af2b94ae18c2429165cac2e92": {
      "model_module": "@jupyter-widgets/base",
      "model_module_version": "1.2.0",
      "model_name": "LayoutModel",
      "state": {}
     },
     "bd9b55a8090b45f490ec8d380750bff0": {
      "model_module": "@jupyter-widgets/base",
      "model_module_version": "1.2.0",
      "model_name": "LayoutModel",
      "state": {}
     },
     "beae5d607a0f44dd84a4b9da23403ccb": {
      "model_module": "@jupyter-widgets/controls",
      "model_module_version": "1.5.0",
      "model_name": "SliderStyleModel",
      "state": {
       "description_width": ""
      }
     },
     "c17a02a7210147f6ae41a5bd279f9c26": {
      "model_module": "@jupyter-widgets/controls",
      "model_module_version": "1.5.0",
      "model_name": "CheckboxModel",
      "state": {
       "description": "unwrap",
       "disabled": false,
       "layout": "IPY_MODEL_97eec8abfdf442fba1dfd9631100361e",
       "style": "IPY_MODEL_3636c26e49fb47789baae2f238ef1ef7",
       "value": false
      }
     },
     "c1e65404e25c4c369995cf3f8b5e49de": {
      "model_module": "@jupyter-widgets/controls",
      "model_module_version": "1.5.0",
      "model_name": "DescriptionStyleModel",
      "state": {
       "description_width": ""
      }
     },
     "c43b34dd82084145aa138a7caf48c05e": {
      "model_module": "@jupyter-widgets/controls",
      "model_module_version": "1.5.0",
      "model_name": "SliderStyleModel",
      "state": {
       "description_width": ""
      }
     },
     "c44cca5695e54ff19f7412e7d08d1902": {
      "model_module": "@jupyter-widgets/controls",
      "model_module_version": "1.5.0",
      "model_name": "DescriptionStyleModel",
      "state": {
       "description_width": ""
      }
     },
     "c54eec13b5e84a9cac70cf837d879d85": {
      "model_module": "@jupyter-widgets/base",
      "model_module_version": "1.2.0",
      "model_name": "LayoutModel",
      "state": {}
     },
     "c5e24727146a4f1c95b5e55e85a66533": {
      "model_module": "@jupyter-widgets/base",
      "model_module_version": "1.2.0",
      "model_name": "LayoutModel",
      "state": {}
     },
     "c6746cb27eda404c8ae8d026c8157dcf": {
      "model_module": "@jupyter-widgets/controls",
      "model_module_version": "1.5.0",
      "model_name": "VBoxModel",
      "state": {
       "_dom_classes": [
        "widget-interact"
       ],
       "children": [
        "IPY_MODEL_ba576b35bf974cb4ad03159ba695c61a",
        "IPY_MODEL_ca41edb2f61f42b89de5c27c8cf853c5",
        "IPY_MODEL_4652fb03c19a42a38b0ac59632d900d6",
        "IPY_MODEL_421ae1d80f2640c5b6056ed15fcb603d"
       ],
       "layout": "IPY_MODEL_10858c30ff644b75bedb13c9aaa8e86a"
      }
     },
     "c94c1500aff447028c8e01b3cb8f3d7b": {
      "model_module": "@jupyter-widgets/controls",
      "model_module_version": "1.5.0",
      "model_name": "ButtonModel",
      "state": {
       "description": "Start",
       "layout": "IPY_MODEL_67b4f0ce8fe44a18bdfe96c060d953d7",
       "style": "IPY_MODEL_eb7880855b654087a714e63c2a0f5967"
      }
     },
     "ca41edb2f61f42b89de5c27c8cf853c5": {
      "model_module": "@jupyter-widgets/controls",
      "model_module_version": "1.5.0",
      "model_name": "FloatSliderModel",
      "state": {
       "description": "wc",
       "layout": "IPY_MODEL_229f46dbb5594226bb80908d9bd97617",
       "max": 1,
       "min": 0.1,
       "step": 0.01,
       "style": "IPY_MODEL_83d79b7454f547a191c07a11107cdec6",
       "value": 0.5
      }
     },
     "cb2128e116c840bf88ac2a370f8abc89": {
      "model_module": "@jupyter-widgets/base",
      "model_module_version": "1.2.0",
      "model_name": "LayoutModel",
      "state": {}
     },
     "cdce04c2d7714651b30c7400eb81f6cd": {
      "model_module": "@jupyter-widgets/output",
      "model_module_version": "1.0.0",
      "model_name": "OutputModel",
      "state": {
       "layout": "IPY_MODEL_38431e6d3cd2491384084e0d4886a11c",
       "outputs": [
        {
         "name": "stdout",
         "output_type": "stream",
         "text": "-2.9992585283794986\n-3.034173095206789\n"
        }
       ]
      }
     },
     "d63802a277e14da09213d828cb80963f": {
      "model_module": "@jupyter-widgets/base",
      "model_module_version": "1.2.0",
      "model_name": "LayoutModel",
      "state": {}
     },
     "d653ea8d8d274f7584b238048f2fcc35": {
      "model_module": "@jupyter-widgets/controls",
      "model_module_version": "1.5.0",
      "model_name": "VBoxModel",
      "state": {
       "_dom_classes": [
        "widget-interact"
       ],
       "children": [
        "IPY_MODEL_b7b9d255903749769f20286f768abb14",
        "IPY_MODEL_e9e4b0d9f08542d2be2684f57ed67373",
        "IPY_MODEL_461859f1b14c42e69ed6603245134b40"
       ],
       "layout": "IPY_MODEL_9f0596c34e90474dac5af9250c84f3c8"
      }
     },
     "d946add282394b1d94bd524837c96b45": {
      "model_module": "@jupyter-widgets/controls",
      "model_module_version": "1.5.0",
      "model_name": "SliderStyleModel",
      "state": {
       "description_width": ""
      }
     },
     "de54a3d6a83746bdbdf977b33454204a": {
      "model_module": "@jupyter-widgets/output",
      "model_module_version": "1.0.0",
      "model_name": "OutputModel",
      "state": {
       "layout": "IPY_MODEL_14e90ac533cd49cdaaaeb62cbd0fa9bc"
      }
     },
     "de60d3f2621b4ba78d77b40921c32b48": {
      "model_module": "@jupyter-widgets/base",
      "model_module_version": "1.2.0",
      "model_name": "LayoutModel",
      "state": {}
     },
     "df4729fceeb94eaabeda1fa181749d70": {
      "model_module": "@jupyter-widgets/base",
      "model_module_version": "1.2.0",
      "model_name": "LayoutModel",
      "state": {}
     },
     "e0d4012b568a4384bc37137136d53216": {
      "model_module": "@jupyter-widgets/controls",
      "model_module_version": "1.5.0",
      "model_name": "SliderStyleModel",
      "state": {
       "description_width": ""
      }
     },
     "e40821b543a64eb998fdbf0a5d83eb79": {
      "model_module": "@jupyter-widgets/controls",
      "model_module_version": "1.5.0",
      "model_name": "FloatSliderModel",
      "state": {
       "description": "wc",
       "layout": "IPY_MODEL_512f981be60f46ffac62a79d481e0dbe",
       "max": 1,
       "min": 0.1,
       "step": 0.01,
       "style": "IPY_MODEL_17fa56dfb7db4e159a57ca64a75fb7fb",
       "value": 0.5
      }
     },
     "e56f8108108c42988af66578da95c803": {
      "model_module": "@jupyter-widgets/controls",
      "model_module_version": "1.5.0",
      "model_name": "VBoxModel",
      "state": {
       "_dom_classes": [
        "widget-interact"
       ],
       "children": [
        "IPY_MODEL_0970a48ffe54495d9cbd42c3f3ab4d6c",
        "IPY_MODEL_a66936b45e2847589ec22cc1c13221b1",
        "IPY_MODEL_59c3521486594f78a98d393e207f3898",
        "IPY_MODEL_5965ecd22fd94ac9b8834a09cbfc6576"
       ],
       "layout": "IPY_MODEL_51353157d67046b6b5e27022c45632d6"
      }
     },
     "e9e4b0d9f08542d2be2684f57ed67373": {
      "model_module": "@jupyter-widgets/controls",
      "model_module_version": "1.5.0",
      "model_name": "CheckboxModel",
      "state": {
       "description": "unwrap",
       "disabled": false,
       "layout": "IPY_MODEL_1d210e98870d415c8d819016e2ec1501",
       "style": "IPY_MODEL_70870ccc363540e3ab392bbac4ab7ab9",
       "value": true
      }
     },
     "eb7880855b654087a714e63c2a0f5967": {
      "model_module": "@jupyter-widgets/controls",
      "model_module_version": "1.5.0",
      "model_name": "ButtonStyleModel",
      "state": {}
     },
     "ec64ee9af6be4c3e9b839f891d5d2679": {
      "model_module": "@jupyter-widgets/controls",
      "model_module_version": "1.5.0",
      "model_name": "ToggleButtonModel",
      "state": {
       "description": "Stop",
       "layout": "IPY_MODEL_b2cfe76ca355471bb804ea7585acc3af",
       "style": "IPY_MODEL_391678a09ded4245b0b8279ee079347b"
      }
     },
     "ee76e1c879ff4e4bb1e7caf54f04343d": {
      "model_module": "@jupyter-widgets/base",
      "model_module_version": "1.2.0",
      "model_name": "LayoutModel",
      "state": {}
     },
     "ef67b947ab784b888bc258307e748284": {
      "model_module": "@jupyter-widgets/controls",
      "model_module_version": "1.5.0",
      "model_name": "SliderStyleModel",
      "state": {
       "description_width": ""
      }
     },
     "f037ad039ab04806b30e50a860313dbf": {
      "model_module": "@jupyter-widgets/controls",
      "model_module_version": "1.5.0",
      "model_name": "DescriptionStyleModel",
      "state": {
       "description_width": ""
      }
     },
     "f0a49ec366964223a43cd3860ff0edb7": {
      "model_module": "@jupyter-widgets/controls",
      "model_module_version": "1.5.0",
      "model_name": "SliderStyleModel",
      "state": {
       "description_width": ""
      }
     },
     "f208057bbc724df483350d415317e9a2": {
      "model_module": "@jupyter-widgets/base",
      "model_module_version": "1.2.0",
      "model_name": "LayoutModel",
      "state": {}
     },
     "f2f9fb3606934317b63f622c781d03bb": {
      "model_module": "@jupyter-widgets/controls",
      "model_module_version": "1.5.0",
      "model_name": "CheckboxModel",
      "state": {
       "description": "unwrap",
       "disabled": false,
       "layout": "IPY_MODEL_4a4f1eae1c3e48fa99aacac33c3573d0",
       "style": "IPY_MODEL_c44cca5695e54ff19f7412e7d08d1902",
       "value": true
      }
     },
     "f379c079478a43eda0e0470d13a831ce": {
      "model_module": "@jupyter-widgets/controls",
      "model_module_version": "1.5.0",
      "model_name": "ButtonModel",
      "state": {
       "description": "Start",
       "disabled": true,
       "layout": "IPY_MODEL_068b562a3083493d8a7a4aa20dac51d6",
       "style": "IPY_MODEL_4a9a26db52de4f78b6e0f8db7e48b527"
      }
     },
     "f3d7a398669e492d93d7ed9abc2ea757": {
      "model_module": "@jupyter-widgets/controls",
      "model_module_version": "1.5.0",
      "model_name": "IntSliderModel",
      "state": {
       "description": "L",
       "layout": "IPY_MODEL_c5e24727146a4f1c95b5e55e85a66533",
       "max": 128,
       "min": 2,
       "style": "IPY_MODEL_b30c4b4b9af44ac09993b27262b0259e",
       "value": 16
      }
     },
     "f89886aba4c34d449ce8cbf9c45ea4cc": {
      "model_module": "@jupyter-widgets/controls",
      "model_module_version": "1.5.0",
      "model_name": "FloatSliderModel",
      "state": {
       "description": "wc",
       "layout": "IPY_MODEL_bd68e24af2b94ae18c2429165cac2e92",
       "max": 1,
       "min": 0.1,
       "step": 0.01,
       "style": "IPY_MODEL_c43b34dd82084145aa138a7caf48c05e",
       "value": 0.5
      }
     },
     "f8c1d8517c6c4b8a96c0754f923ad0c5": {
      "model_module": "@jupyter-widgets/controls",
      "model_module_version": "1.5.0",
      "model_name": "CheckboxModel",
      "state": {
       "description": "unwrap",
       "disabled": false,
       "layout": "IPY_MODEL_c54eec13b5e84a9cac70cf837d879d85",
       "style": "IPY_MODEL_45896b8ab76a4cb3b7e1595c4c811cfe",
       "value": false
      }
     },
     "fa972079af324291b5a19ba80bcdfc98": {
      "model_module": "@jupyter-widgets/base",
      "model_module_version": "1.2.0",
      "model_name": "LayoutModel",
      "state": {}
     },
     "fad6558ca7b4421a872e9c48c0fd5db3": {
      "model_module": "@jupyter-widgets/base",
      "model_module_version": "1.2.0",
      "model_name": "LayoutModel",
      "state": {}
     },
     "faf5451fe23d45c6b99edbc0a800faf2": {
      "model_module": "@jupyter-widgets/base",
      "model_module_version": "1.2.0",
      "model_name": "LayoutModel",
      "state": {}
     },
     "fbf926e4350749bab98b4227561f26da": {
      "model_module": "@jupyter-widgets/controls",
      "model_module_version": "1.5.0",
      "model_name": "FloatSliderModel",
      "state": {
       "description": "wc",
       "layout": "IPY_MODEL_641d559f5f02481b8f6403754fc5dae7",
       "max": 1,
       "min": 0.1,
       "step": 0.01,
       "style": "IPY_MODEL_ef67b947ab784b888bc258307e748284",
       "value": 0.5
      }
     },
     "feb0b85abc124c77a0c76f542518de47": {
      "model_module": "@jupyter-widgets/controls",
      "model_module_version": "1.5.0",
      "model_name": "SliderStyleModel",
      "state": {
       "description_width": ""
      }
     }
    },
    "version_major": 2,
    "version_minor": 0
   }
  }
 },
 "nbformat": 4,
 "nbformat_minor": 2
}
