{
  "nbformat": 4,
  "nbformat_minor": 0,
  "metadata": {
    "kernelspec": {
      "display_name": "Python 3",
      "language": "python",
      "name": "python3"
    },
    "language_info": {
      "codemirror_mode": {
        "name": "ipython",
        "version": 3
      },
      "file_extension": ".py",
      "mimetype": "text/x-python",
      "name": "python",
      "nbconvert_exporter": "python",
      "pygments_lexer": "ipython3",
      "version": "3.7.4"
    },
    "widgets": {
      "application/vnd.jupyter.widget-state+json": {}
    },
    "colab": {
      "name": "MRSP_LDFB.ipynb",
      "provenance": []
    }
  },
  "cells": [
    {
      "cell_type": "markdown",
      "metadata": {
        "id": "S9h0fopNEtoQ"
      },
      "source": [
        "<center>\n",
        "    <img src=\"https://github.com/GuitarsAI/MRSP_Notebooks/blob/master/images/msp_header.png?raw=1\">\n",
        "</center>\n",
        "\n",
        "#### Prof. Dr. -Ing. Gerald Schuller <br> Jupyter Notebook: Renato Profeta"
      ]
    },
    {
      "cell_type": "markdown",
      "metadata": {
        "hide_input": true,
        "id": "4gHY5FrGEtoU"
      },
      "source": [
        "# Low Delay Filter Banks"
      ]
    },
    {
      "cell_type": "code",
      "metadata": {
        "hide_input": true,
        "id": "HQJDsowMEtoW",
        "outputId": "7daa30b5-5c13-4f81-c86f-3e75f4f7fe7a"
      },
      "source": [
        "%%html\n",
        "<center>\n",
        "<iframe width=\"560\" height=\"315\" src=\"https://www.youtube.com/embed/MFbMI5yoaOk?rel=0\" frameborder=\"0\" allow=\"accelerometer; encrypted-media; gyroscope; picture-in-picture\" allowfullscreen></iframe>\n",
        "</center>"
      ],
      "execution_count": null,
      "outputs": [
        {
          "output_type": "display_data",
          "data": {
            "text/html": [
              "<center>\n",
              "<iframe width=\"560\" height=\"315\" src=\"https://www.youtube.com/embed/MFbMI5yoaOk?rel=0\" frameborder=\"0\" allow=\"accelerometer; encrypted-media; gyroscope; picture-in-picture\" allowfullscreen></iframe>\n",
              "</center>\n"
            ],
            "text/plain": [
              "<IPython.core.display.HTML object>"
            ]
          },
          "metadata": {
            "tags": []
          }
        }
      ]
    },
    {
      "cell_type": "markdown",
      "metadata": {
        "id": "OwL3JOEtEtoZ"
      },
      "source": [
        "Last time we saw that an MDCT type filter bank leads to an algorithmic delay of $z^{−1}$ in the lower sampling rate, hence a delay of one block, over the analysis and also synthesis filter bank. (Remember: the $z^{−1}$ came from making the inverse delay matrix D(z) causal). \n",
        "\n",
        "In addition to this one block, we usually also need to take into account the so-called **blocking delay**, which results from assembling our incoming samples into blocks of length N. We first have to wait for N-1 incoming samples on the analysis side, and at the arrival of the N'th sample the block is full, and we can send it immediately to further processing. Hence the blocking delay is **N-1 samples**. Observe that we have no blocking delay on the synthesis side.\n",
        "\n",
        "This means the total delay is both, this blocking delay, plus the delay resulting from our matrices.\n",
        "\n",
        "In the case of our MDCT type filter bank, the total delay or so-called system delay is our blocking delay of N-1 samples plus 1 block delay from the polyphase matrices:\n",
        "\n",
        "$$\\large\n",
        "n_d = N - 1 + N = 2N -1$$\n",
        "\n",
        "We also have the length of our filter L=2N , which results in the system delay to be the length of the filters minus 1:\n",
        "\n",
        "$$\\large\n",
        "n_d=L-1$$\n",
        "\n",
        "This relation holds in **general for para-unitary filter banks!**\n",
        "\n",
        "Observe that mathematically it only makes sense to **define a delay over the entire analysis and synthesis filter bank**, because here we have the exact same signal as the input signal, just delayed.\n",
        "\n",
        "After only the analysis, we only have subband signals, which look diferently and have a different sampling rate. Hence, here we\n",
        "cannot really define a delay.\n",
        "\n",
        "For para-unitary filter banks, the only possibility to reduce the system delay is to reduce the filter length. But this also degrades the filter characteristics, for instance, it would lead to reduced stopband attenuation.\n",
        "\n",
        "Often, in applications like real-time audio communications, it is desirable to have a lower end-to-end delay, but also good filters with high stopband attenuation, such that we still obtain a good coding or compression performance.\n"
      ]
    },
    {
      "cell_type": "code",
      "metadata": {
        "hide_input": true,
        "id": "ao3hWKSDEtoc",
        "outputId": "97f80847-4ae8-4d1d-d588-13a6ea9aa1ae"
      },
      "source": [
        "%%html\n",
        "<center>\n",
        "<iframe width=\"560\" height=\"315\" src=\"https://www.youtube.com/embed/8TVTMptxlQ8?rel=0\" frameborder=\"0\" allow=\"accelerometer; encrypted-media; gyroscope; picture-in-picture\" allowfullscreen></iframe>\n",
        "</center>"
      ],
      "execution_count": null,
      "outputs": [
        {
          "output_type": "display_data",
          "data": {
            "text/html": [
              "<center>\n",
              "<iframe width=\"560\" height=\"315\" src=\"https://www.youtube.com/embed/8TVTMptxlQ8?rel=0\" frameborder=\"0\" allow=\"accelerometer; encrypted-media; gyroscope; picture-in-picture\" allowfullscreen></iframe>\n",
              "</center>\n"
            ],
            "text/plain": [
              "<IPython.core.display.HTML object>"
            ]
          },
          "metadata": {
            "tags": []
          }
        }
      ]
    },
    {
      "cell_type": "markdown",
      "metadata": {
        "hide_input": true,
        "id": "n1G7vtfMEtod"
      },
      "source": [
        "There the solution are the so-called **Low-Delay Filter Banks.**\n",
        "\n",
        "With them, it is possible to reduce the system delay without reducing the filter length L. How does this work? Or first, how do we get longer filters than the MDCT type filter banks in the first place? For MDCT type filter banks, we only had filters of length L=2N. How do we make them longer?\n",
        "\n",
        "To see a solution, we first need to take a look at the polyphase matrix again, this time for filters of arbitrary length (more than 2N).\n",
        "\n",
        "We can again compute our folding matrix of it, using:\n",
        "\n",
        "$$\\large\n",
        "F_a \\cdot D(z) = H(z) \\cdot T^{-1}$$\n",
        "\n",
        "as for the MDCT type filter banks, just that now our analysis polyphase matrix H(z) can contain baseband impulse responses $h_a(n)$ with arbitrary length L (and L can be much larger than 2N here).\n",
        "\n",
        "The resulting form of the analysis folding matrix is the same as for the MDCT type filter banks, but with higher degree polynomials in it, as expected:\n",
        "\n",
        "$$\\large\n",
        "F_a(z) = \\\\\n",
        "\\large\n",
        "\\begin{equation}\n",
        "\\left[ \n",
        "    \\begin{array}{cccccc} \n",
        "    . & 0 & -H_{2N-1}^{\\downarrow 2N}\\left(-z^2\\right)\\cdot z^{-1} & \n",
        "    -H_{N-1}^{\\downarrow 2N}\\left(-z^2\\right)\\cdot z^{-1} & 0 & . \\\\ \n",
        "    . & . & 0 & 0 & . & . \\\\\n",
        "    -H_{1.5N}^{\\downarrow 2N}\\left(-z^2\\right)\\cdot z^{-1} & 0 & . & \n",
        "    . & 0 & -H_{\\frac{N}{2}}^{\\downarrow 2N}\\left(-z^2\\right) \\\\\n",
        "    -H_{1.5N-1}^{\\downarrow 2N}\\left(-z^2\\right)\\cdot z^{-1} & 0 & . & \n",
        "    . & 0 & H_{\\frac{N}{2}-1}^{\\downarrow 2N}\\left(-z^2\\right) \\\\\n",
        "    0 & . & 0 & . & . & 0 \\\\\n",
        "    . & 0 & -H_{N}^{\\downarrow 2N}\\left(-z^2\\right)\\cdot z^{-1} & \n",
        "    H_{0}^{\\downarrow 2N}\\left(-z^2\\right) & 0 & . \\\\\n",
        "    \\end{array}\n",
        "\\right]\n",
        "\\end{equation}\n",
        "$$\n",
        "\n",
        "with\n",
        "\n",
        "$$\\begin{equation}\n",
        "\\large\n",
        "H_{n}^{\\downarrow 2N}(z) := \\sum_{m=0}^{\\infty}h_a(m2N+n)\\cdot z^{-m}\n",
        "\\end{equation}$$\n",
        "\n",
        "which are the z-transforms of the downsampled by 2N versions of our baseband prototype $h_a$ for the analysis at phases *n*. The minus sign in $−z^2$ results from our cosine modulation function changing its sign every $2^{nd}$ block.\n",
        "\n",
        "<br>\n",
        "<cite>\n",
        "(eq: 2) (From: G. Schuller, MJT. Smith: “New Framework for Perfect Reconstruction Fiiter Banks”, IEEE Transactions on Signal Processing, Aug. 1996).  \n",
        "</cite>\n",
        "\n",
        "**Observe** that this $F_a(z)$ corresponds to our $F_a \\cdot D(z)$.\n",
        "\n",
        "**Observe** that the order of the polyphase polynomials determines the resulting filter length of our filter bank. If the highest exponent is M, then our filters have length M+1 blocks (of 2N here since we the have downsampling of 2N), or length (M+1)2N.\n",
        "\n",
        "Here we can observe 2 effects:\n",
        " - One is that the shape of our analysis folding matrix has again the diamond shape.\n",
        " - Second, the poiynomials in it now have a higher order, depending on the length of our filters."
      ]
    },
    {
      "cell_type": "markdown",
      "metadata": {
        "id": "kRkoEWIXEtof"
      },
      "source": [
        "For the MDCT type with L=2N we still get an easy solution here, but what about longer filters? Our Goal is still to obtain a perfect reconstruction, and also to obtain Finite Impuise Response filters for our synthesis, to make it easier to handle.\n",
        "\n",
        "The **approach** now is to use our previous matrix decomposition, writing our polyphase matrices as a product of simpler matrices, and simply extend this product with additional matrices, such that we:\n",
        " - keep the diamond shape of our resulting folding matrix intact (because this was the result of our cosine modulation, which we would like to keep intact),\n",
        " - that we increase the polynomial order and hence the resulting filter length,\n",
        " - such that we get easy FIR inverses,\n",
        " - and such we can control the resulting system delay.\n",
        " \n",
        "The trick now is to invent additional matrices which fulfill these requirements.\n",
        "\n",
        "These additional matrices can be split into separate types. The first type is the so-called **Zero-Delay Matrix:**\n",
        "\n",
        "$$\\large\n",
        "E_i(z) = \n",
        "\\left[ \n",
        "    \\begin{array}{cccccc}\n",
        "    0 & . & . & . & 0 & 1 \\\\\n",
        "    . & . & . & 0 & 1 & 0 \\\\\n",
        "    . & \\cdots & 0 & 1 & 0 & . \\\\\n",
        "    . & 0 & 1 & e_0^i z^{-1} & 0 & . \\\\\n",
        "    0 & 1 & 0 & . & . & 0 \\\\\n",
        "    1 & 0 & . & . & . & e_{\\frac{N}{2}-1}^i z^{-1} \\\\\n",
        "    \\end{array}\n",
        "\\right]\n",
        "$$\n",
        "\n",
        "It has an inverse, which is already causal, we don't need a delay to make it causal!:\n",
        "\n",
        "$$\\large\n",
        "E_i^{-1}(z) = \n",
        "\\left[ \n",
        "    \\begin{array}{cccccc}\n",
        "    -e_{\\frac{N}{2}-1}^i z^{-1} & . & . & . & 0 & 1 \\\\\n",
        "    . & . & . & 0 & 1 & 0 \\\\\n",
        "    . & . & -e_0^i z^{-1} & 1 & 0 & . \\\\\n",
        "    . & 0 & 1 & 0 & . & . \\\\\n",
        "    0 & 1 & 0 & . & . & 0 \\\\\n",
        "    1 & 0 & . & . & . & 0 \\\\\n",
        "    \\end{array}\n",
        "\\right]\n",
        "$$\n",
        "\n",
        "In sympy, with N = 4 and $[e_0,e_1]$:"
      ]
    },
    {
      "cell_type": "code",
      "metadata": {
        "hide_input": false,
        "id": "Qcmm1gyZEtoi",
        "outputId": "7b5238ed-6489-4c69-e636-1a6ff0d2bba6"
      },
      "source": [
        "from sympy import *\n",
        "from numpy import *\n",
        "\n",
        "z=symbols('z')\n",
        "\n",
        "#Coefficients\n",
        "e=symbols('e:2')\n",
        "\n",
        "#The zero-delay E matrix:\n",
        "E=Matrix([[0, 0, 0, 1],[0, 0, 1, 0],[0, 1, e[0]*z**(-1), 0], [1, 0, 0,e[1]*z**(-1) ]])\n",
        "E"
      ],
      "execution_count": null,
      "outputs": [
        {
          "output_type": "execute_result",
          "data": {
            "text/latex": "$\\displaystyle \\left[\\begin{matrix}0 & 0 & 0 & 1\\\\0 & 0 & 1 & 0\\\\0 & 1 & \\frac{e_{0}}{z} & 0\\\\1 & 0 & 0 & \\frac{e_{1}}{z}\\end{matrix}\\right]$",
            "text/plain": [
              "Matrix([\n",
              "[0, 0,    0,    1],\n",
              "[0, 0,    1,    0],\n",
              "[0, 1, e0/z,    0],\n",
              "[1, 0,    0, e1/z]])"
            ]
          },
          "metadata": {
            "tags": []
          },
          "execution_count": 1
        }
      ]
    },
    {
      "cell_type": "markdown",
      "metadata": {
        "hide_input": false,
        "id": "A22wMG8bEtok"
      },
      "source": [
        "Then its inverse is:"
      ]
    },
    {
      "cell_type": "code",
      "metadata": {
        "hide_input": false,
        "id": "GzFmJN0KEtom",
        "outputId": "79eba65d-3f47-4fef-cc6e-bdbfd51993bd"
      },
      "source": [
        "E**(-1)"
      ],
      "execution_count": null,
      "outputs": [
        {
          "output_type": "execute_result",
          "data": {
            "text/latex": "$\\displaystyle \\left[\\begin{matrix}- \\frac{e_{1}}{z} & 0 & 0 & 1\\\\0 & - \\frac{e_{0}}{z} & 1 & 0\\\\0 & 1 & 0 & 0\\\\1 & 0 & 0 & 0\\end{matrix}\\right]$",
            "text/plain": [
              "Matrix([\n",
              "[-e1/z,     0, 0, 1],\n",
              "[    0, -e0/z, 1, 0],\n",
              "[    0,     1, 0, 0],\n",
              "[    1,     0, 0, 0]])"
            ]
          },
          "metadata": {
            "tags": []
          },
          "execution_count": 2
        }
      ]
    },
    {
      "cell_type": "markdown",
      "metadata": {
        "id": "2jyQB8ldEtoo"
      },
      "source": [
        "we see that this is indeed the form as above."
      ]
    },
    {
      "cell_type": "markdown",
      "metadata": {
        "id": "8iSqZVrCEtoo"
      },
      "source": [
        "We can now multiply our analysis polyphase folding matrix (1) with this zero-delay matrix, and get polynomials of higher order, because we have elements with $z^{-1}$ in it. The synthesis polyphase matrix is multiplied by this inverse, to still obtain perfect reconstruction.\n",
        "\n",
        "Since the inverse also has polynomials of degree 1, it is still FIR. Also, since the inverse is already causal, we don't need any multiplication with $z^{-1}$ to make it causal, and hence no additional delay. This means, if we use this matrix, we can **increase the filter length**, but **don't increase the delay!**\n",
        "\n",
        "In principle we can repeat this process as often as we like, and get **arbitrarily high filter lengths**, but **no increase in delay!** Zero-delay matrices **increase the filter length by 1 block, but don't increase the system delay.**\n",
        "\n",
        "We increase the filter length by 1 block because the increase of the order of the polynomials by one which corresponds to 1 block."
      ]
    },
    {
      "cell_type": "markdown",
      "metadata": {
        "id": "Ilq7SayxEtop"
      },
      "source": [
        "There is a second type with the same properties, where we simply use the other half of the diagonal:\n",
        "\n",
        "$$\\large\n",
        "G_i(z) = \n",
        "\\left[ \n",
        "    \\begin{array}{cccccc}\n",
        "    g_0^1 \\cdot z^{-1} & . & . & . & 0 & 1 \\\\\n",
        "    . & . & . & 0 & 1 & 0 \\\\\n",
        "    . & . & g_{\\frac{N}{2}}^i \\cdot z^{-1} & 1 & 0 & . \\\\\n",
        "    . & 0 & 1 & 0 & . & . \\\\\n",
        "    0 & 1 & 0 & . & . & 0 \\\\\n",
        "    1 & 0 & . & . & . & 0 \\\\\n",
        "    \\end{array}\n",
        "\\right]\n",
        "$$\n",
        "\n",
        "Its (causal) inverse is:\n",
        "\n",
        "$$\\large\n",
        "G_i^{-1}(z) = \n",
        "\\left[ \n",
        "    \\begin{array}{cccccc}\n",
        "    0 & . & . & . & 0 & 1 \\\\\n",
        "    . & . & . & 0 & 1 & 0 \\\\\n",
        "    . & . & 0 & 1 & 0 & . \\\\\n",
        "    . & 0 & 1 & -g_{\\frac{N}{2}-1}^i z^{-1} & . \\\\\n",
        "    0 & 1 & 0 & . & . & 0 \\\\\n",
        "    1 & 0 & . & . & . & -g_0^1 \\cdot z^{-1} \\\\\n",
        "    \\end{array}\n",
        "\\right]\n",
        "$$\n",
        "\n",
        "**Observe:** Contrary to diagonal matrices, where we needed to take the inverse of each element of the diagonal, here we obtain the inverse by flipping the diagonal half and flipping just the sign, which keeps it causal!"
      ]
    },
    {
      "cell_type": "markdown",
      "metadata": {
        "hide_input": true,
        "id": "zjqvoqNsEtoq"
      },
      "source": [
        "## Python Sympy Example"
      ]
    },
    {
      "cell_type": "code",
      "metadata": {
        "hide_input": true,
        "id": "if5TDQw7Etor",
        "outputId": "4c599cfa-4a5e-4125-a091-b4dfad4b0b03"
      },
      "source": [
        "%%html\n",
        "<center>\n",
        "<iframe width=\"560\" height=\"315\" src=\"https://www.youtube.com/embed/LDGJtUd2uYs?rel=0\" frameborder=\"0\" allow=\"autoplay; encrypted-media; gyroscope; picture-in-picture\" allowfullscreen></iframe>\n",
        "</center>"
      ],
      "execution_count": null,
      "outputs": [
        {
          "output_type": "display_data",
          "data": {
            "text/html": [
              "<center>\n",
              "<iframe width=\"560\" height=\"315\" src=\"https://www.youtube.com/embed/LDGJtUd2uYs?rel=0\" frameborder=\"0\" allow=\"autoplay; encrypted-media; gyroscope; picture-in-picture\" allowfullscreen></iframe>\n",
              "</center>\n"
            ],
            "text/plain": [
              "<IPython.core.display.HTML object>"
            ]
          },
          "metadata": {
            "tags": []
          }
        }
      ]
    },
    {
      "cell_type": "markdown",
      "metadata": {
        "id": "5KFolWGmEtor"
      },
      "source": [
        "We would like to see how the product $H(z) = Fa \\cdot D(z) \\cdot G(z)$ of our folding matrix Fa(z) with the zero delay matrix G(z) looks like. "
      ]
    },
    {
      "cell_type": "code",
      "metadata": {
        "hide_input": false,
        "id": "bE7KioQZEtos",
        "outputId": "54524630-3b0f-46f4-9a23-6de71837a313"
      },
      "source": [
        "from sympy import *\n",
        "\n",
        "z=symbols('z')\n",
        "g=symbols('g:2')\n",
        "h=symbols('h:8')\n",
        "\n",
        "Fa=Matrix([[0, -h[7], -h[3], 0],[-h[6], 0, 0, -h[2]],[-h[5], 0, 0, h[1]],[0, -h[4], h[0], 0]])\n",
        "D=Matrix([[z**(-1), 0, 0, 0],[0, z**(-1), 0, 0],[0, 0, 1, 0],[0, 0, 0, 1]])\n",
        "G=Matrix([[g[0]*z**(-1), 0, 0, 1],[0, g[1]*z**(-1), 1, 0],[0, 1, 0, 0],[1, 0, 0,0 ]])\n",
        "print(\"Fa=\")\n",
        "display(Fa)\n",
        "print(\"D(z)=\")\n",
        "display(D)\n",
        "print(\"G=\")\n",
        "display(G)\n",
        "print(\"Fa*D*G =\")\n",
        "display(Fa*D*G)"
      ],
      "execution_count": null,
      "outputs": [
        {
          "output_type": "stream",
          "text": [
            "Fa=\n"
          ],
          "name": "stdout"
        },
        {
          "output_type": "display_data",
          "data": {
            "text/latex": "$\\displaystyle \\left[\\begin{matrix}0 & - h_{7} & - h_{3} & 0\\\\- h_{6} & 0 & 0 & - h_{2}\\\\- h_{5} & 0 & 0 & h_{1}\\\\0 & - h_{4} & h_{0} & 0\\end{matrix}\\right]$",
            "text/plain": [
              "Matrix([\n",
              "[  0, -h7, -h3,   0],\n",
              "[-h6,   0,   0, -h2],\n",
              "[-h5,   0,   0,  h1],\n",
              "[  0, -h4,  h0,   0]])"
            ]
          },
          "metadata": {
            "tags": []
          }
        },
        {
          "output_type": "stream",
          "text": [
            "D(z)=\n"
          ],
          "name": "stdout"
        },
        {
          "output_type": "display_data",
          "data": {
            "text/latex": "$\\displaystyle \\left[\\begin{matrix}\\frac{1}{z} & 0 & 0 & 0\\\\0 & \\frac{1}{z} & 0 & 0\\\\0 & 0 & 1 & 0\\\\0 & 0 & 0 & 1\\end{matrix}\\right]$",
            "text/plain": [
              "Matrix([\n",
              "[1/z,   0, 0, 0],\n",
              "[  0, 1/z, 0, 0],\n",
              "[  0,   0, 1, 0],\n",
              "[  0,   0, 0, 1]])"
            ]
          },
          "metadata": {
            "tags": []
          }
        },
        {
          "output_type": "stream",
          "text": [
            "G=\n"
          ],
          "name": "stdout"
        },
        {
          "output_type": "display_data",
          "data": {
            "text/latex": "$\\displaystyle \\left[\\begin{matrix}\\frac{g_{0}}{z} & 0 & 0 & 1\\\\0 & \\frac{g_{1}}{z} & 1 & 0\\\\0 & 1 & 0 & 0\\\\1 & 0 & 0 & 0\\end{matrix}\\right]$",
            "text/plain": [
              "Matrix([\n",
              "[g0/z,    0, 0, 1],\n",
              "[   0, g1/z, 1, 0],\n",
              "[   0,    1, 0, 0],\n",
              "[   1,    0, 0, 0]])"
            ]
          },
          "metadata": {
            "tags": []
          }
        },
        {
          "output_type": "stream",
          "text": [
            "Fa*D*G =\n"
          ],
          "name": "stdout"
        },
        {
          "output_type": "display_data",
          "data": {
            "text/latex": "$\\displaystyle \\left[\\begin{matrix}0 & - \\frac{g_{1} h_{7}}{z^{2}} - h_{3} & - \\frac{h_{7}}{z} & 0\\\\- \\frac{g_{0} h_{6}}{z^{2}} - h_{2} & 0 & 0 & - \\frac{h_{6}}{z}\\\\- \\frac{g_{0} h_{5}}{z^{2}} + h_{1} & 0 & 0 & - \\frac{h_{5}}{z}\\\\0 & - \\frac{g_{1} h_{4}}{z^{2}} + h_{0} & - \\frac{h_{4}}{z} & 0\\end{matrix}\\right]$",
            "text/plain": [
              "Matrix([\n",
              "[               0, -g1*h7/z**2 - h3, -h7/z,     0],\n",
              "[-g0*h6/z**2 - h2,                0,     0, -h6/z],\n",
              "[-g0*h5/z**2 + h1,                0,     0, -h5/z],\n",
              "[               0, -g1*h4/z**2 + h0, -h4/z,     0]])"
            ]
          },
          "metadata": {
            "tags": []
          }
        }
      ]
    },
    {
      "cell_type": "markdown",
      "metadata": {
        "id": "xRPs9qUDEtot"
      },
      "source": [
        "We can see that this is indeed the diamond shaped form of equation (1). By comparing it with eq. (1) we could now read out the resulting final baseband prototype filter for the anliysis $h_a(n)$."
      ]
    },
    {
      "cell_type": "markdown",
      "metadata": {
        "id": "_W-RBaasEtot"
      },
      "source": [
        "Observe that eq. (1) is for an even number of zero-Delay matrices. For odd numbers, as in this example, we would need to flip the matrix in eq. (1) horizontally (fliplr).\n",
        "\n",
        "So now we don't specify $h_a$ in our design process, but we start with our coefficients for our matrices, and obtain a baseband prototype filter $h_a$ with the desired length and delay properties.\n"
      ]
    },
    {
      "cell_type": "markdown",
      "metadata": {
        "id": "OXji4hA7Etou"
      },
      "source": [
        "**Q:** What is a possible drawback of these zero delay matrices?\n",
        "\n",
        "**A:** If we only increase the filter length with our zero delay matrices, we can observe that the far off **attenuation increases easily**, a **clear improvement** over the MDCT case. But the **nearby attenuation**, to the neighboring subbands, increases not as much as for orthogonal fiter banks with **similar length but with more delay.**\n",
        "\n",
        "Hence it can make sense to also increase the system delay, to obtain filters with higher near by attenuation more easily. This leads us to a matrix, which is very efficient in increasing the system delay, the opposite of zero-delay matrices:\n",
        "\n",
        "The so-called **Maximum-Delay Matrices.** They basically result from exchanging $z^{-1}$ by z in our zero-delay matrices, and a multiplication with $z^{-1}$ to make them causal:\n",
        "\n",
        "$$\\large\n",
        "H1(z) :=z^{-1} \\cdot E(z^{-1})$$\n",
        "\n",
        "This is one type of matrix, each matrix in our cascade has its own coefficients.\n",
        "\n",
        "The other type is:\n",
        "$$\\large\n",
        "H2(z) :=z^{-1} \\cdot G(z^{-1})$$\n",
        "\n",
        "Their inverse need a multiplication with $z^{−2}$ to make it causal, and is, correspondingly:\n",
        "\n",
        "$$\\large\n",
        "H1^{-1}(z) \\cdot z^{-2} = z^{-1} \\cdot E(z^{-1})$$\n",
        "\n",
        "and\n",
        "$$\\large\n",
        "H2^{-1}(z) \\cdot z^{-2} =z^{-1} \\cdot G(z^{-1})$$\n",
        "\n",
        "Here we can see that the matrix and its inverse leads to N blocks of delay:\n",
        "\n",
        "$$\\large\n",
        "H1(z) \\cdot H1^{-1}(z) \\cdot z^{-2} = z^{-2}\n",
        "$$\n",
        "\n",
        "and\n",
        "\n",
        "$$\\large\n",
        "H2(z) \\cdot H2^{-1}(z) \\cdot z^{-2} = z^{-2}\n",
        "$$\n",
        "\n",
        "Observe that the Maximum-Delay matrices have a polynomial order of 1, just like the zero-delay matrices, and hence **increase the filter length by 1 block, but increase the delay by 2 blocks!** This is twice as much as for an orthogonal filter bank.\n",
        "\n",
        "Using only maximum-delay matrices would result in similar frequency responses as with only zero-delay matrices, the impulse response would only appear time-reversed. We get increased nearby attenuation only if we **mix both types** of matrices. Orthogonal filter banks can be obtained if we use the same number of Maximum-delay and Zero-delay matrices.\n",
        "\n",
        "Our resulting polyphase matrix for the analysis then becomes this product:\n",
        "\n",
        "$$\\large\n",
        "H(z) = F_a \\cdot D(z) \\cdot \\prod_{n=0}^{P-1} G_n(z) \\cdot \\prod_{m=0}^{Q-1} H_m(z) \\cdot T$$\n",
        "\n",
        "where $H_m(z)$ is either H1(z) (if P is even) or H2(z), if P is odd.\n",
        "\n",
        "For the synthesis polyphase matrix we get the inverse product:\n",
        "\n",
        "$$\\large\n",
        "G(z) = H{-1}(z) \\cdot z^{-(2Q+1)} \\\\\n",
        "\\large\n",
        "= T^{-1} \\prod_{m=Q-1}^0 z^{-2} \\cdot H_m^{-1}(z) \\prod_{n=P-1}^0 G_n^{-1}(z) \\cdot D^{-1}(z) \\cdot z^{-1} \\cdot F_a^{-1}\n",
        "$$"
      ]
    },
    {
      "cell_type": "markdown",
      "metadata": {
        "hide_input": false,
        "scrolled": true,
        "id": "xVJHlm24Etou"
      },
      "source": [
        "Now we can design the impulse response length and the system delay of our filter bank. The **total number of our zero-delay and maximum-delay matrices determines the length of our impulse response.** Including the effect of the $F_a \\cdot D(z)$ matrix (a length of N blocks), we obtain a total filter length of:\n",
        "\n",
        "$$\\large\n",
        "L = (2+Q+P) \\cdot N\n",
        "$$\n",
        "\n",
        "Just the number of **maximum-delay matrices** $H_m(z)$ determines the **system delay.** Including the effects of the $F_a \\cdot D(z)$ matrix and the blocking delay (with a delay of 2N-1), we obtain a system delay of:\n",
        "\n",
        "$$\\large\n",
        "n_d = 2N -1+2Q \\cdot N$$\n",
        "\n",
        "Each zero-delay and maximum-delay matrix increases the impulse response length by one block of N samples. Each maximum-delay matrix increases the system delay by N blocks (2N samples), in this case starting with the MDCT delay of 2N-1 samples. It is also possible to start with a lower delay than an MDCT, by setting the leading samples of the MDCT type part to zero.\n",
        "\n",
        "**Observe:** We obtain the same **analysis and synthesis baseband impulse response,** if the determinants of our submatrices of our polyphase matrix are -1, as seen before.\n",
        "\n",
        "If we look at the **zero-delay matrices**, we find that their determinant of the submatrices is already - 1 (very practical). If we look at the **maximum-delay matrices**, we see that their determinant of the submatrices is $−z^{−2}$ , which is their resulting delay contribution and a factor of -1, which has the same effect, of leading to the same analysis and synthesis impulse responses.\n",
        "\n",
        "All we need to remain to do, is to make sure that the **matrix $\\mathbf{F_a}$ has a determinant of -1** in their submatrices, to obtain identical analysis and synthesis baseband impulse responses. This means the number of unknown coefficients for the folding matrix $F_a$ is going down from $2N$ to $2N-\\frac{N}{2}$. The remaining $\\frac{N}{2}$ coefficients come out of the det=-1 condition."
      ]
    },
    {
      "cell_type": "markdown",
      "metadata": {
        "id": "1drmiiy6Etov"
      },
      "source": [
        "This also makes the design easier, because then we only need to **optimize one side** of our filter bank, for instance the analysis side, and we have a reduced number of coefficients. We need a numerical optimization, because we now have a long cascade or product, with many unknown coefficients (in the Fa folding matrix, the Zero-Delay and Maximum-Delay matrices).\n",
        "\n",
        "We need to optimize them such that we obtain a good frequency response for the resulting impulse response. We can use eq. (1) in this lecture and our product for the folding matrix $F_a(z)$ (without the transform matrix T), to **read out the resulting baseband impulse response $h_a(n)$.**\n",
        "\n",
        "We can then compute the resulting frequency response and use that as a function to optimize, towards some \"optimum\" frequency response (for instance an ideal low pass filter as the prototype).\n",
        "\n",
        "An example application of this type of fiter bank is the audio coder \"Enhanced Low Delay AAC\" (ELD-AAC) in MPEG-4. Here it is used to obtain a lower encoding/decoding delay."
      ]
    },
    {
      "cell_type": "markdown",
      "metadata": {
        "hide_input": false,
        "id": "uZVYiXIzEtow"
      },
      "source": [
        "## Python Fast Implementation Example"
      ]
    },
    {
      "cell_type": "code",
      "metadata": {
        "hide_input": true,
        "id": "NQbY_ULFEtox",
        "outputId": "85a48fff-f5fa-464b-b46f-3dad8dcad569"
      },
      "source": [
        "%%html\n",
        "<center>\n",
        "<iframe width=\"560\" height=\"315\" src=\"https://www.youtube.com/embed/4UWe3yQmWIs?rel=0\" frameborder=\"0\" allow=\"accelerometer; encrypted-media; gyroscope; picture-in-picture\" allowfullscreen></iframe>\n",
        "</center>"
      ],
      "execution_count": null,
      "outputs": [
        {
          "output_type": "display_data",
          "data": {
            "text/html": [
              "<center>\n",
              "<iframe width=\"560\" height=\"315\" src=\"https://www.youtube.com/embed/4UWe3yQmWIs?rel=0\" frameborder=\"0\" allow=\"accelerometer; encrypted-media; gyroscope; picture-in-picture\" allowfullscreen></iframe>\n",
              "</center>\n"
            ],
            "text/plain": [
              "<IPython.core.display.HTML object>"
            ]
          },
          "metadata": {
            "tags": []
          }
        }
      ]
    },
    {
      "cell_type": "markdown",
      "metadata": {
        "id": "G0D-BscQEtox"
      },
      "source": [
        "For Low Delay filter banks it is usefull to process the samples as they come from the sound card. Hence we need a different implementation, an implementation which is not based on the signal already in memory. To obtain it, we interpret the $z^{−1}$ as a delay by one sample, and implement it using a memory element, which stores or delays samples for 1 sampling interval.\n",
        "\n",
        "The Delay Matrix D(z) for instance can e implemented as follows:"
      ]
    },
    {
      "cell_type": "code",
      "metadata": {
        "id": "POkEjVuhEtox"
      },
      "source": [
        "import numpy as np\n",
        "\n",
        "#The D(z) matrix:\n",
        "def Dmatrix(samples):\n",
        "#implementation of the delay matrix D(z)\n",
        "    #Delay elements:\n",
        "    out=np.zeros(N)\n",
        "    out[0:(N/2)]=Dmatrix.z\n",
        "    Dmatrix.z=samples[0:(N/2)]\n",
        "    out[N/2:N]=samples[N/2:N]\n",
        "    return out"
      ],
      "execution_count": null,
      "outputs": []
    },
    {
      "cell_type": "markdown",
      "metadata": {
        "id": "xmzY5xyYEtoy"
      },
      "source": [
        "A real time MDCT or Low Delay filter bank implementation, producing a waterfall spectrogram, including the synthesis filter bank and playback of the reconstructed signal:"
      ]
    },
    {
      "cell_type": "code",
      "metadata": {
        "id": "4nTlg479Etoy"
      },
      "source": [
        "# Imports and Configuration\n",
        "%matplotlib notebook\n",
        "\n",
        "import numpy as np\n",
        "import scipy.signal as signal\n",
        "import pyaudio\n",
        "import struct\n",
        "import scipy.fftpack as spfft\n",
        "from ipywidgets import ToggleButton, Button\n",
        "from ipywidgets import HBox\n",
        "import threading\n",
        "import cv2"
      ],
      "execution_count": null,
      "outputs": []
    },
    {
      "cell_type": "code",
      "metadata": {
        "id": "oxq87v9gEtoz"
      },
      "source": [
        "# Signal Processing Parameters\n",
        "\n",
        "N=512                          # Number of subbands and block size\n",
        "CHUNK_SIZE = N                 # Blocksize\n",
        "FORMAT = pyaudio.paInt16       # Conversion format for PyAudio stream\n",
        "CHANNELS = 1                   # Audio Channels\n",
        "RATE = 32000                   # Sampling Rate in Hz\n",
        "FFT_LEN = N                    # FFT Length  \n",
        "\n",
        "rows=500\n",
        "cols=CHUNK_SIZE\n",
        "fftlen=cols\n",
        "frame=0.0*np.ones((rows,cols,3));"
      ],
      "execution_count": null,
      "outputs": []
    },
    {
      "cell_type": "code",
      "metadata": {
        "id": "wpa8J_E6Etoz"
      },
      "source": [
        "#The D(z) matrix:\n",
        "def Dmatrix(samples):\n",
        "    #implementation of the delay matrix D(z)\n",
        "    #Delay elements:\n",
        "    out=np.zeros(N)\n",
        "    out[0:int(N/2)]=Dmatrix.z\n",
        "    Dmatrix.z=samples[0:int(N/2)]\n",
        "    out[int(N/2):N]=samples[int(N/2):N]\n",
        "    return out\n",
        "\n",
        "Dmatrix.z=np.zeros(int(N/2))"
      ],
      "execution_count": null,
      "outputs": []
    },
    {
      "cell_type": "code",
      "metadata": {
        "id": "_F-fbuWvEtoz"
      },
      "source": [
        "#The inverse D(z) matrix:\n",
        "def Dmatrixinv(samples):\n",
        "    #implementation of the delay matrix D(z)\n",
        "    #Delay elements:\n",
        "    out=np.zeros(N)\n",
        "    out[int(N/2):N]=Dmatrixinv.z\n",
        "    Dmatrixinv.z=samples[int(N/2):N]\n",
        "    out[0:int(N/2)]=samples[0:int(N/2)]\n",
        "    return out\n",
        "\n",
        "Dmatrixinv.z=np.zeros(int(N/2))"
      ],
      "execution_count": null,
      "outputs": []
    },
    {
      "cell_type": "code",
      "metadata": {
        "id": "4pcqs85vEto0"
      },
      "source": [
        "#The F Matrix:\n",
        "fcoeff=np.sin(np.pi/(2*N)*(np.arange(0,2*N)+0.5))\n",
        "Fmatrix=np.zeros((N,N))\n",
        "Fmatrix[0:int(N/2),0:int(N/2)]=np.fliplr(np.diag(fcoeff[0:int(N/2)]))\n",
        "Fmatrix[int(N/2):N,0:int(N/2)]=np.diag(fcoeff[int(N/2):N])\n",
        "Fmatrix[0:int(N/2),int(N/2):N]=np.diag(fcoeff[N:int(N+N/2)])\n",
        "Fmatrix[int(N/2):N,int(N/2):N]=-np.fliplr(np.diag(fcoeff[int(N+N/2):(2*N)]))"
      ],
      "execution_count": null,
      "outputs": []
    },
    {
      "cell_type": "code",
      "metadata": {
        "id": "6rQZh-FAEto0"
      },
      "source": [
        "#The inverse F matrix:\n",
        "Finv=np.linalg.inv(Fmatrix)"
      ],
      "execution_count": null,
      "outputs": []
    },
    {
      "cell_type": "code",
      "metadata": {
        "id": "QxmaeydaEto0"
      },
      "source": [
        "#The DCT4 transform:\n",
        "def DCT4(samples):\n",
        "    #use a DCT3 to implement a DCT4:\n",
        "    samplesup=np.zeros(2*N)\n",
        "    #upsample signal:\n",
        "    samplesup[1::2]=samples\n",
        "    y=spfft.dct(samplesup,type=3)/2\n",
        "    return y[0:N]"
      ],
      "execution_count": null,
      "outputs": []
    },
    {
      "cell_type": "code",
      "metadata": {
        "id": "p13i9AqcEto1"
      },
      "source": [
        "#The complete MDCT, Analysis:\n",
        "def MDCT(samples):\n",
        "    y=np.dot(samples,Fmatrix)\n",
        "    y=Dmatrix(y)\n",
        "    y=DCT4(y)\n",
        "    return y"
      ],
      "execution_count": null,
      "outputs": []
    },
    {
      "cell_type": "code",
      "metadata": {
        "id": "lnSS6xGFEto1"
      },
      "source": [
        "#The inverse MDCT, synthesis:\n",
        "def MDCTinv(y): \n",
        "    #inverse DCT4 is identical to DCT4:\n",
        "    x=DCT4(y)*2/N\n",
        "    #inverse D(z) matrix\n",
        "    x=Dmatrixinv(x)\n",
        "    #inverse F matrix\n",
        "    x=np.dot(x,Finv)\n",
        "    return x"
      ],
      "execution_count": null,
      "outputs": []
    },
    {
      "cell_type": "code",
      "metadata": {
        "id": "e74BsabkEto1"
      },
      "source": [
        "# GUI\n",
        "toggle_run = ToggleButton(description='Stop')\n",
        "button_start= Button(description='Start')\n",
        "\n",
        "def start_button(button_start):\n",
        "    thread.start()\n",
        "    button_start.disabled=True\n",
        "button_start.on_click(start_button)\n",
        "\n",
        "\n",
        "def on_click_toggle_run(change):\n",
        "    if change['new']==False:\n",
        "        stream.stop_stream()\n",
        "        stream.close()\n",
        "        p.terminate()\n",
        "        cv2.destroyAllWindows()\n",
        "        plt.close()\n",
        "toggle_run.observe(on_click_toggle_run, 'value')\n",
        "\n",
        "box_buttons = HBox([button_start,toggle_run])"
      ],
      "execution_count": null,
      "outputs": []
    },
    {
      "cell_type": "code",
      "metadata": {
        "id": "OITw8QylEto1"
      },
      "source": [
        "# Function to Plot MDCT\n",
        "\n",
        "def run_mdct(toggle_run):\n",
        "    while(True):\n",
        "        if toggle_run.value==True:\n",
        "            break\n",
        "        \n",
        "        #Reading from audio input stream into data with block length \"CHUNK\":\n",
        "        data = stream.read(CHUNK_SIZE)\n",
        "        #Convert from stream of bytes to a list of short integers (2 bytes here) in \"samples\":\n",
        "        #shorts = (struct.unpack( \"128h\", data ))\n",
        "        shorts = (struct.unpack( 'h' * CHUNK_SIZE, data ));\n",
        "        samples=np.array(list(shorts),dtype=float);\n",
        "\n",
        "        #shift \"frame\" 1 up:\n",
        "        frame[0:(rows-1),:]=frame[1:rows,:]; \n",
        "        #compute magnitude of 1D FFT of sound \n",
        "        #with suitable normalization for the display:\n",
        "        #frame=np.abs(np.ffqt.fft2(frame[:,:,1]/255.0))/512.0\n",
        "        #write magnitude spectrum in lowes row of \"frame\":\n",
        "        #R=0.25*np.log((np.abs(np.fft.fft(samples[0:fftlen])[0:(fftlen/2)]/np.sqrt(fftlen))+1))/np.log(10.0)\n",
        "\n",
        "        #This is the FFT of the input:\n",
        "        #y=np.fft.fft(samples[0:fftlen])   \n",
        "        #This is the analysis MDCT of the input: \n",
        "        y=MDCT(samples[0:fftlen])\n",
        "\n",
        "        #yfilt is the processed subbands, processing goes here:\n",
        "        yfilt=y\n",
        "        #yfilt=np.zeros(N)\n",
        "        #yfilt[10:150]=y[10:150]\n",
        "        #yfilt[1]=y[1]*8\n",
        "        #yfilt[0:1024]=y[0:1024]\n",
        "\n",
        "        #Waterfall color mapping:\n",
        "        R=0.25*np.log((np.abs(yfilt/np.sqrt(fftlen))+1))/np.log(10.0)\n",
        "        #Red frame:\n",
        "        frame[rows-1,:,2]=R\n",
        "        #Green frame:\n",
        "        frame[rows-1,:,1]=np.abs(1-2*R)\n",
        "        #Blue frame:\n",
        "        frame[rows-1,:,0]=1.0-R\n",
        "        #frame[rows-1,:,0]=frame[rows-1,:,1]**3\n",
        "        # Display the resulting frame\n",
        "        cv2.imshow('frame',frame)\n",
        "\n",
        "        #Inverse FFT:\n",
        "        #xrek=np.real(np.fft.ifft(yfilt))\n",
        "        #Inverse/synthesis MDCT:\n",
        "        xrek=MDCTinv(yfilt).astype(int);\n",
        "        xrek=np.clip(xrek, -32000,32000)\n",
        "        #converting from short integers to a stream of bytes in \"data\":\n",
        "        #data=struct.pack('h' * len(samples), *samples);\n",
        "        data=struct.pack('h' * len(xrek), *xrek);\n",
        "        #Writing data back to audio output stream: \n",
        "        stream.write(data, CHUNK_SIZE)\n",
        "\n",
        "        #Keep window open until key 'q' is pressed:\n",
        "        if cv2.waitKey(1) & 0xFF == ord('q'):\n",
        "            break\n",
        "    # When everything done, release the capture\n",
        "    stream.stop_stream()\n",
        "    stream.close()\n",
        "    p.terminate()\n",
        "    cv2.destroyAllWindows()\n",
        "               "
      ],
      "execution_count": null,
      "outputs": []
    },
    {
      "cell_type": "code",
      "metadata": {
        "id": "JVE1fyAHEto2"
      },
      "source": [
        "# Create a Thread for run_spectrogram function\n",
        "thread = threading.Thread(target=run_mdct, args=(toggle_run,))"
      ],
      "execution_count": null,
      "outputs": []
    },
    {
      "cell_type": "code",
      "metadata": {
        "id": "5Bp1JTn8Eto2"
      },
      "source": [
        "# Start Audio Stream\n",
        "# Create \n",
        "p = pyaudio.PyAudio()\n",
        "    \n",
        "stream = p.open(format=FORMAT,,\n",
        "                channels=CHANNELS,\n",
        "                rate=RATE,\n",
        "                input=True,\n",
        "                output=True,\n",
        "                frames_per_buffer=CHUNK_SIZE)\n",
        "\n",
        "\n",
        "\n",
        "input_data = stream.read(CHUNK_SIZE)\n",
        "samples = np.frombuffer(input_data,np.int16)"
      ],
      "execution_count": null,
      "outputs": []
    },
    {
      "cell_type": "code",
      "metadata": {
        "id": "HQDLRz2bEto2",
        "outputId": "f96b97d7-b255-439f-ddba-5e5a19aebffa",
        "colab": {
          "referenced_widgets": [
            "e740c5a6e3344e66bdc90a08afa1c5eb"
          ]
        }
      },
      "source": [
        "# Initialize Plot and Display GUI\n",
        "\n",
        "display(box_buttons)\n",
        "\n"
      ],
      "execution_count": null,
      "outputs": [
        {
          "output_type": "display_data",
          "data": {
            "application/vnd.jupyter.widget-view+json": {
              "model_id": "e740c5a6e3344e66bdc90a08afa1c5eb",
              "version_major": 2,
              "version_minor": 0
            },
            "text/plain": [
              "HBox(children=(Button(description='Start', style=ButtonStyle()), ToggleButton(value=False, description='Stop')…"
            ]
          },
          "metadata": {
            "tags": []
          }
        }
      ]
    }
  ]
}