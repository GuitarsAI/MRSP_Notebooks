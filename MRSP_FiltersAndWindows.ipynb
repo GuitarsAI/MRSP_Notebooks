{
 "cells": [
  {
   "cell_type": "markdown",
   "metadata": {
    "slideshow": {
     "slide_type": "slide"
    }
   },
   "source": [
    "<center>\n",
    "    <img src=\"./images/msp_header.png\">\n",
    "</center>\n",
    "\n",
    "#### Prof. Dr. -Ing. Gerald Schuller <br> Jupyter Notebook: Renato Profeta"
   ]
  },
  {
   "cell_type": "markdown",
   "metadata": {
    "slideshow": {
     "slide_type": "-"
    }
   },
   "source": [
    "# Filters and Windows"
   ]
  },
  {
   "cell_type": "code",
   "execution_count": 1,
   "metadata": {
    "hide_input": true
   },
   "outputs": [
    {
     "data": {
      "text/html": [
       "<center>\n",
       "<iframe width=\"560\" height=\"315\" src=\"https://www.youtube.com/embed/CmwHW7PBNf8\" frameborder=\"0\" allow=\"accelerometer; encrypted-media; gyroscope; picture-in-picture\" allowfullscreen></iframe>\n",
       "</center>\n"
      ],
      "text/plain": [
       "<IPython.core.display.HTML object>"
      ]
     },
     "metadata": {},
     "output_type": "display_data"
    }
   ],
   "source": [
    "%%html\n",
    "<center>\n",
    "<iframe width=\"560\" height=\"315\" src=\"https://www.youtube.com/embed/CmwHW7PBNf8\" frameborder=\"0\" allow=\"accelerometer; encrypted-media; gyroscope; picture-in-picture\" allowfullscreen></iframe>\n",
    "</center>"
   ]
  },
  {
   "cell_type": "markdown",
   "metadata": {
    "slideshow": {
     "slide_type": "-"
    }
   },
   "source": [
    "Last time we saw how we can obtain the impulse response of the ideal low pass filter, the sinc function. The problem of this impulse response is, that it is non-causal, and we also cannot make it causal because it starts at minus infinity (we cannot add infinite delay).\n",
    "\n",
    "<img src=\"./images/msp_05_01_sinc_function.png\" width=500>\n",
    "\n",
    "Assume we would like to have a causal Finite Impulse Response (**FIR**) low pass filter, meaning the impulse response starts a time 0 and extents over only a finite amount of samples, n=0,…,L-1, for a length L. (Observe that FIR filters have no correspondence in the analog domain, analog filters always have an infinite impulse response, **IIR**)\n",
    "\n",
    "How do we design this filter such that it becomes “similar” in some sense to the ideal? (Since we cannot get the ideal filter)"
   ]
  },
  {
   "cell_type": "code",
   "execution_count": 2,
   "metadata": {
    "hide_input": true
   },
   "outputs": [
    {
     "data": {
      "text/html": [
       "<center>\n",
       "<iframe width=\"560\" height=\"315\" src=\"https://www.youtube.com/embed/sdq1OOnQass\" frameborder=\"0\" allow=\"accelerometer; encrypted-media; gyroscope; picture-in-picture\" allowfullscreen></iframe>\n",
       "</center>\n"
      ],
      "text/plain": [
       "<IPython.core.display.HTML object>"
      ]
     },
     "metadata": {},
     "output_type": "display_data"
    }
   ],
   "source": [
    "%%html\n",
    "<center>\n",
    "<iframe width=\"560\" height=\"315\" src=\"https://www.youtube.com/embed/sdq1OOnQass\" frameborder=\"0\" allow=\"accelerometer; encrypted-media; gyroscope; picture-in-picture\" allowfullscreen></iframe>\n",
    "</center>"
   ]
  },
  {
   "cell_type": "markdown",
   "metadata": {
    "slideshow": {
     "slide_type": "subslide"
    }
   },
   "source": [
    "**Example:** Design an anti-aliasing filter for sampling rate conversion: The original signal is from a CD with 44.1 kHz sampling rate, hence an audio bandwidth of about up to  around 20 kHz, and we would like to downsample it to 22 kHz sampling rate, for example for a Mac computer. In order do be able to downsample it, we first have to low pass filter it, for instance the pass-band should be from 0 to 9 kHz, and the stop-band, to avoid aliasing of frequencies above 11 kHz, should be from 11 kHz on to the maximum (here: 22.05 kHz). Since we don't have an ideal filter, we need to include a “transition” band, here from 9kHz to 11 kHz, to let the filter “transition” from pass band to stop band, with intermediate attenuations.\n",
    "\n",
    "Aliasing is something that is easily perceivable by the ear, hence we would like to have **at least 60 dB** attenuation from 11 kHz and up. The passband can take some ripples in the frequency response, for instance ± 2 dB (corresponding to about ±25% in voltage). The frequency range from 9 kHz to 11 kHz is the so-called transition band, which gives the filter space to build up its attenuation from 0 to 60 dB, to make sure it already has this 60 dB at 11 kHz frequency. In this way we can formulate requirements for a “similarity” of our filter, even though we know we cannot reach the optimum (a practical approach).\n",
    " \n",
    "A first (perhaps naïve) approach is to define the similarity as the quadratic error of the frequency response of our FIR filter to our given ideal frequency response (mostly this means the magnitude of the frequency response). This has the advantage of being mathematically very simple. This means our goal is to **minimize** this **quadratic error**. Assume our desired frequency response is $H_d(\\omega)$, and the (real)  frequency response of our causal FIR filter is $H(\\omega)$. Then the quadratic error $e$ is\n",
    "\n",
    "$$ \\large\n",
    " {e= \\int _{ {0} } ^ { {2π} }  { \\mid H_ {{d} }  ( ω )  - { H ( ω )}  \\mid  ^ { {2} } dω} } {}\n",
    "$$\n"
   ]
  },
  {
   "cell_type": "code",
   "execution_count": 3,
   "metadata": {
    "hide_input": true
   },
   "outputs": [
    {
     "data": {
      "text/html": [
       "<center>\n",
       "<iframe width=\"560\" height=\"315\" src=\"https://www.youtube.com/embed/a_yqL6It91k\" frameborder=\"0\" allow=\"accelerometer; encrypted-media; gyroscope; picture-in-picture\" allowfullscreen></iframe>\n",
       "</center>\n"
      ],
      "text/plain": [
       "<IPython.core.display.HTML object>"
      ]
     },
     "metadata": {},
     "output_type": "display_data"
    }
   ],
   "source": [
    "%%html\n",
    "<center>\n",
    "<iframe width=\"560\" height=\"315\" src=\"https://www.youtube.com/embed/a_yqL6It91k\" frameborder=\"0\" allow=\"accelerometer; encrypted-media; gyroscope; picture-in-picture\" allowfullscreen></iframe>\n",
    "</center>"
   ]
  },
  {
   "cell_type": "markdown",
   "metadata": {
    "slideshow": {
     "slide_type": "-"
    }
   },
   "source": [
    "We would like to make this error *e* as small as possible.\n",
    "Observe that we need an integral here because the frequency domain signal is continuous, since the time domain signal is not periodic (only then would the Fourier transform be discrete over the frequency). But here we have the sinc function with infinite extent over time. Observe that because of this we also cannot apply the Discrete Fourier Transform, because it is made for periodic signals with a finite period (the DFT is usually applied just to this finite period). But the Discrete Time Fourier Transform is for discrete time signals with infinite period.\n",
    "\n",
    "We need to minimize the quadratic error *e* to find the best approximation with our FIR filter. We cannot solve this problem in the frequency domain, but we can solve the equivalent formulation in the time domain.\n",
    "\n",
    "To obtain this, we use the so-called **Parseval Theorem**, which states that the power of a signal (the sum of its magnitude squared) is the same in the time- and in the frequency-domain (this is true for the Discrete Time Fourier Transform as well as for the DFT).\n",
    "\n",
    "$$ \\large\n",
    " {e= \\int_{ {0} }  ^{ {2π} }  { \\mid H _ { {d} }  ( ω )  - H ( ω )\\mid ^ { {2} } dω= \\sum _{ {n= -  \\infty } } ^ { { \\infty } }  { \\mid h _ { {d} }  ( n )  - h ( n )  \\mid  ^ { {2} } } } } {}\n",
    "$$\n",
    "\n",
    "The beauty here is now, that we obtain a sum, which we now can compute more easily (remember: We want to obtain h(n)).\n",
    "\n",
    "For our ideal low pass filter, $h_d(n)$ was the sinc function. To obtain a causal filter, we already allowed a time shift $n_d$ for the ideal impulse response (using our FIR filter h(n) makes causality possible). Plugging this into the above equation yields:\n",
    "\n",
    "$$ \\large\n",
    "{e= \\sum _{ {n= -  \\infty } }  ^ { { \\infty } }  { \\mid \\frac    {sin (  ( n - n _ { {d} }  ) \\omega_{{p} }  ) }   { ( n - n _ { {d} }  ) \\omega_ { {p} } } }  - h ( n )  \\mid  ^ { {2} } } {}\n",
    "$$\n",
    "\n",
    "How should we choose h(n) and delay $n_d$ to obtain the minimum possible quadratic error e for a given length L of h(n)?\n",
    "\n",
    "Given **the length L**, we need to determine the **L coefficients h(n)** and the **delay parameter $n_d$**.\n",
    "\n",
    "To make the solution more easy to see, we can **divide** the sum into 2 parts, one over the extend of h(n) and one for the rest:\n",
    "\n",
    "$$ \n",
    "{e= \\sum _{ {n= 0 } }  ^ { { L - 1} }  { \\mid \\frac    {sin (  ( n - n _ { {d} }  ) \\omega_{{p} }  ) }   { ( n - n _ { {d} }  ) \\omega_ { {p} } } }  - h ( n )  \\mid  ^ { {2} } } {}\n",
    "+{ \\sum _{ {n<0 } }  ^ { { n>L-1 } }  { \\mid \\frac    {sin (  ( n - n _ { {d} }  ) \\omega_{{p} }  ) }   { ( n - n _ { {d} }  ) \\omega_ { {p} } } }   \\mid  ^ { {2} } } {}\n",
    "$$\n",
    "\n",
    "Both terms are positive, so to minimize e we have to minimize both terms. To minimize the right hand term, we only have $n_d$. We can choose $n_d$ such only the smallest values appear there, and that the biggest values of $h_d$ are not “seen” by the right hand sum, and covered by h(n) in the left hand sum. We can imagine the left hand sum being a so-called “rectangular window”, where we can shift the sinc function over this window function to obtain h(n). \n",
    "\n",
    "The rectangular window is a function which has the value 1 inside the window length and the value 0 outside the window length. The finite sum can be imagined as resulting from first multiplying the infinite sinc function with this rectangular window, and then compute the sum, which hence becomes finite.\n",
    "\n",
    "The goal here would be to shift the sinc function, using the delay $n_d$, such that the window for h(n) “sees” the **biggest values** of the sinc  function. Observe that this leads to a contiguous impulse response. Using the above formulas, it would also be possible to just pick the **biggest magnitude** values of the  sinc function for h(n) (the maxima and minima), for a non-contiguous impulse response, which would lead to a smaller quadratic error for L coefficients! (Question: How would the resulting frequency response look like?).\n",
    "\n",
    "Assume L=2, then we have a filter with 2 coefficients. The biggest 2 values in the sinc function are around  the center, around zero, hence we would like to choose $n_d=0.5$ (a delay of half a sample), so that the new center is around n=0.5, and the right hand side sum “sees” only the smaller values. In general we would like to choose $n_d=(L-1)/2$, meaning we shift the **maximum** of the sinc function exactly in the **center** of our window for h(n).\n",
    "\n",
    "What do we do with the left hand side (inside our window)? We choose h(n) identical to $h_d(n)$, and the left hand sum (with the window) becomes indeed zero!\n",
    "\n",
    "This way we get a simple “recipe” for designing an FIR filter with minimum squared error: Take the center of the sinc function (or the ideal impulse response $h_d$), and window it with a so-called “**rectangular” window** (because it has a rectangular form in time or space. Inside the sum for h(n) this imagined window has a value of 1, and outside it has a value of 0).\n",
    "\n",
    "![sinc_window](./images/msp_05_02_sinc_window.jpg)\n",
    "\n",
    "This imagined window function will become more interesting if we modify the values from 1 to other values.\n",
    "We can see: FIR filter = Sinc function **times** the rectangular window.\n",
    "\n",
    "**Observe:** If we only use a finite piece of the Sinc function as our filter, we **implicitly** already applied a **rectangular window**. Hence there is no need to apply it explicitly any more.\n",
    "\n",
    "This **multiplication** of the rectangular window with the ideal impulse response in the **time domain** becomes a **convolution** of the DTFT of the rectangular window with the ideal frequency response in the **frequency domain**. In this way we can see the result in the frequency domain. In effect, the ideal  frequency response (of the sinc function) is “blurred” by convolving it with the DTFT of the window function. Ideally, this DTFT of the window should be an impulse at frequency zero, because then the convolution would not change the ideal frequency response.  But this would mean an infinitely long window in the time domain. We have a finite rectangular window in the time domain which becomes another **Sinc function** in the **frequency domain**, quite different from a pulse at frequency zero!\n",
    "\n",
    "**Oberve:** The longer the window in the time domain, the more narrow its sinc function in the frequency domain becomes, and the more similar to an impulse. Hence, for better filters we need a longer window!"
   ]
  },
  {
   "cell_type": "markdown",
   "metadata": {
    "slideshow": {
     "slide_type": "-"
    }
   },
   "source": [
    "Lets see what we really have, in iPython, with window:"
   ]
  },
  {
   "cell_type": "code",
   "execution_count": 4,
   "metadata": {
    "hide_input": true
   },
   "outputs": [
    {
     "data": {
      "text/html": [
       "<center>\n",
       "<iframe width=\"560\" height=\"315\" src=\"https://www.youtube.com/embed/xagyL2eWzyg\" frameborder=\"0\" allow=\"accelerometer; encrypted-media; gyroscope; picture-in-picture\" allowfullscreen></iframe>\n",
       "</center>\n"
      ],
      "text/plain": [
       "<IPython.core.display.HTML object>"
      ]
     },
     "metadata": {},
     "output_type": "display_data"
    }
   ],
   "source": [
    "%%html\n",
    "<center>\n",
    "<iframe width=\"560\" height=\"315\" src=\"https://www.youtube.com/embed/xagyL2eWzyg\" frameborder=\"0\" allow=\"accelerometer; encrypted-media; gyroscope; picture-in-picture\" allowfullscreen></iframe>\n",
    "</center>"
   ]
  },
  {
   "cell_type": "code",
   "execution_count": 5,
   "metadata": {
    "slideshow": {
     "slide_type": "-"
    }
   },
   "outputs": [
    {
     "data": {
      "application/javascript": [
       "/* Put everything inside the global mpl namespace */\n",
       "window.mpl = {};\n",
       "\n",
       "\n",
       "mpl.get_websocket_type = function() {\n",
       "    if (typeof(WebSocket) !== 'undefined') {\n",
       "        return WebSocket;\n",
       "    } else if (typeof(MozWebSocket) !== 'undefined') {\n",
       "        return MozWebSocket;\n",
       "    } else {\n",
       "        alert('Your browser does not have WebSocket support. ' +\n",
       "              'Please try Chrome, Safari or Firefox ≥ 6. ' +\n",
       "              'Firefox 4 and 5 are also supported but you ' +\n",
       "              'have to enable WebSockets in about:config.');\n",
       "    };\n",
       "}\n",
       "\n",
       "mpl.figure = function(figure_id, websocket, ondownload, parent_element) {\n",
       "    this.id = figure_id;\n",
       "\n",
       "    this.ws = websocket;\n",
       "\n",
       "    this.supports_binary = (this.ws.binaryType != undefined);\n",
       "\n",
       "    if (!this.supports_binary) {\n",
       "        var warnings = document.getElementById(\"mpl-warnings\");\n",
       "        if (warnings) {\n",
       "            warnings.style.display = 'block';\n",
       "            warnings.textContent = (\n",
       "                \"This browser does not support binary websocket messages. \" +\n",
       "                    \"Performance may be slow.\");\n",
       "        }\n",
       "    }\n",
       "\n",
       "    this.imageObj = new Image();\n",
       "\n",
       "    this.context = undefined;\n",
       "    this.message = undefined;\n",
       "    this.canvas = undefined;\n",
       "    this.rubberband_canvas = undefined;\n",
       "    this.rubberband_context = undefined;\n",
       "    this.format_dropdown = undefined;\n",
       "\n",
       "    this.image_mode = 'full';\n",
       "\n",
       "    this.root = $('<div/>');\n",
       "    this._root_extra_style(this.root)\n",
       "    this.root.attr('style', 'display: inline-block');\n",
       "\n",
       "    $(parent_element).append(this.root);\n",
       "\n",
       "    this._init_header(this);\n",
       "    this._init_canvas(this);\n",
       "    this._init_toolbar(this);\n",
       "\n",
       "    var fig = this;\n",
       "\n",
       "    this.waiting = false;\n",
       "\n",
       "    this.ws.onopen =  function () {\n",
       "            fig.send_message(\"supports_binary\", {value: fig.supports_binary});\n",
       "            fig.send_message(\"send_image_mode\", {});\n",
       "            if (mpl.ratio != 1) {\n",
       "                fig.send_message(\"set_dpi_ratio\", {'dpi_ratio': mpl.ratio});\n",
       "            }\n",
       "            fig.send_message(\"refresh\", {});\n",
       "        }\n",
       "\n",
       "    this.imageObj.onload = function() {\n",
       "            if (fig.image_mode == 'full') {\n",
       "                // Full images could contain transparency (where diff images\n",
       "                // almost always do), so we need to clear the canvas so that\n",
       "                // there is no ghosting.\n",
       "                fig.context.clearRect(0, 0, fig.canvas.width, fig.canvas.height);\n",
       "            }\n",
       "            fig.context.drawImage(fig.imageObj, 0, 0);\n",
       "        };\n",
       "\n",
       "    this.imageObj.onunload = function() {\n",
       "        fig.ws.close();\n",
       "    }\n",
       "\n",
       "    this.ws.onmessage = this._make_on_message_function(this);\n",
       "\n",
       "    this.ondownload = ondownload;\n",
       "}\n",
       "\n",
       "mpl.figure.prototype._init_header = function() {\n",
       "    var titlebar = $(\n",
       "        '<div class=\"ui-dialog-titlebar ui-widget-header ui-corner-all ' +\n",
       "        'ui-helper-clearfix\"/>');\n",
       "    var titletext = $(\n",
       "        '<div class=\"ui-dialog-title\" style=\"width: 100%; ' +\n",
       "        'text-align: center; padding: 3px;\"/>');\n",
       "    titlebar.append(titletext)\n",
       "    this.root.append(titlebar);\n",
       "    this.header = titletext[0];\n",
       "}\n",
       "\n",
       "\n",
       "\n",
       "mpl.figure.prototype._canvas_extra_style = function(canvas_div) {\n",
       "\n",
       "}\n",
       "\n",
       "\n",
       "mpl.figure.prototype._root_extra_style = function(canvas_div) {\n",
       "\n",
       "}\n",
       "\n",
       "mpl.figure.prototype._init_canvas = function() {\n",
       "    var fig = this;\n",
       "\n",
       "    var canvas_div = $('<div/>');\n",
       "\n",
       "    canvas_div.attr('style', 'position: relative; clear: both; outline: 0');\n",
       "\n",
       "    function canvas_keyboard_event(event) {\n",
       "        return fig.key_event(event, event['data']);\n",
       "    }\n",
       "\n",
       "    canvas_div.keydown('key_press', canvas_keyboard_event);\n",
       "    canvas_div.keyup('key_release', canvas_keyboard_event);\n",
       "    this.canvas_div = canvas_div\n",
       "    this._canvas_extra_style(canvas_div)\n",
       "    this.root.append(canvas_div);\n",
       "\n",
       "    var canvas = $('<canvas/>');\n",
       "    canvas.addClass('mpl-canvas');\n",
       "    canvas.attr('style', \"left: 0; top: 0; z-index: 0; outline: 0\")\n",
       "\n",
       "    this.canvas = canvas[0];\n",
       "    this.context = canvas[0].getContext(\"2d\");\n",
       "\n",
       "    var backingStore = this.context.backingStorePixelRatio ||\n",
       "\tthis.context.webkitBackingStorePixelRatio ||\n",
       "\tthis.context.mozBackingStorePixelRatio ||\n",
       "\tthis.context.msBackingStorePixelRatio ||\n",
       "\tthis.context.oBackingStorePixelRatio ||\n",
       "\tthis.context.backingStorePixelRatio || 1;\n",
       "\n",
       "    mpl.ratio = (window.devicePixelRatio || 1) / backingStore;\n",
       "\n",
       "    var rubberband = $('<canvas/>');\n",
       "    rubberband.attr('style', \"position: absolute; left: 0; top: 0; z-index: 1;\")\n",
       "\n",
       "    var pass_mouse_events = true;\n",
       "\n",
       "    canvas_div.resizable({\n",
       "        start: function(event, ui) {\n",
       "            pass_mouse_events = false;\n",
       "        },\n",
       "        resize: function(event, ui) {\n",
       "            fig.request_resize(ui.size.width, ui.size.height);\n",
       "        },\n",
       "        stop: function(event, ui) {\n",
       "            pass_mouse_events = true;\n",
       "            fig.request_resize(ui.size.width, ui.size.height);\n",
       "        },\n",
       "    });\n",
       "\n",
       "    function mouse_event_fn(event) {\n",
       "        if (pass_mouse_events)\n",
       "            return fig.mouse_event(event, event['data']);\n",
       "    }\n",
       "\n",
       "    rubberband.mousedown('button_press', mouse_event_fn);\n",
       "    rubberband.mouseup('button_release', mouse_event_fn);\n",
       "    // Throttle sequential mouse events to 1 every 20ms.\n",
       "    rubberband.mousemove('motion_notify', mouse_event_fn);\n",
       "\n",
       "    rubberband.mouseenter('figure_enter', mouse_event_fn);\n",
       "    rubberband.mouseleave('figure_leave', mouse_event_fn);\n",
       "\n",
       "    canvas_div.on(\"wheel\", function (event) {\n",
       "        event = event.originalEvent;\n",
       "        event['data'] = 'scroll'\n",
       "        if (event.deltaY < 0) {\n",
       "            event.step = 1;\n",
       "        } else {\n",
       "            event.step = -1;\n",
       "        }\n",
       "        mouse_event_fn(event);\n",
       "    });\n",
       "\n",
       "    canvas_div.append(canvas);\n",
       "    canvas_div.append(rubberband);\n",
       "\n",
       "    this.rubberband = rubberband;\n",
       "    this.rubberband_canvas = rubberband[0];\n",
       "    this.rubberband_context = rubberband[0].getContext(\"2d\");\n",
       "    this.rubberband_context.strokeStyle = \"#000000\";\n",
       "\n",
       "    this._resize_canvas = function(width, height) {\n",
       "        // Keep the size of the canvas, canvas container, and rubber band\n",
       "        // canvas in synch.\n",
       "        canvas_div.css('width', width)\n",
       "        canvas_div.css('height', height)\n",
       "\n",
       "        canvas.attr('width', width * mpl.ratio);\n",
       "        canvas.attr('height', height * mpl.ratio);\n",
       "        canvas.attr('style', 'width: ' + width + 'px; height: ' + height + 'px;');\n",
       "\n",
       "        rubberband.attr('width', width);\n",
       "        rubberband.attr('height', height);\n",
       "    }\n",
       "\n",
       "    // Set the figure to an initial 600x600px, this will subsequently be updated\n",
       "    // upon first draw.\n",
       "    this._resize_canvas(600, 600);\n",
       "\n",
       "    // Disable right mouse context menu.\n",
       "    $(this.rubberband_canvas).bind(\"contextmenu\",function(e){\n",
       "        return false;\n",
       "    });\n",
       "\n",
       "    function set_focus () {\n",
       "        canvas.focus();\n",
       "        canvas_div.focus();\n",
       "    }\n",
       "\n",
       "    window.setTimeout(set_focus, 100);\n",
       "}\n",
       "\n",
       "mpl.figure.prototype._init_toolbar = function() {\n",
       "    var fig = this;\n",
       "\n",
       "    var nav_element = $('<div/>');\n",
       "    nav_element.attr('style', 'width: 100%');\n",
       "    this.root.append(nav_element);\n",
       "\n",
       "    // Define a callback function for later on.\n",
       "    function toolbar_event(event) {\n",
       "        return fig.toolbar_button_onclick(event['data']);\n",
       "    }\n",
       "    function toolbar_mouse_event(event) {\n",
       "        return fig.toolbar_button_onmouseover(event['data']);\n",
       "    }\n",
       "\n",
       "    for(var toolbar_ind in mpl.toolbar_items) {\n",
       "        var name = mpl.toolbar_items[toolbar_ind][0];\n",
       "        var tooltip = mpl.toolbar_items[toolbar_ind][1];\n",
       "        var image = mpl.toolbar_items[toolbar_ind][2];\n",
       "        var method_name = mpl.toolbar_items[toolbar_ind][3];\n",
       "\n",
       "        if (!name) {\n",
       "            // put a spacer in here.\n",
       "            continue;\n",
       "        }\n",
       "        var button = $('<button/>');\n",
       "        button.addClass('ui-button ui-widget ui-state-default ui-corner-all ' +\n",
       "                        'ui-button-icon-only');\n",
       "        button.attr('role', 'button');\n",
       "        button.attr('aria-disabled', 'false');\n",
       "        button.click(method_name, toolbar_event);\n",
       "        button.mouseover(tooltip, toolbar_mouse_event);\n",
       "\n",
       "        var icon_img = $('<span/>');\n",
       "        icon_img.addClass('ui-button-icon-primary ui-icon');\n",
       "        icon_img.addClass(image);\n",
       "        icon_img.addClass('ui-corner-all');\n",
       "\n",
       "        var tooltip_span = $('<span/>');\n",
       "        tooltip_span.addClass('ui-button-text');\n",
       "        tooltip_span.html(tooltip);\n",
       "\n",
       "        button.append(icon_img);\n",
       "        button.append(tooltip_span);\n",
       "\n",
       "        nav_element.append(button);\n",
       "    }\n",
       "\n",
       "    var fmt_picker_span = $('<span/>');\n",
       "\n",
       "    var fmt_picker = $('<select/>');\n",
       "    fmt_picker.addClass('mpl-toolbar-option ui-widget ui-widget-content');\n",
       "    fmt_picker_span.append(fmt_picker);\n",
       "    nav_element.append(fmt_picker_span);\n",
       "    this.format_dropdown = fmt_picker[0];\n",
       "\n",
       "    for (var ind in mpl.extensions) {\n",
       "        var fmt = mpl.extensions[ind];\n",
       "        var option = $(\n",
       "            '<option/>', {selected: fmt === mpl.default_extension}).html(fmt);\n",
       "        fmt_picker.append(option);\n",
       "    }\n",
       "\n",
       "    // Add hover states to the ui-buttons\n",
       "    $( \".ui-button\" ).hover(\n",
       "        function() { $(this).addClass(\"ui-state-hover\");},\n",
       "        function() { $(this).removeClass(\"ui-state-hover\");}\n",
       "    );\n",
       "\n",
       "    var status_bar = $('<span class=\"mpl-message\"/>');\n",
       "    nav_element.append(status_bar);\n",
       "    this.message = status_bar[0];\n",
       "}\n",
       "\n",
       "mpl.figure.prototype.request_resize = function(x_pixels, y_pixels) {\n",
       "    // Request matplotlib to resize the figure. Matplotlib will then trigger a resize in the client,\n",
       "    // which will in turn request a refresh of the image.\n",
       "    this.send_message('resize', {'width': x_pixels, 'height': y_pixels});\n",
       "}\n",
       "\n",
       "mpl.figure.prototype.send_message = function(type, properties) {\n",
       "    properties['type'] = type;\n",
       "    properties['figure_id'] = this.id;\n",
       "    this.ws.send(JSON.stringify(properties));\n",
       "}\n",
       "\n",
       "mpl.figure.prototype.send_draw_message = function() {\n",
       "    if (!this.waiting) {\n",
       "        this.waiting = true;\n",
       "        this.ws.send(JSON.stringify({type: \"draw\", figure_id: this.id}));\n",
       "    }\n",
       "}\n",
       "\n",
       "\n",
       "mpl.figure.prototype.handle_save = function(fig, msg) {\n",
       "    var format_dropdown = fig.format_dropdown;\n",
       "    var format = format_dropdown.options[format_dropdown.selectedIndex].value;\n",
       "    fig.ondownload(fig, format);\n",
       "}\n",
       "\n",
       "\n",
       "mpl.figure.prototype.handle_resize = function(fig, msg) {\n",
       "    var size = msg['size'];\n",
       "    if (size[0] != fig.canvas.width || size[1] != fig.canvas.height) {\n",
       "        fig._resize_canvas(size[0], size[1]);\n",
       "        fig.send_message(\"refresh\", {});\n",
       "    };\n",
       "}\n",
       "\n",
       "mpl.figure.prototype.handle_rubberband = function(fig, msg) {\n",
       "    var x0 = msg['x0'] / mpl.ratio;\n",
       "    var y0 = (fig.canvas.height - msg['y0']) / mpl.ratio;\n",
       "    var x1 = msg['x1'] / mpl.ratio;\n",
       "    var y1 = (fig.canvas.height - msg['y1']) / mpl.ratio;\n",
       "    x0 = Math.floor(x0) + 0.5;\n",
       "    y0 = Math.floor(y0) + 0.5;\n",
       "    x1 = Math.floor(x1) + 0.5;\n",
       "    y1 = Math.floor(y1) + 0.5;\n",
       "    var min_x = Math.min(x0, x1);\n",
       "    var min_y = Math.min(y0, y1);\n",
       "    var width = Math.abs(x1 - x0);\n",
       "    var height = Math.abs(y1 - y0);\n",
       "\n",
       "    fig.rubberband_context.clearRect(\n",
       "        0, 0, fig.canvas.width / mpl.ratio, fig.canvas.height / mpl.ratio);\n",
       "\n",
       "    fig.rubberband_context.strokeRect(min_x, min_y, width, height);\n",
       "}\n",
       "\n",
       "mpl.figure.prototype.handle_figure_label = function(fig, msg) {\n",
       "    // Updates the figure title.\n",
       "    fig.header.textContent = msg['label'];\n",
       "}\n",
       "\n",
       "mpl.figure.prototype.handle_cursor = function(fig, msg) {\n",
       "    var cursor = msg['cursor'];\n",
       "    switch(cursor)\n",
       "    {\n",
       "    case 0:\n",
       "        cursor = 'pointer';\n",
       "        break;\n",
       "    case 1:\n",
       "        cursor = 'default';\n",
       "        break;\n",
       "    case 2:\n",
       "        cursor = 'crosshair';\n",
       "        break;\n",
       "    case 3:\n",
       "        cursor = 'move';\n",
       "        break;\n",
       "    }\n",
       "    fig.rubberband_canvas.style.cursor = cursor;\n",
       "}\n",
       "\n",
       "mpl.figure.prototype.handle_message = function(fig, msg) {\n",
       "    fig.message.textContent = msg['message'];\n",
       "}\n",
       "\n",
       "mpl.figure.prototype.handle_draw = function(fig, msg) {\n",
       "    // Request the server to send over a new figure.\n",
       "    fig.send_draw_message();\n",
       "}\n",
       "\n",
       "mpl.figure.prototype.handle_image_mode = function(fig, msg) {\n",
       "    fig.image_mode = msg['mode'];\n",
       "}\n",
       "\n",
       "mpl.figure.prototype.updated_canvas_event = function() {\n",
       "    // Called whenever the canvas gets updated.\n",
       "    this.send_message(\"ack\", {});\n",
       "}\n",
       "\n",
       "// A function to construct a web socket function for onmessage handling.\n",
       "// Called in the figure constructor.\n",
       "mpl.figure.prototype._make_on_message_function = function(fig) {\n",
       "    return function socket_on_message(evt) {\n",
       "        if (evt.data instanceof Blob) {\n",
       "            /* FIXME: We get \"Resource interpreted as Image but\n",
       "             * transferred with MIME type text/plain:\" errors on\n",
       "             * Chrome.  But how to set the MIME type?  It doesn't seem\n",
       "             * to be part of the websocket stream */\n",
       "            evt.data.type = \"image/png\";\n",
       "\n",
       "            /* Free the memory for the previous frames */\n",
       "            if (fig.imageObj.src) {\n",
       "                (window.URL || window.webkitURL).revokeObjectURL(\n",
       "                    fig.imageObj.src);\n",
       "            }\n",
       "\n",
       "            fig.imageObj.src = (window.URL || window.webkitURL).createObjectURL(\n",
       "                evt.data);\n",
       "            fig.updated_canvas_event();\n",
       "            fig.waiting = false;\n",
       "            return;\n",
       "        }\n",
       "        else if (typeof evt.data === 'string' && evt.data.slice(0, 21) == \"data:image/png;base64\") {\n",
       "            fig.imageObj.src = evt.data;\n",
       "            fig.updated_canvas_event();\n",
       "            fig.waiting = false;\n",
       "            return;\n",
       "        }\n",
       "\n",
       "        var msg = JSON.parse(evt.data);\n",
       "        var msg_type = msg['type'];\n",
       "\n",
       "        // Call the  \"handle_{type}\" callback, which takes\n",
       "        // the figure and JSON message as its only arguments.\n",
       "        try {\n",
       "            var callback = fig[\"handle_\" + msg_type];\n",
       "        } catch (e) {\n",
       "            console.log(\"No handler for the '\" + msg_type + \"' message type: \", msg);\n",
       "            return;\n",
       "        }\n",
       "\n",
       "        if (callback) {\n",
       "            try {\n",
       "                // console.log(\"Handling '\" + msg_type + \"' message: \", msg);\n",
       "                callback(fig, msg);\n",
       "            } catch (e) {\n",
       "                console.log(\"Exception inside the 'handler_\" + msg_type + \"' callback:\", e, e.stack, msg);\n",
       "            }\n",
       "        }\n",
       "    };\n",
       "}\n",
       "\n",
       "// from http://stackoverflow.com/questions/1114465/getting-mouse-location-in-canvas\n",
       "mpl.findpos = function(e) {\n",
       "    //this section is from http://www.quirksmode.org/js/events_properties.html\n",
       "    var targ;\n",
       "    if (!e)\n",
       "        e = window.event;\n",
       "    if (e.target)\n",
       "        targ = e.target;\n",
       "    else if (e.srcElement)\n",
       "        targ = e.srcElement;\n",
       "    if (targ.nodeType == 3) // defeat Safari bug\n",
       "        targ = targ.parentNode;\n",
       "\n",
       "    // jQuery normalizes the pageX and pageY\n",
       "    // pageX,Y are the mouse positions relative to the document\n",
       "    // offset() returns the position of the element relative to the document\n",
       "    var x = e.pageX - $(targ).offset().left;\n",
       "    var y = e.pageY - $(targ).offset().top;\n",
       "\n",
       "    return {\"x\": x, \"y\": y};\n",
       "};\n",
       "\n",
       "/*\n",
       " * return a copy of an object with only non-object keys\n",
       " * we need this to avoid circular references\n",
       " * http://stackoverflow.com/a/24161582/3208463\n",
       " */\n",
       "function simpleKeys (original) {\n",
       "  return Object.keys(original).reduce(function (obj, key) {\n",
       "    if (typeof original[key] !== 'object')\n",
       "        obj[key] = original[key]\n",
       "    return obj;\n",
       "  }, {});\n",
       "}\n",
       "\n",
       "mpl.figure.prototype.mouse_event = function(event, name) {\n",
       "    var canvas_pos = mpl.findpos(event)\n",
       "\n",
       "    if (name === 'button_press')\n",
       "    {\n",
       "        this.canvas.focus();\n",
       "        this.canvas_div.focus();\n",
       "    }\n",
       "\n",
       "    var x = canvas_pos.x * mpl.ratio;\n",
       "    var y = canvas_pos.y * mpl.ratio;\n",
       "\n",
       "    this.send_message(name, {x: x, y: y, button: event.button,\n",
       "                             step: event.step,\n",
       "                             guiEvent: simpleKeys(event)});\n",
       "\n",
       "    /* This prevents the web browser from automatically changing to\n",
       "     * the text insertion cursor when the button is pressed.  We want\n",
       "     * to control all of the cursor setting manually through the\n",
       "     * 'cursor' event from matplotlib */\n",
       "    event.preventDefault();\n",
       "    return false;\n",
       "}\n",
       "\n",
       "mpl.figure.prototype._key_event_extra = function(event, name) {\n",
       "    // Handle any extra behaviour associated with a key event\n",
       "}\n",
       "\n",
       "mpl.figure.prototype.key_event = function(event, name) {\n",
       "\n",
       "    // Prevent repeat events\n",
       "    if (name == 'key_press')\n",
       "    {\n",
       "        if (event.which === this._key)\n",
       "            return;\n",
       "        else\n",
       "            this._key = event.which;\n",
       "    }\n",
       "    if (name == 'key_release')\n",
       "        this._key = null;\n",
       "\n",
       "    var value = '';\n",
       "    if (event.ctrlKey && event.which != 17)\n",
       "        value += \"ctrl+\";\n",
       "    if (event.altKey && event.which != 18)\n",
       "        value += \"alt+\";\n",
       "    if (event.shiftKey && event.which != 16)\n",
       "        value += \"shift+\";\n",
       "\n",
       "    value += 'k';\n",
       "    value += event.which.toString();\n",
       "\n",
       "    this._key_event_extra(event, name);\n",
       "\n",
       "    this.send_message(name, {key: value,\n",
       "                             guiEvent: simpleKeys(event)});\n",
       "    return false;\n",
       "}\n",
       "\n",
       "mpl.figure.prototype.toolbar_button_onclick = function(name) {\n",
       "    if (name == 'download') {\n",
       "        this.handle_save(this, null);\n",
       "    } else {\n",
       "        this.send_message(\"toolbar_button\", {name: name});\n",
       "    }\n",
       "};\n",
       "\n",
       "mpl.figure.prototype.toolbar_button_onmouseover = function(tooltip) {\n",
       "    this.message.textContent = tooltip;\n",
       "};\n",
       "mpl.toolbar_items = [[\"Home\", \"Reset original view\", \"fa fa-home icon-home\", \"home\"], [\"Back\", \"Back to previous view\", \"fa fa-arrow-left icon-arrow-left\", \"back\"], [\"Forward\", \"Forward to next view\", \"fa fa-arrow-right icon-arrow-right\", \"forward\"], [\"\", \"\", \"\", \"\"], [\"Pan\", \"Pan axes with left mouse, zoom with right\", \"fa fa-arrows icon-move\", \"pan\"], [\"Zoom\", \"Zoom to rectangle\", \"fa fa-square-o icon-check-empty\", \"zoom\"], [\"\", \"\", \"\", \"\"], [\"Download\", \"Download plot\", \"fa fa-floppy-o icon-save\", \"download\"]];\n",
       "\n",
       "mpl.extensions = [\"eps\", \"pdf\", \"png\", \"ps\", \"raw\", \"svg\"];\n",
       "\n",
       "mpl.default_extension = \"png\";var comm_websocket_adapter = function(comm) {\n",
       "    // Create a \"websocket\"-like object which calls the given IPython comm\n",
       "    // object with the appropriate methods. Currently this is a non binary\n",
       "    // socket, so there is still some room for performance tuning.\n",
       "    var ws = {};\n",
       "\n",
       "    ws.close = function() {\n",
       "        comm.close()\n",
       "    };\n",
       "    ws.send = function(m) {\n",
       "        //console.log('sending', m);\n",
       "        comm.send(m);\n",
       "    };\n",
       "    // Register the callback with on_msg.\n",
       "    comm.on_msg(function(msg) {\n",
       "        //console.log('receiving', msg['content']['data'], msg);\n",
       "        // Pass the mpl event to the overridden (by mpl) onmessage function.\n",
       "        ws.onmessage(msg['content']['data'])\n",
       "    });\n",
       "    return ws;\n",
       "}\n",
       "\n",
       "mpl.mpl_figure_comm = function(comm, msg) {\n",
       "    // This is the function which gets called when the mpl process\n",
       "    // starts-up an IPython Comm through the \"matplotlib\" channel.\n",
       "\n",
       "    var id = msg.content.data.id;\n",
       "    // Get hold of the div created by the display call when the Comm\n",
       "    // socket was opened in Python.\n",
       "    var element = $(\"#\" + id);\n",
       "    var ws_proxy = comm_websocket_adapter(comm)\n",
       "\n",
       "    function ondownload(figure, format) {\n",
       "        window.open(figure.imageObj.src);\n",
       "    }\n",
       "\n",
       "    var fig = new mpl.figure(id, ws_proxy,\n",
       "                           ondownload,\n",
       "                           element.get(0));\n",
       "\n",
       "    // Call onopen now - mpl needs it, as it is assuming we've passed it a real\n",
       "    // web socket which is closed, not our websocket->open comm proxy.\n",
       "    ws_proxy.onopen();\n",
       "\n",
       "    fig.parent_element = element.get(0);\n",
       "    fig.cell_info = mpl.find_output_cell(\"<div id='\" + id + \"'></div>\");\n",
       "    if (!fig.cell_info) {\n",
       "        console.error(\"Failed to find cell for figure\", id, fig);\n",
       "        return;\n",
       "    }\n",
       "\n",
       "    var output_index = fig.cell_info[2]\n",
       "    var cell = fig.cell_info[0];\n",
       "\n",
       "};\n",
       "\n",
       "mpl.figure.prototype.handle_close = function(fig, msg) {\n",
       "    var width = fig.canvas.width/mpl.ratio\n",
       "    fig.root.unbind('remove')\n",
       "\n",
       "    // Update the output cell to use the data from the current canvas.\n",
       "    fig.push_to_output();\n",
       "    var dataURL = fig.canvas.toDataURL();\n",
       "    // Re-enable the keyboard manager in IPython - without this line, in FF,\n",
       "    // the notebook keyboard shortcuts fail.\n",
       "    IPython.keyboard_manager.enable()\n",
       "    $(fig.parent_element).html('<img src=\"' + dataURL + '\" width=\"' + width + '\">');\n",
       "    fig.close_ws(fig, msg);\n",
       "}\n",
       "\n",
       "mpl.figure.prototype.close_ws = function(fig, msg){\n",
       "    fig.send_message('closing', msg);\n",
       "    // fig.ws.close()\n",
       "}\n",
       "\n",
       "mpl.figure.prototype.push_to_output = function(remove_interactive) {\n",
       "    // Turn the data on the canvas into data in the output cell.\n",
       "    var width = this.canvas.width/mpl.ratio\n",
       "    var dataURL = this.canvas.toDataURL();\n",
       "    this.cell_info[1]['text/html'] = '<img src=\"' + dataURL + '\" width=\"' + width + '\">';\n",
       "}\n",
       "\n",
       "mpl.figure.prototype.updated_canvas_event = function() {\n",
       "    // Tell IPython that the notebook contents must change.\n",
       "    IPython.notebook.set_dirty(true);\n",
       "    this.send_message(\"ack\", {});\n",
       "    var fig = this;\n",
       "    // Wait a second, then push the new image to the DOM so\n",
       "    // that it is saved nicely (might be nice to debounce this).\n",
       "    setTimeout(function () { fig.push_to_output() }, 1000);\n",
       "}\n",
       "\n",
       "mpl.figure.prototype._init_toolbar = function() {\n",
       "    var fig = this;\n",
       "\n",
       "    var nav_element = $('<div/>');\n",
       "    nav_element.attr('style', 'width: 100%');\n",
       "    this.root.append(nav_element);\n",
       "\n",
       "    // Define a callback function for later on.\n",
       "    function toolbar_event(event) {\n",
       "        return fig.toolbar_button_onclick(event['data']);\n",
       "    }\n",
       "    function toolbar_mouse_event(event) {\n",
       "        return fig.toolbar_button_onmouseover(event['data']);\n",
       "    }\n",
       "\n",
       "    for(var toolbar_ind in mpl.toolbar_items){\n",
       "        var name = mpl.toolbar_items[toolbar_ind][0];\n",
       "        var tooltip = mpl.toolbar_items[toolbar_ind][1];\n",
       "        var image = mpl.toolbar_items[toolbar_ind][2];\n",
       "        var method_name = mpl.toolbar_items[toolbar_ind][3];\n",
       "\n",
       "        if (!name) { continue; };\n",
       "\n",
       "        var button = $('<button class=\"btn btn-default\" href=\"#\" title=\"' + name + '\"><i class=\"fa ' + image + ' fa-lg\"></i></button>');\n",
       "        button.click(method_name, toolbar_event);\n",
       "        button.mouseover(tooltip, toolbar_mouse_event);\n",
       "        nav_element.append(button);\n",
       "    }\n",
       "\n",
       "    // Add the status bar.\n",
       "    var status_bar = $('<span class=\"mpl-message\" style=\"text-align:right; float: right;\"/>');\n",
       "    nav_element.append(status_bar);\n",
       "    this.message = status_bar[0];\n",
       "\n",
       "    // Add the close button to the window.\n",
       "    var buttongrp = $('<div class=\"btn-group inline pull-right\"></div>');\n",
       "    var button = $('<button class=\"btn btn-mini btn-primary\" href=\"#\" title=\"Stop Interaction\"><i class=\"fa fa-power-off icon-remove icon-large\"></i></button>');\n",
       "    button.click(function (evt) { fig.handle_close(fig, {}); } );\n",
       "    button.mouseover('Stop Interaction', toolbar_mouse_event);\n",
       "    buttongrp.append(button);\n",
       "    var titlebar = this.root.find($('.ui-dialog-titlebar'));\n",
       "    titlebar.prepend(buttongrp);\n",
       "}\n",
       "\n",
       "mpl.figure.prototype._root_extra_style = function(el){\n",
       "    var fig = this\n",
       "    el.on(\"remove\", function(){\n",
       "\tfig.close_ws(fig, {});\n",
       "    });\n",
       "}\n",
       "\n",
       "mpl.figure.prototype._canvas_extra_style = function(el){\n",
       "    // this is important to make the div 'focusable\n",
       "    el.attr('tabindex', 0)\n",
       "    // reach out to IPython and tell the keyboard manager to turn it's self\n",
       "    // off when our div gets focus\n",
       "\n",
       "    // location in version 3\n",
       "    if (IPython.notebook.keyboard_manager) {\n",
       "        IPython.notebook.keyboard_manager.register_events(el);\n",
       "    }\n",
       "    else {\n",
       "        // location in version 2\n",
       "        IPython.keyboard_manager.register_events(el);\n",
       "    }\n",
       "\n",
       "}\n",
       "\n",
       "mpl.figure.prototype._key_event_extra = function(event, name) {\n",
       "    var manager = IPython.notebook.keyboard_manager;\n",
       "    if (!manager)\n",
       "        manager = IPython.keyboard_manager;\n",
       "\n",
       "    // Check for shift+enter\n",
       "    if (event.shiftKey && event.which == 13) {\n",
       "        this.canvas_div.blur();\n",
       "        // select the cell after this one\n",
       "        var index = IPython.notebook.find_cell_index(this.cell_info[0]);\n",
       "        IPython.notebook.select(index + 1);\n",
       "    }\n",
       "}\n",
       "\n",
       "mpl.figure.prototype.handle_save = function(fig, msg) {\n",
       "    fig.ondownload(fig, null);\n",
       "}\n",
       "\n",
       "\n",
       "mpl.find_output_cell = function(html_output) {\n",
       "    // Return the cell and output element which can be found *uniquely* in the notebook.\n",
       "    // Note - this is a bit hacky, but it is done because the \"notebook_saving.Notebook\"\n",
       "    // IPython event is triggered only after the cells have been serialised, which for\n",
       "    // our purposes (turning an active figure into a static one), is too late.\n",
       "    var cells = IPython.notebook.get_cells();\n",
       "    var ncells = cells.length;\n",
       "    for (var i=0; i<ncells; i++) {\n",
       "        var cell = cells[i];\n",
       "        if (cell.cell_type === 'code'){\n",
       "            for (var j=0; j<cell.output_area.outputs.length; j++) {\n",
       "                var data = cell.output_area.outputs[j];\n",
       "                if (data.data) {\n",
       "                    // IPython >= 3 moved mimebundle to data attribute of output\n",
       "                    data = data.data;\n",
       "                }\n",
       "                if (data['text/html'] == html_output) {\n",
       "                    return [cell, data, j];\n",
       "                }\n",
       "            }\n",
       "        }\n",
       "    }\n",
       "}\n",
       "\n",
       "// Register the function which deals with the matplotlib target/channel.\n",
       "// The kernel may be null if the page has been refreshed.\n",
       "if (IPython.notebook.kernel != null) {\n",
       "    IPython.notebook.kernel.comm_manager.register_target('matplotlib', mpl.mpl_figure_comm);\n",
       "}\n"
      ],
      "text/plain": [
       "<IPython.core.display.Javascript object>"
      ]
     },
     "metadata": {},
     "output_type": "display_data"
    },
    {
     "data": {
      "text/html": [
       "<img src=\"data:image/png;base64,iVBORw0KGgoAAAANSUhEUgAAAyAAAAJYCAYAAACadoJwAAAgAElEQVR4Xu2dC9jVVZX/t6KmKaFmOUwwgWRmkziimSMYdCUd08bMqWQ0k4Iodcwg0/qnPaMmyMx4RYuSTM17ZZaXbmiiZVHeCk0RHEgYxemClykE/8/6OS/zgi+857x7n/XdsD6/5+HJ4Jy99v7uddb6fs7vcjZ5/vnnn08cKIACKIACKIACKIACKIACKOCgwCYAiIPKhEABFEABFEABFEABFEABFGgUAEBIBBRAARRAARRAARRAARRAATcFABA3qQmEAiiAAiiAAiiAAiiAAigAgJADKIACKIACKIACKIACKIACbgoAIG5SEwgFUAAFUAAFUAAFUAAFUAAAIQdQAAVQAAVQAAVQAAVQAAXcFABA3KQmEAqgAAqgAAqgAAqgAAqgAABCDqAACqAACqAACqAACqAACrgpAIC4SU0gFEABFEABFEABFEABFEABAIQcQAEUQAEUQAEUQAEUQAEUcFMAAHGTmkAogAIogAIogAIogAIogAIACDmAAiiAAiiAAiiAAiiAAijgpgAA4iY1gVAABVAABVAABVAABVAABQAQcgAFUAAFUAAFUAAFUAAFUMBNAQDETWoCoQAKoAAKoAAKoAAKoAAKACDkAAqgAAqgAAqgAAqgAAqggJsCAIib1ARCARRAARRAARRAARRAARQAQMgBFEABFEABFEABFEABFEABNwUAEDepCYQCKIACKIACKIACKIACKACAkAMogAIogAIogAIogAIogAJuCgAgblITCAVQAAVQAAVQAAVQAAVQAAAhB1AABVAABVAABVAABVAABdwUAEDcpCYQCqAACqAACqAACqAACqAAAEIOoAAKoAAKoAAKoAAKoAAKuCkAgLhJTSAUQAEUQAEUQAEUQAEUQAEAhBxAARRAARRAARRAARRAARRwUwAAcZOaQCiAAiiAAiiAAiiAAiiAAgAIOYACKIACKIACKIACKIACKOCmAADiJjWBUAAFUAAFUAAFUAAFUAAFABByAAVQAAVQAAVQAAVQAAVQwE0BAMRNagKhAAqgAAqgAAqgAAqgAAoAIOQACqAACqAACqAACqAACqCAmwIAiJvUBEIBFEABFEABFEABFEABFABAyAEUQAEUQAEUQAEUQAEUQAE3BQAQN6kJhAIogAIogAIogAIogAIoAICQAyiAAiiAAiiAAiiAAiiAAm4KACBuUhMIBVAABVAABVAABVAABVAAACEHUAAFUAAFUAAFUAAFUAAF3BQAQNykJhAKoAAKoAAKoAAKoAAKoAAAQg6gAAqgAAqgAAqgAAqgAAq4KQCAuElNIBRAARRAARRAARRAARRAAQCEHEABFEABFEABFEABFEABFHBTAABxk5pAKIACKIACKIACKIACKIACAAg5gAIogAIogAIogAIogAIo4KYAAOImNYFQAAVQAAVQAAVQAAVQAAUAEHIABVAABVAABVAABVAABVDATQEAxE1qAqEACqAACqAACqAACqAACgAg5AAKoAAKoAAKoAAKoAAKoICbAgCIm9QEQgEUQAEUQAEUQAEUQAEUAEDIARRAARRAARRAARRAARRAATcFABA3qQmEAiiAAiiAAiiAAiiAAigAgJADKIACKIACKIACKIACKIACbgoAIG5SEwgFUAAFUAAFUAAFUAAFUAAAIQdQAAVQAAVQAAVQAAVQAAXcFABA3KQmEAqgAAqgAAqgAAqgAAqgAABCDqAACqAACqAACqAACqAACrgpAIC4SU0gFEABFEABFEABFEABFEABAIQcQAEUQAEUQAEUQAEUQAEUcFMAAHGTmkAogAIogAIogAIogAIogAIACDmAAiiAAiiAAiiAAiiAAijgpgAA4iY1gVAABVAABVAABVAABVAABQAQcgAFUAAFUAAFUAAFUAAFUMBNAQDETWoCoQAKoAAKoAAKoAAKoAAKACDkAAqgAAqgAAqgAAqgAAqggJsCAIib1ARCARRAARRAARRAARRAARQAQMgBFEABFEABFEABFEABFEABNwUAEDepCYQCKIACKIACKIACKIACKACAkAMogAIogAIogAIogAIogAJuCgAgblITCAVQAAVQAAVQAAVQAAVQAAAhB1AABVAABVAABVAABVAABdwUAEDcpO490LJly9LNN9+chgwZkrbaaqve38ArUAAFUAAFUAAFUAAFXBV49tln08KFC9PYsWPTDjvs4Bp7YwkGgFS0k5dddlkaN25cRTNiKiiAAiiAAiiAAiiAAj0pcOmll6bDDz8ccfqgAADSB9E69ZY5c+akUaNGJUvoXXfdtVNhVo+7fPnyNHfu3LTnnnum/v37dzxe9wDK2DYPZfyosdFd81lDd3Snvvu1N+q75vPmrfu8efOaL4xvv/32NHLkSL8E24giASAVbeYvf/nLBgYMCkaMGNHxmf3hD39It956axo9enTadtttOx6vewBlbJuHMn7U2Oiu+ayhO7pT3/3aG/Vd83nz1t3br/llsF8kAMRP614jeSe09wcWAHlBAXSP0aDId/I96mddue7INRbd/XqLt1/r1UBugC8AQCraNO+EVhYrZWwalF+RXvvjpdz3qLHJd/KdMyB+jZ46o/m8eevu7df8MtgvEgDip3WvkbwT2vsDyzfCfCMcNeeU6wZANIYI3dEd8OvV9hR7gXeN9fZrxYSqaCAApKLN8E5o7w8sAAKARM055boxwhhhjLBfo1d+1pWxo9UZb7/ml8F+kQAQP617jeSd0MpipYwdrVACfoCf8vMWNTZ1BvAD/Hq1PcVe4F1nvP1aMaEqGggAqWgzvBPa+wOLEcYIR8055boxwhhhjLBfo1d+1pWxo9UZb7/ml8F+kQAQP617jeSd0MpipYwdrVACfoCf8vMWNTZ1BvAD/Hq1PcVe4F1nvP1aMaEqGggAqWgzvBPa+wOLEcYIR8055boxwhhhjLBfo1d+1pWxo9UZb7/ml8F+kQAQP617jeSd0MpipYwdrVACfoCf8vMWNTZ1BvAD/Hq1PcVe4F1nvP1aMaEqGggAqWgzvBPa+wOLEcYIR8055boxwhhhjLBfo1d+1pWxo9UZb7/ml8F+kQAQP617jeSd0MpipYwdrVACfoCf8vMWNTZ1BvAD/Hq1PcVe4F1nvP1aMaEqGggAqWgzvBPa+wOLEcYIR8055boxwhhhjLBfo1d+1pWxo9UZb7/ml8F+kcICyFNPPZXOOuusNHfu3PSLX/wiLV26NB155JFp1qxZLat///33pylTpqTbb7+9ec+oUaPS1KlT0xve8IaWx+j+Qu+EVhYrZexohbIrx37z2J/St+cuTA/MfzS9btir03v2GpJ2HfiyPuVqX96kjB81tu1T1LUr143uMetM1N7S1Q+Ufd07trdf60vPrf09YQFk4cKFaejQoWngwIFpzz33TDfccENbAPLQQw+lN77xjWn77bdPxxxzTLPP55xzTrIPwV133ZV23nnntvfeO6G9P7CcAdGcAVm47Ok05Zp7010L//tFObn3kO3T1EOHpyE7bN12vrb6BmX8qLFtb6KuXbludI9ZZ2rpbcqeHg2+vP1aq/12Q3pdWAD585//nJYtW5Ze9apXpeeeey5tvvnmbQHIoYcemm666aY0b968NHjw4GbPFy1alHbddde0//77p6uvvrrtPPBOaGWxUsaOVCgXLHs6HXLBnPT7Z1asMx+3e+nm6ZuTRnYEQpTxo8a2jY66duW60T1mnVm7sCp7mzJ2pL5qa/X2a20byg3gDWEBpPvetAsgdvnWy1/+8vT+978/fe1rX1tjm+0yriuvvLKBm2222aatFPBOaGWxUsaOVCgPu/DOHs98rJ2Ydibkqol/31a+tvJiZfyosW1foq5duW50f/EZ1gh1BgD5PwWUfd07trdfa6XfbmivAUBSavsMyJ133pn23XffNGPGjDRx4sQ19tz+btKkScles88++7SVD94J7f2BreU0dRQAsWvgDzjnJy3n4I3H7Vf0nhBl/KixbbOjrl25bnSPWWd6Kq70Vc1DH7x19/ZrLTfyDeiFAEgfAOTaa69NdgnW9ddfn9797nevsd32dwcffHC65ppr0nvf+951psKSJUuS/el+2OVc48aNS7Nnz0677757x9No+fLlzWnEESNGpP79+3c8XvcAytg2D2V8r9gzfvKf6aI5i1re14mjBqeJo/6m5df39kJl/KixbU+irl25bnSPWWd6qoFe9b222FH6apfu99xzTxozZkzzICPzUBztKwCA9AFAvv71r6cjjjgi3Xzzzemd73znGqrfcsstaezYscleYzCxruOUU05Jp556ao//PH369DRs2LD2d5N3oEA3Ba5bsGm6demmLWsy+q9WpUOGrmr59b29UBk/amzbk6hrV64b3WPWmd5qIP++8Sowf/78dMIJJwAgGVsMgPQBQDgDkpFx//tW5bdEUb6p4Rthzbey6I7urVTIkmcclTmnjK0+81TbWQj6qt8VHZwBaaXKrf81AEgfAIR7QPITz/t6zbVnrIzvFZtr4jXXpaM7urdSIUvec6XMOWVs01kdP2JvWVd+e/W2nuJ7x+YekFaqHADSq0qln4J1xRVXpCeffJKnYK1Hee9iEbVJ8FQgzZN50B3d19d4OvHUOWXOKWObzur43fda2duUsU0DZXzv2ABIr9a61xdwBqSXMyArVqxIdq3fgAEDmh8t7DrsBnO7B+SBBx5IgwYNav6663dA7B4Qu0yr3cM7ob0/sLUU6UiF0n6U7R+FvwOijB81tuV31LUr143uut8BUe97Lb1N2dMj9VVbq7dfa9dPbgivDw0g5513XkPsq1atSp///OfTHnvskQ455JBm3w466KA0fPjw1PWL6fb7HrNmzVq9pw8++GDae++9m98DOfbYY5u/t19CtzMf9kvou+yyS9v7753QymKljB2tUPLL0JpfZ0Z3dF+7CdiZj6mHDu/Ij352AdCUa9DdW3cA5AUFlH3dO7a3X2vbUG4AbwgNIEOGDEmPPvpoj9t08cUXpw996EPrBBB707333pumTJmS5syZ04wxatSodOaZZzbg0pfDO6G9P7C1FOlohbJL93lL/pT+eeZP07KnV6Qdtt48fX38PkV/96O3nFfGjxrb9iTq2pXrRveYdSZqb+mq/ZE8hbdf662/boj/HhpAatsw74SOVCzW3uuoa9//32enef/1dNp1x63TjcePcf8IKONHjW2bHHXtynWje8w6E7W3RIMvb7/m3qwdAgIgDiK3GsI7oSmUMX6xtXv+Ycg0pgjd0d0b+JU5p4ytBj/6aoy+6u3XWvWRG9LrAJCKdss7oSmUMQolAPKCAkpTpIwdee3oDvh5gx99NUZf9fZrFVnVYlMBQIpJmT+Qd0JTKGMUSgAEAFEa8aixAT8N/Kh1p6/G6Kvefi3fYdY3AgBS0Z54JzSFMkahBEAAkKgQoFy32ggr166Mrdadvhqjr3r7tYqsarGpACDFpMwfyDuhKZQxCiUAAoAoDWHU2GojjO6aMzD01Rh91duv5TvM+kYAQCraE++EplDGKJQACAAS1Ywq1w2AaABArTt9NUZf9fZrFVnVYlMBQIpJmT+Qd0JTKGMUSgAEAFEa8aix1UYY3TUARF+N0Ve9/Vq+w6xvBACkoj3xTmgKZYxCCYAAIFHNqHLdAIgGANS601dj9FVvv1aRVS02FQCkmJT5A3knNIUyRqEEQAAQpRGPGltthNFdA0D01Rh91duv5TvM+kYAQCraE++EplDGKJQACAAS1Ywq1w2AaABArTt9NUZf9fZrFVnVYlMBQIpJmT+Qd0JTKGMUSgAEAFEa8aix1UYY3TUARF+N0Ve9/Vq+w6xvBACkoj3xTmgKZYxCCYAAIFHNqHLdAIgGANS601dj9FVvv1aRVS02FQCkmJT5A3knNIUyRqEEQAAQpRGPGltthNFdA0D01Rh91duv5TvM+kYAQCraE++EplDGKJQACAAS1Ywq1w2AaABArTt9NUZf9fZrFVnVYlMBQIpJmT+Qd0JTKGMUSgAEAFEa8aix1UYY3TUARF+N0Ve9/Vq+w6xvBACkoj3xTmgKZYxCCYAAIFHNqHLdAIgGANS601dj9FVvv1aRVS02FQCkmJT5A3knNIUyRqEEQAAQpRGPGltthNFdA0D01Rh91duv5TvM+kYAQCraE++EplDGKJQACAAS1Ywq1w2AaABArTt9NUZf9fZrFVnVYlMBQIpJmT+Qd0JTKGMUSgAEAFEa8aix1UYY3TUARF+N0Ve9/Vq+w6xvBACkoj3xTmgKZYxCCYAAIFHNqHLdAIgGANS601dj9FVvv1aRVS02FQCkmJT5A3knNIUyRqEEQAAQpRGPGltthNFdA0D01Rh91duv5TvM+kYAQCraE++EplDGKJQACAAS1Ywq1w2AaABArTt9NUZf9fZrFVnVYlMBQIpJmT+Qd0JTKGMUSgAEAFEa8aix1UYY3TUARF+N0Ve9/Vq+w6xvBACkoj3xTmgKZYxCCYAAIFHNqHLdAIgGANS601dj9FVvv1aRVS02FQCkmJT5A3knNIUyRqEEQAAQpRGPGltthNFdA0D01Rh91duv5TvM+kYAQCraE++EplDGKJQACAAS1Ywq1w2AaABArTt9NUZf9fZrFVnVYlMBQIpJmT+Qd0JTKGMUSgAEAFEa8aix1UYY3TUARF+N0Ve9/Vq+w6xvBACkoj3xTmgKZYxCCYAAIFHNqHLdAIgGANS601dj9FVvv1aRVS02FQCkmJT5A3knNIUyRqEEQAAQpRGPGltthNFdA0D01Rh91duv5TvM+kYAQCraE++EplDGKJQACAAS1Ywq1w2AaABArTt9NUZf9fZrFVnVYlMBQIpJmT+Qd0JTKGMUSgAEAFEa8aix1UYY3TUARF+N0Ve9/Vq+w6xvBACkoj3xTmgKZYxCCYAAIFHNqHLdAIgGANS601dj9FVvv1aRVS02FQCkmJT5A3knNIUyRqEEQAAQpRGPGltthNFdA0D01Rh91duv5TvM+kYAQCraE++EplDGKJQACAAS1Ywq1w2AaABArTt9NUZf9fZrFVnVYlMBQIpJmT+Qd0JTKGMUSgAEAFEa8aix1UYY3TUARF+N0Ve9/Vq+w6xvBACkoj3xTmgKZYxCCYAAIFHNqHLdAIgGANS601dj9FVvv1aRVS02FQCkmJT5A3knNIUyRqEEQAAQpRGPGltthNFdA0D01Rh91duv5TvM+kYAQCraE++EplDGKJQACAAS1Ywq1w2AaABArTt9NUZf9fZrFVnVYlMBQIpJmT+Qd0JTKGMUSgAEAFEa8aix1UYY3TUARF+N0Ve9/Vq+w6xvBACkoj3xTmgKZYxCCYAAIFHNqHLdAIgGANS601dj9FVvv1aRVS02FQCkmJT5A3knNIUyRqEEQAAQpRGPGltthNFdA0D01Rh91duv5TvM+kYAQCraE++EplDGKJQACAAS1Ywq1w2AaABArTt9NUZf9fZrFVnVYlMBQIpJmT+Qd0JTKGMUSgAEAFEa8aix1UYY3TUARF+N0Ve9/Vq+w6xvBACkoj3xTmgKZYxCCYAAIFHNqHLdAIgGANS601dj9FVvv1aRVS02FQCkmJT5A3knNIUyRqEEQAAQpRGPGltthNFdA0D01Rh91duv5TvM+kYAQCraE++EplDGKJQACAAS1Ywq1w2AaABArTt9NUZf9fZrFVnVYlMBQIpJmT+Qd0JTKGMUSgAEAFEa8aix1UYY3TUARF+N0Ve9/Vq+w6xvBACkoj3xTmgKZYxCCYAAIFHNqHLdAIgGANS601dj9FVvv1aRVS02FQCkmJT5A3knNIUyRqEEQAAQpRGPGltthNFdA0D01Rh91duv5TvM+kYAQCraE++EplDGKJQACAAS1Ywq1w2AaABArTt9NUZf9fZrFVnVYlMBQIpJmT+Qd0JTKGMUSgAEAFEa8aix1UYY3TUARF+N0Ve9/Vq+w6xvBACkoj3xTmgKZYxCCYAAIFHNqHLdAIgGANS601dj9FVvv1aRVS02FQCkmJT5A3knNIUyRqEEQAAQpRGPGltthNFdA0D01Rh91duv5TvM+kYAQCraE++EplDGKJQACAAS1Ywq1w2AaABArTt9NUZf9fZrFVnVYlMBQIpJmT+Qd0JTKGMUSgAEAFEa8aix1UYY3TUARF+N0Ve9/Vq+w6xvBACkoj3xTmgKZYxCCYAAIFHNqHLdAIgGANS601dj9FVvv1aRVS02FQCkmJT5A3knNIUyRqEEQAAQpRGPGltthNFdA0D01Rh91duv5TvM+kYAQCraE++EplDGKJQACAAS1Ywq1w2AaABArTt9NUZf9fZrFVnVYlMBQIpJmT+Qd0JTKGMUSgAEAFEa8aix1UYY3TUARF+N0Ve9/Vq+w6xvBACkoj3xTmgKZYxCCYAAIFHNqHLdAIgGANS601dj9FVvv1aRVS02FQCkmJT5A3knNIUyRqEEQAAQpRGPGltthNFdA0D01Rh91duv5TvM+kYAQCraE++EplDGKJQACAAS1Ywq1w2AaABArTt9NUZf9fZrFVnVYlMBQIpJmT+Qd0JTKGMUSgAEAFEa8aix1UYY3TUARF+N0Ve9/Vq+w6xvBACkoj3xTmgKZYxCCYAAIFHNqHLdAIgGANS601dj9FVvv1aRVS02FQCkmJT5A3knNIUyRqEEQAAQpRGPGltthNFdA0D01Rh91duv5TvM+kYAQCraE++EplDGKJQACAAS1Ywq1w2AaABArTt9NUZf9fZrFVnVYlMBQIpJmT+Qd0JTKGMUSgAEAFEa8aix1UYY3TUARF+N0Ve9/Vq+w6xvBACkoj3xTmgKZYxCCYAAIFHNqHLdAIgGANS601dj9FVvv1aRVS02FQCkmJT5A3knNIUyRqEEQAAQpRGPGltthNFdA0D01Rh91duv5TvM+kYAQCraE++EplDGKJQACAAS1Ywq1w2AaABArTt9NUZf9fZrFVnVYlMJCyArV65M06ZNSzNnzkyLFi1KgwcPTuPHj0+TJ09O/fr161Xgyy67LJ177rnpwQcfTM8//3x6zWtekz760Y82Y2y66aa9vr+nF3gnNIUyRqEEQAAQpRGPGltthNFdA0D01Rh91duv9clUVv6msAAyadKkNGPGjHTUUUelfffdN91xxx3p4osvTvb3559//nq37bTTTkuf/exn09ixY9NBBx3UAMi1116bfvzjH6cTTjghnXXWWX3adu+EplDGKJQACAAS1Ywq1w2AaABArTt9NUZf9fZrfTKVlb8pJIDcd999affdd0/HHHNMOvvss1dv0XHHHdec1bjnnnvSbrvtts6te+UrX5le/epXp7vuuittsskmzetWrVqVRowYkRYuXJisAPXl8E5oCmWMQgmAACBKIx41ttoIo7sGgOirMfqqt1/ri6es/T0hAeTkk09Op59+enrkkUfS0KFDV+/RggUL0k477ZROOumkZGc51nVstdVW6W1ve1u64YYb1niJnRExuHnsscf6tO/eCU2hjFEoARAAJKoZVa4bANEAgFp3+mqMvurt1/pkKit/U0gAMVCwsxxLly590fbsuOOOaY899kg33XTTOrfuwAMPTDfeeGNzqdXBBx/cXIJ19dVXJwOb8847L33sYx/r07Z7JzSFMkahBEAAEKURjxpbbYTRXQNA9NUYfdXbr/XJVFb+ppAAYpdXbbHFFmnu3Lkv2h67jGrFihXNmYx1HQYu//zP/5x+8IMfrH7Jlltumb785S+ncePGtbTlS5YsSfan+zFv3rzm/bNnz24uEev0sXz58mQfIltz//79Ox1ujfGVsW0iyvjK2Id95Zfpt088m177iq3SVUePcN1zC6aMHzU2upPv3p915WdNne/K+q6MHa2v2pfYY8aMaXykeSiO9hUICSDDhg1LdqbDbjxf+7Ab0h9//PH08MMPr1PN3//+9+nTn/50+stf/pIOOOCABlguueSS9KMf/Sh94xvfSIceemivO3HKKaekU089tcfXTZ8+PdkcOVCgtALT7u2XFj+9SRq09fNp8vCVpYfvdTxl/KixbVOirl25bnSPWWd6LYK8YKNQYP78+c1DhwCQvm9nSADJOQNij+/de++9G0C46qqrVitvl2GNGjWqeSyvPdbX7hNZ38EZEN3Zl2jf1HTPw8jfTCrXroyt/kZYuXZlbHSPeeZJeRZCGTtaX+UMSN/Bo+udIQEk5x4Qe9TuW9/61nTllVemww47bI0dsDMXn/rUp9LPf/7ztNdee7W9O97XFHKtaoxrVbsnovK6cJuHMn7U2OiuuRcA3WPqTl+N0Ve9/VrbhnIDeENIALGnXJ1xxhl9egqWXWL1wQ9+MF1++eXpAx/4wBpbfOaZZ6YTTzwx3XnnnWmfffZpe/u9E5pCGaNQAiAvKACAaAwhuqN7280w8w3KnKOvxuir3n4t8yNR5dtDAoidOrMnXa3rd0DuvvvuNHz48ObeDrvOb8CAAWngwIHNBv7qV79qbjh617ve1TwJq+t47rnnmrMedgnWE088kbbZZpu2N9w7oSmUMQolAAKAKA1Z1NiRoVe552rd6asx+qq3X2vbUG4AbwgJILYvEydOTBdddFHzS+gjR45Mc+bMaX4JfcKECenCCy9sts5+VNB+J+TII49Ms2bNWr2d9hje7373u2n06NHpkEMOSQYfl156aQMnn//855PdYN6XwzuhKZQxCiUAAoAoDWHU2GojjO6aM0/01Rh91duv9cVT1v6esABi0DB16tQ0c+bMtHjx4jRo0KA0fvz4NGXKlLTZZputF0D+/Oc/pwsuuKB58pX9mKE9Dev1r3998/sfNkZfD++EplDGKJQACAAS1Ywq1w2AaABArTt9NUZf9fZrffWVNb8vLIDUuCneCU2hjFEoARAARGnEo8ZWG2F01wAQfTVGX/X2azV61tw5ASC5ChZ8v3dCUyhjFEoABACJakaV6+peC+0AACAASURBVAZANACg1p2+GqOvevu1glazmqEAkGq2IjW/Sr7nnnu6/bANhTJGoQRAABClEY8aW22E0V0DQPTVGH3V269VZFWLTQUAKSZl/kDeCU2hjFEoARAAJKoZVa4bANEAgFp3+mqMvurt1/IdZn0jACAV7Yl3QlMoYxRKAAQAURrxqLHVRhjdNQBEX43RV739WkVWtdhUAJBiUuYP5J3QFMoYhRIAAUCimlHlugEQDQCodaevxuir3n4t32HWNwIAUtGeeCc0hTJGoQRAABClEY8aW22E0V0DQPTVGH3V269VZFWLTQUAKSZl/kDeCU2hjFEoARAAJKoZVa4bANEAgFp3+mqMvurt1/IdZn0jACAV7Yl3QlMoYxRKAAQAURrxqLHVRhjdNQBEX43RV739WkVWtdhUAJBiUuYP5J3QFMoYhRIAAUCimlHlugEQDQCodaevxuir3n4t32HWNwIAUtGeeCc0hTJGoQRAABClEY8aW22E0V0DQPTVGH3V269VZFWLTQUAKSZl/kDeCU2hjFEoARAAJKoZVa4bANEAgFp3+mqMvurt1/IdZn0jACAV7Yl3QlMoYxRKAAQAURrxqLHVRhjdNQBEX43RV739WkVWtdhUAJBiUuYP5J3QFMoYhRIAAUCimlHlugEQDQCodaevxuir3n4t32HWNwIAUtGeeCc0hTJGoQRAABClEY8aW22E0V0DQPTVGH3V269VZFWLTQUAKSZl/kDeCU2hjFEoARAAJKoZVa4bANEAgFp3+mqMvurt1/IdZn0jACAV7Yl3QlMoYxRKAAQAURrxqLHVRhjdNQBEX43RV739WkVWtdhUAJBiUuYP5J3QFMoYhRIAAUCimlHlugEQDQCodaevxuir3n4t32HWNwIAUtGeeCc0hTJGoQRAABClEY8aW22E0V0DQPTVGH3V269VZFWLTQUAKSZl/kDeCU2hjFEoARAAJKoZVa4bANEAgFp3+mqMvurt1/IdZn0jACAV7Yl3QlMoYxRKAAQAURrxqLHVRhjdNQBEX43RV739WkVWtdhUAJBiUuYP5J3QFMoYhRIAAUCimlHlugEQDQCodaevxuir3n4t32HWNwIAUtGeeCc0hTJGoQRAABClEY8aW22E0V0DQPTVGH3V269VZFWLTQUAKSZl/kDeCU2hjFEoARAAJKoZVa4bANEAgFp3+mqMvurt1/IdZn0jACAV7Yl3QlMoYxRKAAQAURrxqLHVRhjdNQBEX43RV739WkVWtdhUAJBiUuYP5J3QFMoYhRIAAUCimlHlugEQDQCodaevxuir3n4t32HWNwIAUtGeeCc0hTJGoQRAABClEY8aW22E0V0DQPTVGH3V269VZFWLTQUAKSZl/kDeCU2hjFEoARAAJKoZVa4bANEAgFp3+mqMvurt1/IdZn0jACAV7Yl3QlMoYxRKAAQAURrxqLHVRhjdNQBEX43RV739WkVWtdhUAJBiUuYP5J3QFMoYhRIAAUCimlHlugEQDQCodaevxuir3n4t32HWNwIAUtGeeCc0hTJGoQRAABClEY8aW22E0V0DQPTVGH3V269VZFWLTQUAKSZl/kDeCU2hjFEoARAAJKoZVa4bANEAgFp3+mqMvurt1/IdZn0jACAV7Yl3QlMoYxRKAAQAURrxqLHVRhjdNQBEX43RV739WkVWtdhUAJBiUuYP5J3QFMoYhRIAAUCimlHlugEQDQCodaevxuir3n4t32HWNwIAUtGeeCc0hTJGoQRAABClEY8aW22E0V0DQPTVGH3V269VZFWLTQUAKSZl/kDeCU2hjFEoARAAJKoZVa4bANEAgFp3+mqMvurt1/IdZn0jACAV7Yl3QlMoYxRKAAQAURrxqLHVRhjdNQBEX43RV739WkVWtdhUAJBiUuYP5J3QFMoYhRIAAUCimlHlugEQDQCodaevxuir3n4t32HWNwIAUtGeeCc0hTJGoQRAABClEY8aW22E0V0DQPTVGH3V269VZFWLTQUAKSZl/kDeCU2hjFEoARAAJKoZVa4bANEAgFp3+mqMvurt1/IdZn0jACAV7Yl3QlMoYxRKAAQAURrxqLHVRhjdNQBEX43RV739WkVWtdhUAJBiUuYP5J3QFMoYhRIAAUCimlHlugEQDQCodaevxuir3n4t32HWNwIAUtGeeCc0hTJGoQRAABClEY8aW22E0V0DQPTVGH3V269VZFWLTQUAKSZl/kDeCU2hjFEoARAAJKoZVa4bANEAgFp3+mqMvurt1/IdZn0jACAV7Yl3QlMoYxRKAAQAURrxqLHVRhjdNQBEX43RV739WkVWtdhUAJBiUuYP5J3QFMoYhRIAAUCimlHlugEQDQCodaevxuir3n4t32HWNwIAUtGeeCc0hTJGoQRAABClEY8aW22E0V0DQPTVGH3V269VZFWLTQUAKSZl/kDeCU2hjFEoARAAJKoZVa4bANEAgFp3+mqMvurt1/IdZn0jACAV7Yl3QlMoYxRKAAQAURrxqLHVRhjdNQBEX43RV739WkVWtdhUAJBiUuYP5J3QFMoYhRIAAUCimlHlugEQDQCodaevxuir3n4t32HWNwIAUtGeeCc0hTJGoQRAABClEY8aW22E0V0DQPTVGH3V269VZFWLTQUAKSZl/kDeCU2hjFEoARAAJKoZVa4bANEAgFp3+mqMvurt1/IdZn0jACAV7Yl3QlMoYxRKAAQAURrxqLHVRhjdNQBEX43RV739WkVWtdhUAJBiUuYP5J3QFMoYhRIAAUCimlHlugEQDQCodaevxuir3n4t32HWNwIAUtGeeCc0hTJGoQRAABClEY8aW22E0V0DQPTVGH3V269VZFWLTQUAKSZl/kDeCU2hjFEoARAAJKoZVa4bANEAgFp3+mqMvurt1/IdZn0jACAV7Yl3QlMoYxRKAAQAURrxqLHVRhjdNQBEX43RV739WkVWtdhUAJBiUuYP5J3QFMoYhRIAAUCimlHlugEQDQCodaevxuir3n4t32HWNwIAUtGeeCc0hTJGoQRAABClEY8aW22E0V0DQPTVGH3V269VZFWLTQUAKSZl/kDeCU2hjFEoARAAJKoZVa4bANEAgFp3+mqMvurt1/IdZn0jACAV7Yl3QlMoYxRKAAQAURrxqLHVRhjdNQBEX43RV739WkVWtdhUAJBiUuYP5J3QFMoYhRIAAUCimlHlugEQDQCodaevxuir3n4t32HWNwIAUtGeeCc0hTJGoQRAABClEY8aW22E0V0DQPTVGH3V269VZFWLTQUAKSZl/kDeCU2hjFEoARAAJKoZVa4bANEAgFp3+mqMvurt1/IdZn0jACAV7Yl3QlMoYxRKAAQAURrxqLHVRhjdNQBEX43RV739WkVWtdhUAJBiUuYP5J3QFMoYhRIAAUCimlHlugEQDQCodaevxuir3n4t32HWNwIAUtGeeCc0hTJGoQRAABClEY8aW22E0V0DQPTVGH3V269VZFWLTQUAKSZl/kDeCU2hjFEoARAAJKoZVa4bANEAgFp3+mqMvurt1/IdZn0jACAV7Yl3QlMoYxRKAAQAURrxqLHVRhjdNQBEX43RV739WkVWtdhUAJBiUuYP5J3QFMoYhRIAAUCimlHlugEQDQCodaevxuir3n4t32HWNwIAUtGeeCc0hTJGoQRAABClEY8aW22E0V0DQPTVGH3V269VZFWLTSUsgKxcuTJNmzYtzZw5My1atCgNHjw4jR8/Pk2ePDn169evJYGvuOKKdN5556V77703Pf/882nYsGHpYx/7WJowYUJL71/7Rd4JTaGMUSgBEAAkqhlVrhsA0QCAWnf6aoy+6u3X+mQqK39TWACZNGlSmjFjRjrqqKPSvvvum+6444508cUXJ/v7888/v9dt++QnP5nOPvvsdNhhh6XRo0c3APLQQw+lLbfcMp1++um9vr+nF3gnNIUyRqEEQAAQpRGPGltthNFdA0D01Rh91duv9clUVv6mkABy3333pd133z0dc8wxDUR0Hccdd1w699xz0z333JN22223dW7dd7/73XTggQemyy+/PH3gAx8otsXeCU2hjFEoARAAJKoZVa4bANEAgFp3+mqMvurt14oZzYoGCgkgJ598cnOW4pFHHklDhw5dvR0LFixIO+20UzrppJPSaaedts5tevOb35yeeeaZ9Itf/KI58/HUU0+l/v37Z2+rd0JTKGMUSgAEAFEa8aix1UYY3TUARF+N0Ve9/Vq2waxwgJAAMnbs2OYsx9KlS1+0JTvuuGPaY4890k033dTjdhlsDBgwoLnXY4cddkjnnHNO+v3vf5+22267dPTRRzdgs/nmm/dpq70TmkIZo1ACIABIVDOqXDcAogEAte701Rh91duv9clUVv6mkABil1dtscUWae7cuS/anhEjRqQVK1Yku0yrp+Puu+9uAMXgY9WqVelzn/tcGjRoUPrGN76RrrvuunT44YenSy+9tNdtX7JkSbI/3Y958+alcePGpdmzZzeXiHX6WL58ebIPka25xBmcduarjG3zVMZXxj7sK79Mv33i2fTaV2yVrjp6RDtbVuS1yvhRY9vGRV27ct3oHrPOKOu7Mna0vmpfYo8ZM6bxkeahONpXICSA2NOq7EyH3Xi+9mE3pD/++OPp4Ycf7lHN22+/Pe23337Nv912222r/9v+/9ve9rb0ox/9KP36179Or3/969e7G6eccko69dRTe3zN9OnTmydqcaBAaQWm3dsvLX56kzRo6+fT5OErSw/f63jK+FFj26ZEXbty3eges870WgR5wUahwPz589MJJ5wAgGTsZkgAyTkDYrS71157pSFDhiS7Z6T7MWvWrOapWhdccEFzidb6Ds6A6M6+RPumpnse8o2w5ltZdEd37zOOypxTxlafeVKehVDGjtZXOQOSQR7/+9aQAJJzD4jdNzJw4MD0pje9Kf30pz9dYwfsvpH999+/uYHdbmRv9/C+ppBrVWNcq9o9D7kmXnNdOrqj+43Hj2m3JWS9XplzytgmmjI+fTVGX/X2a1nFoNI3hwQQg4Mzzjijz0/Bsh8ttMN+wLD7YT9q+JGPfCR9+ctfbn7UsN3DO6EplDEKJQDyggJKU6KMHXnt6A74eYMffTVGX/X2a+36yQ3h9SEBxE6d2Y3k6/odELvRfPjw4c3N6Hadnz31ys56dB2f/vSn09SpU9N3vvOd5vdA7LBfVrf7R+wSLbt/xC7RavfwTmgKZYxCCYAAIEojHjU24KeBH7Xu9NUYfdXbr7XrJzeE14cEENuYiRMnposuuqi5Z2PkyJFpzpw5zS+hT5gwIV144YXN3i1cuLD5nZAjjzwy2f0dXYc9dtfuA7H7OOzHC1/1qlelq666Kv3kJz9JJ554YnN2pS+Hd0JTKGMUSgAEAIkKAcp1q42wcu3K2Grd6asx+qq3X+uLp6z9PWEB5LnnnmvOYthlU4sXL24epWuXTU2ZMiVtttlm6wUQ+0eDj8985jPpe9/7XvrjH/+YXvOa16RPfOITvd58vr6E8E5oCmWMQgmAACBKQxg1ttoIo7vmDAx9NUZf9fZrtcNEX+YXFkD6Ilan3+Od0BTKGIUSAAFAoppR5boBEA0AqHWnr8boq95+rdP+UzE+AKJQfR0xvROaQhmjUAIgAIjSiEeNrTbC6K4BIPpqjL7q7dcqsqrFpgKAFJMyfyDvhKZQxiiUAAgAEtWMKtcNgGgAQK07fTVGX/X2a/kOs74RAJCK9sQ7oSmUMQolAAKAKI141NhqI4zuGgCir8boq95+rSKrWmwqAEgxKfMH8k5oCmWMQgmAACBRzahy3QCIBgDUutNXY/RVb7+W7zDrGwEAqWhPvBOaQhmjUAIgAIjSiEeNrTbC6K4BIPpqjL7q7dcqsqrFpgKAFJMyfyDvhKZQxiiUAAgAEtWMKtcNgGgAQK07fTVGX/X2a/kOs74RAJCK9sQ7oSmUMQolAAKAKI141NhqI4zuGgCir8boq95+rSKrWmwqAEgxKfMH8k5oCmWMQgmAACBRzahy3QCIBgDUutNXY/RVb7+W7zDrGwEAqWhPvBOaQhmjUAIgAIjSiEeNrTbC6K4BIPpqjL7q7dcqsqrFpgKAFJMyfyDvhKZQxiiUAAgAEtWMKtcNgGgAQK07fTVGX/X2a/kOs74RAJCK9sQ7oSmUMQolAAKAKI141NhqI4zuGgCir8boq95+rSKrWmwqAEgxKfMH8k5oCmWMQgmAACBRzahy3QCIBgDUutNXY/RVb7+W7zDrGwEAqWhPvBOaQhmjUAIgAIjSiEeNrTbC6K4BIPpqjL7q7dcqsqrFpgKAFJMyfyDvhKZQxiiUAAgAEtWMKtcNgGgAQK07fTVGX/X2a/kOs74RAJCK9sQ7oSmUMQolAAKAKI141NhqI4zuGgCir8boq95+rSKrWmwqAEgxKfMH8k5oCmWMQgmAACBRzahy3QCIBgDUutNXY/RVb7+W7zDrGwEAqWhPvBOaQhmjUAIgAIjSiEeNrTbC6K4BIPpqjL7q7dcqsqrFpgKAFJMyfyDvhKZQxiiUAAgAEtWMKtcNgGgAQK07fTVGX/X2a/kOs74RAJCK9sQ7oSmUMQolAAKAKI141NhqI4zuGgCir8boq95+rSKrWmwqAEgxKfMH8k5oCmWMQgmAACBRzahy3QCIBgDUutNXY/RVb7+W7zDrGwEAqWhPvBOaQhmjUAIgAIjSiEeNrTbC6K4BIPpqjL7q7dcqsqrFpgKAFJMyfyDvhKZQxiiUAAgAEtWMKtcNgGgAQK07fTVGX/X2a/kOs74RAJCK9sQ7oSmUMQolAAKAKI141NhqI4zuGgCir8boq95+rSKrWmwqAEgxKfMH8k5oCmWMQgmAACBRzahy3QCIBgDUutNXY/RVb7+W7zDrGwEAqWhPvBOaQhmjUAIgAIjSiEeNrTbC6K4BIPpqjL7q7dcqsqrFpgKAFJMyfyDvhKZQxiiUAAgAEtWMKtcNgGgAQK07fTVGX/X2a/kOs74RAJCK9sQ7oSmUMQolAAKAKI141NhqI4zuGgCir8boq95+rSKrWmwqAEgxKfMH8k5oCmWMQgmAACBRzahy3QCIBgDUutNXY/RVb7+W7zDrGwEAqWhPvBOaQhmjUAIgAIjSiEeNrTbC6K4BIPpqjL7q7dcqsqrFpgKAFJMyfyDvhKZQxiiUAAgAEtWMKtcNgGgAQK07fTVGX/X2a/kOs74RAJCK9sQ7oSmUMQolAAKAKI141NhqI4zuGgCir8boq95+rSKrWmwqAEgxKfMH8k5oCmWMQgmAACBRzahy3QCIBgDUutNXY/RVb7+W7zDrGwEAqWhPvBOaQhmjUAIgAIjSiEeNrTbC6K4BIPpqjL7q7dcqsqrFpgKAFJMyfyDvhKZQxiiUAAgAEtWMKtcNgGgAQK07fTVGX/X2a/kOs74RAJCK9sQ7oSmUMQolAAKAKI141NhqI4zuGgCir8boq95+rSKrWmwqAEgxKfMH8k5oCmWMQgmAACBRzahy3QCIBgDUutNXY/RVb7+W7zDrGwEAqWhPvBOaQhmjUAIgAIjSiEeNrTbC6K4BIPpqjL7q7dcqsqrFpgKAFJMyfyDvhKZQxiiUAAgAEtWMKtcNgGgAQK07fTVGX/X2a/kOs74RAJCK9sQ7oSmUMQolAAKAKI141NhqI4zuGgCir8boq95+rSKrWmwqAEgxKfMH8k5oCmWMQgmAACBRzahy3QCIBgDUutNXY/RVb7+W7zDrGwEAqWhPvBOaQhmjUAIgAIjSiEeNrTbC6K4BIPpqjL7q7dcqsqrFpgKAFJMyfyDvhKZQxiiUAAgAEtWMKtcNgGgAQK07fTVGX/X2a/kOs74RAJCK9sQ7oSmUMQolAAKAKI141NhqI4zuGgCir8boq95+rSKrWmwqAEgxKfMH8k5oCmWMQgmAACBRzahy3QCIBgDUutNXY/RVb7+W7zDrGwEAqWhPvBOaQhmjUAIgAIjSiEeNrTbC6K4BIPpqjL7q7dcqsqrFpgKAFJMyfyDvhKZQxiiUAAgAEtWMKtcNgGgAQK07fTVGX/X2a/kOs74RAJCK9sQ7oSmUMQolAAKAKI141NhqI4zuGgCir8boq95+rSKrWmwqAEgxKfMH8k5oCmWMQgmAACBRzahy3QCIBgDUutNXY/RVb7+W7zDrGwEAqWhPvBOaQhmjUAIgAIjSiEeNrTbC6K4BIPpqjL7q7dcqsqrFpgKAFJMyfyDvhKZQxiiUAAgAEtWMKtcNgGgAQK07fTVGX/X2a/kOs74RAJCK9sQ7oSmUMQolAAKAKI141NhqI4zuGgCir8boq95+rSKrWmwqAEgxKfMH8k5oCmWMQgmAACBRzahy3QCIBgDUutNXY/RVb7+W7zDrGwEAqWhPvBOaQhmjUAIgAIjSiEeNrTbC6K4BIPpqjL7q7dcqsqrFpgKAFJMyfyDvhKZQxiiUAAgAEtWMKtcNgGgAQK07fTVGX/X2a/kOs74RAJCK9sQ7oSmUMQolAAKAKI141NhqI4zuGgCir8boq95+rSKrWmwqAEgxKfMH8k5oCmWMQgmAACBRzahy3QCIBgDUutNXY/RVb7+W7zDrGwEAqWhPvBOaQhmjUAIgAIjSiEeNrTbC6K4BIPpqjL7q7dcqsqrFpgKAFJMyfyDvhKZQxiiUAAgAEtWMKtcNgGgAQK07fTVGX/X2a/kOs74RAJCK9sQ7oSmUMQolAAKAKI141NhqI4zuGgCir8boq95+rSKrWmwqAEgxKfMH8k5oCmWMQgmAACBRzahy3QCIBgDUutNXY/RVb7+W7zDrGwEAqWhPvBOaQhmjUAIgAIjSiEeNrTbC6K4BIPpqjL7q7dcqsqrFpgKAFJMyfyDvhKZQxiiUAAgAEtWMKtcNgGgAQK07fTVGX/X2a/kOs74RAJCK9sQ7oSmUMQolAAKAKI141NhqI4zuGgCir8boq95+rSKrWmwqAEgxKfMH8k5oCmWMQgmAACBRzahy3QCIBgDUutNXY/RVb7+W7zDrGwEAqWhPvBOaQhmjUAIgAIjSiEeNrTbC6K4BIPpqjL7q7dcqsqrFpgKAFJMyfyDvhKZQxiiUAAgAEtWMKtcNgGgAQK07fTVGX/X2a/kOs74RAJCK9sQ7oSmUMQolAAKAKI141NhqI4zuGgCir8boq95+rSKrWmwqAEgxKfMH8k5oCmWMQgmAACBRzahy3QCIBgDUutNXY/RVb7+W7zDrGwEAqWhPvBOaQhmjUAIgAIjSiEeNrTbC6K4BIPpqjL7q7dcqsqrFpgKAFJMyfyDvhKZQxiiUAAgAEtWMKtcNgGgAQK07fTVGX/X2a/kOs74RQgPIypUr07Rp09LMmTPTokWL0uDBg9P48ePT5MmTU79+/drardGjR6fbbrstHX744enSSy9t671dL/ZOaApljEIJgAAgSiMeNbbaCKO7BoDoqzH6qrdf65OprPxNoQFk0qRJacaMGemoo45K++67b7rjjjvSxRdfnOzvzz///Ja37pJLLmne8/TTTwMgLaqmLNI2RWV8ZWylKcGQaQwRuqP7jcePabEyl3lZ5DqjrO/K2NH6KgCSXyvCAsh9992Xdt9993TMMceks88+e7WSxx13XDr33HPTPffck3bbbbdeFbYP/C677JKOP/749JnPfAYA6VWxF15AodR8SxTZGCjXrowNgAAgAEiLjanAy5S9TRlb3de91w6A5H9YwgLIySefnE4//fT0yCOPpKFDh65WcsGCBWmnnXZKJ510UjrttNN6VfjjH/94+v73v5/uv//+9JKXvAQA6VUxAMS7UHIJFpdgKQEoamzALyb4Keu7MjYA0qL54WWrFQgLIGPHjm3OcixduvRF6bDjjjumPfbYI910003rTZW5c+emvffeO91www1p//33T5tssgkA0uKHi0LJGZBI38oqTThGOKYRVuacMrY635W9TRkbAGnR/PAyAMQur9piiy2SQcTax4gRI9KKFSuSXaa1rmPVqlVpn332SQMHDkzf/va3m5e1AyBLlixJ9qf7MW/evDRu3Lg0e/bs5vKwTh/Lly9PdhrR1tu/f/9Oh1tjfGVsm4gyvjL2YV/5ZfrtE8+m175iq3TV0SNc99yCKeNHjY3u5Lv3Z135WVPnu7K+K2NH66v2BfaYMWMaD2keiqN9BcKeARk2bFiyMx124/nah92Q/vjjj6eHH354nYpeeOGFzX0fv/nNb1ZfwtUOgJxyyinp1FNP7XH86dOnJ5sfBwqUVmDavf3S4qc3SYO2fj5NHr6y9PC9jqeMHzW2bUrUtSvXje4x60yvRZAXbBQKzJ8/P51wwgkASMZuhgWQnDMgTzzxRHPj+Sc+8Yn0hS98YbX87QAIZ0B0Z1+ifVPTvT5E/mZSuXZlbPU3wsq1K2Oje8wzT8qzEMrY0foqZ0AyyON/3xoWQHLuAbEnZ11++eXNpVJbbbXV6l3Yeeed08EHH5zOOuustMMOO6Rtt922rR3yfqqC8npRZWzbFGV8ZezI12Yr166MbfmujB81NrrHvPdGWd+VsaP1VW+/1paZ3EBeHBZA7ClXZ5xxRp+egvWe97xn9X0f69pn+4HDT33qU22lgXdCK4uVMna0Qtk9CZVmEEMW05Apc04Zm3yPme/K3qaMHa2vevu1tszkBvLisABip8/sSVfr+h2Qu+++Ow0fPry5Gd2u9RswYEBzw7kdd955Z/rd7373oi1+3/vel/bbb7907LHHNu997Wtf21YaeCe0slgpY0crlADICwoozagyduS1o7sGAiLrruxtytjR+qq3X2vLTG4gLw4LILY/EydOTBdddFHzS+gjR45Mc+bMaX4JfcKECcluMrdj4cKFzU3mRx55ZJo1a9Z6t7Wde0B6Gsg7oZXFShk7WqEEQAAQpSGMGhvw08CPWndlb1PGjtZXvf3aBsIUbU0zyT0z9AAAIABJREFUNIA899xzaerUqWnmzJlp8eLFadCgQWn8+PFpypQpabPNNgNA2kql9l5MoeR3QPgdkPY+MzmvjgoBynWrjbBy7crYat2VvU0ZGwDJqdAx3xsaQGrbcm+iVhYrZexohZIzIJwBURrCqLHVRhjdNWdglL1NGTtaX/X2a7X51RLzAUBKqFhoDO+EVhYrZexohRIAAUCimlHlugEQDQCodVf2NmXsaH3V268VsplVDQOAVLQd3gmtLFbK2NEKJQACgCiNeNTYaiOM7hoAUvY2ZexofdXbr1VkVYtNBQApJmX+QN4JrSxWytjRCiUAAoBENaPKdQMgGgBQ667sbcrY0fqqt1/Ld5j1jQCAVLQn3gmtLFbK2NEKJQACgCiNeNTYaiOM7hoAUvY2ZexofdXbr1VkVYtNBQApJmX+QN4JrSxWytjRCiUAAoBENaPKdQMgGgBQ667sbcrY0fqqt1/Ld5j1jQCAVLQn3gmtLFbK2NEKJQACgCiNeNTYaiOM7hoAUvY2ZexofdXbr1VkVYtNBQApJmX+QN4JrSxWytjRCiUAAoBENaPKdQMgGgBQ667sbcrY0fqqt1/Ld5j1jQCAVLQn3gmtLFbK2NEKJQACgCiNeNTYaiOM7hoAUvY2ZexofdXbr1VkVYtNBQApJmX+QN4JrSxWytjRCiUAAoBENaPKdQMgGgBQ667sbcrY0fqqt1/Ld5j1jQCAVLQn3gmtLFbK2NEKJQACgCiNeNTYaiOM7hoAUvY2ZexofdXbr1VkVYtNBQApJmX+QN4JrSxWytjRCiUAAoBENaPKdQMgGgBQ667sbcrY0fqqt1/Ld5j1jQCAVLQn3gmtLFbK2NEKJQACgCiNeNTYaiOM7hoAUvY2ZexofdXbr1VkVYtNBQApJmX+QN4JrSxWytjRCiUAAoBENaPKdQMgGgBQ667sbcrY0fqqt1/Ld5j1jQCAVLQn3gmtLFbK2NEKJQACgCiNeNTYaiOM7hoAUvY2ZexofdXbr1VkVYtNBQApJmX+QN4JrSxWytjRCiUAAoBENaPKdQMgGgBQ667sbcrY0fqqt1/Ld5j1jQCAVLQn3gmtLFbK2NEKJQACgCiNeNTYaiOM7hoAUvY2ZexofdXbr1VkVYtNBQApJmX+QN4JrSxWytjRCiUAAoBENaPKdQMgGgBQ667sbcrY0fqqt1/Ld5j1jQCAVLQn3gmtLFbK2NEKJQACgCiNeNTYaiOM7hoAUvY2ZexofdXbr1VkVYtNBQApJmX+QN4JrSxWytjRCiUAAoBENaPKdQMgGgBQ667sbcrY0fqqt1/Ld5j1jQCAVLQn3gmtLFbK2NEKJQACgCiNeNTYaiOM7hoAUvY2ZexofdXbr1VkVYtNBQApJmX+QN4JrSxWytjRCiUAAoBENaPKdQMgGgBQ667sbcrY0fqqt1/Ld5j1jQCAVLQn3gmtLFbK2NEKJQACgCiNeNTYaiOM7hoAUvY2ZexofdXbr1VkVYtNBQApJmX+QN4JrSxWytjRCiUAAoBENaPKdQMgGgBQ667sbcrY0fqqt1/Ld5j1jQCAVLQn3gmtLFbK2NEKJQACgCiNeNTYaiOM7hoAUvY2ZexofdXbr1VkVYtNBQApJmX+QN4JrSxWytjRCiUAAoBENaPKdQMgGgBQ667sbcrY0fqqt1/Ld5j1jQCAVLQn3gmtLFbK2NEKJQACgCiNeNTYaiOM7hoAUvY2ZexofdXbr1VkVYtNBQApJmX+QN4JrSxWytjRCiUAAoBENaPKdQMgGgBQ667sbcrY0fqqt1/Ld5j1jQCAVLQn3gmtLFbK2NEKJQACgCiNeNTYaiOM7hoAUvY2ZexofdXbr1VkVYtNBQApJmX+QN4JrSxWytjRCiUAAoBENaPKdQMgGgBQ667sbcrY0fqqt1/Ld5j1jQCAVLQn3gmtLFbK2NEKJQACgCiNeNTYaiOM7hoAUvY2ZexofdXbr1VkVYtNBQApJmX+QN4JrSxWytjRCiUAAoBENaPKdQMgGgBQ667sbcrY0fqqt1/Ld5j1jQCAVLQn3gmtLFbK2NEKJQACgCiNeNTYaiOM7hoAUvY2ZexofdXbr1VkVYtNBQApJmX+QN4JrSxWytjRCiUAAoBENaPKdQMgGgBQ667sbcrY0fqqt1/Ld5j1jQCAVLQn3gmtLFbK2NEKJQACgCiNeNTYaiOM7hoAUvY2ZexofdXbr1VkVYtNBQApJmX+QN4JrSxWytjRCiUAAoBENaPKdQMgGgBQ667sbcrY0fqqt1/Ld5j1jQCAVLQn3gmtLFbK2NEKJQACgCiNeNTYaiOM7hoAUvY2ZexofdXbr1VkVYtNBQApJmX+QN4JrSxWytjRCiUAAoBENaPKdQMgGgBQ667sbcrY0fqqt1/Ld5j1jQCAVLQn3gmtLFbK2NEKJQACgCiNeNTYaiOM7hoAUvY2ZexofdXbr1VkVYtNBQApJmX+QN4JrSxWytjRCiUAAoBENaPKdQMgGgBQ667sbcrY0fqqt1/Ld5j1jQCAVLQn3gmtLFbK2NEKJQACgCiNeNTYaiOM7hoAUvY2ZexofdXbr1VkVYtNBQApJmX+QN4JrSxWytjRCiUAAoBENaPKdQMgGgBQ667sbcrY0fqqt1/Ld5j1jQCAVLQn3gmtLFbK2NEKJQACgCiNeNTYaiOM7hoAUvY2ZexofdXbr1VkVYtNBQApJmX+QN4JrSxWytjRCiUAAoBENaPKdQMgGgBQ667sbcrY0fqqt1/Ld5j1jQCAVLQn3gmtLFbK2NEKJQACgCiNeNTYaiOM7hoAUvY2ZexofdXbr1VkVYtNBQApJmX+QN4JrSxWytjRCiUAAoBENaPKdQMgGgBQ667sbcrY0fqqt1/Ld5j1jQCAVLQn3gmtLFbK2NEKJQACgCiNeNTYaiOM7hoAUvY2ZexofdXbr1VkVYtNBQApJmX+QN4JrSxWytjRCiUAAoBENaPKdQMgGgBQ667sbcrY0fqqt1/Ld5j1jQCAVLQn3gmtLFbK2NEKJQACgCiNeNTYaiOM7hoAUvY2ZexofdXbr1VkVYtNBQApJmX+QN4JrSxWytjRCiUAAoBENaPKdQMgGgBQ667sbcrY0fqqt1/Ld5j1jQCAVLQn3gmtLFbK2NEKJQACgCiNeNTYaiOM7hoAUvY2ZexofdXbr1VkVYtNBQApJmX+QN4JrSxWytjRCiUAAoBENaPKdQMgGgBQ667sbcrY0fqqt1/Ld5j1jQCAVLQn3gmtLFbK2NEKJQACgCiNeNTYaiOM7hoAUvY2ZexofdXbr1VkVYtNBQApJmX+QN4JrSxWytjRCiUAAoBENaPKdQMgGgBQ667sbcrY0fqqt1/Ld5j1jQCAVLQn3gmtLFbK2NEKJQACgCiNeNTYaiOM7hoAUvY2ZexofdXbr1VkVYtNBQApJmX+QN4JrSxWytjRCiUAAoBENaPKdQMgGgBQ667sbcrY0fqqt1/Ld5j1jQCAVLQn3gmtLFbK2NEKJQACgCiNeNTYaiOM7hoAUvY2ZexofdXbr1VkVYtNBQApJmX+QN4JrSxWytjRCiUAAoBENaPKdQMgGgBQ667sbcrY0fqqt1/Ld5j1jQCAVLQn3gmtLFbK2NEKJQACgCiNeNTYaiOM7hoAUvY2ZexofdXbr1VkVYtNBQApJmX+QN4JrSxWytjRCiUAAoBENaPKdQMgGgBQ667sbcrY0fqqt1/Ld5j1jQCAVLQn3gmtLFbK2NEKJQACgCiNeNTYaiOM7hoAUvY2ZexofdXbr1VkVYtNBQApJmX+QN4JrSxWytjRCiUAAoBENaPKdQMgGgBQ667sbcrY0fqqt1/Ld5j1jQCAVLQn3gmtLFbK2NEKJQACgCiNeNTYaiOM7hoAUvY2ZexofdXbr1VkVYtNBQApJmX+QN4JrSxWytjRCiUAAoBENaPKdQMgGgBQ667sbcrY0fqqt1/Ld5j1jQCAVLQn3gmtLFbK2NEKJQACgCiNeNTYaiOM7hoAUvY2ZexofdXbr1VkVYtNBQApJmX+QN4JrSxWytjRCiUAAoBENaPKdQMgGgBQ667sbcrY0fqqt1/Ld5j1jQCAVLQn3gmtLFbK2NEKJQACgCiNeNTYaiOM7hoAUvY2ZexofdXbr1VkVYtNBQApJmX+QN4JrSxWytjRCiUAAoBENaPKdQMgGgBQ667sbcrY0fqqt1/Ld5j1jQCAVLQn3gmtLFbK2NEKJQACgCiNeNTYaiOM7hoAUvY2ZexofdXbr1VkVYtNBQApJmX+QN4JrSxWytjRCiUAAoBENaPKdQMgGgBQ667sbcrY0fqqt1/Ld5j1jQCAVLQn3gmtLFbK2NEKJQACgCiNeNTYaiOM7hoAUvY2ZexofdXbr1VkVYtNJSyArFy5Mk2bNi3NnDkzLVq0KA0ePDiNHz8+TZ48OfXr12+dAj/zzDPpkksuSddff32677770pNPPpmGDBmSDjzwwHTSSSelbbfdts+b453QymKljB2tUAIgAEhUM6pcNwCiAQC17srepowdra96+7U+G8uK3xgWQCZNmpRmzJiRjjrqqLTvvvumO+64I1188cXJ/v78889f55bdf//9afjw4Wm//fZLY8eOTa985SvT3LlzG5AxELH/ftnLXtanLfdOaGWxUsaOVigBEABEacSjxlYbYXTXAJCytyljR+ur3n6tT6ay8jeFBBA7c7H77runY445Jp199tmrt+i4445L5557brrnnnvSbrvt1uPWLVu2LD322GMNhHQ/vvrVr6ajjz46TZ8+PX3yk5/s07Z7J7SyWCljRyuUAAgAEtWMKtcNgGgAQK27srcpY0frq95+rU+msvI3hQSQk08+OZ1++unpkUceSUOHDl29RQsWLEg77bRTcynVaaed1tbW/elPf0oDBgxIH/7wh9NXvvKVtt7b9WLvhFYWK2XsaIUSAAFAlEY8amy1EUZ3DQApe5sydrS+6u3X+mQqK39TSACxS6fsLMfSpUtftD077rhj2mOPPdJNN93U1tY9+OCD6XWve1068cQT0xlnnNHWewGQvt830yehU0rKQq2MrTQlGDKNIUJ3dL/x+DF9LZV9el/kOqOs78rYAEifPiqh3xQSQOzyqi222KK5X2PtY8SIEWnFihXNDebtHEcccUS69NJL069+9avm8q7ejiVLliT70/2YN29eGjduXJo9e3ZLY/QWo7d/X758eTKKtzX379+/t5cX/XdlbFuIMr4y9mFf+WX67RPPpte+Yqt01dEjiu5pK4Mp40eNbfsSde3KdaN7zDqjrO/K2NH6qn2JPWbMmMZHmofiaF+BkAAybNiwZGc67MbztQ+7If3xxx9PDz/8cMtqfulLX0oTJkxo7v2we0BaOU455ZR06qmn9vhSG8PmyIECpRWYdm+/tPjpTdKgrZ9Pk4evLD18r+Mp40eNbZsSde3KdaN7zDrTaxHkBRuFAvPnz08nnHACAJKxmyEBpOQZkG9961vp0EMPTQcccEC67rrr0mabbdbSdnAGRHf2Jdo3Nd0Tkm+ENd/Koju6e59xVOacMrb6zJPyLIQydrS+yhmQlqzuel8UEkBK3QNyyy23pIMOOqh5jO/3vve9tOWWW2btiPdNTcrrRZWxbZOU8ZWxI1+brVy7MrbluzJ+1NjoHvPeG2V9V8aO1le9/VqWuaz0zSEBxJ5yZTeK5zwF69Zbb037779/87jeH/7wh2mbbbbJ3mLvhFYWK2XsaIWye2IqzSCGLKYhU+acMjb5HjPflb1NGTtaX/X2a9kGs8IBQgKInTqzJ12t63dA7r777uZ3PuxmdLvOzx6vO3DgwNXb97Of/Sy9/e1vbx7hayCy3XbbFdla74RWFitl7GiFEgB5QQGlGVXGjrx2dNdAQGTdlb1NGTtaX/X2a0VMZmWDhAQQ24OJEyemiy66qPkl9JEjR6Y5c+Y0v4RuN5NfeOGFzTYtXLiwgYwjjzwyzZo1q/m7Rx99tIEXu9byi1/8YnMze/fD/v873vGOPm2zd0Iri5UydrRCCYAAIEpDGDU24KeBH7Xuyt6mjB2tr3r7tT6ZysrfFBZAnnvuuTR16tQ0c+bMtHjx4jRo0KA0fvz4NGXKlNU3kvcEIPaI3Le85S3r3NbRo0c3j9Hty+Gd0MpipYwdrVACIABIVAhQrltthJVrV8ZW667sbcrY0fqqt1/ri6es/T1hAaTGjfFOaGWxUsaOVigBEABEaQijxlYbYXTXnIFR9jZl7Gh91duv1ehZc+cEgOQqWPD93gmtLFbK2NEKJQACgEQ1o8p1AyAaAFDrruxtytjR+qq3XytoNasZCgCpZitS86vke+65p9sP2yiLlTJ2tEIJgAAgSiMeNbbaCKO7BoCUvU0ZO1pf9fZrFVnVYlMBQIpJmT+Qd0Iri5UydrRCCYAAIFHNqHLdAIgGANS6K3ubMna0vurt1/IdZn0jACAV7Yl3QiuLlTJ2tEIJgAAgSiMeNbbaCKO7BoCUvU0ZO1pf9fZrFVnVYlMBQIpJmT+Qd0Iri5UydrRCCYAAIFHNqHLdAIgGANS6K3ubMna0vurt1/IdZn0jACAV7Yl3QiuLlTJ2tEIJgAAgSiMeNbbaCKO7BoCUvU0ZO1pf9fZrFVnVYlMBQIpJmT+Qd0Iri5UydrRCCYAAIFHNqHLdAIgGANS6K3ubMna0vurt1/IdZn0jACAV7Yl3QiuLlTJ2tEIJgAAgSiMeNbbaCKO7BoCUvU0ZO1pf9fZrFVnVYlMBQIpJmT+Qd0Iri5UydrRCCYAAIFHNqHLdAIgGANS6K3ubMna0vurt1/IdZn0jACAV7Yl3QiuLlTJ2tEIJgAAgSiMeNbbaCKO7BoCUvU0ZO1pf9fZrFVnVYlMBQIpJmT+Qd0Iri5UydrRCCYAAIFHNqHLdAIgGANS6K3ubMna0vurt1/IdZn0jACAV7Yl3QiuLlTJ2tEIJgAAgSiMeNbbaCKO7BoCUvU0ZO1pf9fZrFVnVYlMBQIpJmT+Qd0Iri5UydrRCCYAAIFHNqHLdAIgGANS6K3ubMna0vurt1/IdZn0jACAV7Yl3QiuLlTJ2tEIJgAAgSiMeNbbaCKO7BoCUvU0ZO1pf9fZrFVnVYlMBQIpJmT+Qd0Iri5UydrRCCYAAIFHNqHLdAIgGANS6K3ubMna0vurt1/IdZn0jACAV7Yl3QiuLlTJ2tEIJgAAgSiMeNbbaCKO7BoCUvU0ZO1pf9fZrFVnVYlMBQIpJmT+Qd0Iri5UydrRCCYAAIFHNqHLdAIgGANS6K3ubMna0vurt1/IdZn0jACAV7Yl3QiuLlTJ2tEIJgAAgSiMeNbbaCKO7BoCUvU0ZO1pf9fZrFVnVYlMBQIpJmT+Qd0Iri5UydrRCCYAAIFHNqHLdAIgGANS6K3ubMna0vurt1/IdZn0jACAV7Yl3QiuLlTJ2tEIJgAAgSiMeNbbaCKO7BoCUvU0ZO1pf9fZrFVnVYlMBQIpJmT+Qd0Iri5UydrRCCYAAIFHNqHLdAIgGANS6K3ubMna0vurt1/IdZn0jACAV7Yl3QiuLlTJ2tEIJgAAgSiMeNbbaCKO7BoCUvU0ZO1pf9fZrFVnVYlMBQIpJmT+Qd0Iri5UydrRCCYAAIFHNqHLdAIgGANS6K3ubMna0vurt1/IdZn0jACAV7Yl3QiuLlTJ2tEIJgAAgSiMeNbbaCKO7BoCUvU0ZO1pf9fZrFVnVYlMBQIpJmT+Qd0Iri5UydrRCCYAAIFHNqHLdAIgGANS6K3ubMna0vurt1/IdZn0jACAV7Yl3QiuLlTJ2tEIJgAAgSiMeNbbaCKO7BoCUvU0ZO1pf9fZrFVnVYlMBQIpJmT+Qd0Iri5UydrRCCYAAIFHNqHLdAIgGANS6K3ubMna0vurt1/IdZn0jACAV7Yl3QiuLlTJ2tEIJgAAgSiMeNbbaCKO7BoCUvU0ZO1pf9fZrFVnVYlMBQIpJmT+Qd0Iri5UydrRCCYAAIFHNqHLdAIgGANS6K3ubMna0vurt1/IdZn0jACAV7Yl3QiuLlTJ2tEIJgAAgSiMeNbbaCKO7BoCUvU0ZO1pf9fZrFVnVYlMBQIpJmT+Qd0Iri5UydrRCCYAAIFHNqHLdAIgGANS6K3ubMna0vurt1/IdZn0jACAV7Yl3QiuLlTJ2tEIJgAAgSiMeNbbaCKO7BoCUvU0ZO1pf9fZrFVnVYlMBQIpJmT+Qd0Iri5UydrRCCYAAIFHNqHLdAIgGANS6K3ubMna0vurt1/IdZn0jACAV7Yl3QiuLlTJ2tEIJgAAgSiMeNbbaCKO7BoCUvU0ZO1pf9fZrFVnVYlMBQIpJmT+Qd0Iri5UydrRCCYAAIFHNqHLdAIgGANS6K3ubMna0vurt1/IdZn0jACAV7Yl3QiuLlTJ2tEIJgAAgSiMeNbbaCKO7BoCUvU0ZO1pf9fZrFVnVYlMBQIpJmT+Qd0Iri5UydrRCCYAAIFHNqHLdAIgGANS6K3ubMna0vurt1/IdZn0jACAV7Yl3QiuLlTJ2tEIJgAAgSiMeNbbaCKO7BoCUvU0ZO1pf9fZrFVnVYlMBQIpJmT+Qd0Iri5UydrRCCYAAIFHNqHLdAIgGANS6K3ubMna0vurt1/IdZn0jACAV7Yl3QiuLlTJ2tEIJgAAgSiMeNbbaCKO7BoCUvU0ZO1pf9fZrFVnVYlMBQIpJmT+Qd0Iri5UydrRCCYAAIFHNqHLdAIgGANS6K3ubMna0vurt1/IdZn0jACAV7Yl3QiuLlTJ2tEIJgAAgSiMeNbbaCKO7BoCUvU0ZO1pf9fZrFVnVYlMBQIpJmT+Qd0Iri5UydrRCCYAAIFHNqHLdAIgGANS6K3ubMna0vurt1/IdZn0jACAV7Yl3QiuLlTJ2tEIJgAAgSiMeNbbaCKO7BoCUvU0ZO1pf9fZrFVnVYlMBQIpJmT+Qd0Iri5UydrRCCYAAIFHNqHLdAIgGANS6K3ubMna0vurt1/IdZn0jACAV7Yl3QiuLlTJ2tEIJgAAgSiMeNbbaCKO7BoCUvU0ZO1pf9fZrFVnVYlMBQIpJmT+Qd0Iri5UydrRCCYAAIFHNqHLdAIgGANS6K3ubMna0vurt1/IdZn0jACAV7Yl3QiuLlTJ2tEIJgAAgSiMeNbbaCKO7BoCUvU0ZO1pf9fZrFVnVYlMBQIpJmT+Qd0Iri5UydrRCCYAAIFHNqHLdAIgGANS6K3ubMna0vurt1/IdZn0jACAV7Yl3QiuLlTJ2tEIJgAAgSiMeNbbaCKO7BoCUvU0ZO1pf9fZrFVnVYlMBQIpJmT+Qd0Iri5UydrRCCYAAIFHNqHLdAIgGANS6K3ubMna0vurt1/IdZn0jACAV7Yl3QiuLlTJ2tEIJgAAgSiMeNbbaCKO7BoCUvU0ZO1pf9fZrFVnVYlMBQIpJmT+Qd0Iri5UydrRCCYAAIFHNqHLdAIgGANS6K3ubMna0vurt1/IdZn0jACAV7Yl3QiuLlTJ2tEIJgAAgSiMeNbbaCKO7BoCUvU0ZO1pf9fZrFVnVYlMBQIpJmT+Qd0Iri5UydrRCCYAAIFHNqHLdAIgGANS6K3ubMna0vurt1/IdZn0jACAV7Yl3QiuLlTJ2tEIJgAAgSiMeNbbaCKO7BoCUvU0ZO1pf9fZrFVnVYlMBQIpJmT+Qd0Iri5UydrRCCYAAIFHNqHLdAIgGANS6K3ubMna0vurt1/IdZn0jACAV7Yl3QiuLlTJ2tEIJgAAgSiMeNbbaCKO7BoCUvU0ZO1pf9fZrFVnVYlMBQIpJmT+Qd0Iri5UydrRCCYAAIFHNqHLdAIgGANS6K3ubMna0vurt1/IdZn0jACAV7Yl3QiuLlTJ2tEIJgAAgSiMeNbbaCKO7BoCUvU0ZO1pf9fZrFVnVYlMBQIpJmT+Qd0Iri5UydrRCCYAAIFHNqHLdAIgGANS6K3ubMna0vurt1/IdZn0jACAV7Yl3QiuLlTJ2tEIJgAAgSiMeNbbaCKO7BoCUvU0ZO1pf9fZrFVnVYlMBQIpJmT+Qd0Iri5UydrRCCYAAIFHNqHLdAIgGANS6K3ubMna0vurt1/IdZn0jACAV7Yl3QiuLlTJ2tEIJgAAgSiMeNbbaCKO7BoCUvU0ZO1pf9fZrFVnVYlMBQIpJmT+Qd0Iri5UydrRCCYAAIFHNqHLdAIgGANS6K3ubMna0vurt1/IdZn0jACAV7Yl3QiuLlTJ2tEIJgAAgSiMeNbbaCKO7BoCUvU0ZO1pf9fZrFVnVYlMBQIpJmT+Qd0Iri5UydrRCCYAAIFHNqHLdAIgGANS6K3ubMna0vurt1/IdZn0jACAV7Yl3QiuLlTJ2tEIJgAAgSiMeNbbaCKO7BoCUvU0ZO1pf9fZrFVnVYlMBQIpJmT+Qd0Iri5UydrRCCYAAIFHNqHLdAIgGANS6K3ubMna0vurt1/IdZn0jACAV7Yl3QiuLlTJ2tEIJgAAgSiMeNbbaCKO7BoCUvU0ZO1pf9fZrFVnVYlMJCyArV65M06ZNSzNnzkyLFi1KgwcPTuPHj0+TJ09O/fr161Xg+++/P02ZMiXdfvvtzWtHjRqVpk6dmt7whjf0+t51vcAzoX/z2J/St+cuTA/MfzS9btir03v2GpJ2HfiyPs+9nTcqY9s8lfGVsdWGSB0fQ6YxZOiO7u30hxKvVeWcsr4rY0fsq55+rcRnosYxwgLIpEmT0owZM9JRRx2V9t1333THHXekiy++ONnfn3/++evdq4ceeii98Y1vTNtvv3065phjmteec845yb59uOuuu9LOO+/cp732SOiFy55OU665N9218L9fNMe9h2yfph46PA3ZYes+zb+3Nylj29yU8ZWxOQPCGRCVIYsMnZHXrsw3he7K+q6MHbmvevi13jzVhv7vIQHkvvvuS7vvvnsDD2efffbqPTzuuOPSueeem+6555602267rXNvDz300HTTTTelefPmNWdO7LCzKLvQ+LKWAAAcg0lEQVTuumvaf//909VXX92nvOh0Qi9Y9nQ65II56ffPrFjn/LZ76ebpm5NGFocQZWxbrDK+MvbaGx3NGNQCX+ge7yyAwgiT7/5fNijruzJ29L7aab/WJxO5gb0pJICcfPLJ6fTTT0+PPPJIGjp06OotW7BgQdppp53SSSedlE477bQet/Kpp55KL3/5y9P73//+9LWvfW2N1xx55JHpyiuvTMuWLUvbbLNN26nQ6YQ+7MI7ezzzsfZE7UzIVRP/vu35r+8Nytg2L2V8ZWwA5P8UUEKAMjZGWAM/6B5Dd2V9V8aO3lc77deKGrBKBwsJIGPHjm3OcixduvRF27LjjjumPfbYoznD0dNx5513Npds2eVbEydOXOMl9nd2CZe9Zp999ml7yzuZ0HZ96AHn/KTlOd143H7F7glRxrYFK+MrY/e02RhhjSlCd3S/8fgxLdffEi9U5pwytif4Keu7MjZ9NaVO+rUSn/8NYYyQAGKXV22xxRZp7ty5L9qjESNGpBUrViS7TKun49prr012Cdb111+f3v3ud6/xEvu7gw8+OF1zzTXpve9973r3f8mSJcn+dD/skq5x48al2bNnN5eIlTxm/OQ/00VzFq0x5JRfXJYGLX+8xzCv2GaLtMM2WxSZwrKn/pKeeOovLY9VMrYFVcZXxu5J8AVPPpP+Z8WqtOXmm6ahL39py3tS6oXK+FFj295FXbty3ei+8dcZZX1Xxq65ry7u/8o0da/D12hZE0cNThNH/U2pNtaMY19ijxkzpvGR5hs52lcgJIAMGzYs2ZkOu/F87cPObjz++OPp4Ycf7lHNr3/96+mII45IN998c3rnO9+5xmtuueWWZGdX7DUGEus7TjnllHTqqaf2+JLp06cnm2PJ47oFm6Zbl266xpDn/Pjf085//F3JMIyFAiiAAiiAAiiAAhIFHhrwqnTsW45fI/bov1qVDhm6quh85s+fn0444QQAJEPVkADCGZAXMoYzID1/ckqegVF/S7X2CletWpmeeebZ9NKXbpU23bT3x01n1JYe36qMHzW2bUTUtSvXje4bf51R1ndlbMttZfz1xeYMSOmu3bnxQgII94D0nlDcA1LmN1HU1+muvdP8UNWtafTo0Wnbbbft/UNQ8BXoju6Rci5KvivruzK2lUZlfGXsrrbAPSD5DTIkgNhTrs4444yOPAXriiuuSE8++SRPwVorN3lax4t/d2Xtj28nnj4GgPyfAkpTpIxtCijjR42N7hro9NZd2duUsU1nZXxlbFs7AAKA9EkBu3nInnS1rt8Bufvuu9Pw4cObm9HtOr8BAwakgQMHro5lN5jbPSAPPPBAGjRoUPP3Xb8DYmdX7Eb1vhydTmj7waJ/FP0OiDK27YUyvjI2AAKAeBuymnJOCT/oHgNAlPVdGTt6X+20X+uLh9zQ3hPyDIhtkj1C96KLLmp+CX3kyJFpzpw5zS+hT5gwIV144YXNPi5cuLD5nRD7fY9Zs2at3tsHH3ww7b333s3vgRx77LHN39svoduZD/sl9F122aVPeeCR0MpfTVXG7iqWUX8FvishMWQaU4Tu6M4lWH1qi316k/fnTdnblLEj91UPv9an5N+A3hQWQJ577rk0derUNHPmzLR48eLmTMb48ePTlClT0mabbbZeALF/vPfee5vXGrjYMWrUqHTmmWc2Z076engm9Lwlf0rfnrswzXv40bTra16dDt5zSLHf/eht/crYNjdlfGVs9Tey6vjepqT750AZG9018IPu8XRX1ndl7Ih91dOv9eapNtR/DwsgNW6Yd0IrTZEyNsYgnjGIvOeR106d0XzW0R3dN/Yzft5+rUbPmjsnACRXwYLv905oZZNQxsaQaZojuqP7xm5K1m4HyjoXNTZ1hjrjUWe8/VpBq1nNUABINVvh/1QFGpSmUKM7unuXnag5p1w3RljzOUd3dAdAvDtM3+IBIH3TrSPv8iZqZXNWxqZB0aA8GhT3gLyggPKzrowdee3orqmx6O6nu7df64jpFA8KgIg3oHt474RWFitlbIyBX5HmkhS9CSffyXeA26/RK3ubMna0OuPt1/wy2C8SAOKnda+RvBNaWayUsaMVSr6J10MA+a6BAHRH90jwRb775bu3X+vVQG6ALwBAKto074RWFitlbADEr0hzBkQPP+Q7+R7JhJPv5LtHvnv7tYqsarGpACDFpMwfyDuhlRCgjE2DokF5NCjOPOnhizqj+ayjO7pv7DXW26/lO8z6RgBAKtoT74RWNgllbABE0xzRHd03dlPCGT89dFJnqDMedcbbr1VkVYtNBQApJmX+QN4JrYQAZWwaFA3Ko0FxBkRvRqkzms86uqP7xl5jvf1avsOsbwQApKI98U5oZZNQxgZANM0R3dF9YzclnAHRQyd1hjrjUWe8/VpFVrXYVACQYlLmD+Sd0EoIUMamQdGgPBoUZ0D0ZpQ6o/msozu6b+w11tuv5TvM+kYAQCraE++EVjYJZWwARNMc0R3dN3ZTwhkQPXRSZ6gzHnXG269VZFWLTQUAKSZl/kBz5sxJo0aNSpdeemnadddd8wfsZYTly5enuXPnpj333DP179+/4/G6B1DGtnko40eNje6azxq6ozv13a+9Ud81nzdv3efNm5fGjRuXbr/99jRy5Ei/BNuIIgEgFW3mZZdd1iQ0BwqgAAqgAAqgAAqgQN0K2BfGhx9+eN2TrHR2AEhFG7Ns2bJ08803pyFDhqStttqq4zPrInivMy7dF6SMbfNQxo8aG93HuZ3dXLt4RM055brJd/Ld40oG+uoLCnh/1p999tm0cOHCNHbs2LTDDjt03K9tjAEAkI1xV1tck/IaRmVsk0cZP2psdN+zueRxxIgRLX5Cy70sas4p102+k+/en3XyXZdz5ap1nJEAkDh7/aKVKouVMjbGQFeklfseNTb5Tr5jhP0aPXVG83lT6u6XXRtXJABk49rPtlaj/MAqY2PINA0C3dEdI9xWic56sbLGKmNTZ6gz3nUm64Ma+M0ASODNVzYJZWwaFA3Ku0GR75qcQ3d0j/RZJ981+R7YRmYtHQDJkm/DfvOSJUvSRRddlCZMmJAGDhzouhhlbFuoMn7U2Oiu+ayhO7pT3/3aG/Vd83lT6u6XXRtXJABk49pPVoMCKIACKIACKIACKIACVSsAgFS9PUwOBVAABVAABVAABVAABTYuBQCQjWs/WQ0KoAAKoAAKoAAKoAAKVK0AAFL19jA5FEABFEABFEABFEABFNi4FABANq79ZDUogAIogAIogAIogAIoULUCAEjV28PkUAAFUAAFUAAFUAAFUGDjUgAA2bj2s+hqRo8enW677bZ0+OGHp0svvbTo2D0NNnXq1PSd73wnPfjgg+mPf/xj2nHHHdOb3vSmdPLJJ6e/+7u/61j8Z555Jl1yySXp+uuvT/fdd1968skn05AhQ9KBBx6YTjrppLTtttt2LLYNfMstt6RrrrkmzZ07t4m/YsWKtGDBgmYOpY6VK1emadOmpZkzZ6ZFixalwYMHp/Hjx6fJkyenfv36lQrT4zhPPfVUOuuss5r1/eIXv0hLly5NRx55ZJo1a1ZH49rgFs9y90c/+lGj6dZbb53+9m//Nn3mM59Jb3/72zsaf968eenUU09t1m2PiNx0003TTjvtlD70oQ+lj33sY+klL3lJR+OvPbhp8La3va3564ceeii95jWv6Vj8hQsXpqFDh/Y4/tFHH93kYacP0/wLX/hC+u53v5v+67/+K7385S9Pe++9d/PocastnTpsf7/2ta+tc/h//dd/bWpapw77fNu6f/jDHzZ5Z2u1Wm4xX/va13YqbDOuxf7sZz+bbrrppvSHP/whDRs2LE2cODEdc8wxaZNNNikSu5160om612r8Vl/XjiitjtmJutdq7E7VvVbjK+teO3vJa1MCQMiCHhUwQz5p0qT09NNPuwHI+973vjRgwIC06667pu222y4tXrw4XXzxxemxxx5Ls2fPTn//93/fkd26//770/Dhw9N+++2Xxo4dm175ylc2ptFMkkGA/ffLXvayjsS2Qc2wfOMb30i77bZb+vOf/5xsPqUBxPZyxowZ6aijjkr77rtvuuOOOxpt7e/PP//8jq3NBu4yo/ZbBHvuuWe64YYb3ADk0EMPTbfeemt673vfm+wHyayJ2bpN4wsuuKABgU4dBpYGXgbRgwYNSmaG5syZ0+z1P/zDPzSw7XX85S9/SbvvvntjEO0z7QUgBx98cLI96H4Y+Oyzzz4dXbqt781vfnPaaqutms+X6f/EE0+kO++8swHxnXfeuWPxLcb8+fNfNP7ZZ5/dALHVk079OJ59efKGN7wh2X5bbhsEPvzww81n3wDAvuAwLTpxWJ3ea6+9ms/YJz7xifQ3f/M3DQTZlysnnHBC81kocbRTTzpR91qN3+rr2tGk1TE7Ufdajd2putdq/O56ete9dvaS1wIg5EAPCtg3V7vssks6/vjjm2+Kvc6A9LQZ9m25fVtvBdWMWyeOZcuWNZBjENL9+OpXv5rs29rp06enT37yk50I3Yz5u9/9Lu2www7NN+L27eFpp51WFEDMdJj5tG8hzQR1Hccdd1w699xz0z333NPAT6cOgyrT+FWvelV67rnn0uabb+4GIGb4zRR1P9vw7LPPNmfUzJA+/vjjabPNNuvU0nsc18yZQd8DDzzQfM48jjPOOCP9x3/8R/rgBz/Y/K8XgNi37vaNv+fx/PPPN9BnwGfwuc0223iG7zGWnWX9q7/6q+YLjXvvvbdj8zGo/vjHP96czX33u9+9Os61117b1NB///d/T//yL//SkfhWXyyvf/KTn6SRI0eujmHzufDCCxvoty+Xco9W60mn6l6r8Vt9XTt6tDpmJ+peq7HXtZ7cuteX+N51r5295LUACDnQgwLWML7//e83DcOMmxJAVq1a1VwCZQ3txhtvdN2vP/3pT80ZmQ9/+MPpK1/5ikvsTgCImcDTTz89PfLII2tcFmNnWeySILvMzKDH4/AGkHWtyb6R/bd/+7f0n//5nw3geh72TbBd+vbTn/60McqdPh599NH0+te/Pp133nnJ/tsuC/MEkK7LjexshMfRdamZnWGyyyj/53/+p7n8bYsttvAI32OMyy67LI0bN645C2C516nji1/8YvOl0c9//vMGvLsOOytjZz7t8rOPfvSjHQlvX+AYaNkZl+6HzcUuffvc5z7XXBpW8lhfPfGoe63Ws1Zf1442fRmzVN3rS+ySda+V+Iq6187+8VoAhBxYSwG7PMCahV0ms//++zen7b0BxL4tN/CwsxL2jZ1dDmbf2to39p6H3Yvyute9Lp144onJvknxODoBIHZZmZ3lsLNJax92ffgee+zRXLPtcbTSODzm8YEPfKC5NMTO9tl9IZ08zJTZH7v06a677mq+obazQGbUPEy5XQZlZ3rssjuDD08AsbMPdkmOHXbplX37buvv5DFlypTmMiu7bNPg2tZtdcxgz6CzU5dyrm9N73znO9OPf/zj5rLSTt5/0mX27RI3M3x2xsXyzM7g2j7Yv3fqclKrlQZ5a5/h+fWvf91cFvaud72r+JdI66snHnWv1XrW6uva+Vz0ZcxSda+V2J2se63EV9S9dvaP1wIg5EA3Bcz0W+Oya/W//e1vN/+iAJDuNyvaGQg7tW+myb7F9DyOOOKI5gbmX/3qV80lTB5HJwDELq8yY2BwufZh16LbTe92uYLH0Urj6PQ87CZJuwTLvh23S1M6fZxyyilN/nYdZoS/9KUvveiSv07Mw75IsEZs4GP333TNpdNnQOzMkp05fM973pNe/epXN18m2D1Vdg/Epz71qQYQOnVYTKtfdlmj3ddlpsvi27fvZopMi05ecrj2uuwSS7sfwr7Qsf3o9GG5ZeBl94N0HXY/zHXXXdfciN+p4x//8R8bwLAzq9ZDug4782Y13DQvffnZ+uqJR91rtZ61+rp29qbdMUvWvVZid7Lu9RZfVffa2T9eC4BslDlghrKnmyB7WuxLX/rSpjnaYdfp2n0fv/nNb1ZfqtMXAOlr/K75/eAHP2juFbBv7uzsh0GRPSFryy237HW/cmN3BbAmPmHChOabQ7sHpJWjROxOAIg9ica+dbVvgtc+7LIM+3Z87csmWllvX17TW+Poy5jtvMeermbfgNvTgeysUFfutzNGu6+1S9/sjxlCuzzITJidURszZky7Q7X1ervXxZ749Y53vKO59MYOLwDpaaJ2T8Zb3/rWdPvtt6ff/va3zROSOnHY083s5md74pfVkq7D7k0wI24Pu7jqqqs6EbrHMbsui7r66qtfdEN+JybxzW9+s6nldgbAzjrZlwsGfHYW4uabb+7YGT/LbdP+jW98Y1Mz7WZ3O+tjPcXO/hmIlq4z66snHnWv1XrW6uvayYd2xixd91qJ3cm6t774tdW9dvY02mt5CtZGuOPrewTm2su1xzPapQp2Q67dEGs3inW/TrcvANKX+OvaBiucXU+oauVRwCVif+tb32qMwgEHHNB8a9jqTcolYncCQDy+CWz1Y9RK42p1rHZfZ43JTJldhmKXnFnuKw67rPDTn/50A0Albspd1xosl+ymZDP7djZADSAW3+7LOOiggzp6L4LdfG3fgNpjnu1xz90PuyTJ8sAey+t12P03dvmjQW+nH71s9eqf/umf0i9/+cs1zvLYk4ks988888xkl6h16rDHD9uXNv/93//dhLBLDO1SMANfewiFnU0ueXAGpPcHenSi7vWljpese+uLX2PdK5nzG9NYAMjGtJv/uxYrOPb0l1aO7bffvrnnw06RX3755Q2MdL8u3R5XaZdwWBMxE9PKb2L0Jf765mqPk7QzEvYtWm9nQXJjW6M2g2RnBr73ve/1Gq/7vHNj21idABCPa6FbyTV7TV8aV6tjr+919jhG21f7ltZMml1+pTrM/NoTkTp5879dcmQPGLB7Luz3XrqOc845p3nymZ0hMDNur/E87OyPXc5oDz2w9XfisN+dsDM+djmQ3XfQ/bCzqWbOLR88jq57Mjwed23rMai2L5PsLPbah937YWeAOn0ZmGlr+2z/a2dd7Auc/v37N2eerrjiiqKycw/I+gGkU3WvL3W8ZN1bV/xa617RpN+IBgNANqLNzFlK13XT6xvDTuPb9dveR9cPe1kBs9/o6NRh0GbXadsZAzNoisd3dgJAzOjZJT9Rn4JlzcrOaNm37/Y0ove///2dSqGWxu06U2ZgbWcoOnHcfffdzcMF1nfYzfddN4h3Yg49jWnwZ7/JYveD2COuO3HYE+sMur785S+vAV8Wq+s3MOxmcI+j69GjP/vZz5ovejp9dD3W2R6g0f2wRxMbBIwaNcrtgRNd8e2Mst0fYr+/Y7W85LE+I+xR91o14q2+rh1tehuzk3Wvt9g9raNk3VtX/FrrXjv7Gum1AEik3V7PWu0xjXaz5NqHfWtlN3Iee+yxzaVQnfolXTu7YcfaTySyH06zG4bt2zu7ubFThxkEu37ZfrjLQMR+CFFxdAJA7FIfM6Pr+h0QK9pr/wZKp9bel8aVMxd7sIL99sWVV17ZnEX7yEc+kjNcW++1e2t6AuaupzT1dIlQWwHW82K7dNEepb32Yfc+2L0IdhbEzLh98dCJwy7BsbOr3Q87Q2iP07bHe9s9ap16/LE9Rc/uN7AvEuz3EPr169dMw775t8uzvH6J3b59/uu//usmB3o6I9EJ3e1stYG2rbv7077siW9Wy71/l8Xy0M4m283/pkHpp76tr5541L1W61mrr2snJ9Y3Zqfr3vpie9S9dcVX17129o/XchM6OdCLAn25B6QvopoJthtUrUnat3h29sG+xbNvzZYvX57sxspOXTZjzws3g25x7IbRtR+Taf/fbuTt1GGXK9gPh9lhN80aANnz2u1yN/tj36LmHl2XpdgvoZsJNINi2tqN9nbDaqcPexKOPfLWGuPnP//5Ru9DDjmkCWuXRnUKgOx6dLv22C5N6X4pUtd6bV879VhU+9bXbjy3m83NbNv67SZgO7tm30TbDbqt3l9Uan+8bkK3vTXTaZc8GejYpRF2f4CdhbOzcfZo604e9oObdvmZfXly2GGHNV+u2OVn9gWHPQ2uU/DTfU1dZ3usptg9Px6HPWjC8s3uNbHLvuxGbLsJ3eDbgNDuwbDL/zpx2H0udsmbQa3pa/e82Jkug1GD4ZK/edNqPelU3Ws1fquva2c/WhmzU3WvldidrHutxO9JS6+6184+8loAhByoBEDsW8v/9//+X7rtttuSnfUw82LG0Iya/WibPUK0U4fd9/KWt7xlncN33ajfqfj2TbiBQU+HfZNrp65zD/vGyJ4kZobALj8xU2iG3L6N9zDBdr+BgV5PRycuzeiKY2ZsffdDGQR06mlUdtbF9tYA067LN1Nov5VgNwnb2ahO35CsbMR2GZQBh32JYAbUvlCwRz7bb/kYcHoc9tAK+90P++bdnvZnsGnw43Xfi52NsLMuVs/sTIjXYflmDxKxRx4b+Bl42NrtF+mtnnTqsMv57BIrO5tsl8t2xbUvHOxpXCWPVutJp+peq/FbfV072rQyZqfqXiuxO1n3WomvrHvt7COvBUDIARRAARRAARRAARRAARRAAUcFuAfEUWxCoQAKoAAKoAAKoAAKoEB0BQCQ6BnA+lEABVAABVAABVAABVDAUQEAxFFsQqEACqAACqAACqAACqBAdAUAkOgZwPpRAAVQAAVQAAVQAAVQwFEBAMRRbEKhAAqgAAqgAAqgAAqgQHQFAJDoGcD6UQAFUAAFUAAFUAAFUMBRAQDEUWxCoQAKoAAKoAAKoAAKoEB0BQCQ6BnA+lEABVAABVAABVAABVDAUQEAxFFsQqEACqAACqAACqAACqBAdAUAkOgZwPpRAAVQAAVQAAVQAAVQwFEBAMRRbEKhAAqgAAqgAAqgAAqgQHQFAJDoGcD6UQAFUAAFUAAFUAAFUMBRAQDEUWxCoQAKoAAKoAAKoAAKoEB0BQCQ6BnA+lEABVAABVAABVAABVDAUQEAxFFsQqEACqAACqAACqAACqBAdAUAkOgZwPpRAAVQAAVQAAVQAAVQwFEBAMRRbEKhAAqgAAqgAAqgAAqgQHQFAJDoGcD6UQAFUAAFUAAFUAAFUMBRAQDEUWxCoQAKoAAKoAAKoAAKoEB0BQCQ6BnA+lEABVAABVAABVAABVDAUQEAxFFsQqEACqAACqAACqAACqBAdAUAkOgZwPpRAAVQAAVQAAVQAAVQwFEBAMRRbEKhAAqgAAqgAAqgAAqgQHQFAJDoGcD6UQAFUAAFUAAFUAAFUMBRAQDEUWxCoQAKoAAKoAAKoAAKoEB0BQCQ6BnA+lEABVAABVAABVAABVDAUQEAxFFsQqEACqAACqAACqAACqBAdAUAkOgZwPpRAAVQAAVQAAVQAAVQwFEBAMRRbEKhAAqgAAqgAAqgAAqgQHQFAJDoGcD6UQAFUAAFUAAFUAAFUMBRAQDEUWxCoQAKoAAKoAAKoAAKoEB0BQCQ6BnA+lEABVAABVAABVAABVDAUQEAxFFsQqEACqAACqAACqAACqBAdAUAkOgZwPpRAAVQAAVQAAVQAAVQwFEBAMRRbEKhAAqgAAqgAAqgAAqgQHQFAJDoGcD6UQAFUAAFUAAFUAAFUMBRAQDEUWxCoQAKoAAKoAAKoAAKoEB0BQCQ6BnA+lEABVAABVAABVAABVDAUQEAxFFsQqEACqAACqAACqAACqBAdAX+P8pmjQihztJjAAAAAElFTkSuQmCC\" width=\"640\">"
      ],
      "text/plain": [
       "<IPython.core.display.HTML object>"
      ]
     },
     "metadata": {},
     "output_type": "display_data"
    }
   ],
   "source": [
    "%matplotlib notebook\n",
    "\n",
    "import numpy as np\n",
    "import matplotlib.pyplot as plt\n",
    "\n",
    "L=11\n",
    "h = np.concatenate((np.zeros(4),np.ones(L),np.zeros(4)),axis=0)\n",
    "plt.figure()\n",
    "plt.stem(np.arange(-4, L+4, step=1), h, use_line_collection=True)\n",
    "plt.xticks(np.arange(-4, L+4, step=1))\n",
    "plt.grid();"
   ]
  },
  {
   "cell_type": "code",
   "execution_count": 6,
   "metadata": {
    "slideshow": {
     "slide_type": "-"
    }
   },
   "outputs": [
    {
     "data": {
      "application/javascript": [
       "/* Put everything inside the global mpl namespace */\n",
       "window.mpl = {};\n",
       "\n",
       "\n",
       "mpl.get_websocket_type = function() {\n",
       "    if (typeof(WebSocket) !== 'undefined') {\n",
       "        return WebSocket;\n",
       "    } else if (typeof(MozWebSocket) !== 'undefined') {\n",
       "        return MozWebSocket;\n",
       "    } else {\n",
       "        alert('Your browser does not have WebSocket support. ' +\n",
       "              'Please try Chrome, Safari or Firefox ≥ 6. ' +\n",
       "              'Firefox 4 and 5 are also supported but you ' +\n",
       "              'have to enable WebSockets in about:config.');\n",
       "    };\n",
       "}\n",
       "\n",
       "mpl.figure = function(figure_id, websocket, ondownload, parent_element) {\n",
       "    this.id = figure_id;\n",
       "\n",
       "    this.ws = websocket;\n",
       "\n",
       "    this.supports_binary = (this.ws.binaryType != undefined);\n",
       "\n",
       "    if (!this.supports_binary) {\n",
       "        var warnings = document.getElementById(\"mpl-warnings\");\n",
       "        if (warnings) {\n",
       "            warnings.style.display = 'block';\n",
       "            warnings.textContent = (\n",
       "                \"This browser does not support binary websocket messages. \" +\n",
       "                    \"Performance may be slow.\");\n",
       "        }\n",
       "    }\n",
       "\n",
       "    this.imageObj = new Image();\n",
       "\n",
       "    this.context = undefined;\n",
       "    this.message = undefined;\n",
       "    this.canvas = undefined;\n",
       "    this.rubberband_canvas = undefined;\n",
       "    this.rubberband_context = undefined;\n",
       "    this.format_dropdown = undefined;\n",
       "\n",
       "    this.image_mode = 'full';\n",
       "\n",
       "    this.root = $('<div/>');\n",
       "    this._root_extra_style(this.root)\n",
       "    this.root.attr('style', 'display: inline-block');\n",
       "\n",
       "    $(parent_element).append(this.root);\n",
       "\n",
       "    this._init_header(this);\n",
       "    this._init_canvas(this);\n",
       "    this._init_toolbar(this);\n",
       "\n",
       "    var fig = this;\n",
       "\n",
       "    this.waiting = false;\n",
       "\n",
       "    this.ws.onopen =  function () {\n",
       "            fig.send_message(\"supports_binary\", {value: fig.supports_binary});\n",
       "            fig.send_message(\"send_image_mode\", {});\n",
       "            if (mpl.ratio != 1) {\n",
       "                fig.send_message(\"set_dpi_ratio\", {'dpi_ratio': mpl.ratio});\n",
       "            }\n",
       "            fig.send_message(\"refresh\", {});\n",
       "        }\n",
       "\n",
       "    this.imageObj.onload = function() {\n",
       "            if (fig.image_mode == 'full') {\n",
       "                // Full images could contain transparency (where diff images\n",
       "                // almost always do), so we need to clear the canvas so that\n",
       "                // there is no ghosting.\n",
       "                fig.context.clearRect(0, 0, fig.canvas.width, fig.canvas.height);\n",
       "            }\n",
       "            fig.context.drawImage(fig.imageObj, 0, 0);\n",
       "        };\n",
       "\n",
       "    this.imageObj.onunload = function() {\n",
       "        fig.ws.close();\n",
       "    }\n",
       "\n",
       "    this.ws.onmessage = this._make_on_message_function(this);\n",
       "\n",
       "    this.ondownload = ondownload;\n",
       "}\n",
       "\n",
       "mpl.figure.prototype._init_header = function() {\n",
       "    var titlebar = $(\n",
       "        '<div class=\"ui-dialog-titlebar ui-widget-header ui-corner-all ' +\n",
       "        'ui-helper-clearfix\"/>');\n",
       "    var titletext = $(\n",
       "        '<div class=\"ui-dialog-title\" style=\"width: 100%; ' +\n",
       "        'text-align: center; padding: 3px;\"/>');\n",
       "    titlebar.append(titletext)\n",
       "    this.root.append(titlebar);\n",
       "    this.header = titletext[0];\n",
       "}\n",
       "\n",
       "\n",
       "\n",
       "mpl.figure.prototype._canvas_extra_style = function(canvas_div) {\n",
       "\n",
       "}\n",
       "\n",
       "\n",
       "mpl.figure.prototype._root_extra_style = function(canvas_div) {\n",
       "\n",
       "}\n",
       "\n",
       "mpl.figure.prototype._init_canvas = function() {\n",
       "    var fig = this;\n",
       "\n",
       "    var canvas_div = $('<div/>');\n",
       "\n",
       "    canvas_div.attr('style', 'position: relative; clear: both; outline: 0');\n",
       "\n",
       "    function canvas_keyboard_event(event) {\n",
       "        return fig.key_event(event, event['data']);\n",
       "    }\n",
       "\n",
       "    canvas_div.keydown('key_press', canvas_keyboard_event);\n",
       "    canvas_div.keyup('key_release', canvas_keyboard_event);\n",
       "    this.canvas_div = canvas_div\n",
       "    this._canvas_extra_style(canvas_div)\n",
       "    this.root.append(canvas_div);\n",
       "\n",
       "    var canvas = $('<canvas/>');\n",
       "    canvas.addClass('mpl-canvas');\n",
       "    canvas.attr('style', \"left: 0; top: 0; z-index: 0; outline: 0\")\n",
       "\n",
       "    this.canvas = canvas[0];\n",
       "    this.context = canvas[0].getContext(\"2d\");\n",
       "\n",
       "    var backingStore = this.context.backingStorePixelRatio ||\n",
       "\tthis.context.webkitBackingStorePixelRatio ||\n",
       "\tthis.context.mozBackingStorePixelRatio ||\n",
       "\tthis.context.msBackingStorePixelRatio ||\n",
       "\tthis.context.oBackingStorePixelRatio ||\n",
       "\tthis.context.backingStorePixelRatio || 1;\n",
       "\n",
       "    mpl.ratio = (window.devicePixelRatio || 1) / backingStore;\n",
       "\n",
       "    var rubberband = $('<canvas/>');\n",
       "    rubberband.attr('style', \"position: absolute; left: 0; top: 0; z-index: 1;\")\n",
       "\n",
       "    var pass_mouse_events = true;\n",
       "\n",
       "    canvas_div.resizable({\n",
       "        start: function(event, ui) {\n",
       "            pass_mouse_events = false;\n",
       "        },\n",
       "        resize: function(event, ui) {\n",
       "            fig.request_resize(ui.size.width, ui.size.height);\n",
       "        },\n",
       "        stop: function(event, ui) {\n",
       "            pass_mouse_events = true;\n",
       "            fig.request_resize(ui.size.width, ui.size.height);\n",
       "        },\n",
       "    });\n",
       "\n",
       "    function mouse_event_fn(event) {\n",
       "        if (pass_mouse_events)\n",
       "            return fig.mouse_event(event, event['data']);\n",
       "    }\n",
       "\n",
       "    rubberband.mousedown('button_press', mouse_event_fn);\n",
       "    rubberband.mouseup('button_release', mouse_event_fn);\n",
       "    // Throttle sequential mouse events to 1 every 20ms.\n",
       "    rubberband.mousemove('motion_notify', mouse_event_fn);\n",
       "\n",
       "    rubberband.mouseenter('figure_enter', mouse_event_fn);\n",
       "    rubberband.mouseleave('figure_leave', mouse_event_fn);\n",
       "\n",
       "    canvas_div.on(\"wheel\", function (event) {\n",
       "        event = event.originalEvent;\n",
       "        event['data'] = 'scroll'\n",
       "        if (event.deltaY < 0) {\n",
       "            event.step = 1;\n",
       "        } else {\n",
       "            event.step = -1;\n",
       "        }\n",
       "        mouse_event_fn(event);\n",
       "    });\n",
       "\n",
       "    canvas_div.append(canvas);\n",
       "    canvas_div.append(rubberband);\n",
       "\n",
       "    this.rubberband = rubberband;\n",
       "    this.rubberband_canvas = rubberband[0];\n",
       "    this.rubberband_context = rubberband[0].getContext(\"2d\");\n",
       "    this.rubberband_context.strokeStyle = \"#000000\";\n",
       "\n",
       "    this._resize_canvas = function(width, height) {\n",
       "        // Keep the size of the canvas, canvas container, and rubber band\n",
       "        // canvas in synch.\n",
       "        canvas_div.css('width', width)\n",
       "        canvas_div.css('height', height)\n",
       "\n",
       "        canvas.attr('width', width * mpl.ratio);\n",
       "        canvas.attr('height', height * mpl.ratio);\n",
       "        canvas.attr('style', 'width: ' + width + 'px; height: ' + height + 'px;');\n",
       "\n",
       "        rubberband.attr('width', width);\n",
       "        rubberband.attr('height', height);\n",
       "    }\n",
       "\n",
       "    // Set the figure to an initial 600x600px, this will subsequently be updated\n",
       "    // upon first draw.\n",
       "    this._resize_canvas(600, 600);\n",
       "\n",
       "    // Disable right mouse context menu.\n",
       "    $(this.rubberband_canvas).bind(\"contextmenu\",function(e){\n",
       "        return false;\n",
       "    });\n",
       "\n",
       "    function set_focus () {\n",
       "        canvas.focus();\n",
       "        canvas_div.focus();\n",
       "    }\n",
       "\n",
       "    window.setTimeout(set_focus, 100);\n",
       "}\n",
       "\n",
       "mpl.figure.prototype._init_toolbar = function() {\n",
       "    var fig = this;\n",
       "\n",
       "    var nav_element = $('<div/>');\n",
       "    nav_element.attr('style', 'width: 100%');\n",
       "    this.root.append(nav_element);\n",
       "\n",
       "    // Define a callback function for later on.\n",
       "    function toolbar_event(event) {\n",
       "        return fig.toolbar_button_onclick(event['data']);\n",
       "    }\n",
       "    function toolbar_mouse_event(event) {\n",
       "        return fig.toolbar_button_onmouseover(event['data']);\n",
       "    }\n",
       "\n",
       "    for(var toolbar_ind in mpl.toolbar_items) {\n",
       "        var name = mpl.toolbar_items[toolbar_ind][0];\n",
       "        var tooltip = mpl.toolbar_items[toolbar_ind][1];\n",
       "        var image = mpl.toolbar_items[toolbar_ind][2];\n",
       "        var method_name = mpl.toolbar_items[toolbar_ind][3];\n",
       "\n",
       "        if (!name) {\n",
       "            // put a spacer in here.\n",
       "            continue;\n",
       "        }\n",
       "        var button = $('<button/>');\n",
       "        button.addClass('ui-button ui-widget ui-state-default ui-corner-all ' +\n",
       "                        'ui-button-icon-only');\n",
       "        button.attr('role', 'button');\n",
       "        button.attr('aria-disabled', 'false');\n",
       "        button.click(method_name, toolbar_event);\n",
       "        button.mouseover(tooltip, toolbar_mouse_event);\n",
       "\n",
       "        var icon_img = $('<span/>');\n",
       "        icon_img.addClass('ui-button-icon-primary ui-icon');\n",
       "        icon_img.addClass(image);\n",
       "        icon_img.addClass('ui-corner-all');\n",
       "\n",
       "        var tooltip_span = $('<span/>');\n",
       "        tooltip_span.addClass('ui-button-text');\n",
       "        tooltip_span.html(tooltip);\n",
       "\n",
       "        button.append(icon_img);\n",
       "        button.append(tooltip_span);\n",
       "\n",
       "        nav_element.append(button);\n",
       "    }\n",
       "\n",
       "    var fmt_picker_span = $('<span/>');\n",
       "\n",
       "    var fmt_picker = $('<select/>');\n",
       "    fmt_picker.addClass('mpl-toolbar-option ui-widget ui-widget-content');\n",
       "    fmt_picker_span.append(fmt_picker);\n",
       "    nav_element.append(fmt_picker_span);\n",
       "    this.format_dropdown = fmt_picker[0];\n",
       "\n",
       "    for (var ind in mpl.extensions) {\n",
       "        var fmt = mpl.extensions[ind];\n",
       "        var option = $(\n",
       "            '<option/>', {selected: fmt === mpl.default_extension}).html(fmt);\n",
       "        fmt_picker.append(option);\n",
       "    }\n",
       "\n",
       "    // Add hover states to the ui-buttons\n",
       "    $( \".ui-button\" ).hover(\n",
       "        function() { $(this).addClass(\"ui-state-hover\");},\n",
       "        function() { $(this).removeClass(\"ui-state-hover\");}\n",
       "    );\n",
       "\n",
       "    var status_bar = $('<span class=\"mpl-message\"/>');\n",
       "    nav_element.append(status_bar);\n",
       "    this.message = status_bar[0];\n",
       "}\n",
       "\n",
       "mpl.figure.prototype.request_resize = function(x_pixels, y_pixels) {\n",
       "    // Request matplotlib to resize the figure. Matplotlib will then trigger a resize in the client,\n",
       "    // which will in turn request a refresh of the image.\n",
       "    this.send_message('resize', {'width': x_pixels, 'height': y_pixels});\n",
       "}\n",
       "\n",
       "mpl.figure.prototype.send_message = function(type, properties) {\n",
       "    properties['type'] = type;\n",
       "    properties['figure_id'] = this.id;\n",
       "    this.ws.send(JSON.stringify(properties));\n",
       "}\n",
       "\n",
       "mpl.figure.prototype.send_draw_message = function() {\n",
       "    if (!this.waiting) {\n",
       "        this.waiting = true;\n",
       "        this.ws.send(JSON.stringify({type: \"draw\", figure_id: this.id}));\n",
       "    }\n",
       "}\n",
       "\n",
       "\n",
       "mpl.figure.prototype.handle_save = function(fig, msg) {\n",
       "    var format_dropdown = fig.format_dropdown;\n",
       "    var format = format_dropdown.options[format_dropdown.selectedIndex].value;\n",
       "    fig.ondownload(fig, format);\n",
       "}\n",
       "\n",
       "\n",
       "mpl.figure.prototype.handle_resize = function(fig, msg) {\n",
       "    var size = msg['size'];\n",
       "    if (size[0] != fig.canvas.width || size[1] != fig.canvas.height) {\n",
       "        fig._resize_canvas(size[0], size[1]);\n",
       "        fig.send_message(\"refresh\", {});\n",
       "    };\n",
       "}\n",
       "\n",
       "mpl.figure.prototype.handle_rubberband = function(fig, msg) {\n",
       "    var x0 = msg['x0'] / mpl.ratio;\n",
       "    var y0 = (fig.canvas.height - msg['y0']) / mpl.ratio;\n",
       "    var x1 = msg['x1'] / mpl.ratio;\n",
       "    var y1 = (fig.canvas.height - msg['y1']) / mpl.ratio;\n",
       "    x0 = Math.floor(x0) + 0.5;\n",
       "    y0 = Math.floor(y0) + 0.5;\n",
       "    x1 = Math.floor(x1) + 0.5;\n",
       "    y1 = Math.floor(y1) + 0.5;\n",
       "    var min_x = Math.min(x0, x1);\n",
       "    var min_y = Math.min(y0, y1);\n",
       "    var width = Math.abs(x1 - x0);\n",
       "    var height = Math.abs(y1 - y0);\n",
       "\n",
       "    fig.rubberband_context.clearRect(\n",
       "        0, 0, fig.canvas.width / mpl.ratio, fig.canvas.height / mpl.ratio);\n",
       "\n",
       "    fig.rubberband_context.strokeRect(min_x, min_y, width, height);\n",
       "}\n",
       "\n",
       "mpl.figure.prototype.handle_figure_label = function(fig, msg) {\n",
       "    // Updates the figure title.\n",
       "    fig.header.textContent = msg['label'];\n",
       "}\n",
       "\n",
       "mpl.figure.prototype.handle_cursor = function(fig, msg) {\n",
       "    var cursor = msg['cursor'];\n",
       "    switch(cursor)\n",
       "    {\n",
       "    case 0:\n",
       "        cursor = 'pointer';\n",
       "        break;\n",
       "    case 1:\n",
       "        cursor = 'default';\n",
       "        break;\n",
       "    case 2:\n",
       "        cursor = 'crosshair';\n",
       "        break;\n",
       "    case 3:\n",
       "        cursor = 'move';\n",
       "        break;\n",
       "    }\n",
       "    fig.rubberband_canvas.style.cursor = cursor;\n",
       "}\n",
       "\n",
       "mpl.figure.prototype.handle_message = function(fig, msg) {\n",
       "    fig.message.textContent = msg['message'];\n",
       "}\n",
       "\n",
       "mpl.figure.prototype.handle_draw = function(fig, msg) {\n",
       "    // Request the server to send over a new figure.\n",
       "    fig.send_draw_message();\n",
       "}\n",
       "\n",
       "mpl.figure.prototype.handle_image_mode = function(fig, msg) {\n",
       "    fig.image_mode = msg['mode'];\n",
       "}\n",
       "\n",
       "mpl.figure.prototype.updated_canvas_event = function() {\n",
       "    // Called whenever the canvas gets updated.\n",
       "    this.send_message(\"ack\", {});\n",
       "}\n",
       "\n",
       "// A function to construct a web socket function for onmessage handling.\n",
       "// Called in the figure constructor.\n",
       "mpl.figure.prototype._make_on_message_function = function(fig) {\n",
       "    return function socket_on_message(evt) {\n",
       "        if (evt.data instanceof Blob) {\n",
       "            /* FIXME: We get \"Resource interpreted as Image but\n",
       "             * transferred with MIME type text/plain:\" errors on\n",
       "             * Chrome.  But how to set the MIME type?  It doesn't seem\n",
       "             * to be part of the websocket stream */\n",
       "            evt.data.type = \"image/png\";\n",
       "\n",
       "            /* Free the memory for the previous frames */\n",
       "            if (fig.imageObj.src) {\n",
       "                (window.URL || window.webkitURL).revokeObjectURL(\n",
       "                    fig.imageObj.src);\n",
       "            }\n",
       "\n",
       "            fig.imageObj.src = (window.URL || window.webkitURL).createObjectURL(\n",
       "                evt.data);\n",
       "            fig.updated_canvas_event();\n",
       "            fig.waiting = false;\n",
       "            return;\n",
       "        }\n",
       "        else if (typeof evt.data === 'string' && evt.data.slice(0, 21) == \"data:image/png;base64\") {\n",
       "            fig.imageObj.src = evt.data;\n",
       "            fig.updated_canvas_event();\n",
       "            fig.waiting = false;\n",
       "            return;\n",
       "        }\n",
       "\n",
       "        var msg = JSON.parse(evt.data);\n",
       "        var msg_type = msg['type'];\n",
       "\n",
       "        // Call the  \"handle_{type}\" callback, which takes\n",
       "        // the figure and JSON message as its only arguments.\n",
       "        try {\n",
       "            var callback = fig[\"handle_\" + msg_type];\n",
       "        } catch (e) {\n",
       "            console.log(\"No handler for the '\" + msg_type + \"' message type: \", msg);\n",
       "            return;\n",
       "        }\n",
       "\n",
       "        if (callback) {\n",
       "            try {\n",
       "                // console.log(\"Handling '\" + msg_type + \"' message: \", msg);\n",
       "                callback(fig, msg);\n",
       "            } catch (e) {\n",
       "                console.log(\"Exception inside the 'handler_\" + msg_type + \"' callback:\", e, e.stack, msg);\n",
       "            }\n",
       "        }\n",
       "    };\n",
       "}\n",
       "\n",
       "// from http://stackoverflow.com/questions/1114465/getting-mouse-location-in-canvas\n",
       "mpl.findpos = function(e) {\n",
       "    //this section is from http://www.quirksmode.org/js/events_properties.html\n",
       "    var targ;\n",
       "    if (!e)\n",
       "        e = window.event;\n",
       "    if (e.target)\n",
       "        targ = e.target;\n",
       "    else if (e.srcElement)\n",
       "        targ = e.srcElement;\n",
       "    if (targ.nodeType == 3) // defeat Safari bug\n",
       "        targ = targ.parentNode;\n",
       "\n",
       "    // jQuery normalizes the pageX and pageY\n",
       "    // pageX,Y are the mouse positions relative to the document\n",
       "    // offset() returns the position of the element relative to the document\n",
       "    var x = e.pageX - $(targ).offset().left;\n",
       "    var y = e.pageY - $(targ).offset().top;\n",
       "\n",
       "    return {\"x\": x, \"y\": y};\n",
       "};\n",
       "\n",
       "/*\n",
       " * return a copy of an object with only non-object keys\n",
       " * we need this to avoid circular references\n",
       " * http://stackoverflow.com/a/24161582/3208463\n",
       " */\n",
       "function simpleKeys (original) {\n",
       "  return Object.keys(original).reduce(function (obj, key) {\n",
       "    if (typeof original[key] !== 'object')\n",
       "        obj[key] = original[key]\n",
       "    return obj;\n",
       "  }, {});\n",
       "}\n",
       "\n",
       "mpl.figure.prototype.mouse_event = function(event, name) {\n",
       "    var canvas_pos = mpl.findpos(event)\n",
       "\n",
       "    if (name === 'button_press')\n",
       "    {\n",
       "        this.canvas.focus();\n",
       "        this.canvas_div.focus();\n",
       "    }\n",
       "\n",
       "    var x = canvas_pos.x * mpl.ratio;\n",
       "    var y = canvas_pos.y * mpl.ratio;\n",
       "\n",
       "    this.send_message(name, {x: x, y: y, button: event.button,\n",
       "                             step: event.step,\n",
       "                             guiEvent: simpleKeys(event)});\n",
       "\n",
       "    /* This prevents the web browser from automatically changing to\n",
       "     * the text insertion cursor when the button is pressed.  We want\n",
       "     * to control all of the cursor setting manually through the\n",
       "     * 'cursor' event from matplotlib */\n",
       "    event.preventDefault();\n",
       "    return false;\n",
       "}\n",
       "\n",
       "mpl.figure.prototype._key_event_extra = function(event, name) {\n",
       "    // Handle any extra behaviour associated with a key event\n",
       "}\n",
       "\n",
       "mpl.figure.prototype.key_event = function(event, name) {\n",
       "\n",
       "    // Prevent repeat events\n",
       "    if (name == 'key_press')\n",
       "    {\n",
       "        if (event.which === this._key)\n",
       "            return;\n",
       "        else\n",
       "            this._key = event.which;\n",
       "    }\n",
       "    if (name == 'key_release')\n",
       "        this._key = null;\n",
       "\n",
       "    var value = '';\n",
       "    if (event.ctrlKey && event.which != 17)\n",
       "        value += \"ctrl+\";\n",
       "    if (event.altKey && event.which != 18)\n",
       "        value += \"alt+\";\n",
       "    if (event.shiftKey && event.which != 16)\n",
       "        value += \"shift+\";\n",
       "\n",
       "    value += 'k';\n",
       "    value += event.which.toString();\n",
       "\n",
       "    this._key_event_extra(event, name);\n",
       "\n",
       "    this.send_message(name, {key: value,\n",
       "                             guiEvent: simpleKeys(event)});\n",
       "    return false;\n",
       "}\n",
       "\n",
       "mpl.figure.prototype.toolbar_button_onclick = function(name) {\n",
       "    if (name == 'download') {\n",
       "        this.handle_save(this, null);\n",
       "    } else {\n",
       "        this.send_message(\"toolbar_button\", {name: name});\n",
       "    }\n",
       "};\n",
       "\n",
       "mpl.figure.prototype.toolbar_button_onmouseover = function(tooltip) {\n",
       "    this.message.textContent = tooltip;\n",
       "};\n",
       "mpl.toolbar_items = [[\"Home\", \"Reset original view\", \"fa fa-home icon-home\", \"home\"], [\"Back\", \"Back to previous view\", \"fa fa-arrow-left icon-arrow-left\", \"back\"], [\"Forward\", \"Forward to next view\", \"fa fa-arrow-right icon-arrow-right\", \"forward\"], [\"\", \"\", \"\", \"\"], [\"Pan\", \"Pan axes with left mouse, zoom with right\", \"fa fa-arrows icon-move\", \"pan\"], [\"Zoom\", \"Zoom to rectangle\", \"fa fa-square-o icon-check-empty\", \"zoom\"], [\"\", \"\", \"\", \"\"], [\"Download\", \"Download plot\", \"fa fa-floppy-o icon-save\", \"download\"]];\n",
       "\n",
       "mpl.extensions = [\"eps\", \"pdf\", \"png\", \"ps\", \"raw\", \"svg\"];\n",
       "\n",
       "mpl.default_extension = \"png\";var comm_websocket_adapter = function(comm) {\n",
       "    // Create a \"websocket\"-like object which calls the given IPython comm\n",
       "    // object with the appropriate methods. Currently this is a non binary\n",
       "    // socket, so there is still some room for performance tuning.\n",
       "    var ws = {};\n",
       "\n",
       "    ws.close = function() {\n",
       "        comm.close()\n",
       "    };\n",
       "    ws.send = function(m) {\n",
       "        //console.log('sending', m);\n",
       "        comm.send(m);\n",
       "    };\n",
       "    // Register the callback with on_msg.\n",
       "    comm.on_msg(function(msg) {\n",
       "        //console.log('receiving', msg['content']['data'], msg);\n",
       "        // Pass the mpl event to the overridden (by mpl) onmessage function.\n",
       "        ws.onmessage(msg['content']['data'])\n",
       "    });\n",
       "    return ws;\n",
       "}\n",
       "\n",
       "mpl.mpl_figure_comm = function(comm, msg) {\n",
       "    // This is the function which gets called when the mpl process\n",
       "    // starts-up an IPython Comm through the \"matplotlib\" channel.\n",
       "\n",
       "    var id = msg.content.data.id;\n",
       "    // Get hold of the div created by the display call when the Comm\n",
       "    // socket was opened in Python.\n",
       "    var element = $(\"#\" + id);\n",
       "    var ws_proxy = comm_websocket_adapter(comm)\n",
       "\n",
       "    function ondownload(figure, format) {\n",
       "        window.open(figure.imageObj.src);\n",
       "    }\n",
       "\n",
       "    var fig = new mpl.figure(id, ws_proxy,\n",
       "                           ondownload,\n",
       "                           element.get(0));\n",
       "\n",
       "    // Call onopen now - mpl needs it, as it is assuming we've passed it a real\n",
       "    // web socket which is closed, not our websocket->open comm proxy.\n",
       "    ws_proxy.onopen();\n",
       "\n",
       "    fig.parent_element = element.get(0);\n",
       "    fig.cell_info = mpl.find_output_cell(\"<div id='\" + id + \"'></div>\");\n",
       "    if (!fig.cell_info) {\n",
       "        console.error(\"Failed to find cell for figure\", id, fig);\n",
       "        return;\n",
       "    }\n",
       "\n",
       "    var output_index = fig.cell_info[2]\n",
       "    var cell = fig.cell_info[0];\n",
       "\n",
       "};\n",
       "\n",
       "mpl.figure.prototype.handle_close = function(fig, msg) {\n",
       "    var width = fig.canvas.width/mpl.ratio\n",
       "    fig.root.unbind('remove')\n",
       "\n",
       "    // Update the output cell to use the data from the current canvas.\n",
       "    fig.push_to_output();\n",
       "    var dataURL = fig.canvas.toDataURL();\n",
       "    // Re-enable the keyboard manager in IPython - without this line, in FF,\n",
       "    // the notebook keyboard shortcuts fail.\n",
       "    IPython.keyboard_manager.enable()\n",
       "    $(fig.parent_element).html('<img src=\"' + dataURL + '\" width=\"' + width + '\">');\n",
       "    fig.close_ws(fig, msg);\n",
       "}\n",
       "\n",
       "mpl.figure.prototype.close_ws = function(fig, msg){\n",
       "    fig.send_message('closing', msg);\n",
       "    // fig.ws.close()\n",
       "}\n",
       "\n",
       "mpl.figure.prototype.push_to_output = function(remove_interactive) {\n",
       "    // Turn the data on the canvas into data in the output cell.\n",
       "    var width = this.canvas.width/mpl.ratio\n",
       "    var dataURL = this.canvas.toDataURL();\n",
       "    this.cell_info[1]['text/html'] = '<img src=\"' + dataURL + '\" width=\"' + width + '\">';\n",
       "}\n",
       "\n",
       "mpl.figure.prototype.updated_canvas_event = function() {\n",
       "    // Tell IPython that the notebook contents must change.\n",
       "    IPython.notebook.set_dirty(true);\n",
       "    this.send_message(\"ack\", {});\n",
       "    var fig = this;\n",
       "    // Wait a second, then push the new image to the DOM so\n",
       "    // that it is saved nicely (might be nice to debounce this).\n",
       "    setTimeout(function () { fig.push_to_output() }, 1000);\n",
       "}\n",
       "\n",
       "mpl.figure.prototype._init_toolbar = function() {\n",
       "    var fig = this;\n",
       "\n",
       "    var nav_element = $('<div/>');\n",
       "    nav_element.attr('style', 'width: 100%');\n",
       "    this.root.append(nav_element);\n",
       "\n",
       "    // Define a callback function for later on.\n",
       "    function toolbar_event(event) {\n",
       "        return fig.toolbar_button_onclick(event['data']);\n",
       "    }\n",
       "    function toolbar_mouse_event(event) {\n",
       "        return fig.toolbar_button_onmouseover(event['data']);\n",
       "    }\n",
       "\n",
       "    for(var toolbar_ind in mpl.toolbar_items){\n",
       "        var name = mpl.toolbar_items[toolbar_ind][0];\n",
       "        var tooltip = mpl.toolbar_items[toolbar_ind][1];\n",
       "        var image = mpl.toolbar_items[toolbar_ind][2];\n",
       "        var method_name = mpl.toolbar_items[toolbar_ind][3];\n",
       "\n",
       "        if (!name) { continue; };\n",
       "\n",
       "        var button = $('<button class=\"btn btn-default\" href=\"#\" title=\"' + name + '\"><i class=\"fa ' + image + ' fa-lg\"></i></button>');\n",
       "        button.click(method_name, toolbar_event);\n",
       "        button.mouseover(tooltip, toolbar_mouse_event);\n",
       "        nav_element.append(button);\n",
       "    }\n",
       "\n",
       "    // Add the status bar.\n",
       "    var status_bar = $('<span class=\"mpl-message\" style=\"text-align:right; float: right;\"/>');\n",
       "    nav_element.append(status_bar);\n",
       "    this.message = status_bar[0];\n",
       "\n",
       "    // Add the close button to the window.\n",
       "    var buttongrp = $('<div class=\"btn-group inline pull-right\"></div>');\n",
       "    var button = $('<button class=\"btn btn-mini btn-primary\" href=\"#\" title=\"Stop Interaction\"><i class=\"fa fa-power-off icon-remove icon-large\"></i></button>');\n",
       "    button.click(function (evt) { fig.handle_close(fig, {}); } );\n",
       "    button.mouseover('Stop Interaction', toolbar_mouse_event);\n",
       "    buttongrp.append(button);\n",
       "    var titlebar = this.root.find($('.ui-dialog-titlebar'));\n",
       "    titlebar.prepend(buttongrp);\n",
       "}\n",
       "\n",
       "mpl.figure.prototype._root_extra_style = function(el){\n",
       "    var fig = this\n",
       "    el.on(\"remove\", function(){\n",
       "\tfig.close_ws(fig, {});\n",
       "    });\n",
       "}\n",
       "\n",
       "mpl.figure.prototype._canvas_extra_style = function(el){\n",
       "    // this is important to make the div 'focusable\n",
       "    el.attr('tabindex', 0)\n",
       "    // reach out to IPython and tell the keyboard manager to turn it's self\n",
       "    // off when our div gets focus\n",
       "\n",
       "    // location in version 3\n",
       "    if (IPython.notebook.keyboard_manager) {\n",
       "        IPython.notebook.keyboard_manager.register_events(el);\n",
       "    }\n",
       "    else {\n",
       "        // location in version 2\n",
       "        IPython.keyboard_manager.register_events(el);\n",
       "    }\n",
       "\n",
       "}\n",
       "\n",
       "mpl.figure.prototype._key_event_extra = function(event, name) {\n",
       "    var manager = IPython.notebook.keyboard_manager;\n",
       "    if (!manager)\n",
       "        manager = IPython.keyboard_manager;\n",
       "\n",
       "    // Check for shift+enter\n",
       "    if (event.shiftKey && event.which == 13) {\n",
       "        this.canvas_div.blur();\n",
       "        // select the cell after this one\n",
       "        var index = IPython.notebook.find_cell_index(this.cell_info[0]);\n",
       "        IPython.notebook.select(index + 1);\n",
       "    }\n",
       "}\n",
       "\n",
       "mpl.figure.prototype.handle_save = function(fig, msg) {\n",
       "    fig.ondownload(fig, null);\n",
       "}\n",
       "\n",
       "\n",
       "mpl.find_output_cell = function(html_output) {\n",
       "    // Return the cell and output element which can be found *uniquely* in the notebook.\n",
       "    // Note - this is a bit hacky, but it is done because the \"notebook_saving.Notebook\"\n",
       "    // IPython event is triggered only after the cells have been serialised, which for\n",
       "    // our purposes (turning an active figure into a static one), is too late.\n",
       "    var cells = IPython.notebook.get_cells();\n",
       "    var ncells = cells.length;\n",
       "    for (var i=0; i<ncells; i++) {\n",
       "        var cell = cells[i];\n",
       "        if (cell.cell_type === 'code'){\n",
       "            for (var j=0; j<cell.output_area.outputs.length; j++) {\n",
       "                var data = cell.output_area.outputs[j];\n",
       "                if (data.data) {\n",
       "                    // IPython >= 3 moved mimebundle to data attribute of output\n",
       "                    data = data.data;\n",
       "                }\n",
       "                if (data['text/html'] == html_output) {\n",
       "                    return [cell, data, j];\n",
       "                }\n",
       "            }\n",
       "        }\n",
       "    }\n",
       "}\n",
       "\n",
       "// Register the function which deals with the matplotlib target/channel.\n",
       "// The kernel may be null if the page has been refreshed.\n",
       "if (IPython.notebook.kernel != null) {\n",
       "    IPython.notebook.kernel.comm_manager.register_target('matplotlib', mpl.mpl_figure_comm);\n",
       "}\n"
      ],
      "text/plain": [
       "<IPython.core.display.Javascript object>"
      ]
     },
     "metadata": {},
     "output_type": "display_data"
    },
    {
     "data": {
      "text/html": [
       "<img src=\"data:image/png;base64,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\" width=\"900\">"
      ],
      "text/plain": [
       "<IPython.core.display.HTML object>"
      ]
     },
     "metadata": {},
     "output_type": "display_data"
    },
    {
     "data": {
      "application/vnd.jupyter.widget-view+json": {
       "model_id": "813ec39fd27448569c3fefc1a4be5b70",
       "version_major": 2,
       "version_minor": 0
      },
      "text/plain": [
       "interactive(children=(IntSlider(value=16, description='L', max=128, min=2), Checkbox(value=False, description=…"
      ]
     },
     "metadata": {},
     "output_type": "display_data"
    }
   ],
   "source": [
    "from ipywidgets import interact\n",
    "import ipywidgets as widgets\n",
    "from matplotlib.ticker import FuncFormatter, MultipleLocator\n",
    "from scipy.signal import argrelextrema\n",
    "import scipy.signal as signal\n",
    "fig, (ax1, ax2) = plt.subplots(1, 2, figsize=(9,4))\n",
    "fig.suptitle('Rectangular Window Frequency Response', fontsize=16)\n",
    "plt.subplots_adjust(wspace=0.3)\n",
    "\n",
    "@interact(L=widgets.IntSlider(min=2, max=128, step=1, value=16),unwrap=False)\n",
    "def plot_recWindow_H(L=16, unwrap=False):\n",
    "    h = np.concatenate((np.ones(L),np.zeros(4)),axis=0)\n",
    "    omega, H =signal.freqz(h[:-4],worN=512)\n",
    "    H[np.abs(H) < np.finfo(float).eps] = np.finfo(float).eps\n",
    "    H_dB=20*np.log10(np.abs(H)/np.abs(H).max())\n",
    "    p3dB=np.max(H_dB)-3\n",
    "    p3dBIndex= np.max(np.where(H_dB >= p3dB))\n",
    "    wp=omega[p3dBIndex]\n",
    "    Hp=H_dB[p3dBIndex]\n",
    "    ax1.clear()\n",
    "    ax1.plot(omega, H_dB)\n",
    "    ax1.plot(wp, Hp,'go')\n",
    "    ax1.plot((0, wp), (Hp, Hp), 'k--') \n",
    "    ax1.plot((wp, wp), (-80, Hp), 'k--') \n",
    "    ax1.set_ylim((-80,H_dB.max()+5))\n",
    "    ax1.annotate(r'$\\omega$={:.2f}$\\pi$,-3dB'.format(wp/np.pi), xy=(wp, Hp), xytext=(wp+0.2*np.pi, 0),\n",
    "            arrowprops=dict(facecolor='black', shrink=0.02, width=1, headwidth=4),)\n",
    "    if L!=2:\n",
    "        side_lobe=argrelextrema(np.abs(H), np.greater)[0][0]\n",
    "        ax1.plot((0, omega[-1]),(H_dB[side_lobe],H_dB[side_lobe]), 'k--') \n",
    "        ax1.annotate(r'$\\omega$={:.2f}$\\pi$, {:.2f}dB'.format(omega[side_lobe]/np.pi,H_dB[side_lobe]), \n",
    "                     xy=(omega[side_lobe], H_dB[side_lobe]), xytext=(omega[side_lobe]+0.2*np.pi, -5),\n",
    "                    arrowprops=dict(facecolor='black', shrink=0.02, width=1, headwidth=4),)\n",
    "        ax1.plot(omega[side_lobe], H_dB[side_lobe],'go')\n",
    "        \n",
    "    ax1.xaxis.set_major_formatter(FuncFormatter(lambda val,pos: '{:.0g}$\\pi$'.format(val/np.pi) if val !=0 else '0'))\n",
    "    ax1.xaxis.set_major_locator(MultipleLocator(base=0.2*np.pi))\n",
    "    ax1.grid(True)\n",
    "    ax1.set_xlabel(r'$\\omega$ [rad/sample]')\n",
    "    ax1.set_ylabel(r'Normalized Magnitude [dB]')\n",
    "    \n",
    "    \n",
    "    ax2.clear()\n",
    "    phase=np.angle(H,deg=True)\n",
    "    if unwrap:\n",
    "        phase=np.unwrap(phase)\n",
    "    ax2.plot(omega,phase)\n",
    "    ax2.xaxis.set_major_formatter(FuncFormatter(lambda val,pos: '{:.0g}$\\pi$'.format(val/np.pi) if val !=0 else '0'))\n",
    "    ax2.xaxis.set_major_locator(MultipleLocator(base=0.2*np.pi))\n",
    "    ax2.grid(True)\n",
    "    ax2.set_xlabel(r'$\\omega$ [rad/sample]')\n",
    "    ax2.set_ylabel(r'Phase [degrees]')\n",
    "    "
   ]
  },
  {
   "cell_type": "markdown",
   "metadata": {
    "slideshow": {
     "slide_type": "-"
    }
   },
   "source": [
    "Here we can see that it is far from being an impulse at frequency zero. In fact it is somewhat broad and also the attenuation is not very high, on the order of -15 to -20 dB. We expect that our resulting low pass filter will “inherit” these properties through the convolution in the frequency domain.\n",
    "\n",
    "The “pass band” or main lobe width of our window function will determine the **transition band width** of our resulting filter, and the stop band attenuation of the window will determine the **resulting stop band attenuation** of our filter.\n",
    "\n",
    "This shows that the **window function shapes the key characteristics** of our resulting FIR filter!\n"
   ]
  },
  {
   "cell_type": "markdown",
   "metadata": {
    "slideshow": {
     "slide_type": "subslide"
    }
   },
   "source": [
    "**Example**: Take our example of a downsampling filter which should attenuate frequencies starting at 11 kHz, at a sampling rate of 44.1 kHz. We would like to have -60 dB attenuation in the stopband. Hence we obtain the normalized frequency for the start of our stop band as:\n",
    "$$\\large\n",
    "\\omega_s=\\frac{11 }{ 44.1 }\\cdot 2 \\cdot \\pi \\approx 0.5 \\cdot \\pi\n",
    "$$\n",
    "\n",
    "Hence our desired frequency response is 1 between frequency 0 and $\\omega_s$ (or better: between $-\\omega _s$ to $\\omega _s$ to also include the negative frequency axis). Now take the inverse DTFT of the ideal, desired frequency response $H_d(\\omega)$ to obtain the ideal impulse response $h_d(n)$. Since at first we assume an ideal filter, we set the end of the pass band $\\omega_c$ identical to the beginning of the stop band, $\\omega_c=\\omega_s$:\n",
    "\n",
    "$$\\large\n",
    "h_d(n)= \\frac{1} {2 \\pi} \\cdot \\int _{\\omega=-\\pi} ^ \\pi H_d(\\omega) e^{j \\omega n} d \\omega= $$\n",
    "\n",
    "$$\\large\n",
    "=\\frac {1}  {2 \\pi} \\cdot \\int _{\\omega=-\\omega_c} ^ {\\omega_c}  e^{j \\omega n} d \\omega =\n",
    "$$\n",
    "\n",
    "$$\\large\n",
    "= \\frac{1}  {2 \\pi} \\left(\\frac {e^{j \\cdot \\omega_c n}} {j \\cdot n}- \\frac{e^{-j \\cdot \\omega_c n}} {j \\cdot n}\\right)=  \\frac{sin(\\omega_c n)}  {\\pi n}\n",
    "$$\n",
    "\n",
    "(remember: $sin(\\omega)=\\frac{1} {2j} \\cdot (e^{j \\omega} -e^{-j \\omega})$ )\n",
    "\n"
   ]
  },
  {
   "cell_type": "markdown",
   "metadata": {
    "slideshow": {
     "slide_type": "slide"
    }
   },
   "source": [
    "## Approximation of an Ideal Low Pass Filter using a Rectangular Window and Delay"
   ]
  },
  {
   "cell_type": "markdown",
   "metadata": {
    "slideshow": {
     "slide_type": "-"
    }
   },
   "source": [
    "We've seen that the impulse response of an ideal low pass filter is:\n",
    "\n",
    "$$\\large\n",
    "h(n)=\\frac{sin(\\omega_c \\cdot n)}{\\pi \\cdot n }$$\n",
    "\n",
    "Truncating the impulse response (multiplying by a rectangular window) so it has a **length L** and applying a **delay of $n_d=\\frac{(L-1)}{2}$** we have:\n",
    "\n",
    "$$\\large\n",
    "h(n)=\\frac{sin\\left(\\omega_c \\cdot (n-n_d)\\right)}{\\pi \\cdot (n-d_d)} = \n",
    "\\frac{sin\\left(\\omega_c \\cdot \\left(n-\\frac{(L-1)}{2}\\right)\\right)}{\\pi \\cdot \\left(n-\\frac{(L-1)}{2}\\right)}\n",
    "$$\n",
    "\n"
   ]
  },
  {
   "cell_type": "code",
   "execution_count": 7,
   "metadata": {
    "hide_input": true
   },
   "outputs": [
    {
     "data": {
      "text/html": [
       "<center>\n",
       "<iframe width=\"560\" height=\"315\" src=\"https://www.youtube.com/embed/AuuucABMpvg\" frameborder=\"0\" allow=\"accelerometer; encrypted-media; gyroscope; picture-in-picture\" allowfullscreen></iframe>\n",
       "</center>\n"
      ],
      "text/plain": [
       "<IPython.core.display.HTML object>"
      ]
     },
     "metadata": {},
     "output_type": "display_data"
    }
   ],
   "source": [
    "%%html\n",
    "<center>\n",
    "<iframe width=\"560\" height=\"315\" src=\"https://www.youtube.com/embed/AuuucABMpvg\" frameborder=\"0\" allow=\"accelerometer; encrypted-media; gyroscope; picture-in-picture\" allowfullscreen></iframe>\n",
    "</center>"
   ]
  },
  {
   "cell_type": "code",
   "execution_count": 8,
   "metadata": {
    "slideshow": {
     "slide_type": "-"
    }
   },
   "outputs": [
    {
     "data": {
      "text/latex": [
       "$\\displaystyle \\frac{\\sin{\\left(\\omega_c \\left(- \\frac{L}{2} + n + \\frac{1}{2}\\right) \\right)}}{\\pi \\left(- \\frac{L}{2} + n + \\frac{1}{2}\\right)}$"
      ],
      "text/plain": [
       "sin(\\omega_c*(-L/2 + n + 1/2))/(pi*(-L/2 + n + 1/2))"
      ]
     },
     "execution_count": 8,
     "metadata": {},
     "output_type": "execute_result"
    }
   ],
   "source": [
    "from sympy import sin, symbols, simplify, pi, lambdify, limit\n",
    "\n",
    "wc_s = symbols('\\omega_c')\n",
    "n_s, L_s = symbols('n L', integer=True)\n",
    "\n",
    "n_d_s=(L_s-1)/2\n",
    "h_n_s=sin(wc_s*(n_s-n_d_s))/(pi*(n_s-n_d_s))\n",
    "h_n_s"
   ]
  },
  {
   "cell_type": "code",
   "execution_count": 9,
   "metadata": {
    "slideshow": {
     "slide_type": "-"
    }
   },
   "outputs": [
    {
     "data": {
      "text/latex": [
       "$\\displaystyle \\frac{\\omega_c}{\\pi}$"
      ],
      "text/plain": [
       "\\omega_c/pi"
      ]
     },
     "execution_count": 9,
     "metadata": {},
     "output_type": "execute_result"
    }
   ],
   "source": [
    "h_0_s = limit(h_n_s,n_s,n_d_s)\n",
    "h_0_s"
   ]
  },
  {
   "cell_type": "code",
   "execution_count": 11,
   "metadata": {
    "slideshow": {
     "slide_type": "-"
    }
   },
   "outputs": [
    {
     "data": {
      "application/javascript": [
       "/* Put everything inside the global mpl namespace */\n",
       "window.mpl = {};\n",
       "\n",
       "\n",
       "mpl.get_websocket_type = function() {\n",
       "    if (typeof(WebSocket) !== 'undefined') {\n",
       "        return WebSocket;\n",
       "    } else if (typeof(MozWebSocket) !== 'undefined') {\n",
       "        return MozWebSocket;\n",
       "    } else {\n",
       "        alert('Your browser does not have WebSocket support. ' +\n",
       "              'Please try Chrome, Safari or Firefox ≥ 6. ' +\n",
       "              'Firefox 4 and 5 are also supported but you ' +\n",
       "              'have to enable WebSockets in about:config.');\n",
       "    };\n",
       "}\n",
       "\n",
       "mpl.figure = function(figure_id, websocket, ondownload, parent_element) {\n",
       "    this.id = figure_id;\n",
       "\n",
       "    this.ws = websocket;\n",
       "\n",
       "    this.supports_binary = (this.ws.binaryType != undefined);\n",
       "\n",
       "    if (!this.supports_binary) {\n",
       "        var warnings = document.getElementById(\"mpl-warnings\");\n",
       "        if (warnings) {\n",
       "            warnings.style.display = 'block';\n",
       "            warnings.textContent = (\n",
       "                \"This browser does not support binary websocket messages. \" +\n",
       "                    \"Performance may be slow.\");\n",
       "        }\n",
       "    }\n",
       "\n",
       "    this.imageObj = new Image();\n",
       "\n",
       "    this.context = undefined;\n",
       "    this.message = undefined;\n",
       "    this.canvas = undefined;\n",
       "    this.rubberband_canvas = undefined;\n",
       "    this.rubberband_context = undefined;\n",
       "    this.format_dropdown = undefined;\n",
       "\n",
       "    this.image_mode = 'full';\n",
       "\n",
       "    this.root = $('<div/>');\n",
       "    this._root_extra_style(this.root)\n",
       "    this.root.attr('style', 'display: inline-block');\n",
       "\n",
       "    $(parent_element).append(this.root);\n",
       "\n",
       "    this._init_header(this);\n",
       "    this._init_canvas(this);\n",
       "    this._init_toolbar(this);\n",
       "\n",
       "    var fig = this;\n",
       "\n",
       "    this.waiting = false;\n",
       "\n",
       "    this.ws.onopen =  function () {\n",
       "            fig.send_message(\"supports_binary\", {value: fig.supports_binary});\n",
       "            fig.send_message(\"send_image_mode\", {});\n",
       "            if (mpl.ratio != 1) {\n",
       "                fig.send_message(\"set_dpi_ratio\", {'dpi_ratio': mpl.ratio});\n",
       "            }\n",
       "            fig.send_message(\"refresh\", {});\n",
       "        }\n",
       "\n",
       "    this.imageObj.onload = function() {\n",
       "            if (fig.image_mode == 'full') {\n",
       "                // Full images could contain transparency (where diff images\n",
       "                // almost always do), so we need to clear the canvas so that\n",
       "                // there is no ghosting.\n",
       "                fig.context.clearRect(0, 0, fig.canvas.width, fig.canvas.height);\n",
       "            }\n",
       "            fig.context.drawImage(fig.imageObj, 0, 0);\n",
       "        };\n",
       "\n",
       "    this.imageObj.onunload = function() {\n",
       "        fig.ws.close();\n",
       "    }\n",
       "\n",
       "    this.ws.onmessage = this._make_on_message_function(this);\n",
       "\n",
       "    this.ondownload = ondownload;\n",
       "}\n",
       "\n",
       "mpl.figure.prototype._init_header = function() {\n",
       "    var titlebar = $(\n",
       "        '<div class=\"ui-dialog-titlebar ui-widget-header ui-corner-all ' +\n",
       "        'ui-helper-clearfix\"/>');\n",
       "    var titletext = $(\n",
       "        '<div class=\"ui-dialog-title\" style=\"width: 100%; ' +\n",
       "        'text-align: center; padding: 3px;\"/>');\n",
       "    titlebar.append(titletext)\n",
       "    this.root.append(titlebar);\n",
       "    this.header = titletext[0];\n",
       "}\n",
       "\n",
       "\n",
       "\n",
       "mpl.figure.prototype._canvas_extra_style = function(canvas_div) {\n",
       "\n",
       "}\n",
       "\n",
       "\n",
       "mpl.figure.prototype._root_extra_style = function(canvas_div) {\n",
       "\n",
       "}\n",
       "\n",
       "mpl.figure.prototype._init_canvas = function() {\n",
       "    var fig = this;\n",
       "\n",
       "    var canvas_div = $('<div/>');\n",
       "\n",
       "    canvas_div.attr('style', 'position: relative; clear: both; outline: 0');\n",
       "\n",
       "    function canvas_keyboard_event(event) {\n",
       "        return fig.key_event(event, event['data']);\n",
       "    }\n",
       "\n",
       "    canvas_div.keydown('key_press', canvas_keyboard_event);\n",
       "    canvas_div.keyup('key_release', canvas_keyboard_event);\n",
       "    this.canvas_div = canvas_div\n",
       "    this._canvas_extra_style(canvas_div)\n",
       "    this.root.append(canvas_div);\n",
       "\n",
       "    var canvas = $('<canvas/>');\n",
       "    canvas.addClass('mpl-canvas');\n",
       "    canvas.attr('style', \"left: 0; top: 0; z-index: 0; outline: 0\")\n",
       "\n",
       "    this.canvas = canvas[0];\n",
       "    this.context = canvas[0].getContext(\"2d\");\n",
       "\n",
       "    var backingStore = this.context.backingStorePixelRatio ||\n",
       "\tthis.context.webkitBackingStorePixelRatio ||\n",
       "\tthis.context.mozBackingStorePixelRatio ||\n",
       "\tthis.context.msBackingStorePixelRatio ||\n",
       "\tthis.context.oBackingStorePixelRatio ||\n",
       "\tthis.context.backingStorePixelRatio || 1;\n",
       "\n",
       "    mpl.ratio = (window.devicePixelRatio || 1) / backingStore;\n",
       "\n",
       "    var rubberband = $('<canvas/>');\n",
       "    rubberband.attr('style', \"position: absolute; left: 0; top: 0; z-index: 1;\")\n",
       "\n",
       "    var pass_mouse_events = true;\n",
       "\n",
       "    canvas_div.resizable({\n",
       "        start: function(event, ui) {\n",
       "            pass_mouse_events = false;\n",
       "        },\n",
       "        resize: function(event, ui) {\n",
       "            fig.request_resize(ui.size.width, ui.size.height);\n",
       "        },\n",
       "        stop: function(event, ui) {\n",
       "            pass_mouse_events = true;\n",
       "            fig.request_resize(ui.size.width, ui.size.height);\n",
       "        },\n",
       "    });\n",
       "\n",
       "    function mouse_event_fn(event) {\n",
       "        if (pass_mouse_events)\n",
       "            return fig.mouse_event(event, event['data']);\n",
       "    }\n",
       "\n",
       "    rubberband.mousedown('button_press', mouse_event_fn);\n",
       "    rubberband.mouseup('button_release', mouse_event_fn);\n",
       "    // Throttle sequential mouse events to 1 every 20ms.\n",
       "    rubberband.mousemove('motion_notify', mouse_event_fn);\n",
       "\n",
       "    rubberband.mouseenter('figure_enter', mouse_event_fn);\n",
       "    rubberband.mouseleave('figure_leave', mouse_event_fn);\n",
       "\n",
       "    canvas_div.on(\"wheel\", function (event) {\n",
       "        event = event.originalEvent;\n",
       "        event['data'] = 'scroll'\n",
       "        if (event.deltaY < 0) {\n",
       "            event.step = 1;\n",
       "        } else {\n",
       "            event.step = -1;\n",
       "        }\n",
       "        mouse_event_fn(event);\n",
       "    });\n",
       "\n",
       "    canvas_div.append(canvas);\n",
       "    canvas_div.append(rubberband);\n",
       "\n",
       "    this.rubberband = rubberband;\n",
       "    this.rubberband_canvas = rubberband[0];\n",
       "    this.rubberband_context = rubberband[0].getContext(\"2d\");\n",
       "    this.rubberband_context.strokeStyle = \"#000000\";\n",
       "\n",
       "    this._resize_canvas = function(width, height) {\n",
       "        // Keep the size of the canvas, canvas container, and rubber band\n",
       "        // canvas in synch.\n",
       "        canvas_div.css('width', width)\n",
       "        canvas_div.css('height', height)\n",
       "\n",
       "        canvas.attr('width', width * mpl.ratio);\n",
       "        canvas.attr('height', height * mpl.ratio);\n",
       "        canvas.attr('style', 'width: ' + width + 'px; height: ' + height + 'px;');\n",
       "\n",
       "        rubberband.attr('width', width);\n",
       "        rubberband.attr('height', height);\n",
       "    }\n",
       "\n",
       "    // Set the figure to an initial 600x600px, this will subsequently be updated\n",
       "    // upon first draw.\n",
       "    this._resize_canvas(600, 600);\n",
       "\n",
       "    // Disable right mouse context menu.\n",
       "    $(this.rubberband_canvas).bind(\"contextmenu\",function(e){\n",
       "        return false;\n",
       "    });\n",
       "\n",
       "    function set_focus () {\n",
       "        canvas.focus();\n",
       "        canvas_div.focus();\n",
       "    }\n",
       "\n",
       "    window.setTimeout(set_focus, 100);\n",
       "}\n",
       "\n",
       "mpl.figure.prototype._init_toolbar = function() {\n",
       "    var fig = this;\n",
       "\n",
       "    var nav_element = $('<div/>');\n",
       "    nav_element.attr('style', 'width: 100%');\n",
       "    this.root.append(nav_element);\n",
       "\n",
       "    // Define a callback function for later on.\n",
       "    function toolbar_event(event) {\n",
       "        return fig.toolbar_button_onclick(event['data']);\n",
       "    }\n",
       "    function toolbar_mouse_event(event) {\n",
       "        return fig.toolbar_button_onmouseover(event['data']);\n",
       "    }\n",
       "\n",
       "    for(var toolbar_ind in mpl.toolbar_items) {\n",
       "        var name = mpl.toolbar_items[toolbar_ind][0];\n",
       "        var tooltip = mpl.toolbar_items[toolbar_ind][1];\n",
       "        var image = mpl.toolbar_items[toolbar_ind][2];\n",
       "        var method_name = mpl.toolbar_items[toolbar_ind][3];\n",
       "\n",
       "        if (!name) {\n",
       "            // put a spacer in here.\n",
       "            continue;\n",
       "        }\n",
       "        var button = $('<button/>');\n",
       "        button.addClass('ui-button ui-widget ui-state-default ui-corner-all ' +\n",
       "                        'ui-button-icon-only');\n",
       "        button.attr('role', 'button');\n",
       "        button.attr('aria-disabled', 'false');\n",
       "        button.click(method_name, toolbar_event);\n",
       "        button.mouseover(tooltip, toolbar_mouse_event);\n",
       "\n",
       "        var icon_img = $('<span/>');\n",
       "        icon_img.addClass('ui-button-icon-primary ui-icon');\n",
       "        icon_img.addClass(image);\n",
       "        icon_img.addClass('ui-corner-all');\n",
       "\n",
       "        var tooltip_span = $('<span/>');\n",
       "        tooltip_span.addClass('ui-button-text');\n",
       "        tooltip_span.html(tooltip);\n",
       "\n",
       "        button.append(icon_img);\n",
       "        button.append(tooltip_span);\n",
       "\n",
       "        nav_element.append(button);\n",
       "    }\n",
       "\n",
       "    var fmt_picker_span = $('<span/>');\n",
       "\n",
       "    var fmt_picker = $('<select/>');\n",
       "    fmt_picker.addClass('mpl-toolbar-option ui-widget ui-widget-content');\n",
       "    fmt_picker_span.append(fmt_picker);\n",
       "    nav_element.append(fmt_picker_span);\n",
       "    this.format_dropdown = fmt_picker[0];\n",
       "\n",
       "    for (var ind in mpl.extensions) {\n",
       "        var fmt = mpl.extensions[ind];\n",
       "        var option = $(\n",
       "            '<option/>', {selected: fmt === mpl.default_extension}).html(fmt);\n",
       "        fmt_picker.append(option);\n",
       "    }\n",
       "\n",
       "    // Add hover states to the ui-buttons\n",
       "    $( \".ui-button\" ).hover(\n",
       "        function() { $(this).addClass(\"ui-state-hover\");},\n",
       "        function() { $(this).removeClass(\"ui-state-hover\");}\n",
       "    );\n",
       "\n",
       "    var status_bar = $('<span class=\"mpl-message\"/>');\n",
       "    nav_element.append(status_bar);\n",
       "    this.message = status_bar[0];\n",
       "}\n",
       "\n",
       "mpl.figure.prototype.request_resize = function(x_pixels, y_pixels) {\n",
       "    // Request matplotlib to resize the figure. Matplotlib will then trigger a resize in the client,\n",
       "    // which will in turn request a refresh of the image.\n",
       "    this.send_message('resize', {'width': x_pixels, 'height': y_pixels});\n",
       "}\n",
       "\n",
       "mpl.figure.prototype.send_message = function(type, properties) {\n",
       "    properties['type'] = type;\n",
       "    properties['figure_id'] = this.id;\n",
       "    this.ws.send(JSON.stringify(properties));\n",
       "}\n",
       "\n",
       "mpl.figure.prototype.send_draw_message = function() {\n",
       "    if (!this.waiting) {\n",
       "        this.waiting = true;\n",
       "        this.ws.send(JSON.stringify({type: \"draw\", figure_id: this.id}));\n",
       "    }\n",
       "}\n",
       "\n",
       "\n",
       "mpl.figure.prototype.handle_save = function(fig, msg) {\n",
       "    var format_dropdown = fig.format_dropdown;\n",
       "    var format = format_dropdown.options[format_dropdown.selectedIndex].value;\n",
       "    fig.ondownload(fig, format);\n",
       "}\n",
       "\n",
       "\n",
       "mpl.figure.prototype.handle_resize = function(fig, msg) {\n",
       "    var size = msg['size'];\n",
       "    if (size[0] != fig.canvas.width || size[1] != fig.canvas.height) {\n",
       "        fig._resize_canvas(size[0], size[1]);\n",
       "        fig.send_message(\"refresh\", {});\n",
       "    };\n",
       "}\n",
       "\n",
       "mpl.figure.prototype.handle_rubberband = function(fig, msg) {\n",
       "    var x0 = msg['x0'] / mpl.ratio;\n",
       "    var y0 = (fig.canvas.height - msg['y0']) / mpl.ratio;\n",
       "    var x1 = msg['x1'] / mpl.ratio;\n",
       "    var y1 = (fig.canvas.height - msg['y1']) / mpl.ratio;\n",
       "    x0 = Math.floor(x0) + 0.5;\n",
       "    y0 = Math.floor(y0) + 0.5;\n",
       "    x1 = Math.floor(x1) + 0.5;\n",
       "    y1 = Math.floor(y1) + 0.5;\n",
       "    var min_x = Math.min(x0, x1);\n",
       "    var min_y = Math.min(y0, y1);\n",
       "    var width = Math.abs(x1 - x0);\n",
       "    var height = Math.abs(y1 - y0);\n",
       "\n",
       "    fig.rubberband_context.clearRect(\n",
       "        0, 0, fig.canvas.width / mpl.ratio, fig.canvas.height / mpl.ratio);\n",
       "\n",
       "    fig.rubberband_context.strokeRect(min_x, min_y, width, height);\n",
       "}\n",
       "\n",
       "mpl.figure.prototype.handle_figure_label = function(fig, msg) {\n",
       "    // Updates the figure title.\n",
       "    fig.header.textContent = msg['label'];\n",
       "}\n",
       "\n",
       "mpl.figure.prototype.handle_cursor = function(fig, msg) {\n",
       "    var cursor = msg['cursor'];\n",
       "    switch(cursor)\n",
       "    {\n",
       "    case 0:\n",
       "        cursor = 'pointer';\n",
       "        break;\n",
       "    case 1:\n",
       "        cursor = 'default';\n",
       "        break;\n",
       "    case 2:\n",
       "        cursor = 'crosshair';\n",
       "        break;\n",
       "    case 3:\n",
       "        cursor = 'move';\n",
       "        break;\n",
       "    }\n",
       "    fig.rubberband_canvas.style.cursor = cursor;\n",
       "}\n",
       "\n",
       "mpl.figure.prototype.handle_message = function(fig, msg) {\n",
       "    fig.message.textContent = msg['message'];\n",
       "}\n",
       "\n",
       "mpl.figure.prototype.handle_draw = function(fig, msg) {\n",
       "    // Request the server to send over a new figure.\n",
       "    fig.send_draw_message();\n",
       "}\n",
       "\n",
       "mpl.figure.prototype.handle_image_mode = function(fig, msg) {\n",
       "    fig.image_mode = msg['mode'];\n",
       "}\n",
       "\n",
       "mpl.figure.prototype.updated_canvas_event = function() {\n",
       "    // Called whenever the canvas gets updated.\n",
       "    this.send_message(\"ack\", {});\n",
       "}\n",
       "\n",
       "// A function to construct a web socket function for onmessage handling.\n",
       "// Called in the figure constructor.\n",
       "mpl.figure.prototype._make_on_message_function = function(fig) {\n",
       "    return function socket_on_message(evt) {\n",
       "        if (evt.data instanceof Blob) {\n",
       "            /* FIXME: We get \"Resource interpreted as Image but\n",
       "             * transferred with MIME type text/plain:\" errors on\n",
       "             * Chrome.  But how to set the MIME type?  It doesn't seem\n",
       "             * to be part of the websocket stream */\n",
       "            evt.data.type = \"image/png\";\n",
       "\n",
       "            /* Free the memory for the previous frames */\n",
       "            if (fig.imageObj.src) {\n",
       "                (window.URL || window.webkitURL).revokeObjectURL(\n",
       "                    fig.imageObj.src);\n",
       "            }\n",
       "\n",
       "            fig.imageObj.src = (window.URL || window.webkitURL).createObjectURL(\n",
       "                evt.data);\n",
       "            fig.updated_canvas_event();\n",
       "            fig.waiting = false;\n",
       "            return;\n",
       "        }\n",
       "        else if (typeof evt.data === 'string' && evt.data.slice(0, 21) == \"data:image/png;base64\") {\n",
       "            fig.imageObj.src = evt.data;\n",
       "            fig.updated_canvas_event();\n",
       "            fig.waiting = false;\n",
       "            return;\n",
       "        }\n",
       "\n",
       "        var msg = JSON.parse(evt.data);\n",
       "        var msg_type = msg['type'];\n",
       "\n",
       "        // Call the  \"handle_{type}\" callback, which takes\n",
       "        // the figure and JSON message as its only arguments.\n",
       "        try {\n",
       "            var callback = fig[\"handle_\" + msg_type];\n",
       "        } catch (e) {\n",
       "            console.log(\"No handler for the '\" + msg_type + \"' message type: \", msg);\n",
       "            return;\n",
       "        }\n",
       "\n",
       "        if (callback) {\n",
       "            try {\n",
       "                // console.log(\"Handling '\" + msg_type + \"' message: \", msg);\n",
       "                callback(fig, msg);\n",
       "            } catch (e) {\n",
       "                console.log(\"Exception inside the 'handler_\" + msg_type + \"' callback:\", e, e.stack, msg);\n",
       "            }\n",
       "        }\n",
       "    };\n",
       "}\n",
       "\n",
       "// from http://stackoverflow.com/questions/1114465/getting-mouse-location-in-canvas\n",
       "mpl.findpos = function(e) {\n",
       "    //this section is from http://www.quirksmode.org/js/events_properties.html\n",
       "    var targ;\n",
       "    if (!e)\n",
       "        e = window.event;\n",
       "    if (e.target)\n",
       "        targ = e.target;\n",
       "    else if (e.srcElement)\n",
       "        targ = e.srcElement;\n",
       "    if (targ.nodeType == 3) // defeat Safari bug\n",
       "        targ = targ.parentNode;\n",
       "\n",
       "    // jQuery normalizes the pageX and pageY\n",
       "    // pageX,Y are the mouse positions relative to the document\n",
       "    // offset() returns the position of the element relative to the document\n",
       "    var x = e.pageX - $(targ).offset().left;\n",
       "    var y = e.pageY - $(targ).offset().top;\n",
       "\n",
       "    return {\"x\": x, \"y\": y};\n",
       "};\n",
       "\n",
       "/*\n",
       " * return a copy of an object with only non-object keys\n",
       " * we need this to avoid circular references\n",
       " * http://stackoverflow.com/a/24161582/3208463\n",
       " */\n",
       "function simpleKeys (original) {\n",
       "  return Object.keys(original).reduce(function (obj, key) {\n",
       "    if (typeof original[key] !== 'object')\n",
       "        obj[key] = original[key]\n",
       "    return obj;\n",
       "  }, {});\n",
       "}\n",
       "\n",
       "mpl.figure.prototype.mouse_event = function(event, name) {\n",
       "    var canvas_pos = mpl.findpos(event)\n",
       "\n",
       "    if (name === 'button_press')\n",
       "    {\n",
       "        this.canvas.focus();\n",
       "        this.canvas_div.focus();\n",
       "    }\n",
       "\n",
       "    var x = canvas_pos.x * mpl.ratio;\n",
       "    var y = canvas_pos.y * mpl.ratio;\n",
       "\n",
       "    this.send_message(name, {x: x, y: y, button: event.button,\n",
       "                             step: event.step,\n",
       "                             guiEvent: simpleKeys(event)});\n",
       "\n",
       "    /* This prevents the web browser from automatically changing to\n",
       "     * the text insertion cursor when the button is pressed.  We want\n",
       "     * to control all of the cursor setting manually through the\n",
       "     * 'cursor' event from matplotlib */\n",
       "    event.preventDefault();\n",
       "    return false;\n",
       "}\n",
       "\n",
       "mpl.figure.prototype._key_event_extra = function(event, name) {\n",
       "    // Handle any extra behaviour associated with a key event\n",
       "}\n",
       "\n",
       "mpl.figure.prototype.key_event = function(event, name) {\n",
       "\n",
       "    // Prevent repeat events\n",
       "    if (name == 'key_press')\n",
       "    {\n",
       "        if (event.which === this._key)\n",
       "            return;\n",
       "        else\n",
       "            this._key = event.which;\n",
       "    }\n",
       "    if (name == 'key_release')\n",
       "        this._key = null;\n",
       "\n",
       "    var value = '';\n",
       "    if (event.ctrlKey && event.which != 17)\n",
       "        value += \"ctrl+\";\n",
       "    if (event.altKey && event.which != 18)\n",
       "        value += \"alt+\";\n",
       "    if (event.shiftKey && event.which != 16)\n",
       "        value += \"shift+\";\n",
       "\n",
       "    value += 'k';\n",
       "    value += event.which.toString();\n",
       "\n",
       "    this._key_event_extra(event, name);\n",
       "\n",
       "    this.send_message(name, {key: value,\n",
       "                             guiEvent: simpleKeys(event)});\n",
       "    return false;\n",
       "}\n",
       "\n",
       "mpl.figure.prototype.toolbar_button_onclick = function(name) {\n",
       "    if (name == 'download') {\n",
       "        this.handle_save(this, null);\n",
       "    } else {\n",
       "        this.send_message(\"toolbar_button\", {name: name});\n",
       "    }\n",
       "};\n",
       "\n",
       "mpl.figure.prototype.toolbar_button_onmouseover = function(tooltip) {\n",
       "    this.message.textContent = tooltip;\n",
       "};\n",
       "mpl.toolbar_items = [[\"Home\", \"Reset original view\", \"fa fa-home icon-home\", \"home\"], [\"Back\", \"Back to previous view\", \"fa fa-arrow-left icon-arrow-left\", \"back\"], [\"Forward\", \"Forward to next view\", \"fa fa-arrow-right icon-arrow-right\", \"forward\"], [\"\", \"\", \"\", \"\"], [\"Pan\", \"Pan axes with left mouse, zoom with right\", \"fa fa-arrows icon-move\", \"pan\"], [\"Zoom\", \"Zoom to rectangle\", \"fa fa-square-o icon-check-empty\", \"zoom\"], [\"\", \"\", \"\", \"\"], [\"Download\", \"Download plot\", \"fa fa-floppy-o icon-save\", \"download\"]];\n",
       "\n",
       "mpl.extensions = [\"eps\", \"pdf\", \"png\", \"ps\", \"raw\", \"svg\"];\n",
       "\n",
       "mpl.default_extension = \"png\";var comm_websocket_adapter = function(comm) {\n",
       "    // Create a \"websocket\"-like object which calls the given IPython comm\n",
       "    // object with the appropriate methods. Currently this is a non binary\n",
       "    // socket, so there is still some room for performance tuning.\n",
       "    var ws = {};\n",
       "\n",
       "    ws.close = function() {\n",
       "        comm.close()\n",
       "    };\n",
       "    ws.send = function(m) {\n",
       "        //console.log('sending', m);\n",
       "        comm.send(m);\n",
       "    };\n",
       "    // Register the callback with on_msg.\n",
       "    comm.on_msg(function(msg) {\n",
       "        //console.log('receiving', msg['content']['data'], msg);\n",
       "        // Pass the mpl event to the overridden (by mpl) onmessage function.\n",
       "        ws.onmessage(msg['content']['data'])\n",
       "    });\n",
       "    return ws;\n",
       "}\n",
       "\n",
       "mpl.mpl_figure_comm = function(comm, msg) {\n",
       "    // This is the function which gets called when the mpl process\n",
       "    // starts-up an IPython Comm through the \"matplotlib\" channel.\n",
       "\n",
       "    var id = msg.content.data.id;\n",
       "    // Get hold of the div created by the display call when the Comm\n",
       "    // socket was opened in Python.\n",
       "    var element = $(\"#\" + id);\n",
       "    var ws_proxy = comm_websocket_adapter(comm)\n",
       "\n",
       "    function ondownload(figure, format) {\n",
       "        window.open(figure.imageObj.src);\n",
       "    }\n",
       "\n",
       "    var fig = new mpl.figure(id, ws_proxy,\n",
       "                           ondownload,\n",
       "                           element.get(0));\n",
       "\n",
       "    // Call onopen now - mpl needs it, as it is assuming we've passed it a real\n",
       "    // web socket which is closed, not our websocket->open comm proxy.\n",
       "    ws_proxy.onopen();\n",
       "\n",
       "    fig.parent_element = element.get(0);\n",
       "    fig.cell_info = mpl.find_output_cell(\"<div id='\" + id + \"'></div>\");\n",
       "    if (!fig.cell_info) {\n",
       "        console.error(\"Failed to find cell for figure\", id, fig);\n",
       "        return;\n",
       "    }\n",
       "\n",
       "    var output_index = fig.cell_info[2]\n",
       "    var cell = fig.cell_info[0];\n",
       "\n",
       "};\n",
       "\n",
       "mpl.figure.prototype.handle_close = function(fig, msg) {\n",
       "    var width = fig.canvas.width/mpl.ratio\n",
       "    fig.root.unbind('remove')\n",
       "\n",
       "    // Update the output cell to use the data from the current canvas.\n",
       "    fig.push_to_output();\n",
       "    var dataURL = fig.canvas.toDataURL();\n",
       "    // Re-enable the keyboard manager in IPython - without this line, in FF,\n",
       "    // the notebook keyboard shortcuts fail.\n",
       "    IPython.keyboard_manager.enable()\n",
       "    $(fig.parent_element).html('<img src=\"' + dataURL + '\" width=\"' + width + '\">');\n",
       "    fig.close_ws(fig, msg);\n",
       "}\n",
       "\n",
       "mpl.figure.prototype.close_ws = function(fig, msg){\n",
       "    fig.send_message('closing', msg);\n",
       "    // fig.ws.close()\n",
       "}\n",
       "\n",
       "mpl.figure.prototype.push_to_output = function(remove_interactive) {\n",
       "    // Turn the data on the canvas into data in the output cell.\n",
       "    var width = this.canvas.width/mpl.ratio\n",
       "    var dataURL = this.canvas.toDataURL();\n",
       "    this.cell_info[1]['text/html'] = '<img src=\"' + dataURL + '\" width=\"' + width + '\">';\n",
       "}\n",
       "\n",
       "mpl.figure.prototype.updated_canvas_event = function() {\n",
       "    // Tell IPython that the notebook contents must change.\n",
       "    IPython.notebook.set_dirty(true);\n",
       "    this.send_message(\"ack\", {});\n",
       "    var fig = this;\n",
       "    // Wait a second, then push the new image to the DOM so\n",
       "    // that it is saved nicely (might be nice to debounce this).\n",
       "    setTimeout(function () { fig.push_to_output() }, 1000);\n",
       "}\n",
       "\n",
       "mpl.figure.prototype._init_toolbar = function() {\n",
       "    var fig = this;\n",
       "\n",
       "    var nav_element = $('<div/>');\n",
       "    nav_element.attr('style', 'width: 100%');\n",
       "    this.root.append(nav_element);\n",
       "\n",
       "    // Define a callback function for later on.\n",
       "    function toolbar_event(event) {\n",
       "        return fig.toolbar_button_onclick(event['data']);\n",
       "    }\n",
       "    function toolbar_mouse_event(event) {\n",
       "        return fig.toolbar_button_onmouseover(event['data']);\n",
       "    }\n",
       "\n",
       "    for(var toolbar_ind in mpl.toolbar_items){\n",
       "        var name = mpl.toolbar_items[toolbar_ind][0];\n",
       "        var tooltip = mpl.toolbar_items[toolbar_ind][1];\n",
       "        var image = mpl.toolbar_items[toolbar_ind][2];\n",
       "        var method_name = mpl.toolbar_items[toolbar_ind][3];\n",
       "\n",
       "        if (!name) { continue; };\n",
       "\n",
       "        var button = $('<button class=\"btn btn-default\" href=\"#\" title=\"' + name + '\"><i class=\"fa ' + image + ' fa-lg\"></i></button>');\n",
       "        button.click(method_name, toolbar_event);\n",
       "        button.mouseover(tooltip, toolbar_mouse_event);\n",
       "        nav_element.append(button);\n",
       "    }\n",
       "\n",
       "    // Add the status bar.\n",
       "    var status_bar = $('<span class=\"mpl-message\" style=\"text-align:right; float: right;\"/>');\n",
       "    nav_element.append(status_bar);\n",
       "    this.message = status_bar[0];\n",
       "\n",
       "    // Add the close button to the window.\n",
       "    var buttongrp = $('<div class=\"btn-group inline pull-right\"></div>');\n",
       "    var button = $('<button class=\"btn btn-mini btn-primary\" href=\"#\" title=\"Stop Interaction\"><i class=\"fa fa-power-off icon-remove icon-large\"></i></button>');\n",
       "    button.click(function (evt) { fig.handle_close(fig, {}); } );\n",
       "    button.mouseover('Stop Interaction', toolbar_mouse_event);\n",
       "    buttongrp.append(button);\n",
       "    var titlebar = this.root.find($('.ui-dialog-titlebar'));\n",
       "    titlebar.prepend(buttongrp);\n",
       "}\n",
       "\n",
       "mpl.figure.prototype._root_extra_style = function(el){\n",
       "    var fig = this\n",
       "    el.on(\"remove\", function(){\n",
       "\tfig.close_ws(fig, {});\n",
       "    });\n",
       "}\n",
       "\n",
       "mpl.figure.prototype._canvas_extra_style = function(el){\n",
       "    // this is important to make the div 'focusable\n",
       "    el.attr('tabindex', 0)\n",
       "    // reach out to IPython and tell the keyboard manager to turn it's self\n",
       "    // off when our div gets focus\n",
       "\n",
       "    // location in version 3\n",
       "    if (IPython.notebook.keyboard_manager) {\n",
       "        IPython.notebook.keyboard_manager.register_events(el);\n",
       "    }\n",
       "    else {\n",
       "        // location in version 2\n",
       "        IPython.keyboard_manager.register_events(el);\n",
       "    }\n",
       "\n",
       "}\n",
       "\n",
       "mpl.figure.prototype._key_event_extra = function(event, name) {\n",
       "    var manager = IPython.notebook.keyboard_manager;\n",
       "    if (!manager)\n",
       "        manager = IPython.keyboard_manager;\n",
       "\n",
       "    // Check for shift+enter\n",
       "    if (event.shiftKey && event.which == 13) {\n",
       "        this.canvas_div.blur();\n",
       "        // select the cell after this one\n",
       "        var index = IPython.notebook.find_cell_index(this.cell_info[0]);\n",
       "        IPython.notebook.select(index + 1);\n",
       "    }\n",
       "}\n",
       "\n",
       "mpl.figure.prototype.handle_save = function(fig, msg) {\n",
       "    fig.ondownload(fig, null);\n",
       "}\n",
       "\n",
       "\n",
       "mpl.find_output_cell = function(html_output) {\n",
       "    // Return the cell and output element which can be found *uniquely* in the notebook.\n",
       "    // Note - this is a bit hacky, but it is done because the \"notebook_saving.Notebook\"\n",
       "    // IPython event is triggered only after the cells have been serialised, which for\n",
       "    // our purposes (turning an active figure into a static one), is too late.\n",
       "    var cells = IPython.notebook.get_cells();\n",
       "    var ncells = cells.length;\n",
       "    for (var i=0; i<ncells; i++) {\n",
       "        var cell = cells[i];\n",
       "        if (cell.cell_type === 'code'){\n",
       "            for (var j=0; j<cell.output_area.outputs.length; j++) {\n",
       "                var data = cell.output_area.outputs[j];\n",
       "                if (data.data) {\n",
       "                    // IPython >= 3 moved mimebundle to data attribute of output\n",
       "                    data = data.data;\n",
       "                }\n",
       "                if (data['text/html'] == html_output) {\n",
       "                    return [cell, data, j];\n",
       "                }\n",
       "            }\n",
       "        }\n",
       "    }\n",
       "}\n",
       "\n",
       "// Register the function which deals with the matplotlib target/channel.\n",
       "// The kernel may be null if the page has been refreshed.\n",
       "if (IPython.notebook.kernel != null) {\n",
       "    IPython.notebook.kernel.comm_manager.register_target('matplotlib', mpl.mpl_figure_comm);\n",
       "}\n"
      ],
      "text/plain": [
       "<IPython.core.display.Javascript object>"
      ]
     },
     "metadata": {},
     "output_type": "display_data"
    },
    {
     "data": {
      "text/html": [
       "<img src=\"data:image/png;base64,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\" width=\"700\">"
      ],
      "text/plain": [
       "<IPython.core.display.HTML object>"
      ]
     },
     "metadata": {},
     "output_type": "display_data"
    },
    {
     "data": {
      "application/vnd.jupyter.widget-view+json": {
       "model_id": "c877ce570a0f4094b07e987ef54676c3",
       "version_major": 2,
       "version_minor": 0
      },
      "text/plain": [
       "interactive(children=(IntSlider(value=16, description='L', max=128, min=2), FloatSlider(value=0.5, description…"
      ]
     },
     "metadata": {},
     "output_type": "display_data"
    }
   ],
   "source": [
    "h_n=lambdify((wc_s,n_s,L_s), h_n_s, 'numpy')\n",
    "\n",
    "fig1, (ax1, ax2,ax3) = plt.subplots(3, 1, figsize=(7,7))\n",
    "fig1.suptitle('FIR Rectangular Window', fontsize=16)\n",
    "plt.subplots_adjust(wspace=0.3)\n",
    "\n",
    "\n",
    "@interact(L=widgets.IntSlider(min=2, max=128, step=1, value=16), \n",
    "          wc=widgets.FloatSlider(min=0.1, max=1, step=0.01, value=0.5), unwrap=False)\n",
    "def plot_h(L=16, wc=0.5,unwrap=False):\n",
    "    wc=wc*np.pi\n",
    "    n=np.arange(L)\n",
    "    n_d=n_d_s.subs(L_s,L).evalf()\n",
    "    if L%2==0:\n",
    "        h=h_n(wc,n,L)\n",
    "    else:\n",
    "        h=np.ones(L)\n",
    "        for i in range(L):\n",
    "            if i==n_d:\n",
    "                h[i]=wc/np.pi\n",
    "            else:\n",
    "                h[i]=h_n(wc,i,L)\n",
    "    ax1.clear()\n",
    "    ax1.stem(h, use_line_collection=True)\n",
    "    ax1.plot(h,'r--',alpha=0.4)\n",
    "    ax1.set_title(r'Impulse Response')\n",
    "    ax1.grid()\n",
    "    \n",
    "    omega, H =signal.freqz(h,worN=2048)\n",
    "    H[np.abs(H) < np.finfo(float).eps] = np.finfo(float).eps\n",
    "    H_dB=20*np.log10(np.abs(H))\n",
    "    p3dB=-3\n",
    "    p3dBIndex_down= np.max(np.where(H_dB >= p3dB))\n",
    "    p3dBIndex_up= np.min(np.where(H_dB <= p3dB))\n",
    "    print(H_dB[p3dBIndex_down])\n",
    "    print(H_dB[p3dBIndex_up])\n",
    "    if (np.abs(p3dB-H_dB[p3dBIndex_down]) >= np.abs(p3dB-H_dB[p3dBIndex_up])):\n",
    "        p3dBIndex=p3dBIndex_up\n",
    "    else:\n",
    "        p3dBIndex=p3dBIndex_down\n",
    "    wp=omega[p3dBIndex]\n",
    "    Hp=H_dB[p3dBIndex]\n",
    "    max_peak_ind=np.argmax(H_dB)\n",
    "    \n",
    "    ax2.clear()\n",
    "    ax2.plot(omega, H_dB)\n",
    "    ax2.plot(omega[max_peak_ind], H_dB[max_peak_ind],'go')\n",
    "    ax2.plot((0, omega[max_peak_ind]), (H_dB[max_peak_ind], H_dB[max_peak_ind]), 'k--',alpha=0.5) \n",
    "    ax2.plot((omega[max_peak_ind], omega[max_peak_ind]), (-80, H_dB[max_peak_ind]), 'k--',alpha=0.5)\n",
    "    ax2.annotate('$\\omega_{{peak}}$={:.2f}$\\pi$,{:.2f} dB'.format(omega[max_peak_ind]/np.pi,H_dB[max_peak_ind]), \n",
    "                 xy=(omega[max_peak_ind],H_dB[max_peak_ind]), xytext=(omega[max_peak_ind]+0.15*np.pi, 0),\n",
    "            arrowprops=dict(facecolor='black', shrink=0.02, width=1, headwidth=4))\n",
    "    ax2.plot(wp, Hp,'go')\n",
    "    ax2.plot((0, wp), (Hp, Hp), 'k--', alpha=0.5) \n",
    "    ax2.plot((wp, wp), (-80, Hp), 'k--',alpha=0.5)\n",
    "    ax2.set_ylabel(r'Magnitude [dB]')\n",
    "    ax2.grid()\n",
    "    ax2.set_ylim((-60,H.max()+5))\n",
    "    ax2.xaxis.set_major_formatter(FuncFormatter(lambda val,pos: '{:.2f}$\\pi$'.format(val/np.pi) if val !=0 else '0'))\n",
    "    ax2.xaxis.set_major_locator(MultipleLocator(base=0.25*np.pi))\n",
    "    ax2.annotate(r'$\\omega_{{-3dB}}$={:.2f}$\\pi$,{:.2f} dB'.format(wp/np.pi,Hp), xy=(wp, Hp), xytext=(wp+0.15*np.pi, -10),\n",
    "            arrowprops=dict(facecolor='black', shrink=0.02, width=1, headwidth=4),)\n",
    "    if L!=2:\n",
    "        side_lobe=argrelextrema(np.abs(H[p3dBIndex:]), np.greater)[0][0]+p3dBIndex\n",
    "        ax2.plot((0, omega[-1]),(H_dB[side_lobe],H_dB[side_lobe]), 'k--',alpha=0.5) \n",
    "        ax2.annotate(r'$\\omega$={:.2f}$\\pi$, {:.2f}dB'.format(omega[side_lobe]/np.pi,H_dB[side_lobe]), \n",
    "                     xy=(omega[side_lobe], H_dB[side_lobe]), xytext=(0, -40),\n",
    "                    arrowprops=dict(facecolor='black', shrink=0.02, width=1, headwidth=4),)\n",
    "        ax2.plot(omega[side_lobe], H_dB[side_lobe],'go')\n",
    "        \n",
    "    ax3.clear()\n",
    "    phase=np.angle(H, deg=False)\n",
    "    if unwrap:\n",
    "        phase=np.unwrap(phase)\n",
    "        print('Delay={:.2f}'.format(phase[p3dBIndex]/wp))\n",
    "    ax3.plot(omega,phase)\n",
    "    ax3.xaxis.set_major_formatter(FuncFormatter(lambda val,pos: '{:.2f}$\\pi$'.format(val/np.pi) if val !=0 else '0'))\n",
    "    ax3.xaxis.set_major_locator(MultipleLocator(base=0.25*np.pi))\n",
    "    ax3.grid(True)\n",
    "    ax3.set_xlabel(r'$\\omega$ [rad/sample]')\n",
    "    ax3.set_ylabel(r'Phase')\n",
    "    ax3.plot(wp, phase[p3dBIndex],'go')\n",
    "    ax3.annotate(r'$\\omega$={:.2f}$\\pi$, {:.2f}'.format(wp/np.pi,phase[p3dBIndex]), \n",
    "                     xy=(wp, phase[p3dBIndex]), xytext=(0, -1),\n",
    "                    arrowprops=dict(facecolor='black', shrink=0.02, width=1, headwidth=4),)\n",
    "    "
   ]
  },
  {
   "cell_type": "markdown",
   "metadata": {
    "slideshow": {
     "slide_type": "-"
    }
   },
   "source": [
    "Now assume we would like to have a filter length of $L=16$. Then our delay to make the resulting filter causal is $n_d=\\dfrac{(L-1)}{2}=7.5$.\n",
    "Hence our filter becomes:\n",
    "\n",
    "$$\\large\n",
    "h(n)=\\frac{sin(\\omega_c(n-7.5))}{\\pi(n-7.5)} \\text{for n=0,...,15.}$$\n",
    "\n",
    "This is now our resulting causal FIR filter with a rectangular window function.\n"
   ]
  },
  {
   "cell_type": "markdown",
   "metadata": {
    "slideshow": {
     "slide_type": "-"
    }
   },
   "source": [
    "The pass band has ripples of about +/- 0.5 dB. 0.5 dB corresponds to a factor of $10^{\\frac{0.5}{20}}\\approx 1.06$, which means only 6% over- or under-shoot, and is usually okay.\n",
    "\n",
    "But, here we can also see that this filter has maybe -10 dB attenuation at normalized frequency $0.5 \\cdot \\pi$, and the first side lobe has only about -20 dB attenuation. Hence it does not satisfy or requirement of at least -60 dB attenuation starting at normalized frequency $0.5 \\cdot \\pi$.\n",
    "\n",
    "For the phase plot: We have a delay of $n_d=7.5$ with our filter. Since this is a so-called linear phase filter, we expect the phase to be $-7.5\\cdot \\omega$. We can verify this in our plot, for instance at frequency $\\omega=0.1\\cdot \\pi$, in our plot at x-axis 0.1. In Degrees we obtain $7.5\\cdot 0.1\\cdot\\pi\\cdot \\frac{180}{\\pi}=135$. This is what we indeed roughly observe in the plot.\n",
    "\n",
    "\n",
    "We now have a filter with the **minimum squared error** in comparison with our given ideal. But is this really what we like to have?\n",
    "\n",
    "The problem that we get is called **“Gibbs Phenomenon”**. It says that the error appears as ripples along the magnitude of the pass band and the stop band. The interesting part is, that the **ripples** near the pass band and the stop band edge **don’t become smaller** as L becomes larger (smaller error in the approximation), but they **only become more narrow!** This is the result of **convolving** our ideal frequency response with the **sinc function** from the rectangular window. This sinc function only becomes narrower as we increase its length L, but the **height** of its **ripples stays** the same.\n",
    "\n",
    "This means, the **maximum error** that we obtain does not become smaller as we increase L! (which is bad)."
   ]
  },
  {
   "cell_type": "markdown",
   "metadata": {
    "slideshow": {
     "slide_type": "-"
    }
   },
   "source": [
    "**Observe:** The ripple size near the pass-band and stop-band edge only becomes more narrow (hence reduced area and hence reduced quadratic error), but their **height does not become smaller** with increasing L. Here they always stay at aroun 0.1 in the stop-band, which corresponds to only about -20 dB! (Which would not be sufficiente in our aliasing filter example.)\n",
    "\n",
    "To see how the Gibbs Phenomenon results, we can take a look at our scheme in the frequency domain: \n",
    "\n",
    "In principle we multiplied our ideal impulse response with the rectangular window. In the frequency domain, this means a **convolution of the ideal frequency response** (with a phase change through the delay  $𝑛_𝑑$ ) with the **frequency response of the rectangular window**. The latter is a narrow sinc function, with corresponding ripples to the sides of its main lobe. And those ripples are what shows up as Gibbs Phenomenon. If we make our window longer (L larger), the sinc function becomes more narrow, but the height of the ripples does not decrease, but stays constant!\n",
    "\n",
    "Actually in most applications, what we want is not minimizing the quadratic error, but **minimizing the maximum error**! Basically, we chose the **wrong error measure.**\n",
    "\n",
    "This also suggests a modification to lower the height of the ripples. Instead of a rectangular window, we can take **alternative windows**, which have lower ripples in the frequency domain.\n",
    "\n",
    "Commonly used windows are the so-called raised cosine or the sine windows."
   ]
  }
 ],
 "metadata": {
  "kernelspec": {
   "display_name": "Python 3",
   "language": "python",
   "name": "python3"
  },
  "language_info": {
   "codemirror_mode": {
    "name": "ipython",
    "version": 3
   },
   "file_extension": ".py",
   "mimetype": "text/x-python",
   "name": "python",
   "nbconvert_exporter": "python",
   "pygments_lexer": "ipython3",
   "version": "3.7.6"
  },
  "widgets": {
   "application/vnd.jupyter.widget-state+json": {
    "state": {
     "0029500d285347cea960cae032e0a9d8": {
      "model_module": "@jupyter-widgets/base",
      "model_module_version": "1.2.0",
      "model_name": "LayoutModel",
      "state": {}
     },
     "00dbcd5675a748ef95f93d94efc2c287": {
      "model_module": "@jupyter-widgets/base",
      "model_module_version": "1.2.0",
      "model_name": "LayoutModel",
      "state": {}
     },
     "0356272802724c91961a212e00758da4": {
      "model_module": "@jupyter-widgets/base",
      "model_module_version": "1.2.0",
      "model_name": "LayoutModel",
      "state": {}
     },
     "03f7d15dabf94028be0ce784a72870dc": {
      "model_module": "@jupyter-widgets/base",
      "model_module_version": "1.2.0",
      "model_name": "LayoutModel",
      "state": {}
     },
     "05be72cf936d4ea5b04d7a79c8f036df": {
      "model_module": "@jupyter-widgets/controls",
      "model_module_version": "1.5.0",
      "model_name": "VBoxModel",
      "state": {
       "_dom_classes": [
        "widget-interact"
       ],
       "children": [
        "IPY_MODEL_f3d7a398669e492d93d7ed9abc2ea757",
        "IPY_MODEL_916401e8db3c4c09b58fae8d1fe823c3",
        "IPY_MODEL_48bae7a82391411f9d6d12791d8610b6",
        "IPY_MODEL_6a8662949af54cabbdf270f5bc9b950b"
       ],
       "layout": "IPY_MODEL_a6481be1425d46e5b5abf1b52e73ce97"
      }
     },
     "08e5a1586b1641a9961eebd6d3d85b60": {
      "model_module": "@jupyter-widgets/controls",
      "model_module_version": "1.5.0",
      "model_name": "VBoxModel",
      "state": {
       "_dom_classes": [
        "widget-interact"
       ],
       "children": [
        "IPY_MODEL_0ce78217e62243d9afa7d902e0b4c566",
        "IPY_MODEL_2bb6471882fa41a19900178bf91012e8",
        "IPY_MODEL_5dcf8c760acf4659a1da7dec20448e2e",
        "IPY_MODEL_0b304f0b5b6548329a5089a517d6a612"
       ],
       "layout": "IPY_MODEL_d63802a277e14da09213d828cb80963f"
      }
     },
     "0970a48ffe54495d9cbd42c3f3ab4d6c": {
      "model_module": "@jupyter-widgets/controls",
      "model_module_version": "1.5.0",
      "model_name": "IntSliderModel",
      "state": {
       "description": "L",
       "layout": "IPY_MODEL_5ff41e6d45694fb8812178d014ceeb97",
       "max": 128,
       "min": 2,
       "style": "IPY_MODEL_d946add282394b1d94bd524837c96b45",
       "value": 31
      }
     },
     "0b304f0b5b6548329a5089a517d6a612": {
      "model_module": "@jupyter-widgets/output",
      "model_module_version": "1.0.0",
      "model_name": "OutputModel",
      "state": {
       "layout": "IPY_MODEL_8727619714e3420ebb4d6e54edd75c9d",
       "outputs": [
        {
         "name": "stdout",
         "output_type": "stream",
         "text": "-2.986324857901867\n-3.0322753864458294\n"
        },
        {
         "ename": "TypeError",
         "evalue": "angle() got an unexpected keyword argument 'degree'",
         "output_type": "error",
         "traceback": [
          "\u001b[1;31m---------------------------------------------------------------------------\u001b[0m",
          "\u001b[1;31mTypeError\u001b[0m                                 Traceback (most recent call last)",
          "\u001b[1;32mD:\\Anaconda3\\envs\\TU_Tutorials\\lib\\site-packages\\ipywidgets\\widgets\\interaction.py\u001b[0m in \u001b[0;36mupdate\u001b[1;34m(self, *args)\u001b[0m\n\u001b[0;32m    254\u001b[0m                     \u001b[0mvalue\u001b[0m \u001b[1;33m=\u001b[0m \u001b[0mwidget\u001b[0m\u001b[1;33m.\u001b[0m\u001b[0mget_interact_value\u001b[0m\u001b[1;33m(\u001b[0m\u001b[1;33m)\u001b[0m\u001b[1;33m\u001b[0m\u001b[1;33m\u001b[0m\u001b[0m\n\u001b[0;32m    255\u001b[0m                     \u001b[0mself\u001b[0m\u001b[1;33m.\u001b[0m\u001b[0mkwargs\u001b[0m\u001b[1;33m[\u001b[0m\u001b[0mwidget\u001b[0m\u001b[1;33m.\u001b[0m\u001b[0m_kwarg\u001b[0m\u001b[1;33m]\u001b[0m \u001b[1;33m=\u001b[0m \u001b[0mvalue\u001b[0m\u001b[1;33m\u001b[0m\u001b[1;33m\u001b[0m\u001b[0m\n\u001b[1;32m--> 256\u001b[1;33m                 \u001b[0mself\u001b[0m\u001b[1;33m.\u001b[0m\u001b[0mresult\u001b[0m \u001b[1;33m=\u001b[0m \u001b[0mself\u001b[0m\u001b[1;33m.\u001b[0m\u001b[0mf\u001b[0m\u001b[1;33m(\u001b[0m\u001b[1;33m**\u001b[0m\u001b[0mself\u001b[0m\u001b[1;33m.\u001b[0m\u001b[0mkwargs\u001b[0m\u001b[1;33m)\u001b[0m\u001b[1;33m\u001b[0m\u001b[1;33m\u001b[0m\u001b[0m\n\u001b[0m\u001b[0;32m    257\u001b[0m                 \u001b[0mshow_inline_matplotlib_plots\u001b[0m\u001b[1;33m(\u001b[0m\u001b[1;33m)\u001b[0m\u001b[1;33m\u001b[0m\u001b[1;33m\u001b[0m\u001b[0m\n\u001b[0;32m    258\u001b[0m                 \u001b[1;32mif\u001b[0m \u001b[0mself\u001b[0m\u001b[1;33m.\u001b[0m\u001b[0mauto_display\u001b[0m \u001b[1;32mand\u001b[0m \u001b[0mself\u001b[0m\u001b[1;33m.\u001b[0m\u001b[0mresult\u001b[0m \u001b[1;32mis\u001b[0m \u001b[1;32mnot\u001b[0m \u001b[1;32mNone\u001b[0m\u001b[1;33m:\u001b[0m\u001b[1;33m\u001b[0m\u001b[1;33m\u001b[0m\u001b[0m\n",
          "\u001b[1;32m<ipython-input-7-59ac1ab402f1>\u001b[0m in \u001b[0;36mplot_h\u001b[1;34m(L, wc, unwrap)\u001b[0m\n\u001b[0;32m     68\u001b[0m \u001b[1;33m\u001b[0m\u001b[0m\n\u001b[0;32m     69\u001b[0m     \u001b[0max3\u001b[0m\u001b[1;33m.\u001b[0m\u001b[0mclear\u001b[0m\u001b[1;33m(\u001b[0m\u001b[1;33m)\u001b[0m\u001b[1;33m\u001b[0m\u001b[1;33m\u001b[0m\u001b[0m\n\u001b[1;32m---> 70\u001b[1;33m     \u001b[0mphase\u001b[0m\u001b[1;33m=\u001b[0m\u001b[0mnp\u001b[0m\u001b[1;33m.\u001b[0m\u001b[0mangle\u001b[0m\u001b[1;33m(\u001b[0m\u001b[0mH\u001b[0m\u001b[1;33m,\u001b[0m \u001b[0mdegree\u001b[0m\u001b[1;33m=\u001b[0m\u001b[1;32mTrue\u001b[0m\u001b[1;33m)\u001b[0m\u001b[1;33m\u001b[0m\u001b[1;33m\u001b[0m\u001b[0m\n\u001b[0m\u001b[0;32m     71\u001b[0m     \u001b[1;32mif\u001b[0m \u001b[0munwrap\u001b[0m\u001b[1;33m:\u001b[0m\u001b[1;33m\u001b[0m\u001b[1;33m\u001b[0m\u001b[0m\n\u001b[0;32m     72\u001b[0m         \u001b[0mphase\u001b[0m\u001b[1;33m=\u001b[0m\u001b[0mnp\u001b[0m\u001b[1;33m.\u001b[0m\u001b[0munwrap\u001b[0m\u001b[1;33m(\u001b[0m\u001b[0mphase\u001b[0m\u001b[1;33m)\u001b[0m\u001b[1;33m\u001b[0m\u001b[1;33m\u001b[0m\u001b[0m\n",
          "\u001b[1;31mTypeError\u001b[0m: angle() got an unexpected keyword argument 'degree'"
         ]
        }
       ]
      }
     },
     "0ce78217e62243d9afa7d902e0b4c566": {
      "model_module": "@jupyter-widgets/controls",
      "model_module_version": "1.5.0",
      "model_name": "IntSliderModel",
      "state": {
       "description": "L",
       "layout": "IPY_MODEL_5d9e6bb9b35741ae8dd8822c7c2ec827",
       "max": 128,
       "min": 2,
       "style": "IPY_MODEL_b8ea2825e9104823ba3338439df90b21",
       "value": 16
      }
     },
     "0ebf19ba64a2445182602e0fe7a7ee0e": {
      "model_module": "@jupyter-widgets/controls",
      "model_module_version": "1.5.0",
      "model_name": "DescriptionStyleModel",
      "state": {
       "description_width": ""
      }
     },
     "0f10bf4662bd4c95810847e24fbeafa6": {
      "model_module": "@jupyter-widgets/controls",
      "model_module_version": "1.5.0",
      "model_name": "DescriptionStyleModel",
      "state": {
       "description_width": ""
      }
     },
     "10858c30ff644b75bedb13c9aaa8e86a": {
      "model_module": "@jupyter-widgets/base",
      "model_module_version": "1.2.0",
      "model_name": "LayoutModel",
      "state": {}
     },
     "144e9bb694ff4c2b974520c7b8a3a9c6": {
      "model_module": "@jupyter-widgets/controls",
      "model_module_version": "1.5.0",
      "model_name": "SliderStyleModel",
      "state": {
       "description_width": ""
      }
     },
     "14e90ac533cd49cdaaaeb62cbd0fa9bc": {
      "model_module": "@jupyter-widgets/base",
      "model_module_version": "1.2.0",
      "model_name": "LayoutModel",
      "state": {}
     },
     "17fa56dfb7db4e159a57ca64a75fb7fb": {
      "model_module": "@jupyter-widgets/controls",
      "model_module_version": "1.5.0",
      "model_name": "SliderStyleModel",
      "state": {
       "description_width": ""
      }
     },
     "1834df36879940888884860cb2c266af": {
      "model_module": "@jupyter-widgets/base",
      "model_module_version": "1.2.0",
      "model_name": "LayoutModel",
      "state": {}
     },
     "192e0690eed54916b10710a129e9c495": {
      "model_module": "@jupyter-widgets/base",
      "model_module_version": "1.2.0",
      "model_name": "LayoutModel",
      "state": {}
     },
     "1af02d515cf44f19aaca78877f88661c": {
      "model_module": "@jupyter-widgets/controls",
      "model_module_version": "1.5.0",
      "model_name": "VBoxModel",
      "state": {
       "_dom_classes": [
        "widget-interact"
       ],
       "children": [
        "IPY_MODEL_2f5f2ecd932f4fcebb1b8931495c81e1",
        "IPY_MODEL_990358533027449aac97876b636eea58",
        "IPY_MODEL_de54a3d6a83746bdbdf977b33454204a"
       ],
       "layout": "IPY_MODEL_49f349a9156a445da42980546de95da9"
      }
     },
     "1b20b14c69214d0dac0decfe18d1e152": {
      "model_module": "@jupyter-widgets/output",
      "model_module_version": "1.0.0",
      "model_name": "OutputModel",
      "state": {
       "layout": "IPY_MODEL_6ce5ebf11b33486b9d9f803cfea5dfea"
      }
     },
     "1d210e98870d415c8d819016e2ec1501": {
      "model_module": "@jupyter-widgets/base",
      "model_module_version": "1.2.0",
      "model_name": "LayoutModel",
      "state": {}
     },
     "1e61a648790d4db0a264f0664360b643": {
      "model_module": "@jupyter-widgets/controls",
      "model_module_version": "1.5.0",
      "model_name": "FloatSliderModel",
      "state": {
       "description": "wc",
       "layout": "IPY_MODEL_fa41abfd3f1b4358a38852f7e9b79b4d",
       "max": 1,
       "min": 0.1,
       "step": 0.01,
       "style": "IPY_MODEL_7b18674955ad40388c45a5bb5e1907e7",
       "value": 0.5
      }
     },
     "2160fccd15774970af84802719367788": {
      "model_module": "@jupyter-widgets/base",
      "model_module_version": "1.2.0",
      "model_name": "LayoutModel",
      "state": {}
     },
     "229f46dbb5594226bb80908d9bd97617": {
      "model_module": "@jupyter-widgets/base",
      "model_module_version": "1.2.0",
      "model_name": "LayoutModel",
      "state": {}
     },
     "2488a7b125004931a8f11c877d698119": {
      "model_module": "@jupyter-widgets/base",
      "model_module_version": "1.2.0",
      "model_name": "LayoutModel",
      "state": {}
     },
     "2803a907927946ea9895b008c55df0e9": {
      "model_module": "@jupyter-widgets/base",
      "model_module_version": "1.2.0",
      "model_name": "LayoutModel",
      "state": {}
     },
     "290a6bc604c84cc1abc5a41f065893a0": {
      "model_module": "@jupyter-widgets/controls",
      "model_module_version": "1.5.0",
      "model_name": "IntSliderModel",
      "state": {
       "description": "L",
       "layout": "IPY_MODEL_ae855c0eeb374b7eaad889676d4bae73",
       "max": 128,
       "min": 2,
       "style": "IPY_MODEL_9c1f955f51234fee85275b0b893da03d",
       "value": 11
      }
     },
     "2bb6471882fa41a19900178bf91012e8": {
      "model_module": "@jupyter-widgets/controls",
      "model_module_version": "1.5.0",
      "model_name": "FloatSliderModel",
      "state": {
       "description": "wc",
       "layout": "IPY_MODEL_989bb64f31964c63a6d4ac801d86de78",
       "max": 1,
       "min": 0.1,
       "step": 0.01,
       "style": "IPY_MODEL_39a7ac1f32ca4e1cb39558cd5b79c9e1",
       "value": 0.5
      }
     },
     "2c1afa2493344b229273a2ebf60a13c9": {
      "model_module": "@jupyter-widgets/controls",
      "model_module_version": "1.5.0",
      "model_name": "IntSliderModel",
      "state": {
       "description": "L",
       "layout": "IPY_MODEL_bd9b55a8090b45f490ec8d380750bff0",
       "max": 128,
       "min": 2,
       "style": "IPY_MODEL_f0a49ec366964223a43cd3860ff0edb7",
       "value": 12
      }
     },
     "2c723798dc7b464a8e0907888dd3a9c8": {
      "model_module": "@jupyter-widgets/controls",
      "model_module_version": "1.5.0",
      "model_name": "DescriptionStyleModel",
      "state": {
       "description_width": ""
      }
     },
     "2d11c90e4251463696f4cdad65b21587": {
      "model_module": "@jupyter-widgets/controls",
      "model_module_version": "1.5.0",
      "model_name": "SliderStyleModel",
      "state": {
       "description_width": ""
      }
     },
     "2d549e2206e04707a18d302c4febb071": {
      "model_module": "@jupyter-widgets/base",
      "model_module_version": "1.2.0",
      "model_name": "LayoutModel",
      "state": {}
     },
     "2ea14d3e1de84e0caf561890c4169c4a": {
      "model_module": "@jupyter-widgets/base",
      "model_module_version": "1.2.0",
      "model_name": "LayoutModel",
      "state": {}
     },
     "2f14e880d08646eba7f76484e536e619": {
      "model_module": "@jupyter-widgets/controls",
      "model_module_version": "1.5.0",
      "model_name": "SliderStyleModel",
      "state": {
       "description_width": ""
      }
     },
     "2f5f2ecd932f4fcebb1b8931495c81e1": {
      "model_module": "@jupyter-widgets/controls",
      "model_module_version": "1.5.0",
      "model_name": "IntSliderModel",
      "state": {
       "description": "L",
       "layout": "IPY_MODEL_2803a907927946ea9895b008c55df0e9",
       "max": 128,
       "min": 2,
       "style": "IPY_MODEL_e0d4012b568a4384bc37137136d53216",
       "value": 16
      }
     },
     "3570bdbed31c4fec9395f337a28c7c41": {
      "model_module": "@jupyter-widgets/controls",
      "model_module_version": "1.5.0",
      "model_name": "DescriptionStyleModel",
      "state": {
       "description_width": ""
      }
     },
     "3636c26e49fb47789baae2f238ef1ef7": {
      "model_module": "@jupyter-widgets/controls",
      "model_module_version": "1.5.0",
      "model_name": "DescriptionStyleModel",
      "state": {
       "description_width": ""
      }
     },
     "37909931df1c47e4948a530f7963f1e0": {
      "model_module": "@jupyter-widgets/controls",
      "model_module_version": "1.5.0",
      "model_name": "VBoxModel",
      "state": {
       "_dom_classes": [
        "widget-interact"
       ],
       "children": [
        "IPY_MODEL_7d67995d29be4477b74511527f4a7364",
        "IPY_MODEL_e40821b543a64eb998fdbf0a5d83eb79",
        "IPY_MODEL_a177ee2609364bec90f6db3a4f5cf21f",
        "IPY_MODEL_6bf8bef585f14e87b4ac18b8c20fccf9"
       ],
       "layout": "IPY_MODEL_2160fccd15774970af84802719367788"
      }
     },
     "38431e6d3cd2491384084e0d4886a11c": {
      "model_module": "@jupyter-widgets/base",
      "model_module_version": "1.2.0",
      "model_name": "LayoutModel",
      "state": {}
     },
     "39a7ac1f32ca4e1cb39558cd5b79c9e1": {
      "model_module": "@jupyter-widgets/controls",
      "model_module_version": "1.5.0",
      "model_name": "SliderStyleModel",
      "state": {
       "description_width": ""
      }
     },
     "3ea876db91d84f32997f07d1d42bf507": {
      "model_module": "@jupyter-widgets/base",
      "model_module_version": "1.2.0",
      "model_name": "LayoutModel",
      "state": {}
     },
     "408a375449bc4879bc7cfd0b6e1a1858": {
      "model_module": "@jupyter-widgets/base",
      "model_module_version": "1.2.0",
      "model_name": "LayoutModel",
      "state": {}
     },
     "40c8afaa44bf482193aafcf33beef555": {
      "model_module": "@jupyter-widgets/controls",
      "model_module_version": "1.5.0",
      "model_name": "DescriptionStyleModel",
      "state": {
       "description_width": ""
      }
     },
     "40db9cfe2782441bb5c91a1f8c033456": {
      "model_module": "@jupyter-widgets/controls",
      "model_module_version": "1.5.0",
      "model_name": "VBoxModel",
      "state": {
       "_dom_classes": [
        "widget-interact"
       ],
       "children": [
        "IPY_MODEL_6d2f3cedfbbd4c91a5a5fc3ab1d7a4d3",
        "IPY_MODEL_fbf926e4350749bab98b4227561f26da",
        "IPY_MODEL_50f8238d579f472e9dccae2d7e393675",
        "IPY_MODEL_8b813eacd35f4288b3ad6121fc1747c5"
       ],
       "layout": "IPY_MODEL_63c30ff14cb846fda36062c8de3f597e"
      }
     },
     "421ae1d80f2640c5b6056ed15fcb603d": {
      "model_module": "@jupyter-widgets/output",
      "model_module_version": "1.0.0",
      "model_name": "OutputModel",
      "state": {
       "layout": "IPY_MODEL_ee76e1c879ff4e4bb1e7caf54f04343d",
       "outputs": [
        {
         "name": "stdout",
         "output_type": "stream",
         "text": "-2.986324857901867\n-3.0322753864458294\n"
        }
       ]
      }
     },
     "434afc611c034f29bd77a4c13c9a3290": {
      "model_module": "@jupyter-widgets/controls",
      "model_module_version": "1.5.0",
      "model_name": "SliderStyleModel",
      "state": {
       "description_width": ""
      }
     },
     "451208c9bb844a719730c8ae9fbc6abb": {
      "model_module": "@jupyter-widgets/base",
      "model_module_version": "1.2.0",
      "model_name": "LayoutModel",
      "state": {}
     },
     "45896b8ab76a4cb3b7e1595c4c811cfe": {
      "model_module": "@jupyter-widgets/controls",
      "model_module_version": "1.5.0",
      "model_name": "DescriptionStyleModel",
      "state": {
       "description_width": ""
      }
     },
     "461859f1b14c42e69ed6603245134b40": {
      "model_module": "@jupyter-widgets/output",
      "model_module_version": "1.0.0",
      "model_name": "OutputModel",
      "state": {
       "layout": "IPY_MODEL_fa972079af324291b5a19ba80bcdfc98",
       "outputs": [
        {
         "ename": "IndexError",
         "evalue": "index 0 is out of bounds for axis 0 with size 0",
         "output_type": "error",
         "traceback": [
          "\u001b[1;31m---------------------------------------------------------------------------\u001b[0m",
          "\u001b[1;31mIndexError\u001b[0m                                Traceback (most recent call last)",
          "\u001b[1;32mD:\\Anaconda3\\envs\\TU_Tutorials\\lib\\site-packages\\ipywidgets\\widgets\\interaction.py\u001b[0m in \u001b[0;36mupdate\u001b[1;34m(self, *args)\u001b[0m\n\u001b[0;32m    254\u001b[0m                     \u001b[0mvalue\u001b[0m \u001b[1;33m=\u001b[0m \u001b[0mwidget\u001b[0m\u001b[1;33m.\u001b[0m\u001b[0mget_interact_value\u001b[0m\u001b[1;33m(\u001b[0m\u001b[1;33m)\u001b[0m\u001b[1;33m\u001b[0m\u001b[1;33m\u001b[0m\u001b[0m\n\u001b[0;32m    255\u001b[0m                     \u001b[0mself\u001b[0m\u001b[1;33m.\u001b[0m\u001b[0mkwargs\u001b[0m\u001b[1;33m[\u001b[0m\u001b[0mwidget\u001b[0m\u001b[1;33m.\u001b[0m\u001b[0m_kwarg\u001b[0m\u001b[1;33m]\u001b[0m \u001b[1;33m=\u001b[0m \u001b[0mvalue\u001b[0m\u001b[1;33m\u001b[0m\u001b[1;33m\u001b[0m\u001b[0m\n\u001b[1;32m--> 256\u001b[1;33m                 \u001b[0mself\u001b[0m\u001b[1;33m.\u001b[0m\u001b[0mresult\u001b[0m \u001b[1;33m=\u001b[0m \u001b[0mself\u001b[0m\u001b[1;33m.\u001b[0m\u001b[0mf\u001b[0m\u001b[1;33m(\u001b[0m\u001b[1;33m**\u001b[0m\u001b[0mself\u001b[0m\u001b[1;33m.\u001b[0m\u001b[0mkwargs\u001b[0m\u001b[1;33m)\u001b[0m\u001b[1;33m\u001b[0m\u001b[1;33m\u001b[0m\u001b[0m\n\u001b[0m\u001b[0;32m    257\u001b[0m                 \u001b[0mshow_inline_matplotlib_plots\u001b[0m\u001b[1;33m(\u001b[0m\u001b[1;33m)\u001b[0m\u001b[1;33m\u001b[0m\u001b[1;33m\u001b[0m\u001b[0m\n\u001b[0;32m    258\u001b[0m                 \u001b[1;32mif\u001b[0m \u001b[0mself\u001b[0m\u001b[1;33m.\u001b[0m\u001b[0mauto_display\u001b[0m \u001b[1;32mand\u001b[0m \u001b[0mself\u001b[0m\u001b[1;33m.\u001b[0m\u001b[0mresult\u001b[0m \u001b[1;32mis\u001b[0m \u001b[1;32mnot\u001b[0m \u001b[1;32mNone\u001b[0m\u001b[1;33m:\u001b[0m\u001b[1;33m\u001b[0m\u001b[1;33m\u001b[0m\u001b[0m\n",
          "\u001b[1;32m<ipython-input-9-d396d6d205ab>\u001b[0m in \u001b[0;36mplot_recWindow_H\u001b[1;34m(L, unwrap)\u001b[0m\n\u001b[0;32m     27\u001b[0m             arrowprops=dict(facecolor='black', shrink=0.02, width=1, headwidth=4),)\n\u001b[0;32m     28\u001b[0m     \u001b[1;32mif\u001b[0m \u001b[0mL\u001b[0m\u001b[1;33m!=\u001b[0m\u001b[1;36m2\u001b[0m\u001b[1;33m:\u001b[0m\u001b[1;33m\u001b[0m\u001b[1;33m\u001b[0m\u001b[0m\n\u001b[1;32m---> 29\u001b[1;33m         \u001b[0mside_lobe\u001b[0m\u001b[1;33m=\u001b[0m\u001b[0margrelextrema\u001b[0m\u001b[1;33m(\u001b[0m\u001b[0mnp\u001b[0m\u001b[1;33m.\u001b[0m\u001b[0mabs\u001b[0m\u001b[1;33m(\u001b[0m\u001b[0mH\u001b[0m\u001b[1;33m)\u001b[0m\u001b[1;33m,\u001b[0m \u001b[0mnp\u001b[0m\u001b[1;33m.\u001b[0m\u001b[0mgreater\u001b[0m\u001b[1;33m)\u001b[0m\u001b[1;33m[\u001b[0m\u001b[1;36m0\u001b[0m\u001b[1;33m]\u001b[0m\u001b[1;33m[\u001b[0m\u001b[1;36m0\u001b[0m\u001b[1;33m]\u001b[0m\u001b[1;33m\u001b[0m\u001b[1;33m\u001b[0m\u001b[0m\n\u001b[0m\u001b[0;32m     30\u001b[0m         \u001b[0max1\u001b[0m\u001b[1;33m.\u001b[0m\u001b[0mplot\u001b[0m\u001b[1;33m(\u001b[0m\u001b[1;33m(\u001b[0m\u001b[1;36m0\u001b[0m\u001b[1;33m,\u001b[0m \u001b[0momega\u001b[0m\u001b[1;33m[\u001b[0m\u001b[1;33m-\u001b[0m\u001b[1;36m1\u001b[0m\u001b[1;33m]\u001b[0m\u001b[1;33m)\u001b[0m\u001b[1;33m,\u001b[0m\u001b[1;33m(\u001b[0m\u001b[0mH_dB\u001b[0m\u001b[1;33m[\u001b[0m\u001b[0mside_lobe\u001b[0m\u001b[1;33m]\u001b[0m\u001b[1;33m,\u001b[0m\u001b[0mH_dB\u001b[0m\u001b[1;33m[\u001b[0m\u001b[0mside_lobe\u001b[0m\u001b[1;33m]\u001b[0m\u001b[1;33m)\u001b[0m\u001b[1;33m,\u001b[0m \u001b[1;34m'k--'\u001b[0m\u001b[1;33m)\u001b[0m\u001b[1;33m\u001b[0m\u001b[1;33m\u001b[0m\u001b[0m\n\u001b[0;32m     31\u001b[0m         ax1.annotate(r'$\\omega$={:.2f}$\\pi$, {:.2f}dB'.format(omega[side_lobe]/np.pi,H_dB[side_lobe]), \n",
          "\u001b[1;31mIndexError\u001b[0m: index 0 is out of bounds for axis 0 with size 0"
         ]
        }
       ]
      }
     },
     "462f98cc95bc4bf7bf5047325c59b199": {
      "model_module": "@jupyter-widgets/base",
      "model_module_version": "1.2.0",
      "model_name": "LayoutModel",
      "state": {}
     },
     "4652fb03c19a42a38b0ac59632d900d6": {
      "model_module": "@jupyter-widgets/controls",
      "model_module_version": "1.5.0",
      "model_name": "CheckboxModel",
      "state": {
       "description": "unwrap",
       "disabled": false,
       "layout": "IPY_MODEL_2488a7b125004931a8f11c877d698119",
       "style": "IPY_MODEL_0ebf19ba64a2445182602e0fe7a7ee0e",
       "value": false
      }
     },
     "46eead21042845adbfd3c09bff22df35": {
      "model_module": "@jupyter-widgets/controls",
      "model_module_version": "1.5.0",
      "model_name": "CheckboxModel",
      "state": {
       "description": "unwrap",
       "disabled": false,
       "layout": "IPY_MODEL_7fcfe1cc3015414f8b2a96fd07f29995",
       "style": "IPY_MODEL_2c723798dc7b464a8e0907888dd3a9c8",
       "value": false
      }
     },
     "474e289142824088afdef790d24366cf": {
      "model_module": "@jupyter-widgets/base",
      "model_module_version": "1.2.0",
      "model_name": "LayoutModel",
      "state": {}
     },
     "47c5c8c8fff24a8a98c6ad8e0233d597": {
      "model_module": "@jupyter-widgets/controls",
      "model_module_version": "1.5.0",
      "model_name": "FloatSliderModel",
      "state": {
       "description": "wc",
       "layout": "IPY_MODEL_9fd9e230b13b485eb279a9110ec1dc2d",
       "max": 1,
       "min": 0.1,
       "step": 0.01,
       "style": "IPY_MODEL_9d429a9689c94317bd8fcb21097be0f3",
       "value": 0.5
      }
     },
     "48bae7a82391411f9d6d12791d8610b6": {
      "model_module": "@jupyter-widgets/controls",
      "model_module_version": "1.5.0",
      "model_name": "CheckboxModel",
      "state": {
       "description": "unwrap",
       "disabled": false,
       "layout": "IPY_MODEL_73bf02f4a77e4d5bbd7310e249650de3",
       "style": "IPY_MODEL_c1e65404e25c4c369995cf3f8b5e49de",
       "value": false
      }
     },
     "49a4ea69c58744889ec0f85cce628555": {
      "model_module": "@jupyter-widgets/controls",
      "model_module_version": "1.5.0",
      "model_name": "VBoxModel",
      "state": {
       "_dom_classes": [
        "widget-interact"
       ],
       "children": [
        "IPY_MODEL_2c1afa2493344b229273a2ebf60a13c9",
        "IPY_MODEL_6de2a3f0ff2c404f9febb9090726954f",
        "IPY_MODEL_f8c1d8517c6c4b8a96c0754f923ad0c5",
        "IPY_MODEL_cdce04c2d7714651b30c7400eb81f6cd"
       ],
       "layout": "IPY_MODEL_ac2116cb465a4454bc7db17e926da183"
      }
     },
     "49f349a9156a445da42980546de95da9": {
      "model_module": "@jupyter-widgets/base",
      "model_module_version": "1.2.0",
      "model_name": "LayoutModel",
      "state": {}
     },
     "4a2eb9fa6a0d4f9d892947bf6d5a15b3": {
      "model_module": "@jupyter-widgets/controls",
      "model_module_version": "1.5.0",
      "model_name": "DescriptionStyleModel",
      "state": {
       "description_width": ""
      }
     },
     "4a4f1eae1c3e48fa99aacac33c3573d0": {
      "model_module": "@jupyter-widgets/base",
      "model_module_version": "1.2.0",
      "model_name": "LayoutModel",
      "state": {}
     },
     "4c11135dea5149e18c9b78253e6d6783": {
      "model_module": "@jupyter-widgets/base",
      "model_module_version": "1.2.0",
      "model_name": "LayoutModel",
      "state": {}
     },
     "50f8238d579f472e9dccae2d7e393675": {
      "model_module": "@jupyter-widgets/controls",
      "model_module_version": "1.5.0",
      "model_name": "CheckboxModel",
      "state": {
       "description": "unwrap",
       "disabled": false,
       "layout": "IPY_MODEL_f208057bbc724df483350d415317e9a2",
       "style": "IPY_MODEL_4a2eb9fa6a0d4f9d892947bf6d5a15b3",
       "value": false
      }
     },
     "512f981be60f46ffac62a79d481e0dbe": {
      "model_module": "@jupyter-widgets/base",
      "model_module_version": "1.2.0",
      "model_name": "LayoutModel",
      "state": {}
     },
     "51353157d67046b6b5e27022c45632d6": {
      "model_module": "@jupyter-widgets/base",
      "model_module_version": "1.2.0",
      "model_name": "LayoutModel",
      "state": {}
     },
     "5312e52c60324e4ca6b9fae5d2dccab1": {
      "model_module": "@jupyter-widgets/controls",
      "model_module_version": "1.5.0",
      "model_name": "CheckboxModel",
      "state": {
       "description": "unwrap",
       "disabled": false,
       "layout": "IPY_MODEL_462f98cc95bc4bf7bf5047325c59b199",
       "style": "IPY_MODEL_40c8afaa44bf482193aafcf33beef555",
       "value": false
      }
     },
     "543539ba64374da5bf06348c3d518676": {
      "model_module": "@jupyter-widgets/controls",
      "model_module_version": "1.5.0",
      "model_name": "SliderStyleModel",
      "state": {
       "description_width": ""
      }
     },
     "5965ecd22fd94ac9b8834a09cbfc6576": {
      "model_module": "@jupyter-widgets/output",
      "model_module_version": "1.0.0",
      "model_name": "OutputModel",
      "state": {
       "layout": "IPY_MODEL_2d549e2206e04707a18d302c4febb071",
       "outputs": [
        {
         "name": "stdout",
         "output_type": "stream",
         "text": "-2.9368379843876866\n-3.02540945072563\n"
        }
       ]
      }
     },
     "59c3521486594f78a98d393e207f3898": {
      "model_module": "@jupyter-widgets/controls",
      "model_module_version": "1.5.0",
      "model_name": "CheckboxModel",
      "state": {
       "description": "unwrap",
       "disabled": false,
       "layout": "IPY_MODEL_faf5451fe23d45c6b99edbc0a800faf2",
       "style": "IPY_MODEL_3570bdbed31c4fec9395f337a28c7c41",
       "value": false
      }
     },
     "5d0bc1776fa34a7a810917fc5d8a64f5": {
      "model_module": "@jupyter-widgets/base",
      "model_module_version": "1.2.0",
      "model_name": "LayoutModel",
      "state": {}
     },
     "5d9e6bb9b35741ae8dd8822c7c2ec827": {
      "model_module": "@jupyter-widgets/base",
      "model_module_version": "1.2.0",
      "model_name": "LayoutModel",
      "state": {}
     },
     "5dcf8c760acf4659a1da7dec20448e2e": {
      "model_module": "@jupyter-widgets/controls",
      "model_module_version": "1.5.0",
      "model_name": "CheckboxModel",
      "state": {
       "description": "unwrap",
       "disabled": false,
       "layout": "IPY_MODEL_ae631cde68664f3c9cfeb8ec252d267a",
       "style": "IPY_MODEL_999bcd2a6bfb4dfc873caaf70ab149a9",
       "value": false
      }
     },
     "5ff41e6d45694fb8812178d014ceeb97": {
      "model_module": "@jupyter-widgets/base",
      "model_module_version": "1.2.0",
      "model_name": "LayoutModel",
      "state": {}
     },
     "6172436056ee4f50ae2b849255a904e8": {
      "model_module": "@jupyter-widgets/controls",
      "model_module_version": "1.5.0",
      "model_name": "VBoxModel",
      "state": {
       "_dom_classes": [
        "widget-interact"
       ],
       "children": [
        "IPY_MODEL_d8d6e0917d744a40b83dc815af28a8a8",
        "IPY_MODEL_1e61a648790d4db0a264f0664360b643",
        "IPY_MODEL_46eead21042845adbfd3c09bff22df35",
        "IPY_MODEL_7a4a5608b1334add87cf38fc11074807"
       ],
       "layout": "IPY_MODEL_fd846701f19e47f5bf1e55581ddaabcb"
      }
     },
     "63c30ff14cb846fda36062c8de3f597e": {
      "model_module": "@jupyter-widgets/base",
      "model_module_version": "1.2.0",
      "model_name": "LayoutModel",
      "state": {}
     },
     "641d559f5f02481b8f6403754fc5dae7": {
      "model_module": "@jupyter-widgets/base",
      "model_module_version": "1.2.0",
      "model_name": "LayoutModel",
      "state": {}
     },
     "67b52ebdfbf649afb5377c28bdb25524": {
      "model_module": "@jupyter-widgets/controls",
      "model_module_version": "1.5.0",
      "model_name": "DescriptionStyleModel",
      "state": {
       "description_width": ""
      }
     },
     "6a2b162d0ea94caf8e89db7a72689234": {
      "model_module": "@jupyter-widgets/base",
      "model_module_version": "1.2.0",
      "model_name": "LayoutModel",
      "state": {}
     },
     "6a8662949af54cabbdf270f5bc9b950b": {
      "model_module": "@jupyter-widgets/output",
      "model_module_version": "1.0.0",
      "model_name": "OutputModel",
      "state": {
       "layout": "IPY_MODEL_aa3d7a39440b441ba7d3e504aef27620",
       "outputs": [
        {
         "name": "stdout",
         "output_type": "stream",
         "text": "-2.996721970266943\n-3.039797343863033\n"
        }
       ]
      }
     },
     "6bf8bef585f14e87b4ac18b8c20fccf9": {
      "model_module": "@jupyter-widgets/output",
      "model_module_version": "1.0.0",
      "model_name": "OutputModel",
      "state": {
       "layout": "IPY_MODEL_b778e10f526a49a5b32f39cbe25a5540",
       "outputs": [
        {
         "name": "stdout",
         "output_type": "stream",
         "text": "-2.986324857901867\n-3.0322753864458294\n"
        }
       ]
      }
     },
     "6c63f52423284d8685b0ff11cd2af69e": {
      "model_module": "@jupyter-widgets/controls",
      "model_module_version": "1.5.0",
      "model_name": "SliderStyleModel",
      "state": {
       "description_width": ""
      }
     },
     "6ce5ebf11b33486b9d9f803cfea5dfea": {
      "model_module": "@jupyter-widgets/base",
      "model_module_version": "1.2.0",
      "model_name": "LayoutModel",
      "state": {}
     },
     "6d2f3cedfbbd4c91a5a5fc3ab1d7a4d3": {
      "model_module": "@jupyter-widgets/controls",
      "model_module_version": "1.5.0",
      "model_name": "IntSliderModel",
      "state": {
       "description": "L",
       "layout": "IPY_MODEL_5d0bc1776fa34a7a810917fc5d8a64f5",
       "max": 128,
       "min": 2,
       "style": "IPY_MODEL_6c63f52423284d8685b0ff11cd2af69e",
       "value": 16
      }
     },
     "6de2a3f0ff2c404f9febb9090726954f": {
      "model_module": "@jupyter-widgets/controls",
      "model_module_version": "1.5.0",
      "model_name": "FloatSliderModel",
      "state": {
       "description": "wc",
       "layout": "IPY_MODEL_830ce93075504bbfaed6022b42e906df",
       "max": 1,
       "min": 0.1,
       "step": 0.01,
       "style": "IPY_MODEL_aaa7ed12f4d447dd9c8c2386b5e39a8b",
       "value": 0.5
      }
     },
     "70870ccc363540e3ab392bbac4ab7ab9": {
      "model_module": "@jupyter-widgets/controls",
      "model_module_version": "1.5.0",
      "model_name": "DescriptionStyleModel",
      "state": {
       "description_width": ""
      }
     },
     "73bf02f4a77e4d5bbd7310e249650de3": {
      "model_module": "@jupyter-widgets/base",
      "model_module_version": "1.2.0",
      "model_name": "LayoutModel",
      "state": {}
     },
     "76daa9f5eef04122abc28be44bba1ba3": {
      "model_module": "@jupyter-widgets/base",
      "model_module_version": "1.2.0",
      "model_name": "LayoutModel",
      "state": {}
     },
     "77423bd7deb1434b8a8da5b6322bb4ed": {
      "model_module": "@jupyter-widgets/controls",
      "model_module_version": "1.5.0",
      "model_name": "VBoxModel",
      "state": {
       "_dom_classes": [
        "widget-interact"
       ],
       "children": [
        "IPY_MODEL_853fd06dba4d47d0a51e31ab281c5052",
        "IPY_MODEL_c17a02a7210147f6ae41a5bd279f9c26",
        "IPY_MODEL_1b20b14c69214d0dac0decfe18d1e152"
       ],
       "layout": "IPY_MODEL_df4729fceeb94eaabeda1fa181749d70"
      }
     },
     "7846d74eddf0482e830c6d9153f806ec": {
      "model_module": "@jupyter-widgets/base",
      "model_module_version": "1.2.0",
      "model_name": "LayoutModel",
      "state": {}
     },
     "79681f8c847f4f7aba372e8fb62b99ff": {
      "model_module": "@jupyter-widgets/controls",
      "model_module_version": "1.5.0",
      "model_name": "VBoxModel",
      "state": {
       "_dom_classes": [
        "widget-interact"
       ],
       "children": [
        "IPY_MODEL_290a6bc604c84cc1abc5a41f065893a0",
        "IPY_MODEL_f2f9fb3606934317b63f622c781d03bb",
        "IPY_MODEL_b1cb2576c5b449059a2a0756ccb395c3"
       ],
       "layout": "IPY_MODEL_0029500d285347cea960cae032e0a9d8"
      }
     },
     "7a4a5608b1334add87cf38fc11074807": {
      "model_module": "@jupyter-widgets/output",
      "model_module_version": "1.0.0",
      "model_name": "OutputModel",
      "state": {
       "layout": "IPY_MODEL_474e289142824088afdef790d24366cf",
       "outputs": [
        {
         "name": "stdout",
         "output_type": "stream",
         "text": "-2.986324857901867\n-3.0322753864458307\n"
        },
        {
         "name": "stderr",
         "output_type": "stream",
         "text": "/srv/conda/envs/notebook/lib/python3.7/site-packages/matplotlib/transforms.py:923: ComplexWarning: Casting complex values to real discards the imaginary part\n  self._points[:, 1] = interval\n"
        }
       ]
      }
     },
     "7b18674955ad40388c45a5bb5e1907e7": {
      "model_module": "@jupyter-widgets/controls",
      "model_module_version": "1.5.0",
      "model_name": "SliderStyleModel",
      "state": {
       "description_width": ""
      }
     },
     "7c1d9383bd2e4e2382c88ad968ee5fab": {
      "model_module": "@jupyter-widgets/controls",
      "model_module_version": "1.5.0",
      "model_name": "CheckboxModel",
      "state": {
       "description": "unwrap",
       "disabled": false,
       "layout": "IPY_MODEL_192e0690eed54916b10710a129e9c495",
       "style": "IPY_MODEL_0f10bf4662bd4c95810847e24fbeafa6",
       "value": false
      }
     },
     "7c4f07905dcd4c5dbd86cb57b21e44b3": {
      "model_module": "@jupyter-widgets/controls",
      "model_module_version": "1.5.0",
      "model_name": "IntSliderModel",
      "state": {
       "description": "L",
       "layout": "IPY_MODEL_8e72775579ad48eb8b165b5d206c09ba",
       "max": 128,
       "min": 2,
       "style": "IPY_MODEL_543539ba64374da5bf06348c3d518676",
       "value": 16
      }
     },
     "7d67995d29be4477b74511527f4a7364": {
      "model_module": "@jupyter-widgets/controls",
      "model_module_version": "1.5.0",
      "model_name": "IntSliderModel",
      "state": {
       "description": "L",
       "layout": "IPY_MODEL_aa20a95f3cd34cb1b3a664491dd4782e",
       "max": 128,
       "min": 2,
       "style": "IPY_MODEL_434afc611c034f29bd77a4c13c9a3290",
       "value": 16
      }
     },
     "7fcfe1cc3015414f8b2a96fd07f29995": {
      "model_module": "@jupyter-widgets/base",
      "model_module_version": "1.2.0",
      "model_name": "LayoutModel",
      "state": {}
     },
     "80cd5ce2ebbd46b4b221e22241415478": {
      "model_module": "@jupyter-widgets/controls",
      "model_module_version": "1.5.0",
      "model_name": "IntSliderModel",
      "state": {
       "description": "L",
       "layout": "IPY_MODEL_cb2128e116c840bf88ac2a370f8abc89",
       "max": 128,
       "min": 2,
       "style": "IPY_MODEL_feb0b85abc124c77a0c76f542518de47",
       "value": 16
      }
     },
     "813ec39fd27448569c3fefc1a4be5b70": {
      "model_module": "@jupyter-widgets/controls",
      "model_module_version": "1.5.0",
      "model_name": "VBoxModel",
      "state": {
       "_dom_classes": [
        "widget-interact"
       ],
       "children": [
        "IPY_MODEL_7c4f07905dcd4c5dbd86cb57b21e44b3",
        "IPY_MODEL_7c1d9383bd2e4e2382c88ad968ee5fab",
        "IPY_MODEL_c2a06bce19134f67a637ee6bdf752074"
       ],
       "layout": "IPY_MODEL_76daa9f5eef04122abc28be44bba1ba3"
      }
     },
     "830ce93075504bbfaed6022b42e906df": {
      "model_module": "@jupyter-widgets/base",
      "model_module_version": "1.2.0",
      "model_name": "LayoutModel",
      "state": {}
     },
     "83d79b7454f547a191c07a11107cdec6": {
      "model_module": "@jupyter-widgets/controls",
      "model_module_version": "1.5.0",
      "model_name": "SliderStyleModel",
      "state": {
       "description_width": ""
      }
     },
     "853fd06dba4d47d0a51e31ab281c5052": {
      "model_module": "@jupyter-widgets/controls",
      "model_module_version": "1.5.0",
      "model_name": "IntSliderModel",
      "state": {
       "description": "L",
       "layout": "IPY_MODEL_de60d3f2621b4ba78d77b40921c32b48",
       "max": 128,
       "min": 2,
       "style": "IPY_MODEL_bb767f871d504e4e840f274dc4c2cc94",
       "value": 16
      }
     },
     "8727619714e3420ebb4d6e54edd75c9d": {
      "model_module": "@jupyter-widgets/base",
      "model_module_version": "1.2.0",
      "model_name": "LayoutModel",
      "state": {}
     },
     "8aadc24375b34797a3dd14bbbb3ac4cb": {
      "model_module": "@jupyter-widgets/base",
      "model_module_version": "1.2.0",
      "model_name": "LayoutModel",
      "state": {}
     },
     "8b813eacd35f4288b3ad6121fc1747c5": {
      "model_module": "@jupyter-widgets/output",
      "model_module_version": "1.0.0",
      "model_name": "OutputModel",
      "state": {
       "layout": "IPY_MODEL_a5d3d5fb2c4a45f98a030f58188cee53",
       "outputs": [
        {
         "name": "stdout",
         "output_type": "stream",
         "text": "-2.986324857901867\n-3.0322753864458294\n"
        }
       ]
      }
     },
     "8e72775579ad48eb8b165b5d206c09ba": {
      "model_module": "@jupyter-widgets/base",
      "model_module_version": "1.2.0",
      "model_name": "LayoutModel",
      "state": {}
     },
     "916401e8db3c4c09b58fae8d1fe823c3": {
      "model_module": "@jupyter-widgets/controls",
      "model_module_version": "1.5.0",
      "model_name": "FloatSliderModel",
      "state": {
       "description": "wc",
       "layout": "IPY_MODEL_408a375449bc4879bc7cfd0b6e1a1858",
       "max": 1,
       "min": 0.1,
       "step": 0.01,
       "style": "IPY_MODEL_2d11c90e4251463696f4cdad65b21587",
       "value": 0.52
      }
     },
     "95f2b6ea396b40058716a756aa74f7ad": {
      "model_module": "@jupyter-widgets/controls",
      "model_module_version": "1.5.0",
      "model_name": "IntSliderModel",
      "state": {
       "description": "L",
       "layout": "IPY_MODEL_451208c9bb844a719730c8ae9fbc6abb",
       "max": 128,
       "min": 2,
       "style": "IPY_MODEL_9ab2b0fa47c14f4abc0beb9e99bf533d",
       "value": 16
      }
     },
     "97eec8abfdf442fba1dfd9631100361e": {
      "model_module": "@jupyter-widgets/base",
      "model_module_version": "1.2.0",
      "model_name": "LayoutModel",
      "state": {}
     },
     "989bb64f31964c63a6d4ac801d86de78": {
      "model_module": "@jupyter-widgets/base",
      "model_module_version": "1.2.0",
      "model_name": "LayoutModel",
      "state": {}
     },
     "990358533027449aac97876b636eea58": {
      "model_module": "@jupyter-widgets/controls",
      "model_module_version": "1.5.0",
      "model_name": "CheckboxModel",
      "state": {
       "description": "unwrap",
       "disabled": false,
       "layout": "IPY_MODEL_3ea876db91d84f32997f07d1d42bf507",
       "style": "IPY_MODEL_67b52ebdfbf649afb5377c28bdb25524",
       "value": true
      }
     },
     "999bcd2a6bfb4dfc873caaf70ab149a9": {
      "model_module": "@jupyter-widgets/controls",
      "model_module_version": "1.5.0",
      "model_name": "DescriptionStyleModel",
      "state": {
       "description_width": ""
      }
     },
     "999f0981bdae458baaef3a9e45d59c71": {
      "model_module": "@jupyter-widgets/controls",
      "model_module_version": "1.5.0",
      "model_name": "CheckboxModel",
      "state": {
       "description": "unwrap",
       "disabled": false,
       "layout": "IPY_MODEL_f6b7964d33a74b4288b1861bf03e36d9",
       "style": "IPY_MODEL_f21ffa47a7314f0daf9b4201ec647f13",
       "value": false
      }
     },
     "9ab2b0fa47c14f4abc0beb9e99bf533d": {
      "model_module": "@jupyter-widgets/controls",
      "model_module_version": "1.5.0",
      "model_name": "SliderStyleModel",
      "state": {
       "description_width": ""
      }
     },
     "9b4bde59989a4870929416fbff16b06a": {
      "model_module": "@jupyter-widgets/controls",
      "model_module_version": "1.5.0",
      "model_name": "VBoxModel",
      "state": {
       "_dom_classes": [
        "widget-interact"
       ],
       "children": [
        "IPY_MODEL_80cd5ce2ebbd46b4b221e22241415478",
        "IPY_MODEL_f89886aba4c34d449ce8cbf9c45ea4cc",
        "IPY_MODEL_5312e52c60324e4ca6b9fae5d2dccab1",
        "IPY_MODEL_9c189a7f479140019f84910d766a5a9f"
       ],
       "layout": "IPY_MODEL_0356272802724c91961a212e00758da4"
      }
     },
     "9c189a7f479140019f84910d766a5a9f": {
      "model_module": "@jupyter-widgets/output",
      "model_module_version": "1.0.0",
      "model_name": "OutputModel",
      "state": {
       "layout": "IPY_MODEL_03f7d15dabf94028be0ce784a72870dc",
       "outputs": [
        {
         "name": "stdout",
         "output_type": "stream",
         "text": "-2.986324857901867\n-3.0322753864458294\n"
        }
       ]
      }
     },
     "9c1f955f51234fee85275b0b893da03d": {
      "model_module": "@jupyter-widgets/controls",
      "model_module_version": "1.5.0",
      "model_name": "SliderStyleModel",
      "state": {
       "description_width": ""
      }
     },
     "9d429a9689c94317bd8fcb21097be0f3": {
      "model_module": "@jupyter-widgets/controls",
      "model_module_version": "1.5.0",
      "model_name": "SliderStyleModel",
      "state": {
       "description_width": ""
      }
     },
     "9f0596c34e90474dac5af9250c84f3c8": {
      "model_module": "@jupyter-widgets/base",
      "model_module_version": "1.2.0",
      "model_name": "LayoutModel",
      "state": {}
     },
     "9fd9e230b13b485eb279a9110ec1dc2d": {
      "model_module": "@jupyter-widgets/base",
      "model_module_version": "1.2.0",
      "model_name": "LayoutModel",
      "state": {}
     },
     "a177ee2609364bec90f6db3a4f5cf21f": {
      "model_module": "@jupyter-widgets/controls",
      "model_module_version": "1.5.0",
      "model_name": "CheckboxModel",
      "state": {
       "description": "unwrap",
       "disabled": false,
       "layout": "IPY_MODEL_4c11135dea5149e18c9b78253e6d6783",
       "style": "IPY_MODEL_acd3a9b819e54e4b989c60ebf086540b",
       "value": false
      }
     },
     "a5d3d5fb2c4a45f98a030f58188cee53": {
      "model_module": "@jupyter-widgets/base",
      "model_module_version": "1.2.0",
      "model_name": "LayoutModel",
      "state": {}
     },
     "a6481be1425d46e5b5abf1b52e73ce97": {
      "model_module": "@jupyter-widgets/base",
      "model_module_version": "1.2.0",
      "model_name": "LayoutModel",
      "state": {}
     },
     "a66936b45e2847589ec22cc1c13221b1": {
      "model_module": "@jupyter-widgets/controls",
      "model_module_version": "1.5.0",
      "model_name": "FloatSliderModel",
      "state": {
       "description": "wc",
       "layout": "IPY_MODEL_6a2b162d0ea94caf8e89db7a72689234",
       "max": 1,
       "min": 0.1,
       "step": 0.01,
       "style": "IPY_MODEL_beae5d607a0f44dd84a4b9da23403ccb",
       "value": 0.5
      }
     },
     "aa20a95f3cd34cb1b3a664491dd4782e": {
      "model_module": "@jupyter-widgets/base",
      "model_module_version": "1.2.0",
      "model_name": "LayoutModel",
      "state": {}
     },
     "aa3d7a39440b441ba7d3e504aef27620": {
      "model_module": "@jupyter-widgets/base",
      "model_module_version": "1.2.0",
      "model_name": "LayoutModel",
      "state": {}
     },
     "aaa7ed12f4d447dd9c8c2386b5e39a8b": {
      "model_module": "@jupyter-widgets/controls",
      "model_module_version": "1.5.0",
      "model_name": "SliderStyleModel",
      "state": {
       "description_width": ""
      }
     },
     "ac2116cb465a4454bc7db17e926da183": {
      "model_module": "@jupyter-widgets/base",
      "model_module_version": "1.2.0",
      "model_name": "LayoutModel",
      "state": {}
     },
     "acd3a9b819e54e4b989c60ebf086540b": {
      "model_module": "@jupyter-widgets/controls",
      "model_module_version": "1.5.0",
      "model_name": "DescriptionStyleModel",
      "state": {
       "description_width": ""
      }
     },
     "ae631cde68664f3c9cfeb8ec252d267a": {
      "model_module": "@jupyter-widgets/base",
      "model_module_version": "1.2.0",
      "model_name": "LayoutModel",
      "state": {}
     },
     "ae855c0eeb374b7eaad889676d4bae73": {
      "model_module": "@jupyter-widgets/base",
      "model_module_version": "1.2.0",
      "model_name": "LayoutModel",
      "state": {}
     },
     "b1cb2576c5b449059a2a0756ccb395c3": {
      "model_module": "@jupyter-widgets/output",
      "model_module_version": "1.0.0",
      "model_name": "OutputModel",
      "state": {
       "layout": "IPY_MODEL_2ea14d3e1de84e0caf561890c4169c4a"
      }
     },
     "b30c4b4b9af44ac09993b27262b0259e": {
      "model_module": "@jupyter-widgets/controls",
      "model_module_version": "1.5.0",
      "model_name": "SliderStyleModel",
      "state": {
       "description_width": ""
      }
     },
     "b581b802bc124912882cfd27ffeed1e3": {
      "model_module": "@jupyter-widgets/controls",
      "model_module_version": "1.5.0",
      "model_name": "SliderStyleModel",
      "state": {
       "description_width": ""
      }
     },
     "b778e10f526a49a5b32f39cbe25a5540": {
      "model_module": "@jupyter-widgets/base",
      "model_module_version": "1.2.0",
      "model_name": "LayoutModel",
      "state": {}
     },
     "b7b9d255903749769f20286f768abb14": {
      "model_module": "@jupyter-widgets/controls",
      "model_module_version": "1.5.0",
      "model_name": "IntSliderModel",
      "state": {
       "description": "L",
       "layout": "IPY_MODEL_1834df36879940888884860cb2c266af",
       "max": 128,
       "min": 2,
       "style": "IPY_MODEL_b581b802bc124912882cfd27ffeed1e3",
       "value": 4
      }
     },
     "b8ea2825e9104823ba3338439df90b21": {
      "model_module": "@jupyter-widgets/controls",
      "model_module_version": "1.5.0",
      "model_name": "SliderStyleModel",
      "state": {
       "description_width": ""
      }
     },
     "ba576b35bf974cb4ad03159ba695c61a": {
      "model_module": "@jupyter-widgets/controls",
      "model_module_version": "1.5.0",
      "model_name": "IntSliderModel",
      "state": {
       "description": "L",
       "layout": "IPY_MODEL_fad6558ca7b4421a872e9c48c0fd5db3",
       "max": 128,
       "min": 2,
       "style": "IPY_MODEL_144e9bb694ff4c2b974520c7b8a3a9c6",
       "value": 16
      }
     },
     "bb767f871d504e4e840f274dc4c2cc94": {
      "model_module": "@jupyter-widgets/controls",
      "model_module_version": "1.5.0",
      "model_name": "SliderStyleModel",
      "state": {
       "description_width": ""
      }
     },
     "bd68e24af2b94ae18c2429165cac2e92": {
      "model_module": "@jupyter-widgets/base",
      "model_module_version": "1.2.0",
      "model_name": "LayoutModel",
      "state": {}
     },
     "bd9b55a8090b45f490ec8d380750bff0": {
      "model_module": "@jupyter-widgets/base",
      "model_module_version": "1.2.0",
      "model_name": "LayoutModel",
      "state": {}
     },
     "beae5d607a0f44dd84a4b9da23403ccb": {
      "model_module": "@jupyter-widgets/controls",
      "model_module_version": "1.5.0",
      "model_name": "SliderStyleModel",
      "state": {
       "description_width": ""
      }
     },
     "c17a02a7210147f6ae41a5bd279f9c26": {
      "model_module": "@jupyter-widgets/controls",
      "model_module_version": "1.5.0",
      "model_name": "CheckboxModel",
      "state": {
       "description": "unwrap",
       "disabled": false,
       "layout": "IPY_MODEL_97eec8abfdf442fba1dfd9631100361e",
       "style": "IPY_MODEL_3636c26e49fb47789baae2f238ef1ef7",
       "value": false
      }
     },
     "c1e65404e25c4c369995cf3f8b5e49de": {
      "model_module": "@jupyter-widgets/controls",
      "model_module_version": "1.5.0",
      "model_name": "DescriptionStyleModel",
      "state": {
       "description_width": ""
      }
     },
     "c2a06bce19134f67a637ee6bdf752074": {
      "model_module": "@jupyter-widgets/output",
      "model_module_version": "1.0.0",
      "model_name": "OutputModel",
      "state": {
       "layout": "IPY_MODEL_8aadc24375b34797a3dd14bbbb3ac4cb"
      }
     },
     "c43b34dd82084145aa138a7caf48c05e": {
      "model_module": "@jupyter-widgets/controls",
      "model_module_version": "1.5.0",
      "model_name": "SliderStyleModel",
      "state": {
       "description_width": ""
      }
     },
     "c44cca5695e54ff19f7412e7d08d1902": {
      "model_module": "@jupyter-widgets/controls",
      "model_module_version": "1.5.0",
      "model_name": "DescriptionStyleModel",
      "state": {
       "description_width": ""
      }
     },
     "c54eec13b5e84a9cac70cf837d879d85": {
      "model_module": "@jupyter-widgets/base",
      "model_module_version": "1.2.0",
      "model_name": "LayoutModel",
      "state": {}
     },
     "c5e24727146a4f1c95b5e55e85a66533": {
      "model_module": "@jupyter-widgets/base",
      "model_module_version": "1.2.0",
      "model_name": "LayoutModel",
      "state": {}
     },
     "c6746cb27eda404c8ae8d026c8157dcf": {
      "model_module": "@jupyter-widgets/controls",
      "model_module_version": "1.5.0",
      "model_name": "VBoxModel",
      "state": {
       "_dom_classes": [
        "widget-interact"
       ],
       "children": [
        "IPY_MODEL_ba576b35bf974cb4ad03159ba695c61a",
        "IPY_MODEL_ca41edb2f61f42b89de5c27c8cf853c5",
        "IPY_MODEL_4652fb03c19a42a38b0ac59632d900d6",
        "IPY_MODEL_421ae1d80f2640c5b6056ed15fcb603d"
       ],
       "layout": "IPY_MODEL_10858c30ff644b75bedb13c9aaa8e86a"
      }
     },
     "c877ce570a0f4094b07e987ef54676c3": {
      "model_module": "@jupyter-widgets/controls",
      "model_module_version": "1.5.0",
      "model_name": "VBoxModel",
      "state": {
       "_dom_classes": [
        "widget-interact"
       ],
       "children": [
        "IPY_MODEL_95f2b6ea396b40058716a756aa74f7ad",
        "IPY_MODEL_47c5c8c8fff24a8a98c6ad8e0233d597",
        "IPY_MODEL_999f0981bdae458baaef3a9e45d59c71",
        "IPY_MODEL_db0bca592b724b46bf7bc3c13ca63c39"
       ],
       "layout": "IPY_MODEL_d37a33bbef14402f9ca73d51b01a98af"
      }
     },
     "ca41edb2f61f42b89de5c27c8cf853c5": {
      "model_module": "@jupyter-widgets/controls",
      "model_module_version": "1.5.0",
      "model_name": "FloatSliderModel",
      "state": {
       "description": "wc",
       "layout": "IPY_MODEL_229f46dbb5594226bb80908d9bd97617",
       "max": 1,
       "min": 0.1,
       "step": 0.01,
       "style": "IPY_MODEL_83d79b7454f547a191c07a11107cdec6",
       "value": 0.5
      }
     },
     "cb2128e116c840bf88ac2a370f8abc89": {
      "model_module": "@jupyter-widgets/base",
      "model_module_version": "1.2.0",
      "model_name": "LayoutModel",
      "state": {}
     },
     "cdce04c2d7714651b30c7400eb81f6cd": {
      "model_module": "@jupyter-widgets/output",
      "model_module_version": "1.0.0",
      "model_name": "OutputModel",
      "state": {
       "layout": "IPY_MODEL_38431e6d3cd2491384084e0d4886a11c",
       "outputs": [
        {
         "name": "stdout",
         "output_type": "stream",
         "text": "-2.9992585283794986\n-3.034173095206789\n"
        }
       ]
      }
     },
     "d37a33bbef14402f9ca73d51b01a98af": {
      "model_module": "@jupyter-widgets/base",
      "model_module_version": "1.2.0",
      "model_name": "LayoutModel",
      "state": {}
     },
     "d63802a277e14da09213d828cb80963f": {
      "model_module": "@jupyter-widgets/base",
      "model_module_version": "1.2.0",
      "model_name": "LayoutModel",
      "state": {}
     },
     "d653ea8d8d274f7584b238048f2fcc35": {
      "model_module": "@jupyter-widgets/controls",
      "model_module_version": "1.5.0",
      "model_name": "VBoxModel",
      "state": {
       "_dom_classes": [
        "widget-interact"
       ],
       "children": [
        "IPY_MODEL_b7b9d255903749769f20286f768abb14",
        "IPY_MODEL_e9e4b0d9f08542d2be2684f57ed67373",
        "IPY_MODEL_461859f1b14c42e69ed6603245134b40"
       ],
       "layout": "IPY_MODEL_9f0596c34e90474dac5af9250c84f3c8"
      }
     },
     "d8d6e0917d744a40b83dc815af28a8a8": {
      "model_module": "@jupyter-widgets/controls",
      "model_module_version": "1.5.0",
      "model_name": "IntSliderModel",
      "state": {
       "description": "L",
       "layout": "IPY_MODEL_7846d74eddf0482e830c6d9153f806ec",
       "max": 128,
       "min": 2,
       "style": "IPY_MODEL_2f14e880d08646eba7f76484e536e619",
       "value": 16
      }
     },
     "d946add282394b1d94bd524837c96b45": {
      "model_module": "@jupyter-widgets/controls",
      "model_module_version": "1.5.0",
      "model_name": "SliderStyleModel",
      "state": {
       "description_width": ""
      }
     },
     "db0bca592b724b46bf7bc3c13ca63c39": {
      "model_module": "@jupyter-widgets/output",
      "model_module_version": "1.0.0",
      "model_name": "OutputModel",
      "state": {
       "layout": "IPY_MODEL_00dbcd5675a748ef95f93d94efc2c287",
       "outputs": [
        {
         "name": "stdout",
         "output_type": "stream",
         "text": "-2.986324857901867\n-3.0322753864458307\n"
        },
        {
         "name": "stderr",
         "output_type": "stream",
         "text": "/srv/conda/envs/notebook/lib/python3.7/site-packages/matplotlib/transforms.py:923: ComplexWarning: Casting complex values to real discards the imaginary part\n  self._points[:, 1] = interval\n"
        }
       ]
      }
     },
     "de54a3d6a83746bdbdf977b33454204a": {
      "model_module": "@jupyter-widgets/output",
      "model_module_version": "1.0.0",
      "model_name": "OutputModel",
      "state": {
       "layout": "IPY_MODEL_14e90ac533cd49cdaaaeb62cbd0fa9bc"
      }
     },
     "de60d3f2621b4ba78d77b40921c32b48": {
      "model_module": "@jupyter-widgets/base",
      "model_module_version": "1.2.0",
      "model_name": "LayoutModel",
      "state": {}
     },
     "df4729fceeb94eaabeda1fa181749d70": {
      "model_module": "@jupyter-widgets/base",
      "model_module_version": "1.2.0",
      "model_name": "LayoutModel",
      "state": {}
     },
     "e0d4012b568a4384bc37137136d53216": {
      "model_module": "@jupyter-widgets/controls",
      "model_module_version": "1.5.0",
      "model_name": "SliderStyleModel",
      "state": {
       "description_width": ""
      }
     },
     "e40821b543a64eb998fdbf0a5d83eb79": {
      "model_module": "@jupyter-widgets/controls",
      "model_module_version": "1.5.0",
      "model_name": "FloatSliderModel",
      "state": {
       "description": "wc",
       "layout": "IPY_MODEL_512f981be60f46ffac62a79d481e0dbe",
       "max": 1,
       "min": 0.1,
       "step": 0.01,
       "style": "IPY_MODEL_17fa56dfb7db4e159a57ca64a75fb7fb",
       "value": 0.5
      }
     },
     "e56f8108108c42988af66578da95c803": {
      "model_module": "@jupyter-widgets/controls",
      "model_module_version": "1.5.0",
      "model_name": "VBoxModel",
      "state": {
       "_dom_classes": [
        "widget-interact"
       ],
       "children": [
        "IPY_MODEL_0970a48ffe54495d9cbd42c3f3ab4d6c",
        "IPY_MODEL_a66936b45e2847589ec22cc1c13221b1",
        "IPY_MODEL_59c3521486594f78a98d393e207f3898",
        "IPY_MODEL_5965ecd22fd94ac9b8834a09cbfc6576"
       ],
       "layout": "IPY_MODEL_51353157d67046b6b5e27022c45632d6"
      }
     },
     "e9e4b0d9f08542d2be2684f57ed67373": {
      "model_module": "@jupyter-widgets/controls",
      "model_module_version": "1.5.0",
      "model_name": "CheckboxModel",
      "state": {
       "description": "unwrap",
       "disabled": false,
       "layout": "IPY_MODEL_1d210e98870d415c8d819016e2ec1501",
       "style": "IPY_MODEL_70870ccc363540e3ab392bbac4ab7ab9",
       "value": true
      }
     },
     "ee76e1c879ff4e4bb1e7caf54f04343d": {
      "model_module": "@jupyter-widgets/base",
      "model_module_version": "1.2.0",
      "model_name": "LayoutModel",
      "state": {}
     },
     "ef67b947ab784b888bc258307e748284": {
      "model_module": "@jupyter-widgets/controls",
      "model_module_version": "1.5.0",
      "model_name": "SliderStyleModel",
      "state": {
       "description_width": ""
      }
     },
     "f0a49ec366964223a43cd3860ff0edb7": {
      "model_module": "@jupyter-widgets/controls",
      "model_module_version": "1.5.0",
      "model_name": "SliderStyleModel",
      "state": {
       "description_width": ""
      }
     },
     "f208057bbc724df483350d415317e9a2": {
      "model_module": "@jupyter-widgets/base",
      "model_module_version": "1.2.0",
      "model_name": "LayoutModel",
      "state": {}
     },
     "f21ffa47a7314f0daf9b4201ec647f13": {
      "model_module": "@jupyter-widgets/controls",
      "model_module_version": "1.5.0",
      "model_name": "DescriptionStyleModel",
      "state": {
       "description_width": ""
      }
     },
     "f2f9fb3606934317b63f622c781d03bb": {
      "model_module": "@jupyter-widgets/controls",
      "model_module_version": "1.5.0",
      "model_name": "CheckboxModel",
      "state": {
       "description": "unwrap",
       "disabled": false,
       "layout": "IPY_MODEL_4a4f1eae1c3e48fa99aacac33c3573d0",
       "style": "IPY_MODEL_c44cca5695e54ff19f7412e7d08d1902",
       "value": true
      }
     },
     "f3d7a398669e492d93d7ed9abc2ea757": {
      "model_module": "@jupyter-widgets/controls",
      "model_module_version": "1.5.0",
      "model_name": "IntSliderModel",
      "state": {
       "description": "L",
       "layout": "IPY_MODEL_c5e24727146a4f1c95b5e55e85a66533",
       "max": 128,
       "min": 2,
       "style": "IPY_MODEL_b30c4b4b9af44ac09993b27262b0259e",
       "value": 16
      }
     },
     "f6b7964d33a74b4288b1861bf03e36d9": {
      "model_module": "@jupyter-widgets/base",
      "model_module_version": "1.2.0",
      "model_name": "LayoutModel",
      "state": {}
     },
     "f89886aba4c34d449ce8cbf9c45ea4cc": {
      "model_module": "@jupyter-widgets/controls",
      "model_module_version": "1.5.0",
      "model_name": "FloatSliderModel",
      "state": {
       "description": "wc",
       "layout": "IPY_MODEL_bd68e24af2b94ae18c2429165cac2e92",
       "max": 1,
       "min": 0.1,
       "step": 0.01,
       "style": "IPY_MODEL_c43b34dd82084145aa138a7caf48c05e",
       "value": 0.5
      }
     },
     "f8c1d8517c6c4b8a96c0754f923ad0c5": {
      "model_module": "@jupyter-widgets/controls",
      "model_module_version": "1.5.0",
      "model_name": "CheckboxModel",
      "state": {
       "description": "unwrap",
       "disabled": false,
       "layout": "IPY_MODEL_c54eec13b5e84a9cac70cf837d879d85",
       "style": "IPY_MODEL_45896b8ab76a4cb3b7e1595c4c811cfe",
       "value": false
      }
     },
     "fa41abfd3f1b4358a38852f7e9b79b4d": {
      "model_module": "@jupyter-widgets/base",
      "model_module_version": "1.2.0",
      "model_name": "LayoutModel",
      "state": {}
     },
     "fa972079af324291b5a19ba80bcdfc98": {
      "model_module": "@jupyter-widgets/base",
      "model_module_version": "1.2.0",
      "model_name": "LayoutModel",
      "state": {}
     },
     "fad6558ca7b4421a872e9c48c0fd5db3": {
      "model_module": "@jupyter-widgets/base",
      "model_module_version": "1.2.0",
      "model_name": "LayoutModel",
      "state": {}
     },
     "faf5451fe23d45c6b99edbc0a800faf2": {
      "model_module": "@jupyter-widgets/base",
      "model_module_version": "1.2.0",
      "model_name": "LayoutModel",
      "state": {}
     },
     "fbf926e4350749bab98b4227561f26da": {
      "model_module": "@jupyter-widgets/controls",
      "model_module_version": "1.5.0",
      "model_name": "FloatSliderModel",
      "state": {
       "description": "wc",
       "layout": "IPY_MODEL_641d559f5f02481b8f6403754fc5dae7",
       "max": 1,
       "min": 0.1,
       "step": 0.01,
       "style": "IPY_MODEL_ef67b947ab784b888bc258307e748284",
       "value": 0.5
      }
     },
     "fd846701f19e47f5bf1e55581ddaabcb": {
      "model_module": "@jupyter-widgets/base",
      "model_module_version": "1.2.0",
      "model_name": "LayoutModel",
      "state": {}
     },
     "feb0b85abc124c77a0c76f542518de47": {
      "model_module": "@jupyter-widgets/controls",
      "model_module_version": "1.5.0",
      "model_name": "SliderStyleModel",
      "state": {
       "description_width": ""
      }
     }
    },
    "version_major": 2,
    "version_minor": 0
   }
  }
 },
 "nbformat": 4,
 "nbformat_minor": 2
}
