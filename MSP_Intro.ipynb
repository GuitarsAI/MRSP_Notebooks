{
 "cells": [
  {
   "cell_type": "markdown",
   "metadata": {
    "hide_input": true,
    "slideshow": {
     "slide_type": "slide"
    }
   },
   "source": [
    "<p align=\"center\">\n",
    "    <img src=\"./images/msp_header.png\">\n",
    "</p>\n",
    "\n",
    "#### Prof. Dr. -Ing. Gerald Schuller <br> Jupyter Notebook: Renato Profeta\n",
    "\n"
   ]
  },
  {
   "cell_type": "code",
   "execution_count": 1,
   "metadata": {},
   "outputs": [
    {
     "name": "stdout",
     "output_type": "stream",
     "text": [
      "Not inside Google Colab: No module named 'google'. Using standard configurations.\n"
     ]
    }
   ],
   "source": [
    "# Environments Confguration\n",
    "\n",
    "# Google Colab\n",
    "inColab=False\n",
    "\n",
    "try:\n",
    "    import google.colab\n",
    "    from google.colab import widgets\n",
    "    inColab=True\n",
    "    \n",
    "    # Upgrade Matplotlib\n",
    "    !pip install matplotlib --upgrade\n",
    "    \n",
    "except Exception as e:\n",
    "    if inColab:\n",
    "        print(\"Error in Congiguration.%s\" % e)\n",
    "        stop\n",
    "    \n",
    "    print(\"Not inside Google Colab: %s. Using standard configurations.\" % (e))"
   ]
  },
  {
   "cell_type": "markdown",
   "metadata": {
    "slideshow": {
     "slide_type": "-"
    }
   },
   "source": [
    "# Introduction"
   ]
  },
  {
   "cell_type": "code",
   "execution_count": 1,
   "metadata": {
    "hide_input": true
   },
   "outputs": [
    {
     "data": {
      "text/html": [
       "<iframe width=\"560\" height=\"315\" src=\"https://www.youtube.com/embed/rkQN6WVi8ak\" frameborder=\"0\" allow=\"accelerometer; encrypted-media; gyroscope; picture-in-picture\" allowfullscreen></iframe>\n"
      ],
      "text/plain": [
       "<IPython.core.display.HTML object>"
      ]
     },
     "metadata": {},
     "output_type": "display_data"
    }
   ],
   "source": [
    "%%html\n",
    "<iframe width=\"560\" height=\"315\" src=\"https://www.youtube.com/embed/rkQN6WVi8ak\" frameborder=\"0\" allow=\"accelerometer; encrypted-media; gyroscope; picture-in-picture\" allowfullscreen></iframe>"
   ]
  },
  {
   "cell_type": "markdown",
   "metadata": {
    "slideshow": {
     "slide_type": "slide"
    }
   },
   "source": [
    "## What is Multirate Signal Processing?"
   ]
  },
  {
   "cell_type": "code",
   "execution_count": 2,
   "metadata": {
    "hide_input": true
   },
   "outputs": [
    {
     "data": {
      "text/html": [
       "<iframe width=\"560\" height=\"315\" src=\"https://www.youtube.com/embed/wgIdNoxhEMY\" frameborder=\"0\" allow=\"accelerometer; encrypted-media; gyroscope; picture-in-picture\"></iframe>\n"
      ],
      "text/plain": [
       "<IPython.core.display.HTML object>"
      ]
     },
     "metadata": {},
     "output_type": "display_data"
    }
   ],
   "source": [
    "%%html\n",
    "<iframe width=\"560\" height=\"315\" src=\"https://www.youtube.com/embed/wgIdNoxhEMY\" frameborder=\"0\" allow=\"accelerometer; encrypted-media; gyroscope; picture-in-picture\"></iframe>"
   ]
  },
  {
   "cell_type": "markdown",
   "metadata": {
    "slideshow": {
     "slide_type": "-"
    }
   },
   "source": [
    "**Multirate:** meaning different sampling\n",
    "rates, as from using downsampling or\n",
    "upsampling. In filter banks (or convolutional\n",
    "Neural Networks, e.g. for pattern\n",
    "recognition), we reduce the sampling rate\n",
    "after filtering a signal, which reduces the\n",
    "bandwidth. For reconstruction and obtaining\n",
    "the original sampling rate, we need to upsample and filter (for interpolation) the\n",
    "signal."
   ]
  },
  {
   "cell_type": "markdown",
   "metadata": {
    "slideshow": {
     "slide_type": "slide"
    }
   },
   "source": [
    "## Where is Multirate Signal Processing used?"
   ]
  },
  {
   "cell_type": "markdown",
   "metadata": {
    "slideshow": {
     "slide_type": "-"
    }
   },
   "source": [
    "For instance in coding and compression algorithms, like the:\n",
    "- Modified Discrete Cosine Transform (MDCT) filter bank in audio coding \n",
    "- Discrete Cosine Transform (DCT) in image or video coding\n",
    "- Channel coding (OFDM:Orthogonal frequency-division multiplexing), where a channel is divided into many narrower channels with lower data rates and hence longer symbol duration, to reduce problems with multipath/reflections\n",
    "- Machine Learning and Deep Neural Networks\n"
   ]
  },
  {
   "cell_type": "markdown",
   "metadata": {
    "slideshow": {
     "slide_type": "slide"
    }
   },
   "source": [
    "## Example of a Discrete Time Signal:"
   ]
  },
  {
   "cell_type": "code",
   "execution_count": 4,
   "metadata": {
    "hide_input": true
   },
   "outputs": [
    {
     "data": {
      "text/html": [
       "<iframe width=\"560\" height=\"315\" src=\"https://www.youtube.com/embed/J5dJMhYMNXo\" frameborder=\"0\" allow=\"accelerometer; encrypted-media; gyroscope; picture-in-picture\" allowfullscreen></iframe>\n"
      ],
      "text/plain": [
       "<IPython.core.display.HTML object>"
      ]
     },
     "metadata": {},
     "output_type": "display_data"
    }
   ],
   "source": [
    "%%html\n",
    "<iframe width=\"560\" height=\"315\" src=\"https://www.youtube.com/embed/J5dJMhYMNXo\" frameborder=\"0\" allow=\"accelerometer; encrypted-media; gyroscope; picture-in-picture\" allowfullscreen></iframe>"
   ]
  },
  {
   "cell_type": "code",
   "execution_count": 2,
   "metadata": {
    "hide_input": false,
    "slideshow": {
     "slide_type": "-"
    }
   },
   "outputs": [
    {
     "data": {
      "application/javascript": [
       "/* Put everything inside the global mpl namespace */\n",
       "window.mpl = {};\n",
       "\n",
       "\n",
       "mpl.get_websocket_type = function() {\n",
       "    if (typeof(WebSocket) !== 'undefined') {\n",
       "        return WebSocket;\n",
       "    } else if (typeof(MozWebSocket) !== 'undefined') {\n",
       "        return MozWebSocket;\n",
       "    } else {\n",
       "        alert('Your browser does not have WebSocket support. ' +\n",
       "              'Please try Chrome, Safari or Firefox ≥ 6. ' +\n",
       "              'Firefox 4 and 5 are also supported but you ' +\n",
       "              'have to enable WebSockets in about:config.');\n",
       "    };\n",
       "}\n",
       "\n",
       "mpl.figure = function(figure_id, websocket, ondownload, parent_element) {\n",
       "    this.id = figure_id;\n",
       "\n",
       "    this.ws = websocket;\n",
       "\n",
       "    this.supports_binary = (this.ws.binaryType != undefined);\n",
       "\n",
       "    if (!this.supports_binary) {\n",
       "        var warnings = document.getElementById(\"mpl-warnings\");\n",
       "        if (warnings) {\n",
       "            warnings.style.display = 'block';\n",
       "            warnings.textContent = (\n",
       "                \"This browser does not support binary websocket messages. \" +\n",
       "                    \"Performance may be slow.\");\n",
       "        }\n",
       "    }\n",
       "\n",
       "    this.imageObj = new Image();\n",
       "\n",
       "    this.context = undefined;\n",
       "    this.message = undefined;\n",
       "    this.canvas = undefined;\n",
       "    this.rubberband_canvas = undefined;\n",
       "    this.rubberband_context = undefined;\n",
       "    this.format_dropdown = undefined;\n",
       "\n",
       "    this.image_mode = 'full';\n",
       "\n",
       "    this.root = $('<div/>');\n",
       "    this._root_extra_style(this.root)\n",
       "    this.root.attr('style', 'display: inline-block');\n",
       "\n",
       "    $(parent_element).append(this.root);\n",
       "\n",
       "    this._init_header(this);\n",
       "    this._init_canvas(this);\n",
       "    this._init_toolbar(this);\n",
       "\n",
       "    var fig = this;\n",
       "\n",
       "    this.waiting = false;\n",
       "\n",
       "    this.ws.onopen =  function () {\n",
       "            fig.send_message(\"supports_binary\", {value: fig.supports_binary});\n",
       "            fig.send_message(\"send_image_mode\", {});\n",
       "            if (mpl.ratio != 1) {\n",
       "                fig.send_message(\"set_dpi_ratio\", {'dpi_ratio': mpl.ratio});\n",
       "            }\n",
       "            fig.send_message(\"refresh\", {});\n",
       "        }\n",
       "\n",
       "    this.imageObj.onload = function() {\n",
       "            if (fig.image_mode == 'full') {\n",
       "                // Full images could contain transparency (where diff images\n",
       "                // almost always do), so we need to clear the canvas so that\n",
       "                // there is no ghosting.\n",
       "                fig.context.clearRect(0, 0, fig.canvas.width, fig.canvas.height);\n",
       "            }\n",
       "            fig.context.drawImage(fig.imageObj, 0, 0);\n",
       "        };\n",
       "\n",
       "    this.imageObj.onunload = function() {\n",
       "        fig.ws.close();\n",
       "    }\n",
       "\n",
       "    this.ws.onmessage = this._make_on_message_function(this);\n",
       "\n",
       "    this.ondownload = ondownload;\n",
       "}\n",
       "\n",
       "mpl.figure.prototype._init_header = function() {\n",
       "    var titlebar = $(\n",
       "        '<div class=\"ui-dialog-titlebar ui-widget-header ui-corner-all ' +\n",
       "        'ui-helper-clearfix\"/>');\n",
       "    var titletext = $(\n",
       "        '<div class=\"ui-dialog-title\" style=\"width: 100%; ' +\n",
       "        'text-align: center; padding: 3px;\"/>');\n",
       "    titlebar.append(titletext)\n",
       "    this.root.append(titlebar);\n",
       "    this.header = titletext[0];\n",
       "}\n",
       "\n",
       "\n",
       "\n",
       "mpl.figure.prototype._canvas_extra_style = function(canvas_div) {\n",
       "\n",
       "}\n",
       "\n",
       "\n",
       "mpl.figure.prototype._root_extra_style = function(canvas_div) {\n",
       "\n",
       "}\n",
       "\n",
       "mpl.figure.prototype._init_canvas = function() {\n",
       "    var fig = this;\n",
       "\n",
       "    var canvas_div = $('<div/>');\n",
       "\n",
       "    canvas_div.attr('style', 'position: relative; clear: both; outline: 0');\n",
       "\n",
       "    function canvas_keyboard_event(event) {\n",
       "        return fig.key_event(event, event['data']);\n",
       "    }\n",
       "\n",
       "    canvas_div.keydown('key_press', canvas_keyboard_event);\n",
       "    canvas_div.keyup('key_release', canvas_keyboard_event);\n",
       "    this.canvas_div = canvas_div\n",
       "    this._canvas_extra_style(canvas_div)\n",
       "    this.root.append(canvas_div);\n",
       "\n",
       "    var canvas = $('<canvas/>');\n",
       "    canvas.addClass('mpl-canvas');\n",
       "    canvas.attr('style', \"left: 0; top: 0; z-index: 0; outline: 0\")\n",
       "\n",
       "    this.canvas = canvas[0];\n",
       "    this.context = canvas[0].getContext(\"2d\");\n",
       "\n",
       "    var backingStore = this.context.backingStorePixelRatio ||\n",
       "\tthis.context.webkitBackingStorePixelRatio ||\n",
       "\tthis.context.mozBackingStorePixelRatio ||\n",
       "\tthis.context.msBackingStorePixelRatio ||\n",
       "\tthis.context.oBackingStorePixelRatio ||\n",
       "\tthis.context.backingStorePixelRatio || 1;\n",
       "\n",
       "    mpl.ratio = (window.devicePixelRatio || 1) / backingStore;\n",
       "\n",
       "    var rubberband = $('<canvas/>');\n",
       "    rubberband.attr('style', \"position: absolute; left: 0; top: 0; z-index: 1;\")\n",
       "\n",
       "    var pass_mouse_events = true;\n",
       "\n",
       "    canvas_div.resizable({\n",
       "        start: function(event, ui) {\n",
       "            pass_mouse_events = false;\n",
       "        },\n",
       "        resize: function(event, ui) {\n",
       "            fig.request_resize(ui.size.width, ui.size.height);\n",
       "        },\n",
       "        stop: function(event, ui) {\n",
       "            pass_mouse_events = true;\n",
       "            fig.request_resize(ui.size.width, ui.size.height);\n",
       "        },\n",
       "    });\n",
       "\n",
       "    function mouse_event_fn(event) {\n",
       "        if (pass_mouse_events)\n",
       "            return fig.mouse_event(event, event['data']);\n",
       "    }\n",
       "\n",
       "    rubberband.mousedown('button_press', mouse_event_fn);\n",
       "    rubberband.mouseup('button_release', mouse_event_fn);\n",
       "    // Throttle sequential mouse events to 1 every 20ms.\n",
       "    rubberband.mousemove('motion_notify', mouse_event_fn);\n",
       "\n",
       "    rubberband.mouseenter('figure_enter', mouse_event_fn);\n",
       "    rubberband.mouseleave('figure_leave', mouse_event_fn);\n",
       "\n",
       "    canvas_div.on(\"wheel\", function (event) {\n",
       "        event = event.originalEvent;\n",
       "        event['data'] = 'scroll'\n",
       "        if (event.deltaY < 0) {\n",
       "            event.step = 1;\n",
       "        } else {\n",
       "            event.step = -1;\n",
       "        }\n",
       "        mouse_event_fn(event);\n",
       "    });\n",
       "\n",
       "    canvas_div.append(canvas);\n",
       "    canvas_div.append(rubberband);\n",
       "\n",
       "    this.rubberband = rubberband;\n",
       "    this.rubberband_canvas = rubberband[0];\n",
       "    this.rubberband_context = rubberband[0].getContext(\"2d\");\n",
       "    this.rubberband_context.strokeStyle = \"#000000\";\n",
       "\n",
       "    this._resize_canvas = function(width, height) {\n",
       "        // Keep the size of the canvas, canvas container, and rubber band\n",
       "        // canvas in synch.\n",
       "        canvas_div.css('width', width)\n",
       "        canvas_div.css('height', height)\n",
       "\n",
       "        canvas.attr('width', width * mpl.ratio);\n",
       "        canvas.attr('height', height * mpl.ratio);\n",
       "        canvas.attr('style', 'width: ' + width + 'px; height: ' + height + 'px;');\n",
       "\n",
       "        rubberband.attr('width', width);\n",
       "        rubberband.attr('height', height);\n",
       "    }\n",
       "\n",
       "    // Set the figure to an initial 600x600px, this will subsequently be updated\n",
       "    // upon first draw.\n",
       "    this._resize_canvas(600, 600);\n",
       "\n",
       "    // Disable right mouse context menu.\n",
       "    $(this.rubberband_canvas).bind(\"contextmenu\",function(e){\n",
       "        return false;\n",
       "    });\n",
       "\n",
       "    function set_focus () {\n",
       "        canvas.focus();\n",
       "        canvas_div.focus();\n",
       "    }\n",
       "\n",
       "    window.setTimeout(set_focus, 100);\n",
       "}\n",
       "\n",
       "mpl.figure.prototype._init_toolbar = function() {\n",
       "    var fig = this;\n",
       "\n",
       "    var nav_element = $('<div/>');\n",
       "    nav_element.attr('style', 'width: 100%');\n",
       "    this.root.append(nav_element);\n",
       "\n",
       "    // Define a callback function for later on.\n",
       "    function toolbar_event(event) {\n",
       "        return fig.toolbar_button_onclick(event['data']);\n",
       "    }\n",
       "    function toolbar_mouse_event(event) {\n",
       "        return fig.toolbar_button_onmouseover(event['data']);\n",
       "    }\n",
       "\n",
       "    for(var toolbar_ind in mpl.toolbar_items) {\n",
       "        var name = mpl.toolbar_items[toolbar_ind][0];\n",
       "        var tooltip = mpl.toolbar_items[toolbar_ind][1];\n",
       "        var image = mpl.toolbar_items[toolbar_ind][2];\n",
       "        var method_name = mpl.toolbar_items[toolbar_ind][3];\n",
       "\n",
       "        if (!name) {\n",
       "            // put a spacer in here.\n",
       "            continue;\n",
       "        }\n",
       "        var button = $('<button/>');\n",
       "        button.addClass('ui-button ui-widget ui-state-default ui-corner-all ' +\n",
       "                        'ui-button-icon-only');\n",
       "        button.attr('role', 'button');\n",
       "        button.attr('aria-disabled', 'false');\n",
       "        button.click(method_name, toolbar_event);\n",
       "        button.mouseover(tooltip, toolbar_mouse_event);\n",
       "\n",
       "        var icon_img = $('<span/>');\n",
       "        icon_img.addClass('ui-button-icon-primary ui-icon');\n",
       "        icon_img.addClass(image);\n",
       "        icon_img.addClass('ui-corner-all');\n",
       "\n",
       "        var tooltip_span = $('<span/>');\n",
       "        tooltip_span.addClass('ui-button-text');\n",
       "        tooltip_span.html(tooltip);\n",
       "\n",
       "        button.append(icon_img);\n",
       "        button.append(tooltip_span);\n",
       "\n",
       "        nav_element.append(button);\n",
       "    }\n",
       "\n",
       "    var fmt_picker_span = $('<span/>');\n",
       "\n",
       "    var fmt_picker = $('<select/>');\n",
       "    fmt_picker.addClass('mpl-toolbar-option ui-widget ui-widget-content');\n",
       "    fmt_picker_span.append(fmt_picker);\n",
       "    nav_element.append(fmt_picker_span);\n",
       "    this.format_dropdown = fmt_picker[0];\n",
       "\n",
       "    for (var ind in mpl.extensions) {\n",
       "        var fmt = mpl.extensions[ind];\n",
       "        var option = $(\n",
       "            '<option/>', {selected: fmt === mpl.default_extension}).html(fmt);\n",
       "        fmt_picker.append(option);\n",
       "    }\n",
       "\n",
       "    // Add hover states to the ui-buttons\n",
       "    $( \".ui-button\" ).hover(\n",
       "        function() { $(this).addClass(\"ui-state-hover\");},\n",
       "        function() { $(this).removeClass(\"ui-state-hover\");}\n",
       "    );\n",
       "\n",
       "    var status_bar = $('<span class=\"mpl-message\"/>');\n",
       "    nav_element.append(status_bar);\n",
       "    this.message = status_bar[0];\n",
       "}\n",
       "\n",
       "mpl.figure.prototype.request_resize = function(x_pixels, y_pixels) {\n",
       "    // Request matplotlib to resize the figure. Matplotlib will then trigger a resize in the client,\n",
       "    // which will in turn request a refresh of the image.\n",
       "    this.send_message('resize', {'width': x_pixels, 'height': y_pixels});\n",
       "}\n",
       "\n",
       "mpl.figure.prototype.send_message = function(type, properties) {\n",
       "    properties['type'] = type;\n",
       "    properties['figure_id'] = this.id;\n",
       "    this.ws.send(JSON.stringify(properties));\n",
       "}\n",
       "\n",
       "mpl.figure.prototype.send_draw_message = function() {\n",
       "    if (!this.waiting) {\n",
       "        this.waiting = true;\n",
       "        this.ws.send(JSON.stringify({type: \"draw\", figure_id: this.id}));\n",
       "    }\n",
       "}\n",
       "\n",
       "\n",
       "mpl.figure.prototype.handle_save = function(fig, msg) {\n",
       "    var format_dropdown = fig.format_dropdown;\n",
       "    var format = format_dropdown.options[format_dropdown.selectedIndex].value;\n",
       "    fig.ondownload(fig, format);\n",
       "}\n",
       "\n",
       "\n",
       "mpl.figure.prototype.handle_resize = function(fig, msg) {\n",
       "    var size = msg['size'];\n",
       "    if (size[0] != fig.canvas.width || size[1] != fig.canvas.height) {\n",
       "        fig._resize_canvas(size[0], size[1]);\n",
       "        fig.send_message(\"refresh\", {});\n",
       "    };\n",
       "}\n",
       "\n",
       "mpl.figure.prototype.handle_rubberband = function(fig, msg) {\n",
       "    var x0 = msg['x0'] / mpl.ratio;\n",
       "    var y0 = (fig.canvas.height - msg['y0']) / mpl.ratio;\n",
       "    var x1 = msg['x1'] / mpl.ratio;\n",
       "    var y1 = (fig.canvas.height - msg['y1']) / mpl.ratio;\n",
       "    x0 = Math.floor(x0) + 0.5;\n",
       "    y0 = Math.floor(y0) + 0.5;\n",
       "    x1 = Math.floor(x1) + 0.5;\n",
       "    y1 = Math.floor(y1) + 0.5;\n",
       "    var min_x = Math.min(x0, x1);\n",
       "    var min_y = Math.min(y0, y1);\n",
       "    var width = Math.abs(x1 - x0);\n",
       "    var height = Math.abs(y1 - y0);\n",
       "\n",
       "    fig.rubberband_context.clearRect(\n",
       "        0, 0, fig.canvas.width, fig.canvas.height);\n",
       "\n",
       "    fig.rubberband_context.strokeRect(min_x, min_y, width, height);\n",
       "}\n",
       "\n",
       "mpl.figure.prototype.handle_figure_label = function(fig, msg) {\n",
       "    // Updates the figure title.\n",
       "    fig.header.textContent = msg['label'];\n",
       "}\n",
       "\n",
       "mpl.figure.prototype.handle_cursor = function(fig, msg) {\n",
       "    var cursor = msg['cursor'];\n",
       "    switch(cursor)\n",
       "    {\n",
       "    case 0:\n",
       "        cursor = 'pointer';\n",
       "        break;\n",
       "    case 1:\n",
       "        cursor = 'default';\n",
       "        break;\n",
       "    case 2:\n",
       "        cursor = 'crosshair';\n",
       "        break;\n",
       "    case 3:\n",
       "        cursor = 'move';\n",
       "        break;\n",
       "    }\n",
       "    fig.rubberband_canvas.style.cursor = cursor;\n",
       "}\n",
       "\n",
       "mpl.figure.prototype.handle_message = function(fig, msg) {\n",
       "    fig.message.textContent = msg['message'];\n",
       "}\n",
       "\n",
       "mpl.figure.prototype.handle_draw = function(fig, msg) {\n",
       "    // Request the server to send over a new figure.\n",
       "    fig.send_draw_message();\n",
       "}\n",
       "\n",
       "mpl.figure.prototype.handle_image_mode = function(fig, msg) {\n",
       "    fig.image_mode = msg['mode'];\n",
       "}\n",
       "\n",
       "mpl.figure.prototype.updated_canvas_event = function() {\n",
       "    // Called whenever the canvas gets updated.\n",
       "    this.send_message(\"ack\", {});\n",
       "}\n",
       "\n",
       "// A function to construct a web socket function for onmessage handling.\n",
       "// Called in the figure constructor.\n",
       "mpl.figure.prototype._make_on_message_function = function(fig) {\n",
       "    return function socket_on_message(evt) {\n",
       "        if (evt.data instanceof Blob) {\n",
       "            /* FIXME: We get \"Resource interpreted as Image but\n",
       "             * transferred with MIME type text/plain:\" errors on\n",
       "             * Chrome.  But how to set the MIME type?  It doesn't seem\n",
       "             * to be part of the websocket stream */\n",
       "            evt.data.type = \"image/png\";\n",
       "\n",
       "            /* Free the memory for the previous frames */\n",
       "            if (fig.imageObj.src) {\n",
       "                (window.URL || window.webkitURL).revokeObjectURL(\n",
       "                    fig.imageObj.src);\n",
       "            }\n",
       "\n",
       "            fig.imageObj.src = (window.URL || window.webkitURL).createObjectURL(\n",
       "                evt.data);\n",
       "            fig.updated_canvas_event();\n",
       "            fig.waiting = false;\n",
       "            return;\n",
       "        }\n",
       "        else if (typeof evt.data === 'string' && evt.data.slice(0, 21) == \"data:image/png;base64\") {\n",
       "            fig.imageObj.src = evt.data;\n",
       "            fig.updated_canvas_event();\n",
       "            fig.waiting = false;\n",
       "            return;\n",
       "        }\n",
       "\n",
       "        var msg = JSON.parse(evt.data);\n",
       "        var msg_type = msg['type'];\n",
       "\n",
       "        // Call the  \"handle_{type}\" callback, which takes\n",
       "        // the figure and JSON message as its only arguments.\n",
       "        try {\n",
       "            var callback = fig[\"handle_\" + msg_type];\n",
       "        } catch (e) {\n",
       "            console.log(\"No handler for the '\" + msg_type + \"' message type: \", msg);\n",
       "            return;\n",
       "        }\n",
       "\n",
       "        if (callback) {\n",
       "            try {\n",
       "                // console.log(\"Handling '\" + msg_type + \"' message: \", msg);\n",
       "                callback(fig, msg);\n",
       "            } catch (e) {\n",
       "                console.log(\"Exception inside the 'handler_\" + msg_type + \"' callback:\", e, e.stack, msg);\n",
       "            }\n",
       "        }\n",
       "    };\n",
       "}\n",
       "\n",
       "// from http://stackoverflow.com/questions/1114465/getting-mouse-location-in-canvas\n",
       "mpl.findpos = function(e) {\n",
       "    //this section is from http://www.quirksmode.org/js/events_properties.html\n",
       "    var targ;\n",
       "    if (!e)\n",
       "        e = window.event;\n",
       "    if (e.target)\n",
       "        targ = e.target;\n",
       "    else if (e.srcElement)\n",
       "        targ = e.srcElement;\n",
       "    if (targ.nodeType == 3) // defeat Safari bug\n",
       "        targ = targ.parentNode;\n",
       "\n",
       "    // jQuery normalizes the pageX and pageY\n",
       "    // pageX,Y are the mouse positions relative to the document\n",
       "    // offset() returns the position of the element relative to the document\n",
       "    var x = e.pageX - $(targ).offset().left;\n",
       "    var y = e.pageY - $(targ).offset().top;\n",
       "\n",
       "    return {\"x\": x, \"y\": y};\n",
       "};\n",
       "\n",
       "/*\n",
       " * return a copy of an object with only non-object keys\n",
       " * we need this to avoid circular references\n",
       " * http://stackoverflow.com/a/24161582/3208463\n",
       " */\n",
       "function simpleKeys (original) {\n",
       "  return Object.keys(original).reduce(function (obj, key) {\n",
       "    if (typeof original[key] !== 'object')\n",
       "        obj[key] = original[key]\n",
       "    return obj;\n",
       "  }, {});\n",
       "}\n",
       "\n",
       "mpl.figure.prototype.mouse_event = function(event, name) {\n",
       "    var canvas_pos = mpl.findpos(event)\n",
       "\n",
       "    if (name === 'button_press')\n",
       "    {\n",
       "        this.canvas.focus();\n",
       "        this.canvas_div.focus();\n",
       "    }\n",
       "\n",
       "    var x = canvas_pos.x * mpl.ratio;\n",
       "    var y = canvas_pos.y * mpl.ratio;\n",
       "\n",
       "    this.send_message(name, {x: x, y: y, button: event.button,\n",
       "                             step: event.step,\n",
       "                             guiEvent: simpleKeys(event)});\n",
       "\n",
       "    /* This prevents the web browser from automatically changing to\n",
       "     * the text insertion cursor when the button is pressed.  We want\n",
       "     * to control all of the cursor setting manually through the\n",
       "     * 'cursor' event from matplotlib */\n",
       "    event.preventDefault();\n",
       "    return false;\n",
       "}\n",
       "\n",
       "mpl.figure.prototype._key_event_extra = function(event, name) {\n",
       "    // Handle any extra behaviour associated with a key event\n",
       "}\n",
       "\n",
       "mpl.figure.prototype.key_event = function(event, name) {\n",
       "\n",
       "    // Prevent repeat events\n",
       "    if (name == 'key_press')\n",
       "    {\n",
       "        if (event.which === this._key)\n",
       "            return;\n",
       "        else\n",
       "            this._key = event.which;\n",
       "    }\n",
       "    if (name == 'key_release')\n",
       "        this._key = null;\n",
       "\n",
       "    var value = '';\n",
       "    if (event.ctrlKey && event.which != 17)\n",
       "        value += \"ctrl+\";\n",
       "    if (event.altKey && event.which != 18)\n",
       "        value += \"alt+\";\n",
       "    if (event.shiftKey && event.which != 16)\n",
       "        value += \"shift+\";\n",
       "\n",
       "    value += 'k';\n",
       "    value += event.which.toString();\n",
       "\n",
       "    this._key_event_extra(event, name);\n",
       "\n",
       "    this.send_message(name, {key: value,\n",
       "                             guiEvent: simpleKeys(event)});\n",
       "    return false;\n",
       "}\n",
       "\n",
       "mpl.figure.prototype.toolbar_button_onclick = function(name) {\n",
       "    if (name == 'download') {\n",
       "        this.handle_save(this, null);\n",
       "    } else {\n",
       "        this.send_message(\"toolbar_button\", {name: name});\n",
       "    }\n",
       "};\n",
       "\n",
       "mpl.figure.prototype.toolbar_button_onmouseover = function(tooltip) {\n",
       "    this.message.textContent = tooltip;\n",
       "};\n",
       "mpl.toolbar_items = [[\"Home\", \"Reset original view\", \"fa fa-home icon-home\", \"home\"], [\"Back\", \"Back to previous view\", \"fa fa-arrow-left icon-arrow-left\", \"back\"], [\"Forward\", \"Forward to next view\", \"fa fa-arrow-right icon-arrow-right\", \"forward\"], [\"\", \"\", \"\", \"\"], [\"Pan\", \"Pan axes with left mouse, zoom with right\", \"fa fa-arrows icon-move\", \"pan\"], [\"Zoom\", \"Zoom to rectangle\", \"fa fa-square-o icon-check-empty\", \"zoom\"], [\"\", \"\", \"\", \"\"], [\"Download\", \"Download plot\", \"fa fa-floppy-o icon-save\", \"download\"]];\n",
       "\n",
       "mpl.extensions = [\"eps\", \"pdf\", \"png\", \"ps\", \"raw\", \"svg\"];\n",
       "\n",
       "mpl.default_extension = \"png\";var comm_websocket_adapter = function(comm) {\n",
       "    // Create a \"websocket\"-like object which calls the given IPython comm\n",
       "    // object with the appropriate methods. Currently this is a non binary\n",
       "    // socket, so there is still some room for performance tuning.\n",
       "    var ws = {};\n",
       "\n",
       "    ws.close = function() {\n",
       "        comm.close()\n",
       "    };\n",
       "    ws.send = function(m) {\n",
       "        //console.log('sending', m);\n",
       "        comm.send(m);\n",
       "    };\n",
       "    // Register the callback with on_msg.\n",
       "    comm.on_msg(function(msg) {\n",
       "        //console.log('receiving', msg['content']['data'], msg);\n",
       "        // Pass the mpl event to the overridden (by mpl) onmessage function.\n",
       "        ws.onmessage(msg['content']['data'])\n",
       "    });\n",
       "    return ws;\n",
       "}\n",
       "\n",
       "mpl.mpl_figure_comm = function(comm, msg) {\n",
       "    // This is the function which gets called when the mpl process\n",
       "    // starts-up an IPython Comm through the \"matplotlib\" channel.\n",
       "\n",
       "    var id = msg.content.data.id;\n",
       "    // Get hold of the div created by the display call when the Comm\n",
       "    // socket was opened in Python.\n",
       "    var element = $(\"#\" + id);\n",
       "    var ws_proxy = comm_websocket_adapter(comm)\n",
       "\n",
       "    function ondownload(figure, format) {\n",
       "        window.open(figure.imageObj.src);\n",
       "    }\n",
       "\n",
       "    var fig = new mpl.figure(id, ws_proxy,\n",
       "                           ondownload,\n",
       "                           element.get(0));\n",
       "\n",
       "    // Call onopen now - mpl needs it, as it is assuming we've passed it a real\n",
       "    // web socket which is closed, not our websocket->open comm proxy.\n",
       "    ws_proxy.onopen();\n",
       "\n",
       "    fig.parent_element = element.get(0);\n",
       "    fig.cell_info = mpl.find_output_cell(\"<div id='\" + id + \"'></div>\");\n",
       "    if (!fig.cell_info) {\n",
       "        console.error(\"Failed to find cell for figure\", id, fig);\n",
       "        return;\n",
       "    }\n",
       "\n",
       "    var output_index = fig.cell_info[2]\n",
       "    var cell = fig.cell_info[0];\n",
       "\n",
       "};\n",
       "\n",
       "mpl.figure.prototype.handle_close = function(fig, msg) {\n",
       "    var width = fig.canvas.width/mpl.ratio\n",
       "    fig.root.unbind('remove')\n",
       "\n",
       "    // Update the output cell to use the data from the current canvas.\n",
       "    fig.push_to_output();\n",
       "    var dataURL = fig.canvas.toDataURL();\n",
       "    // Re-enable the keyboard manager in IPython - without this line, in FF,\n",
       "    // the notebook keyboard shortcuts fail.\n",
       "    IPython.keyboard_manager.enable()\n",
       "    $(fig.parent_element).html('<img src=\"' + dataURL + '\" width=\"' + width + '\">');\n",
       "    fig.close_ws(fig, msg);\n",
       "}\n",
       "\n",
       "mpl.figure.prototype.close_ws = function(fig, msg){\n",
       "    fig.send_message('closing', msg);\n",
       "    // fig.ws.close()\n",
       "}\n",
       "\n",
       "mpl.figure.prototype.push_to_output = function(remove_interactive) {\n",
       "    // Turn the data on the canvas into data in the output cell.\n",
       "    var width = this.canvas.width/mpl.ratio\n",
       "    var dataURL = this.canvas.toDataURL();\n",
       "    this.cell_info[1]['text/html'] = '<img src=\"' + dataURL + '\" width=\"' + width + '\">';\n",
       "}\n",
       "\n",
       "mpl.figure.prototype.updated_canvas_event = function() {\n",
       "    // Tell IPython that the notebook contents must change.\n",
       "    IPython.notebook.set_dirty(true);\n",
       "    this.send_message(\"ack\", {});\n",
       "    var fig = this;\n",
       "    // Wait a second, then push the new image to the DOM so\n",
       "    // that it is saved nicely (might be nice to debounce this).\n",
       "    setTimeout(function () { fig.push_to_output() }, 1000);\n",
       "}\n",
       "\n",
       "mpl.figure.prototype._init_toolbar = function() {\n",
       "    var fig = this;\n",
       "\n",
       "    var nav_element = $('<div/>');\n",
       "    nav_element.attr('style', 'width: 100%');\n",
       "    this.root.append(nav_element);\n",
       "\n",
       "    // Define a callback function for later on.\n",
       "    function toolbar_event(event) {\n",
       "        return fig.toolbar_button_onclick(event['data']);\n",
       "    }\n",
       "    function toolbar_mouse_event(event) {\n",
       "        return fig.toolbar_button_onmouseover(event['data']);\n",
       "    }\n",
       "\n",
       "    for(var toolbar_ind in mpl.toolbar_items){\n",
       "        var name = mpl.toolbar_items[toolbar_ind][0];\n",
       "        var tooltip = mpl.toolbar_items[toolbar_ind][1];\n",
       "        var image = mpl.toolbar_items[toolbar_ind][2];\n",
       "        var method_name = mpl.toolbar_items[toolbar_ind][3];\n",
       "\n",
       "        if (!name) { continue; };\n",
       "\n",
       "        var button = $('<button class=\"btn btn-default\" href=\"#\" title=\"' + name + '\"><i class=\"fa ' + image + ' fa-lg\"></i></button>');\n",
       "        button.click(method_name, toolbar_event);\n",
       "        button.mouseover(tooltip, toolbar_mouse_event);\n",
       "        nav_element.append(button);\n",
       "    }\n",
       "\n",
       "    // Add the status bar.\n",
       "    var status_bar = $('<span class=\"mpl-message\" style=\"text-align:right; float: right;\"/>');\n",
       "    nav_element.append(status_bar);\n",
       "    this.message = status_bar[0];\n",
       "\n",
       "    // Add the close button to the window.\n",
       "    var buttongrp = $('<div class=\"btn-group inline pull-right\"></div>');\n",
       "    var button = $('<button class=\"btn btn-mini btn-primary\" href=\"#\" title=\"Stop Interaction\"><i class=\"fa fa-power-off icon-remove icon-large\"></i></button>');\n",
       "    button.click(function (evt) { fig.handle_close(fig, {}); } );\n",
       "    button.mouseover('Stop Interaction', toolbar_mouse_event);\n",
       "    buttongrp.append(button);\n",
       "    var titlebar = this.root.find($('.ui-dialog-titlebar'));\n",
       "    titlebar.prepend(buttongrp);\n",
       "}\n",
       "\n",
       "mpl.figure.prototype._root_extra_style = function(el){\n",
       "    var fig = this\n",
       "    el.on(\"remove\", function(){\n",
       "\tfig.close_ws(fig, {});\n",
       "    });\n",
       "}\n",
       "\n",
       "mpl.figure.prototype._canvas_extra_style = function(el){\n",
       "    // this is important to make the div 'focusable\n",
       "    el.attr('tabindex', 0)\n",
       "    // reach out to IPython and tell the keyboard manager to turn it's self\n",
       "    // off when our div gets focus\n",
       "\n",
       "    // location in version 3\n",
       "    if (IPython.notebook.keyboard_manager) {\n",
       "        IPython.notebook.keyboard_manager.register_events(el);\n",
       "    }\n",
       "    else {\n",
       "        // location in version 2\n",
       "        IPython.keyboard_manager.register_events(el);\n",
       "    }\n",
       "\n",
       "}\n",
       "\n",
       "mpl.figure.prototype._key_event_extra = function(event, name) {\n",
       "    var manager = IPython.notebook.keyboard_manager;\n",
       "    if (!manager)\n",
       "        manager = IPython.keyboard_manager;\n",
       "\n",
       "    // Check for shift+enter\n",
       "    if (event.shiftKey && event.which == 13) {\n",
       "        this.canvas_div.blur();\n",
       "        event.shiftKey = false;\n",
       "        // Send a \"J\" for go to next cell\n",
       "        event.which = 74;\n",
       "        event.keyCode = 74;\n",
       "        manager.command_mode();\n",
       "        manager.handle_keydown(event);\n",
       "    }\n",
       "}\n",
       "\n",
       "mpl.figure.prototype.handle_save = function(fig, msg) {\n",
       "    fig.ondownload(fig, null);\n",
       "}\n",
       "\n",
       "\n",
       "mpl.find_output_cell = function(html_output) {\n",
       "    // Return the cell and output element which can be found *uniquely* in the notebook.\n",
       "    // Note - this is a bit hacky, but it is done because the \"notebook_saving.Notebook\"\n",
       "    // IPython event is triggered only after the cells have been serialised, which for\n",
       "    // our purposes (turning an active figure into a static one), is too late.\n",
       "    var cells = IPython.notebook.get_cells();\n",
       "    var ncells = cells.length;\n",
       "    for (var i=0; i<ncells; i++) {\n",
       "        var cell = cells[i];\n",
       "        if (cell.cell_type === 'code'){\n",
       "            for (var j=0; j<cell.output_area.outputs.length; j++) {\n",
       "                var data = cell.output_area.outputs[j];\n",
       "                if (data.data) {\n",
       "                    // IPython >= 3 moved mimebundle to data attribute of output\n",
       "                    data = data.data;\n",
       "                }\n",
       "                if (data['text/html'] == html_output) {\n",
       "                    return [cell, data, j];\n",
       "                }\n",
       "            }\n",
       "        }\n",
       "    }\n",
       "}\n",
       "\n",
       "// Register the function which deals with the matplotlib target/channel.\n",
       "// The kernel may be null if the page has been refreshed.\n",
       "if (IPython.notebook.kernel != null) {\n",
       "    IPython.notebook.kernel.comm_manager.register_target('matplotlib', mpl.mpl_figure_comm);\n",
       "}\n"
      ],
      "text/plain": [
       "<IPython.core.display.Javascript object>"
      ]
     },
     "metadata": {},
     "output_type": "display_data"
    },
    {
     "data": {
      "text/html": [
       "<img src=\"data:image/png;base64,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\" width=\"640\">"
      ],
      "text/plain": [
       "<IPython.core.display.HTML object>"
      ]
     },
     "metadata": {},
     "output_type": "display_data"
    }
   ],
   "source": [
    "import numpy as np\n",
    "if not inColab:\n",
    "    %matplotlib notebook\n",
    "import matplotlib.pyplot as plt\n",
    "np.random.seed(1)\n",
    "plt.figure()\n",
    "plt.stem(np.random.randint(-10,10,size=10)/10, use_line_collection=True)\n",
    "plt.title('A Discrete Time Signal')\n",
    "plt.ylabel('x(n)')\n",
    "plt.xlabel('Sample nr. n');"
   ]
  },
  {
   "cell_type": "markdown",
   "metadata": {
    "slideshow": {
     "slide_type": "-"
    }
   },
   "source": [
    "Typical sampling rate of audio from a CD:\n",
    "44100 samples/second, or\n",
    "44.1 Khz sampling rate."
   ]
  },
  {
   "cell_type": "markdown",
   "metadata": {
    "slideshow": {
     "slide_type": "-"
    }
   },
   "source": [
    "**If you are not familiar with Python, I recommend you to check out some online tutorials**: https://github.com/GuitarsAI"
   ]
  },
  {
   "cell_type": "markdown",
   "metadata": {
    "slideshow": {
     "slide_type": "slide"
    }
   },
   "source": [
    "## Python example for a live plot of a microphone signal:\n",
    "**This Example won't work in Binder and Google Colab!**"
   ]
  },
  {
   "cell_type": "code",
   "execution_count": 5,
   "metadata": {
    "hide_input": true
   },
   "outputs": [
    {
     "data": {
      "text/html": [
       "<iframe width=\"560\" height=\"315\" src=\"https://www.youtube.com/embed/Ic51XKmwXEc\" frameborder=\"0\" allow=\"accelerometer; encrypted-media; gyroscope; picture-in-picture\" allowfullscreen></iframe>\n"
      ],
      "text/plain": [
       "<IPython.core.display.HTML object>"
      ]
     },
     "metadata": {},
     "output_type": "display_data"
    }
   ],
   "source": [
    "%%html\n",
    "<iframe width=\"560\" height=\"315\" src=\"https://www.youtube.com/embed/Ic51XKmwXEc\" frameborder=\"0\" allow=\"accelerometer; encrypted-media; gyroscope; picture-in-picture\" allowfullscreen></iframe>"
   ]
  },
  {
   "cell_type": "code",
   "execution_count": null,
   "metadata": {
    "slideshow": {
     "slide_type": "-"
    }
   },
   "outputs": [],
   "source": [
    "\"\"\"\n",
    "Using Pyaudio, record sound from the audio device and plot, for 8 seconds, and display it live in a Window.\n",
    "Usage example: python pyrecplotanimation.py\n",
    "Gerald Schuller, October 2014 \n",
    "\n",
    "Adapted to Jupyter Notebook - Renato Profeta, August 2019\n",
    "\"\"\"\n",
    "# Imports\n",
    "import pyaudio\n",
    "import struct\n",
    "import numpy as np\n",
    "import matplotlib.pyplot as plt\n",
    "import matplotlib.animation as animation\n",
    "\n",
    "# Parameters\n",
    "CHUNK = 1024 #Blocksize\n",
    "WIDTH = 2 #2 bytes per sample\n",
    "CHANNELS = 1 #2\n",
    "RATE = 32000  #Sampling Rate in Hz\n",
    "RECORD_SECONDS = 70\n",
    "\n",
    "# PyAudio\n",
    "p = pyaudio.PyAudio()\n",
    "stream = p.open(format=p.get_format_from_width(WIDTH),\n",
    "                channels=CHANNELS,\n",
    "                rate=RATE,\n",
    "                input=True,\n",
    "                output=True,\n",
    "                frames_per_buffer=CHUNK)\n",
    "\n",
    "# Plot\n",
    "fig, ax = plt.subplots()\n",
    "x = np.arange(0, CHUNK)        # x-array\n",
    "line, = ax.plot(x, 20000.0*np.sin(x))   #Scale axis as this sine function\n",
    "\n",
    "def init():\n",
    "    line.set_ydata(np.ma.array(x, mask=True))\n",
    "    return line,\n",
    "\n",
    "def animate(i):\n",
    "    # update the data\n",
    "    #Reading from audio input stream into data with block length \"CHUNK\":\n",
    "    data = stream.read(CHUNK)\n",
    "    #Convert from stream of bytes to a list of short integers (2 bytes here) in \"samples\":\n",
    "    #shorts = (struct.unpack( \"128h\", data ))\n",
    "    shorts = (struct.unpack( 'h' * CHUNK, data ));\n",
    "    samples=np.array(list(shorts),dtype=float);\n",
    "\n",
    "    #plt.plot(samples)  #<-- here goes the signal processing.\n",
    "    #line.set_ydata(np.log((np.abs(pylab.fft(samples))+0.1))/np.log(10.0))\n",
    "    line.set_ydata(samples)\n",
    "    return line,\n",
    "\n",
    "def handle_close(evt):\n",
    "    # When everything done, release the capture\n",
    "    stream.stop_stream()\n",
    "    stream.close()\n",
    "    p.terminate()\n",
    "    plt.close()\n",
    "plt.connect('close_event', handle_close)\n",
    "\n",
    "# Run animation\n",
    "ani = animation.FuncAnimation(fig, animate, np.arange(1, 200), init_func=init,\n",
    "    interval=25, blit=True)\n",
    "plt.show()"
   ]
  },
  {
   "cell_type": "markdown",
   "metadata": {
    "slideshow": {
     "slide_type": "slide"
    }
   },
   "source": [
    "## Javascript example for a live plot of a microphone signal:\n",
    "Adapted from https://mdn.github.io/voice-change-o-matic/\n",
    "\n",
    "\n",
    "**Ths example won't work in Google Colab!**"
   ]
  },
  {
   "cell_type": "code",
   "execution_count": 6,
   "metadata": {
    "hide_input": true
   },
   "outputs": [
    {
     "data": {
      "text/html": [
       "<iframe width=\"560\" height=\"315\" src=\"https://www.youtube.com/embed/MUQediph-Ms\" frameborder=\"0\" allow=\"accelerometer; encrypted-media; gyroscope; picture-in-picture\" allowfullscreen></iframe>\n"
      ],
      "text/plain": [
       "<IPython.core.display.HTML object>"
      ]
     },
     "metadata": {},
     "output_type": "display_data"
    }
   ],
   "source": [
    "%%html\n",
    "<iframe width=\"560\" height=\"315\" src=\"https://www.youtube.com/embed/MUQediph-Ms\" frameborder=\"0\" allow=\"accelerometer; encrypted-media; gyroscope; picture-in-picture\" allowfullscreen></iframe>"
   ]
  },
  {
   "cell_type": "code",
   "execution_count": null,
   "metadata": {
    "slideshow": {
     "slide_type": "-"
    }
   },
   "outputs": [],
   "source": [
    "%%html\n",
    "<head>\n",
    "<style>\n",
    ".wrapper {\n",
    "\theight: 100%;\n",
    "\tmax-width: 800px;\n",
    "\tmargin: 0 auto;\n",
    "}\n",
    "header {\n",
    "  height: 120px;\n",
    "}\n",
    "\n",
    "canvas {\n",
    "  border-top: 1px solid black;\n",
    "  border-bottom: 1px solid black;\n",
    "  margin-bottom: -3px;\n",
    "  box-shadow: 0 -2px 4px rgba(0,0,0,0.7),\n",
    "              0 3px 4px rgba(0,0,0,0.7);\n",
    "}\n",
    "\n",
    ".controls {\n",
    "  background-color: rgba(0,0,0,0.1);\n",
    "  height: calc(100% - 225px);\n",
    "}\n",
    "\n",
    "\n",
    "form a {    \n",
    "    background-color: #0088cc;\n",
    "    background-image: linear-gradient(to bottom,  #0088cc 0%,#0055cc 100%); \n",
    "    text-shadow: 1px 1px 1px black;  \n",
    "    text-align: center;\n",
    "    color: white;\n",
    "    border: none;\n",
    "    width: 90\\%;\n",
    "    margin: 1rem auto 0.5rem;\n",
    "    max-width: 80\\%;\n",
    "    font-size: 1.6rem; \n",
    "    line-height: 3rem;\n",
    "    padding: .5rem; \n",
    "    display: block;\n",
    "                    }\n",
    "\n",
    "form a:hover, form a:focus {\n",
    "\tbox-shadow: inset 1px 1px 2px rgba(0,0,0,0.7);\n",
    "}\n",
    "\n",
    "form a:active {\n",
    "\tbox-shadow: inset 2px 2px 3px rgba(0,0,0,0.7);\n",
    "}\n",
    "\n",
    "a#activated {\n",
    "  background-color: #fff;\n",
    "  background-image: linear-gradient(to bottom,  #f00 0%, #a06 100%);\n",
    "}\n",
    "\n",
    "\n",
    "\n",
    "a {\n",
    "  color: #aaa;\n",
    "}\n",
    "\n",
    "a:hover, a:focus {\n",
    "  text-decoration: none;\n",
    "}\n",
    "\n",
    "\n",
    " </style>\n",
    "</head>\n",
    "\n",
    "<div class=\"wrapper\">\n",
    "    \n",
    "    <header>\n",
    "      <h1>Audio Waveform</h1>\n",
    "    </header>\n",
    "\n",
    "    <canvas class=\"visualizer\" width=\"640\" height=\"100\"></canvas> \n",
    "<br>\n",
    "    <form class=\"controls\">\n",
    "        <div>\n",
    "            <a class=\"mute\">Mute</a>\n",
    "        </div>\n",
    "    </form>\n",
    "<br>\n",
    "<br>\n",
    "</div>"
   ]
  },
  {
   "cell_type": "code",
   "execution_count": null,
   "metadata": {
    "slideshow": {
     "slide_type": "-"
    }
   },
   "outputs": [],
   "source": [
    "%%javascript\n",
    "\n",
    "// Audio\n",
    "var audioCtx = new (window.AudioContext || window.webkitAudioContext)();\n",
    "var source;\n",
    "var stream;\n",
    "\n",
    "// Button\n",
    "var mute = document.querySelector('.mute');\n",
    "\n",
    "// Audio Nodes\n",
    "var analyser = audioCtx.createAnalyser();\n",
    "analyser.minDecibels = -90;\n",
    "analyser.maxDecibels = -10;\n",
    "analyser.smoothingTimeConstant = 0.85;\n",
    "\n",
    "var gainNode = audioCtx.createGain();\n",
    "\n",
    "// Canvas\n",
    "var canvas = document.querySelector('.visualizer');\n",
    "var canvasCtx = canvas.getContext(\"2d\");\n",
    "var intendedWidth = document.querySelector('.wrapper').clientWidth;\n",
    "canvas.setAttribute('width',intendedWidth);\n",
    "var drawAudio;\n",
    "\n",
    "// Audio Recording\n",
    "if (navigator.mediaDevices.getUserMedia) {\n",
    "     console.log('getUserMedia supported.');\n",
    "     var constraints = {audio: true}\n",
    "     navigator.mediaDevices.getUserMedia (constraints)\n",
    "        .then(\n",
    "          function(stream) {\n",
    "             source = audioCtx.createMediaStreamSource(stream);\n",
    "             source.connect(gainNode);\n",
    "             gainNode.connect(analyser);\n",
    "             //analyser.connect(audioCtx.destination);\n",
    "             visualize();\n",
    "        })\n",
    "        .catch( function(err) { console.log('The following gUM error occured: ' + err);})\n",
    "  } else {\n",
    "     console.log('getUserMedia not supported on your browser!');\n",
    "  }\n",
    "  \n",
    "\n",
    "mute.onclick = voiceMute;\n",
    "\n",
    "function voiceMute() {\n",
    "    if(mute.id === \"\") {\n",
    "      gainNode.gain.setTargetAtTime(0, audioCtx.currentTime, 0)\n",
    "      mute.id = \"activated\";\n",
    "      mute.innerHTML = \"Unmute\";\n",
    "    } else {\n",
    "      gainNode.gain.setTargetAtTime(1, audioCtx.currentTime, 0)\n",
    "      mute.id = \"\";\n",
    "      mute.innerHTML = \"Mute\";\n",
    "    }\n",
    "  }  \n",
    "\n",
    "function visualize() {\n",
    "    var WIDTH = canvas.width;\n",
    "    var HEIGHT = canvas.height;\n",
    "\n",
    "\n",
    "    var visualSetting =\"waveform\";\n",
    "    console.log(visualSetting);\n",
    "\n",
    "    if(visualSetting === \"waveform\") {\n",
    "      analyser.fftSize = 2048;\n",
    "      var bufferLength = analyser.fftSize;\n",
    "      console.log(bufferLength);\n",
    "      var dataArray = new Uint8Array(bufferLength);\n",
    "\n",
    "      canvasCtx.clearRect(0, 0, WIDTH, HEIGHT);\n",
    "\n",
    "      var draw = function() {\n",
    "\n",
    "        drawAudio = requestAnimationFrame(draw);\n",
    "          \n",
    "        analyser.getByteTimeDomainData(dataArray);\n",
    "\n",
    "        canvasCtx.fillStyle = 'rgb(200, 200, 200)';\n",
    "        canvasCtx.fillRect(0, 0, WIDTH, HEIGHT);\n",
    "\n",
    "        canvasCtx.lineWidth = 2;\n",
    "        canvasCtx.strokeStyle = 'rgb(0, 0, 0)';\n",
    "\n",
    "        canvasCtx.beginPath();\n",
    "\n",
    "        var sliceWidth = WIDTH * 1.0 / bufferLength;\n",
    "        var x = 0;\n",
    "\n",
    "        for(var i = 0; i < bufferLength; i++) {\n",
    "\n",
    "          var v = dataArray[i] / 128.0;\n",
    "          var y = v * HEIGHT/2;\n",
    "\n",
    "          if(i === 0) {\n",
    "            canvasCtx.moveTo(x, y);\n",
    "          } else {\n",
    "            canvasCtx.lineTo(x, y);\n",
    "          }\n",
    "\n",
    "          x += sliceWidth;\n",
    "        }\n",
    "\n",
    "        canvasCtx.lineTo(canvas.width, canvas.height/2);\n",
    "        canvasCtx.stroke();\n",
    "      };\n",
    "\n",
    "      draw();\n",
    "\n",
    "\n",
    "    } else if(visualSetting == \"off\") {\n",
    "      canvasCtx.clearRect(0, 0, WIDTH, HEIGHT);\n",
    "      canvasCtx.fillStyle = \"red\";\n",
    "      canvasCtx.fillRect(0, 0, WIDTH, HEIGHT);\n",
    "    }\n",
    "\n",
    "  }"
   ]
  },
  {
   "cell_type": "markdown",
   "metadata": {
    "slideshow": {
     "slide_type": "slide"
    }
   },
   "source": [
    "## Nyquist Theorem"
   ]
  },
  {
   "cell_type": "code",
   "execution_count": 7,
   "metadata": {
    "hide_input": true
   },
   "outputs": [
    {
     "data": {
      "text/html": [
       "<iframe width=\"560\" height=\"315\" src=\"https://www.youtube.com/embed/lMrsXilWzHs\" frameborder=\"0\" allow=\"accelerometer; encrypted-media; gyroscope; picture-in-picture\" allowfullscreen></iframe>\n"
      ],
      "text/plain": [
       "<IPython.core.display.HTML object>"
      ]
     },
     "metadata": {},
     "output_type": "display_data"
    }
   ],
   "source": [
    "%%html\n",
    "<iframe width=\"560\" height=\"315\" src=\"https://www.youtube.com/embed/lMrsXilWzHs\" frameborder=\"0\" allow=\"accelerometer; encrypted-media; gyroscope; picture-in-picture\" allowfullscreen></iframe>"
   ]
  },
  {
   "cell_type": "markdown",
   "metadata": {
    "slideshow": {
     "slide_type": "-"
    }
   },
   "source": [
    "- The Nyquist theorem tells us: Our signal needs to be **band limited** to **less than half the sampling frequency**. If we have 44.1 kHz sampling, this is less than 22.05 kHz. **Half the sampling frequency** is also called the **Nyquist frequency**."
   ]
  },
  {
   "cell_type": "markdown",
   "metadata": {
    "slideshow": {
     "slide_type": "-"
    }
   },
   "source": [
    "- For time discrete signals we only use **normalized frequencies**, normalized to the **sampling frequency** or the **Nyquist frequency**. For the latter, the normalized frequency of 1 would be the Nyquist frequency. Often you also find $\\pi$ as the Nyquist Frequency."
   ]
  },
  {
   "cell_type": "markdown",
   "metadata": {
    "slideshow": {
     "slide_type": "slide"
    }
   },
   "source": [
    "## Simple Sample Rate Conversion Example: "
   ]
  },
  {
   "cell_type": "code",
   "execution_count": 8,
   "metadata": {
    "hide_input": true
   },
   "outputs": [
    {
     "data": {
      "text/html": [
       "<iframe width=\"560\" height=\"315\" src=\"https://www.youtube.com/embed/b6GsF3mOfIA\" frameborder=\"0\" allow=\"accelerometer; encrypted-media; gyroscope; picture-in-picture\" allowfullscreen></iframe>\n"
      ],
      "text/plain": [
       "<IPython.core.display.HTML object>"
      ]
     },
     "metadata": {},
     "output_type": "display_data"
    }
   ],
   "source": [
    "%%html\n",
    "<iframe width=\"560\" height=\"315\" src=\"https://www.youtube.com/embed/b6GsF3mOfIA\" frameborder=\"0\" allow=\"accelerometer; encrypted-media; gyroscope; picture-in-picture\" allowfullscreen></iframe>"
   ]
  },
  {
   "cell_type": "markdown",
   "metadata": {
    "slideshow": {
     "slide_type": "-"
    }
   },
   "source": [
    "- Sampling rate conversion of an audio signal from 44.1 kHz (from a CD) down to 32 kHz on the computer. The signal at 44.1 kHz sampling rate has all frequencies strictly below 22.05 kHz (because of the Nyquist Theorem). A signal at 32 Khz sampling rate needs all frequencies strictly below 16 kHz.\n",
    "- **Observe:** here we lose the highest frequency components (16kHz-22 kHz, which is basically okay since human hearing is usually only up to about 16 kHz). **Before down-sampling we have to remove these high-frequency components by low pass filtering.**"
   ]
  },
  {
   "cell_type": "markdown",
   "metadata": {
    "slideshow": {
     "slide_type": "slide"
    }
   },
   "source": [
    "## Basic Building Blocks of Multirate Signal Processing:\n",
    "### Up-Sampling and Down-Sampling"
   ]
  },
  {
   "cell_type": "code",
   "execution_count": 9,
   "metadata": {
    "hide_input": true
   },
   "outputs": [
    {
     "data": {
      "text/html": [
       "<iframe width=\"560\" height=\"315\" src=\"https://www.youtube.com/embed/ZlVj4g695Ks\" frameborder=\"0\" allow=\"accelerometer; encrypted-media; gyroscope; picture-in-picture\" allowfullscreen></iframe>\n"
      ],
      "text/plain": [
       "<IPython.core.display.HTML object>"
      ]
     },
     "metadata": {},
     "output_type": "display_data"
    }
   ],
   "source": [
    "%%html\n",
    "<iframe width=\"560\" height=\"315\" src=\"https://www.youtube.com/embed/ZlVj4g695Ks\" frameborder=\"0\" allow=\"accelerometer; encrypted-media; gyroscope; picture-in-picture\" allowfullscreen></iframe>"
   ]
  },
  {
   "cell_type": "markdown",
   "metadata": {
    "slideshow": {
     "slide_type": "-"
    }
   },
   "source": [
    "- Upsampling: The other way around, from 32 kHz to 44.1 kHz sampling rate.\n",
    "- **Observe:** here we obtain a new frequency range from 16kHz to 22 kHz, which should contain no signal components. **Here we have to low pass the up-sampled signal to these 16 kHz.**"
   ]
  },
  {
   "cell_type": "markdown",
   "metadata": {
    "slideshow": {
     "slide_type": "-"
    }
   },
   "source": [
    "- The following picture shows the basic building blocks for low-pass filtering and down-sampling by a factor of N, and upsampling by a factor of N followed by lowpass filtering:\n",
    "<p align=\"center\">\n",
    "    <img src=\"./images/upDownSamplingBlocks.png\">\n",
    "</p>\n"
   ]
  },
  {
   "cell_type": "markdown",
   "metadata": {
    "slideshow": {
     "slide_type": "-"
    }
   },
   "source": [
    "**Observe:** We can do this downsampling and upsampling without loss of information (meaning the reconstructed signal is identical to the lowpass signal), if we obey the **Shannon-Nyquist** law.\n",
    "This means the low pass (LP) needs to be an ideal low pass with  (normalized to the Nyquist frequency at the higher sampling rate)  cutoff frequency $^1$/$_N$.\n",
    "In this way we can perfectly reconstruct the lowest $^1$/$_N$ th of our signals spectrum.\n"
   ]
  },
  {
   "cell_type": "code",
   "execution_count": 10,
   "metadata": {
    "hide_input": true
   },
   "outputs": [
    {
     "data": {
      "text/html": [
       "<iframe width=\"560\" height=\"315\" src=\"https://www.youtube.com/embed/L-2XaxQVoGo\" frameborder=\"0\" allow=\"accelerometer; encrypted-media; gyroscope; picture-in-picture\" allowfullscreen></iframe>\n"
      ],
      "text/plain": [
       "<IPython.core.display.HTML object>"
      ]
     },
     "metadata": {},
     "output_type": "display_data"
    }
   ],
   "source": [
    "%%html\n",
    "<iframe width=\"560\" height=\"315\" src=\"https://www.youtube.com/embed/L-2XaxQVoGo\" frameborder=\"0\" allow=\"accelerometer; encrypted-media; gyroscope; picture-in-picture\" allowfullscreen></iframe>"
   ]
  },
  {
   "cell_type": "markdown",
   "metadata": {
    "slideshow": {
     "slide_type": "-"
    }
   },
   "source": [
    "**Example:** We have an audio signal with a sampling rate of 32 kHz and hence an audio bandwidth of less than 16 kHz. For N=2 we low pass filter it to 8 kHz, to remove the frequencies at and above the new Nyquist frequency of 8 kHz. Then we can\n",
    "downsample it by a factor of N=2 (by dropping every second sample), to obtain an audio signal at a sampling rate of 16 kHz. \n",
    "\n",
    "We can the upsample the audio signal back to 32 kHz, by a factor of 2, by insterting a 0 after each sample, which produces “alias” components above 8 kHz, and then low pass filter the signal, again with our lowpass with cutoff frequency of 8 kHz, to remove the alias components. This results in the same audio signal with bandwidth of 8 kHz, but now at 32 kHz sampling rate."
   ]
  },
  {
   "cell_type": "markdown",
   "metadata": {
    "slideshow": {
     "slide_type": "slide"
    }
   },
   "source": [
    "## Critical Sampling"
   ]
  },
  {
   "cell_type": "code",
   "execution_count": 11,
   "metadata": {
    "hide_input": true
   },
   "outputs": [
    {
     "data": {
      "text/html": [
       "<iframe width=\"560\" height=\"315\" src=\"https://www.youtube.com/embed/lCuzFzPNZps\" frameborder=\"0\" allow=\"accelerometer; encrypted-media; gyroscope; picture-in-picture\" allowfullscreen></iframe>\n"
      ],
      "text/plain": [
       "<IPython.core.display.HTML object>"
      ]
     },
     "metadata": {},
     "output_type": "display_data"
    }
   ],
   "source": [
    "%%html\n",
    "<iframe width=\"560\" height=\"315\" src=\"https://www.youtube.com/embed/lCuzFzPNZps\" frameborder=\"0\" allow=\"accelerometer; encrypted-media; gyroscope; picture-in-picture\" allowfullscreen></iframe>"
   ]
  },
  {
   "cell_type": "markdown",
   "metadata": {
    "slideshow": {
     "slide_type": "-"
    }
   },
   "source": [
    "The following picture shows a **filter bank** with **critical sampling**, which means its downsampling rate N is identical to the number of subbands. "
   ]
  },
  {
   "cell_type": "markdown",
   "metadata": {},
   "source": [
    "### Analysis Filter Bank\n",
    "It is the principal tool for multirate signal processing, first the analysis filter bank:"
   ]
  },
  {
   "cell_type": "code",
   "execution_count": 12,
   "metadata": {
    "hide_input": true
   },
   "outputs": [
    {
     "data": {
      "text/html": [
       "<iframe width=\"560\" height=\"315\" src=\"https://www.youtube.com/embed/zP9Y5I80_F4\" frameborder=\"0\" allow=\"accelerometer; encrypted-media; gyroscope; picture-in-picture\" allowfullscreen></iframe>\n"
      ],
      "text/plain": [
       "<IPython.core.display.HTML object>"
      ]
     },
     "metadata": {},
     "output_type": "display_data"
    }
   ],
   "source": [
    "%%html\n",
    "<iframe width=\"560\" height=\"315\" src=\"https://www.youtube.com/embed/zP9Y5I80_F4\" frameborder=\"0\" allow=\"accelerometer; encrypted-media; gyroscope; picture-in-picture\" allowfullscreen></iframe>"
   ]
  },
  {
   "cell_type": "markdown",
   "metadata": {
    "slideshow": {
     "slide_type": "-"
    }
   },
   "source": [
    "<p align=\"center\">\n",
    "    <img src=\"./images/analysisFB.png\">\n",
    "</p>"
   ]
  },
  {
   "cell_type": "markdown",
   "metadata": {
    "slideshow": {
     "slide_type": "-"
    }
   },
   "source": [
    "**Observe:** For each time step ***m*** we obtain a spectrum, and for each subband we obtain a narrow bandwidth time signal. So depending on our perspective, we have a set of spectra, or a set of narrow bandwidth time signal.\n",
    "### This is why we also call this a *time/frequency* representation. "
   ]
  },
  {
   "cell_type": "markdown",
   "metadata": {
    "slideshow": {
     "slide_type": "-"
    }
   },
   "source": [
    "**Remember:** The **filter** boxes symbolize a **convolution** of the signal x (n) with the impulse response h(n) of length L of each filter, before downsampling:\n",
    "\n",
    "\\begin{equation}\\label{eq:1}\n",
    "\\Large\n",
    "x\\left(n \\right) * h\\left(n \\right) =  \\sum_{l=0}^{L-1}x\\left(n-l\\right) \\cdot h\\left(l\\right)\n",
    "\\end{equation}\n",
    "\n",
    "where the sum is assumed to go over only the parts where x (n) and h(n) are defined. \n"
   ]
  },
  {
   "cell_type": "code",
   "execution_count": 13,
   "metadata": {
    "hide_input": true
   },
   "outputs": [
    {
     "data": {
      "text/html": [
       "<iframe width=\"560\" height=\"315\" src=\"https://www.youtube.com/embed/eWJtZHHK_k0\" frameborder=\"0\" allow=\"accelerometer; encrypted-media; gyroscope; picture-in-picture\" allowfullscreen></iframe>\n"
      ],
      "text/plain": [
       "<IPython.core.display.HTML object>"
      ]
     },
     "metadata": {},
     "output_type": "display_data"
    }
   ],
   "source": [
    "%%html\n",
    "<iframe width=\"560\" height=\"315\" src=\"https://www.youtube.com/embed/eWJtZHHK_k0\" frameborder=\"0\" allow=\"accelerometer; encrypted-media; gyroscope; picture-in-picture\" allowfullscreen></iframe>"
   ]
  },
  {
   "cell_type": "markdown",
   "metadata": {},
   "source": [
    "*Convolution Revision and Implementation of the Convolution 1D and 2D Algorithms in 4 different programming languages: Python, Javascript, Java and C++*- https://github.com/GuitarsAI/AlgorithmsRepo"
   ]
  },
  {
   "cell_type": "markdown",
   "metadata": {
    "slideshow": {
     "slide_type": "-"
    }
   },
   "source": [
    "Downsampling by N means we replace n by $mN+n_0$ , with m the index m at the lower sampling rate, and $n_0$ the phase\n",
    "index,\n",
    "\n",
    "\\begin{equation}\\label{eq:2}\n",
    "\\Large\n",
    "y_{n_0}^{\\downarrow N}\\left(m \\right) =  \\sum_{l=0}^{L-1}x\\left(mN+n_0-l\\right) \\cdot h_k\\left(l\\right)\n",
    "\\end{equation}"
   ]
  },
  {
   "cell_type": "markdown",
   "metadata": {
    "slideshow": {
     "slide_type": "-"
    }
   },
   "source": [
    "The analysis filter bank decomposes the signal into different frequency bands.\n",
    "\n",
    "**Observe:** Each frequency band has a lower sampling rate, which is possible because they have a lower bandwidth. <br>Using the “bandpass Nyquist” theorem we can reconstruct the original signal from the subbands!\n"
   ]
  },
  {
   "cell_type": "markdown",
   "metadata": {
    "slideshow": {
     "slide_type": "-"
    }
   },
   "source": [
    "### Synthesis Filter Bank\n",
    "To reconstruct the original from the different frequency bands, we need the **synthesis filter bank**:\n",
    "<p align=\"center\">\n",
    "    <img src=\"./images/synthesisFB.png\">\n",
    "</p>\n",
    "To simplify notation we dropped the downarrow and phase index for the subband signals $y_k(m)$."
   ]
  },
  {
   "cell_type": "code",
   "execution_count": 14,
   "metadata": {
    "hide_input": true
   },
   "outputs": [
    {
     "data": {
      "text/html": [
       "<iframe width=\"560\" height=\"315\" src=\"https://www.youtube.com/embed/-wh47bWVWGw\" frameborder=\"0\" allow=\"accelerometer; encrypted-media; gyroscope; picture-in-picture\" allowfullscreen></iframe>\n"
      ],
      "text/plain": [
       "<IPython.core.display.HTML object>"
      ]
     },
     "metadata": {},
     "output_type": "display_data"
    }
   ],
   "source": [
    "%%html\n",
    "<iframe width=\"560\" height=\"315\" src=\"https://www.youtube.com/embed/-wh47bWVWGw\" frameborder=\"0\" allow=\"accelerometer; encrypted-media; gyroscope; picture-in-picture\" allowfullscreen></iframe>"
   ]
  },
  {
   "cell_type": "markdown",
   "metadata": {
    "slideshow": {
     "slide_type": "-"
    }
   },
   "source": [
    "**Observe:** The filters after the upsampling take on the role of the lowpass filter in the conventional Nyquist theorem, to block the alias components. <br> They “fish out” the correct frequency image out of the aliased images for that subband. All the subbands are then added up to reconstruct the original signal.\n",
    "\n"
   ]
  },
  {
   "cell_type": "markdown",
   "metadata": {
    "slideshow": {
     "slide_type": "-"
    }
   },
   "source": [
    "**Example**: For our 2-band system: We have N=2, original sampling rate 32 kHz. Then the low pass branch corresponds to our low pass example above, which reconstructs the signal from 0 to 8 kHz. We now also have a high pass branch, which in addition reconstructs the frequency from 8kHz to 16 kHz. We add the two subbands in the synthesis filter bank to obtain the full bandwidth signal from 0 to 16 kHz."
   ]
  }
 ],
 "metadata": {
  "kernelspec": {
   "display_name": "Python 3",
   "language": "python",
   "name": "python3"
  },
  "language_info": {
   "codemirror_mode": {
    "name": "ipython",
    "version": 3
   },
   "file_extension": ".py",
   "mimetype": "text/x-python",
   "name": "python",
   "nbconvert_exporter": "python",
   "pygments_lexer": "ipython3",
   "version": "3.7.6"
  },
  "latex_envs": {
   "LaTeX_envs_menu_present": true,
   "autoclose": false,
   "autocomplete": true,
   "bibliofile": "biblio.bib",
   "cite_by": "apalike",
   "current_citInitial": 1,
   "eqLabelWithNumbers": true,
   "eqNumInitial": 1,
   "hotkeys": {
    "equation": "Ctrl-E",
    "itemize": "Ctrl-I"
   },
   "labels_anchors": false,
   "latex_user_defs": false,
   "report_style_numbering": false,
   "user_envs_cfg": false
  }
 },
 "nbformat": 4,
 "nbformat_minor": 2
}
