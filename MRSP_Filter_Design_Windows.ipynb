{
 "cells": [
  {
   "cell_type": "markdown",
   "metadata": {
    "slideshow": {
     "slide_type": "slide"
    }
   },
   "source": [
    "<center>\n",
    "    <img src=\"./images/msp_header.png\">\n",
    "</center>\n",
    "\n",
    "#### Prof. Dr. -Ing. Gerald Schuller <br> Jupyter Notebook: Renato Profeta"
   ]
  },
  {
   "cell_type": "markdown",
   "metadata": {
    "slideshow": {
     "slide_type": "-"
    }
   },
   "source": [
    "# Filter Design with the Window Method"
   ]
  },
  {
   "cell_type": "code",
   "execution_count": 1,
   "metadata": {
    "hide_input": true
   },
   "outputs": [
    {
     "data": {
      "text/html": [
       "<center>\n",
       "<iframe width=\"560\" height=\"315\" src=\"https://www.youtube.com/embed/hxWyLvSwh7k\" frameborder=\"0\" allow=\"accelerometer; encrypted-media; gyroscope; picture-in-picture\" allowfullscreen></iframe>\n",
       "</center>\n"
      ],
      "text/plain": [
       "<IPython.core.display.HTML object>"
      ]
     },
     "metadata": {},
     "output_type": "display_data"
    }
   ],
   "source": [
    "%%html\n",
    "<center>\n",
    "<iframe width=\"560\" height=\"315\" src=\"https://www.youtube.com/embed/hxWyLvSwh7k\" frameborder=\"0\" allow=\"accelerometer; encrypted-media; gyroscope; picture-in-picture\" allowfullscreen></iframe>\n",
    "</center>"
   ]
  },
  {
   "cell_type": "markdown",
   "metadata": {
    "hide_input": true,
    "slideshow": {
     "slide_type": "-"
    }
   },
   "source": [
    "We start with the **ideal filter** (sinc), which is infinitely long. To make it causal and to obtain a desired trade-off between the transition band width and the stopband attenuation, we multiply it with a finite length window. This window is either obtained by optimization, or is chosen from one of the “pre-fabtricated” ones.  Longer filters also lead to narrower transition bands.\n",
    "\n",
    "The resulting frequency response after multiplying the ideal impulse response (sinc) with the window function is then the convolution of the ideal frequency response and the window frequency response. The resulting passband width is the **ideal passband width plus the passband width of the window. The resulting stopband starts** at the stopband frequency of the ideal frequency response **(cutoff frequency) plus the frequency of the start of the stopband of the window function (adding the transition band).**\n",
    "\n",
    "To obtain a given passband or stopband, this has to be taken into account, and the cutoff frequency has to be modified accordingly."
   ]
  },
  {
   "cell_type": "code",
   "execution_count": 2,
   "metadata": {
    "hide_input": true
   },
   "outputs": [
    {
     "data": {
      "text/html": [
       "<center>\n",
       "<iframe width=\"560\" height=\"315\" src=\"https://www.youtube.com/embed/4NS3bboX0qY\" frameborder=\"0\" allow=\"accelerometer; encrypted-media; gyroscope; picture-in-picture\" allowfullscreen></iframe>\n",
       "</center>\n"
      ],
      "text/plain": [
       "<IPython.core.display.HTML object>"
      ]
     },
     "metadata": {},
     "output_type": "display_data"
    }
   ],
   "source": [
    "%%html\n",
    "<center>\n",
    "<iframe width=\"560\" height=\"315\" src=\"https://www.youtube.com/embed/4NS3bboX0qY\" frameborder=\"0\" allow=\"accelerometer; encrypted-media; gyroscope; picture-in-picture\" allowfullscreen></iframe>\n",
    "</center>"
   ]
  },
  {
   "cell_type": "markdown",
   "metadata": {
    "slideshow": {
     "slide_type": "-"
    }
   },
   "source": [
    "## Example:"
   ]
  },
  {
   "cell_type": "code",
   "execution_count": 3,
   "metadata": {
    "hide_input": true
   },
   "outputs": [
    {
     "data": {
      "text/html": [
       "<center>\n",
       "<iframe width=\"560\" height=\"315\" src=\"https://www.youtube.com/embed/exAkS6ZDb4c\" frameborder=\"0\" allow=\"accelerometer; encrypted-media; gyroscope; picture-in-picture\" allowfullscreen></iframe>\n",
       "</center>\n"
      ],
      "text/plain": [
       "<IPython.core.display.HTML object>"
      ]
     },
     "metadata": {},
     "output_type": "display_data"
    }
   ],
   "source": [
    "%%html\n",
    "<center>\n",
    "<iframe width=\"560\" height=\"315\" src=\"https://www.youtube.com/embed/exAkS6ZDb4c\" frameborder=\"0\" allow=\"accelerometer; encrypted-media; gyroscope; picture-in-picture\" allowfullscreen></iframe>\n",
    "</center>"
   ]
  },
  {
   "cell_type": "markdown",
   "metadata": {
    "hide_input": true,
    "slideshow": {
     "slide_type": "-"
    }
   },
   "source": [
    "We saw that the **Kaiser Window** at least fulfils the **requirement** for the attenuation of our downsampling application example. How do we get the correct start of the **stopband** (for attenuating the aliasing for downsampling sufficiently) using our filter design method?  \n",
    "\n",
    "Our stop band should start at 0.5 for a downsampling factor of N=2. Looking at the Kaiser window with $\\beta=8$ we see that we get -60 dB at a normalized frequency of about 0.36. Hence our ideal filter needs to have the **end of its pass band** at 0.5-0.36=0.14 (remeber here 1 is the Nyquist frequency) , hence $\\omega_s=\\omega_c=0.14\\pi$. \n",
    "\n",
    "**Observe:** here we need the multiplication with pi since for our formula pi is the Nyquist frequency. \n",
    "Now we just need to plug this into our formula for the ideal filter (the sinc function), with L=16,\n",
    "\n",
    "$$\\large\n",
    "h(n)=\\frac{sin(\\omega_c (n-7.5))}  {\\omega_c (n-7.5)}\n",
    "$$\n",
    "for $n=0,...,15$,\n",
    "\n",
    "or, with a different normalization to let the passband start at 0 dB:\n",
    "\n",
    "$$\\large\n",
    "h(n)=\\frac{sin(\\omega_c (n-7.5))}   {\\pi (n-7.5)}\n",
    "$$\n",
    "\n",
    "(with $\\omega_c=0.14\\pi$) and multiply it with our Kaiser window.\n",
    "\n",
    "\n",
    "In iPython:"
   ]
  },
  {
   "cell_type": "code",
   "execution_count": 4,
   "metadata": {
    "hide_input": true
   },
   "outputs": [
    {
     "data": {
      "text/html": [
       "<center>\n",
       "<iframe width=\"560\" height=\"315\" src=\"https://www.youtube.com/embed/6xq8OB5cvno\" frameborder=\"0\" allow=\"accelerometer; encrypted-media; gyroscope; picture-in-picture\" allowfullscreen></iframe>\n",
       "</center>\n"
      ],
      "text/plain": [
       "<IPython.core.display.HTML object>"
      ]
     },
     "metadata": {},
     "output_type": "display_data"
    }
   ],
   "source": [
    "%%html\n",
    "<center>\n",
    "<iframe width=\"560\" height=\"315\" src=\"https://www.youtube.com/embed/6xq8OB5cvno\" frameborder=\"0\" allow=\"accelerometer; encrypted-media; gyroscope; picture-in-picture\" allowfullscreen></iframe>\n",
    "</center>"
   ]
  },
  {
   "cell_type": "code",
   "execution_count": 5,
   "metadata": {
    "slideshow": {
     "slide_type": "-"
    }
   },
   "outputs": [],
   "source": [
    "import numpy as np\n",
    "import matplotlib.pyplot as plt\n",
    "\n",
    "n=np.arange(16);\n",
    "h=np.sin(0.14*np.pi*(n-7.5))/(np.pi*(n-7.5));\n",
    "hk=np.kaiser(16,8);\n",
    "hfilt=hk*h\n",
    "\n",
    "plt.figure(figsize=(10,8))\n",
    "plt.plot(hfilt)\n",
    "plt.grid()"
   ]
  },
  {
   "cell_type": "markdown",
   "metadata": {
    "hide_input": false,
    "slideshow": {
     "slide_type": "-"
    }
   },
   "source": [
    "Its frequence response:"
   ]
  },
  {
   "cell_type": "code",
   "execution_count": 6,
   "metadata": {
    "slideshow": {
     "slide_type": "-"
    }
   },
   "outputs": [],
   "source": [
    "import scipy.signal as signal\n",
    "\n",
    "def freqz(x):\n",
    "    # get frequency bins and according magnitude values \n",
    "    f, H = signal.freqz(x)\n",
    "\n",
    "    #normalized frequency\n",
    "    fNorm = f/np.pi \n",
    "\n",
    "    # magnitude in dB\n",
    "    hdB = 20 * np.log10(abs(H)+1e-5) #\"+1e-5\" avoids log10(0)!\n",
    "\n",
    "    # open figure\n",
    "    plt.figure(figsize=(10,8))\n",
    "\n",
    "    plt.subplot(211)\n",
    "    plt.title('Magnitude')\n",
    "    plt.plot(f, hdB, 'b')\n",
    "    plt.axis([0,np.pi,np.min(hdB)-1,np.max(hdB)+1])\n",
    "    plt.grid(True)\n",
    "    plt.xlabel('Normalized Frequency (rad/sample)')\n",
    "    plt.ylabel('Magnitude (dB)')\n",
    "\n",
    "    plt.subplot(212)\n",
    "    plt.title('Phase')\n",
    "    angles = np.unwrap(np.angle(H))\n",
    "    anglesGrad = (360 * angles)/(2*np.pi)\n",
    "    plt.plot(f, anglesGrad, 'b')\n",
    "    plt.axis([0,np.pi,np.min(anglesGrad),np.max(anglesGrad)])\n",
    "    plt.grid(True)\n",
    "    plt.xlabel('Normalized Frequency (rad/sample)')\n",
    "    plt.ylabel('Phase (degrees)')\n",
    "    plt.tight_layout()"
   ]
  },
  {
   "cell_type": "code",
   "execution_count": 7,
   "metadata": {
    "slideshow": {
     "slide_type": "-"
    }
   },
   "outputs": [
    {
     "data": {
      "image/png": "[encoded data removed]",
      "text/plain": [
       "<Figure size 720x576 with 2 Axes>"
      ]
     },
     "metadata": {
      "needs_background": "light"
     },
     "output_type": "display_data"
    }
   ],
   "source": [
    "freqz(hfilt)"
   ]
  },
  {
   "cell_type": "markdown",
   "metadata": {
    "slideshow": {
     "slide_type": "-"
    }
   },
   "source": [
    "Here we see that at normalized frequency 0.5 it has indeed enough attenuation, at about -80 dB! But the pass band (up to about -6dB) is only up to about normalized frequency 0.15, which is usually not enough! We didn't really specify it, but for practical purposes this would usually not work. \n",
    "\n",
    "So how can we improve the **pass band** now? Since we already tried different compromises for the width of the transition band and the stop band attenuation, we can now try increasing the filter length. Try L=32 (instead of 16). The following is the **Kaiser window** for $\\beta=8$ with length **L=32**:\n"
   ]
  },
  {
   "cell_type": "code",
   "execution_count": 8,
   "metadata": {},
   "outputs": [
    {
     "data": {
      "text/html": [
       "<center>\n",
       "\n",
       "</center>\n"
      ],
      "text/plain": [
       "<IPython.core.display.HTML object>"
      ]
     },
     "metadata": {},
     "output_type": "display_data"
    }
   ],
   "source": [
    "%%html\n",
    "<center>\n",
    "\n",
    "</center>"
   ]
  },
  {
   "cell_type": "code",
   "execution_count": 9,
   "metadata": {
    "hide_input": false,
    "slideshow": {
     "slide_type": "-"
    }
   },
   "outputs": [
    {
     "data": {
      "image/png": "[encoded data removed]",
      "text/plain": [
       "<Figure size 720x576 with 1 Axes>"
      ]
     },
     "metadata": {
      "needs_background": "light"
     },
     "output_type": "display_data"
    }
   ],
   "source": [
    "hk=np.kaiser(32,8)\n",
    "\n",
    "plt.figure(figsize=(10,8))\n",
    "plt.plot(hk)\n",
    "plt.grid()"
   ]
  },
  {
   "cell_type": "markdown",
   "metadata": {
    "slideshow": {
     "slide_type": "-"
    }
   },
   "source": [
    "Its frequency response is:"
   ]
  },
  {
   "cell_type": "code",
   "execution_count": 10,
   "metadata": {
    "slideshow": {
     "slide_type": "-"
    }
   },
   "outputs": [
    {
     "data": {
      "image/png": "[encoded data removed]",
      "text/plain": [
       "<Figure size 720x576 with 2 Axes>"
      ]
     },
     "metadata": {
      "needs_background": "light"
     },
     "output_type": "display_data"
    }
   ],
   "source": [
    "freqz(hk)"
   ]
  },
  {
   "cell_type": "markdown",
   "metadata": {
    "slideshow": {
     "slide_type": "-"
    }
   },
   "source": [
    "**Observe:** The Kaiser window would already be our final filter, if our ideal impulse response would consist of an infinite sequence of ones. This is the case if our ideal filter is only a delta pulse at frequency zero, hence an infinitely small low pass filter.\n",
    "\n",
    "Observe that the main lobe of this length 32 window (up to about 0.17) is about half as wide as the main lobe at length 16! In this way, we half the transition width of our resulting filter. Here we can say that our pass band ends at normalized frequency 0.17. Hence we need to have our ideal filter with a stop band starting at 0.5-0.17=0.33, resulting in the formula for the ideal impulse response (as above for the length 16 filter), with $\\omega_c=0.33\\cdot \\pi$, and a delay of 31/2=15.5:\n",
    "\n",
    "$$\\large\n",
    "h(n)=\\frac{sin(\\omega_c (n-15.5))}  {\\pi (n-15.5)}\n",
    "$$\n",
    "for n=0,...31,\n",
    "\n",
    "and multiply it with our Kaiser window.\n",
    "\n",
    "In iPython:\n",
    "\n",
    "\n",
    "\n"
   ]
  },
  {
   "cell_type": "code",
   "execution_count": 11,
   "metadata": {
    "hide_input": true
   },
   "outputs": [
    {
     "data": {
      "text/html": [
       "<center>\n",
       "<iframe width=\"560\" height=\"315\" src=\"https://www.youtube.com/embed/MTqJw4oFqRw\" frameborder=\"0\" allow=\"accelerometer; encrypted-media; gyroscope; picture-in-picture\" allowfullscreen></iframe>\n",
       "</center>\n"
      ],
      "text/plain": [
       "<IPython.core.display.HTML object>"
      ]
     },
     "metadata": {},
     "output_type": "display_data"
    }
   ],
   "source": [
    "%%html\n",
    "<center>\n",
    "<iframe width=\"560\" height=\"315\" src=\"https://www.youtube.com/embed/MTqJw4oFqRw\" frameborder=\"0\" allow=\"accelerometer; encrypted-media; gyroscope; picture-in-picture\" allowfullscreen></iframe>\n",
    "</center>"
   ]
  },
  {
   "cell_type": "code",
   "execution_count": 12,
   "metadata": {
    "slideshow": {
     "slide_type": "-"
    }
   },
   "outputs": [
    {
     "data": {
      "image/png": "[encoded data removed]",
      "text/plain": [
       "<Figure size 720x576 with 1 Axes>"
      ]
     },
     "metadata": {
      "needs_background": "light"
     },
     "output_type": "display_data"
    }
   ],
   "source": [
    "n=np.arange(32);\n",
    "#ideal impulse response:\n",
    "h=np.sin(0.33*np.pi*(n-15.5))/(np.pi*(n-15.5));\n",
    "#Kaiser window:\n",
    "hk=np.kaiser(32,8);\n",
    "#multiply ideal filter and Kaiser window:\n",
    "hfilt=hk*h;\n",
    "plt.figure(figsize=(10,8))\n",
    "plt.plot(hfilt)\n",
    "plt.grid()"
   ]
  },
  {
   "cell_type": "markdown",
   "metadata": {
    "slideshow": {
     "slide_type": "-"
    }
   },
   "source": [
    "Resulting in the following impulse response:\n",
    "\n",
    "Its frequency response is: \n"
   ]
  },
  {
   "cell_type": "code",
   "execution_count": 13,
   "metadata": {
    "slideshow": {
     "slide_type": "-"
    }
   },
   "outputs": [
    {
     "data": {
      "image/png": "[encoded data removed]",
      "text/plain": [
       "<Figure size 720x576 with 2 Axes>"
      ]
     },
     "metadata": {
      "needs_background": "light"
     },
     "output_type": "display_data"
    }
   ],
   "source": [
    "freqz(hfilt)"
   ]
  },
  {
   "cell_type": "markdown",
   "metadata": {
    "slideshow": {
     "slide_type": "-"
    }
   },
   "source": [
    "Here we can now see that our stop band, which starts at 0.5, has indeed still enough attenuation, at about -80 dB, and if we take 3dB as the limit for our **pass band**, it goes up to normalized frequency **0.3**.\n",
    "\n",
    "Going back to our downsampling example, where we downsample from 44.1 kHz to 22.05 kHz sampling rate, the normalized frequency 0.5 corresponds to 11 kHz, and the upper limit of our pass band is 0.3 or 6.6 kHz. This now looks like a usable filter for our application!\n",
    "\n",
    "This also show why the **usable** frequencies in a time-discrete representation is always clearly **lower** than the **Nyquist** frequency (we need filters, which have **transition bands**)."
   ]
  },
  {
   "cell_type": "markdown",
   "metadata": {
    "hide_input": false,
    "slideshow": {
     "slide_type": "slide"
    }
   },
   "source": [
    "## How to Obtain a High Pass or Band Pass, Modulation"
   ]
  },
  {
   "cell_type": "markdown",
   "metadata": {
    "slideshow": {
     "slide_type": "-"
    }
   },
   "source": [
    "### 1st Approach (Ideal Filter Design)"
   ]
  },
  {
   "cell_type": "code",
   "execution_count": 14,
   "metadata": {
    "hide_input": true
   },
   "outputs": [
    {
     "data": {
      "text/html": [
       "<center>\n",
       "<iframe width=\"560\" height=\"315\" src=\"https://www.youtube.com/embed/spJz71UONj4\" frameborder=\"0\" allow=\"accelerometer; encrypted-media; gyroscope; picture-in-picture\" allowfullscreen></iframe>\n",
       "</center>\n"
      ],
      "text/plain": [
       "<IPython.core.display.HTML object>"
      ]
     },
     "metadata": {},
     "output_type": "display_data"
    }
   ],
   "source": [
    "%%html\n",
    "<center>\n",
    "<iframe width=\"560\" height=\"315\" src=\"https://www.youtube.com/embed/spJz71UONj4\" frameborder=\"0\" allow=\"accelerometer; encrypted-media; gyroscope; picture-in-picture\" allowfullscreen></iframe>\n",
    "</center>"
   ]
  },
  {
   "cell_type": "markdown",
   "metadata": {
    "slideshow": {
     "slide_type": "-"
    }
   },
   "source": [
    "We again design an ideal filter, and then window it.\n",
    "\n",
    "For instance if we want to obtain a high pass, we can start to design an **ideal high pass filter**, using our inverse DTFT, which gives us a doubly infinite impulse response, from $-\\infty$ to $+ \\infty$, and then window this ideal impulse response to obtain an FIR filter. For the ideal high pass, we can define the desired frequency response $H_d(\\Omega)$ as 1 at the high frequencies, above a cutoff frequency $\\Omega_c$, and 0 at the low frequencies,\n",
    "\n",
    "$$\\large\n",
    "H_d(\\Omega) = \\begin{cases}\n",
    "        \\begin{split}\n",
    "            1         \\text{ for } & \\mid \\Omega \\mid >\\Omega_c \\\\\n",
    "              \\text{0 else } & {} \\\\\n",
    "         \\end{split}\n",
    "    \\end{cases}\n",
    "$$\n",
    "\n",
    "If we want to have a real valued impulse response, we need to make the frequency response such that its values at negative frequencies are **conjugate complex** of the values at  positive frequencies. The easiest way to do it here is to have the negative frequencies identical to the positive frequencies,\n",
    "\n",
    "\n",
    "$H_d(\\Omega)=\\begin{cases}\n",
    "        \\begin{split}\n",
    "            1               & \\text{ for } & -\\pi<\\Omega<-\\Omega_c \\\\\n",
    "            0 & \\text{ for } & -\\Omega_c<\\Omega<+\\Omega_c \\\\\n",
    "            1 & \\text{ for } & \\Omega_c <\\Omega <\\pi\n",
    "        \\end{split}\n",
    "    \\end{cases}\n",
    "$\n",
    "\n",
    "Now we can apply the inverse DTFT, find an analytical solution, just like with the low pass filter, to obtain the ideal impulse response, and then **multiply it with a window** to obtain an FIR filter.\n"
   ]
  },
  {
   "cell_type": "markdown",
   "metadata": {
    "slideshow": {
     "slide_type": "-"
    }
   },
   "source": [
    "### 2nd Approach (Modulation)"
   ]
  },
  {
   "cell_type": "code",
   "execution_count": 15,
   "metadata": {
    "hide_input": true
   },
   "outputs": [
    {
     "data": {
      "text/html": [
       "<Center>\n",
       "<iframe width=\"560\" height=\"315\" src=\"https://www.youtube.com/embed/SMAXoRk8HYg\" frameborder=\"0\" allow=\"accelerometer; encrypted-media; gyroscope; picture-in-picture\" allowfullscreen></iframe>\n",
       "</center>\n"
      ],
      "text/plain": [
       "<IPython.core.display.HTML object>"
      ]
     },
     "metadata": {},
     "output_type": "display_data"
    }
   ],
   "source": [
    "%%html\n",
    "<Center>\n",
    "<iframe width=\"560\" height=\"315\" src=\"https://www.youtube.com/embed/SMAXoRk8HYg\" frameborder=\"0\" allow=\"accelerometer; encrypted-media; gyroscope; picture-in-picture\" allowfullscreen></iframe>\n",
    "</center>"
   ]
  },
  {
   "cell_type": "markdown",
   "metadata": {
    "slideshow": {
     "slide_type": "-"
    }
   },
   "source": [
    "**Shifting** our (ideal) pass band to the **desired position in frequency**. In this way, we can turn a low pass into a band pass or a high pass, depending on where we shift our pass band (in this way we can turn a new problem into our known problem, the design of a lowpass filter). How do we shift our pass band in the frequency domain? We convolve it in the frequency domain with a Dirac impulse at the desired center frequency $\\Omega_0$,\n",
    "\n",
    "$$\\large\n",
    "H_d(\\Omega) * \\delta(\\Omega-\\Omega_0)=H_d(\\Omega-\\Omega_0)\n",
    "$$\n",
    "\n",
    "If we want to have real valued impulse responses, we need to preserve the symmetry between positive and negative frequencies, by also shifting the frequency response by the same amount to negative frequencies,\n",
    "\n",
    "$$\\large\n",
    "H_d(\\Omega)*(\\delta(\\Omega-\\Omega_0)+\\delta(\\Omega+\\Omega_0))=H_d(\\Omega-\\Omega_0)+H_d(\\Omega+\\Omega_0)\n",
    "$$"
   ]
  },
  {
   "cell_type": "markdown",
   "metadata": {
    "slideshow": {
     "slide_type": "-"
    }
   },
   "source": [
    "How does this change our (ideal) impulse response? To answer, we take the inverse DTFT. The convolution in the frequency domain becomes a multiplication in the time domain. Now we just need the inverse DTFT of $(\\delta(\\Omega-\\Omega_0)+\\delta(\\Omega+\\Omega_0))$\n",
    ", or the inverse DTFT of $\\delta(\\Omega-\\Omega_0)$. To obtain it we can simply use our fomula for the inverse DTFT,\n",
    "\n",
    "$$\\large\n",
    "\\frac{1}{2\\pi} \\int_{-\\pi}^{\\pi}\\delta (\\Omega - \\Omega_0)\\cdot e^{j\\Omega\\cdot n }d\\Omega=\\frac{1}{2\\pi}e^{j\\cdot\\Omega_0\\cdot n}\n",
    "$$\n",
    "\n",
    "Remember, the integration of a function multiplied with a Dirac impulse is the function value at the position of the Dirac (here:$\\Omega_0$),\n",
    "\n",
    "$$\\large\n",
    "\\int_{-\\infty}^{\\infty}\\delta(\\Omega - \\Omega_0) H(\\Omega) d\\Omega = H(\\Omega_0)\n",
    "$$"
   ]
  },
  {
   "cell_type": "markdown",
   "metadata": {
    "slideshow": {
     "slide_type": "-"
    }
   },
   "source": [
    "Now we can get the inverse DTFT of $(\\delta(\\Omega-\\Omega_0)+\\delta(\\Omega+\\Omega_0))$, which is now\n",
    "\n",
    "$$\\large\n",
    "\\frac{1}  {2 \\pi} \\cdot (e^{j \\cdot \\Omega_0 \\cdot n} +  e^{-j \\cdot \\Omega_0 \\cdot n})=\\frac{1}{\\pi} \\cdot cos(\\Omega_0 \\cdot n)\n",
    "$$\n",
    "\n",
    "This is the function, which we  need to multiply with our ideal low pass filter, to obtain an ideal filter where the pass band is centered around $\\Omega_0$. We call this cos function a **“modulation function”**, and the multiplication with this function a **“modulation”**\n",
    "\n",
    "Observe that we can also introduce a phase shift $p$ into this modulation function, for instance turning the cos function into a sine function. This would still work, because in the frequency domain this is a multiplication with another complex exponential from the phase term in the time-domain, just like from a time lag. It would just introduce a phase change in the final filter."
   ]
  },
  {
   "cell_type": "markdown",
   "metadata": {
    "slideshow": {
     "slide_type": "-"
    }
   },
   "source": [
    "#### Python Example"
   ]
  },
  {
   "cell_type": "markdown",
   "metadata": {
    "slideshow": {
     "slide_type": "-"
    }
   },
   "source": [
    "This principle can also be applied directly to audio signals. The following example takes the signal from a microphone and modulates (multiplies) it with a 500 Hz sine function:"
   ]
  },
  {
   "cell_type": "code",
   "execution_count": 23,
   "metadata": {
    "hide_input": true
   },
   "outputs": [
    {
     "data": {
      "text/html": [
       "<center>\n",
       "<iframe width=\"560\" height=\"315\" src=\"https://www.youtube.com/embed/7rEpmAY1qkU\" frameborder=\"0\" allow=\"accelerometer; encrypted-media; gyroscope; picture-in-picture\" allowfullscreen></iframe>\n",
       "</center>\n"
      ],
      "text/plain": [
       "<IPython.core.display.HTML object>"
      ]
     },
     "metadata": {},
     "output_type": "display_data"
    }
   ],
   "source": [
    "%%html\n",
    "<center>\n",
    "<iframe width=\"560\" height=\"315\" src=\"https://www.youtube.com/embed/7rEpmAY1qkU\" frameborder=\"0\" allow=\"accelerometer; encrypted-media; gyroscope; picture-in-picture\" allowfullscreen></iframe>\n",
    "</center>"
   ]
  },
  {
   "cell_type": "code",
   "execution_count": 22,
   "metadata": {
    "slideshow": {
     "slide_type": "-"
    }
   },
   "outputs": [
    {
     "data": {
      "application/vnd.jupyter.widget-view+json": {
       "model_id": "06f116980aaa45f6a160f33acfd4b0d4",
       "version_major": 2,
       "version_minor": 0
      },
      "text/plain": [
       "HBox(children=(Button(description='Start', style=ButtonStyle()), ToggleButton(value=False, description='Stop')…"
      ]
     },
     "metadata": {},
     "output_type": "display_data"
    }
   ],
   "source": [
    "\"\"\"\n",
    "PyAudio Example: Mix speech with a 1 kHz carrier (i.e., record a\n",
    "few samples, mix/modulate them with a sine wave, and play them back immediately).\n",
    "Using block-wise processing \n",
    "Gerald Schuller, Octtober 2014\n",
    "\n",
    "--- Modified by Renato Profeta to include GUI, April 2020\n",
    "\"\"\"\n",
    "\n",
    "# Imports\n",
    "import pyaudio\n",
    "import struct\n",
    "import numpy\n",
    "from ipywidgets import ToggleButton, Button\n",
    "from ipywidgets import HBox\n",
    "import threading\n",
    "\n",
    "# Parameters\n",
    "CHUNK = 5000 #Blocksize\n",
    "WIDTH = 2 #2 bytes per sample\n",
    "CHANNELS = 1 #2\n",
    "RATE = 32000  #Sampling Rate in Hz\n",
    "RECORD_SECONDS = 8\n",
    "\n",
    "def audio_app(toogle_run):\n",
    "    while(True):\n",
    "        if toggle_run.value==True:\n",
    "            break\n",
    "        \n",
    "        #Reading from audio input stream into data with block length \"CHUNK\":\n",
    "        data = (stream.read(CHUNK))\n",
    "        #Convert from stream of bytes to a list of short integers (2 bytes here) in \"samples\":\n",
    "        #shorts = (struct.unpack( \"128h\", data ))\n",
    "        shorts = (struct.unpack( 'h' * CHUNK, data))\n",
    "        samples=(list(shorts))\n",
    "\n",
    "        #start block-wise signal processing:\n",
    "\n",
    "        #Compute a block/an array of sine samples with 500 Hz:\n",
    "        s=numpy.sin(2*numpy.pi/RATE*500*numpy.arange(0,CHUNK));\n",
    "        #multiply/modulate the signal with the sine samples:\n",
    "        samples=samples*s;\n",
    "        samples=(numpy.clip(samples, -32000,32000)).astype(int)\n",
    "        #end signal processing\n",
    "\n",
    "        #converting from short integers to a stream of bytes in \"data\":\n",
    "        data=struct.pack('h' * len(samples), *samples);\n",
    "        #Writing data back to audio output stream: \n",
    "        stream.write(data, CHUNK)\n",
    "\n",
    "# GUI\n",
    "toggle_run = ToggleButton(description='Stop')\n",
    "button_start = Button(description='Start')\n",
    "\n",
    "def start_button(button_start):\n",
    "    thread.start()\n",
    "    button_start.disabled=True\n",
    "button_start.on_click(start_button)\n",
    "\n",
    "\n",
    "def on_click_toggle_run(change):\n",
    "    if change['new']==False:\n",
    "        stream.stop_stream()\n",
    "        stream.close()\n",
    "        p.terminate()\n",
    "        plt.close()\n",
    "        toggle_run.disabled=True\n",
    "toggle_run.observe(on_click_toggle_run, 'value')\n",
    "        \n",
    "box_buttons = HBox([button_start,toggle_run])\n",
    "\n",
    "# Create a Thread for run_spectrogram function\n",
    "thread = threading.Thread(target=audio_app, args=(toggle_run,))\n",
    "\n",
    "# Start Audio Stream\n",
    "# Create \n",
    "p = pyaudio.PyAudio()\n",
    "\n",
    "stream = p.open(format=p.get_format_from_width(WIDTH),\n",
    "                channels=CHANNELS,\n",
    "                rate=RATE,\n",
    "                input=True,\n",
    "                output=True,\n",
    "                #input_device_index=10,\n",
    "                frames_per_buffer=CHUNK)\n",
    "                \n",
    "display(box_buttons)\n",
    "\n",
    "\n"
   ]
  },
  {
   "cell_type": "markdown",
   "metadata": {
    "slideshow": {
     "slide_type": "-"
    }
   },
   "source": [
    "**Observe:** Sounds and voice sound higher pitched, like a Mickey-Mouse voice, as a result of the frequency shift!"
   ]
  },
  {
   "cell_type": "markdown",
   "metadata": {
    "slideshow": {
     "slide_type": "-"
    }
   },
   "source": [
    "**In Conclusion:**\n",
    "We can shift our ideal filter in the frequency domain by multiplying the ideal (or already windowed) impulse response with a modulation function\n",
    "\n",
    "$$\\large\n",
    "\\frac{1}{\\pi}\\cdot cos(\\Omega_0\\cdot (n-p))\n",
    "$$\n",
    "\n",
    "where p is some phase delay.<br>\n",
    "\n",
    "This is illustrated in the following pictures. First a low pass original spectrum,\n",
    "\n",
    "\n",
    "![Lecture6-1.png](./images/Lecture6-1.png)\n",
    "\n",
    "\n",
    "\n",
    "\n",
    "\n",
    "\n",
    "Next the spectrum after our modulation with frequency $\\Omega_0$\n",
    "\n",
    "\n",
    "![Lecture6-2.png](./images/Lecture6-2.png)\n"
   ]
  },
  {
   "cell_type": "markdown",
   "metadata": {
    "slideshow": {
     "slide_type": "-"
    }
   },
   "source": [
    "**Example:**\n",
    "\n",
    "To obtain a high pass, we need to shift the pass band from 0 to $\\pi$, hence we get $\\Omega_0=\\pi$, and choose p=0. The modulation function is then\n",
    "$\\frac{1}{\\pi}\\cdot cos(\\pi\\cdot n)$\n",
    "\n",
    "which is simply a sequence of +/-1!\n",
    "\n",
    "For instance for our low pass:\n"
   ]
  },
  {
   "cell_type": "code",
   "execution_count": 24,
   "metadata": {
    "hide_input": true
   },
   "outputs": [
    {
     "data": {
      "text/html": [
       "<center>\n",
       "<iframe width=\"560\" height=\"315\" src=\"https://www.youtube.com/embed/xdkBS_J5BIg\" frameborder=\"0\" allow=\"accelerometer; encrypted-media; gyroscope; picture-in-picture\" allowfullscreen></iframe>\n",
       "</center>\n"
      ],
      "text/plain": [
       "<IPython.core.display.HTML object>"
      ]
     },
     "metadata": {},
     "output_type": "display_data"
    }
   ],
   "source": [
    "%%html\n",
    "<center>\n",
    "<iframe width=\"560\" height=\"315\" src=\"https://www.youtube.com/embed/xdkBS_J5BIg\" frameborder=\"0\" allow=\"accelerometer; encrypted-media; gyroscope; picture-in-picture\" allowfullscreen></iframe>\n",
    "</center>"
   ]
  },
  {
   "cell_type": "code",
   "execution_count": 18,
   "metadata": {
    "slideshow": {
     "slide_type": "-"
    }
   },
   "outputs": [],
   "source": [
    "import numpy as np\n",
    "n=np.arange(32);\n",
    "#ideal impulse response:\n",
    "h=np.sin(0.33*np.pi*(n-15.5))/(np.pi*(n-15.5));\n",
    "#Kaiser window:\n",
    "hk=np.kaiser(32,8)\n",
    "#multiply ideal filter and Kaiser window:\n",
    "hfilt=hk*h\n"
   ]
  },
  {
   "cell_type": "markdown",
   "metadata": {
    "slideshow": {
     "slide_type": "-"
    }
   },
   "source": [
    "We can make a high pass out of it using modulation:"
   ]
  },
  {
   "cell_type": "code",
   "execution_count": 19,
   "metadata": {
    "slideshow": {
     "slide_type": "-"
    }
   },
   "outputs": [
    {
     "data": {
      "image/png": "[encoded data removed]",
      "text/plain": [
       "<Figure size 720x576 with 1 Axes>"
      ]
     },
     "metadata": {
      "needs_background": "light"
     },
     "output_type": "display_data"
    }
   ],
   "source": [
    "import matplotlib.pyplot as plt\n",
    "hp=hfilt*np.cos(np.pi *np.arange(32))\n",
    "\n",
    "plt.figure(figsize=(10,8))\n",
    "plt.plot(hp)\n",
    "plt.grid()"
   ]
  },
  {
   "cell_type": "markdown",
   "metadata": {
    "slideshow": {
     "slide_type": "-"
    }
   },
   "source": [
    "Here we can see the effect of the modulation with the +/-1 sequence.\n",
    "\n",
    "The resulting frequency response is:"
   ]
  },
  {
   "cell_type": "markdown",
   "metadata": {
    "slideshow": {
     "slide_type": "-"
    }
   },
   "source": [
    "And for the frequency response we get:\n"
   ]
  },
  {
   "cell_type": "code",
   "execution_count": 20,
   "metadata": {
    "slideshow": {
     "slide_type": "-"
    }
   },
   "outputs": [
    {
     "data": {
      "image/png": "[encoded data removed]",
      "text/plain": [
       "<Figure size 720x576 with 2 Axes>"
      ]
     },
     "metadata": {
      "needs_background": "light"
     },
     "output_type": "display_data"
    }
   ],
   "source": [
    "freqz(hp)"
   ]
  },
  {
   "cell_type": "markdown",
   "metadata": {
    "slideshow": {
     "slide_type": "-"
    }
   },
   "source": [
    "and we see that we indeed obtained a high pass. It is basically looks mirrored around the center. It really is shifted, but what we see as the high pass part was the negative frequency part of our low pass. \n",
    "\n",
    "We can also obtain a **band pass** with center frequency pi/2 with:"
   ]
  },
  {
   "cell_type": "code",
   "execution_count": 21,
   "metadata": {
    "slideshow": {
     "slide_type": "-"
    }
   },
   "outputs": [
    {
     "data": {
      "image/png": "[encoded data removed]",
      "text/plain": [
       "<Figure size 720x576 with 2 Axes>"
      ]
     },
     "metadata": {
      "needs_background": "light"
     },
     "output_type": "display_data"
    }
   ],
   "source": [
    "hbp=hfilt*np.cos(np.pi/2 *np.arange(32))\n",
    "freqz(hbp)"
   ]
  },
  {
   "cell_type": "markdown",
   "metadata": {
    "hide_input": true,
    "slideshow": {
     "slide_type": "-"
    }
   },
   "source": [
    "And we see that we indeed get a band pass!\n",
    "\n",
    "Observe that we obtain a pass band in this band pass case which is twice as wide as in the case of a low pass or a high pass, because here the negative frequencies of the low or high pass case appear as the other half of the pass band."
   ]
  }
 ],
 "metadata": {
  "kernelspec": {
   "display_name": "Python 3",
   "language": "python",
   "name": "python3"
  },
  "language_info": {
   "codemirror_mode": {
    "name": "ipython",
    "version": 3
   },
   "file_extension": ".py",
   "mimetype": "text/x-python",
   "name": "python",
   "nbconvert_exporter": "python",
   "pygments_lexer": "ipython3",
   "version": "3.7.4"
  },
  "widgets": {
   "application/vnd.jupyter.widget-state+json": {
    "state": {
     "0029500d285347cea960cae032e0a9d8": {
      "model_module": "@jupyter-widgets/base",
      "model_module_version": "1.2.0",
      "model_name": "LayoutModel",
      "state": {}
     },
     "0356272802724c91961a212e00758da4": {
      "model_module": "@jupyter-widgets/base",
      "model_module_version": "1.2.0",
      "model_name": "LayoutModel",
      "state": {}
     },
     "03f7d15dabf94028be0ce784a72870dc": {
      "model_module": "@jupyter-widgets/base",
      "model_module_version": "1.2.0",
      "model_name": "LayoutModel",
      "state": {}
     },
     "05be72cf936d4ea5b04d7a79c8f036df": {
      "model_module": "@jupyter-widgets/controls",
      "model_module_version": "1.5.0",
      "model_name": "VBoxModel",
      "state": {
       "_dom_classes": [
        "widget-interact"
       ],
       "children": [
        "IPY_MODEL_f3d7a398669e492d93d7ed9abc2ea757",
        "IPY_MODEL_916401e8db3c4c09b58fae8d1fe823c3",
        "IPY_MODEL_48bae7a82391411f9d6d12791d8610b6",
        "IPY_MODEL_6a8662949af54cabbdf270f5bc9b950b"
       ],
       "layout": "IPY_MODEL_a6481be1425d46e5b5abf1b52e73ce97"
      }
     },
     "08e5a1586b1641a9961eebd6d3d85b60": {
      "model_module": "@jupyter-widgets/controls",
      "model_module_version": "1.5.0",
      "model_name": "VBoxModel",
      "state": {
       "_dom_classes": [
        "widget-interact"
       ],
       "children": [
        "IPY_MODEL_0ce78217e62243d9afa7d902e0b4c566",
        "IPY_MODEL_2bb6471882fa41a19900178bf91012e8",
        "IPY_MODEL_5dcf8c760acf4659a1da7dec20448e2e",
        "IPY_MODEL_0b304f0b5b6548329a5089a517d6a612"
       ],
       "layout": "IPY_MODEL_d63802a277e14da09213d828cb80963f"
      }
     },
     "0970a48ffe54495d9cbd42c3f3ab4d6c": {
      "model_module": "@jupyter-widgets/controls",
      "model_module_version": "1.5.0",
      "model_name": "IntSliderModel",
      "state": {
       "description": "L",
       "layout": "IPY_MODEL_5ff41e6d45694fb8812178d014ceeb97",
       "max": 128,
       "min": 2,
       "style": "IPY_MODEL_d946add282394b1d94bd524837c96b45",
       "value": 31
      }
     },
     "0b304f0b5b6548329a5089a517d6a612": {
      "model_module": "@jupyter-widgets/output",
      "model_module_version": "1.0.0",
      "model_name": "OutputModel",
      "state": {
       "layout": "IPY_MODEL_8727619714e3420ebb4d6e54edd75c9d",
       "outputs": [
        {
         "name": "stdout",
         "output_type": "stream",
         "text": "-2.986324857901867\n-3.0322753864458294\n"
        },
        {
         "ename": "TypeError",
         "evalue": "angle() got an unexpected keyword argument 'degree'",
         "output_type": "error",
         "traceback": [
          "\u001b[1;31m---------------------------------------------------------------------------\u001b[0m",
          "\u001b[1;31mTypeError\u001b[0m                                 Traceback (most recent call last)",
          "\u001b[1;32mD:\\Anaconda3\\envs\\TU_Tutorials\\lib\\site-packages\\ipywidgets\\widgets\\interaction.py\u001b[0m in \u001b[0;36mupdate\u001b[1;34m(self, *args)\u001b[0m\n\u001b[0;32m    254\u001b[0m                     \u001b[0mvalue\u001b[0m \u001b[1;33m=\u001b[0m \u001b[0mwidget\u001b[0m\u001b[1;33m.\u001b[0m\u001b[0mget_interact_value\u001b[0m\u001b[1;33m(\u001b[0m\u001b[1;33m)\u001b[0m\u001b[1;33m\u001b[0m\u001b[1;33m\u001b[0m\u001b[0m\n\u001b[0;32m    255\u001b[0m                     \u001b[0mself\u001b[0m\u001b[1;33m.\u001b[0m\u001b[0mkwargs\u001b[0m\u001b[1;33m[\u001b[0m\u001b[0mwidget\u001b[0m\u001b[1;33m.\u001b[0m\u001b[0m_kwarg\u001b[0m\u001b[1;33m]\u001b[0m \u001b[1;33m=\u001b[0m \u001b[0mvalue\u001b[0m\u001b[1;33m\u001b[0m\u001b[1;33m\u001b[0m\u001b[0m\n\u001b[1;32m--> 256\u001b[1;33m                 \u001b[0mself\u001b[0m\u001b[1;33m.\u001b[0m\u001b[0mresult\u001b[0m \u001b[1;33m=\u001b[0m \u001b[0mself\u001b[0m\u001b[1;33m.\u001b[0m\u001b[0mf\u001b[0m\u001b[1;33m(\u001b[0m\u001b[1;33m**\u001b[0m\u001b[0mself\u001b[0m\u001b[1;33m.\u001b[0m\u001b[0mkwargs\u001b[0m\u001b[1;33m)\u001b[0m\u001b[1;33m\u001b[0m\u001b[1;33m\u001b[0m\u001b[0m\n\u001b[0m\u001b[0;32m    257\u001b[0m                 \u001b[0mshow_inline_matplotlib_plots\u001b[0m\u001b[1;33m(\u001b[0m\u001b[1;33m)\u001b[0m\u001b[1;33m\u001b[0m\u001b[1;33m\u001b[0m\u001b[0m\n\u001b[0;32m    258\u001b[0m                 \u001b[1;32mif\u001b[0m \u001b[0mself\u001b[0m\u001b[1;33m.\u001b[0m\u001b[0mauto_display\u001b[0m \u001b[1;32mand\u001b[0m \u001b[0mself\u001b[0m\u001b[1;33m.\u001b[0m\u001b[0mresult\u001b[0m \u001b[1;32mis\u001b[0m \u001b[1;32mnot\u001b[0m \u001b[1;32mNone\u001b[0m\u001b[1;33m:\u001b[0m\u001b[1;33m\u001b[0m\u001b[1;33m\u001b[0m\u001b[0m\n",
          "\u001b[1;32m<ipython-input-7-59ac1ab402f1>\u001b[0m in \u001b[0;36mplot_h\u001b[1;34m(L, wc, unwrap)\u001b[0m\n\u001b[0;32m     68\u001b[0m \u001b[1;33m\u001b[0m\u001b[0m\n\u001b[0;32m     69\u001b[0m     \u001b[0max3\u001b[0m\u001b[1;33m.\u001b[0m\u001b[0mclear\u001b[0m\u001b[1;33m(\u001b[0m\u001b[1;33m)\u001b[0m\u001b[1;33m\u001b[0m\u001b[1;33m\u001b[0m\u001b[0m\n\u001b[1;32m---> 70\u001b[1;33m     \u001b[0mphase\u001b[0m\u001b[1;33m=\u001b[0m\u001b[0mnp\u001b[0m\u001b[1;33m.\u001b[0m\u001b[0mangle\u001b[0m\u001b[1;33m(\u001b[0m\u001b[0mH\u001b[0m\u001b[1;33m,\u001b[0m \u001b[0mdegree\u001b[0m\u001b[1;33m=\u001b[0m\u001b[1;32mTrue\u001b[0m\u001b[1;33m)\u001b[0m\u001b[1;33m\u001b[0m\u001b[1;33m\u001b[0m\u001b[0m\n\u001b[0m\u001b[0;32m     71\u001b[0m     \u001b[1;32mif\u001b[0m \u001b[0munwrap\u001b[0m\u001b[1;33m:\u001b[0m\u001b[1;33m\u001b[0m\u001b[1;33m\u001b[0m\u001b[0m\n\u001b[0;32m     72\u001b[0m         \u001b[0mphase\u001b[0m\u001b[1;33m=\u001b[0m\u001b[0mnp\u001b[0m\u001b[1;33m.\u001b[0m\u001b[0munwrap\u001b[0m\u001b[1;33m(\u001b[0m\u001b[0mphase\u001b[0m\u001b[1;33m)\u001b[0m\u001b[1;33m\u001b[0m\u001b[1;33m\u001b[0m\u001b[0m\n",
          "\u001b[1;31mTypeError\u001b[0m: angle() got an unexpected keyword argument 'degree'"
         ]
        }
       ]
      }
     },
     "0ce78217e62243d9afa7d902e0b4c566": {
      "model_module": "@jupyter-widgets/controls",
      "model_module_version": "1.5.0",
      "model_name": "IntSliderModel",
      "state": {
       "description": "L",
       "layout": "IPY_MODEL_5d9e6bb9b35741ae8dd8822c7c2ec827",
       "max": 128,
       "min": 2,
       "style": "IPY_MODEL_b8ea2825e9104823ba3338439df90b21",
       "value": 16
      }
     },
     "0ebf19ba64a2445182602e0fe7a7ee0e": {
      "model_module": "@jupyter-widgets/controls",
      "model_module_version": "1.5.0",
      "model_name": "DescriptionStyleModel",
      "state": {
       "description_width": ""
      }
     },
     "10858c30ff644b75bedb13c9aaa8e86a": {
      "model_module": "@jupyter-widgets/base",
      "model_module_version": "1.2.0",
      "model_name": "LayoutModel",
      "state": {}
     },
     "144e9bb694ff4c2b974520c7b8a3a9c6": {
      "model_module": "@jupyter-widgets/controls",
      "model_module_version": "1.5.0",
      "model_name": "SliderStyleModel",
      "state": {
       "description_width": ""
      }
     },
     "14e90ac533cd49cdaaaeb62cbd0fa9bc": {
      "model_module": "@jupyter-widgets/base",
      "model_module_version": "1.2.0",
      "model_name": "LayoutModel",
      "state": {}
     },
     "17fa56dfb7db4e159a57ca64a75fb7fb": {
      "model_module": "@jupyter-widgets/controls",
      "model_module_version": "1.5.0",
      "model_name": "SliderStyleModel",
      "state": {
       "description_width": ""
      }
     },
     "1834df36879940888884860cb2c266af": {
      "model_module": "@jupyter-widgets/base",
      "model_module_version": "1.2.0",
      "model_name": "LayoutModel",
      "state": {}
     },
     "1af02d515cf44f19aaca78877f88661c": {
      "model_module": "@jupyter-widgets/controls",
      "model_module_version": "1.5.0",
      "model_name": "VBoxModel",
      "state": {
       "_dom_classes": [
        "widget-interact"
       ],
       "children": [
        "IPY_MODEL_2f5f2ecd932f4fcebb1b8931495c81e1",
        "IPY_MODEL_990358533027449aac97876b636eea58",
        "IPY_MODEL_de54a3d6a83746bdbdf977b33454204a"
       ],
       "layout": "IPY_MODEL_49f349a9156a445da42980546de95da9"
      }
     },
     "1b20b14c69214d0dac0decfe18d1e152": {
      "model_module": "@jupyter-widgets/output",
      "model_module_version": "1.0.0",
      "model_name": "OutputModel",
      "state": {
       "layout": "IPY_MODEL_6ce5ebf11b33486b9d9f803cfea5dfea"
      }
     },
     "1d210e98870d415c8d819016e2ec1501": {
      "model_module": "@jupyter-widgets/base",
      "model_module_version": "1.2.0",
      "model_name": "LayoutModel",
      "state": {}
     },
     "2160fccd15774970af84802719367788": {
      "model_module": "@jupyter-widgets/base",
      "model_module_version": "1.2.0",
      "model_name": "LayoutModel",
      "state": {}
     },
     "229f46dbb5594226bb80908d9bd97617": {
      "model_module": "@jupyter-widgets/base",
      "model_module_version": "1.2.0",
      "model_name": "LayoutModel",
      "state": {}
     },
     "2488a7b125004931a8f11c877d698119": {
      "model_module": "@jupyter-widgets/base",
      "model_module_version": "1.2.0",
      "model_name": "LayoutModel",
      "state": {}
     },
     "2803a907927946ea9895b008c55df0e9": {
      "model_module": "@jupyter-widgets/base",
      "model_module_version": "1.2.0",
      "model_name": "LayoutModel",
      "state": {}
     },
     "290a6bc604c84cc1abc5a41f065893a0": {
      "model_module": "@jupyter-widgets/controls",
      "model_module_version": "1.5.0",
      "model_name": "IntSliderModel",
      "state": {
       "description": "L",
       "layout": "IPY_MODEL_ae855c0eeb374b7eaad889676d4bae73",
       "max": 128,
       "min": 2,
       "style": "IPY_MODEL_9c1f955f51234fee85275b0b893da03d",
       "value": 11
      }
     },
     "2bb6471882fa41a19900178bf91012e8": {
      "model_module": "@jupyter-widgets/controls",
      "model_module_version": "1.5.0",
      "model_name": "FloatSliderModel",
      "state": {
       "description": "wc",
       "layout": "IPY_MODEL_989bb64f31964c63a6d4ac801d86de78",
       "max": 1,
       "min": 0.1,
       "step": 0.01,
       "style": "IPY_MODEL_39a7ac1f32ca4e1cb39558cd5b79c9e1",
       "value": 0.5
      }
     },
     "2c1afa2493344b229273a2ebf60a13c9": {
      "model_module": "@jupyter-widgets/controls",
      "model_module_version": "1.5.0",
      "model_name": "IntSliderModel",
      "state": {
       "description": "L",
       "layout": "IPY_MODEL_bd9b55a8090b45f490ec8d380750bff0",
       "max": 128,
       "min": 2,
       "style": "IPY_MODEL_f0a49ec366964223a43cd3860ff0edb7",
       "value": 12
      }
     },
     "2d11c90e4251463696f4cdad65b21587": {
      "model_module": "@jupyter-widgets/controls",
      "model_module_version": "1.5.0",
      "model_name": "SliderStyleModel",
      "state": {
       "description_width": ""
      }
     },
     "2d549e2206e04707a18d302c4febb071": {
      "model_module": "@jupyter-widgets/base",
      "model_module_version": "1.2.0",
      "model_name": "LayoutModel",
      "state": {}
     },
     "2ea14d3e1de84e0caf561890c4169c4a": {
      "model_module": "@jupyter-widgets/base",
      "model_module_version": "1.2.0",
      "model_name": "LayoutModel",
      "state": {}
     },
     "2f5f2ecd932f4fcebb1b8931495c81e1": {
      "model_module": "@jupyter-widgets/controls",
      "model_module_version": "1.5.0",
      "model_name": "IntSliderModel",
      "state": {
       "description": "L",
       "layout": "IPY_MODEL_2803a907927946ea9895b008c55df0e9",
       "max": 128,
       "min": 2,
       "style": "IPY_MODEL_e0d4012b568a4384bc37137136d53216",
       "value": 16
      }
     },
     "3570bdbed31c4fec9395f337a28c7c41": {
      "model_module": "@jupyter-widgets/controls",
      "model_module_version": "1.5.0",
      "model_name": "DescriptionStyleModel",
      "state": {
       "description_width": ""
      }
     },
     "3636c26e49fb47789baae2f238ef1ef7": {
      "model_module": "@jupyter-widgets/controls",
      "model_module_version": "1.5.0",
      "model_name": "DescriptionStyleModel",
      "state": {
       "description_width": ""
      }
     },
     "37909931df1c47e4948a530f7963f1e0": {
      "model_module": "@jupyter-widgets/controls",
      "model_module_version": "1.5.0",
      "model_name": "VBoxModel",
      "state": {
       "_dom_classes": [
        "widget-interact"
       ],
       "children": [
        "IPY_MODEL_7d67995d29be4477b74511527f4a7364",
        "IPY_MODEL_e40821b543a64eb998fdbf0a5d83eb79",
        "IPY_MODEL_a177ee2609364bec90f6db3a4f5cf21f",
        "IPY_MODEL_6bf8bef585f14e87b4ac18b8c20fccf9"
       ],
       "layout": "IPY_MODEL_2160fccd15774970af84802719367788"
      }
     },
     "38431e6d3cd2491384084e0d4886a11c": {
      "model_module": "@jupyter-widgets/base",
      "model_module_version": "1.2.0",
      "model_name": "LayoutModel",
      "state": {}
     },
     "391678a09ded4245b0b8279ee079347b": {
      "model_module": "@jupyter-widgets/controls",
      "model_module_version": "1.5.0",
      "model_name": "DescriptionStyleModel",
      "state": {
       "description_width": ""
      }
     },
     "39a7ac1f32ca4e1cb39558cd5b79c9e1": {
      "model_module": "@jupyter-widgets/controls",
      "model_module_version": "1.5.0",
      "model_name": "SliderStyleModel",
      "state": {
       "description_width": ""
      }
     },
     "3ea876db91d84f32997f07d1d42bf507": {
      "model_module": "@jupyter-widgets/base",
      "model_module_version": "1.2.0",
      "model_name": "LayoutModel",
      "state": {}
     },
     "408a375449bc4879bc7cfd0b6e1a1858": {
      "model_module": "@jupyter-widgets/base",
      "model_module_version": "1.2.0",
      "model_name": "LayoutModel",
      "state": {}
     },
     "40c8afaa44bf482193aafcf33beef555": {
      "model_module": "@jupyter-widgets/controls",
      "model_module_version": "1.5.0",
      "model_name": "DescriptionStyleModel",
      "state": {
       "description_width": ""
      }
     },
     "40db9cfe2782441bb5c91a1f8c033456": {
      "model_module": "@jupyter-widgets/controls",
      "model_module_version": "1.5.0",
      "model_name": "VBoxModel",
      "state": {
       "_dom_classes": [
        "widget-interact"
       ],
       "children": [
        "IPY_MODEL_6d2f3cedfbbd4c91a5a5fc3ab1d7a4d3",
        "IPY_MODEL_fbf926e4350749bab98b4227561f26da",
        "IPY_MODEL_50f8238d579f472e9dccae2d7e393675",
        "IPY_MODEL_8b813eacd35f4288b3ad6121fc1747c5"
       ],
       "layout": "IPY_MODEL_63c30ff14cb846fda36062c8de3f597e"
      }
     },
     "421ae1d80f2640c5b6056ed15fcb603d": {
      "model_module": "@jupyter-widgets/output",
      "model_module_version": "1.0.0",
      "model_name": "OutputModel",
      "state": {
       "layout": "IPY_MODEL_ee76e1c879ff4e4bb1e7caf54f04343d",
       "outputs": [
        {
         "name": "stdout",
         "output_type": "stream",
         "text": "-2.986324857901867\n-3.0322753864458294\n"
        }
       ]
      }
     },
     "434afc611c034f29bd77a4c13c9a3290": {
      "model_module": "@jupyter-widgets/controls",
      "model_module_version": "1.5.0",
      "model_name": "SliderStyleModel",
      "state": {
       "description_width": ""
      }
     },
     "45896b8ab76a4cb3b7e1595c4c811cfe": {
      "model_module": "@jupyter-widgets/controls",
      "model_module_version": "1.5.0",
      "model_name": "DescriptionStyleModel",
      "state": {
       "description_width": ""
      }
     },
     "461859f1b14c42e69ed6603245134b40": {
      "model_module": "@jupyter-widgets/output",
      "model_module_version": "1.0.0",
      "model_name": "OutputModel",
      "state": {
       "layout": "IPY_MODEL_fa972079af324291b5a19ba80bcdfc98",
       "outputs": [
        {
         "ename": "IndexError",
         "evalue": "index 0 is out of bounds for axis 0 with size 0",
         "output_type": "error",
         "traceback": [
          "\u001b[1;31m---------------------------------------------------------------------------\u001b[0m",
          "\u001b[1;31mIndexError\u001b[0m                                Traceback (most recent call last)",
          "\u001b[1;32mD:\\Anaconda3\\envs\\TU_Tutorials\\lib\\site-packages\\ipywidgets\\widgets\\interaction.py\u001b[0m in \u001b[0;36mupdate\u001b[1;34m(self, *args)\u001b[0m\n\u001b[0;32m    254\u001b[0m                     \u001b[0mvalue\u001b[0m \u001b[1;33m=\u001b[0m \u001b[0mwidget\u001b[0m\u001b[1;33m.\u001b[0m\u001b[0mget_interact_value\u001b[0m\u001b[1;33m(\u001b[0m\u001b[1;33m)\u001b[0m\u001b[1;33m\u001b[0m\u001b[1;33m\u001b[0m\u001b[0m\n\u001b[0;32m    255\u001b[0m                     \u001b[0mself\u001b[0m\u001b[1;33m.\u001b[0m\u001b[0mkwargs\u001b[0m\u001b[1;33m[\u001b[0m\u001b[0mwidget\u001b[0m\u001b[1;33m.\u001b[0m\u001b[0m_kwarg\u001b[0m\u001b[1;33m]\u001b[0m \u001b[1;33m=\u001b[0m \u001b[0mvalue\u001b[0m\u001b[1;33m\u001b[0m\u001b[1;33m\u001b[0m\u001b[0m\n\u001b[1;32m--> 256\u001b[1;33m                 \u001b[0mself\u001b[0m\u001b[1;33m.\u001b[0m\u001b[0mresult\u001b[0m \u001b[1;33m=\u001b[0m \u001b[0mself\u001b[0m\u001b[1;33m.\u001b[0m\u001b[0mf\u001b[0m\u001b[1;33m(\u001b[0m\u001b[1;33m**\u001b[0m\u001b[0mself\u001b[0m\u001b[1;33m.\u001b[0m\u001b[0mkwargs\u001b[0m\u001b[1;33m)\u001b[0m\u001b[1;33m\u001b[0m\u001b[1;33m\u001b[0m\u001b[0m\n\u001b[0m\u001b[0;32m    257\u001b[0m                 \u001b[0mshow_inline_matplotlib_plots\u001b[0m\u001b[1;33m(\u001b[0m\u001b[1;33m)\u001b[0m\u001b[1;33m\u001b[0m\u001b[1;33m\u001b[0m\u001b[0m\n\u001b[0;32m    258\u001b[0m                 \u001b[1;32mif\u001b[0m \u001b[0mself\u001b[0m\u001b[1;33m.\u001b[0m\u001b[0mauto_display\u001b[0m \u001b[1;32mand\u001b[0m \u001b[0mself\u001b[0m\u001b[1;33m.\u001b[0m\u001b[0mresult\u001b[0m \u001b[1;32mis\u001b[0m \u001b[1;32mnot\u001b[0m \u001b[1;32mNone\u001b[0m\u001b[1;33m:\u001b[0m\u001b[1;33m\u001b[0m\u001b[1;33m\u001b[0m\u001b[0m\n",
          "\u001b[1;32m<ipython-input-9-d396d6d205ab>\u001b[0m in \u001b[0;36mplot_recWindow_H\u001b[1;34m(L, unwrap)\u001b[0m\n\u001b[0;32m     27\u001b[0m             arrowprops=dict(facecolor='black', shrink=0.02, width=1, headwidth=4),)\n\u001b[0;32m     28\u001b[0m     \u001b[1;32mif\u001b[0m \u001b[0mL\u001b[0m\u001b[1;33m!=\u001b[0m\u001b[1;36m2\u001b[0m\u001b[1;33m:\u001b[0m\u001b[1;33m\u001b[0m\u001b[1;33m\u001b[0m\u001b[0m\n\u001b[1;32m---> 29\u001b[1;33m         \u001b[0mside_lobe\u001b[0m\u001b[1;33m=\u001b[0m\u001b[0margrelextrema\u001b[0m\u001b[1;33m(\u001b[0m\u001b[0mnp\u001b[0m\u001b[1;33m.\u001b[0m\u001b[0mabs\u001b[0m\u001b[1;33m(\u001b[0m\u001b[0mH\u001b[0m\u001b[1;33m)\u001b[0m\u001b[1;33m,\u001b[0m \u001b[0mnp\u001b[0m\u001b[1;33m.\u001b[0m\u001b[0mgreater\u001b[0m\u001b[1;33m)\u001b[0m\u001b[1;33m[\u001b[0m\u001b[1;36m0\u001b[0m\u001b[1;33m]\u001b[0m\u001b[1;33m[\u001b[0m\u001b[1;36m0\u001b[0m\u001b[1;33m]\u001b[0m\u001b[1;33m\u001b[0m\u001b[1;33m\u001b[0m\u001b[0m\n\u001b[0m\u001b[0;32m     30\u001b[0m         \u001b[0max1\u001b[0m\u001b[1;33m.\u001b[0m\u001b[0mplot\u001b[0m\u001b[1;33m(\u001b[0m\u001b[1;33m(\u001b[0m\u001b[1;36m0\u001b[0m\u001b[1;33m,\u001b[0m \u001b[0momega\u001b[0m\u001b[1;33m[\u001b[0m\u001b[1;33m-\u001b[0m\u001b[1;36m1\u001b[0m\u001b[1;33m]\u001b[0m\u001b[1;33m)\u001b[0m\u001b[1;33m,\u001b[0m\u001b[1;33m(\u001b[0m\u001b[0mH_dB\u001b[0m\u001b[1;33m[\u001b[0m\u001b[0mside_lobe\u001b[0m\u001b[1;33m]\u001b[0m\u001b[1;33m,\u001b[0m\u001b[0mH_dB\u001b[0m\u001b[1;33m[\u001b[0m\u001b[0mside_lobe\u001b[0m\u001b[1;33m]\u001b[0m\u001b[1;33m)\u001b[0m\u001b[1;33m,\u001b[0m \u001b[1;34m'k--'\u001b[0m\u001b[1;33m)\u001b[0m\u001b[1;33m\u001b[0m\u001b[1;33m\u001b[0m\u001b[0m\n\u001b[0;32m     31\u001b[0m         ax1.annotate(r'$\\omega$={:.2f}$\\pi$, {:.2f}dB'.format(omega[side_lobe]/np.pi,H_dB[side_lobe]), \n",
          "\u001b[1;31mIndexError\u001b[0m: index 0 is out of bounds for axis 0 with size 0"
         ]
        }
       ]
      }
     },
     "462f98cc95bc4bf7bf5047325c59b199": {
      "model_module": "@jupyter-widgets/base",
      "model_module_version": "1.2.0",
      "model_name": "LayoutModel",
      "state": {}
     },
     "4652fb03c19a42a38b0ac59632d900d6": {
      "model_module": "@jupyter-widgets/controls",
      "model_module_version": "1.5.0",
      "model_name": "CheckboxModel",
      "state": {
       "description": "unwrap",
       "disabled": false,
       "layout": "IPY_MODEL_2488a7b125004931a8f11c877d698119",
       "style": "IPY_MODEL_0ebf19ba64a2445182602e0fe7a7ee0e",
       "value": false
      }
     },
     "48bae7a82391411f9d6d12791d8610b6": {
      "model_module": "@jupyter-widgets/controls",
      "model_module_version": "1.5.0",
      "model_name": "CheckboxModel",
      "state": {
       "description": "unwrap",
       "disabled": false,
       "layout": "IPY_MODEL_73bf02f4a77e4d5bbd7310e249650de3",
       "style": "IPY_MODEL_c1e65404e25c4c369995cf3f8b5e49de",
       "value": false
      }
     },
     "49a4ea69c58744889ec0f85cce628555": {
      "model_module": "@jupyter-widgets/controls",
      "model_module_version": "1.5.0",
      "model_name": "VBoxModel",
      "state": {
       "_dom_classes": [
        "widget-interact"
       ],
       "children": [
        "IPY_MODEL_2c1afa2493344b229273a2ebf60a13c9",
        "IPY_MODEL_6de2a3f0ff2c404f9febb9090726954f",
        "IPY_MODEL_f8c1d8517c6c4b8a96c0754f923ad0c5",
        "IPY_MODEL_cdce04c2d7714651b30c7400eb81f6cd"
       ],
       "layout": "IPY_MODEL_ac2116cb465a4454bc7db17e926da183"
      }
     },
     "49f349a9156a445da42980546de95da9": {
      "model_module": "@jupyter-widgets/base",
      "model_module_version": "1.2.0",
      "model_name": "LayoutModel",
      "state": {}
     },
     "4a2eb9fa6a0d4f9d892947bf6d5a15b3": {
      "model_module": "@jupyter-widgets/controls",
      "model_module_version": "1.5.0",
      "model_name": "DescriptionStyleModel",
      "state": {
       "description_width": ""
      }
     },
     "4a4f1eae1c3e48fa99aacac33c3573d0": {
      "model_module": "@jupyter-widgets/base",
      "model_module_version": "1.2.0",
      "model_name": "LayoutModel",
      "state": {}
     },
     "4c11135dea5149e18c9b78253e6d6783": {
      "model_module": "@jupyter-widgets/base",
      "model_module_version": "1.2.0",
      "model_name": "LayoutModel",
      "state": {}
     },
     "50f8238d579f472e9dccae2d7e393675": {
      "model_module": "@jupyter-widgets/controls",
      "model_module_version": "1.5.0",
      "model_name": "CheckboxModel",
      "state": {
       "description": "unwrap",
       "disabled": false,
       "layout": "IPY_MODEL_f208057bbc724df483350d415317e9a2",
       "style": "IPY_MODEL_4a2eb9fa6a0d4f9d892947bf6d5a15b3",
       "value": false
      }
     },
     "512f981be60f46ffac62a79d481e0dbe": {
      "model_module": "@jupyter-widgets/base",
      "model_module_version": "1.2.0",
      "model_name": "LayoutModel",
      "state": {}
     },
     "51353157d67046b6b5e27022c45632d6": {
      "model_module": "@jupyter-widgets/base",
      "model_module_version": "1.2.0",
      "model_name": "LayoutModel",
      "state": {}
     },
     "5312e52c60324e4ca6b9fae5d2dccab1": {
      "model_module": "@jupyter-widgets/controls",
      "model_module_version": "1.5.0",
      "model_name": "CheckboxModel",
      "state": {
       "description": "unwrap",
       "disabled": false,
       "layout": "IPY_MODEL_462f98cc95bc4bf7bf5047325c59b199",
       "style": "IPY_MODEL_40c8afaa44bf482193aafcf33beef555",
       "value": false
      }
     },
     "5965ecd22fd94ac9b8834a09cbfc6576": {
      "model_module": "@jupyter-widgets/output",
      "model_module_version": "1.0.0",
      "model_name": "OutputModel",
      "state": {
       "layout": "IPY_MODEL_2d549e2206e04707a18d302c4febb071",
       "outputs": [
        {
         "name": "stdout",
         "output_type": "stream",
         "text": "-2.9368379843876866\n-3.02540945072563\n"
        }
       ]
      }
     },
     "59c3521486594f78a98d393e207f3898": {
      "model_module": "@jupyter-widgets/controls",
      "model_module_version": "1.5.0",
      "model_name": "CheckboxModel",
      "state": {
       "description": "unwrap",
       "disabled": false,
       "layout": "IPY_MODEL_faf5451fe23d45c6b99edbc0a800faf2",
       "style": "IPY_MODEL_3570bdbed31c4fec9395f337a28c7c41",
       "value": false
      }
     },
     "5d0bc1776fa34a7a810917fc5d8a64f5": {
      "model_module": "@jupyter-widgets/base",
      "model_module_version": "1.2.0",
      "model_name": "LayoutModel",
      "state": {}
     },
     "5d9e6bb9b35741ae8dd8822c7c2ec827": {
      "model_module": "@jupyter-widgets/base",
      "model_module_version": "1.2.0",
      "model_name": "LayoutModel",
      "state": {}
     },
     "5dcf8c760acf4659a1da7dec20448e2e": {
      "model_module": "@jupyter-widgets/controls",
      "model_module_version": "1.5.0",
      "model_name": "CheckboxModel",
      "state": {
       "description": "unwrap",
       "disabled": false,
       "layout": "IPY_MODEL_ae631cde68664f3c9cfeb8ec252d267a",
       "style": "IPY_MODEL_999bcd2a6bfb4dfc873caaf70ab149a9",
       "value": false
      }
     },
     "5ff41e6d45694fb8812178d014ceeb97": {
      "model_module": "@jupyter-widgets/base",
      "model_module_version": "1.2.0",
      "model_name": "LayoutModel",
      "state": {}
     },
     "63c30ff14cb846fda36062c8de3f597e": {
      "model_module": "@jupyter-widgets/base",
      "model_module_version": "1.2.0",
      "model_name": "LayoutModel",
      "state": {}
     },
     "641d559f5f02481b8f6403754fc5dae7": {
      "model_module": "@jupyter-widgets/base",
      "model_module_version": "1.2.0",
      "model_name": "LayoutModel",
      "state": {}
     },
     "67b4f0ce8fe44a18bdfe96c060d953d7": {
      "model_module": "@jupyter-widgets/base",
      "model_module_version": "1.2.0",
      "model_name": "LayoutModel",
      "state": {}
     },
     "67b52ebdfbf649afb5377c28bdb25524": {
      "model_module": "@jupyter-widgets/controls",
      "model_module_version": "1.5.0",
      "model_name": "DescriptionStyleModel",
      "state": {
       "description_width": ""
      }
     },
     "6a2b162d0ea94caf8e89db7a72689234": {
      "model_module": "@jupyter-widgets/base",
      "model_module_version": "1.2.0",
      "model_name": "LayoutModel",
      "state": {}
     },
     "6a8662949af54cabbdf270f5bc9b950b": {
      "model_module": "@jupyter-widgets/output",
      "model_module_version": "1.0.0",
      "model_name": "OutputModel",
      "state": {
       "layout": "IPY_MODEL_aa3d7a39440b441ba7d3e504aef27620",
       "outputs": [
        {
         "name": "stdout",
         "output_type": "stream",
         "text": "-2.996721970266943\n-3.039797343863033\n"
        }
       ]
      }
     },
     "6bf8bef585f14e87b4ac18b8c20fccf9": {
      "model_module": "@jupyter-widgets/output",
      "model_module_version": "1.0.0",
      "model_name": "OutputModel",
      "state": {
       "layout": "IPY_MODEL_b778e10f526a49a5b32f39cbe25a5540",
       "outputs": [
        {
         "name": "stdout",
         "output_type": "stream",
         "text": "-2.986324857901867\n-3.0322753864458294\n"
        }
       ]
      }
     },
     "6c63f52423284d8685b0ff11cd2af69e": {
      "model_module": "@jupyter-widgets/controls",
      "model_module_version": "1.5.0",
      "model_name": "SliderStyleModel",
      "state": {
       "description_width": ""
      }
     },
     "6ce5ebf11b33486b9d9f803cfea5dfea": {
      "model_module": "@jupyter-widgets/base",
      "model_module_version": "1.2.0",
      "model_name": "LayoutModel",
      "state": {}
     },
     "6d2f3cedfbbd4c91a5a5fc3ab1d7a4d3": {
      "model_module": "@jupyter-widgets/controls",
      "model_module_version": "1.5.0",
      "model_name": "IntSliderModel",
      "state": {
       "description": "L",
       "layout": "IPY_MODEL_5d0bc1776fa34a7a810917fc5d8a64f5",
       "max": 128,
       "min": 2,
       "style": "IPY_MODEL_6c63f52423284d8685b0ff11cd2af69e",
       "value": 16
      }
     },
     "6de2a3f0ff2c404f9febb9090726954f": {
      "model_module": "@jupyter-widgets/controls",
      "model_module_version": "1.5.0",
      "model_name": "FloatSliderModel",
      "state": {
       "description": "wc",
       "layout": "IPY_MODEL_830ce93075504bbfaed6022b42e906df",
       "max": 1,
       "min": 0.1,
       "step": 0.01,
       "style": "IPY_MODEL_aaa7ed12f4d447dd9c8c2386b5e39a8b",
       "value": 0.5
      }
     },
     "70870ccc363540e3ab392bbac4ab7ab9": {
      "model_module": "@jupyter-widgets/controls",
      "model_module_version": "1.5.0",
      "model_name": "DescriptionStyleModel",
      "state": {
       "description_width": ""
      }
     },
     "7095ca2e9b9047018a8364cd2d53a81a": {
      "model_module": "@jupyter-widgets/base",
      "model_module_version": "1.2.0",
      "model_name": "LayoutModel",
      "state": {}
     },
     "73bf02f4a77e4d5bbd7310e249650de3": {
      "model_module": "@jupyter-widgets/base",
      "model_module_version": "1.2.0",
      "model_name": "LayoutModel",
      "state": {}
     },
     "77423bd7deb1434b8a8da5b6322bb4ed": {
      "model_module": "@jupyter-widgets/controls",
      "model_module_version": "1.5.0",
      "model_name": "VBoxModel",
      "state": {
       "_dom_classes": [
        "widget-interact"
       ],
       "children": [
        "IPY_MODEL_853fd06dba4d47d0a51e31ab281c5052",
        "IPY_MODEL_c17a02a7210147f6ae41a5bd279f9c26",
        "IPY_MODEL_1b20b14c69214d0dac0decfe18d1e152"
       ],
       "layout": "IPY_MODEL_df4729fceeb94eaabeda1fa181749d70"
      }
     },
     "79681f8c847f4f7aba372e8fb62b99ff": {
      "model_module": "@jupyter-widgets/controls",
      "model_module_version": "1.5.0",
      "model_name": "VBoxModel",
      "state": {
       "_dom_classes": [
        "widget-interact"
       ],
       "children": [
        "IPY_MODEL_290a6bc604c84cc1abc5a41f065893a0",
        "IPY_MODEL_f2f9fb3606934317b63f622c781d03bb",
        "IPY_MODEL_b1cb2576c5b449059a2a0756ccb395c3"
       ],
       "layout": "IPY_MODEL_0029500d285347cea960cae032e0a9d8"
      }
     },
     "7d67995d29be4477b74511527f4a7364": {
      "model_module": "@jupyter-widgets/controls",
      "model_module_version": "1.5.0",
      "model_name": "IntSliderModel",
      "state": {
       "description": "L",
       "layout": "IPY_MODEL_aa20a95f3cd34cb1b3a664491dd4782e",
       "max": 128,
       "min": 2,
       "style": "IPY_MODEL_434afc611c034f29bd77a4c13c9a3290",
       "value": 16
      }
     },
     "80cd5ce2ebbd46b4b221e22241415478": {
      "model_module": "@jupyter-widgets/controls",
      "model_module_version": "1.5.0",
      "model_name": "IntSliderModel",
      "state": {
       "description": "L",
       "layout": "IPY_MODEL_cb2128e116c840bf88ac2a370f8abc89",
       "max": 128,
       "min": 2,
       "style": "IPY_MODEL_feb0b85abc124c77a0c76f542518de47",
       "value": 16
      }
     },
     "830ce93075504bbfaed6022b42e906df": {
      "model_module": "@jupyter-widgets/base",
      "model_module_version": "1.2.0",
      "model_name": "LayoutModel",
      "state": {}
     },
     "83d79b7454f547a191c07a11107cdec6": {
      "model_module": "@jupyter-widgets/controls",
      "model_module_version": "1.5.0",
      "model_name": "SliderStyleModel",
      "state": {
       "description_width": ""
      }
     },
     "8493bdbfb3a247d397887cff2c6feeb6": {
      "model_module": "@jupyter-widgets/controls",
      "model_module_version": "1.5.0",
      "model_name": "HBoxModel",
      "state": {
       "children": [
        "IPY_MODEL_c94c1500aff447028c8e01b3cb8f3d7b",
        "IPY_MODEL_ec64ee9af6be4c3e9b839f891d5d2679"
       ],
       "layout": "IPY_MODEL_7095ca2e9b9047018a8364cd2d53a81a"
      }
     },
     "853fd06dba4d47d0a51e31ab281c5052": {
      "model_module": "@jupyter-widgets/controls",
      "model_module_version": "1.5.0",
      "model_name": "IntSliderModel",
      "state": {
       "description": "L",
       "layout": "IPY_MODEL_de60d3f2621b4ba78d77b40921c32b48",
       "max": 128,
       "min": 2,
       "style": "IPY_MODEL_bb767f871d504e4e840f274dc4c2cc94",
       "value": 16
      }
     },
     "8727619714e3420ebb4d6e54edd75c9d": {
      "model_module": "@jupyter-widgets/base",
      "model_module_version": "1.2.0",
      "model_name": "LayoutModel",
      "state": {}
     },
     "8b813eacd35f4288b3ad6121fc1747c5": {
      "model_module": "@jupyter-widgets/output",
      "model_module_version": "1.0.0",
      "model_name": "OutputModel",
      "state": {
       "layout": "IPY_MODEL_a5d3d5fb2c4a45f98a030f58188cee53",
       "outputs": [
        {
         "name": "stdout",
         "output_type": "stream",
         "text": "-2.986324857901867\n-3.0322753864458294\n"
        }
       ]
      }
     },
     "916401e8db3c4c09b58fae8d1fe823c3": {
      "model_module": "@jupyter-widgets/controls",
      "model_module_version": "1.5.0",
      "model_name": "FloatSliderModel",
      "state": {
       "description": "wc",
       "layout": "IPY_MODEL_408a375449bc4879bc7cfd0b6e1a1858",
       "max": 1,
       "min": 0.1,
       "step": 0.01,
       "style": "IPY_MODEL_2d11c90e4251463696f4cdad65b21587",
       "value": 0.52
      }
     },
     "97eec8abfdf442fba1dfd9631100361e": {
      "model_module": "@jupyter-widgets/base",
      "model_module_version": "1.2.0",
      "model_name": "LayoutModel",
      "state": {}
     },
     "989bb64f31964c63a6d4ac801d86de78": {
      "model_module": "@jupyter-widgets/base",
      "model_module_version": "1.2.0",
      "model_name": "LayoutModel",
      "state": {}
     },
     "990358533027449aac97876b636eea58": {
      "model_module": "@jupyter-widgets/controls",
      "model_module_version": "1.5.0",
      "model_name": "CheckboxModel",
      "state": {
       "description": "unwrap",
       "disabled": false,
       "layout": "IPY_MODEL_3ea876db91d84f32997f07d1d42bf507",
       "style": "IPY_MODEL_67b52ebdfbf649afb5377c28bdb25524",
       "value": true
      }
     },
     "999bcd2a6bfb4dfc873caaf70ab149a9": {
      "model_module": "@jupyter-widgets/controls",
      "model_module_version": "1.5.0",
      "model_name": "DescriptionStyleModel",
      "state": {
       "description_width": ""
      }
     },
     "9b4bde59989a4870929416fbff16b06a": {
      "model_module": "@jupyter-widgets/controls",
      "model_module_version": "1.5.0",
      "model_name": "VBoxModel",
      "state": {
       "_dom_classes": [
        "widget-interact"
       ],
       "children": [
        "IPY_MODEL_80cd5ce2ebbd46b4b221e22241415478",
        "IPY_MODEL_f89886aba4c34d449ce8cbf9c45ea4cc",
        "IPY_MODEL_5312e52c60324e4ca6b9fae5d2dccab1",
        "IPY_MODEL_9c189a7f479140019f84910d766a5a9f"
       ],
       "layout": "IPY_MODEL_0356272802724c91961a212e00758da4"
      }
     },
     "9c189a7f479140019f84910d766a5a9f": {
      "model_module": "@jupyter-widgets/output",
      "model_module_version": "1.0.0",
      "model_name": "OutputModel",
      "state": {
       "layout": "IPY_MODEL_03f7d15dabf94028be0ce784a72870dc",
       "outputs": [
        {
         "name": "stdout",
         "output_type": "stream",
         "text": "-2.986324857901867\n-3.0322753864458294\n"
        }
       ]
      }
     },
     "9c1f955f51234fee85275b0b893da03d": {
      "model_module": "@jupyter-widgets/controls",
      "model_module_version": "1.5.0",
      "model_name": "SliderStyleModel",
      "state": {
       "description_width": ""
      }
     },
     "9f0596c34e90474dac5af9250c84f3c8": {
      "model_module": "@jupyter-widgets/base",
      "model_module_version": "1.2.0",
      "model_name": "LayoutModel",
      "state": {}
     },
     "a177ee2609364bec90f6db3a4f5cf21f": {
      "model_module": "@jupyter-widgets/controls",
      "model_module_version": "1.5.0",
      "model_name": "CheckboxModel",
      "state": {
       "description": "unwrap",
       "disabled": false,
       "layout": "IPY_MODEL_4c11135dea5149e18c9b78253e6d6783",
       "style": "IPY_MODEL_acd3a9b819e54e4b989c60ebf086540b",
       "value": false
      }
     },
     "a5d3d5fb2c4a45f98a030f58188cee53": {
      "model_module": "@jupyter-widgets/base",
      "model_module_version": "1.2.0",
      "model_name": "LayoutModel",
      "state": {}
     },
     "a6481be1425d46e5b5abf1b52e73ce97": {
      "model_module": "@jupyter-widgets/base",
      "model_module_version": "1.2.0",
      "model_name": "LayoutModel",
      "state": {}
     },
     "a66936b45e2847589ec22cc1c13221b1": {
      "model_module": "@jupyter-widgets/controls",
      "model_module_version": "1.5.0",
      "model_name": "FloatSliderModel",
      "state": {
       "description": "wc",
       "layout": "IPY_MODEL_6a2b162d0ea94caf8e89db7a72689234",
       "max": 1,
       "min": 0.1,
       "step": 0.01,
       "style": "IPY_MODEL_beae5d607a0f44dd84a4b9da23403ccb",
       "value": 0.5
      }
     },
     "aa20a95f3cd34cb1b3a664491dd4782e": {
      "model_module": "@jupyter-widgets/base",
      "model_module_version": "1.2.0",
      "model_name": "LayoutModel",
      "state": {}
     },
     "aa3d7a39440b441ba7d3e504aef27620": {
      "model_module": "@jupyter-widgets/base",
      "model_module_version": "1.2.0",
      "model_name": "LayoutModel",
      "state": {}
     },
     "aaa7ed12f4d447dd9c8c2386b5e39a8b": {
      "model_module": "@jupyter-widgets/controls",
      "model_module_version": "1.5.0",
      "model_name": "SliderStyleModel",
      "state": {
       "description_width": ""
      }
     },
     "ac2116cb465a4454bc7db17e926da183": {
      "model_module": "@jupyter-widgets/base",
      "model_module_version": "1.2.0",
      "model_name": "LayoutModel",
      "state": {}
     },
     "acd3a9b819e54e4b989c60ebf086540b": {
      "model_module": "@jupyter-widgets/controls",
      "model_module_version": "1.5.0",
      "model_name": "DescriptionStyleModel",
      "state": {
       "description_width": ""
      }
     },
     "ae631cde68664f3c9cfeb8ec252d267a": {
      "model_module": "@jupyter-widgets/base",
      "model_module_version": "1.2.0",
      "model_name": "LayoutModel",
      "state": {}
     },
     "ae855c0eeb374b7eaad889676d4bae73": {
      "model_module": "@jupyter-widgets/base",
      "model_module_version": "1.2.0",
      "model_name": "LayoutModel",
      "state": {}
     },
     "b1cb2576c5b449059a2a0756ccb395c3": {
      "model_module": "@jupyter-widgets/output",
      "model_module_version": "1.0.0",
      "model_name": "OutputModel",
      "state": {
       "layout": "IPY_MODEL_2ea14d3e1de84e0caf561890c4169c4a"
      }
     },
     "b2cfe76ca355471bb804ea7585acc3af": {
      "model_module": "@jupyter-widgets/base",
      "model_module_version": "1.2.0",
      "model_name": "LayoutModel",
      "state": {}
     },
     "b30c4b4b9af44ac09993b27262b0259e": {
      "model_module": "@jupyter-widgets/controls",
      "model_module_version": "1.5.0",
      "model_name": "SliderStyleModel",
      "state": {
       "description_width": ""
      }
     },
     "b581b802bc124912882cfd27ffeed1e3": {
      "model_module": "@jupyter-widgets/controls",
      "model_module_version": "1.5.0",
      "model_name": "SliderStyleModel",
      "state": {
       "description_width": ""
      }
     },
     "b778e10f526a49a5b32f39cbe25a5540": {
      "model_module": "@jupyter-widgets/base",
      "model_module_version": "1.2.0",
      "model_name": "LayoutModel",
      "state": {}
     },
     "b7b9d255903749769f20286f768abb14": {
      "model_module": "@jupyter-widgets/controls",
      "model_module_version": "1.5.0",
      "model_name": "IntSliderModel",
      "state": {
       "description": "L",
       "layout": "IPY_MODEL_1834df36879940888884860cb2c266af",
       "max": 128,
       "min": 2,
       "style": "IPY_MODEL_b581b802bc124912882cfd27ffeed1e3",
       "value": 4
      }
     },
     "b8ea2825e9104823ba3338439df90b21": {
      "model_module": "@jupyter-widgets/controls",
      "model_module_version": "1.5.0",
      "model_name": "SliderStyleModel",
      "state": {
       "description_width": ""
      }
     },
     "ba576b35bf974cb4ad03159ba695c61a": {
      "model_module": "@jupyter-widgets/controls",
      "model_module_version": "1.5.0",
      "model_name": "IntSliderModel",
      "state": {
       "description": "L",
       "layout": "IPY_MODEL_fad6558ca7b4421a872e9c48c0fd5db3",
       "max": 128,
       "min": 2,
       "style": "IPY_MODEL_144e9bb694ff4c2b974520c7b8a3a9c6",
       "value": 16
      }
     },
     "bb767f871d504e4e840f274dc4c2cc94": {
      "model_module": "@jupyter-widgets/controls",
      "model_module_version": "1.5.0",
      "model_name": "SliderStyleModel",
      "state": {
       "description_width": ""
      }
     },
     "bd68e24af2b94ae18c2429165cac2e92": {
      "model_module": "@jupyter-widgets/base",
      "model_module_version": "1.2.0",
      "model_name": "LayoutModel",
      "state": {}
     },
     "bd9b55a8090b45f490ec8d380750bff0": {
      "model_module": "@jupyter-widgets/base",
      "model_module_version": "1.2.0",
      "model_name": "LayoutModel",
      "state": {}
     },
     "beae5d607a0f44dd84a4b9da23403ccb": {
      "model_module": "@jupyter-widgets/controls",
      "model_module_version": "1.5.0",
      "model_name": "SliderStyleModel",
      "state": {
       "description_width": ""
      }
     },
     "c17a02a7210147f6ae41a5bd279f9c26": {
      "model_module": "@jupyter-widgets/controls",
      "model_module_version": "1.5.0",
      "model_name": "CheckboxModel",
      "state": {
       "description": "unwrap",
       "disabled": false,
       "layout": "IPY_MODEL_97eec8abfdf442fba1dfd9631100361e",
       "style": "IPY_MODEL_3636c26e49fb47789baae2f238ef1ef7",
       "value": false
      }
     },
     "c1e65404e25c4c369995cf3f8b5e49de": {
      "model_module": "@jupyter-widgets/controls",
      "model_module_version": "1.5.0",
      "model_name": "DescriptionStyleModel",
      "state": {
       "description_width": ""
      }
     },
     "c43b34dd82084145aa138a7caf48c05e": {
      "model_module": "@jupyter-widgets/controls",
      "model_module_version": "1.5.0",
      "model_name": "SliderStyleModel",
      "state": {
       "description_width": ""
      }
     },
     "c44cca5695e54ff19f7412e7d08d1902": {
      "model_module": "@jupyter-widgets/controls",
      "model_module_version": "1.5.0",
      "model_name": "DescriptionStyleModel",
      "state": {
       "description_width": ""
      }
     },
     "c54eec13b5e84a9cac70cf837d879d85": {
      "model_module": "@jupyter-widgets/base",
      "model_module_version": "1.2.0",
      "model_name": "LayoutModel",
      "state": {}
     },
     "c5e24727146a4f1c95b5e55e85a66533": {
      "model_module": "@jupyter-widgets/base",
      "model_module_version": "1.2.0",
      "model_name": "LayoutModel",
      "state": {}
     },
     "c6746cb27eda404c8ae8d026c8157dcf": {
      "model_module": "@jupyter-widgets/controls",
      "model_module_version": "1.5.0",
      "model_name": "VBoxModel",
      "state": {
       "_dom_classes": [
        "widget-interact"
       ],
       "children": [
        "IPY_MODEL_ba576b35bf974cb4ad03159ba695c61a",
        "IPY_MODEL_ca41edb2f61f42b89de5c27c8cf853c5",
        "IPY_MODEL_4652fb03c19a42a38b0ac59632d900d6",
        "IPY_MODEL_421ae1d80f2640c5b6056ed15fcb603d"
       ],
       "layout": "IPY_MODEL_10858c30ff644b75bedb13c9aaa8e86a"
      }
     },
     "c94c1500aff447028c8e01b3cb8f3d7b": {
      "model_module": "@jupyter-widgets/controls",
      "model_module_version": "1.5.0",
      "model_name": "ButtonModel",
      "state": {
       "description": "Start",
       "layout": "IPY_MODEL_67b4f0ce8fe44a18bdfe96c060d953d7",
       "style": "IPY_MODEL_eb7880855b654087a714e63c2a0f5967"
      }
     },
     "ca41edb2f61f42b89de5c27c8cf853c5": {
      "model_module": "@jupyter-widgets/controls",
      "model_module_version": "1.5.0",
      "model_name": "FloatSliderModel",
      "state": {
       "description": "wc",
       "layout": "IPY_MODEL_229f46dbb5594226bb80908d9bd97617",
       "max": 1,
       "min": 0.1,
       "step": 0.01,
       "style": "IPY_MODEL_83d79b7454f547a191c07a11107cdec6",
       "value": 0.5
      }
     },
     "cb2128e116c840bf88ac2a370f8abc89": {
      "model_module": "@jupyter-widgets/base",
      "model_module_version": "1.2.0",
      "model_name": "LayoutModel",
      "state": {}
     },
     "cdce04c2d7714651b30c7400eb81f6cd": {
      "model_module": "@jupyter-widgets/output",
      "model_module_version": "1.0.0",
      "model_name": "OutputModel",
      "state": {
       "layout": "IPY_MODEL_38431e6d3cd2491384084e0d4886a11c",
       "outputs": [
        {
         "name": "stdout",
         "output_type": "stream",
         "text": "-2.9992585283794986\n-3.034173095206789\n"
        }
       ]
      }
     },
     "d63802a277e14da09213d828cb80963f": {
      "model_module": "@jupyter-widgets/base",
      "model_module_version": "1.2.0",
      "model_name": "LayoutModel",
      "state": {}
     },
     "d653ea8d8d274f7584b238048f2fcc35": {
      "model_module": "@jupyter-widgets/controls",
      "model_module_version": "1.5.0",
      "model_name": "VBoxModel",
      "state": {
       "_dom_classes": [
        "widget-interact"
       ],
       "children": [
        "IPY_MODEL_b7b9d255903749769f20286f768abb14",
        "IPY_MODEL_e9e4b0d9f08542d2be2684f57ed67373",
        "IPY_MODEL_461859f1b14c42e69ed6603245134b40"
       ],
       "layout": "IPY_MODEL_9f0596c34e90474dac5af9250c84f3c8"
      }
     },
     "d946add282394b1d94bd524837c96b45": {
      "model_module": "@jupyter-widgets/controls",
      "model_module_version": "1.5.0",
      "model_name": "SliderStyleModel",
      "state": {
       "description_width": ""
      }
     },
     "de54a3d6a83746bdbdf977b33454204a": {
      "model_module": "@jupyter-widgets/output",
      "model_module_version": "1.0.0",
      "model_name": "OutputModel",
      "state": {
       "layout": "IPY_MODEL_14e90ac533cd49cdaaaeb62cbd0fa9bc"
      }
     },
     "de60d3f2621b4ba78d77b40921c32b48": {
      "model_module": "@jupyter-widgets/base",
      "model_module_version": "1.2.0",
      "model_name": "LayoutModel",
      "state": {}
     },
     "df4729fceeb94eaabeda1fa181749d70": {
      "model_module": "@jupyter-widgets/base",
      "model_module_version": "1.2.0",
      "model_name": "LayoutModel",
      "state": {}
     },
     "e0d4012b568a4384bc37137136d53216": {
      "model_module": "@jupyter-widgets/controls",
      "model_module_version": "1.5.0",
      "model_name": "SliderStyleModel",
      "state": {
       "description_width": ""
      }
     },
     "e40821b543a64eb998fdbf0a5d83eb79": {
      "model_module": "@jupyter-widgets/controls",
      "model_module_version": "1.5.0",
      "model_name": "FloatSliderModel",
      "state": {
       "description": "wc",
       "layout": "IPY_MODEL_512f981be60f46ffac62a79d481e0dbe",
       "max": 1,
       "min": 0.1,
       "step": 0.01,
       "style": "IPY_MODEL_17fa56dfb7db4e159a57ca64a75fb7fb",
       "value": 0.5
      }
     },
     "e56f8108108c42988af66578da95c803": {
      "model_module": "@jupyter-widgets/controls",
      "model_module_version": "1.5.0",
      "model_name": "VBoxModel",
      "state": {
       "_dom_classes": [
        "widget-interact"
       ],
       "children": [
        "IPY_MODEL_0970a48ffe54495d9cbd42c3f3ab4d6c",
        "IPY_MODEL_a66936b45e2847589ec22cc1c13221b1",
        "IPY_MODEL_59c3521486594f78a98d393e207f3898",
        "IPY_MODEL_5965ecd22fd94ac9b8834a09cbfc6576"
       ],
       "layout": "IPY_MODEL_51353157d67046b6b5e27022c45632d6"
      }
     },
     "e9e4b0d9f08542d2be2684f57ed67373": {
      "model_module": "@jupyter-widgets/controls",
      "model_module_version": "1.5.0",
      "model_name": "CheckboxModel",
      "state": {
       "description": "unwrap",
       "disabled": false,
       "layout": "IPY_MODEL_1d210e98870d415c8d819016e2ec1501",
       "style": "IPY_MODEL_70870ccc363540e3ab392bbac4ab7ab9",
       "value": true
      }
     },
     "eb7880855b654087a714e63c2a0f5967": {
      "model_module": "@jupyter-widgets/controls",
      "model_module_version": "1.5.0",
      "model_name": "ButtonStyleModel",
      "state": {}
     },
     "ec64ee9af6be4c3e9b839f891d5d2679": {
      "model_module": "@jupyter-widgets/controls",
      "model_module_version": "1.5.0",
      "model_name": "ToggleButtonModel",
      "state": {
       "description": "Stop",
       "layout": "IPY_MODEL_b2cfe76ca355471bb804ea7585acc3af",
       "style": "IPY_MODEL_391678a09ded4245b0b8279ee079347b"
      }
     },
     "ee76e1c879ff4e4bb1e7caf54f04343d": {
      "model_module": "@jupyter-widgets/base",
      "model_module_version": "1.2.0",
      "model_name": "LayoutModel",
      "state": {}
     },
     "ef67b947ab784b888bc258307e748284": {
      "model_module": "@jupyter-widgets/controls",
      "model_module_version": "1.5.0",
      "model_name": "SliderStyleModel",
      "state": {
       "description_width": ""
      }
     },
     "f0a49ec366964223a43cd3860ff0edb7": {
      "model_module": "@jupyter-widgets/controls",
      "model_module_version": "1.5.0",
      "model_name": "SliderStyleModel",
      "state": {
       "description_width": ""
      }
     },
     "f208057bbc724df483350d415317e9a2": {
      "model_module": "@jupyter-widgets/base",
      "model_module_version": "1.2.0",
      "model_name": "LayoutModel",
      "state": {}
     },
     "f2f9fb3606934317b63f622c781d03bb": {
      "model_module": "@jupyter-widgets/controls",
      "model_module_version": "1.5.0",
      "model_name": "CheckboxModel",
      "state": {
       "description": "unwrap",
       "disabled": false,
       "layout": "IPY_MODEL_4a4f1eae1c3e48fa99aacac33c3573d0",
       "style": "IPY_MODEL_c44cca5695e54ff19f7412e7d08d1902",
       "value": true
      }
     },
     "f3d7a398669e492d93d7ed9abc2ea757": {
      "model_module": "@jupyter-widgets/controls",
      "model_module_version": "1.5.0",
      "model_name": "IntSliderModel",
      "state": {
       "description": "L",
       "layout": "IPY_MODEL_c5e24727146a4f1c95b5e55e85a66533",
       "max": 128,
       "min": 2,
       "style": "IPY_MODEL_b30c4b4b9af44ac09993b27262b0259e",
       "value": 16
      }
     },
     "f89886aba4c34d449ce8cbf9c45ea4cc": {
      "model_module": "@jupyter-widgets/controls",
      "model_module_version": "1.5.0",
      "model_name": "FloatSliderModel",
      "state": {
       "description": "wc",
       "layout": "IPY_MODEL_bd68e24af2b94ae18c2429165cac2e92",
       "max": 1,
       "min": 0.1,
       "step": 0.01,
       "style": "IPY_MODEL_c43b34dd82084145aa138a7caf48c05e",
       "value": 0.5
      }
     },
     "f8c1d8517c6c4b8a96c0754f923ad0c5": {
      "model_module": "@jupyter-widgets/controls",
      "model_module_version": "1.5.0",
      "model_name": "CheckboxModel",
      "state": {
       "description": "unwrap",
       "disabled": false,
       "layout": "IPY_MODEL_c54eec13b5e84a9cac70cf837d879d85",
       "style": "IPY_MODEL_45896b8ab76a4cb3b7e1595c4c811cfe",
       "value": false
      }
     },
     "fa972079af324291b5a19ba80bcdfc98": {
      "model_module": "@jupyter-widgets/base",
      "model_module_version": "1.2.0",
      "model_name": "LayoutModel",
      "state": {}
     },
     "fad6558ca7b4421a872e9c48c0fd5db3": {
      "model_module": "@jupyter-widgets/base",
      "model_module_version": "1.2.0",
      "model_name": "LayoutModel",
      "state": {}
     },
     "faf5451fe23d45c6b99edbc0a800faf2": {
      "model_module": "@jupyter-widgets/base",
      "model_module_version": "1.2.0",
      "model_name": "LayoutModel",
      "state": {}
     },
     "fbf926e4350749bab98b4227561f26da": {
      "model_module": "@jupyter-widgets/controls",
      "model_module_version": "1.5.0",
      "model_name": "FloatSliderModel",
      "state": {
       "description": "wc",
       "layout": "IPY_MODEL_641d559f5f02481b8f6403754fc5dae7",
       "max": 1,
       "min": 0.1,
       "step": 0.01,
       "style": "IPY_MODEL_ef67b947ab784b888bc258307e748284",
       "value": 0.5
      }
     },
     "feb0b85abc124c77a0c76f542518de47": {
      "model_module": "@jupyter-widgets/controls",
      "model_module_version": "1.5.0",
      "model_name": "SliderStyleModel",
      "state": {
       "description_width": ""
      }
     }
    },
    "version_major": 2,
    "version_minor": 0
   }
  }
 },
 "nbformat": 4,
 "nbformat_minor": 2
}
