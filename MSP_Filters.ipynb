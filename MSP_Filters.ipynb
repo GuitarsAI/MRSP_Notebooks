{
 "cells": [
  {
   "cell_type": "markdown",
   "metadata": {
    "slideshow": {
     "slide_type": "slide"
    }
   },
   "source": [
    "<center>\n",
    "    <img src=\"./images/msp_header.png\">\n",
    "</center>\n",
    "\n",
    "#### Prof. Dr. -Ing. Gerald Schuller <br> Jupyter Notebook: Renato Profeta\n",
    "\n"
   ]
  },
  {
   "cell_type": "markdown",
   "metadata": {
    "slideshow": {
     "slide_type": "-"
    }
   },
   "source": [
    "# Filters"
   ]
  },
  {
   "cell_type": "markdown",
   "metadata": {
    "slideshow": {
     "slide_type": "skip"
    }
   },
   "source": [
    "Using frequency responses and the z-Transform, we can now analyse and design more general filters than just the running average or the running difference.\n",
    "Applying a filter has the effect of multiplying the frequency domain description of a signal $ {X \\left( \\omega \\right) } {}$ with the frequency response or transfer function of a filter $H\\left(\\omega\\right)$ to obtain the filter output $Y\\left(\\omega\\right)$:\n",
    "\n",
    "$$Y\\left(\\omega\\right)=X\\left(\\omega\\right)\\cdot H\\left(\\omega\\right)$$\n",
    "\n",
    "In the time (or space) domain we get the corresponding operation by taking the inverse Discrete Time Fourier Transform. Remember that a multiplication in the frequency domain becomes a **convolution** in the time domain:\n",
    "$$\n",
    " {y \\left( n \\right) =x \\left( n \\right) *h \\left( n \\right) = \\sum _ { {m= -  \\infty } }  ^{ { \\infty } }  {x \\left( n - m \\right) h \\left( m \\right) } } {}\n",
    "$$\n",
    "\n",
    "This is what we already saw for the example of the running average low pass filter with the matrix formulation!<br>\n",
    "This is now the more general formulation to obtain filters, which we can now use to design filters. "
   ]
  },
  {
   "cell_type": "code",
   "execution_count": 17,
   "metadata": {
    "hide_input": true
   },
   "outputs": [
    {
     "data": {
      "text/html": [
       "<iframe width=\"560\" height=\"315\" src=\"https://www.youtube.com/embed/BhyxN_INkNw\" frameborder=\"0\" allow=\"accelerometer; \n",
       "    encrypted-media; gyroscope; picture-in-picture\" allowfullscreen></iframe>\n"
      ],
      "text/plain": [
       "<IPython.core.display.HTML object>"
      ]
     },
     "metadata": {},
     "output_type": "display_data"
    }
   ],
   "source": [
    "%%html\n",
    "<iframe width=\"560\" height=\"315\" src=\"https://www.youtube.com/embed/BhyxN_INkNw\" frameborder=\"0\" allow=\"accelerometer; \n",
    "    encrypted-media; gyroscope; picture-in-picture\" allowfullscreen></iframe>"
   ]
  },
  {
   "cell_type": "markdown",
   "metadata": {
    "slideshow": {
     "slide_type": "slide"
    }
   },
   "source": [
    "## Ideal Low Pass Filter"
   ]
  },
  {
   "cell_type": "markdown",
   "metadata": {
    "slideshow": {
     "slide_type": "-"
    }
   },
   "source": [
    "**Example:** An **ideal** low pass filter has a constant pass band, with constant magnitude of 1, and a constant stop band, with a magnitude of 0! This is also called a “brick wall filter”, because of the similarity of the magnitude of the frequency response with a brick.\n",
    "\n",
    "<center>\n",
    "    <img src=\"./images/Ideal-Low-pass-filter.png\">\n",
    "</center>\n",
    "\n",
    "We can describe an ideal low pass filter using the following equations:\n",
    "\n",
    "$$H\\left(e^{j\\omega}\\right)=\\left\\{\n",
    "                \\begin{array}{ll}\n",
    "                  1 \\quad \\textrm{for} \\quad -\\omega_c < \\omega < +\\omega_c\\\\\n",
    "                  0 \\quad \\textrm{elsewhere} \n",
    "                \\end{array}\n",
    "              \\right.$$\n",
    "              \n",
    "Applying the inverse DTFT, will give us the analytical solution of its ideal impulse response:\n",
    "\n",
    "$$h\\left(n\\right)=\\dfrac{1}{2\\pi} \\cdot \\int_{\\omega=-\\omega_c}^{\\omega_c} H\\left(e^{j\\omega}\\right)e^{jn\\omega} d\\omega$$\n",
    "\n",
    "$$ h\\left(n\\right)=\\dfrac{1}{2\\pi} \\cdot  \\int_{\\omega=-\\omega_c}^{+\\omega_c} 1 \\cdot e^{jn\\omega} d\\omega = \\dfrac{1}{2\\pi} \\cdot \\left(\\dfrac{e^{j \\cdot \\omega_c \\cdot n }}{j \\cdot n} - \\dfrac{e^{-j \\cdot \\omega_c \\cdot n }}{j \\cdot n} \\right )$$\n",
    "\n",
    "\n",
    "From Trigonometry and Complex Exponentials we have $ sin\\left(x\\right)= \\dfrac{e^{jx}-e^{-jx}}{2j} $ (Euler's Formula) and substituting we get:\n",
    "\n",
    "$$ h\\left(n\\right) = \\dfrac{sin\\left(\\omega_c \\cdot n\\right)}{\\pi \\cdot n} $$ \n",
    "\n",
    "This expression leads to an indetermination of $\\dfrac{0}{0}$ when $n=0$, therefore using L'Hôpital we have:\n",
    "\n",
    "$$h\\left(n\\right)=\\dfrac{\\omega_c}{\\pi}\\quad \\textrm{for} \\quad n=0$$"
   ]
  },
  {
   "cell_type": "code",
   "execution_count": 18,
   "metadata": {
    "hide_input": true
   },
   "outputs": [
    {
     "data": {
      "text/html": [
       "<iframe width=\"560\" height=\"315\" src=\"https://www.youtube.com/embed/Lhyr82B6Pro\" frameborder=\"0\" allow=\"accelerometer; \n",
       "    encrypted-media; gyroscope; picture-in-picture\" allowfullscreen></iframe>\n"
      ],
      "text/plain": [
       "<IPython.core.display.HTML object>"
      ]
     },
     "metadata": {},
     "output_type": "display_data"
    }
   ],
   "source": [
    "%%html\n",
    "<iframe width=\"560\" height=\"315\" src=\"https://www.youtube.com/embed/Lhyr82B6Pro\" frameborder=\"0\" allow=\"accelerometer; \n",
    "    encrypted-media; gyroscope; picture-in-picture\" allowfullscreen></iframe>"
   ]
  },
  {
   "cell_type": "markdown",
   "metadata": {
    "slideshow": {
     "slide_type": "-"
    }
   },
   "source": [
    "We can also calculate the inverse DTFT using Sympy:"
   ]
  },
  {
   "cell_type": "code",
   "execution_count": 6,
   "metadata": {
    "slideshow": {
     "slide_type": "-"
    }
   },
   "outputs": [],
   "source": [
    "# Imports\n",
    "from sympy import symbols, Integral, simplify, pi, E, I"
   ]
  },
  {
   "cell_type": "code",
   "execution_count": 7,
   "metadata": {
    "slideshow": {
     "slide_type": "-"
    }
   },
   "outputs": [],
   "source": [
    "# Define symbols\n",
    "wc, w = symbols('\\omega_c \\omega')\n",
    "n = symbols('n', integer=True)"
   ]
  },
  {
   "cell_type": "code",
   "execution_count": 11,
   "metadata": {
    "scrolled": true,
    "slideshow": {
     "slide_type": "-"
    }
   },
   "outputs": [
    {
     "data": {
      "text/latex": [
       "$\\displaystyle \\frac{\\int\\limits_{- \\omega_c}^{\\omega_c} e^{i \\omega n}\\, d\\omega}{2 \\pi}$"
      ],
      "text/plain": [
       "Integral(exp(I*\\omega*n), (\\omega, -\\omega_c, \\omega_c))/(2*pi)"
      ]
     },
     "metadata": {},
     "output_type": "display_data"
    },
    {
     "data": {
      "text/latex": [
       "$\\displaystyle \\frac{\\begin{cases} - \\frac{i e^{i \\omega_c n}}{n} + \\frac{i e^{- i \\omega_c n}}{n} & \\text{for}\\: n > -\\infty \\wedge n < \\infty \\wedge n \\neq 0 \\\\2 \\omega_c & \\text{otherwise} \\end{cases}}{2 \\pi}$"
      ],
      "text/plain": [
       "Piecewise((-I*exp(I*\\omega_c*n)/n + I*exp(-I*\\omega_c*n)/n, (n > -oo) & (n < oo) & Ne(n, 0)), (2*\\omega_c, True))/(2*pi)"
      ]
     },
     "execution_count": 11,
     "metadata": {},
     "output_type": "execute_result"
    }
   ],
   "source": [
    "h=(1/(2*pi))*Integral(E**(I*n*w),(w,-wc,wc))\n",
    "display(h)\n",
    "h.doit()"
   ]
  },
  {
   "cell_type": "code",
   "execution_count": 10,
   "metadata": {
    "slideshow": {
     "slide_type": "-"
    }
   },
   "outputs": [
    {
     "data": {
      "text/latex": [
       "$\\displaystyle \\begin{cases} \\frac{\\sin{\\left(\\omega_c n \\right)}}{\\pi n} & \\text{for}\\: n > -\\infty \\wedge n < \\infty \\wedge n \\neq 0 \\\\\\frac{\\omega_c}{\\pi} & \\text{otherwise} \\end{cases}$"
      ],
      "text/plain": [
       "Piecewise((sin(\\omega_c*n)/(pi*n), (n > -oo) & (n < oo) & Ne(n, 0)), (\\omega_c/pi, True))"
      ]
     },
     "execution_count": 10,
     "metadata": {},
     "output_type": "execute_result"
    }
   ],
   "source": [
    "simplify(h.doit())"
   ]
  },
  {
   "cell_type": "markdown",
   "metadata": {
    "slideshow": {
     "slide_type": "-"
    }
   },
   "source": [
    "- We can see that the resulting impulse response is infinite and non-causal. For practical applications we need a finite and causal system.\n",
    "- To make the impulse response causal, we can add a delay to the impulse response to avoid values for n < 0, meaning that it starts at time 0.\n",
    "- To make the impulse response finite, we can truncate the impulse response to a limited length L.\n",
    "\n",
    "\n",
    "**This shows that the impulse response of an ideal low pass filter is not practically implementable, and we can get only an approximation of an ideal filter.**\n",
    "\n",
    "We have now very easily designed this filter in the **frequency domain** (this is our filter goal). We just need to know the pass band edge and the magnitudes of pass band and stop band. But usually we implement and compute our filters in the time or space domain (at least for short filters this is more efficient to implement). \n",
    "\n",
    "How do we obtain a corresponding **impulse response**? First we also need to specify the **phase**, because the frequency response consists of 2 parts, the magnitude and the phase. There are filters where we want to specify the phase ( as in all-pass filters), and there are filters where we don’t care much about the phase, as in our low pass example. If we don’t care about the phase, we can give it an arbitrary value, like 0. But there we find that we will get non-causal filters, so it makes sense to **add a delay** to make it causal (meaning that it starts at time 0). \n",
    "\n",
    "In that case we have a **linear phase** corresponding to that **delay**. Why is a delay linear phase?"
   ]
  },
  {
   "cell_type": "markdown",
   "metadata": {
    "slideshow": {
     "slide_type": "slide"
    }
   },
   "source": [
    "### Delay"
   ]
  },
  {
   "cell_type": "markdown",
   "metadata": {
    "slideshow": {
     "slide_type": "-"
    }
   },
   "source": [
    "We can write a **delay by m sample** points as multiplying the signal with $z^{-m}$ in the z-domain:\n",
    "\n",
    "$$\n",
    " {H \\left( z \\right) \\cdot z^{{ - m} } = \\sum_ { {n=0} } ^ { { \\infty } }  {h \\left( n \\right) z ^{ { - n - m} } } = \\sum _ { {n'=m} }  ^ { { \\infty } }  {h \\left( n' - m \\right) z ^ { { - n'} } } } {}\n",
    "$$\n",
    "with the index substitution $n'=n+m$, for a causal system. This is the z-Transform of the delayed signal $h\\left(n-m\\right)$, with a delay of m samples."
   ]
  },
  {
   "cell_type": "markdown",
   "metadata": {
    "slideshow": {
     "slide_type": "-"
    }
   },
   "source": [
    "**In summary:** A **delay** of m samples in the time domain corresponds to a **multiplication** with $z^{-m}$ in the z-domain.\n",
    "\n",
    "Observe that this delay can also be written as a convolution with the following impulse response s(n) in the time domain:\n",
    "\n",
    "$$\n",
    "{s \\left( n \\right) = \\left [\\underbrace {0,0, .  .  .  ,} _{\\text{m-zeros} } 1 \\right ]} {}\n",
    "$$\n",
    "(meaning s(n)=1 for n=m, and 0 else), \n",
    "as convolution sum:\n",
    "\n",
    "$$\n",
    "x\\left(n\\right)*s\\left(n\\right)=\\sum_{l=0}^{m} x\\left(n-l\\right) \\cdot s\\left(l\\right)=x\\left(n-m\\right)\n",
    "$$\n",
    "(indeed a delay).\n",
    "Taking the z-Transform obviously again results in \n",
    "\n",
    "$$ {S \\left( z \\right) = \\sum _ {{n=0} }  ^ {{ \\infty } }  {s\\left( n \\right) z ^ { { - n} } } =z ^ {{ - m} } } {}\n",
    "$$\n",
    "Important to remember: A z-transform element of $z^{-m}$ corresponds to a time-domain **delay of m samples**! (Because this is one of the fundamentals of multirate signal processing)"
   ]
  },
  {
   "cell_type": "code",
   "execution_count": 19,
   "metadata": {
    "hide_input": true
   },
   "outputs": [
    {
     "data": {
      "text/html": [
       "<iframe width=\"560\" height=\"315\" src=\"https://www.youtube.com/embed/YjAZUpLzIAk\" frameborder=\"0\" allow=\"accelerometer;  \n",
       "    encrypted-media; gyroscope; picture-in-picture\" allowfullscreen></iframe>\n"
      ],
      "text/plain": [
       "<IPython.core.display.HTML object>"
      ]
     },
     "metadata": {},
     "output_type": "display_data"
    }
   ],
   "source": [
    "%%html\n",
    "<iframe width=\"560\" height=\"315\" src=\"https://www.youtube.com/embed/YjAZUpLzIAk\" frameborder=\"0\" allow=\"accelerometer;  \n",
    "    encrypted-media; gyroscope; picture-in-picture\" allowfullscreen></iframe>"
   ]
  },
  {
   "cell_type": "markdown",
   "metadata": {
    "slideshow": {
     "slide_type": "-"
    }
   },
   "source": [
    "**Python Example**: Delay"
   ]
  },
  {
   "cell_type": "code",
   "execution_count": 13,
   "metadata": {
    "slideshow": {
     "slide_type": "-"
    }
   },
   "outputs": [
    {
     "data": {
      "image/png": "[encoded data removed]",
      "text/plain": [
       "<Figure size 432x288 with 1 Axes>"
      ]
     },
     "metadata": {
      "needs_background": "light"
     },
     "output_type": "display_data"
    }
   ],
   "source": [
    "import matplotlib.pyplot as plt\n",
    "import numpy as np\n",
    "# Signal\n",
    "x=range(1,5)\n",
    "plt.figure()\n",
    "plt.stem(x, use_line_collection=True)\n",
    "plt.xticks(np.arange(0, 4, step=1))\n",
    "plt.grid();"
   ]
  },
  {
   "cell_type": "code",
   "execution_count": 14,
   "metadata": {
    "slideshow": {
     "slide_type": "-"
    }
   },
   "outputs": [
    {
     "data": {
      "image/png": "[encoded data removed]",
      "text/plain": [
       "<Figure size 432x288 with 1 Axes>"
      ]
     },
     "metadata": {
      "needs_background": "light"
     },
     "output_type": "display_data"
    }
   ],
   "source": [
    "# Delay (shift) Operator\n",
    "s=np.array([0,0,0,1])\n",
    "plt.figure()\n",
    "plt.stem(s, use_line_collection=True)\n",
    "plt.xticks(np.arange(0, 4, step=1))\n",
    "plt.grid();"
   ]
  },
  {
   "cell_type": "code",
   "execution_count": 15,
   "metadata": {
    "slideshow": {
     "slide_type": "-"
    }
   },
   "outputs": [
    {
     "data": {
      "image/png": "[encoded data removed]",
      "text/plain": [
       "<Figure size 432x288 with 1 Axes>"
      ]
     },
     "metadata": {
      "needs_background": "light"
     },
     "output_type": "display_data"
    }
   ],
   "source": [
    "# If we filter (convolve) our signal with this shift operator, we get a delayed signal:\n",
    "plt.figure()\n",
    "sx=np.convolve(s,x)\n",
    "plt.stem(sx, use_line_collection=True)\n",
    "plt.grid()"
   ]
  },
  {
   "cell_type": "markdown",
   "metadata": {
    "slideshow": {
     "slide_type": "-"
    }
   },
   "source": [
    "Here you can observe a delay by 3 samples.\n",
    "\n",
    "\n",
    "We can now apply our trick to obtain the **frequency response** of the delay, we replace z by $e^{j\\omega}$:\n",
    "$$S\\left(\\omega\\right)=e^{-jm\\omega}$$\n",
    "The magnitude of it is obviously 1, and the phase is $-m\\cdot \\omega$, so it is linear with a slope of -m!\n",
    "\n",
    "In Python plot the frequency response of our shift operator above: "
   ]
  },
  {
   "cell_type": "code",
   "execution_count": 16,
   "metadata": {
    "slideshow": {
     "slide_type": "-"
    }
   },
   "outputs": [
    {
     "data": {
      "image/png": "[encoded data removed]",
      "text/plain": [
       "<Figure size 432x288 with 1 Axes>"
      ]
     },
     "metadata": {
      "needs_background": "light"
     },
     "output_type": "display_data"
    },
    {
     "data": {
      "image/png": "[encoded data removed]",
      "text/plain": [
       "<Figure size 432x288 with 1 Axes>"
      ]
     },
     "metadata": {
      "needs_background": "light"
     },
     "output_type": "display_data"
    }
   ],
   "source": [
    "import scipy.signal as signal\n",
    "from matplotlib.ticker import FuncFormatter, MultipleLocator\n",
    "omega, H= signal.freqz(s)\n",
    "plt.figure()\n",
    "plt.plot(omega, np.angle(H))\n",
    "plt.title('Phase of the Shift Operator')\n",
    "plt.xlabel('$\\omega$ [rad/sample]')\n",
    "plt.ylabel('Phase [rad]')\n",
    "ax = plt.gca()\n",
    "ax.xaxis.set_major_formatter(FuncFormatter(\n",
    "   lambda val,pos: '{:.0g}$\\pi$'.format(val/np.pi) if val !=0 else '0'\n",
    "))\n",
    "ax.xaxis.set_major_locator(MultipleLocator(base=0.1*np.pi))\n",
    "ax.yaxis.set_major_formatter(FuncFormatter(\n",
    "   lambda val,pos: '{:.0g}$\\pi$'.format(val/np.pi) if val !=0 else '0'\n",
    "))\n",
    "ax.yaxis.set_major_locator(MultipleLocator(base=0.1*np.pi))\n",
    "plt.grid()\n",
    "\n",
    "plt.figure()\n",
    "plt.plot(omega, np.unwrap(np.angle(H)))\n",
    "plt.title('Phase of the Shift Operator (Unwrapped)')\n",
    "plt.xlabel('$\\omega$ [rad/sample]')\n",
    "plt.ylabel('Phase [rad]')\n",
    "ax = plt.gca()\n",
    "ax.xaxis.set_major_formatter(FuncFormatter(\n",
    "   lambda val,pos: '{:.0g}$\\pi$'.format(val/np.pi) if val !=0 else '0'\n",
    "))\n",
    "ax.xaxis.set_major_locator(MultipleLocator(base=0.1*np.pi))\n",
    "ax.yaxis.set_major_formatter(FuncFormatter(\n",
    "   lambda val,pos: '{:.0g}$\\pi$'.format(val/np.pi) if val !=0 else '0'\n",
    "))\n",
    "ax.yaxis.set_major_locator(MultipleLocator(base=np.pi))\n",
    "plt.grid()\n"
   ]
  }
 ],
 "metadata": {
  "kernelspec": {
   "display_name": "Python 3",
   "language": "python",
   "name": "python3"
  },
  "language_info": {
   "codemirror_mode": {
    "name": "ipython",
    "version": 3
   },
   "file_extension": ".py",
   "mimetype": "text/x-python",
   "name": "python",
   "nbconvert_exporter": "python",
   "pygments_lexer": "ipython3",
   "version": "3.6.7"
  }
 },
 "nbformat": 4,
 "nbformat_minor": 2
}
