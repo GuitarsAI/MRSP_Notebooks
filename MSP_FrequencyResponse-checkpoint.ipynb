{
 "cells": [
  {
   "cell_type": "markdown",
   "metadata": {},
   "source": [
    "<p align=\"center\">\n",
    "    <img src=\"./images/msp_header.png\">\n",
    "</p>\n",
    "\n",
    "#### Prof. Dr. -Ing. Gerald Schuller <br> Jupyter Notebook: Renato Profeta\n",
    "\n"
   ]
  },
  {
   "cell_type": "markdown",
   "metadata": {},
   "source": [
    "# Frequency Response"
   ]
  },
  {
   "cell_type": "markdown",
   "metadata": {},
   "source": [
    "If we have coefficients of a Finite Impulse Response (FIR) filter h, or in general the impulse response, its frequency response becomes (using the Discrete Time Fourier Transform):\n",
    "\n",
    "$$H( ω )  = \\sum _ {n = - ∞} ^∞ {h( n )  e^{- j n ω}}\n",
    "$$\n",
    "\n",
    "So here we already have 2 different ways to describe a system or a signal, by its **impulse response** in the time or space domain (depending on if it is audio or images), and by **its frequency response**. They are related by this Discrete Time Fourier Transform.\n",
    "\n",
    "**Example:** If we have an amplifier which is described by its **frequency response** (including the phase), then we can obtain the time domain version, its **impulse response** by taking the inverse Fourier Transform of its frequency response. This can be seen as the output of our amplifier if the input is a single impulse (because an impulse has a flat spectrum, and hence the name “impulse response”). The output of the amplifier is then the convolution of the input signal (in time-domain) with the impulse response. \n",
    "\n",
    "In practice usually an impulse is not used (not enough energy or it could destroy the system) but often white noise is input into our amplifier, and then the output is Fourier transformed to obtain its frequency response. White noise has the advantage that it has more energy without destroying the system, and it has an approximately constant spectrum (like the impulse).\n",
    "Another often used method is a sweeping sinusoid, with increasing frequency and constant amplitude. This often gives more precise results but takes longer to measure. The resulting measured frequency response is then inverse Fourier transformed to obtain its impulse response.\n"
   ]
  },
  {
   "cell_type": "markdown",
   "metadata": {},
   "source": [
    "## Example: Obtaining the Frequency Response of a \"Black Box\" system using Noise"
   ]
  },
  {
   "cell_type": "markdown",
   "metadata": {},
   "source": [
    "#### Python Packages, Parameters and Configuration"
   ]
  },
  {
   "cell_type": "code",
   "execution_count": null,
   "metadata": {},
   "outputs": [],
   "source": [
    "# Imports\n",
    "\n",
    "# General\n",
    "import numpy as np\n",
    "\n",
    "# Signal Processing\n",
    "from scipy import signal\n",
    "from scipy.fftpack import fft, ifft\n",
    "\n",
    "# Plotting & Display\n",
    "import matplotlib.pyplot as plt\n",
    "import plotly.offline\n",
    "import plotly.tools as tls\n",
    "import plotly.plotly as py\n",
    "import IPython.display as ipd\n",
    "\n",
    "# Configurations\n",
    "plotly.offline.init_notebook_mode(connected=True)\n",
    "import warnings; warnings.simplefilter('ignore')"
   ]
  },
  {
   "cell_type": "code",
   "execution_count": null,
   "metadata": {},
   "outputs": [],
   "source": [
    "# Signal Processing Parameters\n",
    "NFFT = 2**16  # Number of FFT points\n",
    "Fs = 32000   # Sampling frequency\n",
    "T=1/Fs       # Sampling Time\n",
    "freqs = np.fft.fftfreq(NFFT)*Fs # Frequency bins\n",
    "t = np.arange(NFFT)*T # Time vector"
   ]
  },
  {
   "cell_type": "markdown",
   "metadata": {},
   "source": [
    "### The \"Black Box\" System"
   ]
  },
  {
   "cell_type": "code",
   "execution_count": null,
   "metadata": {},
   "outputs": [],
   "source": [
    "# Black Box\n",
    "black_box=np.array([0.01925927, 0.03777671, 0.03632161, 0.03492255, 0.03357738,\n",
    "       0.03228403, 0.0310405 , 0.02984486, 0.02869528, 0.02758998,\n",
    "       0.02652726, 0.02550546, 0.02452303, 0.02357844, 0.02267023,\n",
    "       0.02179701, 0.02095742, 0.02015017, 0.01937401, 0.01862775,\n",
    "       0.01791024, 0.01722036, 0.01655706, 0.01591931, 0.01530612,\n",
    "       0.01471655, 0.01414969, 0.01360466, 0.01308063, 0.01257678,\n",
    "       0.01209234, 0.01162657, 0.01117873, 0.01074814, 0.01033414,\n",
    "       0.00993608, 0.00955336, 0.00918538, 0.00883157, 0.00849139,\n",
    "       0.00816431, 0.00784984, 0.00754747, 0.00725675, 0.00697723,\n",
    "       0.00670848, 0.00645008, 0.00620163, 0.00596275, 0.00573308,\n",
    "       0.00551225, 0.00529992, 0.00509578, 0.0048995 , 0.00471078,\n",
    "       0.00452932, 0.00435486, 0.00418712, 0.00402584, 0.00387077,\n",
    "       0.00372167, 0.00357832, 0.00344048, 0.00330796, 0.00318054,\n",
    "       0.00305803, 0.00294024, 0.00282699, 0.0027181 , 0.0026134 ,\n",
    "       0.00251274, 0.00241595, 0.00232289, 0.00223342, 0.00214739,\n",
    "       0.00206467, 0.00198515, 0.00190868, 0.00183516, 0.00176447,\n",
    "       0.00169651, 0.00163116, 0.00156833, 0.00150792, 0.00144984,\n",
    "       0.00139399, 0.0013403 , 0.00128867, 0.00123903, 0.00119131,\n",
    "       0.00114542, 0.0011013 , 0.00105888, 0.00101809, 0.00097888,\n",
    "       0.00094117, 0.00090492, 0.00087006, 0.00083655, 0.00080433,\n",
    "       0.00077335, 0.00074356, 0.00071492, 0.00068738, 0.0006609 ,\n",
    "       0.00063545, 0.00061097, 0.00058744, 0.00056481, 0.00054305,\n",
    "       0.00052214, 0.00050202, 0.00048269, 0.00046409, 0.00044622,\n",
    "       0.00042903, 0.0004125 , 0.00039662, 0.00038134, 0.00036665,\n",
    "       0.00035253, 0.00033895, 0.00032589, 0.00031334, 0.00030127,\n",
    "       0.00028967, 0.00027851, 0.00026778])"
   ]
  },
  {
   "cell_type": "markdown",
   "metadata": {},
   "source": [
    "### Input Signal: Noise from a Normal Distribution with Zero Mean and Unity Variance"
   ]
  },
  {
   "cell_type": "code",
   "execution_count": null,
   "metadata": {},
   "outputs": [],
   "source": [
    "# Gaussian Noise\n",
    "mean = 0\n",
    "std = 1 \n",
    "noise = np.random.normal(mean, std, size=NFFT)"
   ]
  },
  {
   "cell_type": "code",
   "execution_count": null,
   "metadata": {},
   "outputs": [],
   "source": [
    "# DFT of Gaussian Noise\n",
    "noise_fft = fft(noise)"
   ]
  },
  {
   "cell_type": "code",
   "execution_count": null,
   "metadata": {},
   "outputs": [],
   "source": [
    "# Plot Noise\n",
    "plt.figure()\n",
    "plt.plot(t,noise)\n",
    "plt.title('Gaussian Noise')\n",
    "plt.ylabel('Amplitude')\n",
    "plt.xlabel('Time [s]')\n",
    "plt.grid()"
   ]
  },
  {
   "cell_type": "code",
   "execution_count": null,
   "metadata": {},
   "outputs": [],
   "source": [
    "# Listen to Noise\n",
    "ipd.Audio(noise, rate=Fs)"
   ]
  },
  {
   "cell_type": "markdown",
   "metadata": {},
   "source": [
    "### Output Signal"
   ]
  },
  {
   "cell_type": "code",
   "execution_count": null,
   "metadata": {},
   "outputs": [],
   "source": [
    "# Convolving Noise with Black Box\n",
    "y = np.convolve(noise, black_box, mode='same')"
   ]
  },
  {
   "cell_type": "code",
   "execution_count": null,
   "metadata": {},
   "outputs": [],
   "source": [
    "# DFT of Output\n",
    "y_fft = fft(y)"
   ]
  },
  {
   "cell_type": "code",
   "execution_count": null,
   "metadata": {},
   "outputs": [],
   "source": [
    "# Listen to Output\n",
    "ipd.Audio(y, rate=Fs)"
   ]
  },
  {
   "cell_type": "markdown",
   "metadata": {},
   "source": [
    "### The Black Box Transfer Function (Frequency Response)"
   ]
  },
  {
   "cell_type": "code",
   "execution_count": null,
   "metadata": {},
   "outputs": [],
   "source": [
    "# Transfer Function h_fft Y_fft / Noise_fft\n",
    "h_fft = y_fft / noise_fft"
   ]
  },
  {
   "cell_type": "code",
   "execution_count": null,
   "metadata": {},
   "outputs": [],
   "source": [
    "# Plot Transfer Function\n",
    "fig=plt.figure(figsize=(10,6))\n",
    "plt.semilogx(freqs[0:NFFT//2],20*np.log10(np.abs(h_fft[0:NFFT//2])))\n",
    "plt.grid()\n",
    "plt.ylim((-80,5))\n",
    "plt.title('Black Box Transfer Function (Frequency Response Magnitude)')\n",
    "plt.ylabel('Magnitude [dB]')\n",
    "plt.xlabel('Frequency [Hz]');"
   ]
  },
  {
   "cell_type": "markdown",
   "metadata": {},
   "source": [
    "### Smoothing Filter (Moving Average)"
   ]
  },
  {
   "cell_type": "code",
   "execution_count": null,
   "metadata": {},
   "outputs": [],
   "source": [
    "# Moving Average Filter (Smoothing)\n",
    "N=(2**5)\n",
    "moving_ave=(1/N)*np.ones(N)\n",
    "h_fft_mag_smooth=np.convolve(np.abs(h_fft),moving_ave, mode='valid')\n",
    "fig = plt.figure(figsize=(10,6))\n",
    "plt.title('Black Box Transfer Function (Frequency Response Magnitude)')\n",
    "plt.ylabel('Magnitude [dB]')\n",
    "plt.xlabel('Frequency [Hz]')\n",
    "plt.grid()\n",
    "plt.semilogx(freqs[0:NFFT//2],20*np.log10(np.abs(h_fft[0:NFFT//2])), label='H(w)')\n",
    "plt.semilogx(freqs[0:NFFT//2],20*np.log10(np.abs(h_fft_mag_smooth[0:NFFT//2])),label='H(w) Smoothed',color='r')\n",
    "plotly_fig = tls.mpl_to_plotly(fig)\n",
    "plotly_fig.layout.update(showlegend=True)\n",
    "plotly.offline.iplot(plotly_fig)"
   ]
  },
  {
   "cell_type": "markdown",
   "metadata": {},
   "source": [
    "### Impulse Response (Inverse DFT of the Frequency Response)"
   ]
  },
  {
   "cell_type": "code",
   "execution_count": null,
   "metadata": {},
   "outputs": [],
   "source": [
    "# IFFT\n",
    "h = np.real(np.fft.ifft(h_fft))\n",
    "h/=np.abs(h).max()\n",
    "h=np.fft.ifftshift(h)\n",
    "black_box/=np.abs(black_box).max()"
   ]
  },
  {
   "cell_type": "code",
   "execution_count": null,
   "metadata": {},
   "outputs": [],
   "source": [
    "# Plot Impulse Response and Black Box\n",
    "fig = plt.figure(figsize=(10,6))\n",
    "delay=(black_box.size-1)//2\n",
    "plt.plot(h[NFFT//2-delay:NFFT//2-delay+black_box.size],'r', label='Calculated Impulse Response')\n",
    "plt.plot(black_box, label='Black Box')\n",
    "plt.grid()\n",
    "plt.title('Black Box and Calculated Impulse response')\n",
    "plt.ylabel('Amplitude (Normalized)')\n",
    "plt.xlabel('Samples [n]')\n",
    "plotly_fig = tls.mpl_to_plotly(fig)\n",
    "plotly_fig.layout.update(showlegend=True)\n",
    "plotly.offline.iplot(plotly_fig)"
   ]
  },
  {
   "cell_type": "markdown",
   "metadata": {},
   "source": [
    "### First Order LP Butterworth Filter and the Black Box"
   ]
  },
  {
   "cell_type": "code",
   "execution_count": null,
   "metadata": {},
   "outputs": [],
   "source": [
    "# LP Filter Frequency Response\n",
    "[b, a] = signal.butter(1, 200/(0.5*Fs))\n",
    "w, h = signal.freqz(b,a)\n",
    "f = w*0.5*Fs/(np.pi)"
   ]
  },
  {
   "cell_type": "code",
   "execution_count": null,
   "metadata": {},
   "outputs": [],
   "source": [
    "# Plot Butterworth and Black Box Frequency Response\n",
    "fig = plt.figure(figsize=(10,6))\n",
    "plt.title('First Order LP Butterworth and Black Box Frequency Response')\n",
    "plt.semilogx(freqs[0:NFFT//2],20*np.log10(np.abs(h_fft_mag_smooth[0:NFFT//2])),label='Black Box H(w) Smoothed',color='r')\n",
    "plt.semilogx(f, 20 * np.log10(abs(h)), 'b', label='1st Order LP Butterworth Filter')\n",
    "plt.ylabel('Amplitude [dB]')\n",
    "plt.xlabel('Frequency [Hz]')\n",
    "plt.ylim((-80,5))\n",
    "plt.grid()\n",
    "plotly_fig = tls.mpl_to_plotly(fig)\n",
    "plotly_fig.layout.update(showlegend=True)\n",
    "plotly.offline.iplot(plotly_fig)"
   ]
  },
  {
   "cell_type": "markdown",
   "metadata": {},
   "source": [
    "## Example: Obtaining the Frequency Response of a \"Black Box\" system using Sweeping Sinusoid"
   ]
  },
  {
   "cell_type": "markdown",
   "metadata": {},
   "source": [
    "### The \"Black Box\" System"
   ]
  },
  {
   "cell_type": "code",
   "execution_count": null,
   "metadata": {},
   "outputs": [],
   "source": [
    "black_box_2=np.array([ 9.02657863e-02, -3.33130930e-01,  4.28459613e-01, -1.54138774e-01,\n",
    "       -1.07478922e-01,  3.10625882e-02,  1.24727955e-01, -6.92087315e-02,\n",
    "       -6.43154761e-02,  5.13661002e-02,  4.30394145e-02, -4.58789914e-02,\n",
    "       -2.28229992e-02,  3.57991857e-02,  1.14366897e-02, -2.77217988e-02,\n",
    "       -3.96086021e-03,  2.05137870e-02, -2.00186996e-04, -1.47699702e-02,\n",
    "        2.37588233e-03,  1.02811331e-02, -3.25629976e-03, -6.92039857e-03,\n",
    "        3.38861566e-03,  4.47675188e-03, -3.11526957e-03, -2.75747412e-03,\n",
    "        2.65990606e-03,  1.58686707e-03, -2.15554195e-03, -8.19228818e-04,\n",
    "        1.67661002e-03,  3.38093612e-04, -1.25907948e-03, -5.41997832e-05,\n",
    "        9.15482966e-04, -9.86857166e-05, -6.44874048e-04,  1.68143162e-04,\n",
    "        4.39415392e-04, -1.87282970e-04, -2.88476362e-04,  1.78365371e-04,\n",
    "        1.81047265e-04, -1.55775358e-04, -1.07029762e-04,  1.28359712e-04,\n",
    "        5.78156476e-05, -1.01198495e-04, -2.64372609e-05,  7.69041857e-05,\n",
    "        7.48044052e-06, -5.65447943e-05,  3.11710154e-06,  4.02787488e-05,\n",
    "       -8.30659947e-06, -2.77761748e-05,  1.01651617e-05,  1.84868345e-05,\n",
    "       -1.01068216e-05, -1.18014560e-05,  9.05889984e-06,  7.14145693e-06,\n",
    "       -7.60259616e-06, -4.00244738e-06,  6.08084880e-06,  1.96935173e-06,\n",
    "       -4.67833643e-06, -7.15268241e-07,  3.47895806e-06, -8.00095481e-09,\n",
    "       -2.50582985e-06,  3.82792190e-07,  1.74817568e-06, -5.38880709e-07,\n",
    "       -1.17870404e-06,  5.65679875e-07,  7.64294779e-07, -5.22640193e-07,\n",
    "       -4.72135714e-07,  4.47666431e-07,  2.72878320e-07, -3.63658045e-07,\n",
    "       -1.41927795e-07,  2.83416491e-07,  5.96343371e-08, -2.13210350e-07,\n",
    "       -1.08945857e-08,  1.55284488e-07, -1.55131215e-08, -1.09568209e-07,\n",
    "        2.76647887e-08,  7.47954539e-08, -3.11897178e-08, -4.92068821e-08,\n",
    "        2.98798299e-08,  3.09641329e-08, -2.61910892e-08, -1.83729088e-08,\n",
    "        2.16384082e-08,  9.98431862e-09, -1.70954750e-08, -4.62279638e-09,\n",
    "        1.30150181e-08,  1.37307918e-09, -9.58557616e-09,  4.52764254e-10,\n",
    "        6.83950926e-09, -1.35534519e-09, -4.72481520e-09,  1.68759375e-09,\n",
    "        3.15091798e-09, -1.69021313e-09, -2.01632988e-09,  1.52139091e-09,\n",
    "        1.22411517e-09, -1.28053652e-09, -6.89462165e-10,  1.02652643e-09,\n",
    "        3.42394670e-10, -7.91260024e-10, -1.27686327e-10,  5.89415570e-10,\n",
    "        3.33100156e-12, -4.25250389e-10,  6.15826463e-11,  2.97181517e-10])"
   ]
  },
  {
   "cell_type": "markdown",
   "metadata": {},
   "source": [
    "### Input Signal: The Sweeping Sinusoid"
   ]
  },
  {
   "cell_type": "code",
   "execution_count": null,
   "metadata": {},
   "outputs": [],
   "source": [
    "# Sweeping Sinusoid\n",
    "sweep = signal.chirp(t, f0=0, f1=0.5*Fs, t1=2**16*T, method='linear')"
   ]
  },
  {
   "cell_type": "code",
   "execution_count": null,
   "metadata": {},
   "outputs": [],
   "source": [
    "# Plot the Chirp\n",
    "plt.figure()\n",
    "plt.plot(t[:2**12], sweep[:2**12])\n",
    "plt.title('Sweeping Sinusoid')\n",
    "plt.xlabel('Time [s]')\n",
    "plt.ylabel('Amplitude');"
   ]
  },
  {
   "cell_type": "code",
   "execution_count": null,
   "metadata": {},
   "outputs": [],
   "source": [
    "# Spectrogram of Chirp\n",
    "plt.figure()\n",
    "ff, tt, Sxx = signal.spectrogram(sweep, fs=Fs, noverlap=256, nperseg=512,\n",
    "                          nfft=2048, mode='magnitude')\n",
    "plt.pcolormesh(tt, ff, Sxx, cmap='gray_r')\n",
    "plt.title('Linear Chirp, f(start)=0, f(end)=16000')\n",
    "plt.xlabel('Time [s]')\n",
    "plt.ylabel('Frequency [Hz]')\n",
    "plt.grid()"
   ]
  },
  {
   "cell_type": "code",
   "execution_count": null,
   "metadata": {},
   "outputs": [],
   "source": [
    "# Listen to Chirp\n",
    "ipd.Audio(sweep, rate=Fs)"
   ]
  },
  {
   "cell_type": "code",
   "execution_count": null,
   "metadata": {},
   "outputs": [],
   "source": [
    "# DFT of Chirp\n",
    "sweep_fft = fft(sweep)"
   ]
  },
  {
   "cell_type": "code",
   "execution_count": null,
   "metadata": {},
   "outputs": [],
   "source": [
    "# Plot the DFT of Chirp\n",
    "fig=plt.figure(figsize=(12,8))\n",
    "sweep_fft_normalized_mag=np.abs(sweep_fft)/np.abs(np.abs(sweep_fft)).max()\n",
    "plt.plot(freqs[0:NFFT//2],20*np.log10(np.abs(sweep_fft_normalized_mag[0:NFFT//2])))\n",
    "plt.grid()\n",
    "plt.title('DFT of Sweeping Sinusoid')\n",
    "plt.ylabel('Normalized Magnitude [dB]')\n",
    "plt.xlabel('Frequency [Hz]');"
   ]
  },
  {
   "cell_type": "code",
   "execution_count": null,
   "metadata": {},
   "outputs": [],
   "source": [
    "# Apply a Tukey Window\n",
    "tukey_window = signal.tukey(NFFT, alpha=0.05)\n",
    "sweep_windowed = tukey_window*sweep\n",
    "plt.figure(figsize=(10,8))\n",
    "plt.plot(t[:2**12], sweep[:2**12], label='Sweeping Sinusoid')\n",
    "plt.plot(t[:2**12], tukey_window[:2**12], label='Tukey Window')\n",
    "plt.plot(t[:2**12], sweep_windowed[:2**12], label='Windowed Sweeping Sinusoid')\n",
    "plt.title('Sweeping Sinusoid')\n",
    "plt.xlabel('Time [s]')\n",
    "plt.ylabel('Amplitude')\n",
    "plt.legend()\n",
    "plt.grid()"
   ]
  },
  {
   "cell_type": "code",
   "execution_count": null,
   "metadata": {},
   "outputs": [],
   "source": [
    "# Listen to Chirp\n",
    "ipd.Audio(sweep_windowed, rate=Fs)"
   ]
  },
  {
   "cell_type": "code",
   "execution_count": null,
   "metadata": {},
   "outputs": [],
   "source": [
    "# Plot the DFT of Chirp with Tukey Window\n",
    "fig=plt.figure(figsize=(12,8))\n",
    "sweep_fft_normalized_mag=np.abs(sweep_fft)/np.abs(np.abs(sweep_fft)).max()\n",
    "sweep_windowed_fft = fft(sweep_windowed)\n",
    "sweep_windowed_fft_norm_mag=np.abs(sweep_windowed_fft)/np.abs(np.abs(sweep_windowed_fft)).max()\n",
    "plt.plot(freqs[0:NFFT//2],20*np.log10(np.abs(sweep_fft_normalized_mag[0:NFFT//2])), label='Sweeping Sinusoid')\n",
    "plt.plot(freqs[0:NFFT//2],20*np.log10(np.abs(sweep_windowed_fft_norm_mag[0:NFFT//2])), label='Sweeping Sinusoid Windowed')\n",
    "plt.grid()\n",
    "plt.title('DFT of Sweeping Sinusoid')\n",
    "plt.ylabel('Normalized Magnitude [dB]')\n",
    "plt.xlabel('Frequency [Hz]')\n",
    "plt.legend();"
   ]
  },
  {
   "cell_type": "markdown",
   "metadata": {},
   "source": [
    "### The Output"
   ]
  },
  {
   "cell_type": "code",
   "execution_count": null,
   "metadata": {},
   "outputs": [],
   "source": [
    "# Convolving Noise with Black Box\n",
    "y_2 = np.convolve(sweep_windowed, black_box_2, mode='same')"
   ]
  },
  {
   "cell_type": "code",
   "execution_count": null,
   "metadata": {},
   "outputs": [],
   "source": [
    "# DFT of the Output\n",
    "y_2_fft = fft(y_2)"
   ]
  },
  {
   "cell_type": "code",
   "execution_count": null,
   "metadata": {},
   "outputs": [],
   "source": [
    "# Listen to Output\n",
    "ipd.Audio(y_2, rate=Fs)"
   ]
  },
  {
   "cell_type": "markdown",
   "metadata": {},
   "source": [
    "### The Black Box Transfer Function Frequency Response"
   ]
  },
  {
   "cell_type": "code",
   "execution_count": null,
   "metadata": {},
   "outputs": [],
   "source": [
    "# Transfer Function h_fft Y_fft / Noise_fft\n",
    "h_2_fft = y_2_fft / sweep_windowed_fft"
   ]
  },
  {
   "cell_type": "code",
   "execution_count": null,
   "metadata": {},
   "outputs": [],
   "source": [
    "# Plot the Transfer Function\n",
    "fig=plt.figure(figsize=(10,6))\n",
    "plt.plot(freqs[0:NFFT//2],20*np.log10(np.abs(h_2_fft[0:NFFT//2])))\n",
    "plt.grid()\n",
    "plt.title('Black Box Transfer Function (Frequency Response Magnitude)')\n",
    "plt.ylabel('Magnitude [dB]')\n",
    "plt.xlabel('Frequency [Hz]')\n",
    "plt.ylim((-80,5))\n",
    "plotly_fig = tls.mpl_to_plotly(fig)\n",
    "plotly.offline.iplot(plotly_fig)"
   ]
  },
  {
   "cell_type": "markdown",
   "metadata": {},
   "source": [
    "### Third Order HP Chebyshev type I Filter and the Black Box"
   ]
  },
  {
   "cell_type": "code",
   "execution_count": null,
   "metadata": {},
   "outputs": [],
   "source": [
    "[b, a] = signal.cheby1(3,3, 8000/(0.5*Fs),'high')\n",
    "[b1,a1] = signal.butter(3,8000/(0.5*Fs),'high')\n",
    "w, h = signal.freqz(b,a)\n",
    "w1, h1 = signal.freqz(b1,a1)\n",
    "f = w*16000/(np.pi)"
   ]
  },
  {
   "cell_type": "code",
   "execution_count": null,
   "metadata": {},
   "outputs": [],
   "source": [
    "fig = plt.figure(figsize=(12,8))\n",
    "plt.title('Third Order HP Chebyshev type I and Black Box Frequency Response')\n",
    "plt.plot(f, 20*np.log10(abs(h)), 'b', label='Third Order HP Chebyshev type I')\n",
    "plt.plot(f, 20*np.log10(abs(h1)), 'k', label='Third Order HP Butterworth')\n",
    "plt.plot(freqs[0:NFFT//2],20*np.log10(np.abs(h_2_fft[0:NFFT//2])),'r', label='Black Box')\n",
    "plt.ylabel('Magnitude [dB]')\n",
    "plt.xlabel('Frequency [Hz]')\n",
    "plt.ylim((-80,5))\n",
    "plt.grid()\n",
    "plotly_fig = tls.mpl_to_plotly(fig)\n",
    "plotly_fig.layout.update(showlegend=True)\n",
    "plotly.offline.iplot(plotly_fig)"
   ]
  },
  {
   "cell_type": "markdown",
   "metadata": {},
   "source": [
    "### Impulse Response (Inverse DFT of the Transfer Function)"
   ]
  },
  {
   "cell_type": "code",
   "execution_count": null,
   "metadata": {},
   "outputs": [],
   "source": [
    "# IFFT\n",
    "h_2 = np.real(np.fft.ifft(h_2_fft))\n",
    "h_2/=np.abs(h_2).max()\n",
    "h_2=np.fft.ifftshift(h_2)\n",
    "black_box_2/=np.abs(black_box_2).max()"
   ]
  },
  {
   "cell_type": "code",
   "execution_count": null,
   "metadata": {},
   "outputs": [],
   "source": [
    "# Plot Impulse Response and Black Box\n",
    "fig = plt.figure(figsize=(10,6))\n",
    "delay=(black_box_2.size-1)//2\n",
    "plt.plot(black_box_2, label='Black Box')\n",
    "plt.plot(h_2[NFFT//2-delay:NFFT//2-delay+black_box_2.size],'r', label='Calculated Impulse Response')\n",
    "plt.grid()\n",
    "plt.title('Black Box and Calculated Impulse response')\n",
    "plt.ylabel('Amplitude (Normalized)')\n",
    "plt.xlabel('Samples [n]')\n",
    "plotly_fig = tls.mpl_to_plotly(fig)\n",
    "plotly_fig.layout.update(showlegend=True)\n",
    "plotly.offline.iplot(plotly_fig)"
   ]
  },
  {
   "cell_type": "markdown",
   "metadata": {},
   "source": [
    "### Application Example: A Dual-Channel FFT Audio Analyzer "
   ]
  },
  {
   "cell_type": "code",
   "execution_count": null,
   "metadata": {},
   "outputs": [],
   "source": [
    "%%html\n",
    "<iframe width=\"560\" height=\"340\" src=\"https://www.youtube.com/embed/FOYi2vZZdXU\" frameborder=\"0\" allow=\"accelerometer; encrypted-media; gyroscope; picture-in-picture\" allowfullscreen></iframe>"
   ]
  },
  {
   "cell_type": "markdown",
   "metadata": {},
   "source": [
    "## Frequency Response: z-Transform and the DTFT"
   ]
  },
  {
   "cell_type": "markdown",
   "metadata": {},
   "source": [
    "If we have the **z-Transform**, we obtain the **frequency response** of our system or signal if we replace $z=e^{j\\omega}$. In this case the z-Transform becomes the DTFT (the transform formulas become identical). This is like “reading out” the z-Transform along the unit circle in the complex domain of the z-Transform:<br>\n",
    "![z-ComplexPlane](./images/zTransformCircle.JPG)\n",
    "\n",
    "The periodicity of our frequency domain can also be seen easily here. \n",
    "\n",
    "\n",
    "Here we can see that in general we obtain a $2\\pi$ periodicity in the frequency domain. For **real valued** signals, the upper half of the circle has a frequency response which is symmetric to the lower half (**conjugate complex**), and hence strictly speaking we get some sort of pi periodicity for real valued signals (hence Nyquist's Theorem which states that we only can reconstruct frequencies below half the sampling frequency for real valued signals).\n",
    "\n",
    "Hence for real valued signals only one half of the unit circle is unique. For **complex** signals, **both** halves of the unit circle can contain different frequency responses, and hence there we indeed have $2\\pi$ periodicity, and we could reconstruct frequencies up to $2\\pi$.\n",
    "\n",
    "We can **imagine complex signals** or frequencies as consisting of 2 signals, one for the real part and one for the imaginary part. For instance in stereo audio signals, the left channel could be seen as a real part and the right channel as an imaginary part of a complex audio signal. The same for negative frequencies: $e^{-j\\cdot \\omega \\cdot n}$They consist of a cosine real part and a -sine imaginary part.\n",
    "\n",
    "This unit circle, if it describes an input signal X(z) (for instance a certain frequency), is the input to the z-Transform H(z), by replacing the z by $e^{j\\omega}$, to obtain the frequency response $H(e^{j\\omega})$. You can imagine for instance the magnitude of the resulting frequency response as an additional dimension on top of this circle.\n",
    "\n",
    "If you plot the frequency response for real valued signals, for instance in Python, what is usually done is to plot the upper half of this unit circle. For real valued signals the lower half is symmetric to it."
   ]
  },
  {
   "cell_type": "markdown",
   "metadata": {},
   "source": [
    "### Example: Low Pass Filter as Moving Average"
   ]
  },
  {
   "cell_type": "markdown",
   "metadata": {},
   "source": [
    "If our input is the signal x(n) and the output of our low pass filter is y(n), then it can be computed as\n",
    "\n",
    "$$y( n )  =\\frac{1} {2} x( n )  +\\frac{1} {2} x ( n -1  )$$\n",
    "\n",
    "What is the corresponding impulse response of this filter? It is the response of this system to a unit impulse (x(0)=1, x(n)=0 elsewhere): \n",
    "<br>\n",
    "$$\n",
    "h( 0 )=y(0)  =\\frac{1}{ 2} ,h( 1 ) =y(1)=\\frac{1}{2}\n",
    "$$ \n",
    "\n",
    "This can also be written as a vector:\n",
    "$$h = \\left[ \\frac{1 }{ 2} ,\\frac{1} {2}  \\right]$$\n",
    "\n",
    "Hence the output is the **convolution** with this vector, $y=x*h$.\n",
    "\n",
    "**Observe:** The convolution or filtering operation can also be written as a multiplication of the signal vector and a so-called **Sylvester Matrix:**\n",
    "$$\\begin{bmatrix} {\\vdots  \\\\ y(0) \\\\ y(1)\\\\y(2)\\\\ \\vdots } \\end {bmatrix}=\\begin{bmatrix}  \\vdots & \\ldots & . & . \\\\ \n",
    "0.5 & 0.5 & 0 &. \\\\ 0 & 0.5 & 0.5 & \\ldots   \\\\\n",
    "0 & 0 & 0.5 & 0.5 \\\\ . & \\vdots & \\ldots & .\\end{bmatrix}\\cdot \\begin{bmatrix}{x(-1)\\\\ x(0)\\\\x(1)\\\\ \\vdots } \\end{bmatrix}$$\n",
    "\n",
    "\n",
    "We also use the following matrix formulation for convolution,\n",
    "\n",
    "$$ \\begin{bmatrix}\\vdots  \\\\ y(0) \\\\ y(1)\\\\y(2)\\\\ \\vdots \\end{bmatrix} =\n",
    "\\begin{bmatrix}\\vdots & \\ldots \\\\ \n",
    "x(-1) & x(0) \\\\ x(0) & x(1)\\\\\n",
    "x(1)& x(2) \\\\\n",
    "\\vdots & \\ldots \\end{bmatrix} \\cdot \\begin{bmatrix}0.5 & 0.5 \\end{bmatrix}\n",
    "$$"
   ]
  },
  {
   "cell_type": "markdown",
   "metadata": {},
   "source": [
    "#### Example: Discrete Convolution as Matrix Multiplication (Sylvester Matrix)"
   ]
  },
  {
   "cell_type": "code",
   "execution_count": null,
   "metadata": {},
   "outputs": [],
   "source": [
    "from sympy import Matrix\n",
    "# Impulse response: \n",
    "h=np.array([0.5,0.5])\n",
    "# Test Signal\n",
    "test_signal=np.array([1,2,3,4,5,6])"
   ]
  },
  {
   "cell_type": "code",
   "execution_count": null,
   "metadata": {},
   "outputs": [],
   "source": [
    "# Sylvester Matrix\n",
    "h_pad=np.pad(h,(0,test_signal.size-h.size),mode='constant',constant_values=0)\n",
    "sylvester = []\n",
    "for k in range(test_signal.size-1):\n",
    "    sylvester.append(np.roll(h_pad,k))\n",
    "sylvester=np.array(sylvester)\n",
    "Matrix(sylvester)"
   ]
  },
  {
   "cell_type": "code",
   "execution_count": null,
   "metadata": {},
   "outputs": [],
   "source": [
    "# Convolution\n",
    "y_sylvester=np.array(sylvester)@test_signal\n",
    "print('Convolution as Matrix Multiplication:',y_sylvester)\n",
    "print('Numpy Convolve:', np.convolve(h,test_signal,'valid'))"
   ]
  },
  {
   "cell_type": "code",
   "execution_count": null,
   "metadata": {},
   "outputs": [],
   "source": [
    "# Example: Sweep * Black_Box_2\n",
    "def input_shaper(h, x):\n",
    "    x_pad=np.pad(x,h.size-1,mode='constant',constant_values=0)\n",
    "    alist=[]\n",
    "    for k in range(h.size):\n",
    "        alist.append(x_pad[k:x.size+k])\n",
    "    return np.array(alist).T"
   ]
  },
  {
   "cell_type": "code",
   "execution_count": null,
   "metadata": {},
   "outputs": [],
   "source": [
    "# Reshape Input\n",
    "x_input=input_shaper(black_box_2,sweep)"
   ]
  },
  {
   "cell_type": "code",
   "execution_count": null,
   "metadata": {},
   "outputs": [],
   "source": [
    "#Convolution\n",
    "y_out=x_input@black_box_2\n",
    "ipd.Audio(y_out, rate=Fs)"
   ]
  },
  {
   "cell_type": "code",
   "execution_count": null,
   "metadata": {},
   "outputs": [],
   "source": [
    "# Plot Output \n",
    "plt.figure()\n",
    "y_out/=np.abs(y_out).max()\n",
    "ff, tt, Sxx = signal.spectrogram(y_out, fs=Fs, noverlap=256, nperseg=512,\n",
    "                          nfft=2048, mode='magnitude')\n",
    "plt.pcolormesh(tt, ff, Sxx,cmap='gray_r')\n",
    "plt.title('Linear Chirp, f(start)=0, f(end)=16000')\n",
    "plt.xlabel('Time [s]')\n",
    "plt.ylabel('Frequency [Hz]')\n",
    "plt.grid()"
   ]
  },
  {
   "cell_type": "markdown",
   "metadata": {},
   "source": [
    "What is the frequency response of this moving average low pass filter? The z-transform of this filter is\n",
    "\n",
    "$$ H(z)=\\sum_{n=0} ^  \\infty h\n",
    "(n) z^{-n}= 0.5 \\cdot z^{-0}+0.5 \\cdot z^{-1}$$\n",
    "\n",
    "Replacing $z$ by $e^{-j\\omega}$gives us the frequency response of this low pass filter,\n",
    "\n",
    "$$\n",
    "H ( ω  )  = \\sum_{n=-∞} ^ ∞ {h ( n )  e^{- j n \\omega}} =0.5 +0.5  e^{- j\\omega}\n",
    "$$\n",
    "\n",
    "This is the complex frequency response. Often we are interested in the magnitude (or absolute value) of this frequency response, because we would like to see how much a signal at a certain frequency is attenuated. An example might be an equalizer filter, which has the goal to obtain an overall frequency response which has a flat magnitude, for instance to equalize an audio amplifier. If the amplifier has e.g. an attenuation of 0.5 at a certain frequency, we need the equalizer filter to have an amplification of magnitude 2 at that frequency. In this way we obtain a constant magnitude of amplification at all frequencies. But observe that the phase of our complex frequency response can still be different for all frequencies.\n",
    "So our magnitude frequency response is,\n",
    "$$\\mid {H  (  ω  )}\\mid   =\\mid {0.5 + 0.5 e^{- j ω}} \\mid$$"
   ]
  },
  {
   "cell_type": "markdown",
   "metadata": {},
   "source": [
    "#### We can compute the frequency response using Python, using the z-Transform:"
   ]
  },
  {
   "cell_type": "code",
   "execution_count": null,
   "metadata": {},
   "outputs": [],
   "source": [
    "from sympy import *\n",
    "import numpy as np\n",
    "z=Symbol('z', complex=True)"
   ]
  },
  {
   "cell_type": "code",
   "execution_count": null,
   "metadata": {},
   "outputs": [],
   "source": [
    "# z-Transform: \n",
    "Hz=Poly(np.flipud(h), z**(-1))\n",
    "Hz"
   ]
  },
  {
   "cell_type": "code",
   "execution_count": null,
   "metadata": {},
   "outputs": [],
   "source": [
    "# Expression Manipulation\n",
    "Hz_tf=factor(cancel(ratsimp(Hz)))\n",
    "Hz_tf"
   ]
  },
  {
   "cell_type": "code",
   "execution_count": null,
   "metadata": {},
   "outputs": [],
   "source": [
    "# Frequency Response\n",
    "#The desired omegas, 100 sample points of angle between 0 and pi:\n",
    "omega=np.linspace(0,np.pi, 100)"
   ]
  },
  {
   "cell_type": "code",
   "execution_count": null,
   "metadata": {},
   "outputs": [],
   "source": [
    "# Initialize freq. Resp. with complex zeros:\n",
    "H=np.zeros(len(omega))*1j"
   ]
  },
  {
   "cell_type": "code",
   "execution_count": null,
   "metadata": {},
   "outputs": [],
   "source": [
    "# Replace z by exp(-1j*omega) (we replace z^-1 in the argument):\n",
    "for k in range(len(omega)):\n",
    "    H[k]=Hz(np.exp(-1j*omega[k]))"
   ]
  },
  {
   "cell_type": "code",
   "execution_count": null,
   "metadata": {},
   "outputs": [],
   "source": [
    "# Magnitute Response\n",
    "from matplotlib.ticker import FuncFormatter, MultipleLocator\n",
    "fig = plt.figure()\n",
    "plt.plot(omega,abs(H))\n",
    "plt.xlabel('Normalized Frequency')\n",
    "plt.ylabel('Magnitude')\n",
    "plt.title('Magnitude Frequency Response')\n",
    "plt.grid()\n",
    "ax = plt.gca()\n",
    "ax.xaxis.set_major_formatter(FuncFormatter(\n",
    "   lambda val,pos: '{:.0g}$\\pi$'.format(val/np.pi) if val !=0 else '0'\n",
    "))\n",
    "ax.xaxis.set_major_locator(MultipleLocator(base=1))\n",
    "plotly_fig = tls.mpl_to_plotly(fig)\n",
    "plotly_fig.layout.update(title_text=\"Filter Output DFT\")\n",
    "plotly.offline.iplot(plotly_fig)"
   ]
  },
  {
   "cell_type": "code",
   "execution_count": null,
   "metadata": {},
   "outputs": [],
   "source": [
    "# The dB scale for the magnitude shows more detail in the stop band:\n",
    "plt.figure(figsize=(12,6))\n",
    "plt.subplot(1,2,1)\n",
    "plt.plot(omega,20*np.log10(np.abs(H)))\n",
    "plt.axis([0,3.14,-40,1])\n",
    "plt.xlabel('Normalized Frequency')\n",
    "plt.ylabel('Attenuation in dB')\n",
    "plt.title('Magnitude Frequency Response')\n",
    "ax = plt.gca()\n",
    "ax.xaxis.set_major_formatter(FuncFormatter(\n",
    "   lambda val,pos: '{:.0g}$\\pi$'.format(val/np.pi) if val !=0 else '0'\n",
    "))\n",
    "plt.grid()\n",
    "\n",
    "plt.subplot(1,2,2)\n",
    "plt.plot(omega,np.angle(H, deg=True))\n",
    "plt.xlabel('Normalized Frequency')\n",
    "plt.ylabel('Phase [degrees]')\n",
    "plt.title('Phase Frequency Response')\n",
    "ax = plt.gca()\n",
    "ax.xaxis.set_major_formatter(FuncFormatter(\n",
    "   lambda val,pos: '{:.0g}$\\pi$'.format(val/np.pi) if val !=0 else '0'\n",
    "))\n",
    "ax.xaxis.set_major_locator(MultipleLocator(base=1))\n",
    "plt.grid()"
   ]
  },
  {
   "cell_type": "markdown",
   "metadata": {},
   "source": [
    "#### Using 'freqz' Function"
   ]
  },
  {
   "cell_type": "markdown",
   "metadata": {},
   "source": [
    "“freqz” uses the zero padded signal h and applies a DFT to it. The zero padding is done to obtain the desired length, for the desired frequency resolution. By default it only computes the positive freuqencies.\n",
    "Here H is an array of the complex values of the frequency response, and omega is an array containing the normalized frequencies at which the frequency response was evaluated.\n",
    "\n",
    "We see that at frequency 0 the magnitude response has the magnitude 1, hence no attenuation (important for a low pass). At frequency $\\omega = \\pi$ it has magnitude 0, which is also suitable for a **low pass**. In between it behaves like a cosine does, it slowly reduces, so not really like a perfect low pass, which should have frequency response which looks more like brick shaped (1 at the entire passband, 0 at the entire stop band, ideally). So it is **far from** being a **perfect** low pass filter.\n",
    "\n",
    "We also have the phase of the frequency response. We see that it is linear function, which is particularly important for image processing. The phase is the angle of $H(\\omega)$.\n",
    "\n",
    "The vertical axis on a dB scale let us see the **small values of the stop band** better, which works for both power and voltage/current. <br>\n",
    "Observe: The dB numbers are using the input of the filter as a reference. Hence the dB number results from 20*log10 of output “voltage” over input “voltage”. \n",
    "\n",
    "Now also observe the **phase** plot. We see the phase response is $\\omega/2$, which is linear in with a slope of ½, which is why we have a **linear phase** in this case. Hence we also call our filter a **linear phase filter**."
   ]
  },
  {
   "cell_type": "code",
   "execution_count": null,
   "metadata": {},
   "outputs": [],
   "source": [
    "# Freqz \n",
    "omega, H = signal.freqz(h, worN=100)"
   ]
  },
  {
   "cell_type": "code",
   "execution_count": null,
   "metadata": {},
   "outputs": [],
   "source": [
    "fig=plt.figure(figsize=(12,6))\n",
    "plt.plot(omega,20*np.log10(np.abs(H)))\n",
    "plt.xlabel('Normalized Frequency')\n",
    "plt.ylabel('Magnitude')\n",
    "plt.title('Magnitude Frequency Response')\n",
    "plt.grid()\n",
    "ax.xaxis.set_major_locator(MultipleLocator(base=1))\n",
    "plotly_fig = tls.mpl_to_plotly(fig)\n",
    "plotly_fig.layout.update(title_text=\"Filter Output DFT\")\n",
    "plotly.offline.iplot(plotly_fig)"
   ]
  },
  {
   "cell_type": "markdown",
   "metadata": {},
   "source": [
    "#### Using Scipy Signal and Python Control Library"
   ]
  },
  {
   "cell_type": "code",
   "execution_count": null,
   "metadata": {},
   "outputs": [],
   "source": [
    "# Poles Zeros and Gain\n",
    "n,d=fraction(factor(cancel(ratsimp(Hz))))\n",
    "poles = np.array((Poly(d).all_roots())).astype(complex)\n",
    "zeros = np.array(Poly(n).all_roots()).astype(complex)\n",
    "gain = np.array(n.args[0]).astype(complex)"
   ]
  },
  {
   "cell_type": "code",
   "execution_count": null,
   "metadata": {},
   "outputs": [],
   "source": [
    "# Plot Poles and Zeros\n",
    "from  matplotlib import patches\n",
    "plt.figure(figsize=(10,6))\n",
    "ax = plt.subplot(111)\n",
    "r = 1.5; plt.axis('scaled'); plt.axis([-r, r, -r, r])\n",
    "ticks = [-1, -.5, .5, 1]; plt.xticks(ticks); plt.yticks(ticks)\n",
    "# Unit Circle\n",
    "uc = patches.Circle((0,0), radius=1, fill=False, color='black', ls='dashed')\n",
    "ax.add_patch(uc)\n",
    "ax.spines['left'].set_position('center')\n",
    "ax.spines['bottom'].set_position('center')\n",
    "ax.spines['right'].set_visible(False)\n",
    "ax.spines['top'].set_visible(False)\n",
    "# Plot Zeros\n",
    "t1 = plt.plot(zeros.real, zeros.imag, 'go', ms=10)\n",
    "plt.setp( t1, markersize=10.0, markeredgewidth=1.0, markeredgecolor='k', markerfacecolor='g')\n",
    "# Plot Poles\n",
    "t2 = plt.plot(poles.real, poles.imag, 'rx', ms=10)\n",
    "plt.setp( t2, markersize=12.0, markeredgewidth=3.0,markeredgecolor='r', markerfacecolor='r');"
   ]
  },
  {
   "cell_type": "code",
   "execution_count": null,
   "metadata": {},
   "outputs": [],
   "source": [
    "# Create System\n",
    "ZPK = signal.ZerosPolesGain(zeros,poles,gain,dt=T)"
   ]
  },
  {
   "cell_type": "code",
   "execution_count": null,
   "metadata": {},
   "outputs": [],
   "source": [
    "# Convert from Scipy to Control Library\n",
    "b,a=signal.zpk2tf(zeros, poles, gain)\n",
    "from control import pzmap, TransferFunction\n",
    "TF_Moving_Average=TransferFunction(b,a,T)"
   ]
  },
  {
   "cell_type": "code",
   "execution_count": null,
   "metadata": {},
   "outputs": [],
   "source": [
    "# Plot Pole Zero Map\n",
    "pzmap(TF_Moving_Average, Plot=True, grid=False, title='Pole Zero Map')"
   ]
  },
  {
   "cell_type": "code",
   "execution_count": null,
   "metadata": {},
   "outputs": [],
   "source": [
    "# Plot Bode Diagram\n",
    "w, mag, phase = signal.dbode(ZPK, n=100)\n",
    "plt.figure()\n",
    "plt.plot(w/Fs, mag)    # Bode magnitude plot\n",
    "plt.grid()\n",
    "plt.figure()\n",
    "plt.plot(w/Fs, phase)  # Bode phase plot\n",
    "plt.grid()\n",
    "plt.show()"
   ]
  },
  {
   "cell_type": "markdown",
   "metadata": {},
   "source": [
    "**Remark:** You need to be familiar with **dB computations**. You need to be able to answer e.g. following questions:\n",
    "\n",
    "- What is the definition of dB for voltage and for power?\n",
    "- What is the („voltage“) ratio of 0.1 in dB?\n",
    "- What is the (voltage) ratio of -20 dB?\n",
    "- What is the (voltage) ratio of 6 dB?\n",
    "- You have 2 systems in a row, the first with -6 dB attenuation, the next with -10 dB attenuation. What is the total atennuation?\n",
    "\n",
    "If you have trouble with one of the questions, look it up at Wikipedia or in literature."
   ]
  },
  {
   "cell_type": "markdown",
   "metadata": {},
   "source": [
    "## dB Revision"
   ]
  },
  {
   "cell_type": "markdown",
   "metadata": {},
   "source": [
    "### Input Signal"
   ]
  },
  {
   "cell_type": "code",
   "execution_count": null,
   "metadata": {},
   "outputs": [],
   "source": [
    "### Input Signals\n",
    "\n",
    "# Sine 50 Hz 2 Amplitude\n",
    "sine_50_2 = 2 * np.sin(2*np.pi*50*t)\n",
    "\n",
    "# Cosine 1000 Hz 10 Amplitude Phase 3*PI/2\n",
    "cos_2000_10 = 10 * np.cos(2*np.pi*2000*t)\n",
    "\n",
    "# Input Signal Sine + Cosine\n",
    "input_signal = sine_50_2 + cos_2000_10"
   ]
  },
  {
   "cell_type": "code",
   "execution_count": null,
   "metadata": {},
   "outputs": [],
   "source": [
    "plt.figure(figsize=(14,6))\n",
    "plt.subplot(1,2,1)\n",
    "plt.plot(t[:640],sine_50_2[:640], label='Sine')\n",
    "plt.plot(t[:640],cos_2000_10[:640], label='Cosine')\n",
    "plt.title('Input Signals')\n",
    "plt.xlabel('Time [s]')\n",
    "plt.ylabel('Amplitude')\n",
    "plt.grid()\n",
    "plt.subplot(1,2,2)\n",
    "plt.plot(t[:640],input_signal[:640], label='Input Signal')\n",
    "plt.title('Input Signal')\n",
    "plt.xlabel('Time [s]')\n",
    "plt.ylabel('Amplitude')\n",
    "plt.grid()"
   ]
  },
  {
   "cell_type": "code",
   "execution_count": null,
   "metadata": {},
   "outputs": [],
   "source": [
    "# DFT of Input Signal\n",
    "input_signal_fft = fft(input_signal, n=NFFT)\n",
    "input_signal_fft_mag_norm = np.abs(input_signal_fft)*(2/NFFT)\n",
    "input_signal_fft_phase = np.angle(input_signal_fft, deg=True)"
   ]
  },
  {
   "cell_type": "code",
   "execution_count": null,
   "metadata": {},
   "outputs": [],
   "source": [
    "# Plot DFT of Input\n",
    "fig = plt.figure(figsize=(12,6))\n",
    "plt.ylabel('Magnitude')\n",
    "plt.xlabel('Frequency [Hz]')\n",
    "plt.semilogx(freqs[0:NFFT//2],input_signal_fft_mag_norm[0:NFFT//2],'r')\n",
    "plt.grid()\n",
    "\n",
    "plotly_fig = tls.mpl_to_plotly(fig)\n",
    "plotly_fig.layout.update(title_text=\"Input Signal DFT\")\n",
    "plotly.offline.iplot(plotly_fig)"
   ]
  },
  {
   "cell_type": "code",
   "execution_count": null,
   "metadata": {},
   "outputs": [],
   "source": [
    "# Windowing\n",
    "flattop_win = signal.flattop(NFFT)\n",
    "input_signal_win = input_signal * flattop_win\n",
    "input_singnal_win_fft = fft(input_signal_win, n=NFFT)\n",
    "input_singnal_win_fft_mag_norm = np.abs(input_singnal_win_fft)*(2/NFFT)/(flattop_win.mean())\n",
    "input_singnal_win_fft_phase = np.angle(input_singnal_win_fft)"
   ]
  },
  {
   "cell_type": "code",
   "execution_count": null,
   "metadata": {},
   "outputs": [],
   "source": [
    "fig = plt.figure(figsize=(12,6))\n",
    "\n",
    "plt.subplot(1,2,1)\n",
    "plt.ylabel('Magnitude')\n",
    "plt.xlabel('Frequency [Hz]')\n",
    "plt.semilogx(freqs[0:NFFT//2],input_singnal_win_fft_mag_norm[0:NFFT//2],'r')\n",
    "plt.grid()\n",
    "\n",
    "plt.subplot(1,2,2)\n",
    "plt.ylabel('Magnitude [dB]')\n",
    "plt.xlabel('Frequency [Hz]')\n",
    "plt.semilogx(freqs[0:NFFT//2],20*np.log10(input_singnal_win_fft_mag_norm[0:NFFT//2]),'r')\n",
    "plt.grid()\n",
    "plt.ylim((-80,23))\n",
    "\n",
    "plotly_fig = tls.mpl_to_plotly(fig)\n",
    "plotly_fig.layout.update(title_text=\"WIndowed Input Signal DFT\")\n",
    "plotly.offline.iplot(plotly_fig)"
   ]
  },
  {
   "cell_type": "code",
   "execution_count": null,
   "metadata": {},
   "outputs": [],
   "source": [
    "#### dB \n",
    "from sympy import symbols, Eq\n",
    "V1, V2, dB_V, P1, P2, dB_P = symbols('V1 V2 dB_V P1 P2 dB_P', real=True)\n",
    "dB_V_Eq = Eq(dB_V,20*log(V2/V1,10))\n",
    "dB_P_Eq = Eq(dB_P,10*log(P2/P1,10))\n",
    "display(dB_V_Eq)\n",
    "display(dB_P_Eq)"
   ]
  },
  {
   "cell_type": "code",
   "execution_count": null,
   "metadata": {},
   "outputs": [],
   "source": [
    "display(N(dB_V_Eq.subs({V2:2,V1:1}),2))"
   ]
  },
  {
   "cell_type": "markdown",
   "metadata": {},
   "source": [
    "### Filters"
   ]
  },
  {
   "cell_type": "code",
   "execution_count": null,
   "metadata": {},
   "outputs": [],
   "source": [
    "# Filters\n",
    "[b,a] = signal.butter(2,200/(0.5*Fs))\n",
    "[b1,a1] = signal.butter(1,1000/(0.5*Fs),'high')\n",
    "w, h = signal.freqz(b, a,worN=NFFT, whole=True)\n",
    "w1, h1 = signal.freqz(b1, a1,worN=NFFT, whole=True)\n",
    "f = w*(0.5*Fs)/(np.pi)\n",
    "\n",
    "# Gain\n",
    "h*=10\n",
    "\n",
    "# Total h\n",
    "h_total = h* h1"
   ]
  },
  {
   "cell_type": "code",
   "execution_count": null,
   "metadata": {},
   "outputs": [],
   "source": [
    "# Plot Filters Frequency Response\n",
    "fig = plt.figure(figsize=(12,6))\n",
    "plt.xlabel('Frequency [Hz]')\n",
    "plt.ylabel('Magnitude [dB]')\n",
    "plt.semilogx(f[0:NFFT//2],20*np.log10(np.abs(h[0:NFFT//2])),label='LP Filter')\n",
    "plt.semilogx(f[0:NFFT//2],20*np.log10(np.abs(h1[0:NFFT//2])), label='HP Filter')\n",
    "plt.semilogx(f[0:NFFT//2], 20*np.log10(np.abs(h_total[0:NFFT//2])), label='Concatenated Filters')\n",
    "plt.semilogx(freqs[0:NFFT//2],20*np.log10(input_singnal_win_fft_mag_norm[0:NFFT//2]), label='Input Signal')\n",
    "plt.ylim(bottom=-80)\n",
    "plt.grid()\n",
    "\n",
    "plotly_fig = tls.mpl_to_plotly(fig)\n",
    "plotly_fig.layout.update(showlegend=True, title_text=\"Filters Frequency Response\")\n",
    "plotly.offline.iplot(plotly_fig)"
   ]
  },
  {
   "cell_type": "markdown",
   "metadata": {},
   "source": [
    "### Filter Output"
   ]
  },
  {
   "cell_type": "code",
   "execution_count": null,
   "metadata": {},
   "outputs": [],
   "source": [
    "# Filtering in the Frequency Domain\n",
    "y_fft = input_singnal_win_fft * h_total\n",
    "y_fft_mag_norm = np.abs(y_fft)*(2/NFFT)/(flattop_win.mean())\n",
    "y_fft_phase = np.angle(y_fft)"
   ]
  },
  {
   "cell_type": "code",
   "execution_count": null,
   "metadata": {},
   "outputs": [],
   "source": [
    "# Solve dB Equation for V2\n",
    "y_out_amp= solve(dB_V_Eq, V2)[0]\n",
    "y_out_amp"
   ]
  },
  {
   "cell_type": "code",
   "execution_count": null,
   "metadata": {},
   "outputs": [],
   "source": [
    "# Calculate new Amplitude after Filtering\n",
    "print('New Amplitude of 50 Hz Component:')\n",
    "display(y_out_amp.subs({V1:2,dB_V:-6.025}).evalf(4))\n",
    "print('New Amplitude of 2000 Hz Component:')\n",
    "display(y_out_amp.subs({V1:10,dB_V:-21.175}).evalf(4))"
   ]
  },
  {
   "cell_type": "code",
   "execution_count": null,
   "metadata": {},
   "outputs": [],
   "source": [
    "# Plot Filter Output\n",
    "fig = plt.figure(figsize=(12,6))\n",
    "plt.subplot(1,2,1)\n",
    "plt.title('Filter Output [dB]')\n",
    "plt.semilogx(freqs[0:NFFT//2],20*np.log10(y_fft_mag_norm[0:NFFT//2]))\n",
    "plt.xlabel('Frequency [Hz]')\n",
    "plt.ylabel('Magnitude [dB]')\n",
    "plt.grid()\n",
    "plt.ylim((-120,20))\n",
    "plt.subplot(1,2,2)\n",
    "plt.semilogx(freqs[0:NFFT//2],y_fft_mag_norm[0:NFFT//2])\n",
    "plt.title('Filter Output')\n",
    "plt.xlabel('Frequency [Hz]')\n",
    "plt.ylabel('Magnitude')\n",
    "plt.grid()\n",
    "\n",
    "plotly_fig = tls.mpl_to_plotly(fig)\n",
    "plotly_fig.layout.update(title_text=\"Filter Output DFT\")\n",
    "plotly.offline.iplot(plotly_fig)"
   ]
  },
  {
   "cell_type": "markdown",
   "metadata": {},
   "source": [
    "## Frequency Response"
   ]
  },
  {
   "cell_type": "markdown",
   "metadata": {},
   "source": [
    "\n",
    "\n",
    "\n"
   ]
  },
  {
   "cell_type": "markdown",
   "metadata": {},
   "source": [
    "### High Pass Example"
   ]
  },
  {
   "cell_type": "markdown",
   "metadata": {},
   "source": [
    "We can do the same analysis for the high pass filter with the impulse response \n",
    "$$h=[0.5, -0.5]$$\n",
    "In the same way as for the low pass, we obtain its magnitude of the frequency response in Python as"
   ]
  },
  {
   "cell_type": "code",
   "execution_count": null,
   "metadata": {},
   "outputs": [],
   "source": [
    "plt.figure(figsize=(12,6))\n",
    "h=[0.5, -0.5]\n",
    "omega, H=signal.freqz(h, worN=100)\n",
    "plt.plot(omega,20*np.log10(abs(H)))\n",
    "plt.axis([0,3.14,-40,2])\n",
    "plt.xlabel('Normalized Frequency')\n",
    "plt.ylabel('Attenuation in dB')\n",
    "plt.title('Magnitude Frequency Response')\n",
    "ax = plt.gca()\n",
    "ax.xaxis.set_major_formatter(FuncFormatter(\n",
    "   lambda val,pos: '{:.0g}$\\pi$'.format(val/np.pi) if val !=0 else '0'\n",
    "))\n",
    "plt.grid()"
   ]
  },
  {
   "cell_type": "code",
   "execution_count": null,
   "metadata": {},
   "outputs": [],
   "source": []
  }
 ],
 "metadata": {
  "kernelspec": {
   "display_name": "Python 3",
   "language": "python",
   "name": "python3"
  },
  "language_info": {
   "codemirror_mode": {
    "name": "ipython",
    "version": 3
   },
   "file_extension": ".py",
   "mimetype": "text/x-python",
   "name": "python",
   "nbconvert_exporter": "python",
   "pygments_lexer": "ipython3",
   "version": "3.6.7"
  }
 },
 "nbformat": 4,
 "nbformat_minor": 2
}
